{
  "cells": [
    {
      "cell_type": "markdown",
      "metadata": {},
      "source": [
        "**NOMBRE: QUISPE SUCULLANI JOSE DAVID**\n",
        "**CARRERA: ING CIENCIAS DE LA COMPUTACAION**\n",
        "**GITHUB:**"
      ]
    },
    {
      "cell_type": "code",
      "execution_count": 1,
      "metadata": {
        "colab": {
          "base_uri": "https://localhost:8080/"
        },
        "id": "4UVbnNDT26tu",
        "outputId": "17ba6d87-4749-40db-d316-080cff703fbc"
      },
      "outputs": [
        {
          "name": "stdout",
          "output_type": "stream",
          "text": [
            "Mounted at /content/drive\n"
          ]
        }
      ],
      "source": [
        "from google.colab import drive\n",
        "drive.mount('/content/drive')"
      ]
    },
    {
      "cell_type": "code",
      "execution_count": null,
      "metadata": {},
      "outputs": [],
      "source": [
        "# ===================================================================\n",
        "# PASO 1: INSTALAR LIBRERÍAS DE ÚLTIMA GENERACIÓN\n",
        "# ===================================================================\n",
        "!pip install transformers torch sentencepiece Pillow pandas -q\n",
        "\n",
        "import os\n",
        "import pandas as pd\n",
        "from datetime import datetime\n",
        "from tqdm import tqdm\n",
        "import csv\n",
        "from PIL import Image\n",
        "import re\n",
        "import torch\n",
        "from transformers import DonutProcessor, VisionEncoderDecoderModel\n",
        "from IPython.display import display"
      ]
    },
    {
      "cell_type": "code",
      "execution_count": null,
      "metadata": {},
      "outputs": [],
      "source": [
        "\n",
        "# Configurar dispositivo (muy recomendable usar GPU)\n",
        "device = \"cuda\" if torch.cuda.is_available() else \"cpu\"\n",
        "print(f\"✅ Dispositivo configurado: {device}\")\n",
        "print(f\"✅ Google Drive montado correctamente.\")"
      ]
    },
    {
      "cell_type": "code",
      "execution_count": null,
      "metadata": {},
      "outputs": [],
      "source": [
        "# ===================================================================\n",
        "# CONFIGURACIÓN CENTRALIZADA - ¡AJUSTA ESTAS RUTAS!\n",
        "# ===================================================================\n",
        "CONFIG = {\n",
        "    # 1. Ruta a tu CSV con las coordenadas. AHORA SOLO SE USA PARA OBTENER LA LISTA DE PREGUNTAS.\n",
        "    \"coordenadas_csv_path\": \"/content/drive/MyDrive/Inteligencia-Artificial_2/Proyecto-20250829T014112Z-1-001/Proyecto/MapaCoordenadas/Coordenadas.csv\",\n",
        "\n",
        "    # 2. Ruta a la CARPETA con TODAS las imágenes que quieres procesar.\n",
        "    \"carpeta_a_procesar\": \"/content/drive/MyDrive/Inteligencia-Artificial_2/Argentina-20250829T015557Z-1-001/Argentina\",\n",
        "\n",
        "    # 3. Ruta al CSV donde se guardarán los resultados finales.\n",
        "    \"output_csv_path\": \"/content/drive/MyDrive/resultados_finales_con_donut.csv\",\n",
        "}\n"
      ]
    },
    {
      "cell_type": "code",
      "execution_count": null,
      "metadata": {},
      "outputs": [],
      "source": [
        "# ===================================================================\n",
        "# 1. GESTIÓN DEL ARCHIVO CSV DE SALIDA\n",
        "# ===================================================================\n",
        "CSV_HEADERS = []\n",
        "\n",
        "def crear_csv_salida(headers):\n",
        "    global CSV_HEADERS\n",
        "    CSV_HEADERS = headers\n",
        "    with open(CONFIG[\"output_csv_path\"], mode='w', newline='', encoding='utf-8') as file:\n",
        "        writer = csv.writer(file)\n",
        "        writer.writerow(CSV_HEADERS)\n",
        "    print(f\"✅ Archivo CSV de resultados creado/limpiado en: {CONFIG['output_csv_path']}\")\n",
        "\n",
        "def guardar_en_csv(datos_acta):\n",
        "    with open(CONFIG[\"output_csv_path\"], mode='a', newline='', encoding='utf-8') as file:\n",
        "        writer = csv.DictWriter(file, fieldnames=CSV_HEADERS, extrasaction='ignore')\n",
        "        writer.writerow(datos_acta)\n"
      ]
    },
    {
      "cell_type": "code",
      "execution_count": null,
      "metadata": {},
      "outputs": [],
      "source": [
        "\n",
        "# ===================================================================\n",
        "# 2. PROCESADOR DE ACTAS (CON MOTOR DONUT)\n",
        "# ===================================================================\n",
        "class ProcesadorActasDonut:\n",
        "    def __init__(self, campos_a_extraer):\n",
        "        print(\"Iniciando motor Donut... (Esto puede tardar varios minutos la primera vez)\")\n",
        "        # Cargar el procesador y el modelo pre-entrenado de Hugging Face para Preguntas y Respuestas en Documentos\n",
        "        self.processor = DonutProcessor.from_pretrained(\"naver-clova-ix/donut-base-finetuned-docvqa\")\n",
        "        self.model = VisionEncoderDecoderModel.from_pretrained(\"naver-clova-ix/donut-base-finetuned-docvqa\").to(device)\n",
        "        self.campos = campos_a_extraer\n",
        "        print(f\"✅ Modelo Donut listo. Se harán {len(self.campos)} preguntas por acta.\")\n",
        "\n",
        "    def limpiar_respuesta(self, texto_crudo, campo):\n",
        "        \"\"\"Limpia la respuesta del modelo Donut.\"\"\"\n",
        "        if texto_crudo is None: return None\n",
        "        # Lógica de limpieza inteligente\n",
        "        tipo_de_dato = 'numero' if any(k in campo.upper() for k in ['VOTOS', 'ELECTORES', 'PAPELETAS', 'MESA']) else 'texto'\n",
        "        if tipo_de_dato == 'numero':\n",
        "            numeros = ''.join(filter(str.isdigit, texto_crudo))\n",
        "            try: return int(numeros) if numeros else None\n",
        "            except ValueError: return None\n",
        "        else:\n",
        "            return \" \".join(texto_crudo.split()).upper()\n",
        "\n",
        "    def procesar_acta_completa(self, imagen_path):\n",
        "        \"\"\"Abre una imagen y le hace preguntas al modelo Donut para cada campo.\"\"\"\n",
        "        try:\n",
        "            imagen = Image.open(imagen_path).convert(\"RGB\")\n",
        "        except Exception as e:\n",
        "            print(f\"❌ No se pudo abrir la imagen: {imagen_path}, error: {e}\")\n",
        "            return None\n",
        "\n",
        "        image_filename = os.path.basename(imagen_path)\n",
        "        departamento = os.path.basename(os.path.dirname(imagen_path))\n",
        "        resultados = {'departamento': departamento, 'imagen_path': imagen_path}\n",
        "        print(f\"\\n--- Interrogando al acta: {image_filename} ---\")\n",
        "\n",
        "        for campo in self.campos:\n",
        "            # Crear la \"pregunta\" para el modelo\n",
        "            task_prompt = f\"<s_docvqa><s_question>{campo}</s_question><s_answer>\"\n",
        "            decoder_input_ids = self.processor.tokenizer(task_prompt, add_special_tokens=False, return_tensors=\"pt\").input_ids.to(device)\n",
        "\n",
        "            # Procesar la imagen\n",
        "            pixel_values = self.processor(imagen, return_tensors=\"pt\").pixel_values.to(device)\n",
        "\n",
        "            # Generar la respuesta\n",
        "            outputs = self.model.generate(\n",
        "                pixel_values,\n",
        "                decoder_input_ids=decoder_input_ids,\n",
        "                max_length=self.model.decoder.config.max_position_embeddings,\n",
        "                pad_token_id=self.processor.tokenizer.pad_token_id,\n",
        "                eos_token_id=self.processor.tokenizer.eos_token_id,\n",
        "                use_cache=True,\n",
        "                bad_words_ids=[[self.processor.tokenizer.unk_token_id]],\n",
        "                return_dict_in_generate=True,\n",
        "            )\n",
        "\n",
        "            # Decodificar y limpiar la respuesta\n",
        "            respuesta_cruda = self.processor.batch_decode(outputs.sequences, skip_special_tokens=True)[0]\n",
        "            # Extraer solo el contenido de la respuesta\n",
        "            respuesta_contenido = re.sub(r\"<s_question>.*</s_question><s_answer>\", \"\", respuesta_cruda).strip()\n",
        "\n",
        "            valor_limpio = self.limpiar_respuesta(respuesta_contenido, campo)\n",
        "            resultados[campo] = valor_limpio\n",
        "            print(f\"   ❔ Pregunta: '{campo}' -> Respuesta: '{valor_limpio}'\")\n",
        "\n",
        "        guardar_en_csv(resultados)"
      ]
    },
    {
      "cell_type": "code",
      "execution_count": null,
      "metadata": {
        "colab": {
          "base_uri": "https://localhost:8080/",
          "height": 1000,
          "referenced_widgets": [
            "1ac788f0f88446b193d29562703a4f99",
            "c2651cabc51748beb51e8e7645b49b17",
            "e08894588f0c45ba8d0baacf46564153",
            "28e3034f7326473e88e82e3576992892",
            "4458d8a18a4c46b3b1f54180caf4e687",
            "3dc1eb510a6b4491a7d837829f27a390",
            "379c994cc2a941a1b90aa64195a47b6d",
            "fb76c397462f4091836c2887c66d6e1e",
            "6d298eeed7c149938faa48888661af68",
            "be10f1ebc21e47988accc376e23c7fd9",
            "8a4737a8b9b74c0996174ce419212579",
            "c62f0362c3594f6e80b422994b919dee",
            "db53429a80d946c7b23ed19767b4762c",
            "00697fde30aa45b9bc45397e5175da6e",
            "8de2be3cd9b148baa3c88ca30cc62714",
            "ec78d4f63aee4e7ca3db0a28314b417c",
            "fc22a30ba9d44e5bb283cbd3ec382b4f",
            "6c0bca2d6f9344aaa25961d89bf2916c",
            "48ee479218884546b2771311dd538556",
            "eaf86d65632f4e8e83c142252512b67e",
            "a23778b55b654540aa7ee9933cd7d1e7",
            "a65b4448d9c64f35bf23ed13bc664ff9",
            "6548df6e7a2047dc8e0f355a6a54afa2",
            "c54e7e541fbc408fb6bc00533a09b703",
            "87f038adb12b462c8e4e1a25152d83d7",
            "ab978b541a964e38a635ff56379e0220",
            "8c2a30187b7a48ea98924ab2f9f9ad11",
            "e9fe1f3b400744e7a6a1b8c03e085243",
            "96ac8458490f4baeb4a375b77a530b2a",
            "789dca0374f341299154fad164b233e7",
            "0710c12b4e2d4e59a0de8569872525b1",
            "61e5b38c784f4ad981420580a4d7c3bc",
            "fcef34dfda1d4982b7a4ac8435f590bb",
            "eb0cba8ec2164787856e85c140449b40",
            "667b966b03b842fab3693abc4161e884",
            "f5d0ac4631344b039b2a56e57baf87d9",
            "c972b00471b7476eb4f8b6ae1853e39c",
            "5aa84a96d6d14fd59baa555e863835a0",
            "e47430e8dd79466db5eb61b06ac3f35f",
            "dd28c9c5319647b5b1e2efe1ca79f41b",
            "7d740f85048d4879a5823ac6a162acc6",
            "d9702620e9cb4bc58e5785807a2cf5d5",
            "340f374b60e8437ea6b8fbd330a1d519",
            "208edfff541944cb9dff9e5e1dda3ad8",
            "a2bf550d94d94eb9bdb0d03362c68a94",
            "0581f3c2c1b3413aa91966b791b79257",
            "2deec5ba97f940528fed58d09562baf6",
            "afea3db593a84950b35bdbd72b900a21",
            "ba91db2a1381471e8bdececfbe69d375",
            "214cb86429a54adbaaa663f1b170008b",
            "6e4367fd86364ce184a6bcd26ce566f4",
            "9bab741ce096488897dc0d8433818cb6",
            "80f053a0df4840848b0c25c23cda4805",
            "89a1e015e53f40f2902d7b0b7bf27db0",
            "df25ab72c4894ca7ac41b3efd88fdf01",
            "cdbb15f092b64b64bcbec28318098070",
            "64a08baec9ec4238b1bce8621f4287bd",
            "93d8d10b5b5f4b159186670aeb4f2783",
            "05776d902b16490981d381bc2cb346d8",
            "ae5830553ceb4ad58748fe61bb8b7c8a",
            "f40681779c864355943605cb49f227b1",
            "660ff25f845543f2a644bc4c778eab52",
            "cba66a5b5b5747aab9c274ca3f61b4f8",
            "49c03efbc51c48d4935a4fb2ba8ff1d0",
            "92beb8964da448d396fc9fe637036891",
            "152af621742d41c8931ea62db6429017",
            "17e3218ed803446688c06f5705133c52",
            "cce501bdefff450495d1f3aa84ec41e6",
            "1b78b2064174474d88b12ce9a59f486b",
            "d7ee02c42dec4a328fe04879a5518ce9",
            "e4bc1728e7864c5fbdf4f6e535cea24c",
            "dbb3151e04f941879fc770e3632fdafe",
            "ebf00e4d4ad748cbb58bc047952dbb58",
            "20efe0af3e24490e9ff3a6067cc21f72",
            "96281af440fa4ff888d6a7eb78181cd3",
            "56af389f4bd2415db3ed51c2b2b7d90f",
            "3e8602162e3f4a0ba7e7dc7a537ea267",
            "dc8e90fe551248e39ecaa3c64b1355b3",
            "fdeab30f654640b0adbccc86f9f7c291",
            "e95a616f0c63446ebfc1789293fda293",
            "918c83cf0b794495b6a874ef6f73f236",
            "f6ebc7de6e0a412d95189f4b8df0641f",
            "474a9f81c5be4116b55c37bcd55fa8d6",
            "2e483278248b43fcabb75ade6e288579",
            "4a323ffb27c2496297094efabb8dfee9",
            "d88d56a2232f4466bc747d76487e2099",
            "86bab223e7144d75aa8c75bde057c854",
            "5209db353c0b4af9a237ffa2f6518729",
            "ba8802cd64e04ec3bbec1895a4147b1d",
            "20d11363c19f40fa8edf0a3e2a7d1b66",
            "6cda3030c89b42e0a71e4271ceb1ec0b",
            "8151f80145c44d93adc506cab36056f8",
            "b14dc98d79824755960b13aa37feae82",
            "618ebce5ea2848a0a277020cdb8313fe",
            "710b63857c2e4381a975ba08f2f02a40",
            "99524e58c9024095b527898480bacddf",
            "604bbd95527748c58f0e5d3dfffc03bc",
            "5c08d052de1246bc8935755a940bc637",
            "c09fd56163d24fc8b3f474014d9e88e7"
          ]
        },
        "id": "vBQSfaWOfjkU",
        "outputId": "10b32ae1-ba73-4b61-a4cf-25e8a5cc0348"
      },
      "outputs": [
        {
          "name": "stdout",
          "output_type": "stream",
          "text": [
            "Drive already mounted at /content/drive; to attempt to forcibly remount, call drive.mount(\"/content/drive\", force_remount=True).\n",
            "✅ Dispositivo configurado: cuda\n",
            "✅ Google Drive montado correctamente.\n",
            "\n",
            "============================================================\n",
            "✨ INICIANDO PROCESO CON IA DE COMPRENSIÓN DE DOCUMENTOS (DONUT)\n",
            "============================================================\n",
            "✅ Lista de 17 preguntas cargada desde: /content/drive/MyDrive/Inteligencia-Artificial_2/Proyecto-20250829T014112Z-1-001/Proyecto/MapaCoordenadas/Coordenadas.csv\n",
            "✅ Se encontraron 545 actas para procesar.\n",
            "✅ Archivo CSV de resultados creado/limpiado en: /content/drive/MyDrive/resultados_finales_con_donut.csv\n",
            "Iniciando motor Donut... (Esto puede tardar varios minutos la primera vez)\n"
          ]
        },
        {
          "data": {
            "application/vnd.jupyter.widget-view+json": {
              "model_id": "1ac788f0f88446b193d29562703a4f99",
              "version_major": 2,
              "version_minor": 0
            },
            "text/plain": [
              "preprocessor_config.json:   0%|          | 0.00/359 [00:00<?, ?B/s]"
            ]
          },
          "metadata": {},
          "output_type": "display_data"
        },
        {
          "name": "stderr",
          "output_type": "stream",
          "text": [
            "Using a slow image processor as `use_fast` is unset and a slow processor was saved with this model. `use_fast=True` will be the default behavior in v4.52, even if the model was saved with a slow processor. This will result in minor differences in outputs. You'll still be able to use a slow processor with `use_fast=False`.\n"
          ]
        },
        {
          "data": {
            "application/vnd.jupyter.widget-view+json": {
              "model_id": "c62f0362c3594f6e80b422994b919dee",
              "version_major": 2,
              "version_minor": 0
            },
            "text/plain": [
              "tokenizer_config.json:   0%|          | 0.00/535 [00:00<?, ?B/s]"
            ]
          },
          "metadata": {},
          "output_type": "display_data"
        },
        {
          "data": {
            "application/vnd.jupyter.widget-view+json": {
              "model_id": "6548df6e7a2047dc8e0f355a6a54afa2",
              "version_major": 2,
              "version_minor": 0
            },
            "text/plain": [
              "sentencepiece.bpe.model:   0%|          | 0.00/1.30M [00:00<?, ?B/s]"
            ]
          },
          "metadata": {},
          "output_type": "display_data"
        },
        {
          "data": {
            "application/vnd.jupyter.widget-view+json": {
              "model_id": "eb0cba8ec2164787856e85c140449b40",
              "version_major": 2,
              "version_minor": 0
            },
            "text/plain": [
              "tokenizer.json: 0.00B [00:00, ?B/s]"
            ]
          },
          "metadata": {},
          "output_type": "display_data"
        },
        {
          "data": {
            "application/vnd.jupyter.widget-view+json": {
              "model_id": "a2bf550d94d94eb9bdb0d03362c68a94",
              "version_major": 2,
              "version_minor": 0
            },
            "text/plain": [
              "added_tokens.json:   0%|          | 0.00/229 [00:00<?, ?B/s]"
            ]
          },
          "metadata": {},
          "output_type": "display_data"
        },
        {
          "data": {
            "application/vnd.jupyter.widget-view+json": {
              "model_id": "cdbb15f092b64b64bcbec28318098070",
              "version_major": 2,
              "version_minor": 0
            },
            "text/plain": [
              "special_tokens_map.json:   0%|          | 0.00/478 [00:00<?, ?B/s]"
            ]
          },
          "metadata": {},
          "output_type": "display_data"
        },
        {
          "data": {
            "application/vnd.jupyter.widget-view+json": {
              "model_id": "17e3218ed803446688c06f5705133c52",
              "version_major": 2,
              "version_minor": 0
            },
            "text/plain": [
              "config.json: 0.00B [00:00, ?B/s]"
            ]
          },
          "metadata": {},
          "output_type": "display_data"
        },
        {
          "data": {
            "application/vnd.jupyter.widget-view+json": {
              "model_id": "dc8e90fe551248e39ecaa3c64b1355b3",
              "version_major": 2,
              "version_minor": 0
            },
            "text/plain": [
              "pytorch_model.bin:   0%|          | 0.00/803M [00:00<?, ?B/s]"
            ]
          },
          "metadata": {},
          "output_type": "display_data"
        },
        {
          "data": {
            "application/vnd.jupyter.widget-view+json": {
              "model_id": "ba8802cd64e04ec3bbec1895a4147b1d",
              "version_major": 2,
              "version_minor": 0
            },
            "text/plain": [
              "model.safetensors:   0%|          | 0.00/803M [00:00<?, ?B/s]"
            ]
          },
          "metadata": {},
          "output_type": "display_data"
        },
        {
          "name": "stdout",
          "output_type": "stream",
          "text": [
            "✅ Modelo Donut listo. Se harán 17 preguntas por acta.\n"
          ]
        },
        {
          "name": "stderr",
          "output_type": "stream",
          "text": [
            "\n",
            "Procesando Actas con Donut:   0%|          | 0/545 [00:00<?, ?it/s]\u001b[A"
          ]
        },
        {
          "name": "stdout",
          "output_type": "stream",
          "text": [
            "\n",
            "--- Interrogando al acta: mesa_2_104954.jpg ---\n",
            "   ❔ Pregunta: 'AP' -> Respuesta: 'AP MESA: 2'\n",
            "   ❔ Pregunta: 'APB SÚMATE' -> Respuesta: 'APB SÚMATE MESA 2'\n",
            "   ❔ Pregunta: 'CODIGO MESA' -> Respuesta: '3'\n",
            "   ❔ Pregunta: 'ELECTORES HABILITADOS' -> Respuesta: '3'\n",
            "   ❔ Pregunta: 'FP' -> Respuesta: 'FP A3'\n",
            "   ❔ Pregunta: 'LIBRE' -> Respuesta: 'LIBRE MESA: 2'\n",
            "   ❔ Pregunta: 'LYP ADN' -> Respuesta: 'LYP ADN MESA: 2'\n",
            "   ❔ Pregunta: 'MAS-IPSP' -> Respuesta: 'MAS-IPSP MORALE'\n",
            "   ❔ Pregunta: 'MESA' -> Respuesta: '2'\n",
            "   ❔ Pregunta: 'MORENA' -> Respuesta: 'MORENA 830'\n",
            "   ❔ Pregunta: 'PAPELETAS EN ÁNFORA' -> Respuesta: '10495'\n",
            "   ❔ Pregunta: 'PAPELETAS NO UTILIZADAS' -> Respuesta: '830'\n",
            "   ❔ Pregunta: 'PDC' -> Respuesta: 'PDC 825'\n",
            "   ❔ Pregunta: 'UNIDAD' -> Respuesta: 'UNIDAD MESA: 2'\n",
            "   ❔ Pregunta: 'VOTOS BLANCOS' -> Respuesta: '10'\n",
            "   ❔ Pregunta: 'VOTOS NULOS' -> Respuesta: '825'\n"
          ]
        },
        {
          "name": "stderr",
          "output_type": "stream",
          "text": [
            "\n",
            "Procesando Actas con Donut:   0%|          | 1/545 [00:28<4:20:40, 28.75s/it]\u001b[A"
          ]
        },
        {
          "name": "stdout",
          "output_type": "stream",
          "text": [
            "   ❔ Pregunta: 'VOTOS VÁLIDOS' -> Respuesta: '825'\n",
            "\n",
            "--- Interrogando al acta: mesa_1_104944.jpg ---\n",
            "   ❔ Pregunta: 'AP' -> Respuesta: 'AP 0 1 9'\n",
            "   ❔ Pregunta: 'APB SÚMATE' -> Respuesta: 'APB SÚMATE MOSA:1'\n",
            "   ❔ Pregunta: 'CODIGO MESA' -> Respuesta: '9'\n",
            "   ❔ Pregunta: 'ELECTORES HABILITADOS' -> Respuesta: '3'\n",
            "   ❔ Pregunta: 'FP' -> Respuesta: 'FP 0.9'\n",
            "   ❔ Pregunta: 'LIBRE' -> Respuesta: 'LIBRE 0.9'\n",
            "   ❔ Pregunta: 'LYP ADN' -> Respuesta: 'LYP ADN APB SUMATE'\n",
            "   ❔ Pregunta: 'MAS-IPSP' -> Respuesta: 'MAS-IPSP 0.001'\n",
            "   ❔ Pregunta: 'MESA' -> Respuesta: '9'\n",
            "   ❔ Pregunta: 'MORENA' -> Respuesta: 'MORENA 0.9'\n",
            "   ❔ Pregunta: 'PAPELETAS EN ÁNFORA' -> Respuesta: '97'\n",
            "   ❔ Pregunta: 'PAPELETAS NO UTILIZADAS' -> Respuesta: '9'\n",
            "   ❔ Pregunta: 'PDC' -> Respuesta: 'PDC 019'\n",
            "   ❔ Pregunta: 'UNIDAD' -> Respuesta: 'UNIDAD 006'\n",
            "   ❔ Pregunta: 'VOTOS BLANCOS' -> Respuesta: '94'\n",
            "   ❔ Pregunta: 'VOTOS NULOS' -> Respuesta: '97'\n"
          ]
        },
        {
          "name": "stderr",
          "output_type": "stream",
          "text": [
            "\n",
            "Procesando Actas con Donut:   0%|          | 2/545 [00:53<3:59:10, 26.43s/it]\u001b[A"
          ]
        },
        {
          "name": "stdout",
          "output_type": "stream",
          "text": [
            "   ❔ Pregunta: 'VOTOS VÁLIDOS' -> Respuesta: '69'\n",
            "\n",
            "--- Interrogando al acta: mesa_1_104814.jpg ---\n",
            "   ❔ Pregunta: 'AP' -> Respuesta: 'AP 0.10'\n",
            "   ❔ Pregunta: 'APB SÚMATE' -> Respuesta: 'APB SÚMATE 002'\n",
            "   ❔ Pregunta: 'CODIGO MESA' -> Respuesta: '1'\n",
            "   ❔ Pregunta: 'ELECTORES HABILITADOS' -> Respuesta: '3'\n",
            "   ❔ Pregunta: 'FP' -> Respuesta: 'FP 0.2'\n",
            "   ❔ Pregunta: 'LIBRE' -> Respuesta: 'LIBRE 0.29'\n",
            "   ❔ Pregunta: 'LYP ADN' -> Respuesta: 'LYP ADN 0.10'\n",
            "   ❔ Pregunta: 'MAS-IPSP' -> Respuesta: 'MAS-IPSP 0.2'\n",
            "   ❔ Pregunta: 'MESA' -> Respuesta: '1'\n",
            "   ❔ Pregunta: 'MORENA' -> Respuesta: 'MORENA 100'\n",
            "   ❔ Pregunta: 'PAPELETAS EN ÁNFORA' -> Respuesta: '21'\n",
            "   ❔ Pregunta: 'PAPELETAS NO UTILIZADAS' -> Respuesta: '2'\n",
            "   ❔ Pregunta: 'PDC' -> Respuesta: 'PDC 0.21'\n",
            "   ❔ Pregunta: 'UNIDAD' -> Respuesta: 'UNIDAD 0.21'\n",
            "   ❔ Pregunta: 'VOTOS BLANCOS' -> Respuesta: '45'\n",
            "   ❔ Pregunta: 'VOTOS NULOS' -> Respuesta: '41'\n"
          ]
        },
        {
          "name": "stderr",
          "output_type": "stream",
          "text": [
            "\n",
            "Procesando Actas con Donut:   1%|          | 3/545 [01:18<3:52:51, 25.78s/it]\u001b[A"
          ]
        },
        {
          "name": "stdout",
          "output_type": "stream",
          "text": [
            "   ❔ Pregunta: 'VOTOS VÁLIDOS' -> Respuesta: '103'\n",
            "\n",
            "--- Interrogando al acta: mesa_8_104884.jpg ---\n",
            "   ❔ Pregunta: 'AP' -> Respuesta: 'AP 002'\n",
            "   ❔ Pregunta: 'APB SÚMATE' -> Respuesta: 'APB SÚMATE 007'\n",
            "   ❔ Pregunta: 'CODIGO MESA' -> Respuesta: '8'\n",
            "   ❔ Pregunta: 'ELECTORES HABILITADOS' -> Respuesta: '3'\n",
            "   ❔ Pregunta: 'FP' -> Respuesta: 'FP 0900'\n",
            "   ❔ Pregunta: 'LIBRE' -> Respuesta: 'LIBRE 0.24'\n",
            "   ❔ Pregunta: 'LYP ADN' -> Respuesta: 'LYP ADN APB SOMATE'\n",
            "   ❔ Pregunta: 'MAS-IPSP' -> Respuesta: 'MAS-IPSP 000'\n",
            "   ❔ Pregunta: 'MESA' -> Respuesta: '8'\n",
            "   ❔ Pregunta: 'MORENA' -> Respuesta: 'MORENA 0.38'\n",
            "   ❔ Pregunta: 'PAPELETAS EN ÁNFORA' -> Respuesta: '38'\n",
            "   ❔ Pregunta: 'PAPELETAS NO UTILIZADAS' -> Respuesta: '20'\n",
            "   ❔ Pregunta: 'PDC' -> Respuesta: 'PDC 003'\n",
            "   ❔ Pregunta: 'UNIDAD' -> Respuesta: 'UNIDAD 002'\n",
            "   ❔ Pregunta: 'VOTOS BLANCOS' -> Respuesta: '0'\n",
            "   ❔ Pregunta: 'VOTOS NULOS' -> Respuesta: '4'\n"
          ]
        },
        {
          "name": "stderr",
          "output_type": "stream",
          "text": [
            "\n",
            "Procesando Actas con Donut:   1%|          | 4/545 [01:43<3:50:33, 25.57s/it]\u001b[A"
          ]
        },
        {
          "name": "stdout",
          "output_type": "stream",
          "text": [
            "   ❔ Pregunta: 'VOTOS VÁLIDOS' -> Respuesta: '14'\n",
            "\n",
            "--- Interrogando al acta: mesa_4_104844.jpg ---\n",
            "   ❔ Pregunta: 'AP' -> Respuesta: 'AP 0.84'\n",
            "   ❔ Pregunta: 'APB SÚMATE' -> Respuesta: 'APB SÚMATE 0930'\n",
            "   ❔ Pregunta: 'CODIGO MESA' -> Respuesta: '4'\n",
            "   ❔ Pregunta: 'ELECTORES HABILITADOS' -> Respuesta: '3'\n",
            "   ❔ Pregunta: 'FP' -> Respuesta: 'FP 0.84'\n",
            "   ❔ Pregunta: 'LIBRE' -> Respuesta: 'LIBRE A3'\n",
            "   ❔ Pregunta: 'LYP ADN' -> Respuesta: 'LYP ADN MESA 4'\n",
            "   ❔ Pregunta: 'MAS-IPSP' -> Respuesta: 'MAS-IPSP 0.84'\n",
            "   ❔ Pregunta: 'MESA' -> Respuesta: '4'\n",
            "   ❔ Pregunta: 'MORENA' -> Respuesta: 'MORENA 04'\n",
            "   ❔ Pregunta: 'PAPELETAS EN ÁNFORA' -> Respuesta: '45'\n",
            "   ❔ Pregunta: 'PAPELETAS NO UTILIZADAS' -> Respuesta: '84'\n",
            "   ❔ Pregunta: 'PDC' -> Respuesta: 'PDC 04'\n",
            "   ❔ Pregunta: 'UNIDAD' -> Respuesta: 'UNIDAD 04'\n",
            "   ❔ Pregunta: 'VOTOS BLANCOS' -> Respuesta: '84'\n",
            "   ❔ Pregunta: 'VOTOS NULOS' -> Respuesta: '84'\n"
          ]
        },
        {
          "name": "stderr",
          "output_type": "stream",
          "text": [
            "\n",
            "Procesando Actas con Donut:   1%|          | 5/545 [02:09<3:49:02, 25.45s/it]\u001b[A"
          ]
        },
        {
          "name": "stdout",
          "output_type": "stream",
          "text": [
            "   ❔ Pregunta: 'VOTOS VÁLIDOS' -> Respuesta: '84'\n",
            "\n",
            "--- Interrogando al acta: mesa_3_104834.jpg ---\n",
            "   ❔ Pregunta: 'AP' -> Respuesta: 'AP 500'\n",
            "   ❔ Pregunta: 'APB SÚMATE' -> Respuesta: 'APB SÚMATE NOV 580'\n",
            "   ❔ Pregunta: 'CODIGO MESA' -> Respuesta: '790'\n",
            "   ❔ Pregunta: 'ELECTORES HABILITADOS' -> Respuesta: 'None'\n",
            "   ❔ Pregunta: 'FP' -> Respuesta: 'FP APRIL 7'\n",
            "   ❔ Pregunta: 'LIBRE' -> Respuesta: 'LIBRE EVOLUTION'\n",
            "   ❔ Pregunta: 'LYP ADN' -> Respuesta: 'LYP ADN TVENTRY'\n",
            "   ❔ Pregunta: 'MAS-IPSP' -> Respuesta: 'MAS-IPSP WWW.GOV'\n",
            "   ❔ Pregunta: 'MESA' -> Respuesta: 'None'\n",
            "   ❔ Pregunta: 'MORENA' -> Respuesta: 'MORENA 800'\n",
            "   ❔ Pregunta: 'PAPELETAS EN ÁNFORA' -> Respuesta: '0'\n",
            "   ❔ Pregunta: 'PAPELETAS NO UTILIZADAS' -> Respuesta: '800'\n",
            "   ❔ Pregunta: 'PDC' -> Respuesta: 'PDC 00'\n",
            "   ❔ Pregunta: 'UNIDAD' -> Respuesta: 'UNIDAD VADO'\n",
            "   ❔ Pregunta: 'VOTOS BLANCOS' -> Respuesta: 'None'\n",
            "   ❔ Pregunta: 'VOTOS NULOS' -> Respuesta: '0'\n"
          ]
        },
        {
          "name": "stderr",
          "output_type": "stream",
          "text": [
            "\n",
            "Procesando Actas con Donut:   1%|          | 6/545 [02:34<3:48:33, 25.44s/it]\u001b[A"
          ]
        },
        {
          "name": "stdout",
          "output_type": "stream",
          "text": [
            "   ❔ Pregunta: 'VOTOS VÁLIDOS' -> Respuesta: 'None'\n",
            "\n",
            "--- Interrogando al acta: mesa_6_104864.jpg ---\n",
            "   ❔ Pregunta: 'AP' -> Respuesta: 'AP 020'\n",
            "   ❔ Pregunta: 'APB SÚMATE' -> Respuesta: 'APB SÚMATE APRIL 4'\n",
            "   ❔ Pregunta: 'CODIGO MESA' -> Respuesta: 'None'\n",
            "   ❔ Pregunta: 'ELECTORES HABILITADOS' -> Respuesta: '3'\n",
            "   ❔ Pregunta: 'FP' -> Respuesta: 'FP 007'\n",
            "   ❔ Pregunta: 'LIBRE' -> Respuesta: 'LIBRE 0.14'\n",
            "   ❔ Pregunta: 'LYP ADN' -> Respuesta: 'LYP ADN APS COMATE'\n",
            "   ❔ Pregunta: 'MAS-IPSP' -> Respuesta: 'MAS-IPSP 0.94'\n",
            "   ❔ Pregunta: 'MESA' -> Respuesta: '6'\n",
            "   ❔ Pregunta: 'MORENA' -> Respuesta: 'MORENA 13.00'\n",
            "   ❔ Pregunta: 'PAPELETAS EN ÁNFORA' -> Respuesta: '45'\n",
            "   ❔ Pregunta: 'PAPELETAS NO UTILIZADAS' -> Respuesta: '45'\n",
            "   ❔ Pregunta: 'PDC' -> Respuesta: 'PDC 0.49'\n",
            "   ❔ Pregunta: 'UNIDAD' -> Respuesta: 'UNIDAD 008'\n",
            "   ❔ Pregunta: 'VOTOS BLANCOS' -> Respuesta: '34'\n",
            "   ❔ Pregunta: 'VOTOS NULOS' -> Respuesta: '37'\n"
          ]
        },
        {
          "name": "stderr",
          "output_type": "stream",
          "text": [
            "\n",
            "Procesando Actas con Donut:   1%|▏         | 7/545 [02:59<3:47:54, 25.42s/it]\u001b[A"
          ]
        },
        {
          "name": "stdout",
          "output_type": "stream",
          "text": [
            "   ❔ Pregunta: 'VOTOS VÁLIDOS' -> Respuesta: '34'\n",
            "\n",
            "--- Interrogando al acta: mesa_5_104854.jpg ---\n",
            "   ❔ Pregunta: 'AP' -> Respuesta: 'AP A3'\n",
            "   ❔ Pregunta: 'APB SÚMATE' -> Respuesta: 'APB SÚMATE 0.68'\n",
            "   ❔ Pregunta: 'CODIGO MESA' -> Respuesta: '915'\n",
            "   ❔ Pregunta: 'ELECTORES HABILITADOS' -> Respuesta: '3'\n",
            "   ❔ Pregunta: 'FP' -> Respuesta: 'FP 0EP'\n",
            "   ❔ Pregunta: 'LIBRE' -> Respuesta: 'LIBRE OEP'\n",
            "   ❔ Pregunta: 'LYP ADN' -> Respuesta: 'LYP ADN OEP'\n",
            "   ❔ Pregunta: 'MAS-IPSP' -> Respuesta: 'MAS-IPSP 0.64'\n",
            "   ❔ Pregunta: 'MESA' -> Respuesta: '915'\n",
            "   ❔ Pregunta: 'MORENA' -> Respuesta: 'MORENA 480'\n",
            "   ❔ Pregunta: 'PAPELETAS EN ÁNFORA' -> Respuesta: '64'\n",
            "   ❔ Pregunta: 'PAPELETAS NO UTILIZADAS' -> Respuesta: '64'\n",
            "   ❔ Pregunta: 'PDC' -> Respuesta: 'PDC 0.68'\n",
            "   ❔ Pregunta: 'UNIDAD' -> Respuesta: 'UNIDAD MESA'\n",
            "   ❔ Pregunta: 'VOTOS BLANCOS' -> Respuesta: '14'\n",
            "   ❔ Pregunta: 'VOTOS NULOS' -> Respuesta: '64'\n"
          ]
        },
        {
          "name": "stderr",
          "output_type": "stream",
          "text": [
            "\n",
            "Procesando Actas con Donut:   1%|▏         | 8/545 [03:25<3:47:54, 25.46s/it]\u001b[A"
          ]
        },
        {
          "name": "stdout",
          "output_type": "stream",
          "text": [
            "   ❔ Pregunta: 'VOTOS VÁLIDOS' -> Respuesta: '64'\n",
            "\n",
            "--- Interrogando al acta: mesa_7_104874.jpg ---\n",
            "   ❔ Pregunta: 'AP' -> Respuesta: 'AP 0 5'\n",
            "   ❔ Pregunta: 'APB SÚMATE' -> Respuesta: 'APB SÚMATE 0816'\n",
            "   ❔ Pregunta: 'CODIGO MESA' -> Respuesta: '7'\n",
            "   ❔ Pregunta: 'ELECTORES HABILITADOS' -> Respuesta: '3'\n",
            "   ❔ Pregunta: 'FP' -> Respuesta: 'FP 004'\n",
            "   ❔ Pregunta: 'LIBRE' -> Respuesta: 'LIBRE 0 1'\n",
            "   ❔ Pregunta: 'LYP ADN' -> Respuesta: 'LYP ADN 0816'\n",
            "   ❔ Pregunta: 'MAS-IPSP' -> Respuesta: 'MAS-IPSP 0 0 0 0 0 0 0 0 0 0 0 0 0 0 0 0 0 0 0 0 0 0 0 0 0 0 0 0 0 0 0 0 0 0 0 0 0 0 0 0 0 0 0 0 0 0 0 0 0 0 0 0 0 0 0 0 0 0 0 0 0 0 0 0 0 0 0 0 0 0 0 0 0 0 0 0 0 0 0 0 0 0 0 0 0 0 0 0 0 0 0 0 0 0 0 0 0 0 0 0 0 0 0 0 0 0 0 0 0 0 0 0 0 0 0 0 0 0 0'\n",
            "   ❔ Pregunta: 'MESA' -> Respuesta: '7'\n",
            "   ❔ Pregunta: 'MORENA' -> Respuesta: 'MORENA 0816'\n",
            "   ❔ Pregunta: 'PAPELETAS EN ÁNFORA' -> Respuesta: '816'\n",
            "   ❔ Pregunta: 'PAPELETAS NO UTILIZADAS' -> Respuesta: '816'\n",
            "   ❔ Pregunta: 'PDC' -> Respuesta: 'PDC 012'\n",
            "   ❔ Pregunta: 'UNIDAD' -> Respuesta: 'UNIDAD 0 1'\n",
            "   ❔ Pregunta: 'VOTOS BLANCOS' -> Respuesta: '76'\n",
            "   ❔ Pregunta: 'VOTOS NULOS' -> Respuesta: '50'\n"
          ]
        },
        {
          "name": "stderr",
          "output_type": "stream",
          "text": [
            "\n",
            "Procesando Actas con Donut:   2%|▏         | 9/545 [03:51<3:50:02, 25.75s/it]\u001b[A"
          ]
        },
        {
          "name": "stdout",
          "output_type": "stream",
          "text": [
            "   ❔ Pregunta: 'VOTOS VÁLIDOS' -> Respuesta: '76'\n",
            "\n",
            "--- Interrogando al acta: mesa_2_104824.jpg ---\n",
            "   ❔ Pregunta: 'AP' -> Respuesta: 'AP 250'\n",
            "   ❔ Pregunta: 'APB SÚMATE' -> Respuesta: 'APB SÚMATE 7C8BL'\n",
            "   ❔ Pregunta: 'CODIGO MESA' -> Respuesta: '7'\n",
            "   ❔ Pregunta: 'ELECTORES HABILITADOS' -> Respuesta: 'None'\n",
            "   ❔ Pregunta: 'FP' -> Respuesta: 'FP WWW.GOV'\n",
            "   ❔ Pregunta: 'LIBRE' -> Respuesta: 'LIBRE M. COOKED MEAT'\n",
            "   ❔ Pregunta: 'LYP ADN' -> Respuesta: 'LYP ADN TVSHOL'\n",
            "   ❔ Pregunta: 'MAS-IPSP' -> Respuesta: 'MAS-IPSP WWW.GOV'\n",
            "   ❔ Pregunta: 'MESA' -> Respuesta: '7'\n",
            "   ❔ Pregunta: 'MORENA' -> Respuesta: 'MORENA 7'\n",
            "   ❔ Pregunta: 'PAPELETAS EN ÁNFORA' -> Respuesta: '200'\n",
            "   ❔ Pregunta: 'PAPELETAS NO UTILIZADAS' -> Respuesta: '730'\n",
            "   ❔ Pregunta: 'PDC' -> Respuesta: 'PDC WWW.ХРАНИ태'\n",
            "   ❔ Pregunta: 'UNIDAD' -> Respuesta: 'UNIDAD VADO'\n",
            "   ❔ Pregunta: 'VOTOS BLANCOS' -> Respuesta: 'None'\n",
            "   ❔ Pregunta: 'VOTOS NULOS' -> Respuesta: '730'\n"
          ]
        },
        {
          "name": "stderr",
          "output_type": "stream",
          "text": [
            "\n",
            "Procesando Actas con Donut:   2%|▏         | 10/545 [04:17<3:49:23, 25.73s/it]\u001b[A"
          ]
        },
        {
          "name": "stdout",
          "output_type": "stream",
          "text": [
            "   ❔ Pregunta: 'VOTOS VÁLIDOS' -> Respuesta: 'None'\n",
            "\n",
            "--- Interrogando al acta: mesa_1_104974.jpg ---\n",
            "   ❔ Pregunta: 'AP' -> Respuesta: 'AP 0.82'\n",
            "   ❔ Pregunta: 'APB SÚMATE' -> Respuesta: 'APB SÚMATE 10497.41'\n",
            "   ❔ Pregunta: 'CODIGO MESA' -> Respuesta: '1'\n",
            "   ❔ Pregunta: 'ELECTORES HABILITADOS' -> Respuesta: '3'\n",
            "   ❔ Pregunta: 'FP' -> Respuesta: 'FP 08.00'\n",
            "   ❔ Pregunta: 'LIBRE' -> Respuesta: 'LIBRE 08.00'\n",
            "   ❔ Pregunta: 'LYP ADN' -> Respuesta: 'LYP ADN 08.00'\n",
            "   ❔ Pregunta: 'MAS-IPSP' -> Respuesta: 'MAS-IPSP 08.00'\n",
            "   ❔ Pregunta: 'MESA' -> Respuesta: '1'\n",
            "   ❔ Pregunta: 'MORENA' -> Respuesta: 'MORENA 0.82'\n",
            "   ❔ Pregunta: 'PAPELETAS EN ÁNFORA' -> Respuesta: '800'\n",
            "   ❔ Pregunta: 'PAPELETAS NO UTILIZADAS' -> Respuesta: '14'\n",
            "   ❔ Pregunta: 'PDC' -> Respuesta: 'PDC 06'\n",
            "   ❔ Pregunta: 'UNIDAD' -> Respuesta: 'UNIDAD 001'\n",
            "   ❔ Pregunta: 'VOTOS BLANCOS' -> Respuesta: '6'\n",
            "   ❔ Pregunta: 'VOTOS NULOS' -> Respuesta: '82'\n"
          ]
        },
        {
          "name": "stderr",
          "output_type": "stream",
          "text": [
            "\n",
            "Procesando Actas con Donut:   2%|▏         | 11/545 [04:43<3:48:51, 25.71s/it]\u001b[A"
          ]
        },
        {
          "name": "stdout",
          "output_type": "stream",
          "text": [
            "   ❔ Pregunta: 'VOTOS VÁLIDOS' -> Respuesta: '82'\n",
            "\n",
            "--- Interrogando al acta: mesa_1_104964.jpg ---\n",
            "   ❔ Pregunta: 'AP' -> Respuesta: 'AP OEP'\n",
            "   ❔ Pregunta: 'APB SÚMATE' -> Respuesta: 'APB SÚMATE 0825'\n",
            "   ❔ Pregunta: 'CODIGO MESA' -> Respuesta: 'None'\n",
            "   ❔ Pregunta: 'ELECTORES HABILITADOS' -> Respuesta: '3'\n",
            "   ❔ Pregunta: 'FP' -> Respuesta: 'FP 0825'\n",
            "   ❔ Pregunta: 'LIBRE' -> Respuesta: 'LIBRE 003'\n",
            "   ❔ Pregunta: 'LYP ADN' -> Respuesta: 'LYP ADN 0825'\n",
            "   ❔ Pregunta: 'MAS-IPSP' -> Respuesta: 'MAS-IPSP 0014'\n",
            "   ❔ Pregunta: 'MESA' -> Respuesta: '1'\n",
            "   ❔ Pregunta: 'MORENA' -> Respuesta: 'MORENA 0825'\n",
            "   ❔ Pregunta: 'PAPELETAS EN ÁNFORA' -> Respuesta: '104964'\n",
            "   ❔ Pregunta: 'PAPELETAS NO UTILIZADAS' -> Respuesta: '825'\n",
            "   ❔ Pregunta: 'PDC' -> Respuesta: 'PDC 029'\n",
            "   ❔ Pregunta: 'UNIDAD' -> Respuesta: 'UNIDAD 0.8'\n",
            "   ❔ Pregunta: 'VOTOS BLANCOS' -> Respuesta: '75'\n",
            "   ❔ Pregunta: 'VOTOS NULOS' -> Respuesta: '75'\n"
          ]
        },
        {
          "name": "stderr",
          "output_type": "stream",
          "text": [
            "\n",
            "Procesando Actas con Donut:   2%|▏         | 12/545 [05:09<3:51:04, 26.01s/it]\u001b[A"
          ]
        },
        {
          "name": "stdout",
          "output_type": "stream",
          "text": [
            "   ❔ Pregunta: 'VOTOS VÁLIDOS' -> Respuesta: '75'\n",
            "\n",
            "--- Interrogando al acta: mesa_5_104914.jpg ---\n",
            "   ❔ Pregunta: 'AP' -> Respuesta: 'AP 011'\n",
            "   ❔ Pregunta: 'APB SÚMATE' -> Respuesta: 'APB SÚMATE 006'\n",
            "   ❔ Pregunta: 'CODIGO MESA' -> Respuesta: '5'\n",
            "   ❔ Pregunta: 'ELECTORES HABILITADOS' -> Respuesta: '3'\n",
            "   ❔ Pregunta: 'FP' -> Respuesta: 'FP 0'\n",
            "   ❔ Pregunta: 'LIBRE' -> Respuesta: 'LIBRE 0 1 1'\n",
            "   ❔ Pregunta: 'LYP ADN' -> Respuesta: 'LYP ADN 001'\n",
            "   ❔ Pregunta: 'MAS-IPSP' -> Respuesta: 'MAS-IPSP 0 822'\n",
            "   ❔ Pregunta: 'MESA' -> Respuesta: '5'\n",
            "   ❔ Pregunta: 'MORENA' -> Respuesta: 'MORENA 011'\n",
            "   ❔ Pregunta: 'PAPELETAS EN ÁNFORA' -> Respuesta: '36'\n",
            "   ❔ Pregunta: 'PAPELETAS NO UTILIZADAS' -> Respuesta: '2'\n",
            "   ❔ Pregunta: 'PDC' -> Respuesta: 'PDC 021'\n",
            "   ❔ Pregunta: 'UNIDAD' -> Respuesta: 'UNIDAD 0'\n",
            "   ❔ Pregunta: 'VOTOS BLANCOS' -> Respuesta: '5'\n",
            "   ❔ Pregunta: 'VOTOS NULOS' -> Respuesta: '70'\n"
          ]
        },
        {
          "name": "stderr",
          "output_type": "stream",
          "text": [
            "\n",
            "Procesando Actas con Donut:   2%|▏         | 13/545 [05:36<3:51:05, 26.06s/it]\u001b[A"
          ]
        },
        {
          "name": "stdout",
          "output_type": "stream",
          "text": [
            "   ❔ Pregunta: 'VOTOS VÁLIDOS' -> Respuesta: '70'\n",
            "\n",
            "--- Interrogando al acta: mesa_1_104924.jpg ---\n",
            "   ❔ Pregunta: 'AP' -> Respuesta: 'AP 0 2 4'\n",
            "   ❔ Pregunta: 'APB SÚMATE' -> Respuesta: 'APB SÚMATE 0.24'\n",
            "   ❔ Pregunta: 'CODIGO MESA' -> Respuesta: '1'\n",
            "   ❔ Pregunta: 'ELECTORES HABILITADOS' -> Respuesta: '3'\n",
            "   ❔ Pregunta: 'FP' -> Respuesta: 'FP 004'\n",
            "   ❔ Pregunta: 'LIBRE' -> Respuesta: 'LIBRE 0.24'\n",
            "   ❔ Pregunta: 'LYP ADN' -> Respuesta: 'LYP ADN 003'\n",
            "   ❔ Pregunta: 'MAS-IPSP' -> Respuesta: 'MAS-IPSP 0.8'\n",
            "   ❔ Pregunta: 'MESA' -> Respuesta: '1'\n",
            "   ❔ Pregunta: 'MORENA' -> Respuesta: 'MORENA 73805'\n",
            "   ❔ Pregunta: 'PAPELETAS EN ÁNFORA' -> Respuesta: '738'\n",
            "   ❔ Pregunta: 'PAPELETAS NO UTILIZADAS' -> Respuesta: '182'\n",
            "   ❔ Pregunta: 'PDC' -> Respuesta: 'PDC 020'\n",
            "   ❔ Pregunta: 'UNIDAD' -> Respuesta: 'UNIDAD 0.11'\n",
            "   ❔ Pregunta: 'VOTOS BLANCOS' -> Respuesta: '8'\n",
            "   ❔ Pregunta: 'VOTOS NULOS' -> Respuesta: '51'\n"
          ]
        },
        {
          "name": "stderr",
          "output_type": "stream",
          "text": [
            "\n",
            "Procesando Actas con Donut:   3%|▎         | 14/545 [06:02<3:50:29, 26.04s/it]\u001b[A"
          ]
        },
        {
          "name": "stdout",
          "output_type": "stream",
          "text": [
            "   ❔ Pregunta: 'VOTOS VÁLIDOS' -> Respuesta: '9'\n",
            "\n",
            "--- Interrogando al acta: mesa_3_104894.jpg ---\n",
            "   ❔ Pregunta: 'AP' -> Respuesta: 'AP A3'\n",
            "   ❔ Pregunta: 'APB SÚMATE' -> Respuesta: 'APB SÚMATE 0.29'\n",
            "   ❔ Pregunta: 'CODIGO MESA' -> Respuesta: '3'\n",
            "   ❔ Pregunta: 'ELECTORES HABILITADOS' -> Respuesta: '3'\n",
            "   ❔ Pregunta: 'FP' -> Respuesta: 'FP 10489-4'\n",
            "   ❔ Pregunta: 'LIBRE' -> Respuesta: 'LIBRE 0.9'\n",
            "   ❔ Pregunta: 'LYP ADN' -> Respuesta: 'LYP ADN 019'\n",
            "   ❔ Pregunta: 'MAS-IPSP' -> Respuesta: 'MAS-IPSP 0.9'\n",
            "   ❔ Pregunta: 'MESA' -> Respuesta: '3'\n",
            "   ❔ Pregunta: 'MORENA' -> Respuesta: 'MORENA 019'\n",
            "   ❔ Pregunta: 'PAPELETAS EN ÁNFORA' -> Respuesta: '29'\n",
            "   ❔ Pregunta: 'PAPELETAS NO UTILIZADAS' -> Respuesta: '29'\n",
            "   ❔ Pregunta: 'PDC' -> Respuesta: 'PDC 025'\n",
            "   ❔ Pregunta: 'UNIDAD' -> Respuesta: 'UNIDAD 003'\n",
            "   ❔ Pregunta: 'VOTOS BLANCOS' -> Respuesta: '1'\n",
            "   ❔ Pregunta: 'VOTOS NULOS' -> Respuesta: '17'\n"
          ]
        },
        {
          "name": "stderr",
          "output_type": "stream",
          "text": [
            "\n",
            "Procesando Actas con Donut:   3%|▎         | 15/545 [06:27<3:49:52, 26.02s/it]\u001b[A"
          ]
        },
        {
          "name": "stdout",
          "output_type": "stream",
          "text": [
            "   ❔ Pregunta: 'VOTOS VÁLIDOS' -> Respuesta: '17'\n",
            "\n",
            "--- Interrogando al acta: mesa_2_104934.jpg ---\n",
            "   ❔ Pregunta: 'AP' -> Respuesta: 'AP 04'\n",
            "   ❔ Pregunta: 'APB SÚMATE' -> Respuesta: 'APB SÚMATE 014'\n",
            "   ❔ Pregunta: 'CODIGO MESA' -> Respuesta: '14'\n",
            "   ❔ Pregunta: 'ELECTORES HABILITADOS' -> Respuesta: '104934'\n",
            "   ❔ Pregunta: 'FP' -> Respuesta: 'FP 009'\n",
            "   ❔ Pregunta: 'LIBRE' -> Respuesta: 'LIBRE 014'\n",
            "   ❔ Pregunta: 'LYP ADN' -> Respuesta: 'LYP ADN 0810'\n",
            "   ❔ Pregunta: 'MAS-IPSP' -> Respuesta: 'MAS-IPSP 004'\n",
            "   ❔ Pregunta: 'MESA' -> Respuesta: '810'\n",
            "   ❔ Pregunta: 'MORENA' -> Respuesta: 'MORENA 014'\n",
            "   ❔ Pregunta: 'PAPELETAS EN ÁNFORA' -> Respuesta: '95'\n",
            "   ❔ Pregunta: 'PAPELETAS NO UTILIZADAS' -> Respuesta: '14'\n",
            "   ❔ Pregunta: 'PDC' -> Respuesta: 'PDC 024'\n",
            "   ❔ Pregunta: 'UNIDAD' -> Respuesta: 'UNIDAD 0'\n",
            "   ❔ Pregunta: 'VOTOS BLANCOS' -> Respuesta: '6'\n",
            "   ❔ Pregunta: 'VOTOS NULOS' -> Respuesta: '44'\n"
          ]
        },
        {
          "name": "stderr",
          "output_type": "stream",
          "text": [
            "\n",
            "Procesando Actas con Donut:   3%|▎         | 16/545 [06:54<3:51:29, 26.26s/it]\u001b[A"
          ]
        },
        {
          "name": "stdout",
          "output_type": "stream",
          "text": [
            "   ❔ Pregunta: 'VOTOS VÁLIDOS' -> Respuesta: '92'\n",
            "\n",
            "--- Interrogando al acta: mesa_4_104904.jpg ---\n",
            "   ❔ Pregunta: 'AP' -> Respuesta: 'AP APB SUMATE'\n",
            "   ❔ Pregunta: 'APB SÚMATE' -> Respuesta: 'APB SÚMATE 0 1'\n",
            "   ❔ Pregunta: 'CODIGO MESA' -> Respuesta: '4'\n",
            "   ❔ Pregunta: 'ELECTORES HABILITADOS' -> Respuesta: '3'\n",
            "   ❔ Pregunta: 'FP' -> Respuesta: 'FP 005'\n",
            "   ❔ Pregunta: 'LIBRE' -> Respuesta: 'LIBRE 0 1'\n",
            "   ❔ Pregunta: 'LYP ADN' -> Respuesta: 'LYP ADN APB SUMATE'\n",
            "   ❔ Pregunta: 'MAS-IPSP' -> Respuesta: 'MAS-IPSP 0 1'\n",
            "   ❔ Pregunta: 'MESA' -> Respuesta: '4'\n",
            "   ❔ Pregunta: 'MORENA' -> Respuesta: 'MORENA 17 DE AGOSTO DE 2'\n",
            "   ❔ Pregunta: 'PAPELETAS EN ÁNFORA' -> Respuesta: '144'\n",
            "   ❔ Pregunta: 'PAPELETAS NO UTILIZADAS' -> Respuesta: '176'\n",
            "   ❔ Pregunta: 'PDC' -> Respuesta: 'PDC 026'\n",
            "   ❔ Pregunta: 'UNIDAD' -> Respuesta: 'UNIDAD 008'\n",
            "   ❔ Pregunta: 'VOTOS BLANCOS' -> Respuesta: '96'\n",
            "   ❔ Pregunta: 'VOTOS NULOS' -> Respuesta: '6'\n"
          ]
        },
        {
          "name": "stderr",
          "output_type": "stream",
          "text": [
            "\n",
            "Procesando Actas con Donut:   3%|▎         | 17/545 [07:21<3:51:14, 26.28s/it]\u001b[A"
          ]
        },
        {
          "name": "stdout",
          "output_type": "stream",
          "text": [
            "   ❔ Pregunta: 'VOTOS VÁLIDOS' -> Respuesta: '68'\n",
            "\n",
            "--- Interrogando al acta: mesa_1_104764.jpg ---\n",
            "   ❔ Pregunta: 'AP' -> Respuesta: 'AP 0.45'\n",
            "   ❔ Pregunta: 'APB SÚMATE' -> Respuesta: 'APB SÚMATE 0 8'\n",
            "   ❔ Pregunta: 'CODIGO MESA' -> Respuesta: '10464'\n",
            "   ❔ Pregunta: 'ELECTORES HABILITADOS' -> Respuesta: '3'\n",
            "   ❔ Pregunta: 'FP' -> Respuesta: 'FP 0.86'\n",
            "   ❔ Pregunta: 'LIBRE' -> Respuesta: 'LIBRE 0 8'\n",
            "   ❔ Pregunta: 'LYP ADN' -> Respuesta: 'LYP ADN AP'\n",
            "   ❔ Pregunta: 'MAS-IPSP' -> Respuesta: 'MAS-IPSP 005'\n",
            "   ❔ Pregunta: 'MESA' -> Respuesta: '1'\n",
            "   ❔ Pregunta: 'MORENA' -> Respuesta: 'MORENA 0 8'\n",
            "   ❔ Pregunta: 'PAPELETAS EN ÁNFORA' -> Respuesta: '82'\n",
            "   ❔ Pregunta: 'PAPELETAS NO UTILIZADAS' -> Respuesta: '82'\n",
            "   ❔ Pregunta: 'PDC' -> Respuesta: 'PDC 0.6'\n",
            "   ❔ Pregunta: 'UNIDAD' -> Respuesta: 'UNIDAD 008'\n",
            "   ❔ Pregunta: 'VOTOS BLANCOS' -> Respuesta: '8'\n",
            "   ❔ Pregunta: 'VOTOS NULOS' -> Respuesta: '22'\n"
          ]
        },
        {
          "name": "stderr",
          "output_type": "stream",
          "text": [
            "\n",
            "Procesando Actas con Donut:   3%|▎         | 18/545 [07:46<3:49:42, 26.15s/it]\u001b[A"
          ]
        },
        {
          "name": "stdout",
          "output_type": "stream",
          "text": [
            "   ❔ Pregunta: 'VOTOS VÁLIDOS' -> Respuesta: '52'\n",
            "\n",
            "--- Interrogando al acta: mesa_1_104744.jpg ---\n",
            "   ❔ Pregunta: 'AP' -> Respuesta: 'AP 015'\n",
            "   ❔ Pregunta: 'APB SÚMATE' -> Respuesta: 'APB SÚMATE APB SMATE'\n",
            "   ❔ Pregunta: 'CODIGO MESA' -> Respuesta: '1'\n",
            "   ❔ Pregunta: 'ELECTORES HABILITADOS' -> Respuesta: '3'\n",
            "   ❔ Pregunta: 'FP' -> Respuesta: 'FP 014'\n",
            "   ❔ Pregunta: 'LIBRE' -> Respuesta: 'LIBRE 005'\n",
            "   ❔ Pregunta: 'LYP ADN' -> Respuesta: 'LYP ADN APB SUMATE'\n",
            "   ❔ Pregunta: 'MAS-IPSP' -> Respuesta: 'MAS-IPSP 0.06.'\n",
            "   ❔ Pregunta: 'MESA' -> Respuesta: '1'\n",
            "   ❔ Pregunta: 'MORENA' -> Respuesta: 'MORENA 1'\n",
            "   ❔ Pregunta: 'PAPELETAS EN ÁNFORA' -> Respuesta: '731'\n",
            "   ❔ Pregunta: 'PAPELETAS NO UTILIZADAS' -> Respuesta: '731'\n",
            "   ❔ Pregunta: 'PDC' -> Respuesta: 'PDC 017'\n",
            "   ❔ Pregunta: 'UNIDAD' -> Respuesta: 'UNIDAD 008'\n",
            "   ❔ Pregunta: 'VOTOS BLANCOS' -> Respuesta: '106'\n",
            "   ❔ Pregunta: 'VOTOS NULOS' -> Respuesta: '32'\n"
          ]
        },
        {
          "name": "stderr",
          "output_type": "stream",
          "text": [
            "\n",
            "Procesando Actas con Donut:   3%|▎         | 19/545 [08:12<3:48:49, 26.10s/it]\u001b[A"
          ]
        },
        {
          "name": "stdout",
          "output_type": "stream",
          "text": [
            "   ❔ Pregunta: 'VOTOS VÁLIDOS' -> Respuesta: '131'\n",
            "\n",
            "--- Interrogando al acta: mesa_2_104754.jpg ---\n",
            "   ❔ Pregunta: 'AP' -> Respuesta: 'AP 003'\n",
            "   ❔ Pregunta: 'APB SÚMATE' -> Respuesta: 'APB SÚMATE 08 00'\n",
            "   ❔ Pregunta: 'CODIGO MESA' -> Respuesta: 'None'\n",
            "   ❔ Pregunta: 'ELECTORES HABILITADOS' -> Respuesta: '3'\n",
            "   ❔ Pregunta: 'FP' -> Respuesta: 'FP 002'\n",
            "   ❔ Pregunta: 'LIBRE' -> Respuesta: 'LIBRE 0 8 00'\n",
            "   ❔ Pregunta: 'LYP ADN' -> Respuesta: 'LYP ADN 0 8 0'\n",
            "   ❔ Pregunta: 'MAS-IPSP' -> Respuesta: 'MAS-IPSP 001'\n",
            "   ❔ Pregunta: 'MESA' -> Respuesta: '2'\n",
            "   ❔ Pregunta: 'MORENA' -> Respuesta: 'MORENA 0 1'\n",
            "   ❔ Pregunta: 'PAPELETAS EN ÁNFORA' -> Respuesta: '8'\n",
            "   ❔ Pregunta: 'PAPELETAS NO UTILIZADAS' -> Respuesta: '800'\n",
            "   ❔ Pregunta: 'PDC' -> Respuesta: 'PDC 001'\n",
            "   ❔ Pregunta: 'UNIDAD' -> Respuesta: 'UNIDAD 001'\n",
            "   ❔ Pregunta: 'VOTOS BLANCOS' -> Respuesta: '3'\n",
            "   ❔ Pregunta: 'VOTOS NULOS' -> Respuesta: '3'\n"
          ]
        },
        {
          "name": "stderr",
          "output_type": "stream",
          "text": [
            "\n",
            "Procesando Actas con Donut:   4%|▎         | 20/545 [08:39<3:50:44, 26.37s/it]\u001b[A"
          ]
        },
        {
          "name": "stdout",
          "output_type": "stream",
          "text": [
            "   ❔ Pregunta: 'VOTOS VÁLIDOS' -> Respuesta: '9'\n",
            "\n",
            "--- Interrogando al acta: mesa_16_104634.jpg ---\n",
            "   ❔ Pregunta: 'AP' -> Respuesta: 'AP 019'\n",
            "   ❔ Pregunta: 'APB SÚMATE' -> Respuesta: 'APB SÚMATE 010'\n",
            "   ❔ Pregunta: 'CODIGO MESA' -> Respuesta: '16'\n",
            "   ❔ Pregunta: 'ELECTORES HABILITADOS' -> Respuesta: '7'\n",
            "   ❔ Pregunta: 'FP' -> Respuesta: 'FP 008'\n",
            "   ❔ Pregunta: 'LIBRE' -> Respuesta: 'LIBRE 00+'\n",
            "   ❔ Pregunta: 'LYP ADN' -> Respuesta: 'LYP ADN 006'\n",
            "   ❔ Pregunta: 'MAS-IPSP' -> Respuesta: 'MAS-IPSP 007'\n",
            "   ❔ Pregunta: 'MESA' -> Respuesta: '16'\n",
            "   ❔ Pregunta: 'MORENA' -> Respuesta: 'MORENA 10463-4'\n",
            "   ❔ Pregunta: 'PAPELETAS EN ÁNFORA' -> Respuesta: '38'\n",
            "   ❔ Pregunta: 'PAPELETAS NO UTILIZADAS' -> Respuesta: '38'\n",
            "   ❔ Pregunta: 'PDC' -> Respuesta: 'PDC 008'\n",
            "   ❔ Pregunta: 'UNIDAD' -> Respuesta: 'UNIDAD 008'\n",
            "   ❔ Pregunta: 'VOTOS BLANCOS' -> Respuesta: '9'\n",
            "   ❔ Pregunta: 'VOTOS NULOS' -> Respuesta: '38'\n"
          ]
        },
        {
          "name": "stderr",
          "output_type": "stream",
          "text": [
            "\n",
            "Procesando Actas con Donut:   4%|▍         | 21/545 [09:06<3:50:22, 26.38s/it]\u001b[A"
          ]
        },
        {
          "name": "stdout",
          "output_type": "stream",
          "text": [
            "   ❔ Pregunta: 'VOTOS VÁLIDOS' -> Respuesta: '38'\n",
            "\n",
            "--- Interrogando al acta: mesa_19_104564.jpg ---\n",
            "   ❔ Pregunta: 'AP' -> Respuesta: 'AP 0.23'\n",
            "   ❔ Pregunta: 'APB SÚMATE' -> Respuesta: 'APB SÚMATE 0 1 0 1 0 1 0 1 0 1 0 1 0 1 0 1 0 1 0 1 0 1 0 1 0 1 0 1 0 1 0 1 0 1 0 1 0 1 0 1 0 1 0 1 0 1 0 1 0 1 0 1 0 1 0 1 0 1 0 1 0 1 0 1 0 1 0 1 0 1 0 1 0 1 0 1 0 1 0 1 0 1 0 1 0 1 0 1 0 1 0 1 0 1 0 1 0 1 0 1 0 1 0 1 0 1 0 1 0 1 0 1 0 1 0 1 0'\n",
            "   ❔ Pregunta: 'CODIGO MESA' -> Respuesta: '19'\n",
            "   ❔ Pregunta: 'ELECTORES HABILITADOS' -> Respuesta: '3'\n",
            "   ❔ Pregunta: 'FP' -> Respuesta: 'FP 005'\n",
            "   ❔ Pregunta: 'LIBRE' -> Respuesta: 'LIBRE 007'\n",
            "   ❔ Pregunta: 'LYP ADN' -> Respuesta: 'LYP ADN AP'\n",
            "   ❔ Pregunta: 'MAS-IPSP' -> Respuesta: 'MAS-IPSP 0 0'\n",
            "   ❔ Pregunta: 'MESA' -> Respuesta: '19'\n",
            "   ❔ Pregunta: 'MORENA' -> Respuesta: 'MORENA 196'\n",
            "   ❔ Pregunta: 'PAPELETAS EN ÁNFORA' -> Respuesta: '14'\n",
            "   ❔ Pregunta: 'PAPELETAS NO UTILIZADAS' -> Respuesta: '8'\n",
            "   ❔ Pregunta: 'PDC' -> Respuesta: 'PDC 014'\n",
            "   ❔ Pregunta: 'UNIDAD' -> Respuesta: 'UNIDAD 0 11'\n",
            "   ❔ Pregunta: 'VOTOS BLANCOS' -> Respuesta: '3'\n",
            "   ❔ Pregunta: 'VOTOS NULOS' -> Respuesta: '42'\n"
          ]
        },
        {
          "name": "stderr",
          "output_type": "stream",
          "text": [
            "\n",
            "Procesando Actas con Donut:   4%|▍         | 22/545 [09:33<3:50:44, 26.47s/it]\u001b[A"
          ]
        },
        {
          "name": "stdout",
          "output_type": "stream",
          "text": [
            "   ❔ Pregunta: 'VOTOS VÁLIDOS' -> Respuesta: '79'\n",
            "\n",
            "--- Interrogando al acta: mesa_7_104664.jpg ---\n",
            "   ❔ Pregunta: 'AP' -> Respuesta: 'AP 014'\n",
            "   ❔ Pregunta: 'APB SÚMATE' -> Respuesta: 'APB SÚMATE MOSA:7'\n",
            "   ❔ Pregunta: 'CODIGO MESA' -> Respuesta: '7'\n",
            "   ❔ Pregunta: 'ELECTORES HABILITADOS' -> Respuesta: '3'\n",
            "   ❔ Pregunta: 'FP' -> Respuesta: 'FP 011'\n",
            "   ❔ Pregunta: 'LIBRE' -> Respuesta: 'LIBRE 004'\n",
            "   ❔ Pregunta: 'LYP ADN' -> Respuesta: 'LYP ADN AP'\n",
            "   ❔ Pregunta: 'MAS-IPSP' -> Respuesta: 'MAS-IPSP 005'\n",
            "   ❔ Pregunta: 'MESA' -> Respuesta: '7'\n",
            "   ❔ Pregunta: 'MORENA' -> Respuesta: 'MORENA 042'\n",
            "   ❔ Pregunta: 'PAPELETAS EN ÁNFORA' -> Respuesta: '42'\n",
            "   ❔ Pregunta: 'PAPELETAS NO UTILIZADAS' -> Respuesta: '14'\n",
            "   ❔ Pregunta: 'PDC' -> Respuesta: 'PDC 0.22'\n",
            "   ❔ Pregunta: 'UNIDAD' -> Respuesta: 'UNIDAD 006'\n",
            "   ❔ Pregunta: 'VOTOS BLANCOS' -> Respuesta: '8'\n",
            "   ❔ Pregunta: 'VOTOS NULOS' -> Respuesta: '42'\n"
          ]
        },
        {
          "name": "stderr",
          "output_type": "stream",
          "text": [
            "\n",
            "Procesando Actas con Donut:   4%|▍         | 23/545 [09:59<3:49:01, 26.32s/it]\u001b[A"
          ]
        },
        {
          "name": "stdout",
          "output_type": "stream",
          "text": [
            "   ❔ Pregunta: 'VOTOS VÁLIDOS' -> Respuesta: '74'\n",
            "\n",
            "--- Interrogando al acta: mesa_12_104714.jpg ---\n",
            "   ❔ Pregunta: 'AP' -> Respuesta: 'AP 014'\n",
            "   ❔ Pregunta: 'APB SÚMATE' -> Respuesta: 'APB SÚMATE 006'\n",
            "   ❔ Pregunta: 'CODIGO MESA' -> Respuesta: '12'\n",
            "   ❔ Pregunta: 'ELECTORES HABILITADOS' -> Respuesta: '3'\n",
            "   ❔ Pregunta: 'FP' -> Respuesta: 'FP 003'\n",
            "   ❔ Pregunta: 'LIBRE' -> Respuesta: 'LIBRE 014'\n",
            "   ❔ Pregunta: 'LYP ADN' -> Respuesta: 'LYP ADN 004'\n",
            "   ❔ Pregunta: 'MAS-IPSP' -> Respuesta: 'MAS-IPSP 006'\n",
            "   ❔ Pregunta: 'MESA' -> Respuesta: '12'\n",
            "   ❔ Pregunta: 'MORENA' -> Respuesta: 'MORENA 189'\n",
            "   ❔ Pregunta: 'PAPELETAS EN ÁNFORA' -> Respuesta: '136'\n",
            "   ❔ Pregunta: 'PAPELETAS NO UTILIZADAS' -> Respuesta: '189'\n",
            "   ❔ Pregunta: 'PDC' -> Respuesta: 'PDC 021'\n",
            "   ❔ Pregunta: 'UNIDAD' -> Respuesta: 'UNIDAD 005'\n",
            "   ❔ Pregunta: 'VOTOS BLANCOS' -> Respuesta: '4'\n",
            "   ❔ Pregunta: 'VOTOS NULOS' -> Respuesta: '62'\n"
          ]
        },
        {
          "name": "stderr",
          "output_type": "stream",
          "text": [
            "\n",
            "Procesando Actas con Donut:   4%|▍         | 24/545 [10:25<3:50:06, 26.50s/it]\u001b[A"
          ]
        },
        {
          "name": "stdout",
          "output_type": "stream",
          "text": [
            "   ❔ Pregunta: 'VOTOS VÁLIDOS' -> Respuesta: '70'\n",
            "\n",
            "--- Interrogando al acta: mesa_13_104604.jpg ---\n",
            "   ❔ Pregunta: 'AP' -> Respuesta: 'AP 025'\n",
            "   ❔ Pregunta: 'APB SÚMATE' -> Respuesta: 'APB SÚMATE 001'\n",
            "   ❔ Pregunta: 'CODIGO MESA' -> Respuesta: '13'\n",
            "   ❔ Pregunta: 'ELECTORES HABILITADOS' -> Respuesta: '3'\n",
            "   ❔ Pregunta: 'FP' -> Respuesta: 'FP 005'\n",
            "   ❔ Pregunta: 'LIBRE' -> Respuesta: 'LIBRE 005'\n",
            "   ❔ Pregunta: 'LYP ADN' -> Respuesta: 'LYP ADN 00 2'\n",
            "   ❔ Pregunta: 'MAS-IPSP' -> Respuesta: 'MAS-IPSP 006'\n",
            "   ❔ Pregunta: 'MESA' -> Respuesta: '13'\n",
            "   ❔ Pregunta: 'MORENA' -> Respuesta: 'MORENA 1 1 1 1 1 1 1 1 1 1 1 1 1 1 1 1 1 1 1 1 1 1 1 1 1 1 1 1 1 1 1 1 1 1 1 1 1 1 1 1 1 1 1 1 1 1 1 1 1 1 1 1 1 1 1 1 1 1 1 1 1 1 1 1 1 1 1 1 1 1 1 1 1 1 1 1 1 1 1 1 1 1 1 1 1 1 1 1 1 1 1 1 1 1 1 1 1 1 1 1 1 1 1 1 1 1 1 1 1 1 1 1 1 1 1 1 1 1 1 1 1'\n",
            "   ❔ Pregunta: 'PAPELETAS EN ÁNFORA' -> Respuesta: '719'\n",
            "   ❔ Pregunta: 'PAPELETAS NO UTILIZADAS' -> Respuesta: '20'\n",
            "   ❔ Pregunta: 'PDC' -> Respuesta: 'PDC 0 12'\n",
            "   ❔ Pregunta: 'UNIDAD' -> Respuesta: 'UNIDAD 0 15'\n",
            "   ❔ Pregunta: 'VOTOS BLANCOS' -> Respuesta: '3'\n",
            "   ❔ Pregunta: 'VOTOS NULOS' -> Respuesta: '46'\n"
          ]
        },
        {
          "name": "stderr",
          "output_type": "stream",
          "text": [
            "\n",
            "Procesando Actas con Donut:   5%|▍         | 25/545 [10:54<3:53:48, 26.98s/it]\u001b[A"
          ]
        },
        {
          "name": "stdout",
          "output_type": "stream",
          "text": [
            "   ❔ Pregunta: 'VOTOS VÁLIDOS' -> Respuesta: '70'\n",
            "\n",
            "--- Interrogando al acta: mesa_8_104674.jpg ---\n",
            "   ❔ Pregunta: 'AP' -> Respuesta: 'AP 0.95'\n",
            "   ❔ Pregunta: 'APB SÚMATE' -> Respuesta: 'APB SÚMATE 0820'\n",
            "   ❔ Pregunta: 'CODIGO MESA' -> Respuesta: '8'\n",
            "   ❔ Pregunta: 'ELECTORES HABILITADOS' -> Respuesta: '3'\n",
            "   ❔ Pregunta: 'FP' -> Respuesta: 'FP 0.95'\n",
            "   ❔ Pregunta: 'LIBRE' -> Respuesta: 'LIBRE 0.9'\n",
            "   ❔ Pregunta: 'LYP ADN' -> Respuesta: 'LYP ADN OEP'\n",
            "   ❔ Pregunta: 'MAS-IPSP' -> Respuesta: 'MAS-IPSP 014'\n",
            "   ❔ Pregunta: 'MESA' -> Respuesta: '8'\n",
            "   ❔ Pregunta: 'MORENA' -> Respuesta: 'MORENA 0.95'\n",
            "   ❔ Pregunta: 'PAPELETAS EN ÁNFORA' -> Respuesta: '25'\n",
            "   ❔ Pregunta: 'PAPELETAS NO UTILIZADAS' -> Respuesta: '206'\n",
            "   ❔ Pregunta: 'PDC' -> Respuesta: 'PDC 005'\n",
            "   ❔ Pregunta: 'UNIDAD' -> Respuesta: 'UNIDAD 008'\n",
            "   ❔ Pregunta: 'VOTOS BLANCOS' -> Respuesta: '8'\n",
            "   ❔ Pregunta: 'VOTOS NULOS' -> Respuesta: '35'\n"
          ]
        },
        {
          "name": "stderr",
          "output_type": "stream",
          "text": [
            "\n",
            "Procesando Actas con Donut:   5%|▍         | 26/545 [11:20<3:51:02, 26.71s/it]\u001b[A"
          ]
        },
        {
          "name": "stdout",
          "output_type": "stream",
          "text": [
            "   ❔ Pregunta: 'VOTOS VÁLIDOS' -> Respuesta: '71'\n",
            "\n",
            "--- Interrogando al acta: mesa_6_104554.jpg ---\n",
            "   ❔ Pregunta: 'AP' -> Respuesta: 'AP 0.22'\n",
            "   ❔ Pregunta: 'APB SÚMATE' -> Respuesta: 'APB SÚMATE 0811'\n",
            "   ❔ Pregunta: 'CODIGO MESA' -> Respuesta: '6'\n",
            "   ❔ Pregunta: 'ELECTORES HABILITADOS' -> Respuesta: '3'\n",
            "   ❔ Pregunta: 'FP' -> Respuesta: 'FP 007'\n",
            "   ❔ Pregunta: 'LIBRE' -> Respuesta: 'LIBRE 0.22'\n",
            "   ❔ Pregunta: 'LYP ADN' -> Respuesta: 'LYP ADN AP'\n",
            "   ❔ Pregunta: 'MAS-IPSP' -> Respuesta: 'MAS-IPSP 008'\n",
            "   ❔ Pregunta: 'MESA' -> Respuesta: '6'\n",
            "   ❔ Pregunta: 'MORENA' -> Respuesta: 'MORENA 72625'\n",
            "   ❔ Pregunta: 'PAPELETAS EN ÁNFORA' -> Respuesta: '45'\n",
            "   ❔ Pregunta: 'PAPELETAS NO UTILIZADAS' -> Respuesta: '40'\n",
            "   ❔ Pregunta: 'PDC' -> Respuesta: 'PDC 0 12'\n",
            "   ❔ Pregunta: 'UNIDAD' -> Respuesta: 'UNIDAD 0 1 2'\n",
            "   ❔ Pregunta: 'VOTOS BLANCOS' -> Respuesta: '45'\n",
            "   ❔ Pregunta: 'VOTOS NULOS' -> Respuesta: '40'\n"
          ]
        },
        {
          "name": "stderr",
          "output_type": "stream",
          "text": [
            "\n",
            "Procesando Actas con Donut:   5%|▍         | 27/545 [11:46<3:48:54, 26.51s/it]\u001b[A"
          ]
        },
        {
          "name": "stdout",
          "output_type": "stream",
          "text": [
            "   ❔ Pregunta: 'VOTOS VÁLIDOS' -> Respuesta: '80'\n",
            "\n",
            "--- Interrogando al acta: mesa_22_104594.jpg ---\n",
            "   ❔ Pregunta: 'AP' -> Respuesta: 'AP 003'\n",
            "   ❔ Pregunta: 'APB SÚMATE' -> Respuesta: 'APB SÚMATE 08 20'\n",
            "   ❔ Pregunta: 'CODIGO MESA' -> Respuesta: '22'\n",
            "   ❔ Pregunta: 'ELECTORES HABILITADOS' -> Respuesta: '7'\n",
            "   ❔ Pregunta: 'FP' -> Respuesta: 'FP 002'\n",
            "   ❔ Pregunta: 'LIBRE' -> Respuesta: 'LIBRE U.S.'\n",
            "   ❔ Pregunta: 'LYP ADN' -> Respuesta: 'LYP ADN 08 20'\n",
            "   ❔ Pregunta: 'MAS-IPSP' -> Respuesta: 'MAS-IPSP 001'\n",
            "   ❔ Pregunta: 'MESA' -> Respuesta: '22'\n",
            "   ❔ Pregunta: 'MORENA' -> Respuesta: 'MORENA 10459-4'\n",
            "   ❔ Pregunta: 'PAPELETAS EN ÁNFORA' -> Respuesta: '38'\n",
            "   ❔ Pregunta: 'PAPELETAS NO UTILIZADAS' -> Respuesta: '28'\n",
            "   ❔ Pregunta: 'PDC' -> Respuesta: 'PDC 001'\n",
            "   ❔ Pregunta: 'UNIDAD' -> Respuesta: 'UNIDAD 000'\n",
            "   ❔ Pregunta: 'VOTOS BLANCOS' -> Respuesta: '1'\n",
            "   ❔ Pregunta: 'VOTOS NULOS' -> Respuesta: '20'\n"
          ]
        },
        {
          "name": "stderr",
          "output_type": "stream",
          "text": [
            "\n",
            "Procesando Actas con Donut:   5%|▌         | 28/545 [12:12<3:48:55, 26.57s/it]\u001b[A"
          ]
        },
        {
          "name": "stdout",
          "output_type": "stream",
          "text": [
            "   ❔ Pregunta: 'VOTOS VÁLIDOS' -> Respuesta: '20'\n",
            "\n",
            "--- Interrogando al acta: mesa_3_104524.jpg ---\n",
            "   ❔ Pregunta: 'AP' -> Respuesta: 'AP 013'\n",
            "   ❔ Pregunta: 'APB SÚMATE' -> Respuesta: 'APB SÚMATE 005'\n",
            "   ❔ Pregunta: 'CODIGO MESA' -> Respuesta: '3'\n",
            "   ❔ Pregunta: 'ELECTORES HABILITADOS' -> Respuesta: '3'\n",
            "   ❔ Pregunta: 'FP' -> Respuesta: 'FP 006'\n",
            "   ❔ Pregunta: 'LIBRE' -> Respuesta: 'LIBRE 08 10'\n",
            "   ❔ Pregunta: 'LYP ADN' -> Respuesta: 'LYP ADN APS SOMATE'\n",
            "   ❔ Pregunta: 'MAS-IPSP' -> Respuesta: 'MAS-IPSP 0.9'\n",
            "   ❔ Pregunta: 'MESA' -> Respuesta: '3'\n",
            "   ❔ Pregunta: 'MORENA' -> Respuesta: 'MORENA 08 10'\n",
            "   ❔ Pregunta: 'PAPELETAS EN ÁNFORA' -> Respuesta: '73'\n",
            "   ❔ Pregunta: 'PAPELETAS NO UTILIZADAS' -> Respuesta: '73'\n",
            "   ❔ Pregunta: 'PDC' -> Respuesta: 'PDC 008'\n",
            "   ❔ Pregunta: 'UNIDAD' -> Respuesta: 'UNIDAD 0 70'\n",
            "   ❔ Pregunta: 'VOTOS BLANCOS' -> Respuesta: '73'\n",
            "   ❔ Pregunta: 'VOTOS NULOS' -> Respuesta: '29'\n"
          ]
        },
        {
          "name": "stderr",
          "output_type": "stream",
          "text": [
            "\n",
            "Procesando Actas con Donut:   5%|▌         | 29/545 [12:40<3:50:12, 26.77s/it]\u001b[A"
          ]
        },
        {
          "name": "stdout",
          "output_type": "stream",
          "text": [
            "   ❔ Pregunta: 'VOTOS VÁLIDOS' -> Respuesta: '73'\n",
            "\n",
            "--- Interrogando al acta: mesa_17_104644.jpg ---\n",
            "   ❔ Pregunta: 'AP' -> Respuesta: 'AP 0.22'\n",
            "   ❔ Pregunta: 'APB SÚMATE' -> Respuesta: 'APB SÚMATE 09.90'\n",
            "   ❔ Pregunta: 'CODIGO MESA' -> Respuesta: '17'\n",
            "   ❔ Pregunta: 'ELECTORES HABILITADOS' -> Respuesta: '3'\n",
            "   ❔ Pregunta: 'FP' -> Respuesta: 'FP 003'\n",
            "   ❔ Pregunta: 'LIBRE' -> Respuesta: 'LIBRE 0.15'\n",
            "   ❔ Pregunta: 'LYP ADN' -> Respuesta: 'LYP ADN 001'\n",
            "   ❔ Pregunta: 'MAS-IPSP' -> Respuesta: 'MAS-IPSP 003'\n",
            "   ❔ Pregunta: 'MESA' -> Respuesta: '17'\n",
            "   ❔ Pregunta: 'MORENA' -> Respuesta: 'MORENA 192'\n",
            "   ❔ Pregunta: 'PAPELETAS EN ÁNFORA' -> Respuesta: '45'\n",
            "   ❔ Pregunta: 'PAPELETAS NO UTILIZADAS' -> Respuesta: '25'\n",
            "   ❔ Pregunta: 'PDC' -> Respuesta: 'PDC 005'\n",
            "   ❔ Pregunta: 'UNIDAD' -> Respuesta: 'UNIDAD 0 1 0'\n",
            "   ❔ Pregunta: 'VOTOS BLANCOS' -> Respuesta: '5'\n",
            "   ❔ Pregunta: 'VOTOS NULOS' -> Respuesta: '43'\n"
          ]
        },
        {
          "name": "stderr",
          "output_type": "stream",
          "text": [
            "\n",
            "Procesando Actas con Donut:   6%|▌         | 30/545 [13:06<3:49:11, 26.70s/it]\u001b[A"
          ]
        },
        {
          "name": "stdout",
          "output_type": "stream",
          "text": [
            "   ❔ Pregunta: 'VOTOS VÁLIDOS' -> Respuesta: '45'\n",
            "\n",
            "--- Interrogando al acta: mesa_2_104514.jpg ---\n",
            "   ❔ Pregunta: 'AP' -> Respuesta: 'AP OEP'\n",
            "   ❔ Pregunta: 'APB SÚMATE' -> Respuesta: 'APB SÚMATE 08.25'\n",
            "   ❔ Pregunta: 'CODIGO MESA' -> Respuesta: '825'\n",
            "   ❔ Pregunta: 'ELECTORES HABILITADOS' -> Respuesta: '3'\n",
            "   ❔ Pregunta: 'FP' -> Respuesta: 'FP 08.25'\n",
            "   ❔ Pregunta: 'LIBRE' -> Respuesta: 'LIBRE 005'\n",
            "   ❔ Pregunta: 'LYP ADN' -> Respuesta: 'LYP ADN 08 25'\n",
            "   ❔ Pregunta: 'MAS-IPSP' -> Respuesta: 'MAS-IPSP 008'\n",
            "   ❔ Pregunta: 'MESA' -> Respuesta: '2'\n",
            "   ❔ Pregunta: 'MORENA' -> Respuesta: 'MORENA 08.25'\n",
            "   ❔ Pregunta: 'PAPELETAS EN ÁNFORA' -> Respuesta: '13'\n",
            "   ❔ Pregunta: 'PAPELETAS NO UTILIZADAS' -> Respuesta: '3'\n",
            "   ❔ Pregunta: 'PDC' -> Respuesta: 'PDC 020'\n",
            "   ❔ Pregunta: 'UNIDAD' -> Respuesta: 'UNIDAD 011'\n",
            "   ❔ Pregunta: 'VOTOS BLANCOS' -> Respuesta: '3'\n",
            "   ❔ Pregunta: 'VOTOS NULOS' -> Respuesta: '33'\n"
          ]
        },
        {
          "name": "stderr",
          "output_type": "stream",
          "text": [
            "\n",
            "Procesando Actas con Donut:   6%|▌         | 31/545 [13:33<3:49:02, 26.74s/it]\u001b[A"
          ]
        },
        {
          "name": "stdout",
          "output_type": "stream",
          "text": [
            "   ❔ Pregunta: 'VOTOS VÁLIDOS' -> Respuesta: '77'\n",
            "\n",
            "--- Interrogando al acta: mesa_18_104654.jpg ---\n",
            "   ❔ Pregunta: 'AP' -> Respuesta: 'AP OEP'\n",
            "   ❔ Pregunta: 'APB SÚMATE' -> Respuesta: 'APB SÚMATE 08.00'\n",
            "   ❔ Pregunta: 'CODIGO MESA' -> Respuesta: '18'\n",
            "   ❔ Pregunta: 'ELECTORES HABILITADOS' -> Respuesta: '3'\n",
            "   ❔ Pregunta: 'FP' -> Respuesta: 'FP 080'\n",
            "   ❔ Pregunta: 'LIBRE' -> Respuesta: 'LIBRE 0.10'\n",
            "   ❔ Pregunta: 'LYP ADN' -> Respuesta: 'LYP ADN 080'\n",
            "   ❔ Pregunta: 'MAS-IPSP' -> Respuesta: 'MAS-IPSP 080'\n",
            "   ❔ Pregunta: 'MESA' -> Respuesta: '18'\n",
            "   ❔ Pregunta: 'MORENA' -> Respuesta: 'MORENA 080'\n",
            "   ❔ Pregunta: 'PAPELETAS EN ÁNFORA' -> Respuesta: '800'\n",
            "   ❔ Pregunta: 'PAPELETAS NO UTILIZADAS' -> Respuesta: '800'\n",
            "   ❔ Pregunta: 'PDC' -> Respuesta: 'PDC 017'\n",
            "   ❔ Pregunta: 'UNIDAD' -> Respuesta: 'UNIDAD 0.10'\n",
            "   ❔ Pregunta: 'VOTOS BLANCOS' -> Respuesta: '40'\n",
            "   ❔ Pregunta: 'VOTOS NULOS' -> Respuesta: '41'\n"
          ]
        },
        {
          "name": "stderr",
          "output_type": "stream",
          "text": [
            "\n",
            "Procesando Actas con Donut:   6%|▌         | 32/545 [13:59<3:47:29, 26.61s/it]\u001b[A"
          ]
        },
        {
          "name": "stdout",
          "output_type": "stream",
          "text": [
            "   ❔ Pregunta: 'VOTOS VÁLIDOS' -> Respuesta: '70'\n",
            "\n",
            "--- Interrogando al acta: mesa_9_104684.jpg ---\n",
            "   ❔ Pregunta: 'AP' -> Respuesta: 'AP 012'\n",
            "   ❔ Pregunta: 'APB SÚMATE' -> Respuesta: 'APB SÚMATE 0.72'\n",
            "   ❔ Pregunta: 'CODIGO MESA' -> Respuesta: '9'\n",
            "   ❔ Pregunta: 'ELECTORES HABILITADOS' -> Respuesta: '3'\n",
            "   ❔ Pregunta: 'FP' -> Respuesta: 'FP 006'\n",
            "   ❔ Pregunta: 'LIBRE' -> Respuesta: 'LIBRE 0.75'\n",
            "   ❔ Pregunta: 'LYP ADN' -> Respuesta: 'LYP ADN APB SUMATE'\n",
            "   ❔ Pregunta: 'MAS-IPSP' -> Respuesta: 'MAS-IPSP 0.8'\n",
            "   ❔ Pregunta: 'MESA' -> Respuesta: '9'\n",
            "   ❔ Pregunta: 'MORENA' -> Respuesta: 'MORENA 17 DE AGOSTO DE 2012'\n",
            "   ❔ Pregunta: 'PAPELETAS EN ÁNFORA' -> Respuesta: '800'\n",
            "   ❔ Pregunta: 'PAPELETAS NO UTILIZADAS' -> Respuesta: '37'\n",
            "   ❔ Pregunta: 'PDC' -> Respuesta: 'PDC 0.10'\n",
            "   ❔ Pregunta: 'UNIDAD' -> Respuesta: 'UNIDAD 014'\n",
            "   ❔ Pregunta: 'VOTOS BLANCOS' -> Respuesta: '8'\n",
            "   ❔ Pregunta: 'VOTOS NULOS' -> Respuesta: '37'\n"
          ]
        },
        {
          "name": "stderr",
          "output_type": "stream",
          "text": [
            "\n",
            "Procesando Actas con Donut:   6%|▌         | 33/545 [14:26<3:47:51, 26.70s/it]\u001b[A"
          ]
        },
        {
          "name": "stdout",
          "output_type": "stream",
          "text": [
            "   ❔ Pregunta: 'VOTOS VÁLIDOS' -> Respuesta: '75'\n",
            "\n",
            "--- Interrogando al acta: mesa_4_104534.jpg ---\n",
            "   ❔ Pregunta: 'AP' -> Respuesta: 'AP 0 2'\n",
            "   ❔ Pregunta: 'APB SÚMATE' -> Respuesta: 'APB SÚMATE 0845'\n",
            "   ❔ Pregunta: 'CODIGO MESA' -> Respuesta: '4'\n",
            "   ❔ Pregunta: 'ELECTORES HABILITADOS' -> Respuesta: '3'\n",
            "   ❔ Pregunta: 'FP' -> Respuesta: 'FP 008'\n",
            "   ❔ Pregunta: 'LIBRE' -> Respuesta: 'LIBRE 0.23'\n",
            "   ❔ Pregunta: 'LYP ADN' -> Respuesta: 'LYP ADN APB SUMATE'\n",
            "   ❔ Pregunta: 'MAS-IPSP' -> Respuesta: 'MAS-IPSP 0 0 8 15'\n",
            "   ❔ Pregunta: 'MESA' -> Respuesta: '4'\n",
            "   ❔ Pregunta: 'MORENA' -> Respuesta: 'MORENA 08.45'\n",
            "   ❔ Pregunta: 'PAPELETAS EN ÁNFORA' -> Respuesta: '45'\n",
            "   ❔ Pregunta: 'PAPELETAS NO UTILIZADAS' -> Respuesta: '845'\n",
            "   ❔ Pregunta: 'PDC' -> Respuesta: 'PDC 009'\n",
            "   ❔ Pregunta: 'UNIDAD' -> Respuesta: 'UNIDAD 00 7'\n",
            "   ❔ Pregunta: 'VOTOS BLANCOS' -> Respuesta: '1'\n",
            "   ❔ Pregunta: 'VOTOS NULOS' -> Respuesta: '57'\n"
          ]
        },
        {
          "name": "stderr",
          "output_type": "stream",
          "text": [
            "\n",
            "Procesando Actas con Donut:   6%|▌         | 34/545 [14:53<3:47:43, 26.74s/it]\u001b[A"
          ]
        },
        {
          "name": "stdout",
          "output_type": "stream",
          "text": [
            "   ❔ Pregunta: 'VOTOS VÁLIDOS' -> Respuesta: '66'\n",
            "\n",
            "--- Interrogando al acta: mesa_21_104584.jpg ---\n",
            "   ❔ Pregunta: 'AP' -> Respuesta: 'AP 0 8'\n",
            "   ❔ Pregunta: 'APB SÚMATE' -> Respuesta: 'APB SÚMATE 0 8'\n",
            "   ❔ Pregunta: 'CODIGO MESA' -> Respuesta: '104584'\n",
            "   ❔ Pregunta: 'ELECTORES HABILITADOS' -> Respuesta: '3'\n",
            "   ❔ Pregunta: 'FP' -> Respuesta: 'FP 00 2'\n",
            "   ❔ Pregunta: 'LIBRE' -> Respuesta: 'LIBRE 0 1 1'\n",
            "   ❔ Pregunta: 'LYP ADN' -> Respuesta: 'LYP ADN APB SUMATE'\n",
            "   ❔ Pregunta: 'MAS-IPSP' -> Respuesta: 'MAS-IPSP 0 0'\n",
            "   ❔ Pregunta: 'MESA' -> Respuesta: '21'\n",
            "   ❔ Pregunta: 'MORENA' -> Respuesta: 'MORENA 1 9 6'\n",
            "   ❔ Pregunta: 'PAPELETAS EN ÁNFORA' -> Respuesta: 'None'\n",
            "   ❔ Pregunta: 'PAPELETAS NO UTILIZADAS' -> Respuesta: '196'\n",
            "   ❔ Pregunta: 'PDC' -> Respuesta: 'PDC 0 1 1'\n",
            "   ❔ Pregunta: 'UNIDAD' -> Respuesta: 'UNIDAD 0 11'\n",
            "   ❔ Pregunta: 'VOTOS BLANCOS' -> Respuesta: '41'\n",
            "   ❔ Pregunta: 'VOTOS NULOS' -> Respuesta: '47'\n"
          ]
        },
        {
          "name": "stderr",
          "output_type": "stream",
          "text": [
            "\n",
            "Procesando Actas con Donut:   6%|▋         | 35/545 [15:20<3:46:55, 26.70s/it]\u001b[A"
          ]
        },
        {
          "name": "stdout",
          "output_type": "stream",
          "text": [
            "   ❔ Pregunta: 'VOTOS VÁLIDOS' -> Respuesta: '66'\n",
            "\n",
            "--- Interrogando al acta: mesa_5_104544.jpg ---\n",
            "   ❔ Pregunta: 'AP' -> Respuesta: 'AP 011'\n",
            "   ❔ Pregunta: 'APB SÚMATE' -> Respuesta: 'APB SÚMATE MOSA 5'\n",
            "   ❔ Pregunta: 'CODIGO MESA' -> Respuesta: '5'\n",
            "   ❔ Pregunta: 'ELECTORES HABILITADOS' -> Respuesta: '3'\n",
            "   ❔ Pregunta: 'FP' -> Respuesta: 'FP 006'\n",
            "   ❔ Pregunta: 'LIBRE' -> Respuesta: 'LIBRE 0.08.00'\n",
            "   ❔ Pregunta: 'LYP ADN' -> Respuesta: 'LYP ADN 0 1 1 1 4'\n",
            "   ❔ Pregunta: 'MAS-IPSP' -> Respuesta: 'MAS-IPSP 08.00'\n",
            "   ❔ Pregunta: 'MESA' -> Respuesta: '5'\n",
            "   ❔ Pregunta: 'MORENA' -> Respuesta: 'MORENA 08.00'\n",
            "   ❔ Pregunta: 'PAPELETAS EN ÁNFORA' -> Respuesta: '51'\n",
            "   ❔ Pregunta: 'PAPELETAS NO UTILIZADAS' -> Respuesta: '800'\n",
            "   ❔ Pregunta: 'PDC' -> Respuesta: 'PDC 012'\n",
            "   ❔ Pregunta: 'UNIDAD' -> Respuesta: 'UNIDAD 007'\n",
            "   ❔ Pregunta: 'VOTOS BLANCOS' -> Respuesta: '3'\n",
            "   ❔ Pregunta: 'VOTOS NULOS' -> Respuesta: '51'\n"
          ]
        },
        {
          "name": "stderr",
          "output_type": "stream",
          "text": [
            "\n",
            "Procesando Actas con Donut:   7%|▋         | 36/545 [15:47<3:47:12, 26.78s/it]\u001b[A"
          ]
        },
        {
          "name": "stdout",
          "output_type": "stream",
          "text": [
            "   ❔ Pregunta: 'VOTOS VÁLIDOS' -> Respuesta: '60'\n",
            "\n",
            "--- Interrogando al acta: mesa_11_104704.jpg ---\n",
            "   ❔ Pregunta: 'AP' -> Respuesta: 'AP 0470-4'\n",
            "   ❔ Pregunta: 'APB SÚMATE' -> Respuesta: 'APB SÚMATE 003'\n",
            "   ❔ Pregunta: 'CODIGO MESA' -> Respuesta: '11'\n",
            "   ❔ Pregunta: 'ELECTORES HABILITADOS' -> Respuesta: '3'\n",
            "   ❔ Pregunta: 'FP' -> Respuesta: 'FP 009'\n",
            "   ❔ Pregunta: 'LIBRE' -> Respuesta: 'LIBRE 009'\n",
            "   ❔ Pregunta: 'LYP ADN' -> Respuesta: 'LYP ADN 003'\n",
            "   ❔ Pregunta: 'MAS-IPSP' -> Respuesta: 'MAS-IPSP 009'\n",
            "   ❔ Pregunta: 'MESA' -> Respuesta: '11'\n",
            "   ❔ Pregunta: 'MORENA' -> Respuesta: 'MORENA 0.13'\n",
            "   ❔ Pregunta: 'PAPELETAS EN ÁNFORA' -> Respuesta: '15'\n",
            "   ❔ Pregunta: 'PAPELETAS NO UTILIZADAS' -> Respuesta: '20'\n",
            "   ❔ Pregunta: 'PDC' -> Respuesta: 'PDC 016'\n",
            "   ❔ Pregunta: 'UNIDAD' -> Respuesta: 'UNIDAD 009'\n",
            "   ❔ Pregunta: 'VOTOS BLANCOS' -> Respuesta: '8'\n",
            "   ❔ Pregunta: 'VOTOS NULOS' -> Respuesta: '38'\n"
          ]
        },
        {
          "name": "stderr",
          "output_type": "stream",
          "text": [
            "\n",
            "Procesando Actas con Donut:   7%|▋         | 37/545 [16:13<3:45:46, 26.67s/it]\u001b[A"
          ]
        },
        {
          "name": "stdout",
          "output_type": "stream",
          "text": [
            "   ❔ Pregunta: 'VOTOS VÁLIDOS' -> Respuesta: '67'\n",
            "\n",
            "--- Interrogando al acta: mesa_20_104574.jpg ---\n",
            "   ❔ Pregunta: 'AP' -> Respuesta: 'AP 0.23'\n",
            "   ❔ Pregunta: 'APB SÚMATE' -> Respuesta: 'APB SÚMATE 006'\n",
            "   ❔ Pregunta: 'CODIGO MESA' -> Respuesta: '4574'\n",
            "   ❔ Pregunta: 'ELECTORES HABILITADOS' -> Respuesta: '3'\n",
            "   ❔ Pregunta: 'FP' -> Respuesta: 'FP 070'\n",
            "   ❔ Pregunta: 'LIBRE' -> Respuesta: 'LIBRE 0.10'\n",
            "   ❔ Pregunta: 'LYP ADN' -> Respuesta: 'LYP ADN APB SUMATE'\n",
            "   ❔ Pregunta: 'MAS-IPSP' -> Respuesta: 'MAS-IPSP 005'\n",
            "   ❔ Pregunta: 'MESA' -> Respuesta: '20'\n",
            "   ❔ Pregunta: 'MORENA' -> Respuesta: 'MORENA 20'\n",
            "   ❔ Pregunta: 'PAPELETAS EN ÁNFORA' -> Respuesta: '7'\n",
            "   ❔ Pregunta: 'PAPELETAS NO UTILIZADAS' -> Respuesta: '20'\n",
            "   ❔ Pregunta: 'PDC' -> Respuesta: 'PDC 017'\n",
            "   ❔ Pregunta: 'UNIDAD' -> Respuesta: 'UNIDAD 011'\n",
            "   ❔ Pregunta: 'VOTOS BLANCOS' -> Respuesta: '4'\n",
            "   ❔ Pregunta: 'VOTOS NULOS' -> Respuesta: '26'\n"
          ]
        },
        {
          "name": "stderr",
          "output_type": "stream",
          "text": [
            "\n",
            "Procesando Actas con Donut:   7%|▋         | 38/545 [16:40<3:45:36, 26.70s/it]\u001b[A"
          ]
        },
        {
          "name": "stdout",
          "output_type": "stream",
          "text": [
            "   ❔ Pregunta: 'VOTOS VÁLIDOS' -> Respuesta: '83'\n",
            "\n",
            "--- Interrogando al acta: mesa_10_104694.jpg ---\n",
            "   ❔ Pregunta: 'AP' -> Respuesta: 'AP 0 1'\n",
            "   ❔ Pregunta: 'APB SÚMATE' -> Respuesta: 'APB SÚMATE 0 1'\n",
            "   ❔ Pregunta: 'CODIGO MESA' -> Respuesta: '8'\n",
            "   ❔ Pregunta: 'ELECTORES HABILITADOS' -> Respuesta: '3'\n",
            "   ❔ Pregunta: 'FP' -> Respuesta: 'FP 0.8'\n",
            "   ❔ Pregunta: 'LIBRE' -> Respuesta: 'LIBRE 0 1'\n",
            "   ❔ Pregunta: 'LYP ADN' -> Respuesta: 'LYP ADN AP COMATE'\n",
            "   ❔ Pregunta: 'MAS-IPSP' -> Respuesta: 'MAS-IPSP 0 1 0'\n",
            "   ❔ Pregunta: 'MESA' -> Respuesta: '10'\n",
            "   ❔ Pregunta: 'MORENA' -> Respuesta: 'MORENA 0 1'\n",
            "   ❔ Pregunta: 'PAPELETAS EN ÁNFORA' -> Respuesta: '8'\n",
            "   ❔ Pregunta: 'PAPELETAS NO UTILIZADAS' -> Respuesta: '8'\n",
            "   ❔ Pregunta: 'PDC' -> Respuesta: 'PDC 006'\n",
            "   ❔ Pregunta: 'UNIDAD' -> Respuesta: 'UNIDAD 008'\n",
            "   ❔ Pregunta: 'VOTOS BLANCOS' -> Respuesta: '5'\n",
            "   ❔ Pregunta: 'VOTOS NULOS' -> Respuesta: '13'\n"
          ]
        },
        {
          "name": "stderr",
          "output_type": "stream",
          "text": [
            "\n",
            "Procesando Actas con Donut:   7%|▋         | 39/545 [17:07<3:45:51, 26.78s/it]\u001b[A"
          ]
        },
        {
          "name": "stdout",
          "output_type": "stream",
          "text": [
            "   ❔ Pregunta: 'VOTOS VÁLIDOS' -> Respuesta: '60'\n",
            "\n",
            "--- Interrogando al acta: mesa_14_104614.jpg ---\n",
            "   ❔ Pregunta: 'AP' -> Respuesta: 'AP 0.30'\n",
            "   ❔ Pregunta: 'APB SÚMATE' -> Respuesta: 'APB SÚMATE 004'\n",
            "   ❔ Pregunta: 'CODIGO MESA' -> Respuesta: '14'\n",
            "   ❔ Pregunta: 'ELECTORES HABILITADOS' -> Respuesta: '3'\n",
            "   ❔ Pregunta: 'FP' -> Respuesta: 'FP 004'\n",
            "   ❔ Pregunta: 'LIBRE' -> Respuesta: 'LIBRE 005'\n",
            "   ❔ Pregunta: 'LYP ADN' -> Respuesta: 'LYP ADN 007'\n",
            "   ❔ Pregunta: 'MAS-IPSP' -> Respuesta: 'MAS-IPSP 006'\n",
            "   ❔ Pregunta: 'MESA' -> Respuesta: '14'\n",
            "   ❔ Pregunta: 'MORENA' -> Respuesta: 'MORENA 0.8'\n",
            "   ❔ Pregunta: 'PAPELETAS EN ÁNFORA' -> Respuesta: '718'\n",
            "   ❔ Pregunta: 'PAPELETAS NO UTILIZADAS' -> Respuesta: '202'\n",
            "   ❔ Pregunta: 'PDC' -> Respuesta: 'PDC 076'\n",
            "   ❔ Pregunta: 'UNIDAD' -> Respuesta: 'UNIDAD 040'\n",
            "   ❔ Pregunta: 'VOTOS BLANCOS' -> Respuesta: '6'\n",
            "   ❔ Pregunta: 'VOTOS NULOS' -> Respuesta: '25'\n"
          ]
        },
        {
          "name": "stderr",
          "output_type": "stream",
          "text": [
            "\n",
            "Procesando Actas con Donut:   7%|▋         | 40/545 [17:33<3:44:47, 26.71s/it]\u001b[A"
          ]
        },
        {
          "name": "stdout",
          "output_type": "stream",
          "text": [
            "   ❔ Pregunta: 'VOTOS VÁLIDOS' -> Respuesta: '87'\n",
            "\n",
            "--- Interrogando al acta: mesa_1_104504.jpg ---\n",
            "   ❔ Pregunta: 'AP' -> Respuesta: 'AP 003'\n",
            "   ❔ Pregunta: 'APB SÚMATE' -> Respuesta: 'APB SÚMATE 005'\n",
            "   ❔ Pregunta: 'CODIGO MESA' -> Respuesta: 'None'\n",
            "   ❔ Pregunta: 'ELECTORES HABILITADOS' -> Respuesta: '3'\n",
            "   ❔ Pregunta: 'FP' -> Respuesta: 'FP 004'\n",
            "   ❔ Pregunta: 'LIBRE' -> Respuesta: 'LIBRE 007'\n",
            "   ❔ Pregunta: 'LYP ADN' -> Respuesta: 'LYP ADN 003'\n",
            "   ❔ Pregunta: 'MAS-IPSP' -> Respuesta: 'MAS-IPSP 0 06'\n",
            "   ❔ Pregunta: 'MESA' -> Respuesta: '1'\n",
            "   ❔ Pregunta: 'MORENA' -> Respuesta: 'MORENA 09 60'\n",
            "   ❔ Pregunta: 'PAPELETAS EN ÁNFORA' -> Respuesta: '28'\n",
            "   ❔ Pregunta: 'PAPELETAS NO UTILIZADAS' -> Respuesta: '2'\n",
            "   ❔ Pregunta: 'PDC' -> Respuesta: 'PDC 012'\n",
            "   ❔ Pregunta: 'UNIDAD' -> Respuesta: 'UNIDAD 010'\n",
            "   ❔ Pregunta: 'VOTOS BLANCOS' -> Respuesta: '1'\n",
            "   ❔ Pregunta: 'VOTOS NULOS' -> Respuesta: '38'\n"
          ]
        },
        {
          "name": "stderr",
          "output_type": "stream",
          "text": [
            "\n",
            "Procesando Actas con Donut:   8%|▊         | 41/545 [18:00<3:43:39, 26.63s/it]\u001b[A"
          ]
        },
        {
          "name": "stdout",
          "output_type": "stream",
          "text": [
            "   ❔ Pregunta: 'VOTOS VÁLIDOS' -> Respuesta: '63'\n",
            "\n",
            "--- Interrogando al acta: mesa_15_104624.jpg ---\n",
            "   ❔ Pregunta: 'AP' -> Respuesta: 'AP 0.8 28'\n",
            "   ❔ Pregunta: 'APB SÚMATE' -> Respuesta: 'APB SÚMATE MOS-LIPS'\n",
            "   ❔ Pregunta: 'CODIGO MESA' -> Respuesta: '15'\n",
            "   ❔ Pregunta: 'ELECTORES HABILITADOS' -> Respuesta: '3'\n",
            "   ❔ Pregunta: 'FP' -> Respuesta: 'FP 0.28'\n",
            "   ❔ Pregunta: 'LIBRE' -> Respuesta: 'LIBRE 0.8 28'\n",
            "   ❔ Pregunta: 'LYP ADN' -> Respuesta: 'LYP ADN 08 28'\n",
            "   ❔ Pregunta: 'MAS-IPSP' -> Respuesta: 'MAS-IPSP 0.8'\n",
            "   ❔ Pregunta: 'MESA' -> Respuesta: '15'\n",
            "   ❔ Pregunta: 'MORENA' -> Respuesta: 'MORENA 4 6 4'\n",
            "   ❔ Pregunta: 'PAPELETAS EN ÁNFORA' -> Respuesta: '25'\n",
            "   ❔ Pregunta: 'PAPELETAS NO UTILIZADAS' -> Respuesta: '28'\n",
            "   ❔ Pregunta: 'PDC' -> Respuesta: 'PDC 0 12'\n",
            "   ❔ Pregunta: 'UNIDAD' -> Respuesta: 'UNIDAD 0 1'\n",
            "   ❔ Pregunta: 'VOTOS BLANCOS' -> Respuesta: '60'\n",
            "   ❔ Pregunta: 'VOTOS NULOS' -> Respuesta: '60'\n"
          ]
        },
        {
          "name": "stderr",
          "output_type": "stream",
          "text": [
            "\n",
            "Procesando Actas con Donut:   8%|▊         | 42/545 [18:26<3:42:39, 26.56s/it]\u001b[A"
          ]
        },
        {
          "name": "stdout",
          "output_type": "stream",
          "text": [
            "   ❔ Pregunta: 'VOTOS VÁLIDOS' -> Respuesta: '60'\n",
            "\n",
            "--- Interrogando al acta: mesa_2_104734.jpg ---\n",
            "   ❔ Pregunta: 'AP' -> Respuesta: 'AP 0 6'\n",
            "   ❔ Pregunta: 'APB SÚMATE' -> Respuesta: 'APB SÚMATE MESA: 2'\n",
            "   ❔ Pregunta: 'CODIGO MESA' -> Respuesta: 'None'\n",
            "   ❔ Pregunta: 'ELECTORES HABILITADOS' -> Respuesta: '3'\n",
            "   ❔ Pregunta: 'FP' -> Respuesta: 'FP 0.0'\n",
            "   ❔ Pregunta: 'LIBRE' -> Respuesta: 'LIBRE 0.06.'\n",
            "   ❔ Pregunta: 'LYP ADN' -> Respuesta: 'LYP ADN AP'\n",
            "   ❔ Pregunta: 'MAS-IPSP' -> Respuesta: 'MAS-IPSP 0.6'\n",
            "   ❔ Pregunta: 'MESA' -> Respuesta: '800'\n",
            "   ❔ Pregunta: 'MORENA' -> Respuesta: 'MORENA 0.83'\n",
            "   ❔ Pregunta: 'PAPELETAS EN ÁNFORA' -> Respuesta: '83'\n",
            "   ❔ Pregunta: 'PAPELETAS NO UTILIZADAS' -> Respuesta: '64'\n",
            "   ❔ Pregunta: 'PDC' -> Respuesta: 'PDC 008'\n",
            "   ❔ Pregunta: 'UNIDAD' -> Respuesta: 'UNIDAD 0.17'\n",
            "   ❔ Pregunta: 'VOTOS BLANCOS' -> Respuesta: '17'\n",
            "   ❔ Pregunta: 'VOTOS NULOS' -> Respuesta: '9'\n"
          ]
        },
        {
          "name": "stderr",
          "output_type": "stream",
          "text": [
            "\n",
            "Procesando Actas con Donut:   8%|▊         | 43/545 [18:53<3:42:44, 26.62s/it]\u001b[A"
          ]
        },
        {
          "name": "stdout",
          "output_type": "stream",
          "text": [
            "   ❔ Pregunta: 'VOTOS VÁLIDOS' -> Respuesta: '43'\n",
            "\n",
            "--- Interrogando al acta: mesa_1_104724.jpg ---\n",
            "   ❔ Pregunta: 'AP' -> Respuesta: 'AP 0 1 7'\n",
            "   ❔ Pregunta: 'APB SÚMATE' -> Respuesta: 'APB SÚMATE LINDAD'\n",
            "   ❔ Pregunta: 'CODIGO MESA' -> Respuesta: '1'\n",
            "   ❔ Pregunta: 'ELECTORES HABILITADOS' -> Respuesta: '3'\n",
            "   ❔ Pregunta: 'FP' -> Respuesta: 'FP 005'\n",
            "   ❔ Pregunta: 'LIBRE' -> Respuesta: 'LIBRE 0 1 0'\n",
            "   ❔ Pregunta: 'LYP ADN' -> Respuesta: 'LYP ADN 004'\n",
            "   ❔ Pregunta: 'MAS-IPSP' -> Respuesta: 'MAS-IPSP 009'\n",
            "   ❔ Pregunta: 'MESA' -> Respuesta: '1'\n",
            "   ❔ Pregunta: 'MORENA' -> Respuesta: 'MORENA 748'\n",
            "   ❔ Pregunta: 'PAPELETAS EN ÁNFORA' -> Respuesta: '748'\n",
            "   ❔ Pregunta: 'PAPELETAS NO UTILIZADAS' -> Respuesta: '748'\n",
            "   ❔ Pregunta: 'PDC' -> Respuesta: 'PDC 039'\n",
            "   ❔ Pregunta: 'UNIDAD' -> Respuesta: 'UNIDAD 0 1 5'\n",
            "   ❔ Pregunta: 'VOTOS BLANCOS' -> Respuesta: '4'\n",
            "   ❔ Pregunta: 'VOTOS NULOS' -> Respuesta: '39'\n"
          ]
        },
        {
          "name": "stderr",
          "output_type": "stream",
          "text": [
            "\n",
            "Procesando Actas con Donut:   8%|▊         | 44/545 [19:20<3:42:21, 26.63s/it]\u001b[A"
          ]
        },
        {
          "name": "stdout",
          "output_type": "stream",
          "text": [
            "   ❔ Pregunta: 'VOTOS VÁLIDOS' -> Respuesta: '105'\n",
            "\n",
            "--- Interrogando al acta: mesa_2_105294.jpg ---\n",
            "   ❔ Pregunta: 'AP' -> Respuesta: 'AP MOSA'\n",
            "   ❔ Pregunta: 'APB SÚMATE' -> Respuesta: 'APB SÚMATE MESA 2'\n",
            "   ❔ Pregunta: 'CODIGO MESA' -> Respuesta: 'None'\n",
            "   ❔ Pregunta: 'ELECTORES HABILITADOS' -> Respuesta: '3'\n",
            "   ❔ Pregunta: 'FP' -> Respuesta: 'FP 08.00'\n",
            "   ❔ Pregunta: 'LIBRE' -> Respuesta: 'LIBRE 08.00'\n",
            "   ❔ Pregunta: 'LYP ADN' -> Respuesta: 'LYP ADN MESA 2'\n",
            "   ❔ Pregunta: 'MAS-IPSP' -> Respuesta: 'MAS-IPSP 00'\n",
            "   ❔ Pregunta: 'MESA' -> Respuesta: '2'\n",
            "   ❔ Pregunta: 'MORENA' -> Respuesta: 'MORENA 18'\n",
            "   ❔ Pregunta: 'PAPELETAS EN ÁNFORA' -> Respuesta: '405294'\n",
            "   ❔ Pregunta: 'PAPELETAS NO UTILIZADAS' -> Respuesta: '466'\n",
            "   ❔ Pregunta: 'PDC' -> Respuesta: 'PDC 0.08.'\n",
            "   ❔ Pregunta: 'UNIDAD' -> Respuesta: 'UNIDAD 003'\n",
            "   ❔ Pregunta: 'VOTOS BLANCOS' -> Respuesta: '6'\n",
            "   ❔ Pregunta: 'VOTOS NULOS' -> Respuesta: '30'\n"
          ]
        },
        {
          "name": "stderr",
          "output_type": "stream",
          "text": [
            "\n",
            "Procesando Actas con Donut:   8%|▊         | 45/545 [19:46<3:41:47, 26.62s/it]\u001b[A"
          ]
        },
        {
          "name": "stdout",
          "output_type": "stream",
          "text": [
            "   ❔ Pregunta: 'VOTOS VÁLIDOS' -> Respuesta: '30'\n",
            "\n",
            "--- Interrogando al acta: mesa_3_105304.jpg ---\n",
            "   ❔ Pregunta: 'AP' -> Respuesta: 'AP A3'\n",
            "   ❔ Pregunta: 'APB SÚMATE' -> Respuesta: 'APB SÚMATE 0530-4'\n",
            "   ❔ Pregunta: 'CODIGO MESA' -> Respuesta: '3'\n",
            "   ❔ Pregunta: 'ELECTORES HABILITADOS' -> Respuesta: '3'\n",
            "   ❔ Pregunta: 'FP' -> Respuesta: 'FP A3'\n",
            "   ❔ Pregunta: 'LIBRE' -> Respuesta: 'LIBRE OEP'\n",
            "   ❔ Pregunta: 'LYP ADN' -> Respuesta: 'LYP ADN OEP'\n",
            "   ❔ Pregunta: 'MAS-IPSP' -> Respuesta: 'MAS-IPSP A3'\n",
            "   ❔ Pregunta: 'MESA' -> Respuesta: '3'\n",
            "   ❔ Pregunta: 'MORENA' -> Respuesta: 'MORENA 10530-4'\n",
            "   ❔ Pregunta: 'PAPELETAS EN ÁNFORA' -> Respuesta: '13'\n",
            "   ❔ Pregunta: 'PAPELETAS NO UTILIZADAS' -> Respuesta: '13'\n",
            "   ❔ Pregunta: 'PDC' -> Respuesta: 'PDC OEP'\n",
            "   ❔ Pregunta: 'UNIDAD' -> Respuesta: 'UNIDAD MESA: 3'\n",
            "   ❔ Pregunta: 'VOTOS BLANCOS' -> Respuesta: '5'\n",
            "   ❔ Pregunta: 'VOTOS NULOS' -> Respuesta: '4'\n"
          ]
        },
        {
          "name": "stderr",
          "output_type": "stream",
          "text": [
            "\n",
            "Procesando Actas con Donut:   8%|▊         | 46/545 [20:13<3:41:04, 26.58s/it]\u001b[A"
          ]
        },
        {
          "name": "stdout",
          "output_type": "stream",
          "text": [
            "   ❔ Pregunta: 'VOTOS VÁLIDOS' -> Respuesta: '40'\n",
            "\n",
            "--- Interrogando al acta: mesa_1_105284.jpg ---\n",
            "   ❔ Pregunta: 'AP' -> Respuesta: 'AP 014'\n",
            "   ❔ Pregunta: 'APB SÚMATE' -> Respuesta: 'APB SÚMATE 0800'\n",
            "   ❔ Pregunta: 'CODIGO MESA' -> Respuesta: '800'\n",
            "   ❔ Pregunta: 'ELECTORES HABILITADOS' -> Respuesta: '3'\n",
            "   ❔ Pregunta: 'FP' -> Respuesta: 'FP 003'\n",
            "   ❔ Pregunta: 'LIBRE' -> Respuesta: 'LIBRE 002'\n",
            "   ❔ Pregunta: 'LYP ADN' -> Respuesta: 'LYP ADN 014'\n",
            "   ❔ Pregunta: 'MAS-IPSP' -> Respuesta: 'MAS-IPSP 003'\n",
            "   ❔ Pregunta: 'MESA' -> Respuesta: '1'\n",
            "   ❔ Pregunta: 'MORENA' -> Respuesta: 'MORENA 15785258'\n",
            "   ❔ Pregunta: 'PAPELETAS EN ÁNFORA' -> Respuesta: '462'\n",
            "   ❔ Pregunta: 'PAPELETAS NO UTILIZADAS' -> Respuesta: '457'\n",
            "   ❔ Pregunta: 'PDC' -> Respuesta: 'PDC 020'\n",
            "   ❔ Pregunta: 'UNIDAD' -> Respuesta: 'UNIDAD 002'\n",
            "   ❔ Pregunta: 'VOTOS BLANCOS' -> Respuesta: '8'\n",
            "   ❔ Pregunta: 'VOTOS NULOS' -> Respuesta: '108'\n"
          ]
        },
        {
          "name": "stderr",
          "output_type": "stream",
          "text": [
            "\n",
            "Procesando Actas con Donut:   9%|▊         | 47/545 [20:39<3:41:10, 26.65s/it]\u001b[A"
          ]
        },
        {
          "name": "stdout",
          "output_type": "stream",
          "text": [
            "   ❔ Pregunta: 'VOTOS VÁLIDOS' -> Respuesta: '46'\n",
            "\n",
            "--- Interrogando al acta: mesa_4_105314.jpg ---\n",
            "   ❔ Pregunta: 'AP' -> Respuesta: 'AP A3'\n",
            "   ❔ Pregunta: 'APB SÚMATE' -> Respuesta: 'APB SÚMATE 080'\n",
            "   ❔ Pregunta: 'CODIGO MESA' -> Respuesta: '800'\n",
            "   ❔ Pregunta: 'ELECTORES HABILITADOS' -> Respuesta: '3'\n",
            "   ❔ Pregunta: 'FP' -> Respuesta: 'FP 0'\n",
            "   ❔ Pregunta: 'LIBRE' -> Respuesta: 'LIBRE 0'\n",
            "   ❔ Pregunta: 'LYP ADN' -> Respuesta: 'LYP ADN 024'\n",
            "   ❔ Pregunta: 'MAS-IPSP' -> Respuesta: 'MAS-IPSP 080'\n",
            "   ❔ Pregunta: 'MESA' -> Respuesta: '800'\n",
            "   ❔ Pregunta: 'MORENA' -> Respuesta: 'MORENA 024'\n",
            "   ❔ Pregunta: 'PAPELETAS EN ÁNFORA' -> Respuesta: '506270'\n",
            "   ❔ Pregunta: 'PAPELETAS NO UTILIZADAS' -> Respuesta: '28'\n",
            "   ❔ Pregunta: 'PDC' -> Respuesta: 'PDC 024'\n",
            "   ❔ Pregunta: 'UNIDAD' -> Respuesta: 'UNIDAD 0'\n",
            "   ❔ Pregunta: 'VOTOS BLANCOS' -> Respuesta: '3'\n",
            "   ❔ Pregunta: 'VOTOS NULOS' -> Respuesta: '28'\n"
          ]
        },
        {
          "name": "stderr",
          "output_type": "stream",
          "text": [
            "\n",
            "Procesando Actas con Donut:   9%|▉         | 48/545 [21:06<3:40:35, 26.63s/it]\u001b[A"
          ]
        },
        {
          "name": "stdout",
          "output_type": "stream",
          "text": [
            "   ❔ Pregunta: 'VOTOS VÁLIDOS' -> Respuesta: '28'\n",
            "\n",
            "--- Interrogando al acta: mesa_3_105114.jpg ---\n",
            "   ❔ Pregunta: 'AP' -> Respuesta: 'AP APS COMATE'\n",
            "   ❔ Pregunta: 'APB SÚMATE' -> Respuesta: 'APB SÚMATE MOSISP'\n",
            "   ❔ Pregunta: 'CODIGO MESA' -> Respuesta: '3'\n",
            "   ❔ Pregunta: 'ELECTORES HABILITADOS' -> Respuesta: '3'\n",
            "   ❔ Pregunta: 'FP' -> Respuesta: 'FP 0.40'\n",
            "   ❔ Pregunta: 'LIBRE' -> Respuesta: 'LIBRE 003'\n",
            "   ❔ Pregunta: 'LYP ADN' -> Respuesta: 'LYP ADN APS COMATE'\n",
            "   ❔ Pregunta: 'MAS-IPSP' -> Respuesta: 'MAS-IPSP 0.4'\n",
            "   ❔ Pregunta: 'MESA' -> Respuesta: '3'\n",
            "   ❔ Pregunta: 'MORENA' -> Respuesta: 'MORENA 0.13'\n",
            "   ❔ Pregunta: 'PAPELETAS EN ÁNFORA' -> Respuesta: '99'\n",
            "   ❔ Pregunta: 'PAPELETAS NO UTILIZADAS' -> Respuesta: '99'\n",
            "   ❔ Pregunta: 'PDC' -> Respuesta: 'PDC 0.40'\n",
            "   ❔ Pregunta: 'UNIDAD' -> Respuesta: 'UNIDAD 042'\n",
            "   ❔ Pregunta: 'VOTOS BLANCOS' -> Respuesta: '9'\n",
            "   ❔ Pregunta: 'VOTOS NULOS' -> Respuesta: '26'\n"
          ]
        },
        {
          "name": "stderr",
          "output_type": "stream",
          "text": [
            "\n",
            "Procesando Actas con Donut:   9%|▉         | 49/545 [21:33<3:39:55, 26.60s/it]\u001b[A"
          ]
        },
        {
          "name": "stdout",
          "output_type": "stream",
          "text": [
            "   ❔ Pregunta: 'VOTOS VÁLIDOS' -> Respuesta: '64'\n",
            "\n",
            "--- Interrogando al acta: mesa_1_105094.jpg ---\n",
            "   ❔ Pregunta: 'AP' -> Respuesta: 'AP 012'\n",
            "   ❔ Pregunta: 'APB SÚMATE' -> Respuesta: 'APB SÚMATE 006'\n",
            "   ❔ Pregunta: 'CODIGO MESA' -> Respuesta: '1'\n",
            "   ❔ Pregunta: 'ELECTORES HABILITADOS' -> Respuesta: '3'\n",
            "   ❔ Pregunta: 'FP' -> Respuesta: 'FP 009'\n",
            "   ❔ Pregunta: 'LIBRE' -> Respuesta: 'LIBRE 0.13'\n",
            "   ❔ Pregunta: 'LYP ADN' -> Respuesta: 'LYP ADN 005'\n",
            "   ❔ Pregunta: 'MAS-IPSP' -> Respuesta: 'MAS-IPSP 008'\n",
            "   ❔ Pregunta: 'MESA' -> Respuesta: '1'\n",
            "   ❔ Pregunta: 'MORENA' -> Respuesta: 'MORENA 0.13'\n",
            "   ❔ Pregunta: 'PAPELETAS EN ÁNFORA' -> Respuesta: '15'\n",
            "   ❔ Pregunta: 'PAPELETAS NO UTILIZADAS' -> Respuesta: '13'\n",
            "   ❔ Pregunta: 'PDC' -> Respuesta: 'PDC 018'\n",
            "   ❔ Pregunta: 'UNIDAD' -> Respuesta: 'UNIDAD 0.19'\n",
            "   ❔ Pregunta: 'VOTOS BLANCOS' -> Respuesta: '6'\n",
            "   ❔ Pregunta: 'VOTOS NULOS' -> Respuesta: '32'\n"
          ]
        },
        {
          "name": "stderr",
          "output_type": "stream",
          "text": [
            "\n",
            "Procesando Actas con Donut:   9%|▉         | 50/545 [21:59<3:38:44, 26.51s/it]\u001b[A"
          ]
        },
        {
          "name": "stdout",
          "output_type": "stream",
          "text": [
            "   ❔ Pregunta: 'VOTOS VÁLIDOS' -> Respuesta: '101'\n",
            "\n",
            "--- Interrogando al acta: mesa_4_105124.jpg ---\n",
            "   ❔ Pregunta: 'AP' -> Respuesta: 'AP 002'\n",
            "   ❔ Pregunta: 'APB SÚMATE' -> Respuesta: 'APB SÚMATE 000'\n",
            "   ❔ Pregunta: 'CODIGO MESA' -> Respuesta: '4'\n",
            "   ❔ Pregunta: 'ELECTORES HABILITADOS' -> Respuesta: '3'\n",
            "   ❔ Pregunta: 'FP' -> Respuesta: 'FP 001'\n",
            "   ❔ Pregunta: 'LIBRE' -> Respuesta: 'LIBRE 0.91'\n",
            "   ❔ Pregunta: 'LYP ADN' -> Respuesta: 'LYP ADN 002'\n",
            "   ❔ Pregunta: 'MAS-IPSP' -> Respuesta: 'MAS-IPSP 001'\n",
            "   ❔ Pregunta: 'MESA' -> Respuesta: '4'\n",
            "   ❔ Pregunta: 'MORENA' -> Respuesta: 'MORENA 0.73'\n",
            "   ❔ Pregunta: 'PAPELETAS EN ÁNFORA' -> Respuesta: '74'\n",
            "   ❔ Pregunta: 'PAPELETAS NO UTILIZADAS' -> Respuesta: '9'\n",
            "   ❔ Pregunta: 'PDC' -> Respuesta: 'PDC 003'\n",
            "   ❔ Pregunta: 'UNIDAD' -> Respuesta: 'UNIDAD 001'\n",
            "   ❔ Pregunta: 'VOTOS BLANCOS' -> Respuesta: '3'\n",
            "   ❔ Pregunta: 'VOTOS NULOS' -> Respuesta: '9'\n"
          ]
        },
        {
          "name": "stderr",
          "output_type": "stream",
          "text": [
            "\n",
            "Procesando Actas con Donut:   9%|▉         | 51/545 [22:25<3:38:31, 26.54s/it]\u001b[A"
          ]
        },
        {
          "name": "stdout",
          "output_type": "stream",
          "text": [
            "   ❔ Pregunta: 'VOTOS VÁLIDOS' -> Respuesta: '12'\n",
            "\n",
            "--- Interrogando al acta: mesa_2_105104.jpg ---\n",
            "   ❔ Pregunta: 'AP' -> Respuesta: 'AP 0 1 1 1 1 1 1 1 1 1 1 1 1 1 1 1 1 1 1 1 1 1 1 1 1 1 1 1 1 1 1 1 1 1 1 1 1 1 1 1 1 1 1 1 1 1 1 1 1 1 1 1 1 1 1 1 1 1 1 1 1 1 1 1 1 1 1 1 1 1 1 1 1 1 1 1 1 1 1 1 1 1 1 1 1 1 1 1 1 1 1 1 1 1 1 1 1 1 1 1 1 1 1 1 1 1 1 1 1 1 1 1 1 1 1 1 1 1 1 1 1 1'\n",
            "   ❔ Pregunta: 'APB SÚMATE' -> Respuesta: 'APB SÚMATE 0.11'\n",
            "   ❔ Pregunta: 'CODIGO MESA' -> Respuesta: '91'\n",
            "   ❔ Pregunta: 'ELECTORES HABILITADOS' -> Respuesta: '3'\n",
            "   ❔ Pregunta: 'FP' -> Respuesta: 'FP 0.94'\n",
            "   ❔ Pregunta: 'LIBRE' -> Respuesta: 'LIBRE 0.11'\n",
            "   ❔ Pregunta: 'LYP ADN' -> Respuesta: 'LYP ADN 004'\n",
            "   ❔ Pregunta: 'MAS-IPSP' -> Respuesta: 'MAS-IPSP 003'\n",
            "   ❔ Pregunta: 'MESA' -> Respuesta: '9'\n",
            "   ❔ Pregunta: 'MORENA' -> Respuesta: 'MORENA 0 1 1 1 1 0'\n",
            "   ❔ Pregunta: 'PAPELETAS EN ÁNFORA' -> Respuesta: '748'\n",
            "   ❔ Pregunta: 'PAPELETAS NO UTILIZADAS' -> Respuesta: '202'\n",
            "   ❔ Pregunta: 'PDC' -> Respuesta: 'PDC 006'\n",
            "   ❔ Pregunta: 'UNIDAD' -> Respuesta: 'UNIDAD 0 1 3'\n",
            "   ❔ Pregunta: 'VOTOS BLANCOS' -> Respuesta: '10'\n",
            "   ❔ Pregunta: 'VOTOS NULOS' -> Respuesta: '48'\n"
          ]
        },
        {
          "name": "stderr",
          "output_type": "stream",
          "text": [
            "\n",
            "Procesando Actas con Donut:  10%|▉         | 52/545 [22:54<3:41:54, 27.01s/it]\u001b[A"
          ]
        },
        {
          "name": "stdout",
          "output_type": "stream",
          "text": [
            "   ❔ Pregunta: 'VOTOS VÁLIDOS' -> Respuesta: '60'\n",
            "\n",
            "--- Interrogando al acta: mesa_3_105004.jpg ---\n",
            "   ❔ Pregunta: 'AP' -> Respuesta: 'AP 0.34'\n",
            "   ❔ Pregunta: 'APB SÚMATE' -> Respuesta: 'APB SÚMATE 0.34'\n",
            "   ❔ Pregunta: 'CODIGO MESA' -> Respuesta: '3'\n",
            "   ❔ Pregunta: 'ELECTORES HABILITADOS' -> Respuesta: '3'\n",
            "   ❔ Pregunta: 'FP' -> Respuesta: 'FP A3'\n",
            "   ❔ Pregunta: 'LIBRE' -> Respuesta: 'LIBRE MCDO'\n",
            "   ❔ Pregunta: 'LYP ADN' -> Respuesta: 'LYP ADN 00'\n",
            "   ❔ Pregunta: 'MAS-IPSP' -> Respuesta: 'MAS-IPSP 08.00'\n",
            "   ❔ Pregunta: 'MESA' -> Respuesta: '3'\n",
            "   ❔ Pregunta: 'MORENA' -> Respuesta: 'MORENA 76475'\n",
            "   ❔ Pregunta: 'PAPELETAS EN ÁNFORA' -> Respuesta: '45'\n",
            "   ❔ Pregunta: 'PAPELETAS NO UTILIZADAS' -> Respuesta: 'None'\n",
            "   ❔ Pregunta: 'PDC' -> Respuesta: 'PDC 080'\n",
            "   ❔ Pregunta: 'UNIDAD' -> Respuesta: 'UNIDAD 005'\n",
            "   ❔ Pregunta: 'VOTOS BLANCOS' -> Respuesta: '98'\n",
            "   ❔ Pregunta: 'VOTOS NULOS' -> Respuesta: '45'\n"
          ]
        },
        {
          "name": "stderr",
          "output_type": "stream",
          "text": [
            "\n",
            "Procesando Actas con Donut:  10%|▉         | 53/545 [23:20<3:40:03, 26.84s/it]\u001b[A"
          ]
        },
        {
          "name": "stdout",
          "output_type": "stream",
          "text": [
            "   ❔ Pregunta: 'VOTOS VÁLIDOS' -> Respuesta: '45'\n",
            "\n",
            "--- Interrogando al acta: mesa_5_105024.jpg ---\n",
            "   ❔ Pregunta: 'AP' -> Respuesta: 'AP 0 1 1 1 1 1 1 1 1 1 1 1 1 1 1 1 1 1 1 1 1 1 1 1 1 1 1 1 1 1 1 1 1 1 1 1 1 1 1 1 1 1 1 1 1 1 1 1 1 1 1 1 1 1 1 1 1 1 1 1 1 1 1 1 1 1 1 1 1 1 1 1 1 1 1 1 1 1 1 1 1 1 1 1 1 1 1 1 1 1 1 1 1 1 1 1 1 1 1 1 1 1 1 1 1 1 1 1 1 1 1 1 1 1 1 1 1 1 1 1 1 1'\n",
            "   ❔ Pregunta: 'APB SÚMATE' -> Respuesta: 'APB SÚMATE 806'\n",
            "   ❔ Pregunta: 'CODIGO MESA' -> Respuesta: '5'\n",
            "   ❔ Pregunta: 'ELECTORES HABILITADOS' -> Respuesta: '3'\n",
            "   ❔ Pregunta: 'FP' -> Respuesta: 'FP 002'\n",
            "   ❔ Pregunta: 'LIBRE' -> Respuesta: 'LIBRE 014'\n",
            "   ❔ Pregunta: 'LYP ADN' -> Respuesta: 'LYP ADN MESA: 5'\n",
            "   ❔ Pregunta: 'MAS-IPSP' -> Respuesta: 'MAS-IPSP 0 0 4'\n",
            "   ❔ Pregunta: 'MESA' -> Respuesta: '5'\n",
            "   ❔ Pregunta: 'MORENA' -> Respuesta: 'MORENA 08.00'\n",
            "   ❔ Pregunta: 'PAPELETAS EN ÁNFORA' -> Respuesta: '800'\n",
            "   ❔ Pregunta: 'PAPELETAS NO UTILIZADAS' -> Respuesta: '192'\n",
            "   ❔ Pregunta: 'PDC' -> Respuesta: 'PDC 017'\n",
            "   ❔ Pregunta: 'UNIDAD' -> Respuesta: 'UNIDAD 0.06.'\n",
            "   ❔ Pregunta: 'VOTOS BLANCOS' -> Respuesta: '40'\n",
            "   ❔ Pregunta: 'VOTOS NULOS' -> Respuesta: '59'\n"
          ]
        },
        {
          "name": "stderr",
          "output_type": "stream",
          "text": [
            "\n",
            "Procesando Actas con Donut:  10%|▉         | 54/545 [23:47<3:40:17, 26.92s/it]\u001b[A"
          ]
        },
        {
          "name": "stdout",
          "output_type": "stream",
          "text": [
            "   ❔ Pregunta: 'VOTOS VÁLIDOS' -> Respuesta: '59'\n",
            "\n",
            "--- Interrogando al acta: mesa_1_104984.jpg ---\n",
            "   ❔ Pregunta: 'AP' -> Respuesta: 'AP 0.13'\n",
            "   ❔ Pregunta: 'APB SÚMATE' -> Respuesta: 'APB SÚMATE 08 00'\n",
            "   ❔ Pregunta: 'CODIGO MESA' -> Respuesta: '1'\n",
            "   ❔ Pregunta: 'ELECTORES HABILITADOS' -> Respuesta: 'None'\n",
            "   ❔ Pregunta: 'FP' -> Respuesta: 'FP 08.00'\n",
            "   ❔ Pregunta: 'LIBRE' -> Respuesta: 'LIBRE 0.28'\n",
            "   ❔ Pregunta: 'LYP ADN' -> Respuesta: 'LYP ADN AP'\n",
            "   ❔ Pregunta: 'MAS-IPSP' -> Respuesta: 'MAS-IPSP 08.00'\n",
            "   ❔ Pregunta: 'MESA' -> Respuesta: '1'\n",
            "   ❔ Pregunta: 'MORENA' -> Respuesta: 'MORENA 1'\n",
            "   ❔ Pregunta: 'PAPELETAS EN ÁNFORA' -> Respuesta: '50'\n",
            "   ❔ Pregunta: 'PAPELETAS NO UTILIZADAS' -> Respuesta: '800'\n",
            "   ❔ Pregunta: 'PDC' -> Respuesta: 'PDC 009'\n",
            "   ❔ Pregunta: 'UNIDAD' -> Respuesta: 'UNIDAD 0.28'\n",
            "   ❔ Pregunta: 'VOTOS BLANCOS' -> Respuesta: '7'\n",
            "   ❔ Pregunta: 'VOTOS NULOS' -> Respuesta: '87'\n"
          ]
        },
        {
          "name": "stderr",
          "output_type": "stream",
          "text": [
            "\n",
            "Procesando Actas con Donut:  10%|█         | 55/545 [24:13<3:38:28, 26.75s/it]\u001b[A"
          ]
        },
        {
          "name": "stdout",
          "output_type": "stream",
          "text": [
            "   ❔ Pregunta: 'VOTOS VÁLIDOS' -> Respuesta: '87'\n",
            "\n",
            "--- Interrogando al acta: mesa_4_105014.jpg ---\n",
            "   ❔ Pregunta: 'AP' -> Respuesta: 'AP APB SUMATE'\n",
            "   ❔ Pregunta: 'APB SÚMATE' -> Respuesta: 'APB SÚMATE 0.24'\n",
            "   ❔ Pregunta: 'CODIGO MESA' -> Respuesta: 'None'\n",
            "   ❔ Pregunta: 'ELECTORES HABILITADOS' -> Respuesta: '3'\n",
            "   ❔ Pregunta: 'FP' -> Respuesta: 'FP 0.15'\n",
            "   ❔ Pregunta: 'LIBRE' -> Respuesta: 'LIBRE 0.16'\n",
            "   ❔ Pregunta: 'LYP ADN' -> Respuesta: 'LYP ADN APB SUMATE'\n",
            "   ❔ Pregunta: 'MAS-IPSP' -> Respuesta: 'MAS-IPSP 0.10'\n",
            "   ❔ Pregunta: 'MESA' -> Respuesta: '4'\n",
            "   ❔ Pregunta: 'MORENA' -> Respuesta: 'MORENA 186'\n",
            "   ❔ Pregunta: 'PAPELETAS EN ÁNFORA' -> Respuesta: '134'\n",
            "   ❔ Pregunta: 'PAPELETAS NO UTILIZADAS' -> Respuesta: '186'\n",
            "   ❔ Pregunta: 'PDC' -> Respuesta: 'PDC 0.15'\n",
            "   ❔ Pregunta: 'UNIDAD' -> Respuesta: 'UNIDAD 014'\n",
            "   ❔ Pregunta: 'VOTOS BLANCOS' -> Respuesta: '36'\n",
            "   ❔ Pregunta: 'VOTOS NULOS' -> Respuesta: '38'\n"
          ]
        },
        {
          "name": "stderr",
          "output_type": "stream",
          "text": [
            "\n",
            "Procesando Actas con Donut:  10%|█         | 56/545 [24:40<3:38:25, 26.80s/it]\u001b[A"
          ]
        },
        {
          "name": "stdout",
          "output_type": "stream",
          "text": [
            "   ❔ Pregunta: 'VOTOS VÁLIDOS' -> Respuesta: '90'\n",
            "\n",
            "--- Interrogando al acta: mesa_8_105054.jpg ---\n",
            "   ❔ Pregunta: 'AP' -> Respuesta: 'AP 016'\n",
            "   ❔ Pregunta: 'APB SÚMATE' -> Respuesta: 'APB SÚMATE 0.8'\n",
            "   ❔ Pregunta: 'CODIGO MESA' -> Respuesta: '8'\n",
            "   ❔ Pregunta: 'ELECTORES HABILITADOS' -> Respuesta: '3'\n",
            "   ❔ Pregunta: 'FP' -> Respuesta: 'FP 005'\n",
            "   ❔ Pregunta: 'LIBRE' -> Respuesta: 'LIBRE 0.18'\n",
            "   ❔ Pregunta: 'LYP ADN' -> Respuesta: 'LYP ADN AP'\n",
            "   ❔ Pregunta: 'MAS-IPSP' -> Respuesta: 'MAS-IPSP 0 1 1'\n",
            "   ❔ Pregunta: 'MESA' -> Respuesta: '8'\n",
            "   ❔ Pregunta: 'MORENA' -> Respuesta: 'MORENA 18'\n",
            "   ❔ Pregunta: 'PAPELETAS EN ÁNFORA' -> Respuesta: '45'\n",
            "   ❔ Pregunta: 'PAPELETAS NO UTILIZADAS' -> Respuesta: '182'\n",
            "   ❔ Pregunta: 'PDC' -> Respuesta: 'PDC 014'\n",
            "   ❔ Pregunta: 'UNIDAD' -> Respuesta: 'UNIDAD 0.18'\n",
            "   ❔ Pregunta: 'VOTOS BLANCOS' -> Respuesta: '4'\n",
            "   ❔ Pregunta: 'VOTOS NULOS' -> Respuesta: '49'\n"
          ]
        },
        {
          "name": "stderr",
          "output_type": "stream",
          "text": [
            "\n",
            "Procesando Actas con Donut:  10%|█         | 57/545 [25:07<3:37:23, 26.73s/it]\u001b[A"
          ]
        },
        {
          "name": "stdout",
          "output_type": "stream",
          "text": [
            "   ❔ Pregunta: 'VOTOS VÁLIDOS' -> Respuesta: '85'\n",
            "\n",
            "--- Interrogando al acta: mesa_6_105034.jpg ---\n",
            "   ❔ Pregunta: 'AP' -> Respuesta: 'AP 0 37'\n",
            "   ❔ Pregunta: 'APB SÚMATE' -> Respuesta: 'APB SÚMATE 014'\n",
            "   ❔ Pregunta: 'CODIGO MESA' -> Respuesta: '6'\n",
            "   ❔ Pregunta: 'ELECTORES HABILITADOS' -> Respuesta: '3'\n",
            "   ❔ Pregunta: 'FP' -> Respuesta: 'FP 0.26'\n",
            "   ❔ Pregunta: 'LIBRE' -> Respuesta: 'LIBRE 0 24'\n",
            "   ❔ Pregunta: 'LYP ADN' -> Respuesta: 'LYP ADN 005'\n",
            "   ❔ Pregunta: 'MAS-IPSP' -> Respuesta: 'MAS-IPSP 0 0 6'\n",
            "   ❔ Pregunta: 'MESA' -> Respuesta: '6'\n",
            "   ❔ Pregunta: 'MORENA' -> Respuesta: 'MORENA 0 24'\n",
            "   ❔ Pregunta: 'PAPELETAS EN ÁNFORA' -> Respuesta: '94'\n",
            "   ❔ Pregunta: 'PAPELETAS NO UTILIZADAS' -> Respuesta: '327'\n",
            "   ❔ Pregunta: 'PDC' -> Respuesta: 'PDC 00 9'\n",
            "   ❔ Pregunta: 'UNIDAD' -> Respuesta: 'UNIDAD 0 4 4'\n",
            "   ❔ Pregunta: 'VOTOS BLANCOS' -> Respuesta: '94'\n",
            "   ❔ Pregunta: 'VOTOS NULOS' -> Respuesta: '43'\n"
          ]
        },
        {
          "name": "stderr",
          "output_type": "stream",
          "text": [
            "\n",
            "Procesando Actas con Donut:  11%|█         | 58/545 [25:34<3:37:00, 26.74s/it]\u001b[A"
          ]
        },
        {
          "name": "stdout",
          "output_type": "stream",
          "text": [
            "   ❔ Pregunta: 'VOTOS VÁLIDOS' -> Respuesta: '94'\n",
            "\n",
            "--- Interrogando al acta: mesa_7_105044.jpg ---\n",
            "   ❔ Pregunta: 'AP' -> Respuesta: 'AP 020'\n",
            "   ❔ Pregunta: 'APB SÚMATE' -> Respuesta: 'APB SÚMATE 0.10'\n",
            "   ❔ Pregunta: 'CODIGO MESA' -> Respuesta: '7'\n",
            "   ❔ Pregunta: 'ELECTORES HABILITADOS' -> Respuesta: '3'\n",
            "   ❔ Pregunta: 'FP' -> Respuesta: 'FP 0.25'\n",
            "   ❔ Pregunta: 'LIBRE' -> Respuesta: 'LIBRE 0.20'\n",
            "   ❔ Pregunta: 'LYP ADN' -> Respuesta: 'LYP ADN MESA: 7'\n",
            "   ❔ Pregunta: 'MAS-IPSP' -> Respuesta: 'MAS-IPSP 0.8'\n",
            "   ❔ Pregunta: 'MESA' -> Respuesta: '7'\n",
            "   ❔ Pregunta: 'MORENA' -> Respuesta: 'MORENA 435'\n",
            "   ❔ Pregunta: 'PAPELETAS EN ÁNFORA' -> Respuesta: '435'\n",
            "   ❔ Pregunta: 'PAPELETAS NO UTILIZADAS' -> Respuesta: '435'\n",
            "   ❔ Pregunta: 'PDC' -> Respuesta: 'PDC 0.12'\n",
            "   ❔ Pregunta: 'UNIDAD' -> Respuesta: 'UNIDAD 014'\n",
            "   ❔ Pregunta: 'VOTOS BLANCOS' -> Respuesta: '4'\n",
            "   ❔ Pregunta: 'VOTOS NULOS' -> Respuesta: '46'\n"
          ]
        },
        {
          "name": "stderr",
          "output_type": "stream",
          "text": [
            "\n",
            "Procesando Actas con Donut:  11%|█         | 59/545 [26:00<3:35:25, 26.60s/it]\u001b[A"
          ]
        },
        {
          "name": "stdout",
          "output_type": "stream",
          "text": [
            "   ❔ Pregunta: 'VOTOS VÁLIDOS' -> Respuesta: '85'\n",
            "\n",
            "--- Interrogando al acta: mesa_2_104994.jpg ---\n",
            "   ❔ Pregunta: 'AP' -> Respuesta: 'AP 0.14'\n",
            "   ❔ Pregunta: 'APB SÚMATE' -> Respuesta: 'APB SÚMATE 0800'\n",
            "   ❔ Pregunta: 'CODIGO MESA' -> Respuesta: '800'\n",
            "   ❔ Pregunta: 'ELECTORES HABILITADOS' -> Respuesta: '3'\n",
            "   ❔ Pregunta: 'FP' -> Respuesta: 'FP 0.13'\n",
            "   ❔ Pregunta: 'LIBRE' -> Respuesta: 'LIBRE 08.00'\n",
            "   ❔ Pregunta: 'LYP ADN' -> Respuesta: 'LYP ADN 0800'\n",
            "   ❔ Pregunta: 'MAS-IPSP' -> Respuesta: 'MAS-IPSP 0.16'\n",
            "   ❔ Pregunta: 'MESA' -> Respuesta: '800'\n",
            "   ❔ Pregunta: 'MORENA' -> Respuesta: 'MORENA 08.00'\n",
            "   ❔ Pregunta: 'PAPELETAS EN ÁNFORA' -> Respuesta: '800'\n",
            "   ❔ Pregunta: 'PAPELETAS NO UTILIZADAS' -> Respuesta: '800'\n",
            "   ❔ Pregunta: 'PDC' -> Respuesta: 'PDC 0.13'\n",
            "   ❔ Pregunta: 'UNIDAD' -> Respuesta: 'UNIDAD 0.20'\n",
            "   ❔ Pregunta: 'VOTOS BLANCOS' -> Respuesta: '25'\n",
            "   ❔ Pregunta: 'VOTOS NULOS' -> Respuesta: '54'\n"
          ]
        },
        {
          "name": "stderr",
          "output_type": "stream",
          "text": [
            "\n",
            "Procesando Actas con Donut:  11%|█         | 60/545 [26:27<3:36:12, 26.75s/it]\u001b[A"
          ]
        },
        {
          "name": "stdout",
          "output_type": "stream",
          "text": [
            "   ❔ Pregunta: 'VOTOS VÁLIDOS' -> Respuesta: '143'\n",
            "\n",
            "--- Interrogando al acta: mesa_9_105064.jpg ---\n",
            "   ❔ Pregunta: 'AP' -> Respuesta: 'AP 006'\n",
            "   ❔ Pregunta: 'APB SÚMATE' -> Respuesta: 'APB SÚMATE 001'\n",
            "   ❔ Pregunta: 'CODIGO MESA' -> Respuesta: '9'\n",
            "   ❔ Pregunta: 'ELECTORES HABILITADOS' -> Respuesta: '3'\n",
            "   ❔ Pregunta: 'FP' -> Respuesta: 'FP 007'\n",
            "   ❔ Pregunta: 'LIBRE' -> Respuesta: 'LIBRE 08.00'\n",
            "   ❔ Pregunta: 'LYP ADN' -> Respuesta: 'LYP ADN 080'\n",
            "   ❔ Pregunta: 'MAS-IPSP' -> Respuesta: 'MAS-IPSP 000'\n",
            "   ❔ Pregunta: 'MESA' -> Respuesta: '9'\n",
            "   ❔ Pregunta: 'MORENA' -> Respuesta: 'MORENA 0.60'\n",
            "   ❔ Pregunta: 'PAPELETAS EN ÁNFORA' -> Respuesta: '47'\n",
            "   ❔ Pregunta: 'PAPELETAS NO UTILIZADAS' -> Respuesta: '60'\n",
            "   ❔ Pregunta: 'PDC' -> Respuesta: 'PDC 008'\n",
            "   ❔ Pregunta: 'UNIDAD' -> Respuesta: 'UNIDAD 006'\n",
            "   ❔ Pregunta: 'VOTOS BLANCOS' -> Respuesta: '4'\n",
            "   ❔ Pregunta: 'VOTOS NULOS' -> Respuesta: '4'\n"
          ]
        },
        {
          "name": "stderr",
          "output_type": "stream",
          "text": [
            "\n",
            "Procesando Actas con Donut:  11%|█         | 61/545 [26:54<3:35:56, 26.77s/it]\u001b[A"
          ]
        },
        {
          "name": "stdout",
          "output_type": "stream",
          "text": [
            "   ❔ Pregunta: 'VOTOS VÁLIDOS' -> Respuesta: '32'\n",
            "\n",
            "--- Interrogando al acta: mesa_1_105134.jpg ---\n",
            "   ❔ Pregunta: 'AP' -> Respuesta: 'AP MOS-IPSP'\n",
            "   ❔ Pregunta: 'APB SÚMATE' -> Respuesta: 'APB SÚMATE MOS-IPSP'\n",
            "   ❔ Pregunta: 'CODIGO MESA' -> Respuesta: '1'\n",
            "   ❔ Pregunta: 'ELECTORES HABILITADOS' -> Respuesta: '105134'\n",
            "   ❔ Pregunta: 'FP' -> Respuesta: 'FP 001'\n",
            "   ❔ Pregunta: 'LIBRE' -> Respuesta: 'LIBRE 00'\n",
            "   ❔ Pregunta: 'LYP ADN' -> Respuesta: 'LYP ADN APB SUMATE'\n",
            "   ❔ Pregunta: 'MAS-IPSP' -> Respuesta: 'MAS-IPSP 00'\n",
            "   ❔ Pregunta: 'MESA' -> Respuesta: '1'\n",
            "   ❔ Pregunta: 'MORENA' -> Respuesta: 'MORENA 10513-4'\n",
            "   ❔ Pregunta: 'PAPELETAS EN ÁNFORA' -> Respuesta: '61'\n",
            "   ❔ Pregunta: 'PAPELETAS NO UTILIZADAS' -> Respuesta: '29'\n",
            "   ❔ Pregunta: 'PDC' -> Respuesta: 'PDC 004'\n",
            "   ❔ Pregunta: 'UNIDAD' -> Respuesta: 'UNIDAD 001'\n",
            "   ❔ Pregunta: 'VOTOS BLANCOS' -> Respuesta: '2'\n",
            "   ❔ Pregunta: 'VOTOS NULOS' -> Respuesta: '9'\n"
          ]
        },
        {
          "name": "stderr",
          "output_type": "stream",
          "text": [
            "\n",
            "Procesando Actas con Donut:  11%|█▏        | 62/545 [27:21<3:35:27, 26.77s/it]\u001b[A"
          ]
        },
        {
          "name": "stdout",
          "output_type": "stream",
          "text": [
            "   ❔ Pregunta: 'VOTOS VÁLIDOS' -> Respuesta: '21'\n",
            "\n",
            "--- Interrogando al acta: mesa_2_105084.jpg ---\n",
            "   ❔ Pregunta: 'AP' -> Respuesta: 'AP 016'\n",
            "   ❔ Pregunta: 'APB SÚMATE' -> Respuesta: 'APB SÚMATE 08.29'\n",
            "   ❔ Pregunta: 'CODIGO MESA' -> Respuesta: 'None'\n",
            "   ❔ Pregunta: 'ELECTORES HABILITADOS' -> Respuesta: '3'\n",
            "   ❔ Pregunta: 'FP' -> Respuesta: 'FP A3'\n",
            "   ❔ Pregunta: 'LIBRE' -> Respuesta: 'LIBRE 0.09'\n",
            "   ❔ Pregunta: 'LYP ADN' -> Respuesta: 'LYP ADN 08.29'\n",
            "   ❔ Pregunta: 'MAS-IPSP' -> Respuesta: 'MAS-IPSP 004'\n",
            "   ❔ Pregunta: 'MESA' -> Respuesta: '2'\n",
            "   ❔ Pregunta: 'MORENA' -> Respuesta: 'MORENA 08.29'\n",
            "   ❔ Pregunta: 'PAPELETAS EN ÁNFORA' -> Respuesta: '77'\n",
            "   ❔ Pregunta: 'PAPELETAS NO UTILIZADAS' -> Respuesta: '64'\n",
            "   ❔ Pregunta: 'PDC' -> Respuesta: 'PDC 006'\n",
            "   ❔ Pregunta: 'UNIDAD' -> Respuesta: 'UNIDAD 006'\n",
            "   ❔ Pregunta: 'VOTOS BLANCOS' -> Respuesta: '5'\n",
            "   ❔ Pregunta: 'VOTOS NULOS' -> Respuesta: '16'\n"
          ]
        },
        {
          "name": "stderr",
          "output_type": "stream",
          "text": [
            "\n",
            "Procesando Actas con Donut:  12%|█▏        | 63/545 [27:47<3:34:28, 26.70s/it]\u001b[A"
          ]
        },
        {
          "name": "stdout",
          "output_type": "stream",
          "text": [
            "   ❔ Pregunta: 'VOTOS VÁLIDOS' -> Respuesta: '56'\n",
            "\n",
            "--- Interrogando al acta: mesa_1_105074.jpg ---\n",
            "   ❔ Pregunta: 'AP' -> Respuesta: 'AP 0 26'\n",
            "   ❔ Pregunta: 'APB SÚMATE' -> Respuesta: 'APB SÚMATE 045'\n",
            "   ❔ Pregunta: 'CODIGO MESA' -> Respuesta: 'None'\n",
            "   ❔ Pregunta: 'ELECTORES HABILITADOS' -> Respuesta: 'None'\n",
            "   ❔ Pregunta: 'FP' -> Respuesta: 'FP 008'\n",
            "   ❔ Pregunta: 'LIBRE' -> Respuesta: 'LIBRE 0 26'\n",
            "   ❔ Pregunta: 'LYP ADN' -> Respuesta: 'LYP ADN 0 26'\n",
            "   ❔ Pregunta: 'MAS-IPSP' -> Respuesta: 'MAS-IPSP 0.6'\n",
            "   ❔ Pregunta: 'MESA' -> Respuesta: '1'\n",
            "   ❔ Pregunta: 'MORENA' -> Respuesta: 'MORENA 0834'\n",
            "   ❔ Pregunta: 'PAPELETAS EN ÁNFORA' -> Respuesta: '83'\n",
            "   ❔ Pregunta: 'PAPELETAS NO UTILIZADAS' -> Respuesta: '34'\n",
            "   ❔ Pregunta: 'PDC' -> Respuesta: 'PDC 026'\n",
            "   ❔ Pregunta: 'UNIDAD' -> Respuesta: 'UNIDAD 0 18'\n",
            "   ❔ Pregunta: 'VOTOS BLANCOS' -> Respuesta: '41'\n",
            "   ❔ Pregunta: 'VOTOS NULOS' -> Respuesta: '29'\n"
          ]
        },
        {
          "name": "stderr",
          "output_type": "stream",
          "text": [
            "\n",
            "Procesando Actas con Donut:  12%|█▏        | 64/545 [28:14<3:33:55, 26.68s/it]\u001b[A"
          ]
        },
        {
          "name": "stdout",
          "output_type": "stream",
          "text": [
            "   ❔ Pregunta: 'VOTOS VÁLIDOS' -> Respuesta: '1330'\n",
            "\n",
            "--- Interrogando al acta: mesa_2_105414.jpg ---\n",
            "   ❔ Pregunta: 'AP' -> Respuesta: 'AP MOSA: 2'\n",
            "   ❔ Pregunta: 'APB SÚMATE' -> Respuesta: 'APB SÚMATE MOSA 2'\n",
            "   ❔ Pregunta: 'CODIGO MESA' -> Respuesta: '105414'\n",
            "   ❔ Pregunta: 'ELECTORES HABILITADOS' -> Respuesta: '3'\n",
            "   ❔ Pregunta: 'FP' -> Respuesta: 'FP 000'\n",
            "   ❔ Pregunta: 'LIBRE' -> Respuesta: 'LIBRE 003'\n",
            "   ❔ Pregunta: 'LYP ADN' -> Respuesta: 'LYP ADN AP'\n",
            "   ❔ Pregunta: 'MAS-IPSP' -> Respuesta: 'MAS-IPSP 003'\n",
            "   ❔ Pregunta: 'MESA' -> Respuesta: 'None'\n",
            "   ❔ Pregunta: 'MORENA' -> Respuesta: 'MORENA 100'\n",
            "   ❔ Pregunta: 'PAPELETAS EN ÁNFORA' -> Respuesta: '32'\n",
            "   ❔ Pregunta: 'PAPELETAS NO UTILIZADAS' -> Respuesta: '33'\n",
            "   ❔ Pregunta: 'PDC' -> Respuesta: 'PDC 006'\n",
            "   ❔ Pregunta: 'UNIDAD' -> Respuesta: 'UNIDAD 000'\n",
            "   ❔ Pregunta: 'VOTOS BLANCOS' -> Respuesta: '0'\n",
            "   ❔ Pregunta: 'VOTOS NULOS' -> Respuesta: '76'\n"
          ]
        },
        {
          "name": "stderr",
          "output_type": "stream",
          "text": [
            "\n",
            "Procesando Actas con Donut:  12%|█▏        | 65/545 [28:40<3:33:09, 26.64s/it]\u001b[A"
          ]
        },
        {
          "name": "stdout",
          "output_type": "stream",
          "text": [
            "   ❔ Pregunta: 'VOTOS VÁLIDOS' -> Respuesta: '76'\n",
            "\n",
            "--- Interrogando al acta: mesa_1_105404.jpg ---\n",
            "   ❔ Pregunta: 'AP' -> Respuesta: 'AP 0.23'\n",
            "   ❔ Pregunta: 'APB SÚMATE' -> Respuesta: 'APB SÚMATE 006'\n",
            "   ❔ Pregunta: 'CODIGO MESA' -> Respuesta: '1'\n",
            "   ❔ Pregunta: 'ELECTORES HABILITADOS' -> Respuesta: '3'\n",
            "   ❔ Pregunta: 'FP' -> Respuesta: 'FP 006'\n",
            "   ❔ Pregunta: 'LIBRE' -> Respuesta: 'LIBRE 0.23'\n",
            "   ❔ Pregunta: 'LYP ADN' -> Respuesta: 'LYP ADN 001'\n",
            "   ❔ Pregunta: 'MAS-IPSP' -> Respuesta: 'MAS-IPSP 0.65'\n",
            "   ❔ Pregunta: 'MESA' -> Respuesta: '1'\n",
            "   ❔ Pregunta: 'MORENA' -> Respuesta: 'MORENA 17 05'\n",
            "   ❔ Pregunta: 'PAPELETAS EN ÁNFORA' -> Respuesta: '13'\n",
            "   ❔ Pregunta: 'PAPELETAS NO UTILIZADAS' -> Respuesta: '13'\n",
            "   ❔ Pregunta: 'PDC' -> Respuesta: 'PDC 0.8'\n",
            "   ❔ Pregunta: 'UNIDAD' -> Respuesta: 'UNIDAD 006'\n",
            "   ❔ Pregunta: 'VOTOS BLANCOS' -> Respuesta: '13'\n",
            "   ❔ Pregunta: 'VOTOS NULOS' -> Respuesta: '77'\n"
          ]
        },
        {
          "name": "stderr",
          "output_type": "stream",
          "text": [
            "\n",
            "Procesando Actas con Donut:  12%|█▏        | 66/545 [29:07<3:33:22, 26.73s/it]\u001b[A"
          ]
        },
        {
          "name": "stdout",
          "output_type": "stream",
          "text": [
            "   ❔ Pregunta: 'VOTOS VÁLIDOS' -> Respuesta: '82'\n",
            "\n",
            "--- Interrogando al acta: mesa_1_105144.jpg ---\n",
            "   ❔ Pregunta: 'AP' -> Respuesta: 'AP 0 9'\n",
            "   ❔ Pregunta: 'APB SÚMATE' -> Respuesta: 'APB SÚMATE LINDA'\n",
            "   ❔ Pregunta: 'CODIGO MESA' -> Respuesta: 'None'\n",
            "   ❔ Pregunta: 'ELECTORES HABILITADOS' -> Respuesta: '7'\n",
            "   ❔ Pregunta: 'FP' -> Respuesta: 'FP 003'\n",
            "   ❔ Pregunta: 'LIBRE' -> Respuesta: 'LIBRE 002'\n",
            "   ❔ Pregunta: 'LYP ADN' -> Respuesta: 'LYP ADN AP'\n",
            "   ❔ Pregunta: 'MAS-IPSP' -> Respuesta: 'MAS-IPSP 003'\n",
            "   ❔ Pregunta: 'MESA' -> Respuesta: '1'\n",
            "   ❔ Pregunta: 'MORENA' -> Respuesta: 'MORENA 0.72'\n",
            "   ❔ Pregunta: 'PAPELETAS EN ÁNFORA' -> Respuesta: '72'\n",
            "   ❔ Pregunta: 'PAPELETAS NO UTILIZADAS' -> Respuesta: '72'\n",
            "   ❔ Pregunta: 'PDC' -> Respuesta: 'PDC 006'\n",
            "   ❔ Pregunta: 'UNIDAD' -> Respuesta: 'UNIDAD 003'\n",
            "   ❔ Pregunta: 'VOTOS BLANCOS' -> Respuesta: '4'\n",
            "   ❔ Pregunta: 'VOTOS NULOS' -> Respuesta: '43'\n"
          ]
        },
        {
          "name": "stderr",
          "output_type": "stream",
          "text": [
            "\n",
            "Procesando Actas con Donut:  12%|█▏        | 67/545 [29:34<3:32:46, 26.71s/it]\u001b[A"
          ]
        },
        {
          "name": "stdout",
          "output_type": "stream",
          "text": [
            "   ❔ Pregunta: 'VOTOS VÁLIDOS' -> Respuesta: '27'\n",
            "\n",
            "--- Interrogando al acta: mesa_3_105164.jpg ---\n",
            "   ❔ Pregunta: 'AP' -> Respuesta: 'AP 0 1'\n",
            "   ❔ Pregunta: 'APB SÚMATE' -> Respuesta: 'APB SÚMATE MESA: 3'\n",
            "   ❔ Pregunta: 'CODIGO MESA' -> Respuesta: '900'\n",
            "   ❔ Pregunta: 'ELECTORES HABILITADOS' -> Respuesta: '3'\n",
            "   ❔ Pregunta: 'FP' -> Respuesta: 'FP 0.24'\n",
            "   ❔ Pregunta: 'LIBRE' -> Respuesta: 'LIBRE 002'\n",
            "   ❔ Pregunta: 'LYP ADN' -> Respuesta: 'LYP ADN APB SUMATE'\n",
            "   ❔ Pregunta: 'MAS-IPSP' -> Respuesta: 'MAS-IPSP 000'\n",
            "   ❔ Pregunta: 'MESA' -> Respuesta: '900'\n",
            "   ❔ Pregunta: 'MORENA' -> Respuesta: 'MORENA 0 1'\n",
            "   ❔ Pregunta: 'PAPELETAS EN ÁNFORA' -> Respuesta: '87'\n",
            "   ❔ Pregunta: 'PAPELETAS NO UTILIZADAS' -> Respuesta: '233'\n",
            "   ❔ Pregunta: 'PDC' -> Respuesta: 'PDC 0 12'\n",
            "   ❔ Pregunta: 'UNIDAD' -> Respuesta: 'UNIDAD 003'\n",
            "   ❔ Pregunta: 'VOTOS BLANCOS' -> Respuesta: '8'\n",
            "   ❔ Pregunta: 'VOTOS NULOS' -> Respuesta: '44'\n"
          ]
        },
        {
          "name": "stderr",
          "output_type": "stream",
          "text": [
            "\n",
            "Procesando Actas con Donut:  12%|█▏        | 68/545 [30:01<3:31:57, 26.66s/it]\u001b[A"
          ]
        },
        {
          "name": "stdout",
          "output_type": "stream",
          "text": [
            "   ❔ Pregunta: 'VOTOS VÁLIDOS' -> Respuesta: '35'\n",
            "\n",
            "--- Interrogando al acta: mesa_2_105154.jpg ---\n",
            "   ❔ Pregunta: 'AP' -> Respuesta: 'AP AP'\n",
            "   ❔ Pregunta: 'APB SÚMATE' -> Respuesta: 'APB SÚMATE 002'\n",
            "   ❔ Pregunta: 'CODIGO MESA' -> Respuesta: 'None'\n",
            "   ❔ Pregunta: 'ELECTORES HABILITADOS' -> Respuesta: '3'\n",
            "   ❔ Pregunta: 'FP' -> Respuesta: 'FP 003'\n",
            "   ❔ Pregunta: 'LIBRE' -> Respuesta: 'LIBRE 0.70'\n",
            "   ❔ Pregunta: 'LYP ADN' -> Respuesta: 'LYP ADN AP'\n",
            "   ❔ Pregunta: 'MAS-IPSP' -> Respuesta: 'MAS-IPSP 000'\n",
            "   ❔ Pregunta: 'MESA' -> Respuesta: '900'\n",
            "   ❔ Pregunta: 'MORENA' -> Respuesta: 'MORENA 0.70'\n",
            "   ❔ Pregunta: 'PAPELETAS EN ÁNFORA' -> Respuesta: '99'\n",
            "   ❔ Pregunta: 'PAPELETAS NO UTILIZADAS' -> Respuesta: '99'\n",
            "   ❔ Pregunta: 'PDC' -> Respuesta: 'PDC 011'\n",
            "   ❔ Pregunta: 'UNIDAD' -> Respuesta: 'UNIDAD 007'\n",
            "   ❔ Pregunta: 'VOTOS BLANCOS' -> Respuesta: '7'\n",
            "   ❔ Pregunta: 'VOTOS NULOS' -> Respuesta: '39'\n"
          ]
        },
        {
          "name": "stderr",
          "output_type": "stream",
          "text": [
            "\n",
            "Procesando Actas con Donut:  13%|█▎        | 69/545 [30:27<3:31:21, 26.64s/it]\u001b[A"
          ]
        },
        {
          "name": "stdout",
          "output_type": "stream",
          "text": [
            "   ❔ Pregunta: 'VOTOS VÁLIDOS' -> Respuesta: '34'\n",
            "\n",
            "--- Interrogando al acta: mesa_4_105174.jpg ---\n",
            "   ❔ Pregunta: 'AP' -> Respuesta: 'AP 005'\n",
            "   ❔ Pregunta: 'APB SÚMATE' -> Respuesta: 'APB SÚMATE 001'\n",
            "   ❔ Pregunta: 'CODIGO MESA' -> Respuesta: '4'\n",
            "   ❔ Pregunta: 'ELECTORES HABILITADOS' -> Respuesta: '3'\n",
            "   ❔ Pregunta: 'FP' -> Respuesta: 'FP 0 0 4'\n",
            "   ❔ Pregunta: 'LIBRE' -> Respuesta: 'LIBRE 005'\n",
            "   ❔ Pregunta: 'LYP ADN' -> Respuesta: 'LYP ADN 001'\n",
            "   ❔ Pregunta: 'MAS-IPSP' -> Respuesta: 'MAS-IPSP 001'\n",
            "   ❔ Pregunta: 'MESA' -> Respuesta: '4'\n",
            "   ❔ Pregunta: 'MORENA' -> Respuesta: 'MORENA 060'\n",
            "   ❔ Pregunta: 'PAPELETAS EN ÁNFORA' -> Respuesta: '60'\n",
            "   ❔ Pregunta: 'PAPELETAS NO UTILIZADAS' -> Respuesta: '60'\n",
            "   ❔ Pregunta: 'PDC' -> Respuesta: 'PDC 007'\n",
            "   ❔ Pregunta: 'UNIDAD' -> Respuesta: 'UNIDAD 001'\n",
            "   ❔ Pregunta: 'VOTOS BLANCOS' -> Respuesta: '1'\n",
            "   ❔ Pregunta: 'VOTOS NULOS' -> Respuesta: '35'\n"
          ]
        },
        {
          "name": "stderr",
          "output_type": "stream",
          "text": [
            "\n",
            "Procesando Actas con Donut:  13%|█▎        | 70/545 [30:54<3:31:00, 26.65s/it]\u001b[A"
          ]
        },
        {
          "name": "stdout",
          "output_type": "stream",
          "text": [
            "   ❔ Pregunta: 'VOTOS VÁLIDOS' -> Respuesta: '24'\n",
            "\n",
            "--- Interrogando al acta: mesa_7_101294.jpg ---\n",
            "   ❔ Pregunta: 'AP' -> Respuesta: 'AP APB SOMATE'\n",
            "   ❔ Pregunta: 'APB SÚMATE' -> Respuesta: 'APB SÚMATE 0837'\n",
            "   ❔ Pregunta: 'CODIGO MESA' -> Respuesta: '7'\n",
            "   ❔ Pregunta: 'ELECTORES HABILITADOS' -> Respuesta: '3'\n",
            "   ❔ Pregunta: 'FP' -> Respuesta: 'FP 002'\n",
            "   ❔ Pregunta: 'LIBRE' -> Respuesta: 'LIBRE 0.14'\n",
            "   ❔ Pregunta: 'LYP ADN' -> Respuesta: 'LYP ADN APB SOMATE'\n",
            "   ❔ Pregunta: 'MAS-IPSP' -> Respuesta: 'MAS-IPSP 0.05'\n",
            "   ❔ Pregunta: 'MESA' -> Respuesta: '7'\n",
            "   ❔ Pregunta: 'MORENA' -> Respuesta: 'MORENA 7'\n",
            "   ❔ Pregunta: 'PAPELETAS EN ÁNFORA' -> Respuesta: '1320'\n",
            "   ❔ Pregunta: 'PAPELETAS NO UTILIZADAS' -> Respuesta: '14'\n",
            "   ❔ Pregunta: 'PDC' -> Respuesta: 'PDC 0.92'\n",
            "   ❔ Pregunta: 'UNIDAD' -> Respuesta: 'UNIDAD 006'\n",
            "   ❔ Pregunta: 'VOTOS BLANCOS' -> Respuesta: '4'\n",
            "   ❔ Pregunta: 'VOTOS NULOS' -> Respuesta: '39'\n"
          ]
        },
        {
          "name": "stderr",
          "output_type": "stream",
          "text": [
            "\n",
            "Procesando Actas con Donut:  13%|█▎        | 71/545 [31:20<3:30:35, 26.66s/it]\u001b[A"
          ]
        },
        {
          "name": "stdout",
          "output_type": "stream",
          "text": [
            "   ❔ Pregunta: 'VOTOS VÁLIDOS' -> Respuesta: '84'\n",
            "\n",
            "--- Interrogando al acta: mesa_1_101234.jpg ---\n",
            "   ❔ Pregunta: 'AP' -> Respuesta: 'AP 021'\n",
            "   ❔ Pregunta: 'APB SÚMATE' -> Respuesta: 'APB SÚMATE MOS-IPSP'\n",
            "   ❔ Pregunta: 'CODIGO MESA' -> Respuesta: '1'\n",
            "   ❔ Pregunta: 'ELECTORES HABILITADOS' -> Respuesta: '3'\n",
            "   ❔ Pregunta: 'FP' -> Respuesta: 'FP 004'\n",
            "   ❔ Pregunta: 'LIBRE' -> Respuesta: 'LIBRE 006'\n",
            "   ❔ Pregunta: 'LYP ADN' -> Respuesta: 'LYP ADN APB SOMATE'\n",
            "   ❔ Pregunta: 'MAS-IPSP' -> Respuesta: 'MAS-IPSP 002'\n",
            "   ❔ Pregunta: 'MESA' -> Respuesta: '1'\n",
            "   ❔ Pregunta: 'MORENA' -> Respuesta: 'MORENA 08.25'\n",
            "   ❔ Pregunta: 'PAPELETAS EN ÁNFORA' -> Respuesta: '0'\n",
            "   ❔ Pregunta: 'PAPELETAS NO UTILIZADAS' -> Respuesta: '0'\n",
            "   ❔ Pregunta: 'PDC' -> Respuesta: 'PDC 019'\n",
            "   ❔ Pregunta: 'UNIDAD' -> Respuesta: 'UNIDAD 01 2'\n",
            "   ❔ Pregunta: 'VOTOS BLANCOS' -> Respuesta: '2'\n",
            "   ❔ Pregunta: 'VOTOS NULOS' -> Respuesta: '35'\n"
          ]
        },
        {
          "name": "stderr",
          "output_type": "stream",
          "text": [
            "\n",
            "Procesando Actas con Donut:  13%|█▎        | 72/545 [31:47<3:29:53, 26.62s/it]\u001b[A"
          ]
        },
        {
          "name": "stdout",
          "output_type": "stream",
          "text": [
            "   ❔ Pregunta: 'VOTOS VÁLIDOS' -> Respuesta: '2'\n",
            "\n",
            "--- Interrogando al acta: mesa_8_101304.jpg ---\n",
            "   ❔ Pregunta: 'AP' -> Respuesta: 'AP 024'\n",
            "   ❔ Pregunta: 'APB SÚMATE' -> Respuesta: 'APB SÚMATE 024'\n",
            "   ❔ Pregunta: 'CODIGO MESA' -> Respuesta: 'None'\n",
            "   ❔ Pregunta: 'ELECTORES HABILITADOS' -> Respuesta: '3'\n",
            "   ❔ Pregunta: 'FP' -> Respuesta: 'FP 004'\n",
            "   ❔ Pregunta: 'LIBRE' -> Respuesta: 'LIBRE 024'\n",
            "   ❔ Pregunta: 'LYP ADN' -> Respuesta: 'LYP ADN APB SUMATE'\n",
            "   ❔ Pregunta: 'MAS-IPSP' -> Respuesta: 'MAS-IPSP 003'\n",
            "   ❔ Pregunta: 'MESA' -> Respuesta: '8'\n",
            "   ❔ Pregunta: 'MORENA' -> Respuesta: 'MORENA 08.40'\n",
            "   ❔ Pregunta: 'PAPELETAS EN ÁNFORA' -> Respuesta: '103'\n",
            "   ❔ Pregunta: 'PAPELETAS NO UTILIZADAS' -> Respuesta: '217'\n",
            "   ❔ Pregunta: 'PDC' -> Respuesta: 'PDC 015'\n",
            "   ❔ Pregunta: 'UNIDAD' -> Respuesta: 'UNIDAD 007'\n",
            "   ❔ Pregunta: 'VOTOS BLANCOS' -> Respuesta: '0'\n",
            "   ❔ Pregunta: 'VOTOS NULOS' -> Respuesta: '25'\n"
          ]
        },
        {
          "name": "stderr",
          "output_type": "stream",
          "text": [
            "\n",
            "Procesando Actas con Donut:  13%|█▎        | 73/545 [32:14<3:30:33, 26.77s/it]\u001b[A"
          ]
        },
        {
          "name": "stdout",
          "output_type": "stream",
          "text": [
            "   ❔ Pregunta: 'VOTOS VÁLIDOS' -> Respuesta: '78'\n",
            "\n",
            "--- Interrogando al acta: mesa_6_101284.jpg ---\n",
            "   ❔ Pregunta: 'AP' -> Respuesta: 'AP APB SUMATE'\n",
            "   ❔ Pregunta: 'APB SÚMATE' -> Respuesta: 'APB SÚMATE MOS-IPSP'\n",
            "   ❔ Pregunta: 'CODIGO MESA' -> Respuesta: '101284'\n",
            "   ❔ Pregunta: 'ELECTORES HABILITADOS' -> Respuesta: '3'\n",
            "   ❔ Pregunta: 'FP' -> Respuesta: 'FP 000'\n",
            "   ❔ Pregunta: 'LIBRE' -> Respuesta: 'LIBRE 0 1 2'\n",
            "   ❔ Pregunta: 'LYP ADN' -> Respuesta: 'LYP ADN APB SUMATE'\n",
            "   ❔ Pregunta: 'MAS-IPSP' -> Respuesta: 'MAS-IPSP 0 0 5'\n",
            "   ❔ Pregunta: 'MESA' -> Respuesta: '6'\n",
            "   ❔ Pregunta: 'MORENA' -> Respuesta: 'MORENA 0833'\n",
            "   ❔ Pregunta: 'PAPELETAS EN ÁNFORA' -> Respuesta: '83'\n",
            "   ❔ Pregunta: 'PAPELETAS NO UTILIZADAS' -> Respuesta: '20'\n",
            "   ❔ Pregunta: 'PDC' -> Respuesta: 'PDC 0.22'\n",
            "   ❔ Pregunta: 'UNIDAD' -> Respuesta: 'UNIDAD 0.22'\n",
            "   ❔ Pregunta: 'VOTOS BLANCOS' -> Respuesta: '644'\n",
            "   ❔ Pregunta: 'VOTOS NULOS' -> Respuesta: '44'\n"
          ]
        },
        {
          "name": "stderr",
          "output_type": "stream",
          "text": [
            "\n",
            "Procesando Actas con Donut:  14%|█▎        | 74/545 [32:41<3:30:33, 26.82s/it]\u001b[A"
          ]
        },
        {
          "name": "stdout",
          "output_type": "stream",
          "text": [
            "   ❔ Pregunta: 'VOTOS VÁLIDOS' -> Respuesta: '67'\n",
            "\n",
            "--- Interrogando al acta: mesa_5_101274.jpg ---\n",
            "   ❔ Pregunta: 'AP' -> Respuesta: 'AP 0 27'\n",
            "   ❔ Pregunta: 'APB SÚMATE' -> Respuesta: 'APB SÚMATE 0 1 3 4'\n",
            "   ❔ Pregunta: 'CODIGO MESA' -> Respuesta: '5'\n",
            "   ❔ Pregunta: 'ELECTORES HABILITADOS' -> Respuesta: '3'\n",
            "   ❔ Pregunta: 'FP' -> Respuesta: 'FP 006'\n",
            "   ❔ Pregunta: 'LIBRE' -> Respuesta: 'LIBRE 007'\n",
            "   ❔ Pregunta: 'LYP ADN' -> Respuesta: 'LYP ADN APB SOME'\n",
            "   ❔ Pregunta: 'MAS-IPSP' -> Respuesta: 'MAS-IPSP 0.11'\n",
            "   ❔ Pregunta: 'MESA' -> Respuesta: '5'\n",
            "   ❔ Pregunta: 'MORENA' -> Respuesta: 'MORENA 0 1 3 4'\n",
            "   ❔ Pregunta: 'PAPELETAS EN ÁNFORA' -> Respuesta: '50'\n",
            "   ❔ Pregunta: 'PAPELETAS NO UTILIZADAS' -> Respuesta: '9'\n",
            "   ❔ Pregunta: 'PDC' -> Respuesta: 'PDC 021'\n",
            "   ❔ Pregunta: 'UNIDAD' -> Respuesta: 'UNIDAD 003'\n",
            "   ❔ Pregunta: 'VOTOS BLANCOS' -> Respuesta: '2'\n",
            "   ❔ Pregunta: 'VOTOS NULOS' -> Respuesta: '81'\n"
          ]
        },
        {
          "name": "stderr",
          "output_type": "stream",
          "text": [
            "\n",
            "Procesando Actas con Donut:  14%|█▍        | 75/545 [33:08<3:30:02, 26.81s/it]\u001b[A"
          ]
        },
        {
          "name": "stdout",
          "output_type": "stream",
          "text": [
            "   ❔ Pregunta: 'VOTOS VÁLIDOS' -> Respuesta: '81'\n",
            "\n",
            "--- Interrogando al acta: mesa_4_101264.jpg ---\n",
            "   ❔ Pregunta: 'AP' -> Respuesta: 'AP MESA 4'\n",
            "   ❔ Pregunta: 'APB SÚMATE' -> Respuesta: 'APB SÚMATE MESA 4'\n",
            "   ❔ Pregunta: 'CODIGO MESA' -> Respuesta: '4'\n",
            "   ❔ Pregunta: 'ELECTORES HABILITADOS' -> Respuesta: '3'\n",
            "   ❔ Pregunta: 'FP' -> Respuesta: 'FP 006'\n",
            "   ❔ Pregunta: 'LIBRE' -> Respuesta: 'LIBRE 0'\n",
            "   ❔ Pregunta: 'LYP ADN' -> Respuesta: 'LYP ADN APB SUMATE'\n",
            "   ❔ Pregunta: 'MAS-IPSP' -> Respuesta: 'MAS-IPSP 004'\n",
            "   ❔ Pregunta: 'MESA' -> Respuesta: '4'\n",
            "   ❔ Pregunta: 'MORENA' -> Respuesta: 'MORENA 0844'\n",
            "   ❔ Pregunta: 'PAPELETAS EN ÁNFORA' -> Respuesta: '0'\n",
            "   ❔ Pregunta: 'PAPELETAS NO UTILIZADAS' -> Respuesta: '0'\n",
            "   ❔ Pregunta: 'PDC' -> Respuesta: 'PDC 0.49'\n",
            "   ❔ Pregunta: 'UNIDAD' -> Respuesta: 'UNIDAD 003'\n",
            "   ❔ Pregunta: 'VOTOS BLANCOS' -> Respuesta: '1'\n",
            "   ❔ Pregunta: 'VOTOS NULOS' -> Respuesta: '52'\n"
          ]
        },
        {
          "name": "stderr",
          "output_type": "stream",
          "text": [
            "\n",
            "Procesando Actas con Donut:  14%|█▍        | 76/545 [33:35<3:29:35, 26.81s/it]\u001b[A"
          ]
        },
        {
          "name": "stdout",
          "output_type": "stream",
          "text": [
            "   ❔ Pregunta: 'VOTOS VÁLIDOS' -> Respuesta: '73'\n",
            "\n",
            "--- Interrogando al acta: mesa_2_101244.jpg ---\n",
            "   ❔ Pregunta: 'AP' -> Respuesta: 'AP 020'\n",
            "   ❔ Pregunta: 'APB SÚMATE' -> Respuesta: 'APB SÚMATE 0 2'\n",
            "   ❔ Pregunta: 'CODIGO MESA' -> Respuesta: '101244'\n",
            "   ❔ Pregunta: 'ELECTORES HABILITADOS' -> Respuesta: '3'\n",
            "   ❔ Pregunta: 'FP' -> Respuesta: 'FP 007'\n",
            "   ❔ Pregunta: 'LIBRE' -> Respuesta: 'LIBRE 020'\n",
            "   ❔ Pregunta: 'LYP ADN' -> Respuesta: 'LYP ADN APB SUMATE'\n",
            "   ❔ Pregunta: 'MAS-IPSP' -> Respuesta: 'MAS-IPSP 00'\n",
            "   ❔ Pregunta: 'MESA' -> Respuesta: 'None'\n",
            "   ❔ Pregunta: 'MORENA' -> Respuesta: 'MORENA 08.21'\n",
            "   ❔ Pregunta: 'PAPELETAS EN ÁNFORA' -> Respuesta: '28'\n",
            "   ❔ Pregunta: 'PAPELETAS NO UTILIZADAS' -> Respuesta: '2'\n",
            "   ❔ Pregunta: 'PDC' -> Respuesta: 'PDC 0 28'\n",
            "   ❔ Pregunta: 'UNIDAD' -> Respuesta: 'UNIDAD 0.28'\n",
            "   ❔ Pregunta: 'VOTOS BLANCOS' -> Respuesta: '3'\n",
            "   ❔ Pregunta: 'VOTOS NULOS' -> Respuesta: '27'\n"
          ]
        },
        {
          "name": "stderr",
          "output_type": "stream",
          "text": [
            "\n",
            "Procesando Actas con Donut:  14%|█▍        | 77/545 [34:01<3:29:02, 26.80s/it]\u001b[A"
          ]
        },
        {
          "name": "stdout",
          "output_type": "stream",
          "text": [
            "   ❔ Pregunta: 'VOTOS VÁLIDOS' -> Respuesta: '79'\n",
            "\n",
            "--- Interrogando al acta: mesa_3_101254.jpg ---\n",
            "   ❔ Pregunta: 'AP' -> Respuesta: 'AP APB SOMATE'\n",
            "   ❔ Pregunta: 'APB SÚMATE' -> Respuesta: 'APB SÚMATE MOSA: 3'\n",
            "   ❔ Pregunta: 'CODIGO MESA' -> Respuesta: '3'\n",
            "   ❔ Pregunta: 'ELECTORES HABILITADOS' -> Respuesta: '3'\n",
            "   ❔ Pregunta: 'FP' -> Respuesta: 'FP 004'\n",
            "   ❔ Pregunta: 'LIBRE' -> Respuesta: 'LIBRE 0.25'\n",
            "   ❔ Pregunta: 'LYP ADN' -> Respuesta: 'LYP ADN 0.25'\n",
            "   ❔ Pregunta: 'MAS-IPSP' -> Respuesta: 'MAS-IPSP 003'\n",
            "   ❔ Pregunta: 'MESA' -> Respuesta: '3'\n",
            "   ❔ Pregunta: 'MORENA' -> Respuesta: 'MORENA 1 1 1 9'\n",
            "   ❔ Pregunta: 'PAPELETAS EN ÁNFORA' -> Respuesta: '11119'\n",
            "   ❔ Pregunta: 'PAPELETAS NO UTILIZADAS' -> Respuesta: '202'\n",
            "   ❔ Pregunta: 'PDC' -> Respuesta: 'PDC 0.79'\n",
            "   ❔ Pregunta: 'UNIDAD' -> Respuesta: 'UNIDAD 0.8'\n",
            "   ❔ Pregunta: 'VOTOS BLANCOS' -> Respuesta: '2'\n",
            "   ❔ Pregunta: 'VOTOS NULOS' -> Respuesta: '45'\n"
          ]
        },
        {
          "name": "stderr",
          "output_type": "stream",
          "text": [
            "\n",
            "Procesando Actas con Donut:  14%|█▍        | 78/545 [34:28<3:28:17, 26.76s/it]\u001b[A"
          ]
        },
        {
          "name": "stdout",
          "output_type": "stream",
          "text": [
            "   ❔ Pregunta: 'VOTOS VÁLIDOS' -> Respuesta: '71'\n",
            "\n",
            "--- Interrogando al acta: mesa_9_101314.jpg ---\n",
            "   ❔ Pregunta: 'AP' -> Respuesta: 'AP 0.22'\n",
            "   ❔ Pregunta: 'APB SÚMATE' -> Respuesta: 'APB SÚMATE 077'\n",
            "   ❔ Pregunta: 'CODIGO MESA' -> Respuesta: 'None'\n",
            "   ❔ Pregunta: 'ELECTORES HABILITADOS' -> Respuesta: '3'\n",
            "   ❔ Pregunta: 'FP' -> Respuesta: 'FP 003'\n",
            "   ❔ Pregunta: 'LIBRE' -> Respuesta: 'LIBRE 073'\n",
            "   ❔ Pregunta: 'LYP ADN' -> Respuesta: 'LYP ADN 08.56'\n",
            "   ❔ Pregunta: 'MAS-IPSP' -> Respuesta: 'MAS-IPSP 00 2'\n",
            "   ❔ Pregunta: 'MESA' -> Respuesta: '9'\n",
            "   ❔ Pregunta: 'MORENA' -> Respuesta: 'MORENA 7 3'\n",
            "   ❔ Pregunta: 'PAPELETAS EN ÁNFORA' -> Respuesta: '733'\n",
            "   ❔ Pregunta: 'PAPELETAS NO UTILIZADAS' -> Respuesta: '194'\n",
            "   ❔ Pregunta: 'PDC' -> Respuesta: 'PDC 0 26'\n",
            "   ❔ Pregunta: 'UNIDAD' -> Respuesta: 'UNIDAD 004'\n",
            "   ❔ Pregunta: 'VOTOS BLANCOS' -> Respuesta: '5'\n",
            "   ❔ Pregunta: 'VOTOS NULOS' -> Respuesta: '44'\n"
          ]
        },
        {
          "name": "stderr",
          "output_type": "stream",
          "text": [
            "\n",
            "Procesando Actas con Donut:  14%|█▍        | 79/545 [34:55<3:28:11, 26.81s/it]\u001b[A"
          ]
        },
        {
          "name": "stdout",
          "output_type": "stream",
          "text": [
            "   ❔ Pregunta: 'VOTOS VÁLIDOS' -> Respuesta: '84'\n",
            "\n",
            "--- Interrogando al acta: mesa_4_101734.jpg ---\n",
            "   ❔ Pregunta: 'AP' -> Respuesta: 'AP 017'\n",
            "   ❔ Pregunta: 'APB SÚMATE' -> Respuesta: 'APB SÚMATE 017'\n",
            "   ❔ Pregunta: 'CODIGO MESA' -> Respuesta: '4'\n",
            "   ❔ Pregunta: 'ELECTORES HABILITADOS' -> Respuesta: '3'\n",
            "   ❔ Pregunta: 'FP' -> Respuesta: 'FP 001'\n",
            "   ❔ Pregunta: 'LIBRE' -> Respuesta: 'LIBRE 0 1'\n",
            "   ❔ Pregunta: 'LYP ADN' -> Respuesta: 'LYP ADN 007'\n",
            "   ❔ Pregunta: 'MAS-IPSP' -> Respuesta: 'MAS-IPSP 001'\n",
            "   ❔ Pregunta: 'MESA' -> Respuesta: '4'\n",
            "   ❔ Pregunta: 'MORENA' -> Respuesta: 'MORENA SON 319.30'\n",
            "   ❔ Pregunta: 'PAPELETAS EN ÁNFORA' -> Respuesta: '7'\n",
            "   ❔ Pregunta: 'PAPELETAS NO UTILIZADAS' -> Respuesta: '3'\n",
            "   ❔ Pregunta: 'PDC' -> Respuesta: 'PDC 026'\n",
            "   ❔ Pregunta: 'UNIDAD' -> Respuesta: 'UNIDAD 009'\n",
            "   ❔ Pregunta: 'VOTOS BLANCOS' -> Respuesta: '1'\n",
            "   ❔ Pregunta: 'VOTOS NULOS' -> Respuesta: '35'\n"
          ]
        },
        {
          "name": "stderr",
          "output_type": "stream",
          "text": [
            "\n",
            "Procesando Actas con Donut:  15%|█▍        | 80/545 [35:22<3:27:22, 26.76s/it]\u001b[A"
          ]
        },
        {
          "name": "stdout",
          "output_type": "stream",
          "text": [
            "   ❔ Pregunta: 'VOTOS VÁLIDOS' -> Respuesta: '7'\n",
            "\n",
            "--- Interrogando al acta: mesa_1_101704.jpg ---\n",
            "   ❔ Pregunta: 'AP' -> Respuesta: 'AP 016'\n",
            "   ❔ Pregunta: 'APB SÚMATE' -> Respuesta: 'APB SÚMATE 016'\n",
            "   ❔ Pregunta: 'CODIGO MESA' -> Respuesta: '101704'\n",
            "   ❔ Pregunta: 'ELECTORES HABILITADOS' -> Respuesta: '3'\n",
            "   ❔ Pregunta: 'FP' -> Respuesta: 'FP 003'\n",
            "   ❔ Pregunta: 'LIBRE' -> Respuesta: 'LIBRE 0 1'\n",
            "   ❔ Pregunta: 'LYP ADN' -> Respuesta: 'LYP ADN APB SUMATE'\n",
            "   ❔ Pregunta: 'MAS-IPSP' -> Respuesta: 'MAS-IPSP 0 0 2'\n",
            "   ❔ Pregunta: 'MESA' -> Respuesta: '915'\n",
            "   ❔ Pregunta: 'MORENA' -> Respuesta: 'MORENA 016'\n",
            "   ❔ Pregunta: 'PAPELETAS EN ÁNFORA' -> Respuesta: '120'\n",
            "   ❔ Pregunta: 'PAPELETAS NO UTILIZADAS' -> Respuesta: '200'\n",
            "   ❔ Pregunta: 'PDC' -> Respuesta: 'PDC 028'\n",
            "   ❔ Pregunta: 'UNIDAD' -> Respuesta: 'UNIDAD 009'\n",
            "   ❔ Pregunta: 'VOTOS BLANCOS' -> Respuesta: '1'\n",
            "   ❔ Pregunta: 'VOTOS NULOS' -> Respuesta: '38'\n"
          ]
        },
        {
          "name": "stderr",
          "output_type": "stream",
          "text": [
            "\n",
            "Procesando Actas con Donut:  15%|█▍        | 81/545 [35:48<3:26:29, 26.70s/it]\u001b[A"
          ]
        },
        {
          "name": "stdout",
          "output_type": "stream",
          "text": [
            "   ❔ Pregunta: 'VOTOS VÁLIDOS' -> Respuesta: '81'\n",
            "\n",
            "--- Interrogando al acta: mesa_6_101754.jpg ---\n",
            "   ❔ Pregunta: 'AP' -> Respuesta: 'AP 010'\n",
            "   ❔ Pregunta: 'APB SÚMATE' -> Respuesta: 'APB SÚMATE 014'\n",
            "   ❔ Pregunta: 'CODIGO MESA' -> Respuesta: '10174'\n",
            "   ❔ Pregunta: 'ELECTORES HABILITADOS' -> Respuesta: '3'\n",
            "   ❔ Pregunta: 'FP' -> Respuesta: 'FP 001'\n",
            "   ❔ Pregunta: 'LIBRE' -> Respuesta: 'LIBRE 0 1'\n",
            "   ❔ Pregunta: 'LYP ADN' -> Respuesta: 'LYP ADN APB SOMATE'\n",
            "   ❔ Pregunta: 'MAS-IPSP' -> Respuesta: 'MAS-IPSP 000'\n",
            "   ❔ Pregunta: 'MESA' -> Respuesta: '6'\n",
            "   ❔ Pregunta: 'MORENA' -> Respuesta: 'MORENA 18 5'\n",
            "   ❔ Pregunta: 'PAPELETAS EN ÁNFORA' -> Respuesta: '712'\n",
            "   ❔ Pregunta: 'PAPELETAS NO UTILIZADAS' -> Respuesta: '712'\n",
            "   ❔ Pregunta: 'PDC' -> Respuesta: 'PDC 019'\n",
            "   ❔ Pregunta: 'UNIDAD' -> Respuesta: 'UNIDAD 009'\n",
            "   ❔ Pregunta: 'VOTOS BLANCOS' -> Respuesta: '5'\n",
            "   ❔ Pregunta: 'VOTOS NULOS' -> Respuesta: '35'\n"
          ]
        },
        {
          "name": "stderr",
          "output_type": "stream",
          "text": [
            "\n",
            "Procesando Actas con Donut:  15%|█▌        | 82/545 [36:15<3:25:40, 26.65s/it]\u001b[A"
          ]
        },
        {
          "name": "stdout",
          "output_type": "stream",
          "text": [
            "   ❔ Pregunta: 'VOTOS VÁLIDOS' -> Respuesta: '72'\n",
            "\n",
            "--- Interrogando al acta: mesa_3_101724.jpg ---\n",
            "   ❔ Pregunta: 'AP' -> Respuesta: 'AP 014'\n",
            "   ❔ Pregunta: 'APB SÚMATE' -> Respuesta: 'APB SÚMATE 0950'\n",
            "   ❔ Pregunta: 'CODIGO MESA' -> Respuesta: '3'\n",
            "   ❔ Pregunta: 'ELECTORES HABILITADOS' -> Respuesta: '3'\n",
            "   ❔ Pregunta: 'FP' -> Respuesta: 'FP 001'\n",
            "   ❔ Pregunta: 'LIBRE' -> Respuesta: 'LIBRE 0.49'\n",
            "   ❔ Pregunta: 'LYP ADN' -> Respuesta: 'LYP ADN 001'\n",
            "   ❔ Pregunta: 'MAS-IPSP' -> Respuesta: 'MAS-IPSP 0 0 4'\n",
            "   ❔ Pregunta: 'MESA' -> Respuesta: '3'\n",
            "   ❔ Pregunta: 'MORENA' -> Respuesta: 'MORENA 0950'\n",
            "   ❔ Pregunta: 'PAPELETAS EN ÁNFORA' -> Respuesta: '24'\n",
            "   ❔ Pregunta: 'PAPELETAS NO UTILIZADAS' -> Respuesta: '209'\n",
            "   ❔ Pregunta: 'PDC' -> Respuesta: 'PDC 024'\n",
            "   ❔ Pregunta: 'UNIDAD' -> Respuesta: 'UNIDAD 0 1 1'\n",
            "   ❔ Pregunta: 'VOTOS BLANCOS' -> Respuesta: '3'\n",
            "   ❔ Pregunta: 'VOTOS NULOS' -> Respuesta: '23'\n"
          ]
        },
        {
          "name": "stderr",
          "output_type": "stream",
          "text": [
            "\n",
            "Procesando Actas con Donut:  15%|█▌        | 83/545 [36:41<3:24:55, 26.61s/it]\u001b[A"
          ]
        },
        {
          "name": "stdout",
          "output_type": "stream",
          "text": [
            "   ❔ Pregunta: 'VOTOS VÁLIDOS' -> Respuesta: '85'\n",
            "\n",
            "--- Interrogando al acta: mesa_5_101744.jpg ---\n",
            "   ❔ Pregunta: 'AP' -> Respuesta: 'AP MOSLIPSP'\n",
            "   ❔ Pregunta: 'APB SÚMATE' -> Respuesta: 'APB SÚMATE 09.35'\n",
            "   ❔ Pregunta: 'CODIGO MESA' -> Respuesta: '5'\n",
            "   ❔ Pregunta: 'ELECTORES HABILITADOS' -> Respuesta: '324'\n",
            "   ❔ Pregunta: 'FP' -> Respuesta: 'FP 002'\n",
            "   ❔ Pregunta: 'LIBRE' -> Respuesta: 'LIBRE 019'\n",
            "   ❔ Pregunta: 'LYP ADN' -> Respuesta: 'LYP ADN APB SUMATE'\n",
            "   ❔ Pregunta: 'MAS-IPSP' -> Respuesta: 'MAS-IPSP 00 2'\n",
            "   ❔ Pregunta: 'MESA' -> Respuesta: '5'\n",
            "   ❔ Pregunta: 'MORENA' -> Respuesta: 'MORENA 19'\n",
            "   ❔ Pregunta: 'PAPELETAS EN ÁNFORA' -> Respuesta: '129'\n",
            "   ❔ Pregunta: 'PAPELETAS NO UTILIZADAS' -> Respuesta: '195'\n",
            "   ❔ Pregunta: 'PDC' -> Respuesta: 'PDC 029'\n",
            "   ❔ Pregunta: 'UNIDAD' -> Respuesta: 'UNIDAD 0.9'\n",
            "   ❔ Pregunta: 'VOTOS BLANCOS' -> Respuesta: '3'\n",
            "   ❔ Pregunta: 'VOTOS NULOS' -> Respuesta: '38'\n"
          ]
        },
        {
          "name": "stderr",
          "output_type": "stream",
          "text": [
            "\n",
            "Procesando Actas con Donut:  15%|█▌        | 84/545 [37:08<3:24:15, 26.59s/it]\u001b[A"
          ]
        },
        {
          "name": "stdout",
          "output_type": "stream",
          "text": [
            "   ❔ Pregunta: 'VOTOS VÁLIDOS' -> Respuesta: '88'\n",
            "\n",
            "--- Interrogando al acta: mesa_2_101714.jpg ---\n",
            "   ❔ Pregunta: 'AP' -> Respuesta: 'AP 014'\n",
            "   ❔ Pregunta: 'APB SÚMATE' -> Respuesta: 'APB SÚMATE 012'\n",
            "   ❔ Pregunta: 'CODIGO MESA' -> Respuesta: '101714'\n",
            "   ❔ Pregunta: 'ELECTORES HABILITADOS' -> Respuesta: 'None'\n",
            "   ❔ Pregunta: 'FP' -> Respuesta: 'FP 006'\n",
            "   ❔ Pregunta: 'LIBRE' -> Respuesta: 'LIBRE 014'\n",
            "   ❔ Pregunta: 'LYP ADN' -> Respuesta: 'LYP ADN 001'\n",
            "   ❔ Pregunta: 'MAS-IPSP' -> Respuesta: 'MAS-IPSP 000'\n",
            "   ❔ Pregunta: 'MESA' -> Respuesta: 'None'\n",
            "   ❔ Pregunta: 'MORENA' -> Respuesta: 'MORENA 014'\n",
            "   ❔ Pregunta: 'PAPELETAS EN ÁNFORA' -> Respuesta: '199'\n",
            "   ❔ Pregunta: 'PAPELETAS NO UTILIZADAS' -> Respuesta: '199'\n",
            "   ❔ Pregunta: 'PDC' -> Respuesta: 'PDC 025'\n",
            "   ❔ Pregunta: 'UNIDAD' -> Respuesta: 'UNIDAD 005'\n",
            "   ❔ Pregunta: 'VOTOS BLANCOS' -> Respuesta: '1'\n",
            "   ❔ Pregunta: 'VOTOS NULOS' -> Respuesta: '14'\n"
          ]
        },
        {
          "name": "stderr",
          "output_type": "stream",
          "text": [
            "\n",
            "Procesando Actas con Donut:  16%|█▌        | 85/545 [37:35<3:24:24, 26.66s/it]\u001b[A"
          ]
        },
        {
          "name": "stdout",
          "output_type": "stream",
          "text": [
            "   ❔ Pregunta: 'VOTOS VÁLIDOS' -> Respuesta: '76'\n",
            "\n",
            "--- Interrogando al acta: mesa_2_100774.jpg ---\n",
            "   ❔ Pregunta: 'AP' -> Respuesta: 'AP 0.22'\n",
            "   ❔ Pregunta: 'APB SÚMATE' -> Respuesta: 'APB SÚMATE 0845'\n",
            "   ❔ Pregunta: 'CODIGO MESA' -> Respuesta: '2'\n",
            "   ❔ Pregunta: 'ELECTORES HABILITADOS' -> Respuesta: '3'\n",
            "   ❔ Pregunta: 'FP' -> Respuesta: 'FP 0845'\n",
            "   ❔ Pregunta: 'LIBRE' -> Respuesta: 'LIBRE 0.22'\n",
            "   ❔ Pregunta: 'LYP ADN' -> Respuesta: 'LYP ADN 0845'\n",
            "   ❔ Pregunta: 'MAS-IPSP' -> Respuesta: 'MAS-IPSP 0 8 4'\n",
            "   ❔ Pregunta: 'MESA' -> Respuesta: '2'\n",
            "   ❔ Pregunta: 'MORENA' -> Respuesta: 'MORENA 0.22'\n",
            "   ❔ Pregunta: 'PAPELETAS EN ÁNFORA' -> Respuesta: '45'\n",
            "   ❔ Pregunta: 'PAPELETAS NO UTILIZADAS' -> Respuesta: '206'\n",
            "   ❔ Pregunta: 'PDC' -> Respuesta: 'PDC 015'\n",
            "   ❔ Pregunta: 'UNIDAD' -> Respuesta: 'UNIDAD 0.11'\n",
            "   ❔ Pregunta: 'VOTOS BLANCOS' -> Respuesta: '321'\n",
            "   ❔ Pregunta: 'VOTOS NULOS' -> Respuesta: '321'\n"
          ]
        },
        {
          "name": "stderr",
          "output_type": "stream",
          "text": [
            "\n",
            "Procesando Actas con Donut:  16%|█▌        | 86/545 [38:01<3:23:52, 26.65s/it]\u001b[A"
          ]
        },
        {
          "name": "stdout",
          "output_type": "stream",
          "text": [
            "   ❔ Pregunta: 'VOTOS VÁLIDOS' -> Respuesta: '81'\n",
            "\n",
            "--- Interrogando al acta: mesa_4_100794.jpg ---\n",
            "   ❔ Pregunta: 'AP' -> Respuesta: 'AP 0.71'\n",
            "   ❔ Pregunta: 'APB SÚMATE' -> Respuesta: 'APB SÚMATE 003'\n",
            "   ❔ Pregunta: 'CODIGO MESA' -> Respuesta: '4'\n",
            "   ❔ Pregunta: 'ELECTORES HABILITADOS' -> Respuesta: '3'\n",
            "   ❔ Pregunta: 'FP' -> Respuesta: 'FP 002'\n",
            "   ❔ Pregunta: 'LIBRE' -> Respuesta: 'LIBRE 0.26'\n",
            "   ❔ Pregunta: 'LYP ADN' -> Respuesta: 'LYP ADN 00'\n",
            "   ❔ Pregunta: 'MAS-IPSP' -> Respuesta: 'MAS-IPSP 000'\n",
            "   ❔ Pregunta: 'MESA' -> Respuesta: '4'\n",
            "   ❔ Pregunta: 'MORENA' -> Respuesta: 'MORENA 7 20'\n",
            "   ❔ Pregunta: 'PAPELETAS EN ÁNFORA' -> Respuesta: '7'\n",
            "   ❔ Pregunta: 'PAPELETAS NO UTILIZADAS' -> Respuesta: '274'\n",
            "   ❔ Pregunta: 'PDC' -> Respuesta: 'PDC 0 15'\n",
            "   ❔ Pregunta: 'UNIDAD' -> Respuesta: 'UNIDAD 0 16'\n",
            "   ❔ Pregunta: 'VOTOS BLANCOS' -> Respuesta: '2'\n",
            "   ❔ Pregunta: 'VOTOS NULOS' -> Respuesta: '30'\n"
          ]
        },
        {
          "name": "stderr",
          "output_type": "stream",
          "text": [
            "\n",
            "Procesando Actas con Donut:  16%|█▌        | 87/545 [38:28<3:23:14, 26.63s/it]\u001b[A"
          ]
        },
        {
          "name": "stdout",
          "output_type": "stream",
          "text": [
            "   ❔ Pregunta: 'VOTOS VÁLIDOS' -> Respuesta: '74'\n",
            "\n",
            "--- Interrogando al acta: mesa_5_100804.jpg ---\n",
            "   ❔ Pregunta: 'AP' -> Respuesta: 'AP 00'\n",
            "   ❔ Pregunta: 'APB SÚMATE' -> Respuesta: 'APB SÚMATE WWW.GOV'\n",
            "   ❔ Pregunta: 'CODIGO MESA' -> Respuesta: '800'\n",
            "   ❔ Pregunta: 'ELECTORES HABILITADOS' -> Respuesta: 'None'\n",
            "   ❔ Pregunta: 'FP' -> Respuesta: 'FP 80'\n",
            "   ❔ Pregunta: 'LIBRE' -> Respuesta: 'LIBRE 00'\n",
            "   ❔ Pregunta: 'LYP ADN' -> Respuesta: 'LYP ADN TVNOLOGY'\n",
            "   ❔ Pregunta: 'MAS-IPSP' -> Respuesta: 'MAS-IPSP WWW.GOV'\n",
            "   ❔ Pregunta: 'MESA' -> Respuesta: '0'\n",
            "   ❔ Pregunta: 'MORENA' -> Respuesta: 'MORENA 500'\n",
            "   ❔ Pregunta: 'PAPELETAS EN ÁNFORA' -> Respuesta: '800'\n",
            "   ❔ Pregunta: 'PAPELETAS NO UTILIZADAS' -> Respuesta: '0'\n",
            "   ❔ Pregunta: 'PDC' -> Respuesta: 'PDC WWW.GOV'\n",
            "   ❔ Pregunta: 'UNIDAD' -> Respuesta: 'UNIDAD 00'\n",
            "   ❔ Pregunta: 'VOTOS BLANCOS' -> Respuesta: '80'\n",
            "   ❔ Pregunta: 'VOTOS NULOS' -> Respuesta: '0'\n"
          ]
        },
        {
          "name": "stderr",
          "output_type": "stream",
          "text": [
            "\n",
            "Procesando Actas con Donut:  16%|█▌        | 88/545 [38:55<3:23:04, 26.66s/it]\u001b[A"
          ]
        },
        {
          "name": "stdout",
          "output_type": "stream",
          "text": [
            "   ❔ Pregunta: 'VOTOS VÁLIDOS' -> Respuesta: 'None'\n",
            "\n",
            "--- Interrogando al acta: mesa_3_100784.jpg ---\n",
            "   ❔ Pregunta: 'AP' -> Respuesta: 'AP 017'\n",
            "   ❔ Pregunta: 'APB SÚMATE' -> Respuesta: 'APB SÚMATE 007'\n",
            "   ❔ Pregunta: 'CODIGO MESA' -> Respuesta: '3'\n",
            "   ❔ Pregunta: 'ELECTORES HABILITADOS' -> Respuesta: '3'\n",
            "   ❔ Pregunta: 'FP' -> Respuesta: 'FP 003'\n",
            "   ❔ Pregunta: 'LIBRE' -> Respuesta: 'LIBRE 0.26'\n",
            "   ❔ Pregunta: 'LYP ADN' -> Respuesta: 'LYP ADN AP'\n",
            "   ❔ Pregunta: 'MAS-IPSP' -> Respuesta: 'MAS-IPSP 001'\n",
            "   ❔ Pregunta: 'MESA' -> Respuesta: '3'\n",
            "   ❔ Pregunta: 'MORENA' -> Respuesta: 'MORENA 17 50'\n",
            "   ❔ Pregunta: 'PAPELETAS EN ÁNFORA' -> Respuesta: '36'\n",
            "   ❔ Pregunta: 'PAPELETAS NO UTILIZADAS' -> Respuesta: '36'\n",
            "   ❔ Pregunta: 'PDC' -> Respuesta: 'PDC 017'\n",
            "   ❔ Pregunta: 'UNIDAD' -> Respuesta: 'UNIDAD 077'\n",
            "   ❔ Pregunta: 'VOTOS BLANCOS' -> Respuesta: '7'\n",
            "   ❔ Pregunta: 'VOTOS NULOS' -> Respuesta: '36'\n"
          ]
        },
        {
          "name": "stderr",
          "output_type": "stream",
          "text": [
            "\n",
            "Procesando Actas con Donut:  16%|█▋        | 89/545 [39:21<3:22:36, 26.66s/it]\u001b[A"
          ]
        },
        {
          "name": "stdout",
          "output_type": "stream",
          "text": [
            "   ❔ Pregunta: 'VOTOS VÁLIDOS' -> Respuesta: '77'\n",
            "\n",
            "--- Interrogando al acta: mesa_1_100764.jpg ---\n",
            "   ❔ Pregunta: 'AP' -> Respuesta: 'AP 0.9'\n",
            "   ❔ Pregunta: 'APB SÚMATE' -> Respuesta: 'APB SÚMATE 0915'\n",
            "   ❔ Pregunta: 'CODIGO MESA' -> Respuesta: '1'\n",
            "   ❔ Pregunta: 'ELECTORES HABILITADOS' -> Respuesta: '3'\n",
            "   ❔ Pregunta: 'FP' -> Respuesta: 'FP 001'\n",
            "   ❔ Pregunta: 'LIBRE' -> Respuesta: 'LIBRE 0.23'\n",
            "   ❔ Pregunta: 'LYP ADN' -> Respuesta: 'LYP ADN 0915'\n",
            "   ❔ Pregunta: 'MAS-IPSP' -> Respuesta: 'MAS-IPSP 009'\n",
            "   ❔ Pregunta: 'MESA' -> Respuesta: '1'\n",
            "   ❔ Pregunta: 'MORENA' -> Respuesta: 'MORENA 0915'\n",
            "   ❔ Pregunta: 'PAPELETAS EN ÁNFORA' -> Respuesta: '98'\n",
            "   ❔ Pregunta: 'PAPELETAS NO UTILIZADAS' -> Respuesta: '222'\n",
            "   ❔ Pregunta: 'PDC' -> Respuesta: 'PDC NOMINATIO'\n",
            "   ❔ Pregunta: 'UNIDAD' -> Respuesta: 'UNIDAD PBC'\n",
            "   ❔ Pregunta: 'VOTOS BLANCOS' -> Respuesta: '98'\n",
            "   ❔ Pregunta: 'VOTOS NULOS' -> Respuesta: '98'\n"
          ]
        },
        {
          "name": "stderr",
          "output_type": "stream",
          "text": [
            "\n",
            "Procesando Actas con Donut:  17%|█▋        | 90/545 [39:48<3:22:07, 26.65s/it]\u001b[A"
          ]
        },
        {
          "name": "stdout",
          "output_type": "stream",
          "text": [
            "   ❔ Pregunta: 'VOTOS VÁLIDOS' -> Respuesta: '98'\n",
            "\n",
            "--- Interrogando al acta: mesa_9_101404.jpg ---\n",
            "   ❔ Pregunta: 'AP' -> Respuesta: 'AP 042'\n",
            "   ❔ Pregunta: 'APB SÚMATE' -> Respuesta: 'APB SÚMATE 0845'\n",
            "   ❔ Pregunta: 'CODIGO MESA' -> Respuesta: '9'\n",
            "   ❔ Pregunta: 'ELECTORES HABILITADOS' -> Respuesta: '3'\n",
            "   ❔ Pregunta: 'FP' -> Respuesta: 'FP 001'\n",
            "   ❔ Pregunta: 'LIBRE' -> Respuesta: 'LIBRE 004'\n",
            "   ❔ Pregunta: 'LYP ADN' -> Respuesta: 'LYP ADN 002'\n",
            "   ❔ Pregunta: 'MAS-IPSP' -> Respuesta: 'MAS-IPSP 003'\n",
            "   ❔ Pregunta: 'MESA' -> Respuesta: '9'\n",
            "   ❔ Pregunta: 'MORENA' -> Respuesta: 'MORENA 0845'\n",
            "   ❔ Pregunta: 'PAPELETAS EN ÁNFORA' -> Respuesta: '85'\n",
            "   ❔ Pregunta: 'PAPELETAS NO UTILIZADAS' -> Respuesta: '845'\n",
            "   ❔ Pregunta: 'PDC' -> Respuesta: 'PDC 0 1'\n",
            "   ❔ Pregunta: 'UNIDAD' -> Respuesta: 'UNIDAD 002'\n",
            "   ❔ Pregunta: 'VOTOS BLANCOS' -> Respuesta: '2'\n",
            "   ❔ Pregunta: 'VOTOS NULOS' -> Respuesta: '13'\n"
          ]
        },
        {
          "name": "stderr",
          "output_type": "stream",
          "text": [
            "\n",
            "Procesando Actas con Donut:  17%|█▋        | 91/545 [40:14<3:21:30, 26.63s/it]\u001b[A"
          ]
        },
        {
          "name": "stdout",
          "output_type": "stream",
          "text": [
            "   ❔ Pregunta: 'VOTOS VÁLIDOS' -> Respuesta: '35'\n",
            "\n",
            "--- Interrogando al acta: mesa_3_101344.jpg ---\n",
            "   ❔ Pregunta: 'AP' -> Respuesta: 'AP 014'\n",
            "   ❔ Pregunta: 'APB SÚMATE' -> Respuesta: 'APB SÚMATE 0.24'\n",
            "   ❔ Pregunta: 'CODIGO MESA' -> Respuesta: '3'\n",
            "   ❔ Pregunta: 'ELECTORES HABILITADOS' -> Respuesta: '3'\n",
            "   ❔ Pregunta: 'FP' -> Respuesta: 'FP 006'\n",
            "   ❔ Pregunta: 'LIBRE' -> Respuesta: 'LIBRE 08.00'\n",
            "   ❔ Pregunta: 'LYP ADN' -> Respuesta: 'LYP ADN 00'\n",
            "   ❔ Pregunta: 'MAS-IPSP' -> Respuesta: 'MAS-IPSP 002'\n",
            "   ❔ Pregunta: 'MESA' -> Respuesta: '3'\n",
            "   ❔ Pregunta: 'MORENA' -> Respuesta: 'MORENA 080'\n",
            "   ❔ Pregunta: 'PAPELETAS EN ÁNFORA' -> Respuesta: '800'\n",
            "   ❔ Pregunta: 'PAPELETAS NO UTILIZADAS' -> Respuesta: '800'\n",
            "   ❔ Pregunta: 'PDC' -> Respuesta: 'PDC 026'\n",
            "   ❔ Pregunta: 'UNIDAD' -> Respuesta: 'UNIDAD 007'\n",
            "   ❔ Pregunta: 'VOTOS BLANCOS' -> Respuesta: '45'\n",
            "   ❔ Pregunta: 'VOTOS NULOS' -> Respuesta: '34'\n"
          ]
        },
        {
          "name": "stderr",
          "output_type": "stream",
          "text": [
            "\n",
            "Procesando Actas con Donut:  17%|█▋        | 92/545 [40:41<3:21:01, 26.63s/it]\u001b[A"
          ]
        },
        {
          "name": "stdout",
          "output_type": "stream",
          "text": [
            "   ❔ Pregunta: 'VOTOS VÁLIDOS' -> Respuesta: '14'\n",
            "\n",
            "--- Interrogando al acta: mesa_4_101354.jpg ---\n",
            "   ❔ Pregunta: 'AP' -> Respuesta: 'AP 0 19'\n",
            "   ❔ Pregunta: 'APB SÚMATE' -> Respuesta: 'APB SÚMATE 0.9'\n",
            "   ❔ Pregunta: 'CODIGO MESA' -> Respuesta: 'None'\n",
            "   ❔ Pregunta: 'ELECTORES HABILITADOS' -> Respuesta: '3'\n",
            "   ❔ Pregunta: 'FP' -> Respuesta: 'FP 0.80'\n",
            "   ❔ Pregunta: 'LIBRE' -> Respuesta: 'LIBRE 0 1 8'\n",
            "   ❔ Pregunta: 'LYP ADN' -> Respuesta: 'LYP ADN 0 1 9'\n",
            "   ❔ Pregunta: 'MAS-IPSP' -> Respuesta: 'MAS-IPSP 0 1'\n",
            "   ❔ Pregunta: 'MESA' -> Respuesta: '4'\n",
            "   ❔ Pregunta: 'MORENA' -> Respuesta: 'MORENA 0 19'\n",
            "   ❔ Pregunta: 'PAPELETAS EN ÁNFORA' -> Respuesta: '8'\n",
            "   ❔ Pregunta: 'PAPELETAS NO UTILIZADAS' -> Respuesta: '209'\n",
            "   ❔ Pregunta: 'PDC' -> Respuesta: 'PDC 0 18'\n",
            "   ❔ Pregunta: 'UNIDAD' -> Respuesta: 'UNIDAD 0.6'\n",
            "   ❔ Pregunta: 'VOTOS BLANCOS' -> Respuesta: '5'\n",
            "   ❔ Pregunta: 'VOTOS NULOS' -> Respuesta: '38'\n"
          ]
        },
        {
          "name": "stderr",
          "output_type": "stream",
          "text": [
            "\n",
            "Procesando Actas con Donut:  17%|█▋        | 93/545 [41:08<3:20:21, 26.60s/it]\u001b[A"
          ]
        },
        {
          "name": "stdout",
          "output_type": "stream",
          "text": [
            "   ❔ Pregunta: 'VOTOS VÁLIDOS' -> Respuesta: '68'\n",
            "\n",
            "--- Interrogando al acta: mesa_5_101364.jpg ---\n",
            "   ❔ Pregunta: 'AP' -> Respuesta: 'AP 0 23'\n",
            "   ❔ Pregunta: 'APB SÚMATE' -> Respuesta: 'APB SÚMATE 08.00'\n",
            "   ❔ Pregunta: 'CODIGO MESA' -> Respuesta: '101364'\n",
            "   ❔ Pregunta: 'ELECTORES HABILITADOS' -> Respuesta: '3'\n",
            "   ❔ Pregunta: 'FP' -> Respuesta: 'FP 003'\n",
            "   ❔ Pregunta: 'LIBRE' -> Respuesta: 'LIBRE 0.29'\n",
            "   ❔ Pregunta: 'LYP ADN' -> Respuesta: 'LYP ADN 003'\n",
            "   ❔ Pregunta: 'MAS-IPSP' -> Respuesta: 'MAS-IPSP 001'\n",
            "   ❔ Pregunta: 'MESA' -> Respuesta: '5'\n",
            "   ❔ Pregunta: 'MORENA' -> Respuesta: 'MORENA 470'\n",
            "   ❔ Pregunta: 'PAPELETAS EN ÁNFORA' -> Respuesta: '480'\n",
            "   ❔ Pregunta: 'PAPELETAS NO UTILIZADAS' -> Respuesta: '80'\n",
            "   ❔ Pregunta: 'PDC' -> Respuesta: 'PDC 0.31'\n",
            "   ❔ Pregunta: 'UNIDAD' -> Respuesta: 'UNIDAD 005'\n",
            "   ❔ Pregunta: 'VOTOS BLANCOS' -> Respuesta: '8'\n",
            "   ❔ Pregunta: 'VOTOS NULOS' -> Respuesta: '42'\n"
          ]
        },
        {
          "name": "stderr",
          "output_type": "stream",
          "text": [
            "\n",
            "Procesando Actas con Donut:  17%|█▋        | 94/545 [41:35<3:20:36, 26.69s/it]\u001b[A"
          ]
        },
        {
          "name": "stdout",
          "output_type": "stream",
          "text": [
            "   ❔ Pregunta: 'VOTOS VÁLIDOS' -> Respuesta: '80'\n",
            "\n",
            "--- Interrogando al acta: mesa_8_101394.jpg ---\n",
            "   ❔ Pregunta: 'AP' -> Respuesta: 'AP 021'\n",
            "   ❔ Pregunta: 'APB SÚMATE' -> Respuesta: 'APB SÚMATE 003'\n",
            "   ❔ Pregunta: 'CODIGO MESA' -> Respuesta: 'None'\n",
            "   ❔ Pregunta: 'ELECTORES HABILITADOS' -> Respuesta: '3'\n",
            "   ❔ Pregunta: 'FP' -> Respuesta: 'FP 003'\n",
            "   ❔ Pregunta: 'LIBRE' -> Respuesta: 'LIBRE 0 1 2'\n",
            "   ❔ Pregunta: 'LYP ADN' -> Respuesta: 'LYP ADN 002'\n",
            "   ❔ Pregunta: 'MAS-IPSP' -> Respuesta: 'MAS-IPSP 004'\n",
            "   ❔ Pregunta: 'MESA' -> Respuesta: '810'\n",
            "   ❔ Pregunta: 'MORENA' -> Respuesta: 'MORENA 021'\n",
            "   ❔ Pregunta: 'PAPELETAS EN ÁNFORA' -> Respuesta: '81'\n",
            "   ❔ Pregunta: 'PAPELETAS NO UTILIZADAS' -> Respuesta: '208'\n",
            "   ❔ Pregunta: 'PDC' -> Respuesta: 'PDC 015'\n",
            "   ❔ Pregunta: 'UNIDAD' -> Respuesta: 'UNIDAD 005'\n",
            "   ❔ Pregunta: 'VOTOS BLANCOS' -> Respuesta: '2'\n",
            "   ❔ Pregunta: 'VOTOS NULOS' -> Respuesta: '43'\n"
          ]
        },
        {
          "name": "stderr",
          "output_type": "stream",
          "text": [
            "\n",
            "Procesando Actas con Donut:  17%|█▋        | 95/545 [42:01<3:19:42, 26.63s/it]\u001b[A"
          ]
        },
        {
          "name": "stdout",
          "output_type": "stream",
          "text": [
            "   ❔ Pregunta: 'VOTOS VÁLIDOS' -> Respuesta: '67'\n",
            "\n",
            "--- Interrogando al acta: mesa_7_101384.jpg ---\n",
            "   ❔ Pregunta: 'AP' -> Respuesta: 'AP 016'\n",
            "   ❔ Pregunta: 'APB SÚMATE' -> Respuesta: 'APB SÚMATE 0935'\n",
            "   ❔ Pregunta: 'CODIGO MESA' -> Respuesta: '7'\n",
            "   ❔ Pregunta: 'ELECTORES HABILITADOS' -> Respuesta: '3'\n",
            "   ❔ Pregunta: 'FP' -> Respuesta: 'FP 0935'\n",
            "   ❔ Pregunta: 'LIBRE' -> Respuesta: 'LIBRE 0 1'\n",
            "   ❔ Pregunta: 'LYP ADN' -> Respuesta: 'LYP ADN 006'\n",
            "   ❔ Pregunta: 'MAS-IPSP' -> Respuesta: 'MAS-IPSP 0.03'\n",
            "   ❔ Pregunta: 'MESA' -> Respuesta: '7'\n",
            "   ❔ Pregunta: 'MORENA' -> Respuesta: 'MORENA 0935'\n",
            "   ❔ Pregunta: 'PAPELETAS EN ÁNFORA' -> Respuesta: '25'\n",
            "   ❔ Pregunta: 'PAPELETAS NO UTILIZADAS' -> Respuesta: '21'\n",
            "   ❔ Pregunta: 'PDC' -> Respuesta: 'PDC 025'\n",
            "   ❔ Pregunta: 'UNIDAD' -> Respuesta: 'UNIDAD 0.6'\n",
            "   ❔ Pregunta: 'VOTOS BLANCOS' -> Respuesta: '1'\n",
            "   ❔ Pregunta: 'VOTOS NULOS' -> Respuesta: '42'\n"
          ]
        },
        {
          "name": "stderr",
          "output_type": "stream",
          "text": [
            "\n",
            "Procesando Actas con Donut:  18%|█▊        | 96/545 [42:28<3:19:14, 26.63s/it]\u001b[A"
          ]
        },
        {
          "name": "stdout",
          "output_type": "stream",
          "text": [
            "   ❔ Pregunta: 'VOTOS VÁLIDOS' -> Respuesta: '71'\n",
            "\n",
            "--- Interrogando al acta: mesa_1_101324.jpg ---\n",
            "   ❔ Pregunta: 'AP' -> Respuesta: 'AP 00'\n",
            "   ❔ Pregunta: 'APB SÚMATE' -> Respuesta: 'APB SÚMATE NOV DAR'\n",
            "   ❔ Pregunta: 'CODIGO MESA' -> Respuesta: '770'\n",
            "   ❔ Pregunta: 'ELECTORES HABILITADOS' -> Respuesta: 'None'\n",
            "   ❔ Pregunta: 'FP' -> Respuesta: 'FP WWW.GOV'\n",
            "   ❔ Pregunta: 'LIBRE' -> Respuesta: 'LIBRE 050'\n",
            "   ❔ Pregunta: 'LYP ADN' -> Respuesta: 'LYP ADN TVENTON'\n",
            "   ❔ Pregunta: 'MAS-IPSP' -> Respuesta: 'MAS-IPSP WWW.GOV'\n",
            "   ❔ Pregunta: 'MESA' -> Respuesta: '80'\n",
            "   ❔ Pregunta: 'MORENA' -> Respuesta: 'MORENA WWW.GOV'\n",
            "   ❔ Pregunta: 'PAPELETAS EN ÁNFORA' -> Respuesta: '0'\n",
            "   ❔ Pregunta: 'PAPELETAS NO UTILIZADAS' -> Respuesta: '0'\n",
            "   ❔ Pregunta: 'PDC' -> Respuesta: 'PDC WWW.GOV'\n",
            "   ❔ Pregunta: 'UNIDAD' -> Respuesta: 'UNIDAD 00'\n",
            "   ❔ Pregunta: 'VOTOS BLANCOS' -> Respuesta: 'None'\n",
            "   ❔ Pregunta: 'VOTOS NULOS' -> Respuesta: '0'\n"
          ]
        },
        {
          "name": "stderr",
          "output_type": "stream",
          "text": [
            "\n",
            "Procesando Actas con Donut:  18%|█▊        | 97/545 [42:54<3:18:52, 26.64s/it]\u001b[A"
          ]
        },
        {
          "name": "stdout",
          "output_type": "stream",
          "text": [
            "   ❔ Pregunta: 'VOTOS VÁLIDOS' -> Respuesta: 'None'\n",
            "\n",
            "--- Interrogando al acta: mesa_6_101374.jpg ---\n",
            "   ❔ Pregunta: 'AP' -> Respuesta: 'AP 0.14'\n",
            "   ❔ Pregunta: 'APB SÚMATE' -> Respuesta: 'APB SÚMATE 0 1 1 1 1 1 1 1 1 1 1 1 1 1 1 1 1 1 1 1 1 1 1 1 1 1 1 1 1 1 1 1 1 1 1 1 1 1 1 1 1 1 1 1 1 1 1 1 1 1 1 1 1 1 1 1 1 1 1 1 1 1 1 1 1 1 1 1 1 1 1 1 1 1 1 1 1 1 1 1 1 1 1 1 1 1 1 1 1 1 1 1 1 1 1 1 1 1 1 1 1 1 1 1 1 1 1 1 1 1 1 1 1 1 1 1 1'\n",
            "   ❔ Pregunta: 'CODIGO MESA' -> Respuesta: '6'\n",
            "   ❔ Pregunta: 'ELECTORES HABILITADOS' -> Respuesta: '3'\n",
            "   ❔ Pregunta: 'FP' -> Respuesta: 'FP 08.00'\n",
            "   ❔ Pregunta: 'LIBRE' -> Respuesta: 'LIBRE 047'\n",
            "   ❔ Pregunta: 'LYP ADN' -> Respuesta: 'LYP ADN 08.00'\n",
            "   ❔ Pregunta: 'MAS-IPSP' -> Respuesta: 'MAS-IPSP 003'\n",
            "   ❔ Pregunta: 'MESA' -> Respuesta: '6'\n",
            "   ❔ Pregunta: 'MORENA' -> Respuesta: 'MORENA 0.14'\n",
            "   ❔ Pregunta: 'PAPELETAS EN ÁNFORA' -> Respuesta: '93'\n",
            "   ❔ Pregunta: 'PAPELETAS NO UTILIZADAS' -> Respuesta: '800'\n",
            "   ❔ Pregunta: 'PDC' -> Respuesta: 'PDC 009'\n",
            "   ❔ Pregunta: 'UNIDAD' -> Respuesta: 'UNIDAD 004'\n",
            "   ❔ Pregunta: 'VOTOS BLANCOS' -> Respuesta: '7'\n",
            "   ❔ Pregunta: 'VOTOS NULOS' -> Respuesta: '38'\n"
          ]
        },
        {
          "name": "stderr",
          "output_type": "stream",
          "text": [
            "\n",
            "Procesando Actas con Donut:  18%|█▊        | 98/545 [43:22<3:20:19, 26.89s/it]\u001b[A"
          ]
        },
        {
          "name": "stdout",
          "output_type": "stream",
          "text": [
            "   ❔ Pregunta: 'VOTOS VÁLIDOS' -> Respuesta: '54'\n",
            "\n",
            "--- Interrogando al acta: mesa_2_101334.jpg ---\n",
            "   ❔ Pregunta: 'AP' -> Respuesta: 'AP 079'\n",
            "   ❔ Pregunta: 'APB SÚMATE' -> Respuesta: 'APB SÚMATE 079'\n",
            "   ❔ Pregunta: 'CODIGO MESA' -> Respuesta: '800'\n",
            "   ❔ Pregunta: 'ELECTORES HABILITADOS' -> Respuesta: '3'\n",
            "   ❔ Pregunta: 'FP' -> Respuesta: 'FP 08.00'\n",
            "   ❔ Pregunta: 'LIBRE' -> Respuesta: 'LIBRE 08.00'\n",
            "   ❔ Pregunta: 'LYP ADN' -> Respuesta: 'LYP ADN 08.00'\n",
            "   ❔ Pregunta: 'MAS-IPSP' -> Respuesta: 'MAS-IPSP 006'\n",
            "   ❔ Pregunta: 'MESA' -> Respuesta: '2'\n",
            "   ❔ Pregunta: 'MORENA' -> Respuesta: 'MORENA 799'\n",
            "   ❔ Pregunta: 'PAPELETAS EN ÁNFORA' -> Respuesta: '800'\n",
            "   ❔ Pregunta: 'PAPELETAS NO UTILIZADAS' -> Respuesta: '800'\n",
            "   ❔ Pregunta: 'PDC' -> Respuesta: 'PDC 020'\n",
            "   ❔ Pregunta: 'UNIDAD' -> Respuesta: 'UNIDAD 003'\n",
            "   ❔ Pregunta: 'VOTOS BLANCOS' -> Respuesta: '6'\n",
            "   ❔ Pregunta: 'VOTOS NULOS' -> Respuesta: '44'\n"
          ]
        },
        {
          "name": "stderr",
          "output_type": "stream",
          "text": [
            "\n",
            "Procesando Actas con Donut:  18%|█▊        | 99/545 [43:49<3:20:08, 26.92s/it]\u001b[A"
          ]
        },
        {
          "name": "stdout",
          "output_type": "stream",
          "text": [
            "   ❔ Pregunta: 'VOTOS VÁLIDOS' -> Respuesta: '71'\n",
            "\n",
            "--- Interrogando al acta: mesa_7_103134.jpg ---\n",
            "   ❔ Pregunta: 'AP' -> Respuesta: 'AP 0.2'\n",
            "   ❔ Pregunta: 'APB SÚMATE' -> Respuesta: 'APB SÚMATE 0930'\n",
            "   ❔ Pregunta: 'CODIGO MESA' -> Respuesta: '7'\n",
            "   ❔ Pregunta: 'ELECTORES HABILITADOS' -> Respuesta: '3'\n",
            "   ❔ Pregunta: 'FP' -> Respuesta: 'FP 003'\n",
            "   ❔ Pregunta: 'LIBRE' -> Respuesta: 'LIBRE 09.30'\n",
            "   ❔ Pregunta: 'LYP ADN' -> Respuesta: 'LYP ADN APS COMMITTEE'\n",
            "   ❔ Pregunta: 'MAS-IPSP' -> Respuesta: 'MAS-IPSP 0.3'\n",
            "   ❔ Pregunta: 'MESA' -> Respuesta: '7'\n",
            "   ❔ Pregunta: 'MORENA' -> Respuesta: 'MORENA 1830'\n",
            "   ❔ Pregunta: 'PAPELETAS EN ÁNFORA' -> Respuesta: '45'\n",
            "   ❔ Pregunta: 'PAPELETAS NO UTILIZADAS' -> Respuesta: '1835'\n",
            "   ❔ Pregunta: 'PDC' -> Respuesta: 'PDC 016'\n",
            "   ❔ Pregunta: 'UNIDAD' -> Respuesta: 'UNIDAD 003'\n",
            "   ❔ Pregunta: 'VOTOS BLANCOS' -> Respuesta: '4'\n",
            "   ❔ Pregunta: 'VOTOS NULOS' -> Respuesta: '72'\n"
          ]
        },
        {
          "name": "stderr",
          "output_type": "stream",
          "text": [
            "\n",
            "Procesando Actas con Donut:  18%|█▊        | 100/545 [44:15<3:19:01, 26.83s/it]\u001b[A"
          ]
        },
        {
          "name": "stdout",
          "output_type": "stream",
          "text": [
            "   ❔ Pregunta: 'VOTOS VÁLIDOS' -> Respuesta: '72'\n",
            "\n",
            "--- Interrogando al acta: mesa_2_103174.jpg ---\n",
            "   ❔ Pregunta: 'AP' -> Respuesta: 'AP 20'\n",
            "   ❔ Pregunta: 'APB SÚMATE' -> Respuesta: 'APB SÚMATE 007'\n",
            "   ❔ Pregunta: 'CODIGO MESA' -> Respuesta: '2'\n",
            "   ❔ Pregunta: 'ELECTORES HABILITADOS' -> Respuesta: '3'\n",
            "   ❔ Pregunta: 'FP' -> Respuesta: 'FP 001'\n",
            "   ❔ Pregunta: 'LIBRE' -> Respuesta: 'LIBRE 008'\n",
            "   ❔ Pregunta: 'LYP ADN' -> Respuesta: 'LYP ADN 001'\n",
            "   ❔ Pregunta: 'MAS-IPSP' -> Respuesta: 'MAS-IPSP 004'\n",
            "   ❔ Pregunta: 'MESA' -> Respuesta: '2'\n",
            "   ❔ Pregunta: 'MORENA' -> Respuesta: 'MORENA 7660'\n",
            "   ❔ Pregunta: 'PAPELETAS EN ÁNFORA' -> Respuesta: '426'\n",
            "   ❔ Pregunta: 'PAPELETAS NO UTILIZADAS' -> Respuesta: '496'\n",
            "   ❔ Pregunta: 'PDC' -> Respuesta: 'PDC 022'\n",
            "   ❔ Pregunta: 'UNIDAD' -> Respuesta: 'UNIDAD 003'\n",
            "   ❔ Pregunta: 'VOTOS BLANCOS' -> Respuesta: '4'\n",
            "   ❔ Pregunta: 'VOTOS NULOS' -> Respuesta: '54'\n"
          ]
        },
        {
          "name": "stderr",
          "output_type": "stream",
          "text": [
            "\n",
            "Procesando Actas con Donut:  19%|█▊        | 101/545 [44:42<3:17:58, 26.75s/it]\u001b[A"
          ]
        },
        {
          "name": "stdout",
          "output_type": "stream",
          "text": [
            "   ❔ Pregunta: 'VOTOS VÁLIDOS' -> Respuesta: '68'\n",
            "\n",
            "--- Interrogando al acta: mesa_5_103114.jpg ---\n",
            "   ❔ Pregunta: 'AP' -> Respuesta: 'AP 032'\n",
            "   ❔ Pregunta: 'APB SÚMATE' -> Respuesta: 'APB SÚMATE 0833'\n",
            "   ❔ Pregunta: 'CODIGO MESA' -> Respuesta: '5'\n",
            "   ❔ Pregunta: 'ELECTORES HABILITADOS' -> Respuesta: '3'\n",
            "   ❔ Pregunta: 'FP' -> Respuesta: 'FP 003'\n",
            "   ❔ Pregunta: 'LIBRE' -> Respuesta: 'LIBRE 003'\n",
            "   ❔ Pregunta: 'LYP ADN' -> Respuesta: 'LYP ADN 0833'\n",
            "   ❔ Pregunta: 'MAS-IPSP' -> Respuesta: 'MAS-IPSP 0.03'\n",
            "   ❔ Pregunta: 'MESA' -> Respuesta: '5'\n",
            "   ❔ Pregunta: 'MORENA' -> Respuesta: 'MORENA 17 8'\n",
            "   ❔ Pregunta: 'PAPELETAS EN ÁNFORA' -> Respuesta: '178'\n",
            "   ❔ Pregunta: 'PAPELETAS NO UTILIZADAS' -> Respuesta: '178'\n",
            "   ❔ Pregunta: 'PDC' -> Respuesta: 'PDC 0.19'\n",
            "   ❔ Pregunta: 'UNIDAD' -> Respuesta: 'UNIDAD 0.9'\n",
            "   ❔ Pregunta: 'VOTOS BLANCOS' -> Respuesta: '61'\n",
            "   ❔ Pregunta: 'VOTOS NULOS' -> Respuesta: '61'\n"
          ]
        },
        {
          "name": "stderr",
          "output_type": "stream",
          "text": [
            "\n",
            "Procesando Actas con Donut:  19%|█▊        | 102/545 [45:09<3:17:26, 26.74s/it]\u001b[A"
          ]
        },
        {
          "name": "stdout",
          "output_type": "stream",
          "text": [
            "   ❔ Pregunta: 'VOTOS VÁLIDOS' -> Respuesta: '78'\n",
            "\n",
            "--- Interrogando al acta: mesa_1_103164.jpg ---\n",
            "   ❔ Pregunta: 'AP' -> Respuesta: 'AP APB SUMATE'\n",
            "   ❔ Pregunta: 'APB SÚMATE' -> Respuesta: 'APB SÚMATE 08.31'\n",
            "   ❔ Pregunta: 'CODIGO MESA' -> Respuesta: 'None'\n",
            "   ❔ Pregunta: 'ELECTORES HABILITADOS' -> Respuesta: '3'\n",
            "   ❔ Pregunta: 'FP' -> Respuesta: 'FP 003'\n",
            "   ❔ Pregunta: 'LIBRE' -> Respuesta: 'LIBRE 003'\n",
            "   ❔ Pregunta: 'LYP ADN' -> Respuesta: 'LYP ADN APB SUMATE'\n",
            "   ❔ Pregunta: 'MAS-IPSP' -> Respuesta: 'MAS-IPSP 000'\n",
            "   ❔ Pregunta: 'MESA' -> Respuesta: '1'\n",
            "   ❔ Pregunta: 'MORENA' -> Respuesta: 'MORENA 004'\n",
            "   ❔ Pregunta: 'PAPELETAS EN ÁNFORA' -> Respuesta: '30'\n",
            "   ❔ Pregunta: 'PAPELETAS NO UTILIZADAS' -> Respuesta: '30'\n",
            "   ❔ Pregunta: 'PDC' -> Respuesta: 'PDC 023'\n",
            "   ❔ Pregunta: 'UNIDAD' -> Respuesta: 'UNIDAD 005'\n",
            "   ❔ Pregunta: 'VOTOS BLANCOS' -> Respuesta: '7'\n",
            "   ❔ Pregunta: 'VOTOS NULOS' -> Respuesta: '56'\n"
          ]
        },
        {
          "name": "stderr",
          "output_type": "stream",
          "text": [
            "\n",
            "Procesando Actas con Donut:  19%|█▉        | 103/545 [45:35<3:16:58, 26.74s/it]\u001b[A"
          ]
        },
        {
          "name": "stdout",
          "output_type": "stream",
          "text": [
            "   ❔ Pregunta: 'VOTOS VÁLIDOS' -> Respuesta: '36'\n",
            "\n",
            "--- Interrogando al acta: mesa_3_103184.jpg ---\n",
            "   ❔ Pregunta: 'AP' -> Respuesta: 'AP 002'\n",
            "   ❔ Pregunta: 'APB SÚMATE' -> Respuesta: 'APB SÚMATE MOSA: 3'\n",
            "   ❔ Pregunta: 'CODIGO MESA' -> Respuesta: 'None'\n",
            "   ❔ Pregunta: 'ELECTORES HABILITADOS' -> Respuesta: 'None'\n",
            "   ❔ Pregunta: 'FP' -> Respuesta: 'FP 002'\n",
            "   ❔ Pregunta: 'LIBRE' -> Respuesta: 'LIBRE 006'\n",
            "   ❔ Pregunta: 'LYP ADN' -> Respuesta: 'LYP ADN 001'\n",
            "   ❔ Pregunta: 'MAS-IPSP' -> Respuesta: 'MAS-IPSP 005'\n",
            "   ❔ Pregunta: 'MESA' -> Respuesta: '3'\n",
            "   ❔ Pregunta: 'MORENA' -> Respuesta: 'MORENA 17 40'\n",
            "   ❔ Pregunta: 'PAPELETAS EN ÁNFORA' -> Respuesta: '202'\n",
            "   ❔ Pregunta: 'PAPELETAS NO UTILIZADAS' -> Respuesta: '202'\n",
            "   ❔ Pregunta: 'PDC' -> Respuesta: 'PDC 022'\n",
            "   ❔ Pregunta: 'UNIDAD' -> Respuesta: 'UNIDAD 004'\n",
            "   ❔ Pregunta: 'VOTOS BLANCOS' -> Respuesta: '4'\n",
            "   ❔ Pregunta: 'VOTOS NULOS' -> Respuesta: '42'\n"
          ]
        },
        {
          "name": "stderr",
          "output_type": "stream",
          "text": [
            "\n",
            "Procesando Actas con Donut:  19%|█▉        | 104/545 [46:02<3:16:43, 26.77s/it]\u001b[A"
          ]
        },
        {
          "name": "stdout",
          "output_type": "stream",
          "text": [
            "   ❔ Pregunta: 'VOTOS VÁLIDOS' -> Respuesta: '72'\n",
            "\n",
            "--- Interrogando al acta: mesa_8_103144.jpg ---\n",
            "   ❔ Pregunta: 'AP' -> Respuesta: 'AP 0 2'\n",
            "   ❔ Pregunta: 'APB SÚMATE' -> Respuesta: 'APB SÚMATE 0920'\n",
            "   ❔ Pregunta: 'CODIGO MESA' -> Respuesta: '8'\n",
            "   ❔ Pregunta: 'ELECTORES HABILITADOS' -> Respuesta: '3'\n",
            "   ❔ Pregunta: 'FP' -> Respuesta: 'FP 0.2'\n",
            "   ❔ Pregunta: 'LIBRE' -> Respuesta: 'LIBRE 0.2'\n",
            "   ❔ Pregunta: 'LYP ADN' -> Respuesta: 'LYP ADN 0920'\n",
            "   ❔ Pregunta: 'MAS-IPSP' -> Respuesta: 'MAS-IPSP 0.2'\n",
            "   ❔ Pregunta: 'MESA' -> Respuesta: '8'\n",
            "   ❔ Pregunta: 'MORENA' -> Respuesta: 'MORENA 20 4'\n",
            "   ❔ Pregunta: 'PAPELETAS EN ÁNFORA' -> Respuesta: '416'\n",
            "   ❔ Pregunta: 'PAPELETAS NO UTILIZADAS' -> Respuesta: '204'\n",
            "   ❔ Pregunta: 'PDC' -> Respuesta: 'PDC 020'\n",
            "   ❔ Pregunta: 'UNIDAD' -> Respuesta: 'UNIDAD 020'\n",
            "   ❔ Pregunta: 'VOTOS BLANCOS' -> Respuesta: '3'\n",
            "   ❔ Pregunta: 'VOTOS NULOS' -> Respuesta: '50'\n"
          ]
        },
        {
          "name": "stderr",
          "output_type": "stream",
          "text": [
            "\n",
            "Procesando Actas con Donut:  19%|█▉        | 105/545 [46:29<3:16:07, 26.74s/it]\u001b[A"
          ]
        },
        {
          "name": "stdout",
          "output_type": "stream",
          "text": [
            "   ❔ Pregunta: 'VOTOS VÁLIDOS' -> Respuesta: '63'\n",
            "\n",
            "--- Interrogando al acta: mesa_6_103124.jpg ---\n",
            "   ❔ Pregunta: 'AP' -> Respuesta: 'AP 020'\n",
            "   ❔ Pregunta: 'APB SÚMATE' -> Respuesta: 'APB SÚMATE 0820'\n",
            "   ❔ Pregunta: 'CODIGO MESA' -> Respuesta: '6'\n",
            "   ❔ Pregunta: 'ELECTORES HABILITADOS' -> Respuesta: '3'\n",
            "   ❔ Pregunta: 'FP' -> Respuesta: 'FP 003'\n",
            "   ❔ Pregunta: 'LIBRE' -> Respuesta: 'LIBRE 0.20'\n",
            "   ❔ Pregunta: 'LYP ADN' -> Respuesta: 'LYP ADN 0820'\n",
            "   ❔ Pregunta: 'MAS-IPSP' -> Respuesta: 'MAS-IPSP 005'\n",
            "   ❔ Pregunta: 'MESA' -> Respuesta: '6'\n",
            "   ❔ Pregunta: 'MORENA' -> Respuesta: 'MORENA 0820'\n",
            "   ❔ Pregunta: 'PAPELETAS EN ÁNFORA' -> Respuesta: '793'\n",
            "   ❔ Pregunta: 'PAPELETAS NO UTILIZADAS' -> Respuesta: '424'\n",
            "   ❔ Pregunta: 'PDC' -> Respuesta: 'PDC 077'\n",
            "   ❔ Pregunta: 'UNIDAD' -> Respuesta: 'UNIDAD 00 7'\n",
            "   ❔ Pregunta: 'VOTOS BLANCOS' -> Respuesta: '7'\n",
            "   ❔ Pregunta: 'VOTOS NULOS' -> Respuesta: '63'\n"
          ]
        },
        {
          "name": "stderr",
          "output_type": "stream",
          "text": [
            "\n",
            "Procesando Actas con Donut:  19%|█▉        | 106/545 [46:56<3:16:09, 26.81s/it]\u001b[A"
          ]
        },
        {
          "name": "stdout",
          "output_type": "stream",
          "text": [
            "   ❔ Pregunta: 'VOTOS VÁLIDOS' -> Respuesta: '63'\n",
            "\n",
            "--- Interrogando al acta: mesa_4_103104.jpg ---\n",
            "   ❔ Pregunta: 'AP' -> Respuesta: 'AP 078'\n",
            "   ❔ Pregunta: 'APB SÚMATE' -> Respuesta: 'APB SÚMATE 0.78'\n",
            "   ❔ Pregunta: 'CODIGO MESA' -> Respuesta: '4'\n",
            "   ❔ Pregunta: 'ELECTORES HABILITADOS' -> Respuesta: '3'\n",
            "   ❔ Pregunta: 'FP' -> Respuesta: 'FP 001'\n",
            "   ❔ Pregunta: 'LIBRE' -> Respuesta: 'LIBRE 005'\n",
            "   ❔ Pregunta: 'LYP ADN' -> Respuesta: 'LYP ADN 0830'\n",
            "   ❔ Pregunta: 'MAS-IPSP' -> Respuesta: 'MAS-IPSP 003'\n",
            "   ❔ Pregunta: 'MESA' -> Respuesta: '4'\n",
            "   ❔ Pregunta: 'MORENA' -> Respuesta: 'MORENA 0830'\n",
            "   ❔ Pregunta: 'PAPELETAS EN ÁNFORA' -> Respuesta: '68'\n",
            "   ❔ Pregunta: 'PAPELETAS NO UTILIZADAS' -> Respuesta: '798'\n",
            "   ❔ Pregunta: 'PDC' -> Respuesta: 'PDC 021'\n",
            "   ❔ Pregunta: 'UNIDAD' -> Respuesta: 'UNIDAD 007'\n",
            "   ❔ Pregunta: 'VOTOS BLANCOS' -> Respuesta: '2'\n",
            "   ❔ Pregunta: 'VOTOS NULOS' -> Respuesta: '60'\n"
          ]
        },
        {
          "name": "stderr",
          "output_type": "stream",
          "text": [
            "\n",
            "Procesando Actas con Donut:  20%|█▉        | 107/545 [47:23<3:15:18, 26.75s/it]\u001b[A"
          ]
        },
        {
          "name": "stdout",
          "output_type": "stream",
          "text": [
            "   ❔ Pregunta: 'VOTOS VÁLIDOS' -> Respuesta: '60'\n",
            "\n",
            "--- Interrogando al acta: mesa_9_103154.jpg ---\n",
            "   ❔ Pregunta: 'AP' -> Respuesta: 'AP 018'\n",
            "   ❔ Pregunta: 'APB SÚMATE' -> Respuesta: 'APB SÚMATE 08 27'\n",
            "   ❔ Pregunta: 'CODIGO MESA' -> Respuesta: '9'\n",
            "   ❔ Pregunta: 'ELECTORES HABILITADOS' -> Respuesta: '68'\n",
            "   ❔ Pregunta: 'FP' -> Respuesta: 'FP 003'\n",
            "   ❔ Pregunta: 'LIBRE' -> Respuesta: 'LIBRE 08 27'\n",
            "   ❔ Pregunta: 'LYP ADN' -> Respuesta: 'LYP ADN 08 27'\n",
            "   ❔ Pregunta: 'MAS-IPSP' -> Respuesta: 'MAS-IPSP 004'\n",
            "   ❔ Pregunta: 'MESA' -> Respuesta: '9'\n",
            "   ❔ Pregunta: 'MORENA' -> Respuesta: 'MORENA 08 27'\n",
            "   ❔ Pregunta: 'PAPELETAS EN ÁNFORA' -> Respuesta: '83'\n",
            "   ❔ Pregunta: 'PAPELETAS NO UTILIZADAS' -> Respuesta: '782'\n",
            "   ❔ Pregunta: 'PDC' -> Respuesta: 'PDC 022'\n",
            "   ❔ Pregunta: 'UNIDAD' -> Respuesta: 'UNIDAD 003'\n",
            "   ❔ Pregunta: 'VOTOS BLANCOS' -> Respuesta: '3'\n",
            "   ❔ Pregunta: 'VOTOS NULOS' -> Respuesta: '50'\n"
          ]
        },
        {
          "name": "stderr",
          "output_type": "stream",
          "text": [
            "\n",
            "Procesando Actas con Donut:  20%|█▉        | 108/545 [47:49<3:15:14, 26.81s/it]\u001b[A"
          ]
        },
        {
          "name": "stdout",
          "output_type": "stream",
          "text": [
            "   ❔ Pregunta: 'VOTOS VÁLIDOS' -> Respuesta: '60'\n",
            "\n",
            "--- Interrogando al acta: mesa_7_100504.jpg ---\n",
            "   ❔ Pregunta: 'AP' -> Respuesta: 'AP 00'\n",
            "   ❔ Pregunta: 'APB SÚMATE' -> Respuesta: 'APB SÚMATE MOSA 7'\n",
            "   ❔ Pregunta: 'CODIGO MESA' -> Respuesta: '7'\n",
            "   ❔ Pregunta: 'ELECTORES HABILITADOS' -> Respuesta: '3'\n",
            "   ❔ Pregunta: 'FP' -> Respuesta: 'FP 000'\n",
            "   ❔ Pregunta: 'LIBRE' -> Respuesta: 'LIBRE 0.12'\n",
            "   ❔ Pregunta: 'LYP ADN' -> Respuesta: 'LYP ADN 00'\n",
            "   ❔ Pregunta: 'MAS-IPSP' -> Respuesta: 'MAS-IPSP 001'\n",
            "   ❔ Pregunta: 'MESA' -> Respuesta: '7'\n",
            "   ❔ Pregunta: 'MORENA' -> Respuesta: 'MORENA 0.38'\n",
            "   ❔ Pregunta: 'PAPELETAS EN ÁNFORA' -> Respuesta: '38'\n",
            "   ❔ Pregunta: 'PAPELETAS NO UTILIZADAS' -> Respuesta: '38'\n",
            "   ❔ Pregunta: 'PDC' -> Respuesta: 'PDC 0.8'\n",
            "   ❔ Pregunta: 'UNIDAD' -> Respuesta: 'UNIDAD 00 6'\n",
            "   ❔ Pregunta: 'VOTOS BLANCOS' -> Respuesta: '0'\n",
            "   ❔ Pregunta: 'VOTOS NULOS' -> Respuesta: '29'\n"
          ]
        },
        {
          "name": "stderr",
          "output_type": "stream",
          "text": [
            "\n",
            "Procesando Actas con Donut:  20%|██        | 109/545 [48:16<3:14:27, 26.76s/it]\u001b[A"
          ]
        },
        {
          "name": "stdout",
          "output_type": "stream",
          "text": [
            "   ❔ Pregunta: 'VOTOS VÁLIDOS' -> Respuesta: '25'\n",
            "\n",
            "--- Interrogando al acta: mesa_5_100484.jpg ---\n",
            "   ❔ Pregunta: 'AP' -> Respuesta: 'AP 012'\n",
            "   ❔ Pregunta: 'APB SÚMATE' -> Respuesta: 'APB SÚMATE 007'\n",
            "   ❔ Pregunta: 'CODIGO MESA' -> Respuesta: '5'\n",
            "   ❔ Pregunta: 'ELECTORES HABILITADOS' -> Respuesta: '3'\n",
            "   ❔ Pregunta: 'FP' -> Respuesta: 'FP 002'\n",
            "   ❔ Pregunta: 'LIBRE' -> Respuesta: 'LIBRE 055'\n",
            "   ❔ Pregunta: 'LYP ADN' -> Respuesta: 'LYP ADN 0800'\n",
            "   ❔ Pregunta: 'MAS-IPSP' -> Respuesta: 'MAS-IPSP 002'\n",
            "   ❔ Pregunta: 'MESA' -> Respuesta: '5'\n",
            "   ❔ Pregunta: 'MORENA' -> Respuesta: 'MORENA 1 4 1'\n",
            "   ❔ Pregunta: 'PAPELETAS EN ÁNFORA' -> Respuesta: '141'\n",
            "   ❔ Pregunta: 'PAPELETAS NO UTILIZADAS' -> Respuesta: '179'\n",
            "   ❔ Pregunta: 'PDC' -> Respuesta: 'PDC 012'\n",
            "   ❔ Pregunta: 'UNIDAD' -> Respuesta: 'UNIDAD 030'\n",
            "   ❔ Pregunta: 'VOTOS BLANCOS' -> Respuesta: '1'\n",
            "   ❔ Pregunta: 'VOTOS NULOS' -> Respuesta: '20'\n"
          ]
        },
        {
          "name": "stderr",
          "output_type": "stream",
          "text": [
            "\n",
            "Procesando Actas con Donut:  20%|██        | 110/545 [48:43<3:13:38, 26.71s/it]\u001b[A"
          ]
        },
        {
          "name": "stdout",
          "output_type": "stream",
          "text": [
            "   ❔ Pregunta: 'VOTOS VÁLIDOS' -> Respuesta: '120'\n",
            "\n",
            "--- Interrogando al acta: mesa_1_100444.jpg ---\n",
            "   ❔ Pregunta: 'AP' -> Respuesta: 'AP 012'\n",
            "   ❔ Pregunta: 'APB SÚMATE' -> Respuesta: 'APB SÚMATE 009'\n",
            "   ❔ Pregunta: 'CODIGO MESA' -> Respuesta: '1'\n",
            "   ❔ Pregunta: 'ELECTORES HABILITADOS' -> Respuesta: '3'\n",
            "   ❔ Pregunta: 'FP' -> Respuesta: 'FP 006'\n",
            "   ❔ Pregunta: 'LIBRE' -> Respuesta: 'LIBRE OEP'\n",
            "   ❔ Pregunta: 'LYP ADN' -> Respuesta: 'LYP ADN APS COMATE'\n",
            "   ❔ Pregunta: 'MAS-IPSP' -> Respuesta: 'MAS-IPSP 005'\n",
            "   ❔ Pregunta: 'MESA' -> Respuesta: '1'\n",
            "   ❔ Pregunta: 'MORENA' -> Respuesta: 'MORENA 0.15'\n",
            "   ❔ Pregunta: 'PAPELETAS EN ÁNFORA' -> Respuesta: '25'\n",
            "   ❔ Pregunta: 'PAPELETAS NO UTILIZADAS' -> Respuesta: '12'\n",
            "   ❔ Pregunta: 'PDC' -> Respuesta: 'PDC 012'\n",
            "   ❔ Pregunta: 'UNIDAD' -> Respuesta: 'UNIDAD 015'\n",
            "   ❔ Pregunta: 'VOTOS BLANCOS' -> Respuesta: '3'\n",
            "   ❔ Pregunta: 'VOTOS NULOS' -> Respuesta: '20'\n"
          ]
        },
        {
          "name": "stderr",
          "output_type": "stream",
          "text": [
            "\n",
            "Procesando Actas con Donut:  20%|██        | 111/545 [49:09<3:12:52, 26.66s/it]\u001b[A"
          ]
        },
        {
          "name": "stdout",
          "output_type": "stream",
          "text": [
            "   ❔ Pregunta: 'VOTOS VÁLIDOS' -> Respuesta: '110'\n",
            "\n",
            "--- Interrogando al acta: mesa_2_100454.jpg ---\n",
            "   ❔ Pregunta: 'AP' -> Respuesta: 'AP A3'\n",
            "   ❔ Pregunta: 'APB SÚMATE' -> Respuesta: 'APB SÚMATE 0.95'\n",
            "   ❔ Pregunta: 'CODIGO MESA' -> Respuesta: '822'\n",
            "   ❔ Pregunta: 'ELECTORES HABILITADOS' -> Respuesta: '3'\n",
            "   ❔ Pregunta: 'FP' -> Respuesta: 'FP 0.95'\n",
            "   ❔ Pregunta: 'LIBRE' -> Respuesta: 'LIBRE MESA'\n",
            "   ❔ Pregunta: 'LYP ADN' -> Respuesta: 'LYP ADN OEP'\n",
            "   ❔ Pregunta: 'MAS-IPSP' -> Respuesta: 'MAS-IPSP 0.95'\n",
            "   ❔ Pregunta: 'MESA' -> Respuesta: '822'\n",
            "   ❔ Pregunta: 'MORENA' -> Respuesta: 'MORENA 0.95'\n",
            "   ❔ Pregunta: 'PAPELETAS EN ÁNFORA' -> Respuesta: '95'\n",
            "   ❔ Pregunta: 'PAPELETAS NO UTILIZADAS' -> Respuesta: '95'\n",
            "   ❔ Pregunta: 'PDC' -> Respuesta: 'PDC 00'\n",
            "   ❔ Pregunta: 'UNIDAD' -> Respuesta: 'UNIDAD MESA 2'\n",
            "   ❔ Pregunta: 'VOTOS BLANCOS' -> Respuesta: '1'\n",
            "   ❔ Pregunta: 'VOTOS NULOS' -> Respuesta: '95'\n"
          ]
        },
        {
          "name": "stderr",
          "output_type": "stream",
          "text": [
            "\n",
            "Procesando Actas con Donut:  21%|██        | 112/545 [49:36<3:12:25, 26.66s/it]\u001b[A"
          ]
        },
        {
          "name": "stdout",
          "output_type": "stream",
          "text": [
            "   ❔ Pregunta: 'VOTOS VÁLIDOS' -> Respuesta: '6'\n",
            "\n",
            "--- Interrogando al acta: mesa_3_100464.jpg ---\n",
            "   ❔ Pregunta: 'AP' -> Respuesta: 'AP 500'\n",
            "   ❔ Pregunta: 'APB SÚMATE' -> Respuesta: 'APB SÚMATE WWW.ХРАНИVIDU'\n",
            "   ❔ Pregunta: 'CODIGO MESA' -> Respuesta: '880'\n",
            "   ❔ Pregunta: 'ELECTORES HABILITADOS' -> Respuesta: 'None'\n",
            "   ❔ Pregunta: 'FP' -> Respuesta: 'FP WWW.GOV'\n",
            "   ❔ Pregunta: 'LIBRE' -> Respuesta: 'LIBRE WWW.GOV'\n",
            "   ❔ Pregunta: 'LYP ADN' -> Respuesta: 'LYP ADN COOKED MEAT'\n",
            "   ❔ Pregunta: 'MAS-IPSP' -> Respuesta: 'MAS-IPSP WWW.GOV'\n",
            "   ❔ Pregunta: 'MESA' -> Respuesta: '880'\n",
            "   ❔ Pregunta: 'MORENA' -> Respuesta: 'MORENA 710'\n",
            "   ❔ Pregunta: 'PAPELETAS EN ÁNFORA' -> Respuesta: '600'\n",
            "   ❔ Pregunta: 'PAPELETAS NO UTILIZADAS' -> Respuesta: '0'\n",
            "   ❔ Pregunta: 'PDC' -> Respuesta: 'PDC 880'\n",
            "   ❔ Pregunta: 'UNIDAD' -> Respuesta: 'UNIDAD 00'\n",
            "   ❔ Pregunta: 'VOTOS BLANCOS' -> Respuesta: 'None'\n",
            "   ❔ Pregunta: 'VOTOS NULOS' -> Respuesta: '0'\n"
          ]
        },
        {
          "name": "stderr",
          "output_type": "stream",
          "text": [
            "\n",
            "Procesando Actas con Donut:  21%|██        | 113/545 [50:03<3:12:14, 26.70s/it]\u001b[A"
          ]
        },
        {
          "name": "stdout",
          "output_type": "stream",
          "text": [
            "   ❔ Pregunta: 'VOTOS VÁLIDOS' -> Respuesta: 'None'\n",
            "\n",
            "--- Interrogando al acta: mesa_4_100474.jpg ---\n",
            "   ❔ Pregunta: 'AP' -> Respuesta: 'AP 012'\n",
            "   ❔ Pregunta: 'APB SÚMATE' -> Respuesta: 'APB SÚMATE MESA: 4'\n",
            "   ❔ Pregunta: 'CODIGO MESA' -> Respuesta: '4'\n",
            "   ❔ Pregunta: 'ELECTORES HABILITADOS' -> Respuesta: 'None'\n",
            "   ❔ Pregunta: 'FP' -> Respuesta: 'FP 003'\n",
            "   ❔ Pregunta: 'LIBRE' -> Respuesta: 'LIBRE 08.23'\n",
            "   ❔ Pregunta: 'LYP ADN' -> Respuesta: 'LYP ADN 08.23'\n",
            "   ❔ Pregunta: 'MAS-IPSP' -> Respuesta: 'MAS-IPSP 002'\n",
            "   ❔ Pregunta: 'MESA' -> Respuesta: '4'\n",
            "   ❔ Pregunta: 'MORENA' -> Respuesta: 'MORENA 08.23'\n",
            "   ❔ Pregunta: 'PAPELETAS EN ÁNFORA' -> Respuesta: '25'\n",
            "   ❔ Pregunta: 'PAPELETAS NO UTILIZADAS' -> Respuesta: '12'\n",
            "   ❔ Pregunta: 'PDC' -> Respuesta: 'PDC 015'\n",
            "   ❔ Pregunta: 'UNIDAD' -> Respuesta: 'UNIDAD 025'\n",
            "   ❔ Pregunta: 'VOTOS BLANCOS' -> Respuesta: '2'\n",
            "   ❔ Pregunta: 'VOTOS NULOS' -> Respuesta: '17'\n"
          ]
        },
        {
          "name": "stderr",
          "output_type": "stream",
          "text": [
            "\n",
            "Procesando Actas con Donut:  21%|██        | 114/545 [50:30<3:12:42, 26.83s/it]\u001b[A"
          ]
        },
        {
          "name": "stdout",
          "output_type": "stream",
          "text": [
            "   ❔ Pregunta: 'VOTOS VÁLIDOS' -> Respuesta: '102'\n",
            "\n",
            "--- Interrogando al acta: mesa_6_100494.jpg ---\n",
            "   ❔ Pregunta: 'AP' -> Respuesta: 'AP 0 EP'\n",
            "   ❔ Pregunta: 'APB SÚMATE' -> Respuesta: 'APB SÚMATE 006'\n",
            "   ❔ Pregunta: 'CODIGO MESA' -> Respuesta: '6'\n",
            "   ❔ Pregunta: 'ELECTORES HABILITADOS' -> Respuesta: '3'\n",
            "   ❔ Pregunta: 'FP' -> Respuesta: 'FP 0049-4'\n",
            "   ❔ Pregunta: 'LIBRE' -> Respuesta: 'LIBRE OEP'\n",
            "   ❔ Pregunta: 'LYP ADN' -> Respuesta: 'LYP ADN 007'\n",
            "   ❔ Pregunta: 'MAS-IPSP' -> Respuesta: 'MAS-IPSP 006'\n",
            "   ❔ Pregunta: 'MESA' -> Respuesta: '6'\n",
            "   ❔ Pregunta: 'MORENA' -> Respuesta: 'MORENA 1 9 5'\n",
            "   ❔ Pregunta: 'PAPELETAS EN ÁNFORA' -> Respuesta: '1'\n",
            "   ❔ Pregunta: 'PAPELETAS NO UTILIZADAS' -> Respuesta: '6'\n",
            "   ❔ Pregunta: 'PDC' -> Respuesta: 'PDC 012'\n",
            "   ❔ Pregunta: 'UNIDAD' -> Respuesta: 'UNIDAD 0 1 2'\n",
            "   ❔ Pregunta: 'VOTOS BLANCOS' -> Respuesta: '2'\n",
            "   ❔ Pregunta: 'VOTOS NULOS' -> Respuesta: '107'\n"
          ]
        },
        {
          "name": "stderr",
          "output_type": "stream",
          "text": [
            "\n",
            "Procesando Actas con Donut:  21%|██        | 115/545 [50:57<3:12:05, 26.80s/it]\u001b[A"
          ]
        },
        {
          "name": "stdout",
          "output_type": "stream",
          "text": [
            "   ❔ Pregunta: 'VOTOS VÁLIDOS' -> Respuesta: '107'\n",
            "\n",
            "--- Interrogando al acta: mesa_1_101154.jpg ---\n",
            "   ❔ Pregunta: 'AP' -> Respuesta: 'AP 022'\n",
            "   ❔ Pregunta: 'APB SÚMATE' -> Respuesta: 'APB SÚMATE 09.30'\n",
            "   ❔ Pregunta: 'CODIGO MESA' -> Respuesta: '930'\n",
            "   ❔ Pregunta: 'ELECTORES HABILITADOS' -> Respuesta: '3'\n",
            "   ❔ Pregunta: 'FP' -> Respuesta: 'FP 007'\n",
            "   ❔ Pregunta: 'LIBRE' -> Respuesta: 'LIBRE 0.10'\n",
            "   ❔ Pregunta: 'LYP ADN' -> Respuesta: 'LYP ADN 0.22'\n",
            "   ❔ Pregunta: 'MAS-IPSP' -> Respuesta: 'MAS-IPSP 005'\n",
            "   ❔ Pregunta: 'MESA' -> Respuesta: '930'\n",
            "   ❔ Pregunta: 'MORENA' -> Respuesta: 'MORENA 09.30'\n",
            "   ❔ Pregunta: 'PAPELETAS EN ÁNFORA' -> Respuesta: '730'\n",
            "   ❔ Pregunta: 'PAPELETAS NO UTILIZADAS' -> Respuesta: '794'\n",
            "   ❔ Pregunta: 'PDC' -> Respuesta: 'PDC 034'\n",
            "   ❔ Pregunta: 'UNIDAD' -> Respuesta: 'UNIDAD 005'\n",
            "   ❔ Pregunta: 'VOTOS BLANCOS' -> Respuesta: '7'\n",
            "   ❔ Pregunta: 'VOTOS NULOS' -> Respuesta: '32'\n"
          ]
        },
        {
          "name": "stderr",
          "output_type": "stream",
          "text": [
            "\n",
            "Procesando Actas con Donut:  21%|██▏       | 116/545 [51:23<3:11:26, 26.78s/it]\u001b[A"
          ]
        },
        {
          "name": "stdout",
          "output_type": "stream",
          "text": [
            "   ❔ Pregunta: 'VOTOS VÁLIDOS' -> Respuesta: '90'\n",
            "\n",
            "--- Interrogando al acta: mesa_8_101224.jpg ---\n",
            "   ❔ Pregunta: 'AP' -> Respuesta: 'AP APB COMATE'\n",
            "   ❔ Pregunta: 'APB SÚMATE' -> Respuesta: 'APB SÚMATE MOSA: 8'\n",
            "   ❔ Pregunta: 'CODIGO MESA' -> Respuesta: '8'\n",
            "   ❔ Pregunta: 'ELECTORES HABILITADOS' -> Respuesta: '3'\n",
            "   ❔ Pregunta: 'FP' -> Respuesta: 'FP 08.45'\n",
            "   ❔ Pregunta: 'LIBRE' -> Respuesta: 'LIBRE 08.45'\n",
            "   ❔ Pregunta: 'LYP ADN' -> Respuesta: 'LYP ADN 08.45'\n",
            "   ❔ Pregunta: 'MAS-IPSP' -> Respuesta: 'MAS-IPSP 00'\n",
            "   ❔ Pregunta: 'MESA' -> Respuesta: '8'\n",
            "   ❔ Pregunta: 'MORENA' -> Respuesta: 'MORENA 0 58'\n",
            "   ❔ Pregunta: 'PAPELETAS EN ÁNFORA' -> Respuesta: '58'\n",
            "   ❔ Pregunta: 'PAPELETAS NO UTILIZADAS' -> Respuesta: '58'\n",
            "   ❔ Pregunta: 'PDC' -> Respuesta: 'PDC 0.2'\n",
            "   ❔ Pregunta: 'UNIDAD' -> Respuesta: 'UNIDAD 001'\n",
            "   ❔ Pregunta: 'VOTOS BLANCOS' -> Respuesta: '0'\n",
            "   ❔ Pregunta: 'VOTOS NULOS' -> Respuesta: '58'\n"
          ]
        },
        {
          "name": "stderr",
          "output_type": "stream",
          "text": [
            "\n",
            "Procesando Actas con Donut:  21%|██▏       | 117/545 [51:50<3:10:42, 26.73s/it]\u001b[A"
          ]
        },
        {
          "name": "stdout",
          "output_type": "stream",
          "text": [
            "   ❔ Pregunta: 'VOTOS VÁLIDOS' -> Respuesta: '58'\n",
            "\n",
            "--- Interrogando al acta: mesa_2_101164.jpg ---\n",
            "   ❔ Pregunta: 'AP' -> Respuesta: 'AP 021'\n",
            "   ❔ Pregunta: 'APB SÚMATE' -> Respuesta: 'APB SÚMATE MOSA 2'\n",
            "   ❔ Pregunta: 'CODIGO MESA' -> Respuesta: 'None'\n",
            "   ❔ Pregunta: 'ELECTORES HABILITADOS' -> Respuesta: '3'\n",
            "   ❔ Pregunta: 'FP' -> Respuesta: 'FP 005'\n",
            "   ❔ Pregunta: 'LIBRE' -> Respuesta: 'LIBRE 0.26'\n",
            "   ❔ Pregunta: 'LYP ADN' -> Respuesta: 'LYP ADN APB SOMATE'\n",
            "   ❔ Pregunta: 'MAS-IPSP' -> Respuesta: 'MAS-IPSP 001'\n",
            "   ❔ Pregunta: 'MESA' -> Respuesta: 'None'\n",
            "   ❔ Pregunta: 'MORENA' -> Respuesta: 'MORENA 0.21'\n",
            "   ❔ Pregunta: 'PAPELETAS EN ÁNFORA' -> Respuesta: '45'\n",
            "   ❔ Pregunta: 'PAPELETAS NO UTILIZADAS' -> Respuesta: '204'\n",
            "   ❔ Pregunta: 'PDC' -> Respuesta: 'PDC 0.24'\n",
            "   ❔ Pregunta: 'UNIDAD' -> Respuesta: 'UNIDAD 004'\n",
            "   ❔ Pregunta: 'VOTOS BLANCOS' -> Respuesta: '4'\n",
            "   ❔ Pregunta: 'VOTOS NULOS' -> Respuesta: '41'\n"
          ]
        },
        {
          "name": "stderr",
          "output_type": "stream",
          "text": [
            "\n",
            "Procesando Actas con Donut:  22%|██▏       | 118/545 [52:16<3:09:49, 26.67s/it]\u001b[A"
          ]
        },
        {
          "name": "stdout",
          "output_type": "stream",
          "text": [
            "   ❔ Pregunta: 'VOTOS VÁLIDOS' -> Respuesta: '71'\n",
            "\n",
            "--- Interrogando al acta: mesa_5_101194.jpg ---\n",
            "   ❔ Pregunta: 'AP' -> Respuesta: 'AP 0.6'\n",
            "   ❔ Pregunta: 'APB SÚMATE' -> Respuesta: 'APB SÚMATE 005'\n",
            "   ❔ Pregunta: 'CODIGO MESA' -> Respuesta: '5'\n",
            "   ❔ Pregunta: 'ELECTORES HABILITADOS' -> Respuesta: '3'\n",
            "   ❔ Pregunta: 'FP' -> Respuesta: 'FP 006'\n",
            "   ❔ Pregunta: 'LIBRE' -> Respuesta: 'LIBRE 0.6'\n",
            "   ❔ Pregunta: 'LYP ADN' -> Respuesta: 'LYP ADN APB SOMATE'\n",
            "   ❔ Pregunta: 'MAS-IPSP' -> Respuesta: 'MAS-IPSP 003'\n",
            "   ❔ Pregunta: 'MESA' -> Respuesta: '5'\n",
            "   ❔ Pregunta: 'MORENA' -> Respuesta: 'MORENA 0930'\n",
            "   ❔ Pregunta: 'PAPELETAS EN ÁNFORA' -> Respuesta: '409'\n",
            "   ❔ Pregunta: 'PAPELETAS NO UTILIZADAS' -> Respuesta: '241'\n",
            "   ❔ Pregunta: 'PDC' -> Respuesta: 'PDC 027'\n",
            "   ❔ Pregunta: 'UNIDAD' -> Respuesta: 'UNIDAD 006'\n",
            "   ❔ Pregunta: 'VOTOS BLANCOS' -> Respuesta: '2'\n",
            "   ❔ Pregunta: 'VOTOS NULOS' -> Respuesta: '43'\n"
          ]
        },
        {
          "name": "stderr",
          "output_type": "stream",
          "text": [
            "\n",
            "Procesando Actas con Donut:  22%|██▏       | 119/545 [52:43<3:09:16, 26.66s/it]\u001b[A"
          ]
        },
        {
          "name": "stdout",
          "output_type": "stream",
          "text": [
            "   ❔ Pregunta: 'VOTOS VÁLIDOS' -> Respuesta: '69'\n",
            "\n",
            "--- Interrogando al acta: mesa_3_101174.jpg ---\n",
            "   ❔ Pregunta: 'AP' -> Respuesta: 'AP 010'\n",
            "   ❔ Pregunta: 'APB SÚMATE' -> Respuesta: 'APB SÚMATE 09 30'\n",
            "   ❔ Pregunta: 'CODIGO MESA' -> Respuesta: 'None'\n",
            "   ❔ Pregunta: 'ELECTORES HABILITADOS' -> Respuesta: '3'\n",
            "   ❔ Pregunta: 'FP' -> Respuesta: 'FP 004'\n",
            "   ❔ Pregunta: 'LIBRE' -> Respuesta: 'LIBRE 0'\n",
            "   ❔ Pregunta: 'LYP ADN' -> Respuesta: 'LYP ADN 0930'\n",
            "   ❔ Pregunta: 'MAS-IPSP' -> Respuesta: 'MAS-IPSP 005'\n",
            "   ❔ Pregunta: 'MESA' -> Respuesta: '930'\n",
            "   ❔ Pregunta: 'MORENA' -> Respuesta: 'MORENA 210'\n",
            "   ❔ Pregunta: 'PAPELETAS EN ÁNFORA' -> Respuesta: '210'\n",
            "   ❔ Pregunta: 'PAPELETAS NO UTILIZADAS' -> Respuesta: '210'\n",
            "   ❔ Pregunta: 'PDC' -> Respuesta: 'PDC 019'\n",
            "   ❔ Pregunta: 'UNIDAD' -> Respuesta: 'UNIDAD 005'\n",
            "   ❔ Pregunta: 'VOTOS BLANCOS' -> Respuesta: '5'\n",
            "   ❔ Pregunta: 'VOTOS NULOS' -> Respuesta: '42'\n"
          ]
        },
        {
          "name": "stderr",
          "output_type": "stream",
          "text": [
            "\n",
            "Procesando Actas con Donut:  22%|██▏       | 120/545 [53:10<3:08:47, 26.65s/it]\u001b[A"
          ]
        },
        {
          "name": "stdout",
          "output_type": "stream",
          "text": [
            "   ❔ Pregunta: 'VOTOS VÁLIDOS' -> Respuesta: '63'\n",
            "\n",
            "--- Interrogando al acta: mesa_4_101184.jpg ---\n",
            "   ❔ Pregunta: 'AP' -> Respuesta: 'AP 018'\n",
            "   ❔ Pregunta: 'APB SÚMATE' -> Respuesta: 'APB SÚMATE 004'\n",
            "   ❔ Pregunta: 'CODIGO MESA' -> Respuesta: '10184'\n",
            "   ❔ Pregunta: 'ELECTORES HABILITADOS' -> Respuesta: '3'\n",
            "   ❔ Pregunta: 'FP' -> Respuesta: 'FP 004'\n",
            "   ❔ Pregunta: 'LIBRE' -> Respuesta: 'LIBRE 0 1'\n",
            "   ❔ Pregunta: 'LYP ADN' -> Respuesta: 'LYP ADN 000'\n",
            "   ❔ Pregunta: 'MAS-IPSP' -> Respuesta: 'MAS-IPSP 00 2'\n",
            "   ❔ Pregunta: 'MESA' -> Respuesta: '4'\n",
            "   ❔ Pregunta: 'MORENA' -> Respuesta: 'MORENA 0810'\n",
            "   ❔ Pregunta: 'PAPELETAS EN ÁNFORA' -> Respuesta: '44'\n",
            "   ❔ Pregunta: 'PAPELETAS NO UTILIZADAS' -> Respuesta: '203'\n",
            "   ❔ Pregunta: 'PDC' -> Respuesta: 'PDC 025'\n",
            "   ❔ Pregunta: 'UNIDAD' -> Respuesta: 'UNIDAD 0.9'\n",
            "   ❔ Pregunta: 'VOTOS BLANCOS' -> Respuesta: '6'\n",
            "   ❔ Pregunta: 'VOTOS NULOS' -> Respuesta: '44'\n"
          ]
        },
        {
          "name": "stderr",
          "output_type": "stream",
          "text": [
            "\n",
            "Procesando Actas con Donut:  22%|██▏       | 121/545 [53:36<3:08:20, 26.65s/it]\u001b[A"
          ]
        },
        {
          "name": "stdout",
          "output_type": "stream",
          "text": [
            "   ❔ Pregunta: 'VOTOS VÁLIDOS' -> Respuesta: '67'\n",
            "\n",
            "--- Interrogando al acta: mesa_6_101204.jpg ---\n",
            "   ❔ Pregunta: 'AP' -> Respuesta: 'AP 0.13'\n",
            "   ❔ Pregunta: 'APB SÚMATE' -> Respuesta: 'APB SÚMATE 0850'\n",
            "   ❔ Pregunta: 'CODIGO MESA' -> Respuesta: '850'\n",
            "   ❔ Pregunta: 'ELECTORES HABILITADOS' -> Respuesta: '3'\n",
            "   ❔ Pregunta: 'FP' -> Respuesta: 'FP 002'\n",
            "   ❔ Pregunta: 'LIBRE' -> Respuesta: 'LIBRE 0 1'\n",
            "   ❔ Pregunta: 'LYP ADN' -> Respuesta: 'LYP ADN 0850'\n",
            "   ❔ Pregunta: 'MAS-IPSP' -> Respuesta: 'MAS-IPSP 004'\n",
            "   ❔ Pregunta: 'MESA' -> Respuesta: '6'\n",
            "   ❔ Pregunta: 'MORENA' -> Respuesta: 'MORENA 17 20'\n",
            "   ❔ Pregunta: 'PAPELETAS EN ÁNFORA' -> Respuesta: '45'\n",
            "   ❔ Pregunta: 'PAPELETAS NO UTILIZADAS' -> Respuesta: '46'\n",
            "   ❔ Pregunta: 'PDC' -> Respuesta: 'PDC 0.28'\n",
            "   ❔ Pregunta: 'UNIDAD' -> Respuesta: 'UNIDAD 003'\n",
            "   ❔ Pregunta: 'VOTOS BLANCOS' -> Respuesta: '4'\n",
            "   ❔ Pregunta: 'VOTOS NULOS' -> Respuesta: '46'\n"
          ]
        },
        {
          "name": "stderr",
          "output_type": "stream",
          "text": [
            "\n",
            "Procesando Actas con Donut:  22%|██▏       | 122/545 [54:03<3:08:46, 26.78s/it]\u001b[A"
          ]
        },
        {
          "name": "stdout",
          "output_type": "stream",
          "text": [
            "   ❔ Pregunta: 'VOTOS VÁLIDOS' -> Respuesta: '76'\n",
            "\n",
            "--- Interrogando al acta: mesa_7_101214.jpg ---\n",
            "   ❔ Pregunta: 'AP' -> Respuesta: 'AP 021'\n",
            "   ❔ Pregunta: 'APB SÚMATE' -> Respuesta: 'APB SÚMATE 0845'\n",
            "   ❔ Pregunta: 'CODIGO MESA' -> Respuesta: '101214'\n",
            "   ❔ Pregunta: 'ELECTORES HABILITADOS' -> Respuesta: '3'\n",
            "   ❔ Pregunta: 'FP' -> Respuesta: 'FP 005'\n",
            "   ❔ Pregunta: 'LIBRE' -> Respuesta: 'LIBRE 0.21'\n",
            "   ❔ Pregunta: 'LYP ADN' -> Respuesta: 'LYP ADN 00'\n",
            "   ❔ Pregunta: 'MAS-IPSP' -> Respuesta: 'MAS-IPSP 003'\n",
            "   ❔ Pregunta: 'MESA' -> Respuesta: '7'\n",
            "   ❔ Pregunta: 'MORENA' -> Respuesta: 'MORENA 7'\n",
            "   ❔ Pregunta: 'PAPELETAS EN ÁNFORA' -> Respuesta: '120'\n",
            "   ❔ Pregunta: 'PAPELETAS NO UTILIZADAS' -> Respuesta: '200'\n",
            "   ❔ Pregunta: 'PDC' -> Respuesta: 'PDC 024'\n",
            "   ❔ Pregunta: 'UNIDAD' -> Respuesta: 'UNIDAD 003'\n",
            "   ❔ Pregunta: 'VOTOS BLANCOS' -> Respuesta: '3'\n",
            "   ❔ Pregunta: 'VOTOS NULOS' -> Respuesta: '43'\n"
          ]
        },
        {
          "name": "stderr",
          "output_type": "stream",
          "text": [
            "\n",
            "Procesando Actas con Donut:  23%|██▎       | 123/545 [54:30<3:07:46, 26.70s/it]\u001b[A"
          ]
        },
        {
          "name": "stdout",
          "output_type": "stream",
          "text": [
            "   ❔ Pregunta: 'VOTOS VÁLIDOS' -> Respuesta: '74'\n",
            "\n",
            "--- Interrogando al acta: mesa_6_100244.jpg ---\n",
            "   ❔ Pregunta: 'AP' -> Respuesta: 'AP 020'\n",
            "   ❔ Pregunta: 'APB SÚMATE' -> Respuesta: 'APB SÚMATE 0.8'\n",
            "   ❔ Pregunta: 'CODIGO MESA' -> Respuesta: '6'\n",
            "   ❔ Pregunta: 'ELECTORES HABILITADOS' -> Respuesta: 'None'\n",
            "   ❔ Pregunta: 'FP' -> Respuesta: 'FP 0.9'\n",
            "   ❔ Pregunta: 'LIBRE' -> Respuesta: 'LIBRE 0.8'\n",
            "   ❔ Pregunta: 'LYP ADN' -> Respuesta: 'LYP ADN MESA: 6'\n",
            "   ❔ Pregunta: 'MAS-IPSP' -> Respuesta: 'MAS-IPSP 0.9'\n",
            "   ❔ Pregunta: 'MESA' -> Respuesta: '6'\n",
            "   ❔ Pregunta: 'MORENA' -> Respuesta: 'MORENA 0.2'\n",
            "   ❔ Pregunta: 'PAPELETAS EN ÁNFORA' -> Respuesta: '80'\n",
            "   ❔ Pregunta: 'PAPELETAS NO UTILIZADAS' -> Respuesta: '20'\n",
            "   ❔ Pregunta: 'PDC' -> Respuesta: 'PDC 00'\n",
            "   ❔ Pregunta: 'UNIDAD' -> Respuesta: 'UNIDAD 0.8'\n",
            "   ❔ Pregunta: 'VOTOS BLANCOS' -> Respuesta: '44'\n",
            "   ❔ Pregunta: 'VOTOS NULOS' -> Respuesta: '44'\n"
          ]
        },
        {
          "name": "stderr",
          "output_type": "stream",
          "text": [
            "\n",
            "Procesando Actas con Donut:  23%|██▎       | 124/545 [54:56<3:06:57, 26.65s/it]\u001b[A"
          ]
        },
        {
          "name": "stdout",
          "output_type": "stream",
          "text": [
            "   ❔ Pregunta: 'VOTOS VÁLIDOS' -> Respuesta: '36'\n",
            "\n",
            "--- Interrogando al acta: mesa_7_100254.jpg ---\n",
            "   ❔ Pregunta: 'AP' -> Respuesta: 'AP 0 2'\n",
            "   ❔ Pregunta: 'APB SÚMATE' -> Respuesta: 'APB SÚMATE 007'\n",
            "   ❔ Pregunta: 'CODIGO MESA' -> Respuesta: '100254'\n",
            "   ❔ Pregunta: 'ELECTORES HABILITADOS' -> Respuesta: '3'\n",
            "   ❔ Pregunta: 'FP' -> Respuesta: 'FP 0 0 4'\n",
            "   ❔ Pregunta: 'LIBRE' -> Respuesta: 'LIBRE 0.27'\n",
            "   ❔ Pregunta: 'LYP ADN' -> Respuesta: 'LYP ADN AP'\n",
            "   ❔ Pregunta: 'MAS-IPSP' -> Respuesta: 'MAS-IPSP 0 0'\n",
            "   ❔ Pregunta: 'MESA' -> Respuesta: '7'\n",
            "   ❔ Pregunta: 'MORENA' -> Respuesta: 'MORENA 7'\n",
            "   ❔ Pregunta: 'PAPELETAS EN ÁNFORA' -> Respuesta: '100'\n",
            "   ❔ Pregunta: 'PAPELETAS NO UTILIZADAS' -> Respuesta: '220'\n",
            "   ❔ Pregunta: 'PDC' -> Respuesta: 'PDC 018'\n",
            "   ❔ Pregunta: 'UNIDAD' -> Respuesta: 'UNIDAD 003'\n",
            "   ❔ Pregunta: 'VOTOS BLANCOS' -> Respuesta: '1'\n",
            "   ❔ Pregunta: 'VOTOS NULOS' -> Respuesta: '936'\n"
          ]
        },
        {
          "name": "stderr",
          "output_type": "stream",
          "text": [
            "\n",
            "Procesando Actas con Donut:  23%|██▎       | 125/545 [55:23<3:07:03, 26.72s/it]\u001b[A"
          ]
        },
        {
          "name": "stdout",
          "output_type": "stream",
          "text": [
            "   ❔ Pregunta: 'VOTOS VÁLIDOS' -> Respuesta: '63'\n",
            "\n",
            "--- Interrogando al acta: mesa_9_100274.jpg ---\n",
            "   ❔ Pregunta: 'AP' -> Respuesta: 'AP 018'\n",
            "   ❔ Pregunta: 'APB SÚMATE' -> Respuesta: 'APB SÚMATE MOSA: 9'\n",
            "   ❔ Pregunta: 'CODIGO MESA' -> Respuesta: '9'\n",
            "   ❔ Pregunta: 'ELECTORES HABILITADOS' -> Respuesta: '3'\n",
            "   ❔ Pregunta: 'FP' -> Respuesta: 'FP 0.26'\n",
            "   ❔ Pregunta: 'LIBRE' -> Respuesta: 'LIBRE 005'\n",
            "   ❔ Pregunta: 'LYP ADN' -> Respuesta: 'LYP ADN AP'\n",
            "   ❔ Pregunta: 'MAS-IPSP' -> Respuesta: 'MAS-IPSP 080'\n",
            "   ❔ Pregunta: 'MESA' -> Respuesta: '9'\n",
            "   ❔ Pregunta: 'MORENA' -> Respuesta: 'MORENA 17'\n",
            "   ❔ Pregunta: 'PAPELETAS EN ÁNFORA' -> Respuesta: '107'\n",
            "   ❔ Pregunta: 'PAPELETAS NO UTILIZADAS' -> Respuesta: '278'\n",
            "   ❔ Pregunta: 'PDC' -> Respuesta: 'PDC 024'\n",
            "   ❔ Pregunta: 'UNIDAD' -> Respuesta: 'UNIDAD 003'\n",
            "   ❔ Pregunta: 'VOTOS BLANCOS' -> Respuesta: '2'\n",
            "   ❔ Pregunta: 'VOTOS NULOS' -> Respuesta: '35'\n"
          ]
        },
        {
          "name": "stderr",
          "output_type": "stream",
          "text": [
            "\n",
            "Procesando Actas con Donut:  23%|██▎       | 126/545 [55:50<3:06:14, 26.67s/it]\u001b[A"
          ]
        },
        {
          "name": "stdout",
          "output_type": "stream",
          "text": [
            "   ❔ Pregunta: 'VOTOS VÁLIDOS' -> Respuesta: '70'\n",
            "\n",
            "--- Interrogando al acta: mesa_1_100194.jpg ---\n",
            "   ❔ Pregunta: 'AP' -> Respuesta: 'AP APB SOMATE'\n",
            "   ❔ Pregunta: 'APB SÚMATE' -> Respuesta: 'APB SÚMATE MOS-ISP'\n",
            "   ❔ Pregunta: 'CODIGO MESA' -> Respuesta: 'None'\n",
            "   ❔ Pregunta: 'ELECTORES HABILITADOS' -> Respuesta: '3'\n",
            "   ❔ Pregunta: 'FP' -> Respuesta: 'FP 004'\n",
            "   ❔ Pregunta: 'LIBRE' -> Respuesta: 'LIBRE 005'\n",
            "   ❔ Pregunta: 'LYP ADN' -> Respuesta: 'LYP ADN APB SOMATE'\n",
            "   ❔ Pregunta: 'MAS-IPSP' -> Respuesta: 'MAS-IPSP 002'\n",
            "   ❔ Pregunta: 'MESA' -> Respuesta: '1'\n",
            "   ❔ Pregunta: 'MORENA' -> Respuesta: 'MORENA 08 18'\n",
            "   ❔ Pregunta: 'PAPELETAS EN ÁNFORA' -> Respuesta: '38'\n",
            "   ❔ Pregunta: 'PAPELETAS NO UTILIZADAS' -> Respuesta: '217'\n",
            "   ❔ Pregunta: 'PDC' -> Respuesta: 'PDC 0 28'\n",
            "   ❔ Pregunta: 'UNIDAD' -> Respuesta: 'UNIDAD 004'\n",
            "   ❔ Pregunta: 'VOTOS BLANCOS' -> Respuesta: '1'\n",
            "   ❔ Pregunta: 'VOTOS NULOS' -> Respuesta: '40'\n"
          ]
        },
        {
          "name": "stderr",
          "output_type": "stream",
          "text": [
            "\n",
            "Procesando Actas con Donut:  23%|██▎       | 127/545 [56:17<3:06:33, 26.78s/it]\u001b[A"
          ]
        },
        {
          "name": "stdout",
          "output_type": "stream",
          "text": [
            "   ❔ Pregunta: 'VOTOS VÁLIDOS' -> Respuesta: '62'\n",
            "\n",
            "--- Interrogando al acta: mesa_8_100264.jpg ---\n",
            "   ❔ Pregunta: 'AP' -> Respuesta: 'AP 018'\n",
            "   ❔ Pregunta: 'APB SÚMATE' -> Respuesta: 'APB SÚMATE 0.18'\n",
            "   ❔ Pregunta: 'CODIGO MESA' -> Respuesta: '8'\n",
            "   ❔ Pregunta: 'ELECTORES HABILITADOS' -> Respuesta: '3'\n",
            "   ❔ Pregunta: 'FP' -> Respuesta: 'FP 0 8'\n",
            "   ❔ Pregunta: 'LIBRE' -> Respuesta: 'LIBRE 0.18'\n",
            "   ❔ Pregunta: 'LYP ADN' -> Respuesta: 'LYP ADN 0 8'\n",
            "   ❔ Pregunta: 'MAS-IPSP' -> Respuesta: 'MAS-IPSP 0 8 00'\n",
            "   ❔ Pregunta: 'MESA' -> Respuesta: '8'\n",
            "   ❔ Pregunta: 'MORENA' -> Respuesta: 'MORENA 0.18'\n",
            "   ❔ Pregunta: 'PAPELETAS EN ÁNFORA' -> Respuesta: '101'\n",
            "   ❔ Pregunta: 'PAPELETAS NO UTILIZADAS' -> Respuesta: '8'\n",
            "   ❔ Pregunta: 'PDC' -> Respuesta: 'PDC 0.18'\n",
            "   ❔ Pregunta: 'UNIDAD' -> Respuesta: 'UNIDAD 0.13'\n",
            "   ❔ Pregunta: 'VOTOS BLANCOS' -> Respuesta: '3'\n",
            "   ❔ Pregunta: 'VOTOS NULOS' -> Respuesta: '32'\n"
          ]
        },
        {
          "name": "stderr",
          "output_type": "stream",
          "text": [
            "\n",
            "Procesando Actas con Donut:  23%|██▎       | 128/545 [56:44<3:06:19, 26.81s/it]\u001b[A"
          ]
        },
        {
          "name": "stdout",
          "output_type": "stream",
          "text": [
            "   ❔ Pregunta: 'VOTOS VÁLIDOS' -> Respuesta: '66'\n",
            "\n",
            "--- Interrogando al acta: mesa_2_100204.jpg ---\n",
            "   ❔ Pregunta: 'AP' -> Respuesta: 'AP 020'\n",
            "   ❔ Pregunta: 'APB SÚMATE' -> Respuesta: 'APB SÚMATE 003'\n",
            "   ❔ Pregunta: 'CODIGO MESA' -> Respuesta: '82'\n",
            "   ❔ Pregunta: 'ELECTORES HABILITADOS' -> Respuesta: '3'\n",
            "   ❔ Pregunta: 'FP' -> Respuesta: 'FP 002'\n",
            "   ❔ Pregunta: 'LIBRE' -> Respuesta: 'LIBRE 003'\n",
            "   ❔ Pregunta: 'LYP ADN' -> Respuesta: 'LYP ADN APB SUMATE'\n",
            "   ❔ Pregunta: 'MAS-IPSP' -> Respuesta: 'MAS-IPSP 001'\n",
            "   ❔ Pregunta: 'MESA' -> Respuesta: '827'\n",
            "   ❔ Pregunta: 'MORENA' -> Respuesta: 'MORENA 188'\n",
            "   ❔ Pregunta: 'PAPELETAS EN ÁNFORA' -> Respuesta: '188'\n",
            "   ❔ Pregunta: 'PAPELETAS NO UTILIZADAS' -> Respuesta: '188'\n",
            "   ❔ Pregunta: 'PDC' -> Respuesta: 'PDC 030'\n",
            "   ❔ Pregunta: 'UNIDAD' -> Respuesta: 'UNIDAD 00 7'\n",
            "   ❔ Pregunta: 'VOTOS BLANCOS' -> Respuesta: '4'\n",
            "   ❔ Pregunta: 'VOTOS NULOS' -> Respuesta: '57'\n"
          ]
        },
        {
          "name": "stderr",
          "output_type": "stream",
          "text": [
            "\n",
            "Procesando Actas con Donut:  24%|██▎       | 129/545 [57:10<3:05:27, 26.75s/it]\u001b[A"
          ]
        },
        {
          "name": "stdout",
          "output_type": "stream",
          "text": [
            "   ❔ Pregunta: 'VOTOS VÁLIDOS' -> Respuesta: '69'\n",
            "\n",
            "--- Interrogando al acta: mesa_5_100234.jpg ---\n",
            "   ❔ Pregunta: 'AP' -> Respuesta: 'AP APB SOMATE'\n",
            "   ❔ Pregunta: 'APB SÚMATE' -> Respuesta: 'APB SÚMATE 006'\n",
            "   ❔ Pregunta: 'CODIGO MESA' -> Respuesta: '100234'\n",
            "   ❔ Pregunta: 'ELECTORES HABILITADOS' -> Respuesta: '3'\n",
            "   ❔ Pregunta: 'FP' -> Respuesta: 'FP 0.25'\n",
            "   ❔ Pregunta: 'LIBRE' -> Respuesta: 'LIBRE 0.12'\n",
            "   ❔ Pregunta: 'LYP ADN' -> Respuesta: 'LYP ADN AP'\n",
            "   ❔ Pregunta: 'MAS-IPSP' -> Respuesta: 'MAS-IPSP 0 0 4'\n",
            "   ❔ Pregunta: 'MESA' -> Respuesta: '5'\n",
            "   ❔ Pregunta: 'MORENA' -> Respuesta: 'MORENA AP'\n",
            "   ❔ Pregunta: 'PAPELETAS EN ÁNFORA' -> Respuesta: '132'\n",
            "   ❔ Pregunta: 'PAPELETAS NO UTILIZADAS' -> Respuesta: '45'\n",
            "   ❔ Pregunta: 'PDC' -> Respuesta: 'PDC 0.21'\n",
            "   ❔ Pregunta: 'UNIDAD' -> Respuesta: 'UNIDAD 003'\n",
            "   ❔ Pregunta: 'VOTOS BLANCOS' -> Respuesta: '11111111111111111111111111320'\n",
            "   ❔ Pregunta: 'VOTOS NULOS' -> Respuesta: '45'\n"
          ]
        },
        {
          "name": "stderr",
          "output_type": "stream",
          "text": [
            "\n",
            "Procesando Actas con Donut:  24%|██▍       | 130/545 [57:38<3:06:16, 26.93s/it]\u001b[A"
          ]
        },
        {
          "name": "stdout",
          "output_type": "stream",
          "text": [
            "   ❔ Pregunta: 'VOTOS VÁLIDOS' -> Respuesta: '76'\n",
            "\n",
            "--- Interrogando al acta: mesa_4_100224.jpg ---\n",
            "   ❔ Pregunta: 'AP' -> Respuesta: 'AP 01 4'\n",
            "   ❔ Pregunta: 'APB SÚMATE' -> Respuesta: 'APB SÚMATE 0.8'\n",
            "   ❔ Pregunta: 'CODIGO MESA' -> Respuesta: '4'\n",
            "   ❔ Pregunta: 'ELECTORES HABILITADOS' -> Respuesta: '3'\n",
            "   ❔ Pregunta: 'FP' -> Respuesta: 'FP 005'\n",
            "   ❔ Pregunta: 'LIBRE' -> Respuesta: 'LIBRE 0.8'\n",
            "   ❔ Pregunta: 'LYP ADN' -> Respuesta: 'LYP ADN APB SUMATE'\n",
            "   ❔ Pregunta: 'MAS-IPSP' -> Respuesta: 'MAS-IPSP 0 0'\n",
            "   ❔ Pregunta: 'MESA' -> Respuesta: '4'\n",
            "   ❔ Pregunta: 'MORENA' -> Respuesta: 'MORENA 1 9 6'\n",
            "   ❔ Pregunta: 'PAPELETAS EN ÁNFORA' -> Respuesta: '796'\n",
            "   ❔ Pregunta: 'PAPELETAS NO UTILIZADAS' -> Respuesta: '196'\n",
            "   ❔ Pregunta: 'PDC' -> Respuesta: 'PDC 02 9'\n",
            "   ❔ Pregunta: 'UNIDAD' -> Respuesta: 'UNIDAD 008'\n",
            "   ❔ Pregunta: 'VOTOS BLANCOS' -> Respuesta: '8'\n",
            "   ❔ Pregunta: 'VOTOS NULOS' -> Respuesta: '43'\n"
          ]
        },
        {
          "name": "stderr",
          "output_type": "stream",
          "text": [
            "\n",
            "Procesando Actas con Donut:  24%|██▍       | 131/545 [58:05<3:05:41, 26.91s/it]\u001b[A"
          ]
        },
        {
          "name": "stdout",
          "output_type": "stream",
          "text": [
            "   ❔ Pregunta: 'VOTOS VÁLIDOS' -> Respuesta: '73'\n",
            "\n",
            "--- Interrogando al acta: mesa_3_100214.jpg ---\n",
            "   ❔ Pregunta: 'AP' -> Respuesta: 'AP 0 2'\n",
            "   ❔ Pregunta: 'APB SÚMATE' -> Respuesta: 'APB SÚMATE EMAS: 3'\n",
            "   ❔ Pregunta: 'CODIGO MESA' -> Respuesta: 'None'\n",
            "   ❔ Pregunta: 'ELECTORES HABILITADOS' -> Respuesta: '3'\n",
            "   ❔ Pregunta: 'FP' -> Respuesta: 'FP 0 0 4'\n",
            "   ❔ Pregunta: 'LIBRE' -> Respuesta: 'LIBRE 0 15'\n",
            "   ❔ Pregunta: 'LYP ADN' -> Respuesta: 'LYP ADN AP'\n",
            "   ❔ Pregunta: 'MAS-IPSP' -> Respuesta: 'MAS-IPSP 0 0 3'\n",
            "   ❔ Pregunta: 'MESA' -> Respuesta: '3'\n",
            "   ❔ Pregunta: 'MORENA' -> Respuesta: 'MORENA 205'\n",
            "   ❔ Pregunta: 'PAPELETAS EN ÁNFORA' -> Respuesta: '205'\n",
            "   ❔ Pregunta: 'PAPELETAS NO UTILIZADAS' -> Respuesta: '205'\n",
            "   ❔ Pregunta: 'PDC' -> Respuesta: 'PDC 002'\n",
            "   ❔ Pregunta: 'UNIDAD' -> Respuesta: 'UNIDAD 004'\n",
            "   ❔ Pregunta: 'VOTOS BLANCOS' -> Respuesta: '2'\n",
            "   ❔ Pregunta: 'VOTOS NULOS' -> Respuesta: '37'\n"
          ]
        },
        {
          "name": "stderr",
          "output_type": "stream",
          "text": [
            "\n",
            "Procesando Actas con Donut:  24%|██▍       | 132/545 [58:32<3:05:18, 26.92s/it]\u001b[A"
          ]
        },
        {
          "name": "stdout",
          "output_type": "stream",
          "text": [
            "   ❔ Pregunta: 'VOTOS VÁLIDOS' -> Respuesta: '7'\n",
            "\n",
            "--- Interrogando al acta: mesa_5_100744.jpg ---\n",
            "   ❔ Pregunta: 'AP' -> Respuesta: 'AP 0.16'\n",
            "   ❔ Pregunta: 'APB SÚMATE' -> Respuesta: 'APB SÚMATE MOSA: 5'\n",
            "   ❔ Pregunta: 'CODIGO MESA' -> Respuesta: '5'\n",
            "   ❔ Pregunta: 'ELECTORES HABILITADOS' -> Respuesta: '3'\n",
            "   ❔ Pregunta: 'FP' -> Respuesta: 'FP 0.2'\n",
            "   ❔ Pregunta: 'LIBRE' -> Respuesta: 'LIBRE 0.13'\n",
            "   ❔ Pregunta: 'LYP ADN' -> Respuesta: 'LYP ADN MESA: 5'\n",
            "   ❔ Pregunta: 'MAS-IPSP' -> Respuesta: 'MAS-IPSP 080'\n",
            "   ❔ Pregunta: 'MESA' -> Respuesta: '5'\n",
            "   ❔ Pregunta: 'MORENA' -> Respuesta: 'MORENA 0.95'\n",
            "   ❔ Pregunta: 'PAPELETAS EN ÁNFORA' -> Respuesta: '28'\n",
            "   ❔ Pregunta: 'PAPELETAS NO UTILIZADAS' -> Respuesta: '95'\n",
            "   ❔ Pregunta: 'PDC' -> Respuesta: 'PDC 020'\n",
            "   ❔ Pregunta: 'UNIDAD' -> Respuesta: 'UNIDAD 0.2'\n",
            "   ❔ Pregunta: 'VOTOS BLANCOS' -> Respuesta: '28'\n",
            "   ❔ Pregunta: 'VOTOS NULOS' -> Respuesta: '28'\n"
          ]
        },
        {
          "name": "stderr",
          "output_type": "stream",
          "text": [
            "\n",
            "Procesando Actas con Donut:  24%|██▍       | 133/545 [58:59<3:05:09, 26.96s/it]\u001b[A"
          ]
        },
        {
          "name": "stdout",
          "output_type": "stream",
          "text": [
            "   ❔ Pregunta: 'VOTOS VÁLIDOS' -> Respuesta: '28'\n",
            "\n",
            "--- Interrogando al acta: mesa_4_100734.jpg ---\n",
            "   ❔ Pregunta: 'AP' -> Respuesta: 'AP 0.13'\n",
            "   ❔ Pregunta: 'APB SÚMATE' -> Respuesta: 'APB SÚMATE 08.00'\n",
            "   ❔ Pregunta: 'CODIGO MESA' -> Respuesta: '4'\n",
            "   ❔ Pregunta: 'ELECTORES HABILITADOS' -> Respuesta: '3'\n",
            "   ❔ Pregunta: 'FP' -> Respuesta: 'FP 0.03'\n",
            "   ❔ Pregunta: 'LIBRE' -> Respuesta: 'LIBRE 0.13'\n",
            "   ❔ Pregunta: 'LYP ADN' -> Respuesta: 'LYP ADN 002'\n",
            "   ❔ Pregunta: 'MAS-IPSP' -> Respuesta: 'MAS-IPSP 0 8 00'\n",
            "   ❔ Pregunta: 'MESA' -> Respuesta: '4'\n",
            "   ❔ Pregunta: 'MORENA' -> Respuesta: 'MORENA 08.00'\n",
            "   ❔ Pregunta: 'PAPELETAS EN ÁNFORA' -> Respuesta: '109'\n",
            "   ❔ Pregunta: 'PAPELETAS NO UTILIZADAS' -> Respuesta: '211'\n",
            "   ❔ Pregunta: 'PDC' -> Respuesta: 'PDC 0.18'\n",
            "   ❔ Pregunta: 'UNIDAD' -> Respuesta: 'UNIDAD 00'\n",
            "   ❔ Pregunta: 'VOTOS BLANCOS' -> Respuesta: '32'\n",
            "   ❔ Pregunta: 'VOTOS NULOS' -> Respuesta: '37'\n"
          ]
        },
        {
          "name": "stderr",
          "output_type": "stream",
          "text": [
            "\n",
            "Procesando Actas con Donut:  25%|██▍       | 134/545 [59:26<3:04:33, 26.94s/it]\u001b[A"
          ]
        },
        {
          "name": "stdout",
          "output_type": "stream",
          "text": [
            "   ❔ Pregunta: 'VOTOS VÁLIDOS' -> Respuesta: '70'\n",
            "\n",
            "--- Interrogando al acta: mesa_6_100754.jpg ---\n",
            "   ❔ Pregunta: 'AP' -> Respuesta: 'AP 004'\n",
            "   ❔ Pregunta: 'APB SÚMATE' -> Respuesta: 'APB SÚMATE 011'\n",
            "   ❔ Pregunta: 'CODIGO MESA' -> Respuesta: '6'\n",
            "   ❔ Pregunta: 'ELECTORES HABILITADOS' -> Respuesta: '745'\n",
            "   ❔ Pregunta: 'FP' -> Respuesta: 'FP 002'\n",
            "   ❔ Pregunta: 'LIBRE' -> Respuesta: 'LIBRE 0 1 1 7 0'\n",
            "   ❔ Pregunta: 'LYP ADN' -> Respuesta: 'LYP ADN MESA: 6'\n",
            "   ❔ Pregunta: 'MAS-IPSP' -> Respuesta: 'MAS-IPSP 005'\n",
            "   ❔ Pregunta: 'MESA' -> Respuesta: '6'\n",
            "   ❔ Pregunta: 'MORENA' -> Respuesta: 'MORENA 0.88'\n",
            "   ❔ Pregunta: 'PAPELETAS EN ÁNFORA' -> Respuesta: '88'\n",
            "   ❔ Pregunta: 'PAPELETAS NO UTILIZADAS' -> Respuesta: '187'\n",
            "   ❔ Pregunta: 'PDC' -> Respuesta: 'PDC 014'\n",
            "   ❔ Pregunta: 'UNIDAD' -> Respuesta: 'UNIDAD 005'\n",
            "   ❔ Pregunta: 'VOTOS BLANCOS' -> Respuesta: '5'\n",
            "   ❔ Pregunta: 'VOTOS NULOS' -> Respuesta: '31'\n"
          ]
        },
        {
          "name": "stderr",
          "output_type": "stream",
          "text": [
            "\n",
            "Procesando Actas con Donut:  25%|██▍       | 135/545 [59:52<3:03:37, 26.87s/it]\u001b[A"
          ]
        },
        {
          "name": "stdout",
          "output_type": "stream",
          "text": [
            "   ❔ Pregunta: 'VOTOS VÁLIDOS' -> Respuesta: '31'\n",
            "\n",
            "--- Interrogando al acta: mesa_2_100714.jpg ---\n",
            "   ❔ Pregunta: 'AP' -> Respuesta: 'AP 075'\n",
            "   ❔ Pregunta: 'APB SÚMATE' -> Respuesta: 'APB SÚMATE 08.00'\n",
            "   ❔ Pregunta: 'CODIGO MESA' -> Respuesta: '800'\n",
            "   ❔ Pregunta: 'ELECTORES HABILITADOS' -> Respuesta: '3'\n",
            "   ❔ Pregunta: 'FP' -> Respuesta: 'FP 08.00'\n",
            "   ❔ Pregunta: 'LIBRE' -> Respuesta: 'LIBRE 08.00'\n",
            "   ❔ Pregunta: 'LYP ADN' -> Respuesta: 'LYP ADN AP'\n",
            "   ❔ Pregunta: 'MAS-IPSP' -> Respuesta: 'MAS-IPSP MORENA'\n",
            "   ❔ Pregunta: 'MESA' -> Respuesta: '800'\n",
            "   ❔ Pregunta: 'MORENA' -> Respuesta: 'MORENA 0.96'\n",
            "   ❔ Pregunta: 'PAPELETAS EN ÁNFORA' -> Respuesta: '96'\n",
            "   ❔ Pregunta: 'PAPELETAS NO UTILIZADAS' -> Respuesta: '96'\n",
            "   ❔ Pregunta: 'PDC' -> Respuesta: 'PDC 0.90'\n",
            "   ❔ Pregunta: 'UNIDAD' -> Respuesta: 'UNIDAD 00'\n",
            "   ❔ Pregunta: 'VOTOS BLANCOS' -> Respuesta: '92'\n",
            "   ❔ Pregunta: 'VOTOS NULOS' -> Respuesta: '39'\n"
          ]
        },
        {
          "name": "stderr",
          "output_type": "stream",
          "text": [
            "\n",
            "Procesando Actas con Donut:  25%|██▍       | 136/545 [1:00:19<3:02:46, 26.81s/it]\u001b[A"
          ]
        },
        {
          "name": "stdout",
          "output_type": "stream",
          "text": [
            "   ❔ Pregunta: 'VOTOS VÁLIDOS' -> Respuesta: '57'\n",
            "\n",
            "--- Interrogando al acta: mesa_3_100724.jpg ---\n",
            "   ❔ Pregunta: 'AP' -> Respuesta: 'AP 0.15'\n",
            "   ❔ Pregunta: 'APB SÚMATE' -> Respuesta: 'APB SÚMATE 0.15'\n",
            "   ❔ Pregunta: 'CODIGO MESA' -> Respuesta: '9'\n",
            "   ❔ Pregunta: 'ELECTORES HABILITADOS' -> Respuesta: '3'\n",
            "   ❔ Pregunta: 'FP' -> Respuesta: 'FP 000'\n",
            "   ❔ Pregunta: 'LIBRE' -> Respuesta: 'LIBRE 0 1 3'\n",
            "   ❔ Pregunta: 'LYP ADN' -> Respuesta: 'LYP ADN APB SUMATE'\n",
            "   ❔ Pregunta: 'MAS-IPSP' -> Respuesta: 'MAS-IPSP 003'\n",
            "   ❔ Pregunta: 'MESA' -> Respuesta: '3'\n",
            "   ❔ Pregunta: 'MORENA' -> Respuesta: 'MORENA 0.15'\n",
            "   ❔ Pregunta: 'PAPELETAS EN ÁNFORA' -> Respuesta: '95'\n",
            "   ❔ Pregunta: 'PAPELETAS NO UTILIZADAS' -> Respuesta: '218'\n",
            "   ❔ Pregunta: 'PDC' -> Respuesta: 'PDC 017'\n",
            "   ❔ Pregunta: 'UNIDAD' -> Respuesta: 'UNIDAD 00 7'\n",
            "   ❔ Pregunta: 'VOTOS BLANCOS' -> Respuesta: '6'\n",
            "   ❔ Pregunta: 'VOTOS NULOS' -> Respuesta: '36'\n"
          ]
        },
        {
          "name": "stderr",
          "output_type": "stream",
          "text": [
            "\n",
            "Procesando Actas con Donut:  25%|██▌       | 137/545 [1:00:46<3:02:43, 26.87s/it]\u001b[A"
          ]
        },
        {
          "name": "stdout",
          "output_type": "stream",
          "text": [
            "   ❔ Pregunta: 'VOTOS VÁLIDOS' -> Respuesta: '60'\n",
            "\n",
            "--- Interrogando al acta: mesa_1_100704.jpg ---\n",
            "   ❔ Pregunta: 'AP' -> Respuesta: 'AP OEP'\n",
            "   ❔ Pregunta: 'APB SÚMATE' -> Respuesta: 'APB SÚMATE 0.29'\n",
            "   ❔ Pregunta: 'CODIGO MESA' -> Respuesta: '1'\n",
            "   ❔ Pregunta: 'ELECTORES HABILITADOS' -> Respuesta: 'None'\n",
            "   ❔ Pregunta: 'FP' -> Respuesta: 'FP 003'\n",
            "   ❔ Pregunta: 'LIBRE' -> Respuesta: 'LIBRE 019'\n",
            "   ❔ Pregunta: 'LYP ADN' -> Respuesta: 'LYP ADN 090'\n",
            "   ❔ Pregunta: 'MAS-IPSP' -> Respuesta: 'MAS-IPSP 005'\n",
            "   ❔ Pregunta: 'MESA' -> Respuesta: '1'\n",
            "   ❔ Pregunta: 'MORENA' -> Respuesta: 'MORENA 019'\n",
            "   ❔ Pregunta: 'PAPELETAS EN ÁNFORA' -> Respuesta: '7'\n",
            "   ❔ Pregunta: 'PAPELETAS NO UTILIZADAS' -> Respuesta: '209'\n",
            "   ❔ Pregunta: 'PDC' -> Respuesta: 'PDC 017'\n",
            "   ❔ Pregunta: 'UNIDAD' -> Respuesta: 'UNIDAD 003'\n",
            "   ❔ Pregunta: 'VOTOS BLANCOS' -> Respuesta: 'None'\n",
            "   ❔ Pregunta: 'VOTOS NULOS' -> Respuesta: '27'\n"
          ]
        },
        {
          "name": "stderr",
          "output_type": "stream",
          "text": [
            "\n",
            "Procesando Actas con Donut:  25%|██▌       | 138/545 [1:01:12<3:01:35, 26.77s/it]\u001b[A"
          ]
        },
        {
          "name": "stdout",
          "output_type": "stream",
          "text": [
            "   ❔ Pregunta: 'VOTOS VÁLIDOS' -> Respuesta: '27'\n",
            "\n",
            "--- Interrogando al acta: mesa_3_101434.jpg ---\n",
            "   ❔ Pregunta: 'AP' -> Respuesta: 'AP 0.8'\n",
            "   ❔ Pregunta: 'APB SÚMATE' -> Respuesta: 'APB SÚMATE 0.8'\n",
            "   ❔ Pregunta: 'CODIGO MESA' -> Respuesta: '3'\n",
            "   ❔ Pregunta: 'ELECTORES HABILITADOS' -> Respuesta: '3'\n",
            "   ❔ Pregunta: 'FP' -> Respuesta: 'FP 0.8'\n",
            "   ❔ Pregunta: 'LIBRE' -> Respuesta: 'LIBRE OEP'\n",
            "   ❔ Pregunta: 'LYP ADN' -> Respuesta: 'LYP ADN 0103'\n",
            "   ❔ Pregunta: 'MAS-IPSP' -> Respuesta: 'MAS-IPSP 0.8'\n",
            "   ❔ Pregunta: 'MESA' -> Respuesta: '3'\n",
            "   ❔ Pregunta: 'MORENA' -> Respuesta: 'MORENA 088'\n",
            "   ❔ Pregunta: 'PAPELETAS EN ÁNFORA' -> Respuesta: '83'\n",
            "   ❔ Pregunta: 'PAPELETAS NO UTILIZADAS' -> Respuesta: '83'\n",
            "   ❔ Pregunta: 'PDC' -> Respuesta: 'PDC 00'\n",
            "   ❔ Pregunta: 'UNIDAD' -> Respuesta: 'UNIDAD 0.83'\n",
            "   ❔ Pregunta: 'VOTOS BLANCOS' -> Respuesta: '83'\n",
            "   ❔ Pregunta: 'VOTOS NULOS' -> Respuesta: '8'\n"
          ]
        },
        {
          "name": "stderr",
          "output_type": "stream",
          "text": [
            "\n",
            "Procesando Actas con Donut:  26%|██▌       | 139/545 [1:01:39<3:00:43, 26.71s/it]\u001b[A"
          ]
        },
        {
          "name": "stdout",
          "output_type": "stream",
          "text": [
            "   ❔ Pregunta: 'VOTOS VÁLIDOS' -> Respuesta: '88'\n",
            "\n",
            "--- Interrogando al acta: mesa_1_101414.jpg ---\n",
            "   ❔ Pregunta: 'AP' -> Respuesta: 'AP 016'\n",
            "   ❔ Pregunta: 'APB SÚMATE' -> Respuesta: 'APB SÚMATE 01'\n",
            "   ❔ Pregunta: 'CODIGO MESA' -> Respuesta: '1'\n",
            "   ❔ Pregunta: 'ELECTORES HABILITADOS' -> Respuesta: '3'\n",
            "   ❔ Pregunta: 'FP' -> Respuesta: 'FP 000'\n",
            "   ❔ Pregunta: 'LIBRE' -> Respuesta: 'LIBRE 012'\n",
            "   ❔ Pregunta: 'LYP ADN' -> Respuesta: 'LYP ADN 001'\n",
            "   ❔ Pregunta: 'MAS-IPSP' -> Respuesta: 'MAS-IPSP 002'\n",
            "   ❔ Pregunta: 'MESA' -> Respuesta: '1'\n",
            "   ❔ Pregunta: 'MORENA' -> Respuesta: 'MORENA 08 30'\n",
            "   ❔ Pregunta: 'PAPELETAS EN ÁNFORA' -> Respuesta: '46'\n",
            "   ❔ Pregunta: 'PAPELETAS NO UTILIZADAS' -> Respuesta: '830'\n",
            "   ❔ Pregunta: 'PDC' -> Respuesta: 'PDC 027'\n",
            "   ❔ Pregunta: 'UNIDAD' -> Respuesta: 'UNIDAD 007'\n",
            "   ❔ Pregunta: 'VOTOS BLANCOS' -> Respuesta: '2'\n",
            "   ❔ Pregunta: 'VOTOS NULOS' -> Respuesta: '46'\n"
          ]
        },
        {
          "name": "stderr",
          "output_type": "stream",
          "text": [
            "\n",
            "Procesando Actas con Donut:  26%|██▌       | 140/545 [1:02:06<3:00:23, 26.72s/it]\u001b[A"
          ]
        },
        {
          "name": "stdout",
          "output_type": "stream",
          "text": [
            "   ❔ Pregunta: 'VOTOS VÁLIDOS' -> Respuesta: '76'\n",
            "\n",
            "--- Interrogando al acta: mesa_4_101444.jpg ---\n",
            "   ❔ Pregunta: 'AP' -> Respuesta: 'AP 076'\n",
            "   ❔ Pregunta: 'APB SÚMATE' -> Respuesta: 'APB SÚMATE 09 00'\n",
            "   ❔ Pregunta: 'CODIGO MESA' -> Respuesta: '4'\n",
            "   ❔ Pregunta: 'ELECTORES HABILITADOS' -> Respuesta: '3'\n",
            "   ❔ Pregunta: 'FP' -> Respuesta: 'FP 003'\n",
            "   ❔ Pregunta: 'LIBRE' -> Respuesta: 'LIBRE 0.79'\n",
            "   ❔ Pregunta: 'LYP ADN' -> Respuesta: 'LYP ADN 003'\n",
            "   ❔ Pregunta: 'MAS-IPSP' -> Respuesta: 'MAS-IPSP 003'\n",
            "   ❔ Pregunta: 'MESA' -> Respuesta: '4'\n",
            "   ❔ Pregunta: 'MORENA' -> Respuesta: 'MORENA 777'\n",
            "   ❔ Pregunta: 'PAPELETAS EN ÁNFORA' -> Respuesta: '95'\n",
            "   ❔ Pregunta: 'PAPELETAS NO UTILIZADAS' -> Respuesta: '777'\n",
            "   ❔ Pregunta: 'PDC' -> Respuesta: 'PDC 020'\n",
            "   ❔ Pregunta: 'UNIDAD' -> Respuesta: 'UNIDAD 0.9'\n",
            "   ❔ Pregunta: 'VOTOS BLANCOS' -> Respuesta: '2'\n",
            "   ❔ Pregunta: 'VOTOS NULOS' -> Respuesta: '33'\n"
          ]
        },
        {
          "name": "stderr",
          "output_type": "stream",
          "text": [
            "\n",
            "Procesando Actas con Donut:  26%|██▌       | 141/545 [1:02:33<2:59:58, 26.73s/it]\u001b[A"
          ]
        },
        {
          "name": "stdout",
          "output_type": "stream",
          "text": [
            "   ❔ Pregunta: 'VOTOS VÁLIDOS' -> Respuesta: '82'\n",
            "\n",
            "--- Interrogando al acta: mesa_6_101464.jpg ---\n",
            "   ❔ Pregunta: 'AP' -> Respuesta: 'AP 016'\n",
            "   ❔ Pregunta: 'APB SÚMATE' -> Respuesta: 'APB SÚMATE 006'\n",
            "   ❔ Pregunta: 'CODIGO MESA' -> Respuesta: '6'\n",
            "   ❔ Pregunta: 'ELECTORES HABILITADOS' -> Respuesta: '3'\n",
            "   ❔ Pregunta: 'FP' -> Respuesta: 'FP A3'\n",
            "   ❔ Pregunta: 'LIBRE' -> Respuesta: 'LIBRE 0.25'\n",
            "   ❔ Pregunta: 'LYP ADN' -> Respuesta: 'LYP ADN 0.26'\n",
            "   ❔ Pregunta: 'MAS-IPSP' -> Respuesta: 'MAS-IPSP 0.9'\n",
            "   ❔ Pregunta: 'MESA' -> Respuesta: '6'\n",
            "   ❔ Pregunta: 'MORENA' -> Respuesta: 'MORENA 0.25'\n",
            "   ❔ Pregunta: 'PAPELETAS EN ÁNFORA' -> Respuesta: '27'\n",
            "   ❔ Pregunta: 'PAPELETAS NO UTILIZADAS' -> Respuesta: '9'\n",
            "   ❔ Pregunta: 'PDC' -> Respuesta: 'PDC 0.27'\n",
            "   ❔ Pregunta: 'UNIDAD' -> Respuesta: 'UNIDAD 0.25'\n",
            "   ❔ Pregunta: 'VOTOS BLANCOS' -> Respuesta: '2'\n",
            "   ❔ Pregunta: 'VOTOS NULOS' -> Respuesta: '97'\n"
          ]
        },
        {
          "name": "stderr",
          "output_type": "stream",
          "text": [
            "\n",
            "Procesando Actas con Donut:  26%|██▌       | 142/545 [1:03:00<3:00:07, 26.82s/it]\u001b[A"
          ]
        },
        {
          "name": "stdout",
          "output_type": "stream",
          "text": [
            "   ❔ Pregunta: 'VOTOS VÁLIDOS' -> Respuesta: '90'\n",
            "\n",
            "--- Interrogando al acta: mesa_5_101454.jpg ---\n",
            "   ❔ Pregunta: 'AP' -> Respuesta: 'AP 0.26'\n",
            "   ❔ Pregunta: 'APB SÚMATE' -> Respuesta: 'APB SÚMATE 077'\n",
            "   ❔ Pregunta: 'CODIGO MESA' -> Respuesta: '5'\n",
            "   ❔ Pregunta: 'ELECTORES HABILITADOS' -> Respuesta: '3'\n",
            "   ❔ Pregunta: 'FP' -> Respuesta: 'FP 0.26'\n",
            "   ❔ Pregunta: 'LIBRE' -> Respuesta: 'LIBRE 0.75'\n",
            "   ❔ Pregunta: 'LYP ADN' -> Respuesta: 'LYP ADN 0.22'\n",
            "   ❔ Pregunta: 'MAS-IPSP' -> Respuesta: 'MAS-IPSP 002'\n",
            "   ❔ Pregunta: 'MESA' -> Respuesta: '5'\n",
            "   ❔ Pregunta: 'MORENA' -> Respuesta: 'MORENA 737'\n",
            "   ❔ Pregunta: 'PAPELETAS EN ÁNFORA' -> Respuesta: '27'\n",
            "   ❔ Pregunta: 'PAPELETAS NO UTILIZADAS' -> Respuesta: '25'\n",
            "   ❔ Pregunta: 'PDC' -> Respuesta: 'PDC 0.26'\n",
            "   ❔ Pregunta: 'UNIDAD' -> Respuesta: 'UNIDAD 008'\n",
            "   ❔ Pregunta: 'VOTOS BLANCOS' -> Respuesta: '7'\n",
            "   ❔ Pregunta: 'VOTOS NULOS' -> Respuesta: '26'\n"
          ]
        },
        {
          "name": "stderr",
          "output_type": "stream",
          "text": [
            "\n",
            "Procesando Actas con Donut:  26%|██▌       | 143/545 [1:03:27<2:59:58, 26.86s/it]\u001b[A"
          ]
        },
        {
          "name": "stdout",
          "output_type": "stream",
          "text": [
            "   ❔ Pregunta: 'VOTOS VÁLIDOS' -> Respuesta: '96'\n",
            "\n",
            "--- Interrogando al acta: mesa_7_101474.jpg ---\n",
            "   ❔ Pregunta: 'AP' -> Respuesta: 'AP 0 2 6'\n",
            "   ❔ Pregunta: 'APB SÚMATE' -> Respuesta: 'APB SÚMATE 007'\n",
            "   ❔ Pregunta: 'CODIGO MESA' -> Respuesta: '7'\n",
            "   ❔ Pregunta: 'ELECTORES HABILITADOS' -> Respuesta: '3'\n",
            "   ❔ Pregunta: 'FP' -> Respuesta: 'FP 000'\n",
            "   ❔ Pregunta: 'LIBRE' -> Respuesta: 'LIBRE 0.76'\n",
            "   ❔ Pregunta: 'LYP ADN' -> Respuesta: 'LYP ADN APS COMMITTEE'\n",
            "   ❔ Pregunta: 'MAS-IPSP' -> Respuesta: 'MAS-IPSP 001'\n",
            "   ❔ Pregunta: 'MESA' -> Respuesta: '7'\n",
            "   ❔ Pregunta: 'MORENA' -> Respuesta: 'MORENA 794'\n",
            "   ❔ Pregunta: 'PAPELETAS EN ÁNFORA' -> Respuesta: '796'\n",
            "   ❔ Pregunta: 'PAPELETAS NO UTILIZADAS' -> Respuesta: '794'\n",
            "   ❔ Pregunta: 'PDC' -> Respuesta: 'PDC 015'\n",
            "   ❔ Pregunta: 'UNIDAD' -> Respuesta: 'UNIDAD 00 6'\n",
            "   ❔ Pregunta: 'VOTOS BLANCOS' -> Respuesta: '1'\n",
            "   ❔ Pregunta: 'VOTOS NULOS' -> Respuesta: '53'\n"
          ]
        },
        {
          "name": "stderr",
          "output_type": "stream",
          "text": [
            "\n",
            "Procesando Actas con Donut:  26%|██▋       | 144/545 [1:03:53<2:58:44, 26.74s/it]\u001b[A"
          ]
        },
        {
          "name": "stdout",
          "output_type": "stream",
          "text": [
            "   ❔ Pregunta: 'VOTOS VÁLIDOS' -> Respuesta: '72'\n",
            "\n",
            "--- Interrogando al acta: mesa_8_101484.jpg ---\n",
            "   ❔ Pregunta: 'AP' -> Respuesta: 'AP 020'\n",
            "   ❔ Pregunta: 'APB SÚMATE' -> Respuesta: 'APB SÚMATE MOSA: 8'\n",
            "   ❔ Pregunta: 'CODIGO MESA' -> Respuesta: '8'\n",
            "   ❔ Pregunta: 'ELECTORES HABILITADOS' -> Respuesta: '3'\n",
            "   ❔ Pregunta: 'FP' -> Respuesta: 'FP 005'\n",
            "   ❔ Pregunta: 'LIBRE' -> Respuesta: 'LIBRE 026'\n",
            "   ❔ Pregunta: 'LYP ADN' -> Respuesta: 'LYP ADN 001'\n",
            "   ❔ Pregunta: 'MAS-IPSP' -> Respuesta: 'MAS-IPSP 005'\n",
            "   ❔ Pregunta: 'MESA' -> Respuesta: '8'\n",
            "   ❔ Pregunta: 'MORENA' -> Respuesta: 'MORENA 788'\n",
            "   ❔ Pregunta: 'PAPELETAS EN ÁNFORA' -> Respuesta: '788'\n",
            "   ❔ Pregunta: 'PAPELETAS NO UTILIZADAS' -> Respuesta: '788'\n",
            "   ❔ Pregunta: 'PDC' -> Respuesta: 'PDC 0.23'\n",
            "   ❔ Pregunta: 'UNIDAD' -> Respuesta: 'UNIDAD 006'\n",
            "   ❔ Pregunta: 'VOTOS BLANCOS' -> Respuesta: '1'\n",
            "   ❔ Pregunta: 'VOTOS NULOS' -> Respuesta: '38'\n"
          ]
        },
        {
          "name": "stderr",
          "output_type": "stream",
          "text": [
            "\n",
            "Procesando Actas con Donut:  27%|██▋       | 145/545 [1:04:20<2:58:30, 26.78s/it]\u001b[A"
          ]
        },
        {
          "name": "stdout",
          "output_type": "stream",
          "text": [
            "   ❔ Pregunta: 'VOTOS VÁLIDOS' -> Respuesta: '93'\n",
            "\n",
            "--- Interrogando al acta: mesa_2_101424.jpg ---\n",
            "   ❔ Pregunta: 'AP' -> Respuesta: 'AP 0.20'\n",
            "   ❔ Pregunta: 'APB SÚMATE' -> Respuesta: 'APB SÚMATE 08.59'\n",
            "   ❔ Pregunta: 'CODIGO MESA' -> Respuesta: '24'\n",
            "   ❔ Pregunta: 'ELECTORES HABILITADOS' -> Respuesta: '3'\n",
            "   ❔ Pregunta: 'FP' -> Respuesta: 'FP 08.59'\n",
            "   ❔ Pregunta: 'LIBRE' -> Respuesta: 'LIBRE 014'\n",
            "   ❔ Pregunta: 'LYP ADN' -> Respuesta: 'LYP ADN 0.20'\n",
            "   ❔ Pregunta: 'MAS-IPSP' -> Respuesta: 'MAS-IPSP 002'\n",
            "   ❔ Pregunta: 'MESA' -> Respuesta: '2'\n",
            "   ❔ Pregunta: 'MORENA' -> Respuesta: 'MORENA 0.24'\n",
            "   ❔ Pregunta: 'PAPELETAS EN ÁNFORA' -> Respuesta: '24'\n",
            "   ❔ Pregunta: 'PAPELETAS NO UTILIZADAS' -> Respuesta: '29'\n",
            "   ❔ Pregunta: 'PDC' -> Respuesta: 'PDC 039'\n",
            "   ❔ Pregunta: 'UNIDAD' -> Respuesta: 'UNIDAD 009'\n",
            "   ❔ Pregunta: 'VOTOS BLANCOS' -> Respuesta: '9'\n",
            "   ❔ Pregunta: 'VOTOS NULOS' -> Respuesta: '9'\n"
          ]
        },
        {
          "name": "stderr",
          "output_type": "stream",
          "text": [
            "\n",
            "Procesando Actas con Donut:  27%|██▋       | 146/545 [1:04:47<2:58:28, 26.84s/it]\u001b[A"
          ]
        },
        {
          "name": "stdout",
          "output_type": "stream",
          "text": [
            "   ❔ Pregunta: 'VOTOS VÁLIDOS' -> Respuesta: '96'\n",
            "\n",
            "--- Interrogando al acta: mesa_9_101494.jpg ---\n",
            "   ❔ Pregunta: 'AP' -> Respuesta: 'AP 0 8'\n",
            "   ❔ Pregunta: 'APB SÚMATE' -> Respuesta: 'APB SÚMATE 0835'\n",
            "   ❔ Pregunta: 'CODIGO MESA' -> Respuesta: '9'\n",
            "   ❔ Pregunta: 'ELECTORES HABILITADOS' -> Respuesta: '3'\n",
            "   ❔ Pregunta: 'FP' -> Respuesta: 'FP 002'\n",
            "   ❔ Pregunta: 'LIBRE' -> Respuesta: 'LIBRE 005'\n",
            "   ❔ Pregunta: 'LYP ADN' -> Respuesta: 'LYP ADN AP'\n",
            "   ❔ Pregunta: 'MAS-IPSP' -> Respuesta: 'MAS-IPSP 000'\n",
            "   ❔ Pregunta: 'MESA' -> Respuesta: '9'\n",
            "   ❔ Pregunta: 'MORENA' -> Respuesta: 'MORENA 0 4'\n",
            "   ❔ Pregunta: 'PAPELETAS EN ÁNFORA' -> Respuesta: '4'\n",
            "   ❔ Pregunta: 'PAPELETAS NO UTILIZADAS' -> Respuesta: '8'\n",
            "   ❔ Pregunta: 'PDC' -> Respuesta: 'PDC 004'\n",
            "   ❔ Pregunta: 'UNIDAD' -> Respuesta: 'UNIDAD 002'\n",
            "   ❔ Pregunta: 'VOTOS BLANCOS' -> Respuesta: '1'\n",
            "   ❔ Pregunta: 'VOTOS NULOS' -> Respuesta: '13'\n"
          ]
        },
        {
          "name": "stderr",
          "output_type": "stream",
          "text": [
            "\n",
            "Procesando Actas con Donut:  27%|██▋       | 147/545 [1:05:13<2:57:37, 26.78s/it]\u001b[A"
          ]
        },
        {
          "name": "stdout",
          "output_type": "stream",
          "text": [
            "   ❔ Pregunta: 'VOTOS VÁLIDOS' -> Respuesta: '27'\n",
            "\n",
            "--- Interrogando al acta: mesa_1_103604.jpg ---\n",
            "   ❔ Pregunta: 'AP' -> Respuesta: 'AP 016'\n",
            "   ❔ Pregunta: 'APB SÚMATE' -> Respuesta: 'APB SÚMATE MOS-IPSP'\n",
            "   ❔ Pregunta: 'CODIGO MESA' -> Respuesta: '830'\n",
            "   ❔ Pregunta: 'ELECTORES HABILITADOS' -> Respuesta: '3'\n",
            "   ❔ Pregunta: 'FP' -> Respuesta: 'FP 0 0 2'\n",
            "   ❔ Pregunta: 'LIBRE' -> Respuesta: 'LIBRE 0.25'\n",
            "   ❔ Pregunta: 'LYP ADN' -> Respuesta: 'LYP ADN AP'\n",
            "   ❔ Pregunta: 'MAS-IPSP' -> Respuesta: 'MAS-IPSP 00 2'\n",
            "   ❔ Pregunta: 'MESA' -> Respuesta: '830'\n",
            "   ❔ Pregunta: 'MORENA' -> Respuesta: 'MORENA 0.3'\n",
            "   ❔ Pregunta: 'PAPELETAS EN ÁNFORA' -> Respuesta: '84'\n",
            "   ❔ Pregunta: 'PAPELETAS NO UTILIZADAS' -> Respuesta: '236'\n",
            "   ❔ Pregunta: 'PDC' -> Respuesta: 'PDC 0 1'\n",
            "   ❔ Pregunta: 'UNIDAD' -> Respuesta: 'UNIDAD 0 06'\n",
            "   ❔ Pregunta: 'VOTOS BLANCOS' -> Respuesta: '38'\n",
            "   ❔ Pregunta: 'VOTOS NULOS' -> Respuesta: '38'\n"
          ]
        },
        {
          "name": "stderr",
          "output_type": "stream",
          "text": [
            "\n",
            "Procesando Actas con Donut:  27%|██▋       | 148/545 [1:05:40<2:57:17, 26.79s/it]\u001b[A"
          ]
        },
        {
          "name": "stdout",
          "output_type": "stream",
          "text": [
            "   ❔ Pregunta: 'VOTOS VÁLIDOS' -> Respuesta: '39'\n",
            "\n",
            "--- Interrogando al acta: mesa_3_103624.jpg ---\n",
            "   ❔ Pregunta: 'AP' -> Respuesta: 'AP 012'\n",
            "   ❔ Pregunta: 'APB SÚMATE' -> Respuesta: 'APB SÚMATE 002'\n",
            "   ❔ Pregunta: 'CODIGO MESA' -> Respuesta: 'None'\n",
            "   ❔ Pregunta: 'ELECTORES HABILITADOS' -> Respuesta: '3'\n",
            "   ❔ Pregunta: 'FP' -> Respuesta: 'FP 003'\n",
            "   ❔ Pregunta: 'LIBRE' -> Respuesta: 'LIBRE 005'\n",
            "   ❔ Pregunta: 'LYP ADN' -> Respuesta: 'LYP ADN APB SUMATE'\n",
            "   ❔ Pregunta: 'MAS-IPSP' -> Respuesta: 'MAS-IPSP 00 2'\n",
            "   ❔ Pregunta: 'MESA' -> Respuesta: '915'\n",
            "   ❔ Pregunta: 'MORENA' -> Respuesta: 'MORENA 0.86'\n",
            "   ❔ Pregunta: 'PAPELETAS EN ÁNFORA' -> Respuesta: '86'\n",
            "   ❔ Pregunta: 'PAPELETAS NO UTILIZADAS' -> Respuesta: '234'\n",
            "   ❔ Pregunta: 'PDC' -> Respuesta: 'PDC 071'\n",
            "   ❔ Pregunta: 'UNIDAD' -> Respuesta: 'UNIDAD 005'\n",
            "   ❔ Pregunta: 'VOTOS BLANCOS' -> Respuesta: '6'\n",
            "   ❔ Pregunta: 'VOTOS NULOS' -> Respuesta: '38'\n"
          ]
        },
        {
          "name": "stderr",
          "output_type": "stream",
          "text": [
            "\n",
            "Procesando Actas con Donut:  27%|██▋       | 149/545 [1:06:07<2:57:27, 26.89s/it]\u001b[A"
          ]
        },
        {
          "name": "stdout",
          "output_type": "stream",
          "text": [
            "   ❔ Pregunta: 'VOTOS VÁLIDOS' -> Respuesta: '42'\n",
            "\n",
            "--- Interrogando al acta: mesa_4_103634.jpg ---\n",
            "   ❔ Pregunta: 'AP' -> Respuesta: 'AP 0 1'\n",
            "   ❔ Pregunta: 'APB SÚMATE' -> Respuesta: 'APB SÚMATE 002'\n",
            "   ❔ Pregunta: 'CODIGO MESA' -> Respuesta: '4'\n",
            "   ❔ Pregunta: 'ELECTORES HABILITADOS' -> Respuesta: '3'\n",
            "   ❔ Pregunta: 'FP' -> Respuesta: 'FP 0 0 9'\n",
            "   ❔ Pregunta: 'LIBRE' -> Respuesta: 'LIBRE 005'\n",
            "   ❔ Pregunta: 'LYP ADN' -> Respuesta: 'LYP ADN APB SUMATE'\n",
            "   ❔ Pregunta: 'MAS-IPSP' -> Respuesta: 'MAS-IPSP 0 0 6'\n",
            "   ❔ Pregunta: 'MESA' -> Respuesta: '4'\n",
            "   ❔ Pregunta: 'MORENA' -> Respuesta: 'MORENA 0 8 6'\n",
            "   ❔ Pregunta: 'PAPELETAS EN ÁNFORA' -> Respuesta: '86'\n",
            "   ❔ Pregunta: 'PAPELETAS NO UTILIZADAS' -> Respuesta: '234'\n",
            "   ❔ Pregunta: 'PDC' -> Respuesta: 'PDC 009'\n",
            "   ❔ Pregunta: 'UNIDAD' -> Respuesta: 'UNIDAD 00 2'\n",
            "   ❔ Pregunta: 'VOTOS BLANCOS' -> Respuesta: '3'\n",
            "   ❔ Pregunta: 'VOTOS NULOS' -> Respuesta: '45'\n"
          ]
        },
        {
          "name": "stderr",
          "output_type": "stream",
          "text": [
            "\n",
            "Procesando Actas con Donut:  28%|██▊       | 150/545 [1:06:34<2:57:14, 26.92s/it]\u001b[A"
          ]
        },
        {
          "name": "stdout",
          "output_type": "stream",
          "text": [
            "   ❔ Pregunta: 'VOTOS VÁLIDOS' -> Respuesta: '38'\n",
            "\n",
            "--- Interrogando al acta: mesa_5_103644.jpg ---\n",
            "   ❔ Pregunta: 'AP' -> Respuesta: 'AP 0 12'\n",
            "   ❔ Pregunta: 'APB SÚMATE' -> Respuesta: 'APB SÚMATE MOSA: 5'\n",
            "   ❔ Pregunta: 'CODIGO MESA' -> Respuesta: '5'\n",
            "   ❔ Pregunta: 'ELECTORES HABILITADOS' -> Respuesta: '3'\n",
            "   ❔ Pregunta: 'FP' -> Respuesta: 'FP 005'\n",
            "   ❔ Pregunta: 'LIBRE' -> Respuesta: 'LIBRE 0 1 2'\n",
            "   ❔ Pregunta: 'LYP ADN' -> Respuesta: 'LYP ADN APB SUMATE'\n",
            "   ❔ Pregunta: 'MAS-IPSP' -> Respuesta: 'MAS-IPSP 0 0 5'\n",
            "   ❔ Pregunta: 'MESA' -> Respuesta: '5'\n",
            "   ❔ Pregunta: 'MORENA' -> Respuesta: 'MORENA 55'\n",
            "   ❔ Pregunta: 'PAPELETAS EN ÁNFORA' -> Respuesta: '98'\n",
            "   ❔ Pregunta: 'PAPELETAS NO UTILIZADAS' -> Respuesta: '222'\n",
            "   ❔ Pregunta: 'PDC' -> Respuesta: 'PDC 0 2'\n",
            "   ❔ Pregunta: 'UNIDAD' -> Respuesta: 'UNIDAD 004'\n",
            "   ❔ Pregunta: 'VOTOS BLANCOS' -> Respuesta: '5'\n",
            "   ❔ Pregunta: 'VOTOS NULOS' -> Respuesta: '41'\n"
          ]
        },
        {
          "name": "stderr",
          "output_type": "stream",
          "text": [
            "\n",
            "Procesando Actas con Donut:  28%|██▊       | 151/545 [1:07:01<2:56:27, 26.87s/it]\u001b[A"
          ]
        },
        {
          "name": "stdout",
          "output_type": "stream",
          "text": [
            "   ❔ Pregunta: 'VOTOS VÁLIDOS' -> Respuesta: '52'\n",
            "\n",
            "--- Interrogando al acta: mesa_6_103654.jpg ---\n",
            "   ❔ Pregunta: 'AP' -> Respuesta: 'AP 0 1'\n",
            "   ❔ Pregunta: 'APB SÚMATE' -> Respuesta: 'APB SÚMATE 004'\n",
            "   ❔ Pregunta: 'CODIGO MESA' -> Respuesta: '9'\n",
            "   ❔ Pregunta: 'ELECTORES HABILITADOS' -> Respuesta: '3'\n",
            "   ❔ Pregunta: 'FP' -> Respuesta: 'FP 0.0'\n",
            "   ❔ Pregunta: 'LIBRE' -> Respuesta: 'LIBRE 0.25'\n",
            "   ❔ Pregunta: 'LYP ADN' -> Respuesta: 'LYP ADN 002'\n",
            "   ❔ Pregunta: 'MAS-IPSP' -> Respuesta: 'MAS-IPSP 00 1'\n",
            "   ❔ Pregunta: 'MESA' -> Respuesta: '6'\n",
            "   ❔ Pregunta: 'MORENA' -> Respuesta: 'MORENA 0.8'\n",
            "   ❔ Pregunta: 'PAPELETAS EN ÁNFORA' -> Respuesta: '86'\n",
            "   ❔ Pregunta: 'PAPELETAS NO UTILIZADAS' -> Respuesta: '234'\n",
            "   ❔ Pregunta: 'PDC' -> Respuesta: 'PDC 0 1'\n",
            "   ❔ Pregunta: 'UNIDAD' -> Respuesta: 'UNIDAD 0 1'\n",
            "   ❔ Pregunta: 'VOTOS BLANCOS' -> Respuesta: '8'\n",
            "   ❔ Pregunta: 'VOTOS NULOS' -> Respuesta: '32'\n"
          ]
        },
        {
          "name": "stderr",
          "output_type": "stream",
          "text": [
            "\n",
            "Procesando Actas con Donut:  28%|██▊       | 152/545 [1:07:28<2:55:52, 26.85s/it]\u001b[A"
          ]
        },
        {
          "name": "stdout",
          "output_type": "stream",
          "text": [
            "   ❔ Pregunta: 'VOTOS VÁLIDOS' -> Respuesta: '46'\n",
            "\n",
            "--- Interrogando al acta: mesa_7_103664.jpg ---\n",
            "   ❔ Pregunta: 'AP' -> Respuesta: 'AP 0 1'\n",
            "   ❔ Pregunta: 'APB SÚMATE' -> Respuesta: 'APB SÚMATE 0.2'\n",
            "   ❔ Pregunta: 'CODIGO MESA' -> Respuesta: 'None'\n",
            "   ❔ Pregunta: 'ELECTORES HABILITADOS' -> Respuesta: '3'\n",
            "   ❔ Pregunta: 'FP' -> Respuesta: 'FP 001'\n",
            "   ❔ Pregunta: 'LIBRE' -> Respuesta: 'LIBRE 00 2'\n",
            "   ❔ Pregunta: 'LYP ADN' -> Respuesta: 'LYP ADN AP'\n",
            "   ❔ Pregunta: 'MAS-IPSP' -> Respuesta: 'MAS-IPSP 003'\n",
            "   ❔ Pregunta: 'MESA' -> Respuesta: '7'\n",
            "   ❔ Pregunta: 'MORENA' -> Respuesta: 'MORENA 0 1'\n",
            "   ❔ Pregunta: 'PAPELETAS EN ÁNFORA' -> Respuesta: '52'\n",
            "   ❔ Pregunta: 'PAPELETAS NO UTILIZADAS' -> Respuesta: '52'\n",
            "   ❔ Pregunta: 'PDC' -> Respuesta: 'PDC 008'\n",
            "   ❔ Pregunta: 'UNIDAD' -> Respuesta: 'UNIDAD 001'\n",
            "   ❔ Pregunta: 'VOTOS BLANCOS' -> Respuesta: '3'\n",
            "   ❔ Pregunta: 'VOTOS NULOS' -> Respuesta: '27'\n"
          ]
        },
        {
          "name": "stderr",
          "output_type": "stream",
          "text": [
            "\n",
            "Procesando Actas con Donut:  28%|██▊       | 153/545 [1:07:55<2:55:04, 26.80s/it]\u001b[A"
          ]
        },
        {
          "name": "stdout",
          "output_type": "stream",
          "text": [
            "   ❔ Pregunta: 'VOTOS VÁLIDOS' -> Respuesta: '28'\n",
            "\n",
            "--- Interrogando al acta: mesa_2_103614.jpg ---\n",
            "   ❔ Pregunta: 'AP' -> Respuesta: 'AP 010'\n",
            "   ❔ Pregunta: 'APB SÚMATE' -> Respuesta: 'APB SÚMATE 0 1'\n",
            "   ❔ Pregunta: 'CODIGO MESA' -> Respuesta: 'None'\n",
            "   ❔ Pregunta: 'ELECTORES HABILITADOS' -> Respuesta: '3'\n",
            "   ❔ Pregunta: 'FP' -> Respuesta: 'FP 0 0'\n",
            "   ❔ Pregunta: 'LIBRE' -> Respuesta: 'LIBRE 0.08'\n",
            "   ❔ Pregunta: 'LYP ADN' -> Respuesta: 'LYP ADN AP'\n",
            "   ❔ Pregunta: 'MAS-IPSP' -> Respuesta: 'MAS-IPSP 0 0'\n",
            "   ❔ Pregunta: 'MESA' -> Respuesta: '9'\n",
            "   ❔ Pregunta: 'MORENA' -> Respuesta: 'MORENA 0 1'\n",
            "   ❔ Pregunta: 'PAPELETAS EN ÁNFORA' -> Respuesta: '85'\n",
            "   ❔ Pregunta: 'PAPELETAS NO UTILIZADAS' -> Respuesta: '235'\n",
            "   ❔ Pregunta: 'PDC' -> Respuesta: 'PDC 0 1 0'\n",
            "   ❔ Pregunta: 'UNIDAD' -> Respuesta: 'UNIDAD 007'\n",
            "   ❔ Pregunta: 'VOTOS BLANCOS' -> Respuesta: '9'\n",
            "   ❔ Pregunta: 'VOTOS NULOS' -> Respuesta: '35'\n"
          ]
        },
        {
          "name": "stderr",
          "output_type": "stream",
          "text": [
            "\n",
            "Procesando Actas con Donut:  28%|██▊       | 154/545 [1:08:22<2:55:01, 26.86s/it]\u001b[A"
          ]
        },
        {
          "name": "stdout",
          "output_type": "stream",
          "text": [
            "   ❔ Pregunta: 'VOTOS VÁLIDOS' -> Respuesta: '47'\n",
            "\n",
            "--- Interrogando al acta: mesa_6_103324.jpg ---\n",
            "   ❔ Pregunta: 'AP' -> Respuesta: 'AP 012'\n",
            "   ❔ Pregunta: 'APB SÚMATE' -> Respuesta: 'APB SÚMATE 0915'\n",
            "   ❔ Pregunta: 'CODIGO MESA' -> Respuesta: '6'\n",
            "   ❔ Pregunta: 'ELECTORES HABILITADOS' -> Respuesta: '3'\n",
            "   ❔ Pregunta: 'FP' -> Respuesta: 'FP 0332-4'\n",
            "   ❔ Pregunta: 'LIBRE' -> Respuesta: 'LIBRE 0'\n",
            "   ❔ Pregunta: 'LYP ADN' -> Respuesta: 'LYP ADN 00'\n",
            "   ❔ Pregunta: 'MAS-IPSP' -> Respuesta: 'MAS-IPSP 001'\n",
            "   ❔ Pregunta: 'MESA' -> Respuesta: '6'\n",
            "   ❔ Pregunta: 'MORENA' -> Respuesta: 'MORENA 0915'\n",
            "   ❔ Pregunta: 'PAPELETAS EN ÁNFORA' -> Respuesta: '19'\n",
            "   ❔ Pregunta: 'PAPELETAS NO UTILIZADAS' -> Respuesta: '10'\n",
            "   ❔ Pregunta: 'PDC' -> Respuesta: 'PDC 019'\n",
            "   ❔ Pregunta: 'UNIDAD' -> Respuesta: 'UNIDAD 002'\n",
            "   ❔ Pregunta: 'VOTOS BLANCOS' -> Respuesta: '5'\n",
            "   ❔ Pregunta: 'VOTOS NULOS' -> Respuesta: '48'\n"
          ]
        },
        {
          "name": "stderr",
          "output_type": "stream",
          "text": [
            "\n",
            "Procesando Actas con Donut:  28%|██▊       | 155/545 [1:08:48<2:54:05, 26.78s/it]\u001b[A"
          ]
        },
        {
          "name": "stdout",
          "output_type": "stream",
          "text": [
            "   ❔ Pregunta: 'VOTOS VÁLIDOS' -> Respuesta: '51'\n",
            "\n",
            "--- Interrogando al acta: mesa_13_103194.jpg ---\n",
            "   ❔ Pregunta: 'AP' -> Respuesta: 'AP 08.00'\n",
            "   ❔ Pregunta: 'APB SÚMATE' -> Respuesta: 'APB SÚMATE 003'\n",
            "   ❔ Pregunta: 'CODIGO MESA' -> Respuesta: '13'\n",
            "   ❔ Pregunta: 'ELECTORES HABILITADOS' -> Respuesta: '10'\n",
            "   ❔ Pregunta: 'FP' -> Respuesta: 'FP 003'\n",
            "   ❔ Pregunta: 'LIBRE' -> Respuesta: 'LIBRE 08.00'\n",
            "   ❔ Pregunta: 'LYP ADN' -> Respuesta: 'LYP ADN 003'\n",
            "   ❔ Pregunta: 'MAS-IPSP' -> Respuesta: 'MAS-IPSP 08.00'\n",
            "   ❔ Pregunta: 'MESA' -> Respuesta: '13'\n",
            "   ❔ Pregunta: 'MORENA' -> Respuesta: 'MORENA 796'\n",
            "   ❔ Pregunta: 'PAPELETAS EN ÁNFORA' -> Respuesta: '7'\n",
            "   ❔ Pregunta: 'PAPELETAS NO UTILIZADAS' -> Respuesta: '203'\n",
            "   ❔ Pregunta: 'PDC' -> Respuesta: 'PDC 024'\n",
            "   ❔ Pregunta: 'UNIDAD' -> Respuesta: 'UNIDAD 006'\n",
            "   ❔ Pregunta: 'VOTOS BLANCOS' -> Respuesta: '2'\n",
            "   ❔ Pregunta: 'VOTOS NULOS' -> Respuesta: '59'\n"
          ]
        },
        {
          "name": "stderr",
          "output_type": "stream",
          "text": [
            "\n",
            "Procesando Actas con Donut:  29%|██▊       | 156/545 [1:09:15<2:53:10, 26.71s/it]\u001b[A"
          ]
        },
        {
          "name": "stdout",
          "output_type": "stream",
          "text": [
            "   ❔ Pregunta: 'VOTOS VÁLIDOS' -> Respuesta: '59'\n",
            "\n",
            "--- Interrogando al acta: mesa_2_103284.jpg ---\n",
            "   ❔ Pregunta: 'AP' -> Respuesta: 'AP 017'\n",
            "   ❔ Pregunta: 'APB SÚMATE' -> Respuesta: 'APB SÚMATE 017'\n",
            "   ❔ Pregunta: 'CODIGO MESA' -> Respuesta: '2'\n",
            "   ❔ Pregunta: 'ELECTORES HABILITADOS' -> Respuesta: '7'\n",
            "   ❔ Pregunta: 'FP' -> Respuesta: 'FP A3'\n",
            "   ❔ Pregunta: 'LIBRE' -> Respuesta: 'LIBRE OEP'\n",
            "   ❔ Pregunta: 'LYP ADN' -> Respuesta: 'LYP ADN 003'\n",
            "   ❔ Pregunta: 'MAS-IPSP' -> Respuesta: 'MAS-IPSP 0.3'\n",
            "   ❔ Pregunta: 'MESA' -> Respuesta: '2'\n",
            "   ❔ Pregunta: 'MORENA' -> Respuesta: 'MORENA 017'\n",
            "   ❔ Pregunta: 'PAPELETAS EN ÁNFORA' -> Respuesta: '27'\n",
            "   ❔ Pregunta: 'PAPELETAS NO UTILIZADAS' -> Respuesta: '0'\n",
            "   ❔ Pregunta: 'PDC' -> Respuesta: 'PDC APRIL 2004, 10'\n",
            "   ❔ Pregunta: 'UNIDAD' -> Respuesta: 'UNIDAD MESA 2'\n",
            "   ❔ Pregunta: 'VOTOS BLANCOS' -> Respuesta: '3'\n",
            "   ❔ Pregunta: 'VOTOS NULOS' -> Respuesta: '54'\n"
          ]
        },
        {
          "name": "stderr",
          "output_type": "stream",
          "text": [
            "\n",
            "Procesando Actas con Donut:  29%|██▉       | 157/545 [1:09:42<2:53:20, 26.80s/it]\u001b[A"
          ]
        },
        {
          "name": "stdout",
          "output_type": "stream",
          "text": [
            "   ❔ Pregunta: 'VOTOS VÁLIDOS' -> Respuesta: '51'\n",
            "\n",
            "--- Interrogando al acta: mesa_11_103254.jpg ---\n",
            "   ❔ Pregunta: 'AP' -> Respuesta: 'AP 020'\n",
            "   ❔ Pregunta: 'APB SÚMATE' -> Respuesta: 'APB SÚMATE 0 8'\n",
            "   ❔ Pregunta: 'CODIGO MESA' -> Respuesta: '103254'\n",
            "   ❔ Pregunta: 'ELECTORES HABILITADOS' -> Respuesta: '3'\n",
            "   ❔ Pregunta: 'FP' -> Respuesta: 'FP 004'\n",
            "   ❔ Pregunta: 'LIBRE' -> Respuesta: 'LIBRE 020'\n",
            "   ❔ Pregunta: 'LYP ADN' -> Respuesta: 'LYP ADN 00 1'\n",
            "   ❔ Pregunta: 'MAS-IPSP' -> Respuesta: 'MAS-IPSP 003'\n",
            "   ❔ Pregunta: 'MESA' -> Respuesta: '11'\n",
            "   ❔ Pregunta: 'MORENA' -> Respuesta: 'MORENA 020'\n",
            "   ❔ Pregunta: 'PAPELETAS EN ÁNFORA' -> Respuesta: '17'\n",
            "   ❔ Pregunta: 'PAPELETAS NO UTILIZADAS' -> Respuesta: '208'\n",
            "   ❔ Pregunta: 'PDC' -> Respuesta: 'PDC 015'\n",
            "   ❔ Pregunta: 'UNIDAD' -> Respuesta: 'UNIDAD 004'\n",
            "   ❔ Pregunta: 'VOTOS BLANCOS' -> Respuesta: '1'\n",
            "   ❔ Pregunta: 'VOTOS NULOS' -> Respuesta: '54'\n"
          ]
        },
        {
          "name": "stderr",
          "output_type": "stream",
          "text": [
            "\n",
            "Procesando Actas con Donut:  29%|██▉       | 158/545 [1:10:09<2:53:08, 26.84s/it]\u001b[A"
          ]
        },
        {
          "name": "stdout",
          "output_type": "stream",
          "text": [
            "   ❔ Pregunta: 'VOTOS VÁLIDOS' -> Respuesta: '57'\n",
            "\n",
            "--- Interrogando al acta: mesa_1_103274.jpg ---\n",
            "   ❔ Pregunta: 'AP' -> Respuesta: 'AP 072'\n",
            "   ❔ Pregunta: 'APB SÚMATE' -> Respuesta: 'APB SÚMATE 072'\n",
            "   ❔ Pregunta: 'CODIGO MESA' -> Respuesta: 'None'\n",
            "   ❔ Pregunta: 'ELECTORES HABILITADOS' -> Respuesta: '3'\n",
            "   ❔ Pregunta: 'FP' -> Respuesta: 'FP 001'\n",
            "   ❔ Pregunta: 'LIBRE' -> Respuesta: 'LIBRE 001'\n",
            "   ❔ Pregunta: 'LYP ADN' -> Respuesta: 'LYP ADN AP'\n",
            "   ❔ Pregunta: 'MAS-IPSP' -> Respuesta: 'MAS-IPSP 003'\n",
            "   ❔ Pregunta: 'MESA' -> Respuesta: '1'\n",
            "   ❔ Pregunta: 'MORENA' -> Respuesta: 'MORENA 704'\n",
            "   ❔ Pregunta: 'PAPELETAS EN ÁNFORA' -> Respuesta: '25'\n",
            "   ❔ Pregunta: 'PAPELETAS NO UTILIZADAS' -> Respuesta: '2'\n",
            "   ❔ Pregunta: 'PDC' -> Respuesta: 'PDC 0 12'\n",
            "   ❔ Pregunta: 'UNIDAD' -> Respuesta: 'UNIDAD 003'\n",
            "   ❔ Pregunta: 'VOTOS BLANCOS' -> Respuesta: '7'\n",
            "   ❔ Pregunta: 'VOTOS NULOS' -> Respuesta: '57'\n"
          ]
        },
        {
          "name": "stderr",
          "output_type": "stream",
          "text": [
            "\n",
            "Procesando Actas con Donut:  29%|██▉       | 159/545 [1:10:35<2:52:19, 26.79s/it]\u001b[A"
          ]
        },
        {
          "name": "stdout",
          "output_type": "stream",
          "text": [
            "   ❔ Pregunta: 'VOTOS VÁLIDOS' -> Respuesta: '40'\n",
            "\n",
            "--- Interrogando al acta: mesa_14_103204.jpg ---\n",
            "   ❔ Pregunta: 'AP' -> Respuesta: 'AP 00'\n",
            "   ❔ Pregunta: 'APB SÚMATE' -> Respuesta: 'APB SÚMATE 09 10'\n",
            "   ❔ Pregunta: 'CODIGO MESA' -> Respuesta: '14'\n",
            "   ❔ Pregunta: 'ELECTORES HABILITADOS' -> Respuesta: '3'\n",
            "   ❔ Pregunta: 'FP' -> Respuesta: 'FP 000'\n",
            "   ❔ Pregunta: 'LIBRE' -> Respuesta: 'LIBRE 09 10'\n",
            "   ❔ Pregunta: 'LYP ADN' -> Respuesta: 'LYP ADN APB SUMATE'\n",
            "   ❔ Pregunta: 'MAS-IPSP' -> Respuesta: 'MAS-IPSP 000'\n",
            "   ❔ Pregunta: 'MESA' -> Respuesta: '14'\n",
            "   ❔ Pregunta: 'MORENA' -> Respuesta: 'MORENA 09.10'\n",
            "   ❔ Pregunta: 'PAPELETAS EN ÁNFORA' -> Respuesta: '32'\n",
            "   ❔ Pregunta: 'PAPELETAS NO UTILIZADAS' -> Respuesta: '32'\n",
            "   ❔ Pregunta: 'PDC' -> Respuesta: 'PDC 005'\n",
            "   ❔ Pregunta: 'UNIDAD' -> Respuesta: 'UNIDAD 000'\n",
            "   ❔ Pregunta: 'VOTOS BLANCOS' -> Respuesta: '0'\n",
            "   ❔ Pregunta: 'VOTOS NULOS' -> Respuesta: '11'\n"
          ]
        },
        {
          "name": "stderr",
          "output_type": "stream",
          "text": [
            "\n",
            "Procesando Actas con Donut:  29%|██▉       | 160/545 [1:11:02<2:51:32, 26.73s/it]\u001b[A"
          ]
        },
        {
          "name": "stdout",
          "output_type": "stream",
          "text": [
            "   ❔ Pregunta: 'VOTOS VÁLIDOS' -> Respuesta: '0'\n",
            "\n",
            "--- Interrogando al acta: mesa_4_103304.jpg ---\n",
            "   ❔ Pregunta: 'AP' -> Respuesta: 'AP 0.19'\n",
            "   ❔ Pregunta: 'APB SÚMATE' -> Respuesta: 'APB SÚMATE 0.19'\n",
            "   ❔ Pregunta: 'CODIGO MESA' -> Respuesta: '4'\n",
            "   ❔ Pregunta: 'ELECTORES HABILITADOS' -> Respuesta: '3'\n",
            "   ❔ Pregunta: 'FP' -> Respuesta: 'FP A3'\n",
            "   ❔ Pregunta: 'LIBRE' -> Respuesta: 'LIBRE OEP'\n",
            "   ❔ Pregunta: 'LYP ADN' -> Respuesta: 'LYP ADN 001'\n",
            "   ❔ Pregunta: 'MAS-IPSP' -> Respuesta: 'MAS-IPSP 002'\n",
            "   ❔ Pregunta: 'MESA' -> Respuesta: '4'\n",
            "   ❔ Pregunta: 'MORENA' -> Respuesta: 'MORENA 139504'\n",
            "   ❔ Pregunta: 'PAPELETAS EN ÁNFORA' -> Respuesta: '45'\n",
            "   ❔ Pregunta: 'PAPELETAS NO UTILIZADAS' -> Respuesta: '45'\n",
            "   ❔ Pregunta: 'PDC' -> Respuesta: 'PDC 021'\n",
            "   ❔ Pregunta: 'UNIDAD' -> Respuesta: 'UNIDAD 003'\n",
            "   ❔ Pregunta: 'VOTOS BLANCOS' -> Respuesta: '7'\n",
            "   ❔ Pregunta: 'VOTOS NULOS' -> Respuesta: '40'\n"
          ]
        },
        {
          "name": "stderr",
          "output_type": "stream",
          "text": [
            "\n",
            "Procesando Actas con Donut:  30%|██▉       | 161/545 [1:11:29<2:50:48, 26.69s/it]\u001b[A"
          ]
        },
        {
          "name": "stdout",
          "output_type": "stream",
          "text": [
            "   ❔ Pregunta: 'VOTOS VÁLIDOS' -> Respuesta: '56'\n",
            "\n",
            "--- Interrogando al acta: mesa_5_103314.jpg ---\n",
            "   ❔ Pregunta: 'AP' -> Respuesta: 'AP 025'\n",
            "   ❔ Pregunta: 'APB SÚMATE' -> Respuesta: 'APB SÚMATE MASSA 5'\n",
            "   ❔ Pregunta: 'CODIGO MESA' -> Respuesta: '5'\n",
            "   ❔ Pregunta: 'ELECTORES HABILITADOS' -> Respuesta: '3'\n",
            "   ❔ Pregunta: 'FP' -> Respuesta: 'FP 0'\n",
            "   ❔ Pregunta: 'LIBRE' -> Respuesta: 'LIBRE 025'\n",
            "   ❔ Pregunta: 'LYP ADN' -> Respuesta: 'LYP ADN 025'\n",
            "   ❔ Pregunta: 'MAS-IPSP' -> Respuesta: 'MAS-IPSP 003'\n",
            "   ❔ Pregunta: 'MESA' -> Respuesta: '5'\n",
            "   ❔ Pregunta: 'MORENA' -> Respuesta: 'MORENA 003'\n",
            "   ❔ Pregunta: 'PAPELETAS EN ÁNFORA' -> Respuesta: '28'\n",
            "   ❔ Pregunta: 'PAPELETAS NO UTILIZADAS' -> Respuesta: '28'\n",
            "   ❔ Pregunta: 'PDC' -> Respuesta: 'PDC 018'\n",
            "   ❔ Pregunta: 'UNIDAD' -> Respuesta: 'UNIDAD 003'\n",
            "   ❔ Pregunta: 'VOTOS BLANCOS' -> Respuesta: '6'\n",
            "   ❔ Pregunta: 'VOTOS NULOS' -> Respuesta: '48'\n"
          ]
        },
        {
          "name": "stderr",
          "output_type": "stream",
          "text": [
            "\n",
            "Procesando Actas con Donut:  30%|██▉       | 162/545 [1:11:55<2:50:09, 26.66s/it]\u001b[A"
          ]
        },
        {
          "name": "stdout",
          "output_type": "stream",
          "text": [
            "   ❔ Pregunta: 'VOTOS VÁLIDOS' -> Respuesta: '115'\n",
            "\n",
            "--- Interrogando al acta: mesa_10_103244.jpg ---\n",
            "   ❔ Pregunta: 'AP' -> Respuesta: 'AP A3'\n",
            "   ❔ Pregunta: 'APB SÚMATE' -> Respuesta: 'APB SÚMATE EMASA'\n",
            "   ❔ Pregunta: 'CODIGO MESA' -> Respuesta: '0'\n",
            "   ❔ Pregunta: 'ELECTORES HABILITADOS' -> Respuesta: '3'\n",
            "   ❔ Pregunta: 'FP' -> Respuesta: 'FP A3'\n",
            "   ❔ Pregunta: 'LIBRE' -> Respuesta: 'LIBRE OEP'\n",
            "   ❔ Pregunta: 'LYP ADN' -> Respuesta: 'LYP ADN 005'\n",
            "   ❔ Pregunta: 'MAS-IPSP' -> Respuesta: 'MAS-IPSP 0.14'\n",
            "   ❔ Pregunta: 'MESA' -> Respuesta: '10'\n",
            "   ❔ Pregunta: 'MORENA' -> Respuesta: 'MORENA 014'\n",
            "   ❔ Pregunta: 'PAPELETAS EN ÁNFORA' -> Respuesta: '14'\n",
            "   ❔ Pregunta: 'PAPELETAS NO UTILIZADAS' -> Respuesta: '24'\n",
            "   ❔ Pregunta: 'PDC' -> Respuesta: 'PDC 0'\n",
            "   ❔ Pregunta: 'UNIDAD' -> Respuesta: 'UNIDAD 0'\n",
            "   ❔ Pregunta: 'VOTOS BLANCOS' -> Respuesta: '14'\n",
            "   ❔ Pregunta: 'VOTOS NULOS' -> Respuesta: '14'\n"
          ]
        },
        {
          "name": "stderr",
          "output_type": "stream",
          "text": [
            "\n",
            "Procesando Actas con Donut:  30%|██▉       | 163/545 [1:12:22<2:50:25, 26.77s/it]\u001b[A"
          ]
        },
        {
          "name": "stdout",
          "output_type": "stream",
          "text": [
            "   ❔ Pregunta: 'VOTOS VÁLIDOS' -> Respuesta: '14'\n",
            "\n",
            "--- Interrogando al acta: mesa_12_103264.jpg ---\n",
            "   ❔ Pregunta: 'AP' -> Respuesta: 'AP A3'\n",
            "   ❔ Pregunta: 'APB SÚMATE' -> Respuesta: 'APB SÚMATE MESA'\n",
            "   ❔ Pregunta: 'CODIGO MESA' -> Respuesta: '12'\n",
            "   ❔ Pregunta: 'ELECTORES HABILITADOS' -> Respuesta: '3'\n",
            "   ❔ Pregunta: 'FP' -> Respuesta: 'FP A3'\n",
            "   ❔ Pregunta: 'LIBRE' -> Respuesta: 'LIBRE MESA'\n",
            "   ❔ Pregunta: 'LYP ADN' -> Respuesta: 'LYP ADN OEP'\n",
            "   ❔ Pregunta: 'MAS-IPSP' -> Respuesta: 'MAS-IPSP 0.99'\n",
            "   ❔ Pregunta: 'MESA' -> Respuesta: '12'\n",
            "   ❔ Pregunta: 'MORENA' -> Respuesta: 'MORENA A3'\n",
            "   ❔ Pregunta: 'PAPELETAS EN ÁNFORA' -> Respuesta: '49'\n",
            "   ❔ Pregunta: 'PAPELETAS NO UTILIZADAS' -> Respuesta: '49'\n",
            "   ❔ Pregunta: 'PDC' -> Respuesta: 'PDC 0.49'\n",
            "   ❔ Pregunta: 'UNIDAD' -> Respuesta: 'UNIDAD MESA'\n",
            "   ❔ Pregunta: 'VOTOS BLANCOS' -> Respuesta: '1038'\n",
            "   ❔ Pregunta: 'VOTOS NULOS' -> Respuesta: '7'\n"
          ]
        },
        {
          "name": "stderr",
          "output_type": "stream",
          "text": [
            "\n",
            "Procesando Actas con Donut:  30%|███       | 164/545 [1:12:49<2:49:49, 26.75s/it]\u001b[A"
          ]
        },
        {
          "name": "stdout",
          "output_type": "stream",
          "text": [
            "   ❔ Pregunta: 'VOTOS VÁLIDOS' -> Respuesta: '49'\n",
            "\n",
            "--- Interrogando al acta: mesa_8_103224.jpg ---\n",
            "   ❔ Pregunta: 'AP' -> Respuesta: 'AP 0'\n",
            "   ❔ Pregunta: 'APB SÚMATE' -> Respuesta: 'APB SÚMATE 004'\n",
            "   ❔ Pregunta: 'CODIGO MESA' -> Respuesta: '8'\n",
            "   ❔ Pregunta: 'ELECTORES HABILITADOS' -> Respuesta: '3'\n",
            "   ❔ Pregunta: 'FP' -> Respuesta: 'FP 002'\n",
            "   ❔ Pregunta: 'LIBRE' -> Respuesta: 'LIBRE 004'\n",
            "   ❔ Pregunta: 'LYP ADN' -> Respuesta: 'LYP ADN 0845'\n",
            "   ❔ Pregunta: 'MAS-IPSP' -> Respuesta: 'MAS-IPSP 003'\n",
            "   ❔ Pregunta: 'MESA' -> Respuesta: '8'\n",
            "   ❔ Pregunta: 'MORENA' -> Respuesta: 'MORENA 004'\n",
            "   ❔ Pregunta: 'PAPELETAS EN ÁNFORA' -> Respuesta: '4'\n",
            "   ❔ Pregunta: 'PAPELETAS NO UTILIZADAS' -> Respuesta: '45'\n",
            "   ❔ Pregunta: 'PDC' -> Respuesta: 'PDC 00 2'\n",
            "   ❔ Pregunta: 'UNIDAD' -> Respuesta: 'UNIDAD 005'\n",
            "   ❔ Pregunta: 'VOTOS BLANCOS' -> Respuesta: 'None'\n",
            "   ❔ Pregunta: 'VOTOS NULOS' -> Respuesta: '3'\n"
          ]
        },
        {
          "name": "stderr",
          "output_type": "stream",
          "text": [
            "\n",
            "Procesando Actas con Donut:  30%|███       | 165/545 [1:13:16<2:49:40, 26.79s/it]\u001b[A"
          ]
        },
        {
          "name": "stdout",
          "output_type": "stream",
          "text": [
            "   ❔ Pregunta: 'VOTOS VÁLIDOS' -> Respuesta: '3'\n",
            "\n",
            "--- Interrogando al acta: mesa_7_103214.jpg ---\n",
            "   ❔ Pregunta: 'AP' -> Respuesta: 'AP 500'\n",
            "   ❔ Pregunta: 'APB SÚMATE' -> Respuesta: 'APB SÚMATE WWW.GOV'\n",
            "   ❔ Pregunta: 'CODIGO MESA' -> Respuesta: '220'\n",
            "   ❔ Pregunta: 'ELECTORES HABILITADOS' -> Respuesta: 'None'\n",
            "   ❔ Pregunta: 'FP' -> Respuesta: 'FP WWW.GOV'\n",
            "   ❔ Pregunta: 'LIBRE' -> Respuesta: 'LIBRE 050'\n",
            "   ❔ Pregunta: 'LYP ADN' -> Respuesta: 'LYP ADN TVLZEOL'\n",
            "   ❔ Pregunta: 'MAS-IPSP' -> Respuesta: 'MAS-IPSP WWW.GOV'\n",
            "   ❔ Pregunta: 'MESA' -> Respuesta: '860'\n",
            "   ❔ Pregunta: 'MORENA' -> Respuesta: 'MORENA 7B9B2'\n",
            "   ❔ Pregunta: 'PAPELETAS EN ÁNFORA' -> Respuesta: '500'\n",
            "   ❔ Pregunta: 'PAPELETAS NO UTILIZADAS' -> Respuesta: '0'\n",
            "   ❔ Pregunta: 'PDC' -> Respuesta: 'PDC WWW.GOV'\n",
            "   ❔ Pregunta: 'UNIDAD' -> Respuesta: 'UNIDAD 00'\n",
            "   ❔ Pregunta: 'VOTOS BLANCOS' -> Respuesta: 'None'\n",
            "   ❔ Pregunta: 'VOTOS NULOS' -> Respuesta: '7'\n"
          ]
        },
        {
          "name": "stderr",
          "output_type": "stream",
          "text": [
            "\n",
            "Procesando Actas con Donut:  30%|███       | 166/545 [1:13:43<2:49:51, 26.89s/it]\u001b[A"
          ]
        },
        {
          "name": "stdout",
          "output_type": "stream",
          "text": [
            "   ❔ Pregunta: 'VOTOS VÁLIDOS' -> Respuesta: 'None'\n",
            "\n",
            "--- Interrogando al acta: mesa_3_103294.jpg ---\n",
            "   ❔ Pregunta: 'AP' -> Respuesta: 'AP 017'\n",
            "   ❔ Pregunta: 'APB SÚMATE' -> Respuesta: 'APB SÚMATE 004'\n",
            "   ❔ Pregunta: 'CODIGO MESA' -> Respuesta: '3'\n",
            "   ❔ Pregunta: 'ELECTORES HABILITADOS' -> Respuesta: '3'\n",
            "   ❔ Pregunta: 'FP' -> Respuesta: 'FP 003'\n",
            "   ❔ Pregunta: 'LIBRE' -> Respuesta: 'LIBRE 007'\n",
            "   ❔ Pregunta: 'LYP ADN' -> Respuesta: 'LYP ADN APB SOMATE'\n",
            "   ❔ Pregunta: 'MAS-IPSP' -> Respuesta: 'MAS-IPSP 004'\n",
            "   ❔ Pregunta: 'MESA' -> Respuesta: '3'\n",
            "   ❔ Pregunta: 'MORENA' -> Respuesta: 'MORENA 7030'\n",
            "   ❔ Pregunta: 'PAPELETAS EN ÁNFORA' -> Respuesta: '7030'\n",
            "   ❔ Pregunta: 'PAPELETAS NO UTILIZADAS' -> Respuesta: '7030'\n",
            "   ❔ Pregunta: 'PDC' -> Respuesta: 'PDC 009'\n",
            "   ❔ Pregunta: 'UNIDAD' -> Respuesta: 'UNIDAD 004'\n",
            "   ❔ Pregunta: 'VOTOS BLANCOS' -> Respuesta: '5'\n",
            "   ❔ Pregunta: 'VOTOS NULOS' -> Respuesta: '99'\n"
          ]
        },
        {
          "name": "stderr",
          "output_type": "stream",
          "text": [
            "\n",
            "Procesando Actas con Donut:  31%|███       | 167/545 [1:14:10<2:49:00, 26.83s/it]\u001b[A"
          ]
        },
        {
          "name": "stdout",
          "output_type": "stream",
          "text": [
            "   ❔ Pregunta: 'VOTOS VÁLIDOS' -> Respuesta: '50'\n",
            "\n",
            "--- Interrogando al acta: mesa_9_103234.jpg ---\n",
            "   ❔ Pregunta: 'AP' -> Respuesta: 'AP 006'\n",
            "   ❔ Pregunta: 'APB SÚMATE' -> Respuesta: 'APB SÚMATE 007'\n",
            "   ❔ Pregunta: 'CODIGO MESA' -> Respuesta: '9'\n",
            "   ❔ Pregunta: 'ELECTORES HABILITADOS' -> Respuesta: '3'\n",
            "   ❔ Pregunta: 'FP' -> Respuesta: 'FP 900'\n",
            "   ❔ Pregunta: 'LIBRE' -> Respuesta: 'LIBRE 00 2'\n",
            "   ❔ Pregunta: 'LYP ADN' -> Respuesta: 'LYP ADN 007'\n",
            "   ❔ Pregunta: 'MAS-IPSP' -> Respuesta: 'MAS-IPSP 001'\n",
            "   ❔ Pregunta: 'MESA' -> Respuesta: '9'\n",
            "   ❔ Pregunta: 'MORENA' -> Respuesta: 'MORENA 796'\n",
            "   ❔ Pregunta: 'PAPELETAS EN ÁNFORA' -> Respuesta: '125'\n",
            "   ❔ Pregunta: 'PAPELETAS NO UTILIZADAS' -> Respuesta: '195'\n",
            "   ❔ Pregunta: 'PDC' -> Respuesta: 'PDC 025'\n",
            "   ❔ Pregunta: 'UNIDAD' -> Respuesta: 'UNIDAD 004'\n",
            "   ❔ Pregunta: 'VOTOS BLANCOS' -> Respuesta: '64'\n",
            "   ❔ Pregunta: 'VOTOS NULOS' -> Respuesta: '67'\n"
          ]
        },
        {
          "name": "stderr",
          "output_type": "stream",
          "text": [
            "\n",
            "Procesando Actas con Donut:  31%|███       | 168/545 [1:14:37<2:48:50, 26.87s/it]\u001b[A"
          ]
        },
        {
          "name": "stdout",
          "output_type": "stream",
          "text": [
            "   ❔ Pregunta: 'VOTOS VÁLIDOS' -> Respuesta: '64'\n",
            "\n",
            "--- Interrogando al acta: mesa_8_101574.jpg ---\n",
            "   ❔ Pregunta: 'AP' -> Respuesta: 'AP APB SOMATE'\n",
            "   ❔ Pregunta: 'APB SÚMATE' -> Respuesta: 'APB SÚMATE 09 20'\n",
            "   ❔ Pregunta: 'CODIGO MESA' -> Respuesta: '8'\n",
            "   ❔ Pregunta: 'ELECTORES HABILITADOS' -> Respuesta: '3'\n",
            "   ❔ Pregunta: 'FP' -> Respuesta: 'FP 0.05'\n",
            "   ❔ Pregunta: 'LIBRE' -> Respuesta: 'LIBRE 006'\n",
            "   ❔ Pregunta: 'LYP ADN' -> Respuesta: 'LYP ADN APB SOMATE'\n",
            "   ❔ Pregunta: 'MAS-IPSP' -> Respuesta: 'MAS-IPSP 004'\n",
            "   ❔ Pregunta: 'MESA' -> Respuesta: '8'\n",
            "   ❔ Pregunta: 'MORENA' -> Respuesta: 'MORENA 0920'\n",
            "   ❔ Pregunta: 'PAPELETAS EN ÁNFORA' -> Respuesta: '36'\n",
            "   ❔ Pregunta: 'PAPELETAS NO UTILIZADAS' -> Respuesta: '920'\n",
            "   ❔ Pregunta: 'PDC' -> Respuesta: 'PDC 023'\n",
            "   ❔ Pregunta: 'UNIDAD' -> Respuesta: 'UNIDAD 003'\n",
            "   ❔ Pregunta: 'VOTOS BLANCOS' -> Respuesta: '3'\n",
            "   ❔ Pregunta: 'VOTOS NULOS' -> Respuesta: '46'\n"
          ]
        },
        {
          "name": "stderr",
          "output_type": "stream",
          "text": [
            "\n",
            "Procesando Actas con Donut:  31%|███       | 169/545 [1:15:04<2:48:43, 26.92s/it]\u001b[A"
          ]
        },
        {
          "name": "stdout",
          "output_type": "stream",
          "text": [
            "   ❔ Pregunta: 'VOTOS VÁLIDOS' -> Respuesta: '38'\n",
            "\n",
            "--- Interrogando al acta: mesa_6_101554.jpg ---\n",
            "   ❔ Pregunta: 'AP' -> Respuesta: 'AP 60'\n",
            "   ❔ Pregunta: 'APB SÚMATE' -> Respuesta: 'APB SÚMATE 09 30'\n",
            "   ❔ Pregunta: 'CODIGO MESA' -> Respuesta: '6'\n",
            "   ❔ Pregunta: 'ELECTORES HABILITADOS' -> Respuesta: '3'\n",
            "   ❔ Pregunta: 'FP' -> Respuesta: 'FP 4'\n",
            "   ❔ Pregunta: 'LIBRE' -> Respuesta: 'LIBRE 09 30'\n",
            "   ❔ Pregunta: 'LYP ADN' -> Respuesta: 'LYP ADN APS COMATE'\n",
            "   ❔ Pregunta: 'MAS-IPSP' -> Respuesta: 'MAS-IPSP 2'\n",
            "   ❔ Pregunta: 'MESA' -> Respuesta: '6'\n",
            "   ❔ Pregunta: 'MORENA' -> Respuesta: 'MORENA 7'\n",
            "   ❔ Pregunta: 'PAPELETAS EN ÁNFORA' -> Respuesta: '730'\n",
            "   ❔ Pregunta: 'PAPELETAS NO UTILIZADAS' -> Respuesta: '486'\n",
            "   ❔ Pregunta: 'PDC' -> Respuesta: 'PDC 40'\n",
            "   ❔ Pregunta: 'UNIDAD' -> Respuesta: 'UNIDAD 5'\n",
            "   ❔ Pregunta: 'VOTOS BLANCOS' -> Respuesta: '0'\n",
            "   ❔ Pregunta: 'VOTOS NULOS' -> Respuesta: '51'\n"
          ]
        },
        {
          "name": "stderr",
          "output_type": "stream",
          "text": [
            "\n",
            "Procesando Actas con Donut:  31%|███       | 170/545 [1:15:31<2:48:12, 26.91s/it]\u001b[A"
          ]
        },
        {
          "name": "stdout",
          "output_type": "stream",
          "text": [
            "   ❔ Pregunta: 'VOTOS VÁLIDOS' -> Respuesta: '83'\n",
            "\n",
            "--- Interrogando al acta: mesa_10_101594.jpg ---\n",
            "   ❔ Pregunta: 'AP' -> Respuesta: 'AP 0 5 6'\n",
            "   ❔ Pregunta: 'APB SÚMATE' -> Respuesta: 'APB SÚMATE 0930'\n",
            "   ❔ Pregunta: 'CODIGO MESA' -> Respuesta: '10'\n",
            "   ❔ Pregunta: 'ELECTORES HABILITADOS' -> Respuesta: '3'\n",
            "   ❔ Pregunta: 'FP' -> Respuesta: 'FP 0930'\n",
            "   ❔ Pregunta: 'LIBRE' -> Respuesta: 'LIBRE 0 1'\n",
            "   ❔ Pregunta: 'LYP ADN' -> Respuesta: 'LYP ADN 0 5 6'\n",
            "   ❔ Pregunta: 'MAS-IPSP' -> Respuesta: 'MAS-IPSP 000'\n",
            "   ❔ Pregunta: 'MESA' -> Respuesta: '10'\n",
            "   ❔ Pregunta: 'MORENA' -> Respuesta: 'MORENA 0930'\n",
            "   ❔ Pregunta: 'PAPELETAS EN ÁNFORA' -> Respuesta: '83'\n",
            "   ❔ Pregunta: 'PAPELETAS NO UTILIZADAS' -> Respuesta: '173'\n",
            "   ❔ Pregunta: 'PDC' -> Respuesta: 'PDC 008'\n",
            "   ❔ Pregunta: 'UNIDAD' -> Respuesta: 'UNIDAD 000'\n",
            "   ❔ Pregunta: 'VOTOS BLANCOS' -> Respuesta: '0'\n",
            "   ❔ Pregunta: 'VOTOS NULOS' -> Respuesta: '17'\n"
          ]
        },
        {
          "name": "stderr",
          "output_type": "stream",
          "text": [
            "\n",
            "Procesando Actas con Donut:  31%|███▏      | 171/545 [1:15:57<2:47:48, 26.92s/it]\u001b[A"
          ]
        },
        {
          "name": "stdout",
          "output_type": "stream",
          "text": [
            "   ❔ Pregunta: 'VOTOS VÁLIDOS' -> Respuesta: '17'\n",
            "\n",
            "--- Interrogando al acta: mesa_5_101544.jpg ---\n",
            "   ❔ Pregunta: 'AP' -> Respuesta: 'AP 0 22'\n",
            "   ❔ Pregunta: 'APB SÚMATE' -> Respuesta: 'APB SÚMATE 004'\n",
            "   ❔ Pregunta: 'CODIGO MESA' -> Respuesta: 'None'\n",
            "   ❔ Pregunta: 'ELECTORES HABILITADOS' -> Respuesta: '3'\n",
            "   ❔ Pregunta: 'FP' -> Respuesta: 'FP 000'\n",
            "   ❔ Pregunta: 'LIBRE' -> Respuesta: 'LIBRE 0.8'\n",
            "   ❔ Pregunta: 'LYP ADN' -> Respuesta: 'LYP ADN 001'\n",
            "   ❔ Pregunta: 'MAS-IPSP' -> Respuesta: 'MAS-IPSP 004'\n",
            "   ❔ Pregunta: 'MESA' -> Respuesta: '5'\n",
            "   ❔ Pregunta: 'MORENA' -> Respuesta: 'MORENA 202'\n",
            "   ❔ Pregunta: 'PAPELETAS EN ÁNFORA' -> Respuesta: '36'\n",
            "   ❔ Pregunta: 'PAPELETAS NO UTILIZADAS' -> Respuesta: '201'\n",
            "   ❔ Pregunta: 'PDC' -> Respuesta: 'PDC 034'\n",
            "   ❔ Pregunta: 'UNIDAD' -> Respuesta: 'UNIDAD 005'\n",
            "   ❔ Pregunta: 'VOTOS BLANCOS' -> Respuesta: '6'\n",
            "   ❔ Pregunta: 'VOTOS NULOS' -> Respuesta: '36'\n"
          ]
        },
        {
          "name": "stderr",
          "output_type": "stream",
          "text": [
            "\n",
            "Procesando Actas con Donut:  32%|███▏      | 172/545 [1:16:24<2:47:22, 26.92s/it]\u001b[A"
          ]
        },
        {
          "name": "stdout",
          "output_type": "stream",
          "text": [
            "   ❔ Pregunta: 'VOTOS VÁLIDOS' -> Respuesta: '77'\n",
            "\n",
            "--- Interrogando al acta: mesa_9_101584.jpg ---\n",
            "   ❔ Pregunta: 'AP' -> Respuesta: 'AP 0.21'\n",
            "   ❔ Pregunta: 'APB SÚMATE' -> Respuesta: 'APB SÚMATE 0.21'\n",
            "   ❔ Pregunta: 'CODIGO MESA' -> Respuesta: '9'\n",
            "   ❔ Pregunta: 'ELECTORES HABILITADOS' -> Respuesta: '3'\n",
            "   ❔ Pregunta: 'FP' -> Respuesta: 'FP 00'\n",
            "   ❔ Pregunta: 'LIBRE' -> Respuesta: 'LIBRE OEP'\n",
            "   ❔ Pregunta: 'LYP ADN' -> Respuesta: 'LYP ADN 001'\n",
            "   ❔ Pregunta: 'MAS-IPSP' -> Respuesta: 'MAS-IPSP 0.2'\n",
            "   ❔ Pregunta: 'MESA' -> Respuesta: '9'\n",
            "   ❔ Pregunta: 'MORENA' -> Respuesta: 'MORENA 7'\n",
            "   ❔ Pregunta: 'PAPELETAS EN ÁNFORA' -> Respuesta: '1720'\n",
            "   ❔ Pregunta: 'PAPELETAS NO UTILIZADAS' -> Respuesta: '92'\n",
            "   ❔ Pregunta: 'PDC' -> Respuesta: 'PDC 028'\n",
            "   ❔ Pregunta: 'UNIDAD' -> Respuesta: 'UNIDAD 011'\n",
            "   ❔ Pregunta: 'VOTOS BLANCOS' -> Respuesta: '1'\n",
            "   ❔ Pregunta: 'VOTOS NULOS' -> Respuesta: '42'\n"
          ]
        },
        {
          "name": "stderr",
          "output_type": "stream",
          "text": [
            "\n",
            "Procesando Actas con Donut:  32%|███▏      | 173/545 [1:16:51<2:46:39, 26.88s/it]\u001b[A"
          ]
        },
        {
          "name": "stdout",
          "output_type": "stream",
          "text": [
            "   ❔ Pregunta: 'VOTOS VÁLIDOS' -> Respuesta: '92'\n",
            "\n",
            "--- Interrogando al acta: mesa_3_101524.jpg ---\n",
            "   ❔ Pregunta: 'AP' -> Respuesta: 'AP 028'\n",
            "   ❔ Pregunta: 'APB SÚMATE' -> Respuesta: 'APB SÚMATE 00 7'\n",
            "   ❔ Pregunta: 'CODIGO MESA' -> Respuesta: '101524'\n",
            "   ❔ Pregunta: 'ELECTORES HABILITADOS' -> Respuesta: '3'\n",
            "   ❔ Pregunta: 'FP' -> Respuesta: 'FP 002'\n",
            "   ❔ Pregunta: 'LIBRE' -> Respuesta: 'LIBRE 028'\n",
            "   ❔ Pregunta: 'LYP ADN' -> Respuesta: 'LYP ADN 00'\n",
            "   ❔ Pregunta: 'MAS-IPSP' -> Respuesta: 'MAS-IPSP 001'\n",
            "   ❔ Pregunta: 'MESA' -> Respuesta: '3'\n",
            "   ❔ Pregunta: 'MORENA' -> Respuesta: 'MORENA 028'\n",
            "   ❔ Pregunta: 'PAPELETAS EN ÁNFORA' -> Respuesta: '800'\n",
            "   ❔ Pregunta: 'PAPELETAS NO UTILIZADAS' -> Respuesta: '175'\n",
            "   ❔ Pregunta: 'PDC' -> Respuesta: 'PDC 025'\n",
            "   ❔ Pregunta: 'UNIDAD' -> Respuesta: 'UNIDAD 008'\n",
            "   ❔ Pregunta: 'VOTOS BLANCOS' -> Respuesta: '3'\n",
            "   ❔ Pregunta: 'VOTOS NULOS' -> Respuesta: '58'\n"
          ]
        },
        {
          "name": "stderr",
          "output_type": "stream",
          "text": [
            "\n",
            "Procesando Actas con Donut:  32%|███▏      | 174/545 [1:17:18<2:46:13, 26.88s/it]\u001b[A"
          ]
        },
        {
          "name": "stdout",
          "output_type": "stream",
          "text": [
            "   ❔ Pregunta: 'VOTOS VÁLIDOS' -> Respuesta: '84'\n",
            "\n",
            "--- Interrogando al acta: mesa_1_101504.jpg ---\n",
            "   ❔ Pregunta: 'AP' -> Respuesta: 'AP 0 23'\n",
            "   ❔ Pregunta: 'APB SÚMATE' -> Respuesta: 'APB SÚMATE 01'\n",
            "   ❔ Pregunta: 'CODIGO MESA' -> Respuesta: '101504'\n",
            "   ❔ Pregunta: 'ELECTORES HABILITADOS' -> Respuesta: '3'\n",
            "   ❔ Pregunta: 'FP' -> Respuesta: 'FP 004'\n",
            "   ❔ Pregunta: 'LIBRE' -> Respuesta: 'LIBRE 0.9'\n",
            "   ❔ Pregunta: 'LYP ADN' -> Respuesta: 'LYP ADN 00'\n",
            "   ❔ Pregunta: 'MAS-IPSP' -> Respuesta: 'MAS-IPSP 0 0 4'\n",
            "   ❔ Pregunta: 'MESA' -> Respuesta: '1'\n",
            "   ❔ Pregunta: 'MORENA' -> Respuesta: 'MORENA 0.23'\n",
            "   ❔ Pregunta: 'PAPELETAS EN ÁNFORA' -> Respuesta: '127'\n",
            "   ❔ Pregunta: 'PAPELETAS NO UTILIZADAS' -> Respuesta: '193'\n",
            "   ❔ Pregunta: 'PDC' -> Respuesta: 'PDC 023'\n",
            "   ❔ Pregunta: 'UNIDAD' -> Respuesta: 'UNIDAD 005'\n",
            "   ❔ Pregunta: 'VOTOS BLANCOS' -> Respuesta: '4'\n",
            "   ❔ Pregunta: 'VOTOS NULOS' -> Respuesta: '45'\n"
          ]
        },
        {
          "name": "stderr",
          "output_type": "stream",
          "text": [
            "\n",
            "Procesando Actas con Donut:  32%|███▏      | 175/545 [1:17:45<2:45:51, 26.90s/it]\u001b[A"
          ]
        },
        {
          "name": "stdout",
          "output_type": "stream",
          "text": [
            "   ❔ Pregunta: 'VOTOS VÁLIDOS' -> Respuesta: '78'\n",
            "\n",
            "--- Interrogando al acta: mesa_7_101564.jpg ---\n",
            "   ❔ Pregunta: 'AP' -> Respuesta: 'AP MASSA 7'\n",
            "   ❔ Pregunta: 'APB SÚMATE' -> Respuesta: 'APB SÚMATE 080'\n",
            "   ❔ Pregunta: 'CODIGO MESA' -> Respuesta: '7'\n",
            "   ❔ Pregunta: 'ELECTORES HABILITADOS' -> Respuesta: '3'\n",
            "   ❔ Pregunta: 'FP' -> Respuesta: 'FP 005'\n",
            "   ❔ Pregunta: 'LIBRE' -> Respuesta: 'LIBRE 007'\n",
            "   ❔ Pregunta: 'LYP ADN' -> Respuesta: 'LYP ADN 080'\n",
            "   ❔ Pregunta: 'MAS-IPSP' -> Respuesta: 'MAS-IPSP 003'\n",
            "   ❔ Pregunta: 'MESA' -> Respuesta: '7'\n",
            "   ❔ Pregunta: 'MORENA' -> Respuesta: 'MORENA 7 3 8'\n",
            "   ❔ Pregunta: 'PAPELETAS EN ÁNFORA' -> Respuesta: '800'\n",
            "   ❔ Pregunta: 'PAPELETAS NO UTILIZADAS' -> Respuesta: '738'\n",
            "   ❔ Pregunta: 'PDC' -> Respuesta: 'PDC 026'\n",
            "   ❔ Pregunta: 'UNIDAD' -> Respuesta: 'UNIDAD 004'\n",
            "   ❔ Pregunta: 'VOTOS BLANCOS' -> Respuesta: '3'\n",
            "   ❔ Pregunta: 'VOTOS NULOS' -> Respuesta: '55'\n"
          ]
        },
        {
          "name": "stderr",
          "output_type": "stream",
          "text": [
            "\n",
            "Procesando Actas con Donut:  32%|███▏      | 176/545 [1:18:12<2:44:53, 26.81s/it]\u001b[A"
          ]
        },
        {
          "name": "stdout",
          "output_type": "stream",
          "text": [
            "   ❔ Pregunta: 'VOTOS VÁLIDOS' -> Respuesta: '80'\n",
            "\n",
            "--- Interrogando al acta: mesa_4_101534.jpg ---\n",
            "   ❔ Pregunta: 'AP' -> Respuesta: 'AP 020'\n",
            "   ❔ Pregunta: 'APB SÚMATE' -> Respuesta: 'APB SÚMATE 0.20'\n",
            "   ❔ Pregunta: 'CODIGO MESA' -> Respuesta: 'None'\n",
            "   ❔ Pregunta: 'ELECTORES HABILITADOS' -> Respuesta: '3'\n",
            "   ❔ Pregunta: 'FP' -> Respuesta: 'FP 004'\n",
            "   ❔ Pregunta: 'LIBRE' -> Respuesta: 'LIBRE 0.20'\n",
            "   ❔ Pregunta: 'LYP ADN' -> Respuesta: 'LYP ADN AP'\n",
            "   ❔ Pregunta: 'MAS-IPSP' -> Respuesta: 'MAS-IPSP 001'\n",
            "   ❔ Pregunta: 'MESA' -> Respuesta: '4'\n",
            "   ❔ Pregunta: 'MORENA' -> Respuesta: 'MORENA 0.20'\n",
            "   ❔ Pregunta: 'PAPELETAS EN ÁNFORA' -> Respuesta: '4'\n",
            "   ❔ Pregunta: 'PAPELETAS NO UTILIZADAS' -> Respuesta: '498'\n",
            "   ❔ Pregunta: 'PDC' -> Respuesta: 'PDC 030'\n",
            "   ❔ Pregunta: 'UNIDAD' -> Respuesta: 'UNIDAD 0.10'\n",
            "   ❔ Pregunta: 'VOTOS BLANCOS' -> Respuesta: '3'\n",
            "   ❔ Pregunta: 'VOTOS NULOS' -> Respuesta: '39'\n"
          ]
        },
        {
          "name": "stderr",
          "output_type": "stream",
          "text": [
            "\n",
            "Procesando Actas con Donut:  32%|███▏      | 177/545 [1:18:38<2:44:11, 26.77s/it]\u001b[A"
          ]
        },
        {
          "name": "stdout",
          "output_type": "stream",
          "text": [
            "   ❔ Pregunta: 'VOTOS VÁLIDOS' -> Respuesta: '80'\n",
            "\n",
            "--- Interrogando al acta: mesa_2_101514.jpg ---\n",
            "   ❔ Pregunta: 'AP' -> Respuesta: 'AP 0.22'\n",
            "   ❔ Pregunta: 'APB SÚMATE' -> Respuesta: 'APB SÚMATE 006'\n",
            "   ❔ Pregunta: 'CODIGO MESA' -> Respuesta: '101514'\n",
            "   ❔ Pregunta: 'ELECTORES HABILITADOS' -> Respuesta: '3'\n",
            "   ❔ Pregunta: 'FP' -> Respuesta: 'FP 005'\n",
            "   ❔ Pregunta: 'LIBRE' -> Respuesta: 'LIBRE 0.22'\n",
            "   ❔ Pregunta: 'LYP ADN' -> Respuesta: 'LYP ADN 001'\n",
            "   ❔ Pregunta: 'MAS-IPSP' -> Respuesta: 'MAS-IPSP 003'\n",
            "   ❔ Pregunta: 'MESA' -> Respuesta: '910'\n",
            "   ❔ Pregunta: 'MORENA' -> Respuesta: 'MORENA 7 5'\n",
            "   ❔ Pregunta: 'PAPELETAS EN ÁNFORA' -> Respuesta: '7675'\n",
            "   ❔ Pregunta: 'PAPELETAS NO UTILIZADAS' -> Respuesta: '58'\n",
            "   ❔ Pregunta: 'PDC' -> Respuesta: 'PDC 036'\n",
            "   ❔ Pregunta: 'UNIDAD' -> Respuesta: 'UNIDAD 006'\n",
            "   ❔ Pregunta: 'VOTOS BLANCOS' -> Respuesta: '3'\n",
            "   ❔ Pregunta: 'VOTOS NULOS' -> Respuesta: '58'\n"
          ]
        },
        {
          "name": "stderr",
          "output_type": "stream",
          "text": [
            "\n",
            "Procesando Actas con Donut:  33%|███▎      | 178/545 [1:19:05<2:43:42, 26.76s/it]\u001b[A"
          ]
        },
        {
          "name": "stdout",
          "output_type": "stream",
          "text": [
            "   ❔ Pregunta: 'VOTOS VÁLIDOS' -> Respuesta: '86'\n",
            "\n",
            "--- Interrogando al acta: mesa_4_103444.jpg ---\n",
            "   ❔ Pregunta: 'AP' -> Respuesta: 'AP 017'\n",
            "   ❔ Pregunta: 'APB SÚMATE' -> Respuesta: 'APB SÚMATE 005'\n",
            "   ❔ Pregunta: 'CODIGO MESA' -> Respuesta: '4'\n",
            "   ❔ Pregunta: 'ELECTORES HABILITADOS' -> Respuesta: '3'\n",
            "   ❔ Pregunta: 'FP' -> Respuesta: 'FP 002'\n",
            "   ❔ Pregunta: 'LIBRE' -> Respuesta: 'LIBRE 00 2'\n",
            "   ❔ Pregunta: 'LYP ADN' -> Respuesta: 'LYP ADN 001'\n",
            "   ❔ Pregunta: 'MAS-IPSP' -> Respuesta: 'MAS-IPSP 005'\n",
            "   ❔ Pregunta: 'MESA' -> Respuesta: '4'\n",
            "   ❔ Pregunta: 'MORENA' -> Respuesta: 'MORENA 1'\n",
            "   ❔ Pregunta: 'PAPELETAS EN ÁNFORA' -> Respuesta: '18'\n",
            "   ❔ Pregunta: 'PAPELETAS NO UTILIZADAS' -> Respuesta: '1245'\n",
            "   ❔ Pregunta: 'PDC' -> Respuesta: 'PDC 023'\n",
            "   ❔ Pregunta: 'UNIDAD' -> Respuesta: 'UNIDAD 001'\n",
            "   ❔ Pregunta: 'VOTOS BLANCOS' -> Respuesta: '4'\n",
            "   ❔ Pregunta: 'VOTOS NULOS' -> Respuesta: '61'\n"
          ]
        },
        {
          "name": "stderr",
          "output_type": "stream",
          "text": [
            "\n",
            "Procesando Actas con Donut:  33%|███▎      | 179/545 [1:19:32<2:43:32, 26.81s/it]\u001b[A"
          ]
        },
        {
          "name": "stdout",
          "output_type": "stream",
          "text": [
            "   ❔ Pregunta: 'VOTOS VÁLIDOS' -> Respuesta: '59'\n",
            "\n",
            "--- Interrogando al acta: mesa_10_103504.jpg ---\n",
            "   ❔ Pregunta: 'AP' -> Respuesta: 'AP 0 15'\n",
            "   ❔ Pregunta: 'APB SÚMATE' -> Respuesta: 'APB SÚMATE 004'\n",
            "   ❔ Pregunta: 'CODIGO MESA' -> Respuesta: '10'\n",
            "   ❔ Pregunta: 'ELECTORES HABILITADOS' -> Respuesta: '3'\n",
            "   ❔ Pregunta: 'FP' -> Respuesta: 'FP 005'\n",
            "   ❔ Pregunta: 'LIBRE' -> Respuesta: 'LIBRE 012'\n",
            "   ❔ Pregunta: 'LYP ADN' -> Respuesta: 'LYP ADN 002'\n",
            "   ❔ Pregunta: 'MAS-IPSP' -> Respuesta: 'MAS-IPSP 001'\n",
            "   ❔ Pregunta: 'MESA' -> Respuesta: '10'\n",
            "   ❔ Pregunta: 'MORENA' -> Respuesta: 'MORENA 08 10'\n",
            "   ❔ Pregunta: 'PAPELETAS EN ÁNFORA' -> Respuesta: '12'\n",
            "   ❔ Pregunta: 'PAPELETAS NO UTILIZADAS' -> Respuesta: '12'\n",
            "   ❔ Pregunta: 'PDC' -> Respuesta: 'PDC 011'\n",
            "   ❔ Pregunta: 'UNIDAD' -> Respuesta: 'UNIDAD 004'\n",
            "   ❔ Pregunta: 'VOTOS BLANCOS' -> Respuesta: '5'\n",
            "   ❔ Pregunta: 'VOTOS NULOS' -> Respuesta: '59'\n"
          ]
        },
        {
          "name": "stderr",
          "output_type": "stream",
          "text": [
            "\n",
            "Procesando Actas con Donut:  33%|███▎      | 180/545 [1:19:59<2:42:51, 26.77s/it]\u001b[A"
          ]
        },
        {
          "name": "stdout",
          "output_type": "stream",
          "text": [
            "   ❔ Pregunta: 'VOTOS VÁLIDOS' -> Respuesta: '55'\n",
            "\n",
            "--- Interrogando al acta: mesa_7_103474.jpg ---\n",
            "   ❔ Pregunta: 'AP' -> Respuesta: 'AP 760'\n",
            "   ❔ Pregunta: 'APB SÚMATE' -> Respuesta: 'APB SÚMATE NOV DART'\n",
            "   ❔ Pregunta: 'CODIGO MESA' -> Respuesta: '760'\n",
            "   ❔ Pregunta: 'ELECTORES HABILITADOS' -> Respuesta: 'None'\n",
            "   ❔ Pregunta: 'FP' -> Respuesta: 'FP APRIL'\n",
            "   ❔ Pregunta: 'LIBRE' -> Respuesta: 'LIBRE BECK'\n",
            "   ❔ Pregunta: 'LYP ADN' -> Respuesta: 'LYP ADN TV. NEOL'\n",
            "   ❔ Pregunta: 'MAS-IPSP' -> Respuesta: 'MAS-IPSP WWW.GOV'\n",
            "   ❔ Pregunta: 'MESA' -> Respuesta: '760'\n",
            "   ❔ Pregunta: 'MORENA' -> Respuesta: 'MORENA 800'\n",
            "   ❔ Pregunta: 'PAPELETAS EN ÁNFORA' -> Respuesta: 'None'\n",
            "   ❔ Pregunta: 'PAPELETAS NO UTILIZADAS' -> Respuesta: '0'\n",
            "   ❔ Pregunta: 'PDC' -> Respuesta: 'PDC TV. DEPARTMENT'\n",
            "   ❔ Pregunta: 'UNIDAD' -> Respuesta: 'UNIDAD BECK'\n",
            "   ❔ Pregunta: 'VOTOS BLANCOS' -> Respuesta: 'None'\n",
            "   ❔ Pregunta: 'VOTOS NULOS' -> Respuesta: '80'\n"
          ]
        },
        {
          "name": "stderr",
          "output_type": "stream",
          "text": [
            "\n",
            "Procesando Actas con Donut:  33%|███▎      | 181/545 [1:20:25<2:42:07, 26.72s/it]\u001b[A"
          ]
        },
        {
          "name": "stdout",
          "output_type": "stream",
          "text": [
            "   ❔ Pregunta: 'VOTOS VÁLIDOS' -> Respuesta: '800'\n",
            "\n",
            "--- Interrogando al acta: mesa_2_103424.jpg ---\n",
            "   ❔ Pregunta: 'AP' -> Respuesta: 'AP 0.91'\n",
            "   ❔ Pregunta: 'APB SÚMATE' -> Respuesta: 'APB SÚMATE 0812'\n",
            "   ❔ Pregunta: 'CODIGO MESA' -> Respuesta: 'None'\n",
            "   ❔ Pregunta: 'ELECTORES HABILITADOS' -> Respuesta: '3'\n",
            "   ❔ Pregunta: 'FP' -> Respuesta: 'FP 001'\n",
            "   ❔ Pregunta: 'LIBRE' -> Respuesta: 'LIBRE 002'\n",
            "   ❔ Pregunta: 'LYP ADN' -> Respuesta: 'LYP ADN 0812'\n",
            "   ❔ Pregunta: 'MAS-IPSP' -> Respuesta: 'MAS-IPSP 002'\n",
            "   ❔ Pregunta: 'MESA' -> Respuesta: '812'\n",
            "   ❔ Pregunta: 'MORENA' -> Respuesta: 'MORENA 0812'\n",
            "   ❔ Pregunta: 'PAPELETAS EN ÁNFORA' -> Respuesta: '8'\n",
            "   ❔ Pregunta: 'PAPELETAS NO UTILIZADAS' -> Respuesta: '6'\n",
            "   ❔ Pregunta: 'PDC' -> Respuesta: 'PDC 004'\n",
            "   ❔ Pregunta: 'UNIDAD' -> Respuesta: 'UNIDAD 004'\n",
            "   ❔ Pregunta: 'VOTOS BLANCOS' -> Respuesta: '8'\n",
            "   ❔ Pregunta: 'VOTOS NULOS' -> Respuesta: '54'\n"
          ]
        },
        {
          "name": "stderr",
          "output_type": "stream",
          "text": [
            "\n",
            "Procesando Actas con Donut:  33%|███▎      | 182/545 [1:20:52<2:42:20, 26.83s/it]\u001b[A"
          ]
        },
        {
          "name": "stdout",
          "output_type": "stream",
          "text": [
            "   ❔ Pregunta: 'VOTOS VÁLIDOS' -> Respuesta: '4'\n",
            "\n",
            "--- Interrogando al acta: mesa_5_103454.jpg ---\n",
            "   ❔ Pregunta: 'AP' -> Respuesta: 'AP 027'\n",
            "   ❔ Pregunta: 'APB SÚMATE' -> Respuesta: 'APB SÚMATE 006'\n",
            "   ❔ Pregunta: 'CODIGO MESA' -> Respuesta: '5'\n",
            "   ❔ Pregunta: 'ELECTORES HABILITADOS' -> Respuesta: '3'\n",
            "   ❔ Pregunta: 'FP' -> Respuesta: 'FP 004'\n",
            "   ❔ Pregunta: 'LIBRE' -> Respuesta: 'LIBRE 003'\n",
            "   ❔ Pregunta: 'LYP ADN' -> Respuesta: 'LYP ADN APB SOMATE'\n",
            "   ❔ Pregunta: 'MAS-IPSP' -> Respuesta: 'MAS-IPSP 0 06'\n",
            "   ❔ Pregunta: 'MESA' -> Respuesta: '5'\n",
            "   ❔ Pregunta: 'MORENA' -> Respuesta: 'MORENA 0922'\n",
            "   ❔ Pregunta: 'PAPELETAS EN ÁNFORA' -> Respuesta: '27'\n",
            "   ❔ Pregunta: 'PAPELETAS NO UTILIZADAS' -> Respuesta: '922'\n",
            "   ❔ Pregunta: 'PDC' -> Respuesta: 'PDC 018'\n",
            "   ❔ Pregunta: 'UNIDAD' -> Respuesta: 'UNIDAD 002'\n",
            "   ❔ Pregunta: 'VOTOS BLANCOS' -> Respuesta: '3'\n",
            "   ❔ Pregunta: 'VOTOS NULOS' -> Respuesta: '55'\n"
          ]
        },
        {
          "name": "stderr",
          "output_type": "stream",
          "text": [
            "\n",
            "Procesando Actas con Donut:  34%|███▎      | 183/545 [1:21:20<2:42:32, 26.94s/it]\u001b[A"
          ]
        },
        {
          "name": "stdout",
          "output_type": "stream",
          "text": [
            "   ❔ Pregunta: 'VOTOS VÁLIDOS' -> Respuesta: '63'\n",
            "\n",
            "--- Interrogando al acta: mesa_8_103484.jpg ---\n",
            "   ❔ Pregunta: 'AP' -> Respuesta: 'AP 020'\n",
            "   ❔ Pregunta: 'APB SÚMATE' -> Respuesta: 'APB SÚMATE 02'\n",
            "   ❔ Pregunta: 'CODIGO MESA' -> Respuesta: '830'\n",
            "   ❔ Pregunta: 'ELECTORES HABILITADOS' -> Respuesta: '3'\n",
            "   ❔ Pregunta: 'FP' -> Respuesta: 'FP 002'\n",
            "   ❔ Pregunta: 'LIBRE' -> Respuesta: 'LIBRE 008'\n",
            "   ❔ Pregunta: 'LYP ADN' -> Respuesta: 'LYP ADN 00'\n",
            "   ❔ Pregunta: 'MAS-IPSP' -> Respuesta: 'MAS-IPSP 001'\n",
            "   ❔ Pregunta: 'MESA' -> Respuesta: '830'\n",
            "   ❔ Pregunta: 'MORENA' -> Respuesta: 'MORENA 0830'\n",
            "   ❔ Pregunta: 'PAPELETAS EN ÁNFORA' -> Respuesta: '0'\n",
            "   ❔ Pregunta: 'PAPELETAS NO UTILIZADAS' -> Respuesta: '202'\n",
            "   ❔ Pregunta: 'PDC' -> Respuesta: 'PDC 013'\n",
            "   ❔ Pregunta: 'UNIDAD' -> Respuesta: 'UNIDAD 003'\n",
            "   ❔ Pregunta: 'VOTOS BLANCOS' -> Respuesta: '5'\n",
            "   ❔ Pregunta: 'VOTOS NULOS' -> Respuesta: '62'\n"
          ]
        },
        {
          "name": "stderr",
          "output_type": "stream",
          "text": [
            "\n",
            "Procesando Actas con Donut:  34%|███▍      | 184/545 [1:21:46<2:41:40, 26.87s/it]\u001b[A"
          ]
        },
        {
          "name": "stdout",
          "output_type": "stream",
          "text": [
            "   ❔ Pregunta: 'VOTOS VÁLIDOS' -> Respuesta: '51'\n",
            "\n",
            "--- Interrogando al acta: mesa_6_103464.jpg ---\n",
            "   ❔ Pregunta: 'AP' -> Respuesta: 'AP 0 15'\n",
            "   ❔ Pregunta: 'APB SÚMATE' -> Respuesta: 'APB SÚMATE 00 +'\n",
            "   ❔ Pregunta: 'CODIGO MESA' -> Respuesta: '930'\n",
            "   ❔ Pregunta: 'ELECTORES HABILITADOS' -> Respuesta: '3'\n",
            "   ❔ Pregunta: 'FP' -> Respuesta: 'FP 002'\n",
            "   ❔ Pregunta: 'LIBRE' -> Respuesta: 'LIBRE 0 1'\n",
            "   ❔ Pregunta: 'LYP ADN' -> Respuesta: 'LYP ADN 0930'\n",
            "   ❔ Pregunta: 'MAS-IPSP' -> Respuesta: 'MAS-IPSP 002'\n",
            "   ❔ Pregunta: 'MESA' -> Respuesta: '6'\n",
            "   ❔ Pregunta: 'MORENA' -> Respuesta: 'MORENA 0930'\n",
            "   ❔ Pregunta: 'PAPELETAS EN ÁNFORA' -> Respuesta: '429'\n",
            "   ❔ Pregunta: 'PAPELETAS NO UTILIZADAS' -> Respuesta: '429'\n",
            "   ❔ Pregunta: 'PDC' -> Respuesta: 'PDC 012'\n",
            "   ❔ Pregunta: 'UNIDAD' -> Respuesta: 'UNIDAD 010'\n",
            "   ❔ Pregunta: 'VOTOS BLANCOS' -> Respuesta: '4'\n",
            "   ❔ Pregunta: 'VOTOS NULOS' -> Respuesta: '66'\n"
          ]
        },
        {
          "name": "stderr",
          "output_type": "stream",
          "text": [
            "\n",
            "Procesando Actas con Donut:  34%|███▍      | 185/545 [1:22:13<2:40:58, 26.83s/it]\u001b[A"
          ]
        },
        {
          "name": "stdout",
          "output_type": "stream",
          "text": [
            "   ❔ Pregunta: 'VOTOS VÁLIDOS' -> Respuesta: '59'\n",
            "\n",
            "--- Interrogando al acta: mesa_9_103494.jpg ---\n",
            "   ❔ Pregunta: 'AP' -> Respuesta: 'AP 0.8 10'\n",
            "   ❔ Pregunta: 'APB SÚMATE' -> Respuesta: 'APB SÚMATE 0 1'\n",
            "   ❔ Pregunta: 'CODIGO MESA' -> Respuesta: '9'\n",
            "   ❔ Pregunta: 'ELECTORES HABILITADOS' -> Respuesta: '3'\n",
            "   ❔ Pregunta: 'FP' -> Respuesta: 'FP 005'\n",
            "   ❔ Pregunta: 'LIBRE' -> Respuesta: 'LIBRE 008'\n",
            "   ❔ Pregunta: 'LYP ADN' -> Respuesta: 'LYP ADN 003'\n",
            "   ❔ Pregunta: 'MAS-IPSP' -> Respuesta: 'MAS-IPSP 001'\n",
            "   ❔ Pregunta: 'MESA' -> Respuesta: '9'\n",
            "   ❔ Pregunta: 'MORENA' -> Respuesta: 'MORENA 08.10'\n",
            "   ❔ Pregunta: 'PAPELETAS EN ÁNFORA' -> Respuesta: '79'\n",
            "   ❔ Pregunta: 'PAPELETAS NO UTILIZADAS' -> Respuesta: '797'\n",
            "   ❔ Pregunta: 'PDC' -> Respuesta: 'PDC 016'\n",
            "   ❔ Pregunta: 'UNIDAD' -> Respuesta: 'UNIDAD 005'\n",
            "   ❔ Pregunta: 'VOTOS BLANCOS' -> Respuesta: '6'\n",
            "   ❔ Pregunta: 'VOTOS NULOS' -> Respuesta: '53'\n"
          ]
        },
        {
          "name": "stderr",
          "output_type": "stream",
          "text": [
            "\n",
            "Procesando Actas con Donut:  34%|███▍      | 186/545 [1:22:40<2:41:00, 26.91s/it]\u001b[A"
          ]
        },
        {
          "name": "stdout",
          "output_type": "stream",
          "text": [
            "   ❔ Pregunta: 'VOTOS VÁLIDOS' -> Respuesta: '64'\n",
            "\n",
            "--- Interrogando al acta: mesa_1_103414.jpg ---\n",
            "   ❔ Pregunta: 'AP' -> Respuesta: 'AP 0 26'\n",
            "   ❔ Pregunta: 'APB SÚMATE' -> Respuesta: 'APB SÚMATE 006'\n",
            "   ❔ Pregunta: 'CODIGO MESA' -> Respuesta: '840'\n",
            "   ❔ Pregunta: 'ELECTORES HABILITADOS' -> Respuesta: '3'\n",
            "   ❔ Pregunta: 'FP' -> Respuesta: 'FP 008'\n",
            "   ❔ Pregunta: 'LIBRE' -> Respuesta: 'LIBRE 005'\n",
            "   ❔ Pregunta: 'LYP ADN' -> Respuesta: 'LYP ADN 002'\n",
            "   ❔ Pregunta: 'MAS-IPSP' -> Respuesta: 'MAS-IPSP 004'\n",
            "   ❔ Pregunta: 'MESA' -> Respuesta: '1'\n",
            "   ❔ Pregunta: 'MORENA' -> Respuesta: 'MORENA 08 40'\n",
            "   ❔ Pregunta: 'PAPELETAS EN ÁNFORA' -> Respuesta: '24'\n",
            "   ❔ Pregunta: 'PAPELETAS NO UTILIZADAS' -> Respuesta: '840'\n",
            "   ❔ Pregunta: 'PDC' -> Respuesta: 'PDC 014'\n",
            "   ❔ Pregunta: 'UNIDAD' -> Respuesta: 'UNIDAD 0.6'\n",
            "   ❔ Pregunta: 'VOTOS BLANCOS' -> Respuesta: '6'\n",
            "   ❔ Pregunta: 'VOTOS NULOS' -> Respuesta: '64'\n"
          ]
        },
        {
          "name": "stderr",
          "output_type": "stream",
          "text": [
            "\n",
            "Procesando Actas con Donut:  34%|███▍      | 187/545 [1:23:07<2:41:04, 27.00s/it]\u001b[A"
          ]
        },
        {
          "name": "stdout",
          "output_type": "stream",
          "text": [
            "   ❔ Pregunta: 'VOTOS VÁLIDOS' -> Respuesta: '65'\n",
            "\n",
            "--- Interrogando al acta: mesa_3_103434.jpg ---\n",
            "   ❔ Pregunta: 'AP' -> Respuesta: 'AP 017'\n",
            "   ❔ Pregunta: 'APB SÚMATE' -> Respuesta: 'APB SÚMATE 009'\n",
            "   ❔ Pregunta: 'CODIGO MESA' -> Respuesta: '3'\n",
            "   ❔ Pregunta: 'ELECTORES HABILITADOS' -> Respuesta: '3'\n",
            "   ❔ Pregunta: 'FP' -> Respuesta: 'FP 012'\n",
            "   ❔ Pregunta: 'LIBRE' -> Respuesta: 'LIBRE 008'\n",
            "   ❔ Pregunta: 'LYP ADN' -> Respuesta: 'LYP ADN 001'\n",
            "   ❔ Pregunta: 'MAS-IPSP' -> Respuesta: 'MAS-IPSP 005'\n",
            "   ❔ Pregunta: 'MESA' -> Respuesta: '3'\n",
            "   ❔ Pregunta: 'MORENA' -> Respuesta: 'MORENA 08.24'\n",
            "   ❔ Pregunta: 'PAPELETAS EN ÁNFORA' -> Respuesta: '50'\n",
            "   ❔ Pregunta: 'PAPELETAS NO UTILIZADAS' -> Respuesta: '50'\n",
            "   ❔ Pregunta: 'PDC' -> Respuesta: 'PDC 017'\n",
            "   ❔ Pregunta: 'UNIDAD' -> Respuesta: 'UNIDAD 006'\n",
            "   ❔ Pregunta: 'VOTOS BLANCOS' -> Respuesta: '4'\n",
            "   ❔ Pregunta: 'VOTOS NULOS' -> Respuesta: '50'\n"
          ]
        },
        {
          "name": "stderr",
          "output_type": "stream",
          "text": [
            "\n",
            "Procesando Actas con Donut:  34%|███▍      | 188/545 [1:23:34<2:40:37, 27.00s/it]\u001b[A"
          ]
        },
        {
          "name": "stdout",
          "output_type": "stream",
          "text": [
            "   ❔ Pregunta: 'VOTOS VÁLIDOS' -> Respuesta: '66'\n",
            "\n",
            "--- Interrogando al acta: mesa_9_102624.jpg ---\n",
            "   ❔ Pregunta: 'AP' -> Respuesta: 'AP 0 1'\n",
            "   ❔ Pregunta: 'APB SÚMATE' -> Respuesta: 'APB SÚMATE MOSA: 9'\n",
            "   ❔ Pregunta: 'CODIGO MESA' -> Respuesta: '9'\n",
            "   ❔ Pregunta: 'ELECTORES HABILITADOS' -> Respuesta: '3'\n",
            "   ❔ Pregunta: 'FP' -> Respuesta: 'FP 002'\n",
            "   ❔ Pregunta: 'LIBRE' -> Respuesta: 'LIBRE 0 1'\n",
            "   ❔ Pregunta: 'LYP ADN' -> Respuesta: 'LYP ADN 001'\n",
            "   ❔ Pregunta: 'MAS-IPSP' -> Respuesta: 'MAS-IPSP 001'\n",
            "   ❔ Pregunta: 'MESA' -> Respuesta: '9'\n",
            "   ❔ Pregunta: 'MORENA' -> Respuesta: 'MORENA 7/62 63'\n",
            "   ❔ Pregunta: 'PAPELETAS EN ÁNFORA' -> Respuesta: '715'\n",
            "   ❔ Pregunta: 'PAPELETAS NO UTILIZADAS' -> Respuesta: '95'\n",
            "   ❔ Pregunta: 'PDC' -> Respuesta: 'PDC 0.13'\n",
            "   ❔ Pregunta: 'UNIDAD' -> Respuesta: 'UNIDAD 005'\n",
            "   ❔ Pregunta: 'VOTOS BLANCOS' -> Respuesta: '5'\n",
            "   ❔ Pregunta: 'VOTOS NULOS' -> Respuesta: '52'\n"
          ]
        },
        {
          "name": "stderr",
          "output_type": "stream",
          "text": [
            "\n",
            "Procesando Actas con Donut:  35%|███▍      | 189/545 [1:24:01<2:39:43, 26.92s/it]\u001b[A"
          ]
        },
        {
          "name": "stdout",
          "output_type": "stream",
          "text": [
            "   ❔ Pregunta: 'VOTOS VÁLIDOS' -> Respuesta: '58'\n",
            "\n",
            "--- Interrogando al acta: mesa_5_102584.jpg ---\n",
            "   ❔ Pregunta: 'AP' -> Respuesta: 'AP 025'\n",
            "   ❔ Pregunta: 'APB SÚMATE' -> Respuesta: 'APB SÚMATE MOSA: 5'\n",
            "   ❔ Pregunta: 'CODIGO MESA' -> Respuesta: '5'\n",
            "   ❔ Pregunta: 'ELECTORES HABILITADOS' -> Respuesta: '3'\n",
            "   ❔ Pregunta: 'FP' -> Respuesta: 'FP 008'\n",
            "   ❔ Pregunta: 'LIBRE' -> Respuesta: 'LIBRE 008'\n",
            "   ❔ Pregunta: 'LYP ADN' -> Respuesta: 'LYP ADN 004'\n",
            "   ❔ Pregunta: 'MAS-IPSP' -> Respuesta: 'MAS-IPSP 00 1'\n",
            "   ❔ Pregunta: 'MESA' -> Respuesta: '5'\n",
            "   ❔ Pregunta: 'MORENA' -> Respuesta: 'MORENA 552534'\n",
            "   ❔ Pregunta: 'PAPELETAS EN ÁNFORA' -> Respuesta: '752'\n",
            "   ❔ Pregunta: 'PAPELETAS NO UTILIZADAS' -> Respuesta: '752'\n",
            "   ❔ Pregunta: 'PDC' -> Respuesta: 'PDC 025'\n",
            "   ❔ Pregunta: 'UNIDAD' -> Respuesta: 'UNIDAD 002'\n",
            "   ❔ Pregunta: 'VOTOS BLANCOS' -> Respuesta: '7'\n",
            "   ❔ Pregunta: 'VOTOS NULOS' -> Respuesta: '63'\n"
          ]
        },
        {
          "name": "stderr",
          "output_type": "stream",
          "text": [
            "\n",
            "Procesando Actas con Donut:  35%|███▍      | 190/545 [1:24:28<2:38:43, 26.83s/it]\u001b[A"
          ]
        },
        {
          "name": "stdout",
          "output_type": "stream",
          "text": [
            "   ❔ Pregunta: 'VOTOS VÁLIDOS' -> Respuesta: '82'\n",
            "\n",
            "--- Interrogando al acta: mesa_3_102564.jpg ---\n",
            "   ❔ Pregunta: 'AP' -> Respuesta: 'AP AP'\n",
            "   ❔ Pregunta: 'APB SÚMATE' -> Respuesta: 'APB SÚMATE MOSA: 3'\n",
            "   ❔ Pregunta: 'CODIGO MESA' -> Respuesta: 'None'\n",
            "   ❔ Pregunta: 'ELECTORES HABILITADOS' -> Respuesta: 'None'\n",
            "   ❔ Pregunta: 'FP' -> Respuesta: 'FP 004'\n",
            "   ❔ Pregunta: 'LIBRE' -> Respuesta: 'LIBRE 0.24'\n",
            "   ❔ Pregunta: 'LYP ADN' -> Respuesta: 'LYP ADN AP'\n",
            "   ❔ Pregunta: 'MAS-IPSP' -> Respuesta: 'MAS-IPSP 004'\n",
            "   ❔ Pregunta: 'MESA' -> Respuesta: '3'\n",
            "   ❔ Pregunta: 'MORENA' -> Respuesta: 'MORENA 3'\n",
            "   ❔ Pregunta: 'PAPELETAS EN ÁNFORA' -> Respuesta: '17'\n",
            "   ❔ Pregunta: 'PAPELETAS NO UTILIZADAS' -> Respuesta: '127'\n",
            "   ❔ Pregunta: 'PDC' -> Respuesta: 'PDC 0830'\n",
            "   ❔ Pregunta: 'UNIDAD' -> Respuesta: 'UNIDAD 004'\n",
            "   ❔ Pregunta: 'VOTOS BLANCOS' -> Respuesta: '9'\n",
            "   ❔ Pregunta: 'VOTOS NULOS' -> Respuesta: '52'\n"
          ]
        },
        {
          "name": "stderr",
          "output_type": "stream",
          "text": [
            "\n",
            "Procesando Actas con Donut:  35%|███▌      | 191/545 [1:24:54<2:38:24, 26.85s/it]\u001b[A"
          ]
        },
        {
          "name": "stdout",
          "output_type": "stream",
          "text": [
            "   ❔ Pregunta: 'VOTOS VÁLIDOS' -> Respuesta: '9'\n",
            "\n",
            "--- Interrogando al acta: mesa_4_102574.jpg ---\n",
            "   ❔ Pregunta: 'AP' -> Respuesta: 'AP 0 27'\n",
            "   ❔ Pregunta: 'APB SÚMATE' -> Respuesta: 'APB SÚMATE 0938'\n",
            "   ❔ Pregunta: 'CODIGO MESA' -> Respuesta: '102574'\n",
            "   ❔ Pregunta: 'ELECTORES HABILITADOS' -> Respuesta: '3'\n",
            "   ❔ Pregunta: 'FP' -> Respuesta: 'FP 001'\n",
            "   ❔ Pregunta: 'LIBRE' -> Respuesta: 'LIBRE 005'\n",
            "   ❔ Pregunta: 'LYP ADN' -> Respuesta: 'LYP ADN AP'\n",
            "   ❔ Pregunta: 'MAS-IPSP' -> Respuesta: 'MAS-IPSP 009'\n",
            "   ❔ Pregunta: 'MESA' -> Respuesta: '4'\n",
            "   ❔ Pregunta: 'MORENA' -> Respuesta: 'MORENA 0938'\n",
            "   ❔ Pregunta: 'PAPELETAS EN ÁNFORA' -> Respuesta: '95'\n",
            "   ❔ Pregunta: 'PAPELETAS NO UTILIZADAS' -> Respuesta: '14'\n",
            "   ❔ Pregunta: 'PDC' -> Respuesta: 'PDC 019'\n",
            "   ❔ Pregunta: 'UNIDAD' -> Respuesta: 'UNIDAD 005'\n",
            "   ❔ Pregunta: 'VOTOS BLANCOS' -> Respuesta: '4'\n",
            "   ❔ Pregunta: 'VOTOS NULOS' -> Respuesta: '42'\n"
          ]
        },
        {
          "name": "stderr",
          "output_type": "stream",
          "text": [
            "\n",
            "Procesando Actas con Donut:  35%|███▌      | 192/545 [1:25:21<2:37:54, 26.84s/it]\u001b[A"
          ]
        },
        {
          "name": "stdout",
          "output_type": "stream",
          "text": [
            "   ❔ Pregunta: 'VOTOS VÁLIDOS' -> Respuesta: '76'\n",
            "\n",
            "--- Interrogando al acta: mesa_10_102634.jpg ---\n",
            "   ❔ Pregunta: 'AP' -> Respuesta: 'AP 020'\n",
            "   ❔ Pregunta: 'APB SÚMATE' -> Respuesta: 'APB SÚMATE 020'\n",
            "   ❔ Pregunta: 'CODIGO MESA' -> Respuesta: '10'\n",
            "   ❔ Pregunta: 'ELECTORES HABILITADOS' -> Respuesta: '3'\n",
            "   ❔ Pregunta: 'FP' -> Respuesta: 'FP A3'\n",
            "   ❔ Pregunta: 'LIBRE' -> Respuesta: 'LIBRE 020'\n",
            "   ❔ Pregunta: 'LYP ADN' -> Respuesta: 'LYP ADN 005'\n",
            "   ❔ Pregunta: 'MAS-IPSP' -> Respuesta: 'MAS-IPSP 003'\n",
            "   ❔ Pregunta: 'MESA' -> Respuesta: '10'\n",
            "   ❔ Pregunta: 'MORENA' -> Respuesta: 'MORENA 17'\n",
            "   ❔ Pregunta: 'PAPELETAS EN ÁNFORA' -> Respuesta: '114'\n",
            "   ❔ Pregunta: 'PAPELETAS NO UTILIZADAS' -> Respuesta: '117'\n",
            "   ❔ Pregunta: 'PDC' -> Respuesta: 'PDC 000'\n",
            "   ❔ Pregunta: 'UNIDAD' -> Respuesta: 'UNIDAD 002'\n",
            "   ❔ Pregunta: 'VOTOS BLANCOS' -> Respuesta: '4'\n",
            "   ❔ Pregunta: 'VOTOS NULOS' -> Respuesta: '64'\n"
          ]
        },
        {
          "name": "stderr",
          "output_type": "stream",
          "text": [
            "\n",
            "Procesando Actas con Donut:  35%|███▌      | 193/545 [1:25:48<2:36:53, 26.74s/it]\u001b[A"
          ]
        },
        {
          "name": "stdout",
          "output_type": "stream",
          "text": [
            "   ❔ Pregunta: 'VOTOS VÁLIDOS' -> Respuesta: '44'\n",
            "\n",
            "--- Interrogando al acta: mesa_2_102554.jpg ---\n",
            "   ❔ Pregunta: 'AP' -> Respuesta: 'AP 029'\n",
            "   ❔ Pregunta: 'APB SÚMATE' -> Respuesta: 'APB SÚMATE 005'\n",
            "   ❔ Pregunta: 'CODIGO MESA' -> Respuesta: 'None'\n",
            "   ❔ Pregunta: 'ELECTORES HABILITADOS' -> Respuesta: '3'\n",
            "   ❔ Pregunta: 'FP' -> Respuesta: 'FP 004'\n",
            "   ❔ Pregunta: 'LIBRE' -> Respuesta: 'LIBRE 004'\n",
            "   ❔ Pregunta: 'LYP ADN' -> Respuesta: 'LYP ADN APB SOMATE'\n",
            "   ❔ Pregunta: 'MAS-IPSP' -> Respuesta: 'MAS-IPSP 003'\n",
            "   ❔ Pregunta: 'MESA' -> Respuesta: 'None'\n",
            "   ❔ Pregunta: 'MORENA' -> Respuesta: 'MORENA 7 43'\n",
            "   ❔ Pregunta: 'PAPELETAS EN ÁNFORA' -> Respuesta: '743'\n",
            "   ❔ Pregunta: 'PAPELETAS NO UTILIZADAS' -> Respuesta: '743'\n",
            "   ❔ Pregunta: 'PDC' -> Respuesta: 'PDC 020'\n",
            "   ❔ Pregunta: 'UNIDAD' -> Respuesta: 'UNIDAD 004'\n",
            "   ❔ Pregunta: 'VOTOS BLANCOS' -> Respuesta: '8'\n",
            "   ❔ Pregunta: 'VOTOS NULOS' -> Respuesta: '63'\n"
          ]
        },
        {
          "name": "stderr",
          "output_type": "stream",
          "text": [
            "\n",
            "Procesando Actas con Donut:  36%|███▌      | 194/545 [1:26:14<2:36:09, 26.69s/it]\u001b[A"
          ]
        },
        {
          "name": "stdout",
          "output_type": "stream",
          "text": [
            "   ❔ Pregunta: 'VOTOS VÁLIDOS' -> Respuesta: '72'\n",
            "\n",
            "--- Interrogando al acta: mesa_6_102594.jpg ---\n",
            "   ❔ Pregunta: 'AP' -> Respuesta: 'AP 020'\n",
            "   ❔ Pregunta: 'APB SÚMATE' -> Respuesta: 'APB SÚMATE 0830'\n",
            "   ❔ Pregunta: 'CODIGO MESA' -> Respuesta: '6'\n",
            "   ❔ Pregunta: 'ELECTORES HABILITADOS' -> Respuesta: 'None'\n",
            "   ❔ Pregunta: 'FP' -> Respuesta: 'FP 004'\n",
            "   ❔ Pregunta: 'LIBRE' -> Respuesta: 'LIBRE MESA: 6'\n",
            "   ❔ Pregunta: 'LYP ADN' -> Respuesta: 'LYP ADN MESA: 6'\n",
            "   ❔ Pregunta: 'MAS-IPSP' -> Respuesta: 'MAS-IPSP 00'\n",
            "   ❔ Pregunta: 'MESA' -> Respuesta: '6'\n",
            "   ❔ Pregunta: 'MORENA' -> Respuesta: 'MORENA 796'\n",
            "   ❔ Pregunta: 'PAPELETAS EN ÁNFORA' -> Respuesta: '796'\n",
            "   ❔ Pregunta: 'PAPELETAS NO UTILIZADAS' -> Respuesta: '796'\n",
            "   ❔ Pregunta: 'PDC' -> Respuesta: 'PDC 028'\n",
            "   ❔ Pregunta: 'UNIDAD' -> Respuesta: 'UNIDAD 028'\n",
            "   ❔ Pregunta: 'VOTOS BLANCOS' -> Respuesta: '3'\n",
            "   ❔ Pregunta: 'VOTOS NULOS' -> Respuesta: '57'\n"
          ]
        },
        {
          "name": "stderr",
          "output_type": "stream",
          "text": [
            "\n",
            "Procesando Actas con Donut:  36%|███▌      | 195/545 [1:26:41<2:36:12, 26.78s/it]\u001b[A"
          ]
        },
        {
          "name": "stdout",
          "output_type": "stream",
          "text": [
            "   ❔ Pregunta: 'VOTOS VÁLIDOS' -> Respuesta: '70'\n",
            "\n",
            "--- Interrogando al acta: mesa_1_102544.jpg ---\n",
            "   ❔ Pregunta: 'AP' -> Respuesta: 'AP 036'\n",
            "   ❔ Pregunta: 'APB SÚMATE' -> Respuesta: 'APB SÚMATE MOSA 1'\n",
            "   ❔ Pregunta: 'CODIGO MESA' -> Respuesta: '1'\n",
            "   ❔ Pregunta: 'ELECTORES HABILITADOS' -> Respuesta: '3'\n",
            "   ❔ Pregunta: 'FP' -> Respuesta: 'FP 002'\n",
            "   ❔ Pregunta: 'LIBRE' -> Respuesta: 'LIBRE 006'\n",
            "   ❔ Pregunta: 'LYP ADN' -> Respuesta: 'LYP ADN 003'\n",
            "   ❔ Pregunta: 'MAS-IPSP' -> Respuesta: 'MAS-IPSP 004'\n",
            "   ❔ Pregunta: 'MESA' -> Respuesta: '1'\n",
            "   ❔ Pregunta: 'MORENA' -> Respuesta: 'MORENA 0.36'\n",
            "   ❔ Pregunta: 'PAPELETAS EN ÁNFORA' -> Respuesta: '450'\n",
            "   ❔ Pregunta: 'PAPELETAS NO UTILIZADAS' -> Respuesta: '470'\n",
            "   ❔ Pregunta: 'PDC' -> Respuesta: 'PDC 020'\n",
            "   ❔ Pregunta: 'UNIDAD' -> Respuesta: 'UNIDAD 005'\n",
            "   ❔ Pregunta: 'VOTOS BLANCOS' -> Respuesta: '7'\n",
            "   ❔ Pregunta: 'VOTOS NULOS' -> Respuesta: '58'\n"
          ]
        },
        {
          "name": "stderr",
          "output_type": "stream",
          "text": [
            "\n",
            "Procesando Actas con Donut:  36%|███▌      | 196/545 [1:27:08<2:35:16, 26.70s/it]\u001b[A"
          ]
        },
        {
          "name": "stdout",
          "output_type": "stream",
          "text": [
            "   ❔ Pregunta: 'VOTOS VÁLIDOS' -> Respuesta: '85'\n",
            "\n",
            "--- Interrogando al acta: mesa_8_102614.jpg ---\n",
            "   ❔ Pregunta: 'AP' -> Respuesta: 'AP 0 3'\n",
            "   ❔ Pregunta: 'APB SÚMATE' -> Respuesta: 'APB SÚMATE MOSA 8'\n",
            "   ❔ Pregunta: 'CODIGO MESA' -> Respuesta: '8'\n",
            "   ❔ Pregunta: 'ELECTORES HABILITADOS' -> Respuesta: '3'\n",
            "   ❔ Pregunta: 'FP' -> Respuesta: 'FP 0'\n",
            "   ❔ Pregunta: 'LIBRE' -> Respuesta: 'LIBRE 00 +'\n",
            "   ❔ Pregunta: 'LYP ADN' -> Respuesta: 'LYP ADN AP SIMATE'\n",
            "   ❔ Pregunta: 'MAS-IPSP' -> Respuesta: 'MAS-IPSP 003'\n",
            "   ❔ Pregunta: 'MESA' -> Respuesta: '8'\n",
            "   ❔ Pregunta: 'MORENA' -> Respuesta: 'MORENA 474'\n",
            "   ❔ Pregunta: 'PAPELETAS EN ÁNFORA' -> Respuesta: '83'\n",
            "   ❔ Pregunta: 'PAPELETAS NO UTILIZADAS' -> Respuesta: '474'\n",
            "   ❔ Pregunta: 'PDC' -> Respuesta: 'PDC 023'\n",
            "   ❔ Pregunta: 'UNIDAD' -> Respuesta: 'UNIDAD 001'\n",
            "   ❔ Pregunta: 'VOTOS BLANCOS' -> Respuesta: '7'\n",
            "   ❔ Pregunta: 'VOTOS NULOS' -> Respuesta: '63'\n"
          ]
        },
        {
          "name": "stderr",
          "output_type": "stream",
          "text": [
            "\n",
            "Procesando Actas con Donut:  36%|███▌      | 197/545 [1:27:34<2:34:19, 26.61s/it]\u001b[A"
          ]
        },
        {
          "name": "stdout",
          "output_type": "stream",
          "text": [
            "   ❔ Pregunta: 'VOTOS VÁLIDOS' -> Respuesta: '75'\n",
            "\n",
            "--- Interrogando al acta: mesa_7_102604.jpg ---\n",
            "   ❔ Pregunta: 'AP' -> Respuesta: 'AP 0.28'\n",
            "   ❔ Pregunta: 'APB SÚMATE' -> Respuesta: 'APB SÚMATE 0.22'\n",
            "   ❔ Pregunta: 'CODIGO MESA' -> Respuesta: '7'\n",
            "   ❔ Pregunta: 'ELECTORES HABILITADOS' -> Respuesta: '3'\n",
            "   ❔ Pregunta: 'FP' -> Respuesta: 'FP A3'\n",
            "   ❔ Pregunta: 'LIBRE' -> Respuesta: 'LIBRE 0.22'\n",
            "   ❔ Pregunta: 'LYP ADN' -> Respuesta: 'LYP ADN 028'\n",
            "   ❔ Pregunta: 'MAS-IPSP' -> Respuesta: 'MAS-IPSP 008'\n",
            "   ❔ Pregunta: 'MESA' -> Respuesta: '7'\n",
            "   ❔ Pregunta: 'MORENA' -> Respuesta: 'MORENA 0.28'\n",
            "   ❔ Pregunta: 'PAPELETAS EN ÁNFORA' -> Respuesta: '28'\n",
            "   ❔ Pregunta: 'PAPELETAS NO UTILIZADAS' -> Respuesta: '28'\n",
            "   ❔ Pregunta: 'PDC' -> Respuesta: 'PDC 0.15'\n",
            "   ❔ Pregunta: 'UNIDAD' -> Respuesta: 'UNIDAD 0.28'\n",
            "   ❔ Pregunta: 'VOTOS BLANCOS' -> Respuesta: '48'\n",
            "   ❔ Pregunta: 'VOTOS NULOS' -> Respuesta: '28'\n"
          ]
        },
        {
          "name": "stderr",
          "output_type": "stream",
          "text": [
            "\n",
            "Procesando Actas con Donut:  36%|███▋      | 198/545 [1:28:01<2:34:33, 26.73s/it]\u001b[A"
          ]
        },
        {
          "name": "stdout",
          "output_type": "stream",
          "text": [
            "   ❔ Pregunta: 'VOTOS VÁLIDOS' -> Respuesta: '72'\n",
            "\n",
            "--- Interrogando al acta: mesa_2_104044.jpg ---\n",
            "   ❔ Pregunta: 'AP' -> Respuesta: 'AP 0.9'\n",
            "   ❔ Pregunta: 'APB SÚMATE' -> Respuesta: 'APB SÚMATE MOSA: 2'\n",
            "   ❔ Pregunta: 'CODIGO MESA' -> Respuesta: '2'\n",
            "   ❔ Pregunta: 'ELECTORES HABILITADOS' -> Respuesta: '3'\n",
            "   ❔ Pregunta: 'FP' -> Respuesta: 'FP 000'\n",
            "   ❔ Pregunta: 'LIBRE' -> Respuesta: 'LIBRE 0.8'\n",
            "   ❔ Pregunta: 'LYP ADN' -> Respuesta: 'LYP ADN 0870'\n",
            "   ❔ Pregunta: 'MAS-IPSP' -> Respuesta: 'MAS-IPSP 004'\n",
            "   ❔ Pregunta: 'MESA' -> Respuesta: '2'\n",
            "   ❔ Pregunta: 'MORENA' -> Respuesta: 'MORENA 0870'\n",
            "   ❔ Pregunta: 'PAPELETAS EN ÁNFORA' -> Respuesta: '24'\n",
            "   ❔ Pregunta: 'PAPELETAS NO UTILIZADAS' -> Respuesta: '2'\n",
            "   ❔ Pregunta: 'PDC' -> Respuesta: 'PDC 021'\n",
            "   ❔ Pregunta: 'UNIDAD' -> Respuesta: 'UNIDAD 003'\n",
            "   ❔ Pregunta: 'VOTOS BLANCOS' -> Respuesta: '12'\n",
            "   ❔ Pregunta: 'VOTOS NULOS' -> Respuesta: '2'\n"
          ]
        },
        {
          "name": "stderr",
          "output_type": "stream",
          "text": [
            "\n",
            "Procesando Actas con Donut:  37%|███▋      | 199/545 [1:28:28<2:33:51, 26.68s/it]\u001b[A"
          ]
        },
        {
          "name": "stdout",
          "output_type": "stream",
          "text": [
            "   ❔ Pregunta: 'VOTOS VÁLIDOS' -> Respuesta: '60'\n",
            "\n",
            "--- Interrogando al acta: mesa_1_104034.jpg ---\n",
            "   ❔ Pregunta: 'AP' -> Respuesta: 'AP 0.16'\n",
            "   ❔ Pregunta: 'APB SÚMATE' -> Respuesta: 'APB SÚMATE MOSA 1'\n",
            "   ❔ Pregunta: 'CODIGO MESA' -> Respuesta: '1'\n",
            "   ❔ Pregunta: 'ELECTORES HABILITADOS' -> Respuesta: '3'\n",
            "   ❔ Pregunta: 'FP' -> Respuesta: 'FP 005'\n",
            "   ❔ Pregunta: 'LIBRE' -> Respuesta: 'LIBRE 0.16'\n",
            "   ❔ Pregunta: 'LYP ADN' -> Respuesta: 'LYP ADN APS COMATE'\n",
            "   ❔ Pregunta: 'MAS-IPSP' -> Respuesta: 'MAS-IPSP 005'\n",
            "   ❔ Pregunta: 'MESA' -> Respuesta: '1'\n",
            "   ❔ Pregunta: 'MORENA' -> Respuesta: 'MORENA 0.14'\n",
            "   ❔ Pregunta: 'PAPELETAS EN ÁNFORA' -> Respuesta: '16'\n",
            "   ❔ Pregunta: 'PAPELETAS NO UTILIZADAS' -> Respuesta: '810'\n",
            "   ❔ Pregunta: 'PDC' -> Respuesta: 'PDC 0.27'\n",
            "   ❔ Pregunta: 'UNIDAD' -> Respuesta: 'UNIDAD 0.16'\n",
            "   ❔ Pregunta: 'VOTOS BLANCOS' -> Respuesta: '5'\n",
            "   ❔ Pregunta: 'VOTOS NULOS' -> Respuesta: '69'\n"
          ]
        },
        {
          "name": "stderr",
          "output_type": "stream",
          "text": [
            "\n",
            "Procesando Actas con Donut:  37%|███▋      | 200/545 [1:28:54<2:33:13, 26.65s/it]\u001b[A"
          ]
        },
        {
          "name": "stdout",
          "output_type": "stream",
          "text": [
            "   ❔ Pregunta: 'VOTOS VÁLIDOS' -> Respuesta: '69'\n",
            "\n",
            "--- Interrogando al acta: mesa_5_104074.jpg ---\n",
            "   ❔ Pregunta: 'AP' -> Respuesta: 'AP G LOUIS'\n",
            "   ❔ Pregunta: 'APB SÚMATE' -> Respuesta: 'APB SÚMATE NOV 4TH'\n",
            "   ❔ Pregunta: 'CODIGO MESA' -> Respuesta: '900'\n",
            "   ❔ Pregunta: 'ELECTORES HABILITADOS' -> Respuesta: 'None'\n",
            "   ❔ Pregunta: 'FP' -> Respuesta: 'FP 00'\n",
            "   ❔ Pregunta: 'LIBRE' -> Respuesta: 'LIBRE SPORTS OF SONITY SOLON'\n",
            "   ❔ Pregunta: 'LYP ADN' -> Respuesta: 'LYP ADN 00'\n",
            "   ❔ Pregunta: 'MAS-IPSP' -> Respuesta: 'MAS-IPSP WWW.GOV'\n",
            "   ❔ Pregunta: 'MESA' -> Respuesta: '0'\n",
            "   ❔ Pregunta: 'MORENA' -> Respuesta: 'MORENA SPORTSHOCKEY'\n",
            "   ❔ Pregunta: 'PAPELETAS EN ÁNFORA' -> Respuesta: '0'\n",
            "   ❔ Pregunta: 'PAPELETAS NO UTILIZADAS' -> Respuesta: '0'\n",
            "   ❔ Pregunta: 'PDC' -> Respuesta: 'PDC 00'\n",
            "   ❔ Pregunta: 'UNIDAD' -> Respuesta: 'UNIDAD 00'\n",
            "   ❔ Pregunta: 'VOTOS BLANCOS' -> Respuesta: '4'\n",
            "   ❔ Pregunta: 'VOTOS NULOS' -> Respuesta: '0'\n"
          ]
        },
        {
          "name": "stderr",
          "output_type": "stream",
          "text": [
            "\n",
            "Procesando Actas con Donut:  37%|███▋      | 201/545 [1:29:21<2:32:15, 26.56s/it]\u001b[A"
          ]
        },
        {
          "name": "stdout",
          "output_type": "stream",
          "text": [
            "   ❔ Pregunta: 'VOTOS VÁLIDOS' -> Respuesta: '0'\n",
            "\n",
            "--- Interrogando al acta: mesa_4_104064.jpg ---\n",
            "   ❔ Pregunta: 'AP' -> Respuesta: 'AP 0.91'\n",
            "   ❔ Pregunta: 'APB SÚMATE' -> Respuesta: 'APB SÚMATE MESA 4'\n",
            "   ❔ Pregunta: 'CODIGO MESA' -> Respuesta: '4'\n",
            "   ❔ Pregunta: 'ELECTORES HABILITADOS' -> Respuesta: '1'\n",
            "   ❔ Pregunta: 'FP' -> Respuesta: 'FP 001'\n",
            "   ❔ Pregunta: 'LIBRE' -> Respuesta: 'LIBRE MESA 4'\n",
            "   ❔ Pregunta: 'LYP ADN' -> Respuesta: 'LYP ADN 0810'\n",
            "   ❔ Pregunta: 'MAS-IPSP' -> Respuesta: 'MAS-IPSP 001'\n",
            "   ❔ Pregunta: 'MESA' -> Respuesta: '4'\n",
            "   ❔ Pregunta: 'MORENA' -> Respuesta: 'MORENA 0810'\n",
            "   ❔ Pregunta: 'PAPELETAS EN ÁNFORA' -> Respuesta: '50'\n",
            "   ❔ Pregunta: 'PAPELETAS NO UTILIZADAS' -> Respuesta: '50'\n",
            "   ❔ Pregunta: 'PDC' -> Respuesta: 'PDC 009'\n",
            "   ❔ Pregunta: 'UNIDAD' -> Respuesta: 'UNIDAD 0.10'\n",
            "   ❔ Pregunta: 'VOTOS BLANCOS' -> Respuesta: '6'\n",
            "   ❔ Pregunta: 'VOTOS NULOS' -> Respuesta: '59'\n"
          ]
        },
        {
          "name": "stderr",
          "output_type": "stream",
          "text": [
            "\n",
            "Procesando Actas con Donut:  37%|███▋      | 202/545 [1:29:48<2:32:29, 26.67s/it]\u001b[A"
          ]
        },
        {
          "name": "stdout",
          "output_type": "stream",
          "text": [
            "   ❔ Pregunta: 'VOTOS VÁLIDOS' -> Respuesta: '51'\n",
            "\n",
            "--- Interrogando al acta: mesa_3_104054.jpg ---\n",
            "   ❔ Pregunta: 'AP' -> Respuesta: 'AP 0.18'\n",
            "   ❔ Pregunta: 'APB SÚMATE' -> Respuesta: 'APB SÚMATE 0.81'\n",
            "   ❔ Pregunta: 'CODIGO MESA' -> Respuesta: '3'\n",
            "   ❔ Pregunta: 'ELECTORES HABILITADOS' -> Respuesta: '3'\n",
            "   ❔ Pregunta: 'FP' -> Respuesta: 'FP 004'\n",
            "   ❔ Pregunta: 'LIBRE' -> Respuesta: 'LIBRE 0.18'\n",
            "   ❔ Pregunta: 'LYP ADN' -> Respuesta: 'LYP ADN 0.8'\n",
            "   ❔ Pregunta: 'MAS-IPSP' -> Respuesta: 'MAS-IPSP 0.94'\n",
            "   ❔ Pregunta: 'MESA' -> Respuesta: '3'\n",
            "   ❔ Pregunta: 'MORENA' -> Respuesta: 'MORENA 716'\n",
            "   ❔ Pregunta: 'PAPELETAS EN ÁNFORA' -> Respuesta: '28'\n",
            "   ❔ Pregunta: 'PAPELETAS NO UTILIZADAS' -> Respuesta: '8'\n",
            "   ❔ Pregunta: 'PDC' -> Respuesta: 'PDC 018'\n",
            "   ❔ Pregunta: 'UNIDAD' -> Respuesta: 'UNIDAD 003'\n",
            "   ❔ Pregunta: 'VOTOS BLANCOS' -> Respuesta: '4'\n",
            "   ❔ Pregunta: 'VOTOS NULOS' -> Respuesta: '60'\n"
          ]
        },
        {
          "name": "stderr",
          "output_type": "stream",
          "text": [
            "\n",
            "Procesando Actas con Donut:  37%|███▋      | 203/545 [1:30:14<2:32:03, 26.68s/it]\u001b[A"
          ]
        },
        {
          "name": "stdout",
          "output_type": "stream",
          "text": [
            "   ❔ Pregunta: 'VOTOS VÁLIDOS' -> Respuesta: '52'\n",
            "\n",
            "--- Interrogando al acta: mesa_10_101804.jpg ---\n",
            "   ❔ Pregunta: 'AP' -> Respuesta: 'AP 0 1 7'\n",
            "   ❔ Pregunta: 'APB SÚMATE' -> Respuesta: 'APB SÚMATE 0 1'\n",
            "   ❔ Pregunta: 'CODIGO MESA' -> Respuesta: '10'\n",
            "   ❔ Pregunta: 'ELECTORES HABILITADOS' -> Respuesta: '3'\n",
            "   ❔ Pregunta: 'FP' -> Respuesta: 'FP 007'\n",
            "   ❔ Pregunta: 'LIBRE' -> Respuesta: 'LIBRE 0 1'\n",
            "   ❔ Pregunta: 'LYP ADN' -> Respuesta: 'LYP ADN APS SOMATE'\n",
            "   ❔ Pregunta: 'MAS-IPSP' -> Respuesta: 'MAS-IPSP 004'\n",
            "   ❔ Pregunta: 'MESA' -> Respuesta: '10'\n",
            "   ❔ Pregunta: 'MORENA' -> Respuesta: 'MORENA 430'\n",
            "   ❔ Pregunta: 'PAPELETAS EN ÁNFORA' -> Respuesta: '83'\n",
            "   ❔ Pregunta: 'PAPELETAS NO UTILIZADAS' -> Respuesta: '83'\n",
            "   ❔ Pregunta: 'PDC' -> Respuesta: 'PDC 0 26'\n",
            "   ❔ Pregunta: 'UNIDAD' -> Respuesta: 'UNIDAD 0.26'\n",
            "   ❔ Pregunta: 'VOTOS BLANCOS' -> Respuesta: '3'\n",
            "   ❔ Pregunta: 'VOTOS NULOS' -> Respuesta: '44'\n"
          ]
        },
        {
          "name": "stderr",
          "output_type": "stream",
          "text": [
            "\n",
            "Procesando Actas con Donut:  37%|███▋      | 204/545 [1:30:41<2:31:19, 26.63s/it]\u001b[A"
          ]
        },
        {
          "name": "stdout",
          "output_type": "stream",
          "text": [
            "   ❔ Pregunta: 'VOTOS VÁLIDOS' -> Respuesta: '83'\n",
            "\n",
            "--- Interrogando al acta: mesa_2_101834.jpg ---\n",
            "   ❔ Pregunta: 'AP' -> Respuesta: 'AP 016'\n",
            "   ❔ Pregunta: 'APB SÚMATE' -> Respuesta: 'APB SÚMATE MOSA: 2'\n",
            "   ❔ Pregunta: 'CODIGO MESA' -> Respuesta: '101834'\n",
            "   ❔ Pregunta: 'ELECTORES HABILITADOS' -> Respuesta: '3'\n",
            "   ❔ Pregunta: 'FP' -> Respuesta: 'FP 003'\n",
            "   ❔ Pregunta: 'LIBRE' -> Respuesta: 'LIBRE 0.9'\n",
            "   ❔ Pregunta: 'LYP ADN' -> Respuesta: 'LYP ADN APB SUMATE'\n",
            "   ❔ Pregunta: 'MAS-IPSP' -> Respuesta: 'MAS-IPSP 00 2'\n",
            "   ❔ Pregunta: 'MESA' -> Respuesta: '2'\n",
            "   ❔ Pregunta: 'MORENA' -> Respuesta: 'MORENA 0.9'\n",
            "   ❔ Pregunta: 'PAPELETAS EN ÁNFORA' -> Respuesta: '45'\n",
            "   ❔ Pregunta: 'PAPELETAS NO UTILIZADAS' -> Respuesta: '18'\n",
            "   ❔ Pregunta: 'PDC' -> Respuesta: 'PDC 035'\n",
            "   ❔ Pregunta: 'UNIDAD' -> Respuesta: 'UNIDAD 0 9'\n",
            "   ❔ Pregunta: 'VOTOS BLANCOS' -> Respuesta: '3'\n",
            "   ❔ Pregunta: 'VOTOS NULOS' -> Respuesta: '49'\n"
          ]
        },
        {
          "name": "stderr",
          "output_type": "stream",
          "text": [
            "\n",
            "Procesando Actas con Donut:  38%|███▊      | 205/545 [1:31:08<2:31:29, 26.73s/it]\u001b[A"
          ]
        },
        {
          "name": "stdout",
          "output_type": "stream",
          "text": [
            "   ❔ Pregunta: 'VOTOS VÁLIDOS' -> Respuesta: '92'\n",
            "\n",
            "--- Interrogando al acta: mesa_8_101784.jpg ---\n",
            "   ❔ Pregunta: 'AP' -> Respuesta: 'AP 025'\n",
            "   ❔ Pregunta: 'APB SÚMATE' -> Respuesta: 'APB SÚMATE 08.00'\n",
            "   ❔ Pregunta: 'CODIGO MESA' -> Respuesta: '8'\n",
            "   ❔ Pregunta: 'ELECTORES HABILITADOS' -> Respuesta: '3'\n",
            "   ❔ Pregunta: 'FP' -> Respuesta: 'FP 08.00'\n",
            "   ❔ Pregunta: 'LIBRE' -> Respuesta: 'LIBRE 08.00'\n",
            "   ❔ Pregunta: 'LYP ADN' -> Respuesta: 'LYP ADN 080'\n",
            "   ❔ Pregunta: 'MAS-IPSP' -> Respuesta: 'MAS-IPSP 08.00'\n",
            "   ❔ Pregunta: 'MESA' -> Respuesta: '8'\n",
            "   ❔ Pregunta: 'MORENA' -> Respuesta: 'MORENA 061'\n",
            "   ❔ Pregunta: 'PAPELETAS EN ÁNFORA' -> Respuesta: '800'\n",
            "   ❔ Pregunta: 'PAPELETAS NO UTILIZADAS' -> Respuesta: '800'\n",
            "   ❔ Pregunta: 'PDC' -> Respuesta: 'PDC 031'\n",
            "   ❔ Pregunta: 'UNIDAD' -> Respuesta: 'UNIDAD 0.9'\n",
            "   ❔ Pregunta: 'VOTOS BLANCOS' -> Respuesta: '4'\n",
            "   ❔ Pregunta: 'VOTOS NULOS' -> Respuesta: '41'\n"
          ]
        },
        {
          "name": "stderr",
          "output_type": "stream",
          "text": [
            "\n",
            "Procesando Actas con Donut:  38%|███▊      | 206/545 [1:31:34<2:30:27, 26.63s/it]\u001b[A"
          ]
        },
        {
          "name": "stdout",
          "output_type": "stream",
          "text": [
            "   ❔ Pregunta: 'VOTOS VÁLIDOS' -> Respuesta: '61'\n",
            "\n",
            "--- Interrogando al acta: mesa_1_101824.jpg ---\n",
            "   ❔ Pregunta: 'AP' -> Respuesta: 'AP 0.23'\n",
            "   ❔ Pregunta: 'APB SÚMATE' -> Respuesta: 'APB SÚMATE MESA:1'\n",
            "   ❔ Pregunta: 'CODIGO MESA' -> Respuesta: 'None'\n",
            "   ❔ Pregunta: 'ELECTORES HABILITADOS' -> Respuesta: '3'\n",
            "   ❔ Pregunta: 'FP' -> Respuesta: 'FP 003'\n",
            "   ❔ Pregunta: 'LIBRE' -> Respuesta: 'LIBRE 015'\n",
            "   ❔ Pregunta: 'LYP ADN' -> Respuesta: 'LYP ADN APB SOMATE'\n",
            "   ❔ Pregunta: 'MAS-IPSP' -> Respuesta: 'MAS-IPSP 001'\n",
            "   ❔ Pregunta: 'MESA' -> Respuesta: '1'\n",
            "   ❔ Pregunta: 'MORENA' -> Respuesta: 'MORENA 0.15'\n",
            "   ❔ Pregunta: 'PAPELETAS EN ÁNFORA' -> Respuesta: '739'\n",
            "   ❔ Pregunta: 'PAPELETAS NO UTILIZADAS' -> Respuesta: '484'\n",
            "   ❔ Pregunta: 'PDC' -> Respuesta: 'PDC 0.22'\n",
            "   ❔ Pregunta: 'UNIDAD' -> Respuesta: 'UNIDAD 009'\n",
            "   ❔ Pregunta: 'VOTOS BLANCOS' -> Respuesta: '5'\n",
            "   ❔ Pregunta: 'VOTOS NULOS' -> Respuesta: '47'\n"
          ]
        },
        {
          "name": "stderr",
          "output_type": "stream",
          "text": [
            "\n",
            "Procesando Actas con Donut:  38%|███▊      | 207/545 [1:32:01<2:30:23, 26.70s/it]\u001b[A"
          ]
        },
        {
          "name": "stdout",
          "output_type": "stream",
          "text": [
            "   ❔ Pregunta: 'VOTOS VÁLIDOS' -> Respuesta: '887'\n",
            "\n",
            "--- Interrogando al acta: mesa_5_101864.jpg ---\n",
            "   ❔ Pregunta: 'AP' -> Respuesta: 'AP A3'\n",
            "   ❔ Pregunta: 'APB SÚMATE' -> Respuesta: 'APB SÚMATE 06'\n",
            "   ❔ Pregunta: 'CODIGO MESA' -> Respuesta: '5'\n",
            "   ❔ Pregunta: 'ELECTORES HABILITADOS' -> Respuesta: '3'\n",
            "   ❔ Pregunta: 'FP' -> Respuesta: 'FP A3'\n",
            "   ❔ Pregunta: 'LIBRE' -> Respuesta: 'LIBRE A3'\n",
            "   ❔ Pregunta: 'LYP ADN' -> Respuesta: 'LYP ADN 06'\n",
            "   ❔ Pregunta: 'MAS-IPSP' -> Respuesta: 'MAS-IPSP 69.15'\n",
            "   ❔ Pregunta: 'MESA' -> Respuesta: '5'\n",
            "   ❔ Pregunta: 'MORENA' -> Respuesta: 'MORENA 794'\n",
            "   ❔ Pregunta: 'PAPELETAS EN ÁNFORA' -> Respuesta: '28'\n",
            "   ❔ Pregunta: 'PAPELETAS NO UTILIZADAS' -> Respuesta: '28'\n",
            "   ❔ Pregunta: 'PDC' -> Respuesta: 'PDC 0.28'\n",
            "   ❔ Pregunta: 'UNIDAD' -> Respuesta: 'UNIDAD 0.28'\n",
            "   ❔ Pregunta: 'VOTOS BLANCOS' -> Respuesta: '1'\n",
            "   ❔ Pregunta: 'VOTOS NULOS' -> Respuesta: '82'\n"
          ]
        },
        {
          "name": "stderr",
          "output_type": "stream",
          "text": [
            "\n",
            "Procesando Actas con Donut:  38%|███▊      | 208/545 [1:32:28<2:29:49, 26.68s/it]\u001b[A"
          ]
        },
        {
          "name": "stdout",
          "output_type": "stream",
          "text": [
            "   ❔ Pregunta: 'VOTOS VÁLIDOS' -> Respuesta: '82'\n",
            "\n",
            "--- Interrogando al acta: mesa_4_101854.jpg ---\n",
            "   ❔ Pregunta: 'AP' -> Respuesta: 'AP 0.43'\n",
            "   ❔ Pregunta: 'APB SÚMATE' -> Respuesta: 'APB SÚMATE 042'\n",
            "   ❔ Pregunta: 'CODIGO MESA' -> Respuesta: '4'\n",
            "   ❔ Pregunta: 'ELECTORES HABILITADOS' -> Respuesta: '3'\n",
            "   ❔ Pregunta: 'FP' -> Respuesta: 'FP 0.13'\n",
            "   ❔ Pregunta: 'LIBRE' -> Respuesta: 'LIBRE 0.83'\n",
            "   ❔ Pregunta: 'LYP ADN' -> Respuesta: 'LYP ADN 003'\n",
            "   ❔ Pregunta: 'MAS-IPSP' -> Respuesta: 'MAS-IPSP 0.8 5'\n",
            "   ❔ Pregunta: 'MESA' -> Respuesta: '4'\n",
            "   ❔ Pregunta: 'MORENA' -> Respuesta: 'MORENA 749'\n",
            "   ❔ Pregunta: 'PAPELETAS EN ÁNFORA' -> Respuesta: '83'\n",
            "   ❔ Pregunta: 'PAPELETAS NO UTILIZADAS' -> Respuesta: '85'\n",
            "   ❔ Pregunta: 'PDC' -> Respuesta: 'PDC 024'\n",
            "   ❔ Pregunta: 'UNIDAD' -> Respuesta: 'UNIDAD 0.83'\n",
            "   ❔ Pregunta: 'VOTOS BLANCOS' -> Respuesta: '3'\n",
            "   ❔ Pregunta: 'VOTOS NULOS' -> Respuesta: '39'\n"
          ]
        },
        {
          "name": "stderr",
          "output_type": "stream",
          "text": [
            "\n",
            "Procesando Actas con Donut:  38%|███▊      | 209/545 [1:32:54<2:29:09, 26.64s/it]\u001b[A"
          ]
        },
        {
          "name": "stdout",
          "output_type": "stream",
          "text": [
            "   ❔ Pregunta: 'VOTOS VÁLIDOS' -> Respuesta: '39'\n",
            "\n",
            "--- Interrogando al acta: mesa_6_101764.jpg ---\n",
            "   ❔ Pregunta: 'AP' -> Respuesta: 'AP 0 2'\n",
            "   ❔ Pregunta: 'APB SÚMATE' -> Respuesta: 'APB SÚMATE MOSA 6'\n",
            "   ❔ Pregunta: 'CODIGO MESA' -> Respuesta: '6'\n",
            "   ❔ Pregunta: 'ELECTORES HABILITADOS' -> Respuesta: '3'\n",
            "   ❔ Pregunta: 'FP' -> Respuesta: 'FP 004'\n",
            "   ❔ Pregunta: 'LIBRE' -> Respuesta: 'LIBRE 0 1 2'\n",
            "   ❔ Pregunta: 'LYP ADN' -> Respuesta: 'LYP ADN APB SUMATE'\n",
            "   ❔ Pregunta: 'MAS-IPSP' -> Respuesta: 'MAS-IPSP 0.02'\n",
            "   ❔ Pregunta: 'MESA' -> Respuesta: '6'\n",
            "   ❔ Pregunta: 'MORENA' -> Respuesta: 'MORENA 004'\n",
            "   ❔ Pregunta: 'PAPELETAS EN ÁNFORA' -> Respuesta: '0'\n",
            "   ❔ Pregunta: 'PAPELETAS NO UTILIZADAS' -> Respuesta: '820'\n",
            "   ❔ Pregunta: 'PDC' -> Respuesta: 'PDC 019'\n",
            "   ❔ Pregunta: 'UNIDAD' -> Respuesta: 'UNIDAD 009'\n",
            "   ❔ Pregunta: 'VOTOS BLANCOS' -> Respuesta: '26'\n",
            "   ❔ Pregunta: 'VOTOS NULOS' -> Respuesta: '46'\n"
          ]
        },
        {
          "name": "stderr",
          "output_type": "stream",
          "text": [
            "\n",
            "Procesando Actas con Donut:  39%|███▊      | 210/545 [1:33:21<2:28:39, 26.62s/it]\u001b[A"
          ]
        },
        {
          "name": "stdout",
          "output_type": "stream",
          "text": [
            "   ❔ Pregunta: 'VOTOS VÁLIDOS' -> Respuesta: '84'\n",
            "\n",
            "--- Interrogando al acta: mesa_3_101844.jpg ---\n",
            "   ❔ Pregunta: 'AP' -> Respuesta: 'AP 029'\n",
            "   ❔ Pregunta: 'APB SÚMATE' -> Respuesta: 'APB SÚMATE 0910'\n",
            "   ❔ Pregunta: 'CODIGO MESA' -> Respuesta: '3'\n",
            "   ❔ Pregunta: 'ELECTORES HABILITADOS' -> Respuesta: '3'\n",
            "   ❔ Pregunta: 'FP' -> Respuesta: 'FP 008'\n",
            "   ❔ Pregunta: 'LIBRE' -> Respuesta: 'LIBRE 0910'\n",
            "   ❔ Pregunta: 'LYP ADN' -> Respuesta: 'LYP ADN 00'\n",
            "   ❔ Pregunta: 'MAS-IPSP' -> Respuesta: 'MAS-IPSP 005'\n",
            "   ❔ Pregunta: 'MESA' -> Respuesta: '3'\n",
            "   ❔ Pregunta: 'MORENA' -> Respuesta: 'MORENA 0910'\n",
            "   ❔ Pregunta: 'PAPELETAS EN ÁNFORA' -> Respuesta: '28'\n",
            "   ❔ Pregunta: 'PAPELETAS NO UTILIZADAS' -> Respuesta: '8'\n",
            "   ❔ Pregunta: 'PDC' -> Respuesta: 'PDC 028'\n",
            "   ❔ Pregunta: 'UNIDAD' -> Respuesta: 'UNIDAD 005'\n",
            "   ❔ Pregunta: 'VOTOS BLANCOS' -> Respuesta: '4'\n",
            "   ❔ Pregunta: 'VOTOS NULOS' -> Respuesta: '60'\n"
          ]
        },
        {
          "name": "stderr",
          "output_type": "stream",
          "text": [
            "\n",
            "Procesando Actas con Donut:  39%|███▊      | 211/545 [1:33:48<2:28:48, 26.73s/it]\u001b[A"
          ]
        },
        {
          "name": "stdout",
          "output_type": "stream",
          "text": [
            "   ❔ Pregunta: 'VOTOS VÁLIDOS' -> Respuesta: '81'\n",
            "\n",
            "--- Interrogando al acta: mesa_11_101814.jpg ---\n",
            "   ❔ Pregunta: 'AP' -> Respuesta: 'AP A3'\n",
            "   ❔ Pregunta: 'APB SÚMATE' -> Respuesta: 'APB SÚMATE OEP'\n",
            "   ❔ Pregunta: 'CODIGO MESA' -> Respuesta: '11'\n",
            "   ❔ Pregunta: 'ELECTORES HABILITADOS' -> Respuesta: '1'\n",
            "   ❔ Pregunta: 'FP' -> Respuesta: 'FP 0.81'\n",
            "   ❔ Pregunta: 'LIBRE' -> Respuesta: 'LIBRE MESA'\n",
            "   ❔ Pregunta: 'LYP ADN' -> Respuesta: 'LYP ADN OEP'\n",
            "   ❔ Pregunta: 'MAS-IPSP' -> Respuesta: 'MAS-IPSP 001'\n",
            "   ❔ Pregunta: 'MESA' -> Respuesta: '11'\n",
            "   ❔ Pregunta: 'MORENA' -> Respuesta: 'MORENA 041'\n",
            "   ❔ Pregunta: 'PAPELETAS EN ÁNFORA' -> Respuesta: '41'\n",
            "   ❔ Pregunta: 'PAPELETAS NO UTILIZADAS' -> Respuesta: '41'\n",
            "   ❔ Pregunta: 'PDC' -> Respuesta: 'PDC 005'\n",
            "   ❔ Pregunta: 'UNIDAD' -> Respuesta: 'UNIDAD 041'\n",
            "   ❔ Pregunta: 'VOTOS BLANCOS' -> Respuesta: '1'\n",
            "   ❔ Pregunta: 'VOTOS NULOS' -> Respuesta: '14'\n"
          ]
        },
        {
          "name": "stderr",
          "output_type": "stream",
          "text": [
            "\n",
            "Procesando Actas con Donut:  39%|███▉      | 212/545 [1:34:15<2:28:37, 26.78s/it]\u001b[A"
          ]
        },
        {
          "name": "stdout",
          "output_type": "stream",
          "text": [
            "   ❔ Pregunta: 'VOTOS VÁLIDOS' -> Respuesta: '26'\n",
            "\n",
            "--- Interrogando al acta: mesa_7_101774.jpg ---\n",
            "   ❔ Pregunta: 'AP' -> Respuesta: 'AP 0.19'\n",
            "   ❔ Pregunta: 'APB SÚMATE' -> Respuesta: 'APB SÚMATE 043'\n",
            "   ❔ Pregunta: 'CODIGO MESA' -> Respuesta: '7'\n",
            "   ❔ Pregunta: 'ELECTORES HABILITADOS' -> Respuesta: '3'\n",
            "   ❔ Pregunta: 'FP' -> Respuesta: 'FP 004'\n",
            "   ❔ Pregunta: 'LIBRE' -> Respuesta: 'LIBRE 015'\n",
            "   ❔ Pregunta: 'LYP ADN' -> Respuesta: 'LYP ADN APS COMATE'\n",
            "   ❔ Pregunta: 'MAS-IPSP' -> Respuesta: 'MAS-IPSP 004'\n",
            "   ❔ Pregunta: 'MESA' -> Respuesta: '7'\n",
            "   ❔ Pregunta: 'MORENA' -> Respuesta: 'MORENA 7'\n",
            "   ❔ Pregunta: 'PAPELETAS EN ÁNFORA' -> Respuesta: '99'\n",
            "   ❔ Pregunta: 'PAPELETAS NO UTILIZADAS' -> Respuesta: '99'\n",
            "   ❔ Pregunta: 'PDC' -> Respuesta: 'PDC 018'\n",
            "   ❔ Pregunta: 'UNIDAD' -> Respuesta: 'UNIDAD 011'\n",
            "   ❔ Pregunta: 'VOTOS BLANCOS' -> Respuesta: '3'\n",
            "   ❔ Pregunta: 'VOTOS NULOS' -> Respuesta: '99'\n"
          ]
        },
        {
          "name": "stderr",
          "output_type": "stream",
          "text": [
            "\n",
            "Procesando Actas con Donut:  39%|███▉      | 213/545 [1:34:42<2:28:32, 26.85s/it]\u001b[A"
          ]
        },
        {
          "name": "stdout",
          "output_type": "stream",
          "text": [
            "   ❔ Pregunta: 'VOTOS VÁLIDOS' -> Respuesta: '90'\n",
            "\n",
            "--- Interrogando al acta: mesa_9_101794.jpg ---\n",
            "   ❔ Pregunta: 'AP' -> Respuesta: 'AP 0 18'\n",
            "   ❔ Pregunta: 'APB SÚMATE' -> Respuesta: 'APB SÚMATE 0 1 1 1 1 1 1 1 1 1 1 1 1 1 1 1 1 1 1 1 1 1 1 1 1 1 1 1 1 1 1 1 1 1 1 1 1 1 1 1 1 1 1 1 1 1 1 1 1 1 1 1 1 1 1 1 1 1 1 1 1 1 1 1 1 1 1 1 1 1 1 1 1 1 1 1 1 1 1 1 1 1 1 1 1 1 1 1 1 1 1 1 1 1 1 1 1 1 1 1 1 1 1 1 1 1 1 1 1 1 1 1 1 1 1 1 1'\n",
            "   ❔ Pregunta: 'CODIGO MESA' -> Respuesta: '9'\n",
            "   ❔ Pregunta: 'ELECTORES HABILITADOS' -> Respuesta: '3'\n",
            "   ❔ Pregunta: 'FP' -> Respuesta: 'FP 005'\n",
            "   ❔ Pregunta: 'LIBRE' -> Respuesta: 'LIBRE 0.18'\n",
            "   ❔ Pregunta: 'LYP ADN' -> Respuesta: 'LYP ADN 018'\n",
            "   ❔ Pregunta: 'MAS-IPSP' -> Respuesta: 'MAS-IPSP 004'\n",
            "   ❔ Pregunta: 'MESA' -> Respuesta: '9'\n",
            "   ❔ Pregunta: 'MORENA' -> Respuesta: 'MORENA 0.18'\n",
            "   ❔ Pregunta: 'PAPELETAS EN ÁNFORA' -> Respuesta: '28'\n",
            "   ❔ Pregunta: 'PAPELETAS NO UTILIZADAS' -> Respuesta: '28'\n",
            "   ❔ Pregunta: 'PDC' -> Respuesta: 'PDC 028'\n",
            "   ❔ Pregunta: 'UNIDAD' -> Respuesta: 'UNIDAD 005'\n",
            "   ❔ Pregunta: 'VOTOS BLANCOS' -> Respuesta: '2'\n",
            "   ❔ Pregunta: 'VOTOS NULOS' -> Respuesta: '37'\n"
          ]
        },
        {
          "name": "stderr",
          "output_type": "stream",
          "text": [
            "\n",
            "Procesando Actas con Donut:  39%|███▉      | 214/545 [1:35:09<2:28:46, 26.97s/it]\u001b[A"
          ]
        },
        {
          "name": "stdout",
          "output_type": "stream",
          "text": [
            "   ❔ Pregunta: 'VOTOS VÁLIDOS' -> Respuesta: '95'\n",
            "\n",
            "--- Interrogando al acta: mesa_2_103974.jpg ---\n",
            "   ❔ Pregunta: 'AP' -> Respuesta: 'AP MESA 2'\n",
            "   ❔ Pregunta: 'APB SÚMATE' -> Respuesta: 'APB SÚMATE MOSA 2'\n",
            "   ❔ Pregunta: 'CODIGO MESA' -> Respuesta: 'None'\n",
            "   ❔ Pregunta: 'ELECTORES HABILITADOS' -> Respuesta: 'None'\n",
            "   ❔ Pregunta: 'FP' -> Respuesta: 'FP 001'\n",
            "   ❔ Pregunta: 'LIBRE' -> Respuesta: 'LIBRE 0.4'\n",
            "   ❔ Pregunta: 'LYP ADN' -> Respuesta: 'LYP ADN APB SMIATE'\n",
            "   ❔ Pregunta: 'MAS-IPSP' -> Respuesta: 'MAS-IPSP 000'\n",
            "   ❔ Pregunta: 'MESA' -> Respuesta: '2'\n",
            "   ❔ Pregunta: 'MORENA' -> Respuesta: 'MORENA 0.4'\n",
            "   ❔ Pregunta: 'PAPELETAS EN ÁNFORA' -> Respuesta: '45'\n",
            "   ❔ Pregunta: 'PAPELETAS NO UTILIZADAS' -> Respuesta: '32'\n",
            "   ❔ Pregunta: 'PDC' -> Respuesta: 'PDC 002'\n",
            "   ❔ Pregunta: 'UNIDAD' -> Respuesta: 'UNIDAD 00'\n",
            "   ❔ Pregunta: 'VOTOS BLANCOS' -> Respuesta: '0'\n",
            "   ❔ Pregunta: 'VOTOS NULOS' -> Respuesta: '5'\n"
          ]
        },
        {
          "name": "stderr",
          "output_type": "stream",
          "text": [
            "\n",
            "Procesando Actas con Donut:  39%|███▉      | 215/545 [1:35:36<2:27:46, 26.87s/it]\u001b[A"
          ]
        },
        {
          "name": "stdout",
          "output_type": "stream",
          "text": [
            "   ❔ Pregunta: 'VOTOS VÁLIDOS' -> Respuesta: '4'\n",
            "\n",
            "--- Interrogando al acta: mesa_1_103964.jpg ---\n",
            "   ❔ Pregunta: 'AP' -> Respuesta: 'AP 500'\n",
            "   ❔ Pregunta: 'APB SÚMATE' -> Respuesta: 'APB SÚMATE NOV DAR'\n",
            "   ❔ Pregunta: 'CODIGO MESA' -> Respuesta: '80'\n",
            "   ❔ Pregunta: 'ELECTORES HABILITADOS' -> Respuesta: 'None'\n",
            "   ❔ Pregunta: 'FP' -> Respuesta: 'FP 8 TO'\n",
            "   ❔ Pregunta: 'LIBRE' -> Respuesta: 'LIBRE BECK'\n",
            "   ❔ Pregunta: 'LYP ADN' -> Respuesta: 'LYP ADN COTF'\n",
            "   ❔ Pregunta: 'MAS-IPSP' -> Respuesta: 'MAS-IPSP WWW.GOV'\n",
            "   ❔ Pregunta: 'MESA' -> Respuesta: '80'\n",
            "   ❔ Pregunta: 'MORENA' -> Respuesta: 'MORENA 8T0'\n",
            "   ❔ Pregunta: 'PAPELETAS EN ÁNFORA' -> Respuesta: '80'\n",
            "   ❔ Pregunta: 'PAPELETAS NO UTILIZADAS' -> Respuesta: '8'\n",
            "   ❔ Pregunta: 'PDC' -> Respuesta: 'PDC NOV DAR'\n",
            "   ❔ Pregunta: 'UNIDAD' -> Respuesta: 'UNIDAD VADOMAN'\n",
            "   ❔ Pregunta: 'VOTOS BLANCOS' -> Respuesta: 'None'\n",
            "   ❔ Pregunta: 'VOTOS NULOS' -> Respuesta: '8'\n"
          ]
        },
        {
          "name": "stderr",
          "output_type": "stream",
          "text": [
            "\n",
            "Procesando Actas con Donut:  40%|███▉      | 216/545 [1:36:02<2:27:10, 26.84s/it]\u001b[A"
          ]
        },
        {
          "name": "stdout",
          "output_type": "stream",
          "text": [
            "   ❔ Pregunta: 'VOTOS VÁLIDOS' -> Respuesta: 'None'\n",
            "\n",
            "--- Interrogando al acta: mesa_1_102464.jpg ---\n",
            "   ❔ Pregunta: 'AP' -> Respuesta: 'AP 020'\n",
            "   ❔ Pregunta: 'APB SÚMATE' -> Respuesta: 'APB SÚMATE 001'\n",
            "   ❔ Pregunta: 'CODIGO MESA' -> Respuesta: 'None'\n",
            "   ❔ Pregunta: 'ELECTORES HABILITADOS' -> Respuesta: '3'\n",
            "   ❔ Pregunta: 'FP' -> Respuesta: 'FP 002'\n",
            "   ❔ Pregunta: 'LIBRE' -> Respuesta: 'LIBRE 020'\n",
            "   ❔ Pregunta: 'LYP ADN' -> Respuesta: 'LYP ADN 020'\n",
            "   ❔ Pregunta: 'MAS-IPSP' -> Respuesta: 'MAS-IPSP 003'\n",
            "   ❔ Pregunta: 'MESA' -> Respuesta: '1'\n",
            "   ❔ Pregunta: 'MORENA' -> Respuesta: 'MORENA 020'\n",
            "   ❔ Pregunta: 'PAPELETAS EN ÁNFORA' -> Respuesta: '95'\n",
            "   ❔ Pregunta: 'PAPELETAS NO UTILIZADAS' -> Respuesta: '910'\n",
            "   ❔ Pregunta: 'PDC' -> Respuesta: 'PDC 0.22'\n",
            "   ❔ Pregunta: 'UNIDAD' -> Respuesta: 'UNIDAD 001'\n",
            "   ❔ Pregunta: 'VOTOS BLANCOS' -> Respuesta: '5'\n",
            "   ❔ Pregunta: 'VOTOS NULOS' -> Respuesta: '47'\n"
          ]
        },
        {
          "name": "stderr",
          "output_type": "stream",
          "text": [
            "\n",
            "Procesando Actas con Donut:  40%|███▉      | 217/545 [1:36:29<2:26:18, 26.76s/it]\u001b[A"
          ]
        },
        {
          "name": "stdout",
          "output_type": "stream",
          "text": [
            "   ❔ Pregunta: 'VOTOS VÁLIDOS' -> Respuesta: '58'\n",
            "\n",
            "--- Interrogando al acta: mesa_2_102474.jpg ---\n",
            "   ❔ Pregunta: 'AP' -> Respuesta: 'AP 020'\n",
            "   ❔ Pregunta: 'APB SÚMATE' -> Respuesta: 'APB SÚMATE 003'\n",
            "   ❔ Pregunta: 'CODIGO MESA' -> Respuesta: '102474'\n",
            "   ❔ Pregunta: 'ELECTORES HABILITADOS' -> Respuesta: '3'\n",
            "   ❔ Pregunta: 'FP' -> Respuesta: 'FP 0.04'\n",
            "   ❔ Pregunta: 'LIBRE' -> Respuesta: 'LIBRE 0.24'\n",
            "   ❔ Pregunta: 'LYP ADN' -> Respuesta: 'LYP ADN AP'\n",
            "   ❔ Pregunta: 'MAS-IPSP' -> Respuesta: 'MAS-IPSP 0 0 2'\n",
            "   ❔ Pregunta: 'MESA' -> Respuesta: 'None'\n",
            "   ❔ Pregunta: 'MORENA' -> Respuesta: 'MORENA 09 30'\n",
            "   ❔ Pregunta: 'PAPELETAS EN ÁNFORA' -> Respuesta: '107'\n",
            "   ❔ Pregunta: 'PAPELETAS NO UTILIZADAS' -> Respuesta: '213'\n",
            "   ❔ Pregunta: 'PDC' -> Respuesta: 'PDC 024'\n",
            "   ❔ Pregunta: 'UNIDAD' -> Respuesta: 'UNIDAD 0 2'\n",
            "   ❔ Pregunta: 'VOTOS BLANCOS' -> Respuesta: '3'\n",
            "   ❔ Pregunta: 'VOTOS NULOS' -> Respuesta: '43'\n"
          ]
        },
        {
          "name": "stderr",
          "output_type": "stream",
          "text": [
            "\n",
            "Procesando Actas con Donut:  40%|████      | 218/545 [1:36:56<2:25:35, 26.72s/it]\u001b[A"
          ]
        },
        {
          "name": "stdout",
          "output_type": "stream",
          "text": [
            "   ❔ Pregunta: 'VOTOS VÁLIDOS' -> Respuesta: '61'\n",
            "\n",
            "--- Interrogando al acta: mesa_4_102494.jpg ---\n",
            "   ❔ Pregunta: 'AP' -> Respuesta: 'AP 0 27'\n",
            "   ❔ Pregunta: 'APB SÚMATE' -> Respuesta: 'APB SÚMATE 0.27'\n",
            "   ❔ Pregunta: 'CODIGO MESA' -> Respuesta: '4'\n",
            "   ❔ Pregunta: 'ELECTORES HABILITADOS' -> Respuesta: '3'\n",
            "   ❔ Pregunta: 'FP' -> Respuesta: 'FP 004'\n",
            "   ❔ Pregunta: 'LIBRE' -> Respuesta: 'LIBRE 0.25'\n",
            "   ❔ Pregunta: 'LYP ADN' -> Respuesta: 'LYP ADN AP'\n",
            "   ❔ Pregunta: 'MAS-IPSP' -> Respuesta: 'MAS-IPSP 0 9'\n",
            "   ❔ Pregunta: 'MESA' -> Respuesta: '4'\n",
            "   ❔ Pregunta: 'MORENA' -> Respuesta: 'MORENA 0 27'\n",
            "   ❔ Pregunta: 'PAPELETAS EN ÁNFORA' -> Respuesta: '9'\n",
            "   ❔ Pregunta: 'PAPELETAS NO UTILIZADAS' -> Respuesta: '213'\n",
            "   ❔ Pregunta: 'PDC' -> Respuesta: 'PDC 019'\n",
            "   ❔ Pregunta: 'UNIDAD' -> Respuesta: 'UNIDAD 005'\n",
            "   ❔ Pregunta: 'VOTOS BLANCOS' -> Respuesta: '1'\n",
            "   ❔ Pregunta: 'VOTOS NULOS' -> Respuesta: '43'\n"
          ]
        },
        {
          "name": "stderr",
          "output_type": "stream",
          "text": [
            "\n",
            "Procesando Actas con Donut:  40%|████      | 219/545 [1:37:22<2:24:58, 26.68s/it]\u001b[A"
          ]
        },
        {
          "name": "stdout",
          "output_type": "stream",
          "text": [
            "   ❔ Pregunta: 'VOTOS VÁLIDOS' -> Respuesta: '63'\n",
            "\n",
            "--- Interrogando al acta: mesa_5_102504.jpg ---\n",
            "   ❔ Pregunta: 'AP' -> Respuesta: 'AP 0 4'\n",
            "   ❔ Pregunta: 'APB SÚMATE' -> Respuesta: 'APB SÚMATE 002'\n",
            "   ❔ Pregunta: 'CODIGO MESA' -> Respuesta: 'None'\n",
            "   ❔ Pregunta: 'ELECTORES HABILITADOS' -> Respuesta: '3'\n",
            "   ❔ Pregunta: 'FP' -> Respuesta: 'FP 000'\n",
            "   ❔ Pregunta: 'LIBRE' -> Respuesta: 'LIBRE 0 4'\n",
            "   ❔ Pregunta: 'LYP ADN' -> Respuesta: 'LYP ADN APB SOMATE'\n",
            "   ❔ Pregunta: 'MAS-IPSP' -> Respuesta: 'MAS-IPSP 002'\n",
            "   ❔ Pregunta: 'MESA' -> Respuesta: '5'\n",
            "   ❔ Pregunta: 'MORENA' -> Respuesta: 'MORENA APB SOMATE'\n",
            "   ❔ Pregunta: 'PAPELETAS EN ÁNFORA' -> Respuesta: '48'\n",
            "   ❔ Pregunta: 'PAPELETAS NO UTILIZADAS' -> Respuesta: '212'\n",
            "   ❔ Pregunta: 'PDC' -> Respuesta: 'PDC 025'\n",
            "   ❔ Pregunta: 'UNIDAD' -> Respuesta: 'UNIDAD 004'\n",
            "   ❔ Pregunta: 'VOTOS BLANCOS' -> Respuesta: '7'\n",
            "   ❔ Pregunta: 'VOTOS NULOS' -> Respuesta: '48'\n"
          ]
        },
        {
          "name": "stderr",
          "output_type": "stream",
          "text": [
            "\n",
            "Procesando Actas con Donut:  40%|████      | 220/545 [1:37:49<2:24:24, 26.66s/it]\u001b[A"
          ]
        },
        {
          "name": "stdout",
          "output_type": "stream",
          "text": [
            "   ❔ Pregunta: 'VOTOS VÁLIDOS' -> Respuesta: '53'\n",
            "\n",
            "--- Interrogando al acta: mesa_6_102514.jpg ---\n",
            "   ❔ Pregunta: 'AP' -> Respuesta: 'AP 023'\n",
            "   ❔ Pregunta: 'APB SÚMATE' -> Respuesta: 'APB SÚMATE 0.9'\n",
            "   ❔ Pregunta: 'CODIGO MESA' -> Respuesta: '102514'\n",
            "   ❔ Pregunta: 'ELECTORES HABILITADOS' -> Respuesta: '3'\n",
            "   ❔ Pregunta: 'FP' -> Respuesta: 'FP 003'\n",
            "   ❔ Pregunta: 'LIBRE' -> Respuesta: 'LIBRE 004'\n",
            "   ❔ Pregunta: 'LYP ADN' -> Respuesta: 'LYP ADN 001'\n",
            "   ❔ Pregunta: 'MAS-IPSP' -> Respuesta: 'MAS-IPSP 000'\n",
            "   ❔ Pregunta: 'MESA' -> Respuesta: '6'\n",
            "   ❔ Pregunta: 'MORENA' -> Respuesta: 'MORENA 0.83'\n",
            "   ❔ Pregunta: 'PAPELETAS EN ÁNFORA' -> Respuesta: '83'\n",
            "   ❔ Pregunta: 'PAPELETAS NO UTILIZADAS' -> Respuesta: '203'\n",
            "   ❔ Pregunta: 'PDC' -> Respuesta: 'PDC 0.23'\n",
            "   ❔ Pregunta: 'UNIDAD' -> Respuesta: 'UNIDAD 006'\n",
            "   ❔ Pregunta: 'VOTOS BLANCOS' -> Respuesta: '4'\n",
            "   ❔ Pregunta: 'VOTOS NULOS' -> Respuesta: '44'\n"
          ]
        },
        {
          "name": "stderr",
          "output_type": "stream",
          "text": [
            "\n",
            "Procesando Actas con Donut:  41%|████      | 221/545 [1:38:15<2:23:46, 26.63s/it]\u001b[A"
          ]
        },
        {
          "name": "stdout",
          "output_type": "stream",
          "text": [
            "   ❔ Pregunta: 'VOTOS VÁLIDOS' -> Respuesta: '69'\n",
            "\n",
            "--- Interrogando al acta: mesa_3_102484.jpg ---\n",
            "   ❔ Pregunta: 'AP' -> Respuesta: 'AP 800'\n",
            "   ❔ Pregunta: 'APB SÚMATE' -> Respuesta: 'APB SÚMATE NOVEMBER'\n",
            "   ❔ Pregunta: 'CODIGO MESA' -> Respuesta: '80'\n",
            "   ❔ Pregunta: 'ELECTORES HABILITADOS' -> Respuesta: 'None'\n",
            "   ❔ Pregunta: 'FP' -> Respuesta: 'FP 730'\n",
            "   ❔ Pregunta: 'LIBRE' -> Respuesta: 'LIBRE EUROPEAN'\n",
            "   ❔ Pregunta: 'LYP ADN' -> Respuesta: 'LYP ADN EUROPEAN'\n",
            "   ❔ Pregunta: 'MAS-IPSP' -> Respuesta: 'MAS-IPSP WWW.GOV'\n",
            "   ❔ Pregunta: 'MESA' -> Respuesta: '80'\n",
            "   ❔ Pregunta: 'MORENA' -> Respuesta: 'MORENA 7 5 5 5 5 5'\n",
            "   ❔ Pregunta: 'PAPELETAS EN ÁNFORA' -> Respuesta: '800'\n",
            "   ❔ Pregunta: 'PAPELETAS NO UTILIZADAS' -> Respuesta: '6849562'\n",
            "   ❔ Pregunta: 'PDC' -> Respuesta: 'PDC WWW.MAIL'\n",
            "   ❔ Pregunta: 'UNIDAD' -> Respuesta: 'UNIDAD RABALE'\n",
            "   ❔ Pregunta: 'VOTOS BLANCOS' -> Respuesta: 'None'\n",
            "   ❔ Pregunta: 'VOTOS NULOS' -> Respuesta: '68495621'\n"
          ]
        },
        {
          "name": "stderr",
          "output_type": "stream",
          "text": [
            "\n",
            "Procesando Actas con Donut:  41%|████      | 222/545 [1:38:42<2:23:18, 26.62s/it]\u001b[A"
          ]
        },
        {
          "name": "stdout",
          "output_type": "stream",
          "text": [
            "   ❔ Pregunta: 'VOTOS VÁLIDOS' -> Respuesta: 'None'\n",
            "\n",
            "--- Interrogando al acta: mesa_8_102534.jpg ---\n",
            "   ❔ Pregunta: 'AP' -> Respuesta: 'AP 0.23'\n",
            "   ❔ Pregunta: 'APB SÚMATE' -> Respuesta: 'APB SÚMATE 0.23'\n",
            "   ❔ Pregunta: 'CODIGO MESA' -> Respuesta: 'None'\n",
            "   ❔ Pregunta: 'ELECTORES HABILITADOS' -> Respuesta: '3'\n",
            "   ❔ Pregunta: 'FP' -> Respuesta: 'FP 001'\n",
            "   ❔ Pregunta: 'LIBRE' -> Respuesta: 'LIBRE 003'\n",
            "   ❔ Pregunta: 'LYP ADN' -> Respuesta: 'LYP ADN 00'\n",
            "   ❔ Pregunta: 'MAS-IPSP' -> Respuesta: 'MAS-IPSP 001'\n",
            "   ❔ Pregunta: 'MESA' -> Respuesta: '8'\n",
            "   ❔ Pregunta: 'MORENA' -> Respuesta: 'MORENA 0815'\n",
            "   ❔ Pregunta: 'PAPELETAS EN ÁNFORA' -> Respuesta: '45'\n",
            "   ❔ Pregunta: 'PAPELETAS NO UTILIZADAS' -> Respuesta: '485'\n",
            "   ❔ Pregunta: 'PDC' -> Respuesta: 'PDC 015'\n",
            "   ❔ Pregunta: 'UNIDAD' -> Respuesta: 'UNIDAD 004'\n",
            "   ❔ Pregunta: 'VOTOS BLANCOS' -> Respuesta: '4'\n",
            "   ❔ Pregunta: 'VOTOS NULOS' -> Respuesta: '46'\n"
          ]
        },
        {
          "name": "stderr",
          "output_type": "stream",
          "text": [
            "\n",
            "Procesando Actas con Donut:  41%|████      | 223/545 [1:39:09<2:22:47, 26.61s/it]\u001b[A"
          ]
        },
        {
          "name": "stdout",
          "output_type": "stream",
          "text": [
            "   ❔ Pregunta: 'VOTOS VÁLIDOS' -> Respuesta: '63'\n",
            "\n",
            "--- Interrogando al acta: mesa_7_102524.jpg ---\n",
            "   ❔ Pregunta: 'AP' -> Respuesta: 'AP 0 26'\n",
            "   ❔ Pregunta: 'APB SÚMATE' -> Respuesta: 'APB SÚMATE 0915'\n",
            "   ❔ Pregunta: 'CODIGO MESA' -> Respuesta: '7'\n",
            "   ❔ Pregunta: 'ELECTORES HABILITADOS' -> Respuesta: '3'\n",
            "   ❔ Pregunta: 'FP' -> Respuesta: 'FP 000'\n",
            "   ❔ Pregunta: 'LIBRE' -> Respuesta: 'LIBRE 004'\n",
            "   ❔ Pregunta: 'LYP ADN' -> Respuesta: 'LYP ADN AP'\n",
            "   ❔ Pregunta: 'MAS-IPSP' -> Respuesta: 'MAS-IPSP 0 0 5'\n",
            "   ❔ Pregunta: 'MESA' -> Respuesta: '7'\n",
            "   ❔ Pregunta: 'MORENA' -> Respuesta: 'MORENA 0 26'\n",
            "   ❔ Pregunta: 'PAPELETAS EN ÁNFORA' -> Respuesta: '108'\n",
            "   ❔ Pregunta: 'PAPELETAS NO UTILIZADAS' -> Respuesta: '212'\n",
            "   ❔ Pregunta: 'PDC' -> Respuesta: 'PDC 020'\n",
            "   ❔ Pregunta: 'UNIDAD' -> Respuesta: 'UNIDAD 003'\n",
            "   ❔ Pregunta: 'VOTOS BLANCOS' -> Respuesta: '6'\n",
            "   ❔ Pregunta: 'VOTOS NULOS' -> Respuesta: '37'\n"
          ]
        },
        {
          "name": "stderr",
          "output_type": "stream",
          "text": [
            "\n",
            "Procesando Actas con Donut:  41%|████      | 224/545 [1:39:35<2:22:15, 26.59s/it]\u001b[A"
          ]
        },
        {
          "name": "stdout",
          "output_type": "stream",
          "text": [
            "   ❔ Pregunta: 'VOTOS VÁLIDOS' -> Respuesta: '65'\n",
            "\n",
            "--- Interrogando al acta: mesa_2_101034.jpg ---\n",
            "   ❔ Pregunta: 'AP' -> Respuesta: 'AP 027'\n",
            "   ❔ Pregunta: 'APB SÚMATE' -> Respuesta: 'APB SÚMATE 012'\n",
            "   ❔ Pregunta: 'CODIGO MESA' -> Respuesta: 'None'\n",
            "   ❔ Pregunta: 'ELECTORES HABILITADOS' -> Respuesta: '3'\n",
            "   ❔ Pregunta: 'FP' -> Respuesta: 'FP 000'\n",
            "   ❔ Pregunta: 'LIBRE' -> Respuesta: 'LIBRE 0.2'\n",
            "   ❔ Pregunta: 'LYP ADN' -> Respuesta: 'LYP ADN APB SOMATE'\n",
            "   ❔ Pregunta: 'MAS-IPSP' -> Respuesta: 'MAS-IPSP 002'\n",
            "   ❔ Pregunta: 'MESA' -> Respuesta: '2'\n",
            "   ❔ Pregunta: 'MORENA' -> Respuesta: 'MORENA 0930'\n",
            "   ❔ Pregunta: 'PAPELETAS EN ÁNFORA' -> Respuesta: '83'\n",
            "   ❔ Pregunta: 'PAPELETAS NO UTILIZADAS' -> Respuesta: '199'\n",
            "   ❔ Pregunta: 'PDC' -> Respuesta: 'PDC 019'\n",
            "   ❔ Pregunta: 'UNIDAD' -> Respuesta: 'UNIDAD 008'\n",
            "   ❔ Pregunta: 'VOTOS BLANCOS' -> Respuesta: '28'\n",
            "   ❔ Pregunta: 'VOTOS NULOS' -> Respuesta: '38'\n"
          ]
        },
        {
          "name": "stderr",
          "output_type": "stream",
          "text": [
            "\n",
            "Procesando Actas con Donut:  41%|████▏     | 225/545 [1:40:02<2:22:40, 26.75s/it]\u001b[A"
          ]
        },
        {
          "name": "stdout",
          "output_type": "stream",
          "text": [
            "   ❔ Pregunta: 'VOTOS VÁLIDOS' -> Respuesta: '81'\n",
            "\n",
            "--- Interrogando al acta: mesa_8_101094.jpg ---\n",
            "   ❔ Pregunta: 'AP' -> Respuesta: 'AP 005'\n",
            "   ❔ Pregunta: 'APB SÚMATE' -> Respuesta: 'APB SÚMATE 001'\n",
            "   ❔ Pregunta: 'CODIGO MESA' -> Respuesta: '8'\n",
            "   ❔ Pregunta: 'ELECTORES HABILITADOS' -> Respuesta: '3'\n",
            "   ❔ Pregunta: 'FP' -> Respuesta: 'FP 0 0 2'\n",
            "   ❔ Pregunta: 'LIBRE' -> Respuesta: 'LIBRE 005'\n",
            "   ❔ Pregunta: 'LYP ADN' -> Respuesta: 'LYP ADN APB SOMATE'\n",
            "   ❔ Pregunta: 'MAS-IPSP' -> Respuesta: 'MAS-IPSP 000'\n",
            "   ❔ Pregunta: 'MESA' -> Respuesta: '8'\n",
            "   ❔ Pregunta: 'MORENA' -> Respuesta: 'MORENA 0.83'\n",
            "   ❔ Pregunta: 'PAPELETAS EN ÁNFORA' -> Respuesta: '83'\n",
            "   ❔ Pregunta: 'PAPELETAS NO UTILIZADAS' -> Respuesta: '83'\n",
            "   ❔ Pregunta: 'PDC' -> Respuesta: 'PDC 001'\n",
            "   ❔ Pregunta: 'UNIDAD' -> Respuesta: 'UNIDAD 002'\n",
            "   ❔ Pregunta: 'VOTOS BLANCOS' -> Respuesta: '8'\n",
            "   ❔ Pregunta: 'VOTOS NULOS' -> Respuesta: '18'\n"
          ]
        },
        {
          "name": "stderr",
          "output_type": "stream",
          "text": [
            "\n",
            "Procesando Actas con Donut:  41%|████▏     | 226/545 [1:40:29<2:22:30, 26.80s/it]\u001b[A"
          ]
        },
        {
          "name": "stdout",
          "output_type": "stream",
          "text": [
            "   ❔ Pregunta: 'VOTOS VÁLIDOS' -> Respuesta: '14'\n",
            "\n",
            "--- Interrogando al acta: mesa_7_101084.jpg ---\n",
            "   ❔ Pregunta: 'AP' -> Respuesta: 'AP 072'\n",
            "   ❔ Pregunta: 'APB SÚMATE' -> Respuesta: 'APB SÚMATE 0.72'\n",
            "   ❔ Pregunta: 'CODIGO MESA' -> Respuesta: '7'\n",
            "   ❔ Pregunta: 'ELECTORES HABILITADOS' -> Respuesta: '3'\n",
            "   ❔ Pregunta: 'FP' -> Respuesta: 'FP 003'\n",
            "   ❔ Pregunta: 'LIBRE' -> Respuesta: 'LIBRE 071'\n",
            "   ❔ Pregunta: 'LYP ADN' -> Respuesta: 'LYP ADN 002'\n",
            "   ❔ Pregunta: 'MAS-IPSP' -> Respuesta: 'MAS-IPSP 002'\n",
            "   ❔ Pregunta: 'MESA' -> Respuesta: '7'\n",
            "   ❔ Pregunta: 'MORENA' -> Respuesta: 'MORENA 7'\n",
            "   ❔ Pregunta: 'PAPELETAS EN ÁNFORA' -> Respuesta: '94'\n",
            "   ❔ Pregunta: 'PAPELETAS NO UTILIZADAS' -> Respuesta: '296'\n",
            "   ❔ Pregunta: 'PDC' -> Respuesta: 'PDC 072'\n",
            "   ❔ Pregunta: 'UNIDAD' -> Respuesta: 'UNIDAD 007'\n",
            "   ❔ Pregunta: 'VOTOS BLANCOS' -> Respuesta: '9'\n",
            "   ❔ Pregunta: 'VOTOS NULOS' -> Respuesta: '37'\n"
          ]
        },
        {
          "name": "stderr",
          "output_type": "stream",
          "text": [
            "\n",
            "Procesando Actas con Donut:  42%|████▏     | 227/545 [1:40:56<2:22:08, 26.82s/it]\u001b[A"
          ]
        },
        {
          "name": "stdout",
          "output_type": "stream",
          "text": [
            "   ❔ Pregunta: 'VOTOS VÁLIDOS' -> Respuesta: '53'\n",
            "\n",
            "--- Interrogando al acta: mesa_3_101044.jpg ---\n",
            "   ❔ Pregunta: 'AP' -> Respuesta: 'AP 0 15'\n",
            "   ❔ Pregunta: 'APB SÚMATE' -> Respuesta: 'APB SÚMATE 006'\n",
            "   ❔ Pregunta: 'CODIGO MESA' -> Respuesta: 'None'\n",
            "   ❔ Pregunta: 'ELECTORES HABILITADOS' -> Respuesta: '3'\n",
            "   ❔ Pregunta: 'FP' -> Respuesta: 'FP 002'\n",
            "   ❔ Pregunta: 'LIBRE' -> Respuesta: 'LIBRE 0 1 3'\n",
            "   ❔ Pregunta: 'LYP ADN' -> Respuesta: 'LYP ADN AP'\n",
            "   ❔ Pregunta: 'MAS-IPSP' -> Respuesta: 'MAS-IPSP 002'\n",
            "   ❔ Pregunta: 'MESA' -> Respuesta: 'None'\n",
            "   ❔ Pregunta: 'MORENA' -> Respuesta: 'MORENA 0 1'\n",
            "   ❔ Pregunta: 'PAPELETAS EN ÁNFORA' -> Respuesta: '208'\n",
            "   ❔ Pregunta: 'PAPELETAS NO UTILIZADAS' -> Respuesta: '208'\n",
            "   ❔ Pregunta: 'PDC' -> Respuesta: 'PDC 016'\n",
            "   ❔ Pregunta: 'UNIDAD' -> Respuesta: 'UNIDAD 007'\n",
            "   ❔ Pregunta: 'VOTOS BLANCOS' -> Respuesta: '1'\n",
            "   ❔ Pregunta: 'VOTOS NULOS' -> Respuesta: '49'\n"
          ]
        },
        {
          "name": "stderr",
          "output_type": "stream",
          "text": [
            "\n",
            "Procesando Actas con Donut:  42%|████▏     | 228/545 [1:41:23<2:21:59, 26.87s/it]\u001b[A"
          ]
        },
        {
          "name": "stdout",
          "output_type": "stream",
          "text": [
            "   ❔ Pregunta: 'VOTOS VÁLIDOS' -> Respuesta: '60'\n",
            "\n",
            "--- Interrogando al acta: mesa_1_101024.jpg ---\n",
            "   ❔ Pregunta: 'AP' -> Respuesta: 'AP 0.19'\n",
            "   ❔ Pregunta: 'APB SÚMATE' -> Respuesta: 'APB SÚMATE 080'\n",
            "   ❔ Pregunta: 'CODIGO MESA' -> Respuesta: '800'\n",
            "   ❔ Pregunta: 'ELECTORES HABILITADOS' -> Respuesta: '3'\n",
            "   ❔ Pregunta: 'FP' -> Respuesta: 'FP 0.92'\n",
            "   ❔ Pregunta: 'LIBRE' -> Respuesta: 'LIBRE 0.9'\n",
            "   ❔ Pregunta: 'LYP ADN' -> Respuesta: 'LYP ADN 001'\n",
            "   ❔ Pregunta: 'MAS-IPSP' -> Respuesta: 'MAS-IPSP 003'\n",
            "   ❔ Pregunta: 'MESA' -> Respuesta: '1'\n",
            "   ❔ Pregunta: 'MORENA' -> Respuesta: 'MORENA 0.9'\n",
            "   ❔ Pregunta: 'PAPELETAS EN ÁNFORA' -> Respuesta: '101'\n",
            "   ❔ Pregunta: 'PAPELETAS NO UTILIZADAS' -> Respuesta: '219'\n",
            "   ❔ Pregunta: 'PDC' -> Respuesta: 'PDC 017'\n",
            "   ❔ Pregunta: 'UNIDAD' -> Respuesta: 'UNIDAD 010'\n",
            "   ❔ Pregunta: 'VOTOS BLANCOS' -> Respuesta: '0'\n",
            "   ❔ Pregunta: 'VOTOS NULOS' -> Respuesta: '34'\n"
          ]
        },
        {
          "name": "stderr",
          "output_type": "stream",
          "text": [
            "\n",
            "Procesando Actas con Donut:  42%|████▏     | 229/545 [1:41:50<2:21:27, 26.86s/it]\u001b[A"
          ]
        },
        {
          "name": "stdout",
          "output_type": "stream",
          "text": [
            "   ❔ Pregunta: 'VOTOS VÁLIDOS' -> Respuesta: '67'\n",
            "\n",
            "--- Interrogando al acta: mesa_5_101064.jpg ---\n",
            "   ❔ Pregunta: 'AP' -> Respuesta: 'AP 018'\n",
            "   ❔ Pregunta: 'APB SÚMATE' -> Respuesta: 'APB SÚMATE 0 1'\n",
            "   ❔ Pregunta: 'CODIGO MESA' -> Respuesta: '5'\n",
            "   ❔ Pregunta: 'ELECTORES HABILITADOS' -> Respuesta: '3'\n",
            "   ❔ Pregunta: 'FP' -> Respuesta: 'FP 003'\n",
            "   ❔ Pregunta: 'LIBRE' -> Respuesta: 'LIBRE 0 1'\n",
            "   ❔ Pregunta: 'LYP ADN' -> Respuesta: 'LYP ADN APB SUMATE'\n",
            "   ❔ Pregunta: 'MAS-IPSP' -> Respuesta: 'MAS-IPSP 00 2'\n",
            "   ❔ Pregunta: 'MESA' -> Respuesta: '5'\n",
            "   ❔ Pregunta: 'MORENA' -> Respuesta: 'MORENA 188'\n",
            "   ❔ Pregunta: 'PAPELETAS EN ÁNFORA' -> Respuesta: '10'\n",
            "   ❔ Pregunta: 'PAPELETAS NO UTILIZADAS' -> Respuesta: '188'\n",
            "   ❔ Pregunta: 'PDC' -> Respuesta: 'PDC 025'\n",
            "   ❔ Pregunta: 'UNIDAD' -> Respuesta: 'UNIDAD 009'\n",
            "   ❔ Pregunta: 'VOTOS BLANCOS' -> Respuesta: '1'\n",
            "   ❔ Pregunta: 'VOTOS NULOS' -> Respuesta: '48'\n"
          ]
        },
        {
          "name": "stderr",
          "output_type": "stream",
          "text": [
            "\n",
            "Procesando Actas con Donut:  42%|████▏     | 230/545 [1:42:16<2:20:36, 26.78s/it]\u001b[A"
          ]
        },
        {
          "name": "stdout",
          "output_type": "stream",
          "text": [
            "   ❔ Pregunta: 'VOTOS VÁLIDOS' -> Respuesta: '83'\n",
            "\n",
            "--- Interrogando al acta: mesa_4_101054.jpg ---\n",
            "   ❔ Pregunta: 'AP' -> Respuesta: 'AP 019'\n",
            "   ❔ Pregunta: 'APB SÚMATE' -> Respuesta: 'APB SÚMATE 0.19'\n",
            "   ❔ Pregunta: 'CODIGO MESA' -> Respuesta: '4'\n",
            "   ❔ Pregunta: 'ELECTORES HABILITADOS' -> Respuesta: '3'\n",
            "   ❔ Pregunta: 'FP' -> Respuesta: 'FP 0.23'\n",
            "   ❔ Pregunta: 'LIBRE' -> Respuesta: 'LIBRE 0.13'\n",
            "   ❔ Pregunta: 'LYP ADN' -> Respuesta: 'LYP ADN 0000'\n",
            "   ❔ Pregunta: 'MAS-IPSP' -> Respuesta: 'MAS-IPSP 003'\n",
            "   ❔ Pregunta: 'MESA' -> Respuesta: '4'\n",
            "   ❔ Pregunta: 'MORENA' -> Respuesta: 'MORENA 019'\n",
            "   ❔ Pregunta: 'PAPELETAS EN ÁNFORA' -> Respuesta: '12727'\n",
            "   ❔ Pregunta: 'PAPELETAS NO UTILIZADAS' -> Respuesta: '199'\n",
            "   ❔ Pregunta: 'PDC' -> Respuesta: 'PDC 025'\n",
            "   ❔ Pregunta: 'UNIDAD' -> Respuesta: 'UNIDAD 006'\n",
            "   ❔ Pregunta: 'VOTOS BLANCOS' -> Respuesta: '1'\n",
            "   ❔ Pregunta: 'VOTOS NULOS' -> Respuesta: '48'\n"
          ]
        },
        {
          "name": "stderr",
          "output_type": "stream",
          "text": [
            "\n",
            "Procesando Actas con Donut:  42%|████▏     | 231/545 [1:42:44<2:20:39, 26.88s/it]\u001b[A"
          ]
        },
        {
          "name": "stdout",
          "output_type": "stream",
          "text": [
            "   ❔ Pregunta: 'VOTOS VÁLIDOS' -> Respuesta: '72'\n",
            "\n",
            "--- Interrogando al acta: mesa_6_101074.jpg ---\n",
            "   ❔ Pregunta: 'AP' -> Respuesta: 'AP 012'\n",
            "   ❔ Pregunta: 'APB SÚMATE' -> Respuesta: 'APB SÚMATE 0 9'\n",
            "   ❔ Pregunta: 'CODIGO MESA' -> Respuesta: '101074'\n",
            "   ❔ Pregunta: 'ELECTORES HABILITADOS' -> Respuesta: '3'\n",
            "   ❔ Pregunta: 'FP' -> Respuesta: 'FP 002'\n",
            "   ❔ Pregunta: 'LIBRE' -> Respuesta: 'LIBRE 0 1'\n",
            "   ❔ Pregunta: 'LYP ADN' -> Respuesta: 'LYP ADN 001'\n",
            "   ❔ Pregunta: 'MAS-IPSP' -> Respuesta: 'MAS-IPSP 0 0'\n",
            "   ❔ Pregunta: 'MESA' -> Respuesta: '6'\n",
            "   ❔ Pregunta: 'MORENA' -> Respuesta: 'MORENA 2 1 6'\n",
            "   ❔ Pregunta: 'PAPELETAS EN ÁNFORA' -> Respuesta: '404'\n",
            "   ❔ Pregunta: 'PAPELETAS NO UTILIZADAS' -> Respuesta: '216'\n",
            "   ❔ Pregunta: 'PDC' -> Respuesta: 'PDC 021'\n",
            "   ❔ Pregunta: 'UNIDAD' -> Respuesta: 'UNIDAD 007'\n",
            "   ❔ Pregunta: 'VOTOS BLANCOS' -> Respuesta: '5'\n",
            "   ❔ Pregunta: 'VOTOS NULOS' -> Respuesta: '32'\n"
          ]
        },
        {
          "name": "stderr",
          "output_type": "stream",
          "text": [
            "\n",
            "Procesando Actas con Donut:  43%|████▎     | 232/545 [1:43:10<2:19:49, 26.80s/it]\u001b[A"
          ]
        },
        {
          "name": "stdout",
          "output_type": "stream",
          "text": [
            "   ❔ Pregunta: 'VOTOS VÁLIDOS' -> Respuesta: '67'\n",
            "\n",
            "--- Interrogando al acta: mesa_11_102084.jpg ---\n",
            "   ❔ Pregunta: 'AP' -> Respuesta: 'AP 500'\n",
            "   ❔ Pregunta: 'APB SÚMATE' -> Respuesta: 'APB SÚMATE TWO CENTS'\n",
            "   ❔ Pregunta: 'CODIGO MESA' -> Respuesta: '780201'\n",
            "   ❔ Pregunta: 'ELECTORES HABILITADOS' -> Respuesta: 'None'\n",
            "   ❔ Pregunta: 'FP' -> Respuesta: 'FP 870'\n",
            "   ❔ Pregunta: 'LIBRE' -> Respuesta: 'LIBRE EUROPEAN'\n",
            "   ❔ Pregunta: 'LYP ADN' -> Respuesta: 'LYP ADN TV 80201'\n",
            "   ❔ Pregunta: 'MAS-IPSP' -> Respuesta: 'MAS-IPSP WWW.GOV'\n",
            "   ❔ Pregunta: 'MESA' -> Respuesta: '591'\n",
            "   ❔ Pregunta: 'MORENA' -> Respuesta: 'MORENA 870'\n",
            "   ❔ Pregunta: 'PAPELETAS EN ÁNFORA' -> Respuesta: '870'\n",
            "   ❔ Pregunta: 'PAPELETAS NO UTILIZADAS' -> Respuesta: '820'\n",
            "   ❔ Pregunta: 'PDC' -> Respuesta: 'PDC WWW.GOV'\n",
            "   ❔ Pregunta: 'UNIDAD' -> Respuesta: 'UNIDAD DA'\n",
            "   ❔ Pregunta: 'VOTOS BLANCOS' -> Respuesta: 'None'\n",
            "   ❔ Pregunta: 'VOTOS NULOS' -> Respuesta: '807'\n"
          ]
        },
        {
          "name": "stderr",
          "output_type": "stream",
          "text": [
            "\n",
            "Procesando Actas con Donut:  43%|████▎     | 233/545 [1:43:37<2:19:34, 26.84s/it]\u001b[A"
          ]
        },
        {
          "name": "stdout",
          "output_type": "stream",
          "text": [
            "   ❔ Pregunta: 'VOTOS VÁLIDOS' -> Respuesta: 'None'\n",
            "\n",
            "--- Interrogando al acta: mesa_15_102034.jpg ---\n",
            "   ❔ Pregunta: 'AP' -> Respuesta: 'AP 004'\n",
            "   ❔ Pregunta: 'APB SÚMATE' -> Respuesta: 'APB SÚMATE 0.37'\n",
            "   ❔ Pregunta: 'CODIGO MESA' -> Respuesta: '15'\n",
            "   ❔ Pregunta: 'ELECTORES HABILITADOS' -> Respuesta: '3'\n",
            "   ❔ Pregunta: 'FP' -> Respuesta: 'FP 001'\n",
            "   ❔ Pregunta: 'LIBRE' -> Respuesta: 'LIBRE AMBASS'\n",
            "   ❔ Pregunta: 'LYP ADN' -> Respuesta: 'LYP ADN 001'\n",
            "   ❔ Pregunta: 'MAS-IPSP' -> Respuesta: 'MAS-IPSP 002'\n",
            "   ❔ Pregunta: 'MESA' -> Respuesta: '15'\n",
            "   ❔ Pregunta: 'MORENA' -> Respuesta: 'MORENA 04 32'\n",
            "   ❔ Pregunta: 'PAPELETAS EN ÁNFORA' -> Respuesta: '26'\n",
            "   ❔ Pregunta: 'PAPELETAS NO UTILIZADAS' -> Respuesta: '26'\n",
            "   ❔ Pregunta: 'PDC' -> Respuesta: 'PDC 008'\n",
            "   ❔ Pregunta: 'UNIDAD' -> Respuesta: 'UNIDAD 000'\n",
            "   ❔ Pregunta: 'VOTOS BLANCOS' -> Respuesta: '0'\n",
            "   ❔ Pregunta: 'VOTOS NULOS' -> Respuesta: '26'\n"
          ]
        },
        {
          "name": "stderr",
          "output_type": "stream",
          "text": [
            "\n",
            "Procesando Actas con Donut:  43%|████▎     | 234/545 [1:44:04<2:19:18, 26.87s/it]\u001b[A"
          ]
        },
        {
          "name": "stdout",
          "output_type": "stream",
          "text": [
            "   ❔ Pregunta: 'VOTOS VÁLIDOS' -> Respuesta: '26'\n",
            "\n",
            "--- Interrogando al acta: mesa_12_102094.jpg ---\n",
            "   ❔ Pregunta: 'AP' -> Respuesta: 'AP 27'\n",
            "   ❔ Pregunta: 'APB SÚMATE' -> Respuesta: 'APB SÚMATE 8'\n",
            "   ❔ Pregunta: 'CODIGO MESA' -> Respuesta: '12'\n",
            "   ❔ Pregunta: 'ELECTORES HABILITADOS' -> Respuesta: '3'\n",
            "   ❔ Pregunta: 'FP' -> Respuesta: 'FP 4'\n",
            "   ❔ Pregunta: 'LIBRE' -> Respuesta: 'LIBRE 3'\n",
            "   ❔ Pregunta: 'LYP ADN' -> Respuesta: 'LYP ADN APB SOMATE'\n",
            "   ❔ Pregunta: 'MAS-IPSP' -> Respuesta: 'MAS-IPSP 1'\n",
            "   ❔ Pregunta: 'MESA' -> Respuesta: '12'\n",
            "   ❔ Pregunta: 'MORENA' -> Respuesta: 'MORENA 80'\n",
            "   ❔ Pregunta: 'PAPELETAS EN ÁNFORA' -> Respuesta: '790'\n",
            "   ❔ Pregunta: 'PAPELETAS NO UTILIZADAS' -> Respuesta: '490'\n",
            "   ❔ Pregunta: 'PDC' -> Respuesta: 'PDC 21'\n",
            "   ❔ Pregunta: 'UNIDAD' -> Respuesta: 'UNIDAD 8'\n",
            "   ❔ Pregunta: 'VOTOS BLANCOS' -> Respuesta: '5'\n",
            "   ❔ Pregunta: 'VOTOS NULOS' -> Respuesta: '62'\n"
          ]
        },
        {
          "name": "stderr",
          "output_type": "stream",
          "text": [
            "\n",
            "Procesando Actas con Donut:  43%|████▎     | 235/545 [1:44:31<2:18:16, 26.76s/it]\u001b[A"
          ]
        },
        {
          "name": "stdout",
          "output_type": "stream",
          "text": [
            "   ❔ Pregunta: 'VOTOS VÁLIDOS' -> Respuesta: '73'\n",
            "\n",
            "--- Interrogando al acta: mesa_4_101984.jpg ---\n",
            "   ❔ Pregunta: 'AP' -> Respuesta: 'AP OEP'\n",
            "   ❔ Pregunta: 'APB SÚMATE' -> Respuesta: 'APB SÚMATE 0932'\n",
            "   ❔ Pregunta: 'CODIGO MESA' -> Respuesta: '932'\n",
            "   ❔ Pregunta: 'ELECTORES HABILITADOS' -> Respuesta: '3'\n",
            "   ❔ Pregunta: 'FP' -> Respuesta: 'FP 0932'\n",
            "   ❔ Pregunta: 'LIBRE' -> Respuesta: 'LIBRE OEP'\n",
            "   ❔ Pregunta: 'LYP ADN' -> Respuesta: 'LYP ADN OEP'\n",
            "   ❔ Pregunta: 'MAS-IPSP' -> Respuesta: 'MAS-IPSP 0932'\n",
            "   ❔ Pregunta: 'MESA' -> Respuesta: '932'\n",
            "   ❔ Pregunta: 'MORENA' -> Respuesta: 'MORENA 0932'\n",
            "   ❔ Pregunta: 'PAPELETAS EN ÁNFORA' -> Respuesta: '28'\n",
            "   ❔ Pregunta: 'PAPELETAS NO UTILIZADAS' -> Respuesta: '82'\n",
            "   ❔ Pregunta: 'PDC' -> Respuesta: 'PDC 05.20'\n",
            "   ❔ Pregunta: 'UNIDAD' -> Respuesta: 'UNIDAD 0.9 32'\n",
            "   ❔ Pregunta: 'VOTOS BLANCOS' -> Respuesta: '2'\n",
            "   ❔ Pregunta: 'VOTOS NULOS' -> Respuesta: '82'\n"
          ]
        },
        {
          "name": "stderr",
          "output_type": "stream",
          "text": [
            "\n",
            "Procesando Actas con Donut:  43%|████▎     | 236/545 [1:44:57<2:17:46, 26.75s/it]\u001b[A"
          ]
        },
        {
          "name": "stdout",
          "output_type": "stream",
          "text": [
            "   ❔ Pregunta: 'VOTOS VÁLIDOS' -> Respuesta: '78'\n",
            "\n",
            "--- Interrogando al acta: mesa_3_101974.jpg ---\n",
            "   ❔ Pregunta: 'AP' -> Respuesta: 'AP 0.18'\n",
            "   ❔ Pregunta: 'APB SÚMATE' -> Respuesta: 'APB SÚMATE 005'\n",
            "   ❔ Pregunta: 'CODIGO MESA' -> Respuesta: '3'\n",
            "   ❔ Pregunta: 'ELECTORES HABILITADOS' -> Respuesta: '78'\n",
            "   ❔ Pregunta: 'FP' -> Respuesta: 'FP 005'\n",
            "   ❔ Pregunta: 'LIBRE' -> Respuesta: 'LIBRE 0.8 30'\n",
            "   ❔ Pregunta: 'LYP ADN' -> Respuesta: 'LYP ADN 0830'\n",
            "   ❔ Pregunta: 'MAS-IPSP' -> Respuesta: 'MAS-IPSP 008'\n",
            "   ❔ Pregunta: 'MESA' -> Respuesta: '3'\n",
            "   ❔ Pregunta: 'MORENA' -> Respuesta: 'MORENA 0830'\n",
            "   ❔ Pregunta: 'PAPELETAS EN ÁNFORA' -> Respuesta: '83'\n",
            "   ❔ Pregunta: 'PAPELETAS NO UTILIZADAS' -> Respuesta: '430'\n",
            "   ❔ Pregunta: 'PDC' -> Respuesta: 'PDC 0430'\n",
            "   ❔ Pregunta: 'UNIDAD' -> Respuesta: 'UNIDAD 00 2'\n",
            "   ❔ Pregunta: 'VOTOS BLANCOS' -> Respuesta: '76'\n",
            "   ❔ Pregunta: 'VOTOS NULOS' -> Respuesta: '66'\n"
          ]
        },
        {
          "name": "stderr",
          "output_type": "stream",
          "text": [
            "\n",
            "Procesando Actas con Donut:  43%|████▎     | 237/545 [1:45:24<2:17:37, 26.81s/it]\u001b[A"
          ]
        },
        {
          "name": "stdout",
          "output_type": "stream",
          "text": [
            "   ❔ Pregunta: 'VOTOS VÁLIDOS' -> Respuesta: '76'\n",
            "\n",
            "--- Interrogando al acta: mesa_10_102074.jpg ---\n",
            "   ❔ Pregunta: 'AP' -> Respuesta: 'AP 022'\n",
            "   ❔ Pregunta: 'APB SÚMATE' -> Respuesta: 'APB SÚMATE 0848'\n",
            "   ❔ Pregunta: 'CODIGO MESA' -> Respuesta: '848'\n",
            "   ❔ Pregunta: 'ELECTORES HABILITADOS' -> Respuesta: '3'\n",
            "   ❔ Pregunta: 'FP' -> Respuesta: 'FP 006'\n",
            "   ❔ Pregunta: 'LIBRE' -> Respuesta: 'LIBRE 003'\n",
            "   ❔ Pregunta: 'LYP ADN' -> Respuesta: 'LYP ADN AP'\n",
            "   ❔ Pregunta: 'MAS-IPSP' -> Respuesta: 'MAS-IPSP 001'\n",
            "   ❔ Pregunta: 'MESA' -> Respuesta: '10'\n",
            "   ❔ Pregunta: 'MORENA' -> Respuesta: 'MORENA 08 48'\n",
            "   ❔ Pregunta: 'PAPELETAS EN ÁNFORA' -> Respuesta: '494'\n",
            "   ❔ Pregunta: 'PAPELETAS NO UTILIZADAS' -> Respuesta: '494'\n",
            "   ❔ Pregunta: 'PDC' -> Respuesta: 'PDC 027'\n",
            "   ❔ Pregunta: 'UNIDAD' -> Respuesta: 'UNIDAD 003'\n",
            "   ❔ Pregunta: 'VOTOS BLANCOS' -> Respuesta: '5'\n",
            "   ❔ Pregunta: 'VOTOS NULOS' -> Respuesta: '53'\n"
          ]
        },
        {
          "name": "stderr",
          "output_type": "stream",
          "text": [
            "\n",
            "Procesando Actas con Donut:  44%|████▎     | 238/545 [1:45:51<2:16:55, 26.76s/it]\u001b[A"
          ]
        },
        {
          "name": "stdout",
          "output_type": "stream",
          "text": [
            "   ❔ Pregunta: 'VOTOS VÁLIDOS' -> Respuesta: '71'\n",
            "\n",
            "--- Interrogando al acta: mesa_5_101994.jpg ---\n",
            "   ❔ Pregunta: 'AP' -> Respuesta: 'AP 026'\n",
            "   ❔ Pregunta: 'APB SÚMATE' -> Respuesta: 'APB SÚMATE 020'\n",
            "   ❔ Pregunta: 'CODIGO MESA' -> Respuesta: '5'\n",
            "   ❔ Pregunta: 'ELECTORES HABILITADOS' -> Respuesta: '26'\n",
            "   ❔ Pregunta: 'FP' -> Respuesta: 'FP 003'\n",
            "   ❔ Pregunta: 'LIBRE' -> Respuesta: 'LIBRE 007'\n",
            "   ❔ Pregunta: 'LYP ADN' -> Respuesta: 'LYP ADN 026'\n",
            "   ❔ Pregunta: 'MAS-IPSP' -> Respuesta: 'MAS-IPSP 001'\n",
            "   ❔ Pregunta: 'MESA' -> Respuesta: '5'\n",
            "   ❔ Pregunta: 'MORENA' -> Respuesta: 'MORENA 020'\n",
            "   ❔ Pregunta: 'PAPELETAS EN ÁNFORA' -> Respuesta: '20'\n",
            "   ❔ Pregunta: 'PAPELETAS NO UTILIZADAS' -> Respuesta: '80'\n",
            "   ❔ Pregunta: 'PDC' -> Respuesta: 'PDC 021'\n",
            "   ❔ Pregunta: 'UNIDAD' -> Respuesta: 'UNIDAD 007'\n",
            "   ❔ Pregunta: 'VOTOS BLANCOS' -> Respuesta: '2'\n",
            "   ❔ Pregunta: 'VOTOS NULOS' -> Respuesta: '65'\n"
          ]
        },
        {
          "name": "stderr",
          "output_type": "stream",
          "text": [
            "\n",
            "Procesando Actas con Donut:  44%|████▍     | 239/545 [1:46:17<2:16:12, 26.71s/it]\u001b[A"
          ]
        },
        {
          "name": "stdout",
          "output_type": "stream",
          "text": [
            "   ❔ Pregunta: 'VOTOS VÁLIDOS' -> Respuesta: '144'\n",
            "\n",
            "--- Interrogando al acta: mesa_2_101964.jpg ---\n",
            "   ❔ Pregunta: 'AP' -> Respuesta: 'AP 030'\n",
            "   ❔ Pregunta: 'APB SÚMATE' -> Respuesta: 'APB SÚMATE 007'\n",
            "   ❔ Pregunta: 'CODIGO MESA' -> Respuesta: '6'\n",
            "   ❔ Pregunta: 'ELECTORES HABILITADOS' -> Respuesta: '3'\n",
            "   ❔ Pregunta: 'FP' -> Respuesta: 'FP 003'\n",
            "   ❔ Pregunta: 'LIBRE' -> Respuesta: 'LIBRE 004'\n",
            "   ❔ Pregunta: 'LYP ADN' -> Respuesta: 'LYP ADN 001'\n",
            "   ❔ Pregunta: 'MAS-IPSP' -> Respuesta: 'MAS-IPSP 003'\n",
            "   ❔ Pregunta: 'MESA' -> Respuesta: '2'\n",
            "   ❔ Pregunta: 'MORENA' -> Respuesta: 'MORENA 003'\n",
            "   ❔ Pregunta: 'PAPELETAS EN ÁNFORA' -> Respuesta: '28'\n",
            "   ❔ Pregunta: 'PAPELETAS NO UTILIZADAS' -> Respuesta: '8'\n",
            "   ❔ Pregunta: 'PDC' -> Respuesta: 'PDC 024'\n",
            "   ❔ Pregunta: 'UNIDAD' -> Respuesta: 'UNIDAD 003'\n",
            "   ❔ Pregunta: 'VOTOS BLANCOS' -> Respuesta: '0'\n",
            "   ❔ Pregunta: 'VOTOS NULOS' -> Respuesta: '78'\n"
          ]
        },
        {
          "name": "stderr",
          "output_type": "stream",
          "text": [
            "\n",
            "Procesando Actas con Donut:  44%|████▍     | 240/545 [1:46:44<2:15:30, 26.66s/it]\u001b[A"
          ]
        },
        {
          "name": "stdout",
          "output_type": "stream",
          "text": [
            "   ❔ Pregunta: 'VOTOS VÁLIDOS' -> Respuesta: '79'\n",
            "\n",
            "--- Interrogando al acta: mesa_1_101954.jpg ---\n",
            "   ❔ Pregunta: 'AP' -> Respuesta: 'AP A3'\n",
            "   ❔ Pregunta: 'APB SÚMATE' -> Respuesta: 'APB SÚMATE 005'\n",
            "   ❔ Pregunta: 'CODIGO MESA' -> Respuesta: '1'\n",
            "   ❔ Pregunta: 'ELECTORES HABILITADOS' -> Respuesta: '3'\n",
            "   ❔ Pregunta: 'FP' -> Respuesta: 'FP A3'\n",
            "   ❔ Pregunta: 'LIBRE' -> Respuesta: 'LIBRE ABHESIVO DE SEGUARDAD PARANGEA'\n",
            "   ❔ Pregunta: 'LYP ADN' -> Respuesta: 'LYP ADN MESA:1'\n",
            "   ❔ Pregunta: 'MAS-IPSP' -> Respuesta: 'MAS-IPSP A3'\n",
            "   ❔ Pregunta: 'MESA' -> Respuesta: '1'\n",
            "   ❔ Pregunta: 'MORENA' -> Respuesta: 'MORENA AMERICAN'\n",
            "   ❔ Pregunta: 'PAPELETAS EN ÁNFORA' -> Respuesta: '29'\n",
            "   ❔ Pregunta: 'PAPELETAS NO UTILIZADAS' -> Respuesta: '29'\n",
            "   ❔ Pregunta: 'PDC' -> Respuesta: 'PDC MESA 1'\n",
            "   ❔ Pregunta: 'UNIDAD' -> Respuesta: 'UNIDAD MESA 1'\n",
            "   ❔ Pregunta: 'VOTOS BLANCOS' -> Respuesta: 'None'\n",
            "   ❔ Pregunta: 'VOTOS NULOS' -> Respuesta: '29'\n"
          ]
        },
        {
          "name": "stderr",
          "output_type": "stream",
          "text": [
            "\n",
            "Procesando Actas con Donut:  44%|████▍     | 241/545 [1:47:11<2:15:06, 26.67s/it]\u001b[A"
          ]
        },
        {
          "name": "stdout",
          "output_type": "stream",
          "text": [
            "   ❔ Pregunta: 'VOTOS VÁLIDOS' -> Respuesta: '29'\n",
            "\n",
            "--- Interrogando al acta: mesa_7_102044.jpg ---\n",
            "   ❔ Pregunta: 'AP' -> Respuesta: 'AP 028'\n",
            "   ❔ Pregunta: 'APB SÚMATE' -> Respuesta: 'APB SÚMATE 028'\n",
            "   ❔ Pregunta: 'CODIGO MESA' -> Respuesta: '7'\n",
            "   ❔ Pregunta: 'ELECTORES HABILITADOS' -> Respuesta: '28'\n",
            "   ❔ Pregunta: 'FP' -> Respuesta: 'FP 004'\n",
            "   ❔ Pregunta: 'LIBRE' -> Respuesta: 'LIBRE 028'\n",
            "   ❔ Pregunta: 'LYP ADN' -> Respuesta: 'LYP ADN 028'\n",
            "   ❔ Pregunta: 'MAS-IPSP' -> Respuesta: 'MAS-IPSP 002'\n",
            "   ❔ Pregunta: 'MESA' -> Respuesta: '7'\n",
            "   ❔ Pregunta: 'MORENA' -> Respuesta: 'MORENA 028'\n",
            "   ❔ Pregunta: 'PAPELETAS EN ÁNFORA' -> Respuesta: '28'\n",
            "   ❔ Pregunta: 'PAPELETAS NO UTILIZADAS' -> Respuesta: '28'\n",
            "   ❔ Pregunta: 'PDC' -> Respuesta: 'PDC 026'\n",
            "   ❔ Pregunta: 'UNIDAD' -> Respuesta: 'UNIDAD 005'\n",
            "   ❔ Pregunta: 'VOTOS BLANCOS' -> Respuesta: '25'\n",
            "   ❔ Pregunta: 'VOTOS NULOS' -> Respuesta: '59'\n"
          ]
        },
        {
          "name": "stderr",
          "output_type": "stream",
          "text": [
            "\n",
            "Procesando Actas con Donut:  44%|████▍     | 242/545 [1:47:37<2:14:43, 26.68s/it]\u001b[A"
          ]
        },
        {
          "name": "stdout",
          "output_type": "stream",
          "text": [
            "   ❔ Pregunta: 'VOTOS VÁLIDOS' -> Respuesta: '74'\n",
            "\n",
            "--- Interrogando al acta: mesa_13_102014.jpg ---\n",
            "   ❔ Pregunta: 'AP' -> Respuesta: 'AP 025'\n",
            "   ❔ Pregunta: 'APB SÚMATE' -> Respuesta: 'APB SÚMATE 001'\n",
            "   ❔ Pregunta: 'CODIGO MESA' -> Respuesta: '13'\n",
            "   ❔ Pregunta: 'ELECTORES HABILITADOS' -> Respuesta: '3'\n",
            "   ❔ Pregunta: 'FP' -> Respuesta: 'FP 001'\n",
            "   ❔ Pregunta: 'LIBRE' -> Respuesta: 'LIBRE 0.25'\n",
            "   ❔ Pregunta: 'LYP ADN' -> Respuesta: 'LYP ADN 025'\n",
            "   ❔ Pregunta: 'MAS-IPSP' -> Respuesta: 'MAS-IPSP 001'\n",
            "   ❔ Pregunta: 'MESA' -> Respuesta: '13'\n",
            "   ❔ Pregunta: 'MORENA' -> Respuesta: 'MORENA 17 00'\n",
            "   ❔ Pregunta: 'PAPELETAS EN ÁNFORA' -> Respuesta: '25'\n",
            "   ❔ Pregunta: 'PAPELETAS NO UTILIZADAS' -> Respuesta: '21'\n",
            "   ❔ Pregunta: 'PDC' -> Respuesta: 'PDC 0.8'\n",
            "   ❔ Pregunta: 'UNIDAD' -> Respuesta: 'UNIDAD 0.9'\n",
            "   ❔ Pregunta: 'VOTOS BLANCOS' -> Respuesta: '0'\n",
            "   ❔ Pregunta: 'VOTOS NULOS' -> Respuesta: '71'\n"
          ]
        },
        {
          "name": "stderr",
          "output_type": "stream",
          "text": [
            "\n",
            "Procesando Actas con Donut:  45%|████▍     | 243/545 [1:48:04<2:14:13, 26.67s/it]\u001b[A"
          ]
        },
        {
          "name": "stdout",
          "output_type": "stream",
          "text": [
            "   ❔ Pregunta: 'VOTOS VÁLIDOS' -> Respuesta: '71'\n",
            "\n",
            "--- Interrogando al acta: mesa_6_102004.jpg ---\n",
            "   ❔ Pregunta: 'AP' -> Respuesta: 'AP 0.76'\n",
            "   ❔ Pregunta: 'APB SÚMATE' -> Respuesta: 'APB SÚMATE 08 40'\n",
            "   ❔ Pregunta: 'CODIGO MESA' -> Respuesta: '6'\n",
            "   ❔ Pregunta: 'ELECTORES HABILITADOS' -> Respuesta: '3'\n",
            "   ❔ Pregunta: 'FP' -> Respuesta: 'FP 0.76'\n",
            "   ❔ Pregunta: 'LIBRE' -> Respuesta: 'LIBRE 0.9'\n",
            "   ❔ Pregunta: 'LYP ADN' -> Respuesta: 'LYP ADN 0.76'\n",
            "   ❔ Pregunta: 'MAS-IPSP' -> Respuesta: 'MAS-IPSP 08 40'\n",
            "   ❔ Pregunta: 'MESA' -> Respuesta: '6'\n",
            "   ❔ Pregunta: 'MORENA' -> Respuesta: 'MORENA 08 40'\n",
            "   ❔ Pregunta: 'PAPELETAS EN ÁNFORA' -> Respuesta: '76'\n",
            "   ❔ Pregunta: 'PAPELETAS NO UTILIZADAS' -> Respuesta: '76'\n",
            "   ❔ Pregunta: 'PDC' -> Respuesta: 'PDC 024'\n",
            "   ❔ Pregunta: 'UNIDAD' -> Respuesta: 'UNIDAD 007'\n",
            "   ❔ Pregunta: 'VOTOS BLANCOS' -> Respuesta: '76'\n",
            "   ❔ Pregunta: 'VOTOS NULOS' -> Respuesta: '76'\n"
          ]
        },
        {
          "name": "stderr",
          "output_type": "stream",
          "text": [
            "\n",
            "Procesando Actas con Donut:  45%|████▍     | 244/545 [1:48:31<2:14:19, 26.78s/it]\u001b[A"
          ]
        },
        {
          "name": "stdout",
          "output_type": "stream",
          "text": [
            "   ❔ Pregunta: 'VOTOS VÁLIDOS' -> Respuesta: '76'\n",
            "\n",
            "--- Interrogando al acta: mesa_9_102064.jpg ---\n",
            "   ❔ Pregunta: 'AP' -> Respuesta: 'AP 020'\n",
            "   ❔ Pregunta: 'APB SÚMATE' -> Respuesta: 'APB SÚMATE 08 23'\n",
            "   ❔ Pregunta: 'CODIGO MESA' -> Respuesta: '9'\n",
            "   ❔ Pregunta: 'ELECTORES HABILITADOS' -> Respuesta: 'None'\n",
            "   ❔ Pregunta: 'FP' -> Respuesta: 'FP 003'\n",
            "   ❔ Pregunta: 'LIBRE' -> Respuesta: 'LIBRE 0.29'\n",
            "   ❔ Pregunta: 'LYP ADN' -> Respuesta: 'LYP ADN AP'\n",
            "   ❔ Pregunta: 'MAS-IPSP' -> Respuesta: 'MAS-IPSP 001'\n",
            "   ❔ Pregunta: 'MESA' -> Respuesta: '9'\n",
            "   ❔ Pregunta: 'MORENA' -> Respuesta: 'MORENA 08 23'\n",
            "   ❔ Pregunta: 'PAPELETAS EN ÁNFORA' -> Respuesta: '74'\n",
            "   ❔ Pregunta: 'PAPELETAS NO UTILIZADAS' -> Respuesta: '79'\n",
            "   ❔ Pregunta: 'PDC' -> Respuesta: 'PDC 025'\n",
            "   ❔ Pregunta: 'UNIDAD' -> Respuesta: 'UNIDAD 006'\n",
            "   ❔ Pregunta: 'VOTOS BLANCOS' -> Respuesta: '4'\n",
            "   ❔ Pregunta: 'VOTOS NULOS' -> Respuesta: '63'\n"
          ]
        },
        {
          "name": "stderr",
          "output_type": "stream",
          "text": [
            "\n",
            "Procesando Actas con Donut:  45%|████▍     | 245/545 [1:48:58<2:13:33, 26.71s/it]\u001b[A"
          ]
        },
        {
          "name": "stdout",
          "output_type": "stream",
          "text": [
            "   ❔ Pregunta: 'VOTOS VÁLIDOS' -> Respuesta: '14'\n",
            "\n",
            "--- Interrogando al acta: mesa_8_102054.jpg ---\n",
            "   ❔ Pregunta: 'AP' -> Respuesta: 'AP APB SOMATE'\n",
            "   ❔ Pregunta: 'APB SÚMATE' -> Respuesta: 'APB SÚMATE 5'\n",
            "   ❔ Pregunta: 'CODIGO MESA' -> Respuesta: '8'\n",
            "   ❔ Pregunta: 'ELECTORES HABILITADOS' -> Respuesta: '3'\n",
            "   ❔ Pregunta: 'FP' -> Respuesta: 'FP 4'\n",
            "   ❔ Pregunta: 'LIBRE' -> Respuesta: 'LIBRE 3'\n",
            "   ❔ Pregunta: 'LYP ADN' -> Respuesta: 'LYP ADN APB SOMATE'\n",
            "   ❔ Pregunta: 'MAS-IPSP' -> Respuesta: 'MAS-IPSP 3'\n",
            "   ❔ Pregunta: 'MESA' -> Respuesta: '8'\n",
            "   ❔ Pregunta: 'MORENA' -> Respuesta: 'MORENA 17'\n",
            "   ❔ Pregunta: 'PAPELETAS EN ÁNFORA' -> Respuesta: 'None'\n",
            "   ❔ Pregunta: 'PAPELETAS NO UTILIZADAS' -> Respuesta: '117'\n",
            "   ❔ Pregunta: 'PDC' -> Respuesta: 'PDC 28'\n",
            "   ❔ Pregunta: 'UNIDAD' -> Respuesta: 'UNIDAD 7'\n",
            "   ❔ Pregunta: 'VOTOS BLANCOS' -> Respuesta: '5'\n",
            "   ❔ Pregunta: 'VOTOS NULOS' -> Respuesta: '60'\n"
          ]
        },
        {
          "name": "stderr",
          "output_type": "stream",
          "text": [
            "\n",
            "Procesando Actas con Donut:  45%|████▌     | 246/545 [1:49:24<2:13:12, 26.73s/it]\u001b[A"
          ]
        },
        {
          "name": "stdout",
          "output_type": "stream",
          "text": [
            "   ❔ Pregunta: 'VOTOS VÁLIDOS' -> Respuesta: '78'\n",
            "\n",
            "--- Interrogando al acta: mesa_14_102024.jpg ---\n",
            "   ❔ Pregunta: 'AP' -> Respuesta: 'AP 021'\n",
            "   ❔ Pregunta: 'APB SÚMATE' -> Respuesta: 'APB SÚMATE 08 43'\n",
            "   ❔ Pregunta: 'CODIGO MESA' -> Respuesta: '14'\n",
            "   ❔ Pregunta: 'ELECTORES HABILITADOS' -> Respuesta: 'None'\n",
            "   ❔ Pregunta: 'FP' -> Respuesta: 'FP 000'\n",
            "   ❔ Pregunta: 'LIBRE' -> Respuesta: 'LIBRE 08 43'\n",
            "   ❔ Pregunta: 'LYP ADN' -> Respuesta: 'LYP ADN MESA'\n",
            "   ❔ Pregunta: 'MAS-IPSP' -> Respuesta: 'MAS-IPSP 004'\n",
            "   ❔ Pregunta: 'MESA' -> Respuesta: '14'\n",
            "   ❔ Pregunta: 'MORENA' -> Respuesta: 'MORENA 485'\n",
            "   ❔ Pregunta: 'PAPELETAS EN ÁNFORA' -> Respuesta: '435'\n",
            "   ❔ Pregunta: 'PAPELETAS NO UTILIZADAS' -> Respuesta: '485'\n",
            "   ❔ Pregunta: 'PDC' -> Respuesta: 'PDC 020'\n",
            "   ❔ Pregunta: 'UNIDAD' -> Respuesta: 'UNIDAD 00'\n",
            "   ❔ Pregunta: 'VOTOS BLANCOS' -> Respuesta: '0'\n",
            "   ❔ Pregunta: 'VOTOS NULOS' -> Respuesta: '80'\n"
          ]
        },
        {
          "name": "stderr",
          "output_type": "stream",
          "text": [
            "\n",
            "Procesando Actas con Donut:  45%|████▌     | 247/545 [1:49:51<2:12:28, 26.67s/it]\u001b[A"
          ]
        },
        {
          "name": "stdout",
          "output_type": "stream",
          "text": [
            "   ❔ Pregunta: 'VOTOS VÁLIDOS' -> Respuesta: '80'\n",
            "\n",
            "--- Interrogando al acta: mesa_7_100084.jpg ---\n",
            "   ❔ Pregunta: 'AP' -> Respuesta: 'AP 014'\n",
            "   ❔ Pregunta: 'APB SÚMATE' -> Respuesta: 'APB SÚMATE MESA: 7'\n",
            "   ❔ Pregunta: 'CODIGO MESA' -> Respuesta: 'None'\n",
            "   ❔ Pregunta: 'ELECTORES HABILITADOS' -> Respuesta: '3'\n",
            "   ❔ Pregunta: 'FP' -> Respuesta: 'FP 000'\n",
            "   ❔ Pregunta: 'LIBRE' -> Respuesta: 'LIBRE 0.23'\n",
            "   ❔ Pregunta: 'LYP ADN' -> Respuesta: 'LYP ADN 003'\n",
            "   ❔ Pregunta: 'MAS-IPSP' -> Respuesta: 'MAS-IPSP 003'\n",
            "   ❔ Pregunta: 'MESA' -> Respuesta: '7'\n",
            "   ❔ Pregunta: 'MORENA' -> Respuesta: 'MORENA 7'\n",
            "   ❔ Pregunta: 'PAPELETAS EN ÁNFORA' -> Respuesta: '708'\n",
            "   ❔ Pregunta: 'PAPELETAS NO UTILIZADAS' -> Respuesta: '212'\n",
            "   ❔ Pregunta: 'PDC' -> Respuesta: 'PDC 013'\n",
            "   ❔ Pregunta: 'UNIDAD' -> Respuesta: 'UNIDAD 019'\n",
            "   ❔ Pregunta: 'VOTOS BLANCOS' -> Respuesta: '1'\n",
            "   ❔ Pregunta: 'VOTOS NULOS' -> Respuesta: '28'\n"
          ]
        },
        {
          "name": "stderr",
          "output_type": "stream",
          "text": [
            "\n",
            "Procesando Actas con Donut:  46%|████▌     | 248/545 [1:50:18<2:11:58, 26.66s/it]\u001b[A"
          ]
        },
        {
          "name": "stdout",
          "output_type": "stream",
          "text": [
            "   ❔ Pregunta: 'VOTOS VÁLIDOS' -> Respuesta: '79'\n",
            "\n",
            "--- Interrogando al acta: mesa_5_100064.jpg ---\n",
            "   ❔ Pregunta: 'AP' -> Respuesta: 'AP 005'\n",
            "   ❔ Pregunta: 'APB SÚMATE' -> Respuesta: 'APB SÚMATE 006'\n",
            "   ❔ Pregunta: 'CODIGO MESA' -> Respuesta: 'None'\n",
            "   ❔ Pregunta: 'ELECTORES HABILITADOS' -> Respuesta: 'None'\n",
            "   ❔ Pregunta: 'FP' -> Respuesta: 'FP 001'\n",
            "   ❔ Pregunta: 'LIBRE' -> Respuesta: 'LIBRE 0.25'\n",
            "   ❔ Pregunta: 'LYP ADN' -> Respuesta: 'LYP ADN MESA: 5'\n",
            "   ❔ Pregunta: 'MAS-IPSP' -> Respuesta: 'MAS-IPSP 003'\n",
            "   ❔ Pregunta: 'MESA' -> Respuesta: '5'\n",
            "   ❔ Pregunta: 'MORENA' -> Respuesta: 'MORENA 0.25'\n",
            "   ❔ Pregunta: 'PAPELETAS EN ÁNFORA' -> Respuesta: '102'\n",
            "   ❔ Pregunta: 'PAPELETAS NO UTILIZADAS' -> Respuesta: '248'\n",
            "   ❔ Pregunta: 'PDC' -> Respuesta: 'PDC 023'\n",
            "   ❔ Pregunta: 'UNIDAD' -> Respuesta: 'UNIDAD 0.9'\n",
            "   ❔ Pregunta: 'VOTOS BLANCOS' -> Respuesta: '5'\n",
            "   ❔ Pregunta: 'VOTOS NULOS' -> Respuesta: '25'\n"
          ]
        },
        {
          "name": "stderr",
          "output_type": "stream",
          "text": [
            "\n",
            "Procesando Actas con Donut:  46%|████▌     | 249/545 [1:50:45<2:11:58, 26.75s/it]\u001b[A"
          ]
        },
        {
          "name": "stdout",
          "output_type": "stream",
          "text": [
            "   ❔ Pregunta: 'VOTOS VÁLIDOS' -> Respuesta: '72'\n",
            "\n",
            "--- Interrogando al acta: mesa_3_100044.jpg ---\n",
            "   ❔ Pregunta: 'AP' -> Respuesta: 'AP 0.14'\n",
            "   ❔ Pregunta: 'APB SÚMATE' -> Respuesta: 'APB SÚMATE MOSA: 3'\n",
            "   ❔ Pregunta: 'CODIGO MESA' -> Respuesta: 'None'\n",
            "   ❔ Pregunta: 'ELECTORES HABILITADOS' -> Respuesta: '3'\n",
            "   ❔ Pregunta: 'FP' -> Respuesta: 'FP 0 8 00'\n",
            "   ❔ Pregunta: 'LIBRE' -> Respuesta: 'LIBRE 0.2.0'\n",
            "   ❔ Pregunta: 'LYP ADN' -> Respuesta: 'LYP ADN 002'\n",
            "   ❔ Pregunta: 'MAS-IPSP' -> Respuesta: 'MAS-IPSP 002'\n",
            "   ❔ Pregunta: 'MESA' -> Respuesta: '3'\n",
            "   ❔ Pregunta: 'MORENA' -> Respuesta: 'MORENA 770'\n",
            "   ❔ Pregunta: 'PAPELETAS EN ÁNFORA' -> Respuesta: '770'\n",
            "   ❔ Pregunta: 'PAPELETAS NO UTILIZADAS' -> Respuesta: '770'\n",
            "   ❔ Pregunta: 'PDC' -> Respuesta: 'PDC 017'\n",
            "   ❔ Pregunta: 'UNIDAD' -> Respuesta: 'UNIDAD 015'\n",
            "   ❔ Pregunta: 'VOTOS BLANCOS' -> Respuesta: '1'\n",
            "   ❔ Pregunta: 'VOTOS NULOS' -> Respuesta: '33'\n"
          ]
        },
        {
          "name": "stderr",
          "output_type": "stream",
          "text": [
            "\n",
            "Procesando Actas con Donut:  46%|████▌     | 250/545 [1:51:11<2:11:18, 26.71s/it]\u001b[A"
          ]
        },
        {
          "name": "stdout",
          "output_type": "stream",
          "text": [
            "   ❔ Pregunta: 'VOTOS VÁLIDOS' -> Respuesta: '76'\n",
            "\n",
            "--- Interrogando al acta: mesa_4_100054.jpg ---\n",
            "   ❔ Pregunta: 'AP' -> Respuesta: 'AP 0 1'\n",
            "   ❔ Pregunta: 'APB SÚMATE' -> Respuesta: 'APB SÚMATE MOS-IPSP'\n",
            "   ❔ Pregunta: 'CODIGO MESA' -> Respuesta: 'None'\n",
            "   ❔ Pregunta: 'ELECTORES HABILITADOS' -> Respuesta: '3'\n",
            "   ❔ Pregunta: 'FP' -> Respuesta: 'FP 000'\n",
            "   ❔ Pregunta: 'LIBRE' -> Respuesta: 'LIBRE 0.28'\n",
            "   ❔ Pregunta: 'LYP ADN' -> Respuesta: 'LYP ADN AP'\n",
            "   ❔ Pregunta: 'MAS-IPSP' -> Respuesta: 'MAS-IPSP 0 0 4'\n",
            "   ❔ Pregunta: 'MESA' -> Respuesta: '4'\n",
            "   ❔ Pregunta: 'MORENA' -> Respuesta: 'MORENA 7000'\n",
            "   ❔ Pregunta: 'PAPELETAS EN ÁNFORA' -> Respuesta: '8'\n",
            "   ❔ Pregunta: 'PAPELETAS NO UTILIZADAS' -> Respuesta: '208'\n",
            "   ❔ Pregunta: 'PDC' -> Respuesta: 'PDC 008'\n",
            "   ❔ Pregunta: 'UNIDAD' -> Respuesta: 'UNIDAD 017'\n",
            "   ❔ Pregunta: 'VOTOS BLANCOS' -> Respuesta: '4'\n",
            "   ❔ Pregunta: 'VOTOS NULOS' -> Respuesta: '27'\n"
          ]
        },
        {
          "name": "stderr",
          "output_type": "stream",
          "text": [
            "\n",
            "Procesando Actas con Donut:  46%|████▌     | 251/545 [1:51:38<2:10:42, 26.67s/it]\u001b[A"
          ]
        },
        {
          "name": "stdout",
          "output_type": "stream",
          "text": [
            "   ❔ Pregunta: 'VOTOS VÁLIDOS' -> Respuesta: '81'\n",
            "\n",
            "--- Interrogando al acta: mesa_9_100104.jpg ---\n",
            "   ❔ Pregunta: 'AP' -> Respuesta: 'AP 0 1'\n",
            "   ❔ Pregunta: 'APB SÚMATE' -> Respuesta: 'APB SÚMATE MOSA: 9'\n",
            "   ❔ Pregunta: 'CODIGO MESA' -> Respuesta: 'None'\n",
            "   ❔ Pregunta: 'ELECTORES HABILITADOS' -> Respuesta: '28'\n",
            "   ❔ Pregunta: 'FP' -> Respuesta: 'FP 002'\n",
            "   ❔ Pregunta: 'LIBRE' -> Respuesta: 'LIBRE 025'\n",
            "   ❔ Pregunta: 'LYP ADN' -> Respuesta: 'LYP ADN APB SOMATE'\n",
            "   ❔ Pregunta: 'MAS-IPSP' -> Respuesta: 'MAS-IPSP 002'\n",
            "   ❔ Pregunta: 'MESA' -> Respuesta: '9'\n",
            "   ❔ Pregunta: 'MORENA' -> Respuesta: 'MORENA 0 1'\n",
            "   ❔ Pregunta: 'PAPELETAS EN ÁNFORA' -> Respuesta: '83'\n",
            "   ❔ Pregunta: 'PAPELETAS NO UTILIZADAS' -> Respuesta: '213'\n",
            "   ❔ Pregunta: 'PDC' -> Respuesta: 'PDC 013'\n",
            "   ❔ Pregunta: 'UNIDAD' -> Respuesta: 'UNIDAD 015'\n",
            "   ❔ Pregunta: 'VOTOS BLANCOS' -> Respuesta: '0'\n",
            "   ❔ Pregunta: 'VOTOS NULOS' -> Respuesta: '28'\n"
          ]
        },
        {
          "name": "stderr",
          "output_type": "stream",
          "text": [
            "\n",
            "Procesando Actas con Donut:  46%|████▌     | 252/545 [1:52:05<2:10:19, 26.69s/it]\u001b[A"
          ]
        },
        {
          "name": "stdout",
          "output_type": "stream",
          "text": [
            "   ❔ Pregunta: 'VOTOS VÁLIDOS' -> Respuesta: '80'\n",
            "\n",
            "--- Interrogando al acta: mesa_1_100024.jpg ---\n",
            "   ❔ Pregunta: 'AP' -> Respuesta: 'AP 011'\n",
            "   ❔ Pregunta: 'APB SÚMATE' -> Respuesta: 'APB SÚMATE 0 1'\n",
            "   ❔ Pregunta: 'CODIGO MESA' -> Respuesta: '1'\n",
            "   ❔ Pregunta: 'ELECTORES HABILITADOS' -> Respuesta: '3'\n",
            "   ❔ Pregunta: 'FP' -> Respuesta: 'FP 003'\n",
            "   ❔ Pregunta: 'LIBRE' -> Respuesta: 'LIBRE 0 1'\n",
            "   ❔ Pregunta: 'LYP ADN' -> Respuesta: 'LYP ADN APB SUMATE'\n",
            "   ❔ Pregunta: 'MAS-IPSP' -> Respuesta: 'MAS-IPSP 002'\n",
            "   ❔ Pregunta: 'MESA' -> Respuesta: '1'\n",
            "   ❔ Pregunta: 'MORENA' -> Respuesta: 'MORENA 0 1'\n",
            "   ❔ Pregunta: 'PAPELETAS EN ÁNFORA' -> Respuesta: '95'\n",
            "   ❔ Pregunta: 'PAPELETAS NO UTILIZADAS' -> Respuesta: '206'\n",
            "   ❔ Pregunta: 'PDC' -> Respuesta: 'PDC 015'\n",
            "   ❔ Pregunta: 'UNIDAD' -> Respuesta: 'UNIDAD 020'\n",
            "   ❔ Pregunta: 'VOTOS BLANCOS' -> Respuesta: '4'\n",
            "   ❔ Pregunta: 'VOTOS NULOS' -> Respuesta: '13'\n"
          ]
        },
        {
          "name": "stderr",
          "output_type": "stream",
          "text": [
            "\n",
            "Procesando Actas con Donut:  46%|████▋     | 253/545 [1:52:31<2:09:50, 26.68s/it]\u001b[A"
          ]
        },
        {
          "name": "stdout",
          "output_type": "stream",
          "text": [
            "   ❔ Pregunta: 'VOTOS VÁLIDOS' -> Respuesta: '96'\n",
            "\n",
            "--- Interrogando al acta: mesa_10_100114.jpg ---\n",
            "   ❔ Pregunta: 'AP' -> Respuesta: 'AP 014'\n",
            "   ❔ Pregunta: 'APB SÚMATE' -> Respuesta: 'APB SÚMATE 081'\n",
            "   ❔ Pregunta: 'CODIGO MESA' -> Respuesta: 'None'\n",
            "   ❔ Pregunta: 'ELECTORES HABILITADOS' -> Respuesta: '3'\n",
            "   ❔ Pregunta: 'FP' -> Respuesta: 'FP 081'\n",
            "   ❔ Pregunta: 'LIBRE' -> Respuesta: 'LIBRE 031'\n",
            "   ❔ Pregunta: 'LYP ADN' -> Respuesta: 'LYP ADN APB SUMATE'\n",
            "   ❔ Pregunta: 'MAS-IPSP' -> Respuesta: 'MAS-IPSP 003'\n",
            "   ❔ Pregunta: 'MESA' -> Respuesta: '10'\n",
            "   ❔ Pregunta: 'MORENA' -> Respuesta: 'MORENA 081'\n",
            "   ❔ Pregunta: 'PAPELETAS EN ÁNFORA' -> Respuesta: '106'\n",
            "   ❔ Pregunta: 'PAPELETAS NO UTILIZADAS' -> Respuesta: '106'\n",
            "   ❔ Pregunta: 'PDC' -> Respuesta: 'PDC 014'\n",
            "   ❔ Pregunta: 'UNIDAD' -> Respuesta: 'UNIDAD 011'\n",
            "   ❔ Pregunta: 'VOTOS BLANCOS' -> Respuesta: '3'\n",
            "   ❔ Pregunta: 'VOTOS NULOS' -> Respuesta: '21'\n"
          ]
        },
        {
          "name": "stderr",
          "output_type": "stream",
          "text": [
            "\n",
            "Procesando Actas con Donut:  47%|████▋     | 254/545 [1:52:58<2:09:33, 26.71s/it]\u001b[A"
          ]
        },
        {
          "name": "stdout",
          "output_type": "stream",
          "text": [
            "   ❔ Pregunta: 'VOTOS VÁLIDOS' -> Respuesta: '83'\n",
            "\n",
            "--- Interrogando al acta: mesa_6_100074.jpg ---\n",
            "   ❔ Pregunta: 'AP' -> Respuesta: 'AP 0 9'\n",
            "   ❔ Pregunta: 'APB SÚMATE' -> Respuesta: 'APB SÚMATE 005'\n",
            "   ❔ Pregunta: 'CODIGO MESA' -> Respuesta: 'None'\n",
            "   ❔ Pregunta: 'ELECTORES HABILITADOS' -> Respuesta: '3'\n",
            "   ❔ Pregunta: 'FP' -> Respuesta: 'FP 006'\n",
            "   ❔ Pregunta: 'LIBRE' -> Respuesta: 'LIBRE 0 3'\n",
            "   ❔ Pregunta: 'LYP ADN' -> Respuesta: 'LYP ADN 003'\n",
            "   ❔ Pregunta: 'MAS-IPSP' -> Respuesta: 'MAS-IPSP 0 0 1'\n",
            "   ❔ Pregunta: 'MESA' -> Respuesta: '6'\n",
            "   ❔ Pregunta: 'MORENA' -> Respuesta: 'MORENA 0.8'\n",
            "   ❔ Pregunta: 'PAPELETAS EN ÁNFORA' -> Respuesta: '28'\n",
            "   ❔ Pregunta: 'PAPELETAS NO UTILIZADAS' -> Respuesta: '205'\n",
            "   ❔ Pregunta: 'PDC' -> Respuesta: 'PDC 0 18'\n",
            "   ❔ Pregunta: 'UNIDAD' -> Respuesta: 'UNIDAD 014'\n",
            "   ❔ Pregunta: 'VOTOS BLANCOS' -> Respuesta: '0'\n",
            "   ❔ Pregunta: 'VOTOS NULOS' -> Respuesta: '27'\n"
          ]
        },
        {
          "name": "stderr",
          "output_type": "stream",
          "text": [
            "\n",
            "Procesando Actas con Donut:  47%|████▋     | 255/545 [1:53:25<2:09:03, 26.70s/it]\u001b[A"
          ]
        },
        {
          "name": "stdout",
          "output_type": "stream",
          "text": [
            "   ❔ Pregunta: 'VOTOS VÁLIDOS' -> Respuesta: '88'\n",
            "\n",
            "--- Interrogando al acta: mesa_2_100034.jpg ---\n",
            "   ❔ Pregunta: 'AP' -> Respuesta: 'AP A3'\n",
            "   ❔ Pregunta: 'APB SÚMATE' -> Respuesta: 'APB SÚMATE 006'\n",
            "   ❔ Pregunta: 'CODIGO MESA' -> Respuesta: '900'\n",
            "   ❔ Pregunta: 'ELECTORES HABILITADOS' -> Respuesta: '3'\n",
            "   ❔ Pregunta: 'FP' -> Respuesta: 'FP 003'\n",
            "   ❔ Pregunta: 'LIBRE' -> Respuesta: 'LIBRE 034'\n",
            "   ❔ Pregunta: 'LYP ADN' -> Respuesta: 'LYP ADN 00 2'\n",
            "   ❔ Pregunta: 'MAS-IPSP' -> Respuesta: 'MAS-IPSP 002'\n",
            "   ❔ Pregunta: 'MESA' -> Respuesta: '900'\n",
            "   ❔ Pregunta: 'MORENA' -> Respuesta: 'MORENA 7000'\n",
            "   ❔ Pregunta: 'PAPELETAS EN ÁNFORA' -> Respuesta: '107'\n",
            "   ❔ Pregunta: 'PAPELETAS NO UTILIZADAS' -> Respuesta: '213'\n",
            "   ❔ Pregunta: 'PDC' -> Respuesta: 'PDC 015'\n",
            "   ❔ Pregunta: 'UNIDAD' -> Respuesta: 'UNIDAD 014'\n",
            "   ❔ Pregunta: 'VOTOS BLANCOS' -> Respuesta: '1'\n",
            "   ❔ Pregunta: 'VOTOS NULOS' -> Respuesta: '22'\n"
          ]
        },
        {
          "name": "stderr",
          "output_type": "stream",
          "text": [
            "\n",
            "Procesando Actas con Donut:  47%|████▋     | 256/545 [1:53:51<2:08:26, 26.67s/it]\u001b[A"
          ]
        },
        {
          "name": "stdout",
          "output_type": "stream",
          "text": [
            "   ❔ Pregunta: 'VOTOS VÁLIDOS' -> Respuesta: '89'\n",
            "\n",
            "--- Interrogando al acta: mesa_8_100094.jpg ---\n",
            "   ❔ Pregunta: 'AP' -> Respuesta: 'AP 015'\n",
            "   ❔ Pregunta: 'APB SÚMATE' -> Respuesta: 'APB SÚMATE 003'\n",
            "   ❔ Pregunta: 'CODIGO MESA' -> Respuesta: 'None'\n",
            "   ❔ Pregunta: 'ELECTORES HABILITADOS' -> Respuesta: '3'\n",
            "   ❔ Pregunta: 'FP' -> Respuesta: 'FP 002'\n",
            "   ❔ Pregunta: 'LIBRE' -> Respuesta: 'LIBRE 025'\n",
            "   ❔ Pregunta: 'LYP ADN' -> Respuesta: 'LYP ADN 08 10'\n",
            "   ❔ Pregunta: 'MAS-IPSP' -> Respuesta: 'MAS-IPSP 004'\n",
            "   ❔ Pregunta: 'MESA' -> Respuesta: '8'\n",
            "   ❔ Pregunta: 'MORENA' -> Respuesta: 'MORENA 0810'\n",
            "   ❔ Pregunta: 'PAPELETAS EN ÁNFORA' -> Respuesta: '83'\n",
            "   ❔ Pregunta: 'PAPELETAS NO UTILIZADAS' -> Respuesta: '810'\n",
            "   ❔ Pregunta: 'PDC' -> Respuesta: 'PDC 0.15'\n",
            "   ❔ Pregunta: 'UNIDAD' -> Respuesta: 'UNIDAD 021'\n",
            "   ❔ Pregunta: 'VOTOS BLANCOS' -> Respuesta: '3'\n",
            "   ❔ Pregunta: 'VOTOS NULOS' -> Respuesta: '23'\n"
          ]
        },
        {
          "name": "stderr",
          "output_type": "stream",
          "text": [
            "\n",
            "Procesando Actas con Donut:  47%|████▋     | 257/545 [1:54:18<2:07:55, 26.65s/it]\u001b[A"
          ]
        },
        {
          "name": "stdout",
          "output_type": "stream",
          "text": [
            "   ❔ Pregunta: 'VOTOS VÁLIDOS' -> Respuesta: '80'\n",
            "\n",
            "--- Interrogando al acta: mesa_1_103334.jpg ---\n",
            "   ❔ Pregunta: 'AP' -> Respuesta: 'AP 018'\n",
            "   ❔ Pregunta: 'APB SÚMATE' -> Respuesta: 'APB SÚMATE 006'\n",
            "   ❔ Pregunta: 'CODIGO MESA' -> Respuesta: 'None'\n",
            "   ❔ Pregunta: 'ELECTORES HABILITADOS' -> Respuesta: '3'\n",
            "   ❔ Pregunta: 'FP' -> Respuesta: 'FP 003'\n",
            "   ❔ Pregunta: 'LIBRE' -> Respuesta: 'LIBRE 08.00'\n",
            "   ❔ Pregunta: 'LYP ADN' -> Respuesta: 'LYP ADN 0001'\n",
            "   ❔ Pregunta: 'MAS-IPSP' -> Respuesta: 'MAS-IPSP 080'\n",
            "   ❔ Pregunta: 'MESA' -> Respuesta: '1'\n",
            "   ❔ Pregunta: 'MORENA' -> Respuesta: 'MORENA 018'\n",
            "   ❔ Pregunta: 'PAPELETAS EN ÁNFORA' -> Respuesta: '379'\n",
            "   ❔ Pregunta: 'PAPELETAS NO UTILIZADAS' -> Respuesta: '229'\n",
            "   ❔ Pregunta: 'PDC' -> Respuesta: 'PDC 040'\n",
            "   ❔ Pregunta: 'UNIDAD' -> Respuesta: 'UNIDAD 003'\n",
            "   ❔ Pregunta: 'VOTOS BLANCOS' -> Respuesta: '2'\n",
            "   ❔ Pregunta: 'VOTOS NULOS' -> Respuesta: '40'\n"
          ]
        },
        {
          "name": "stderr",
          "output_type": "stream",
          "text": [
            "\n",
            "Procesando Actas con Donut:  47%|████▋     | 258/545 [1:54:44<2:07:21, 26.63s/it]\u001b[A"
          ]
        },
        {
          "name": "stdout",
          "output_type": "stream",
          "text": [
            "   ❔ Pregunta: 'VOTOS VÁLIDOS' -> Respuesta: '48'\n",
            "\n",
            "--- Interrogando al acta: mesa_7_103394.jpg ---\n",
            "   ❔ Pregunta: 'AP' -> Respuesta: 'AP 013'\n",
            "   ❔ Pregunta: 'APB SÚMATE' -> Respuesta: 'APB SÚMATE 00 7'\n",
            "   ❔ Pregunta: 'CODIGO MESA' -> Respuesta: '7'\n",
            "   ❔ Pregunta: 'ELECTORES HABILITADOS' -> Respuesta: '3'\n",
            "   ❔ Pregunta: 'FP' -> Respuesta: 'FP 003'\n",
            "   ❔ Pregunta: 'LIBRE' -> Respuesta: 'LIBRE 004'\n",
            "   ❔ Pregunta: 'LYP ADN' -> Respuesta: 'LYP ADN 0830'\n",
            "   ❔ Pregunta: 'MAS-IPSP' -> Respuesta: 'MAS-IPSP 005'\n",
            "   ❔ Pregunta: 'MESA' -> Respuesta: '7'\n",
            "   ❔ Pregunta: 'MORENA' -> Respuesta: 'MORENA 7'\n",
            "   ❔ Pregunta: 'PAPELETAS EN ÁNFORA' -> Respuesta: '13'\n",
            "   ❔ Pregunta: 'PAPELETAS NO UTILIZADAS' -> Respuesta: '83'\n",
            "   ❔ Pregunta: 'PDC' -> Respuesta: 'PDC 0.9'\n",
            "   ❔ Pregunta: 'UNIDAD' -> Respuesta: 'UNIDAD 00 2'\n",
            "   ❔ Pregunta: 'VOTOS BLANCOS' -> Respuesta: '8'\n",
            "   ❔ Pregunta: 'VOTOS NULOS' -> Respuesta: '58'\n"
          ]
        },
        {
          "name": "stderr",
          "output_type": "stream",
          "text": [
            "\n",
            "Procesando Actas con Donut:  48%|████▊     | 259/545 [1:55:11<2:07:31, 26.75s/it]\u001b[A"
          ]
        },
        {
          "name": "stdout",
          "output_type": "stream",
          "text": [
            "   ❔ Pregunta: 'VOTOS VÁLIDOS' -> Respuesta: '44'\n",
            "\n",
            "--- Interrogando al acta: mesa_6_103384.jpg ---\n",
            "   ❔ Pregunta: 'AP' -> Respuesta: 'AP LINDA'\n",
            "   ❔ Pregunta: 'APB SÚMATE' -> Respuesta: 'APB SÚMATE LINDA'\n",
            "   ❔ Pregunta: 'CODIGO MESA' -> Respuesta: 'None'\n",
            "   ❔ Pregunta: 'ELECTORES HABILITADOS' -> Respuesta: '3'\n",
            "   ❔ Pregunta: 'FP' -> Respuesta: 'FP 003'\n",
            "   ❔ Pregunta: 'LIBRE' -> Respuesta: 'LIBRE 004'\n",
            "   ❔ Pregunta: 'LYP ADN' -> Respuesta: 'LYP ADN APB SUMATE'\n",
            "   ❔ Pregunta: 'MAS-IPSP' -> Respuesta: 'MAS-IPSP 003'\n",
            "   ❔ Pregunta: 'MESA' -> Respuesta: '6'\n",
            "   ❔ Pregunta: 'MORENA' -> Respuesta: 'MORENA 017'\n",
            "   ❔ Pregunta: 'PAPELETAS EN ÁNFORA' -> Respuesta: '3'\n",
            "   ❔ Pregunta: 'PAPELETAS NO UTILIZADAS' -> Respuesta: '0'\n",
            "   ❔ Pregunta: 'PDC' -> Respuesta: 'PDC 014'\n",
            "   ❔ Pregunta: 'UNIDAD' -> Respuesta: 'UNIDAD 003'\n",
            "   ❔ Pregunta: 'VOTOS BLANCOS' -> Respuesta: '5'\n",
            "   ❔ Pregunta: 'VOTOS NULOS' -> Respuesta: '48'\n"
          ]
        },
        {
          "name": "stderr",
          "output_type": "stream",
          "text": [
            "\n",
            "Procesando Actas con Donut:  48%|████▊     | 260/545 [1:55:38<2:06:58, 26.73s/it]\u001b[A"
          ]
        },
        {
          "name": "stdout",
          "output_type": "stream",
          "text": [
            "   ❔ Pregunta: 'VOTOS VÁLIDOS' -> Respuesta: '5'\n",
            "\n",
            "--- Interrogando al acta: mesa_2_103344.jpg ---\n",
            "   ❔ Pregunta: 'AP' -> Respuesta: 'AP 012'\n",
            "   ❔ Pregunta: 'APB SÚMATE' -> Respuesta: 'APB SÚMATE 002'\n",
            "   ❔ Pregunta: 'CODIGO MESA' -> Respuesta: '10'\n",
            "   ❔ Pregunta: 'ELECTORES HABILITADOS' -> Respuesta: '3'\n",
            "   ❔ Pregunta: 'FP' -> Respuesta: 'FP 003'\n",
            "   ❔ Pregunta: 'LIBRE' -> Respuesta: 'LIBRE 004'\n",
            "   ❔ Pregunta: 'LYP ADN' -> Respuesta: 'LYP ADN 001'\n",
            "   ❔ Pregunta: 'MAS-IPSP' -> Respuesta: 'MAS-IPSP 003'\n",
            "   ❔ Pregunta: 'MESA' -> Respuesta: '2'\n",
            "   ❔ Pregunta: 'MORENA' -> Respuesta: 'MORENA 0.12'\n",
            "   ❔ Pregunta: 'PAPELETAS EN ÁNFORA' -> Respuesta: '101'\n",
            "   ❔ Pregunta: 'PAPELETAS NO UTILIZADAS' -> Respuesta: '219'\n",
            "   ❔ Pregunta: 'PDC' -> Respuesta: 'PDC 0.12'\n",
            "   ❔ Pregunta: 'UNIDAD' -> Respuesta: 'UNIDAD 002'\n",
            "   ❔ Pregunta: 'VOTOS BLANCOS' -> Respuesta: '5'\n",
            "   ❔ Pregunta: 'VOTOS NULOS' -> Respuesta: '52'\n"
          ]
        },
        {
          "name": "stderr",
          "output_type": "stream",
          "text": [
            "\n",
            "Procesando Actas con Donut:  48%|████▊     | 261/545 [1:56:05<2:06:45, 26.78s/it]\u001b[A"
          ]
        },
        {
          "name": "stdout",
          "output_type": "stream",
          "text": [
            "   ❔ Pregunta: 'VOTOS VÁLIDOS' -> Respuesta: '44'\n",
            "\n",
            "--- Interrogando al acta: mesa_3_103354.jpg ---\n",
            "   ❔ Pregunta: 'AP' -> Respuesta: 'AP 079'\n",
            "   ❔ Pregunta: 'APB SÚMATE' -> Respuesta: 'APB SÚMATE 004'\n",
            "   ❔ Pregunta: 'CODIGO MESA' -> Respuesta: 'None'\n",
            "   ❔ Pregunta: 'ELECTORES HABILITADOS' -> Respuesta: 'None'\n",
            "   ❔ Pregunta: 'FP' -> Respuesta: 'FP 0.36'\n",
            "   ❔ Pregunta: 'LIBRE' -> Respuesta: 'LIBRE 0 4'\n",
            "   ❔ Pregunta: 'LYP ADN' -> Respuesta: 'LYP ADN 004'\n",
            "   ❔ Pregunta: 'MAS-IPSP' -> Respuesta: 'MAS-IPSP 004'\n",
            "   ❔ Pregunta: 'MESA' -> Respuesta: '3'\n",
            "   ❔ Pregunta: 'MORENA' -> Respuesta: 'MORENA 0.9'\n",
            "   ❔ Pregunta: 'PAPELETAS EN ÁNFORA' -> Respuesta: '93'\n",
            "   ❔ Pregunta: 'PAPELETAS NO UTILIZADAS' -> Respuesta: '93'\n",
            "   ❔ Pregunta: 'PDC' -> Respuesta: 'PDC 076'\n",
            "   ❔ Pregunta: 'UNIDAD' -> Respuesta: 'UNIDAD 003'\n",
            "   ❔ Pregunta: 'VOTOS BLANCOS' -> Respuesta: '5'\n",
            "   ❔ Pregunta: 'VOTOS NULOS' -> Respuesta: '36'\n"
          ]
        },
        {
          "name": "stderr",
          "output_type": "stream",
          "text": [
            "\n",
            "Procesando Actas con Donut:  48%|████▊     | 262/545 [1:56:32<2:06:00, 26.72s/it]\u001b[A"
          ]
        },
        {
          "name": "stdout",
          "output_type": "stream",
          "text": [
            "   ❔ Pregunta: 'VOTOS VÁLIDOS' -> Respuesta: '52'\n",
            "\n",
            "--- Interrogando al acta: mesa_4_103364.jpg ---\n",
            "   ❔ Pregunta: 'AP' -> Respuesta: 'AP 020'\n",
            "   ❔ Pregunta: 'APB SÚMATE' -> Respuesta: 'APB SÚMATE 003'\n",
            "   ❔ Pregunta: 'CODIGO MESA' -> Respuesta: '3364'\n",
            "   ❔ Pregunta: 'ELECTORES HABILITADOS' -> Respuesta: '3'\n",
            "   ❔ Pregunta: 'FP' -> Respuesta: 'FP 003'\n",
            "   ❔ Pregunta: 'LIBRE' -> Respuesta: 'LIBRE 020'\n",
            "   ❔ Pregunta: 'LYP ADN' -> Respuesta: 'LYP ADN 003'\n",
            "   ❔ Pregunta: 'MAS-IPSP' -> Respuesta: 'MAS-IPSP 004'\n",
            "   ❔ Pregunta: 'MESA' -> Respuesta: '4'\n",
            "   ❔ Pregunta: 'MORENA' -> Respuesta: 'MORENA 0 2 1 6'\n",
            "   ❔ Pregunta: 'PAPELETAS EN ÁNFORA' -> Respuesta: '45'\n",
            "   ❔ Pregunta: 'PAPELETAS NO UTILIZADAS' -> Respuesta: '48'\n",
            "   ❔ Pregunta: 'PDC' -> Respuesta: 'PDC 008'\n",
            "   ❔ Pregunta: 'UNIDAD' -> Respuesta: 'UNIDAD 0 06'\n",
            "   ❔ Pregunta: 'VOTOS BLANCOS' -> Respuesta: '5'\n",
            "   ❔ Pregunta: 'VOTOS NULOS' -> Respuesta: '48'\n"
          ]
        },
        {
          "name": "stderr",
          "output_type": "stream",
          "text": [
            "\n",
            "Procesando Actas con Donut:  48%|████▊     | 263/545 [1:56:58<2:05:49, 26.77s/it]\u001b[A"
          ]
        },
        {
          "name": "stdout",
          "output_type": "stream",
          "text": [
            "   ❔ Pregunta: 'VOTOS VÁLIDOS' -> Respuesta: '57'\n",
            "\n",
            "--- Interrogando al acta: mesa_5_103374.jpg ---\n",
            "   ❔ Pregunta: 'AP' -> Respuesta: 'AP 79'\n",
            "   ❔ Pregunta: 'APB SÚMATE' -> Respuesta: 'APB SÚMATE MOSA: 5'\n",
            "   ❔ Pregunta: 'CODIGO MESA' -> Respuesta: '5'\n",
            "   ❔ Pregunta: 'ELECTORES HABILITADOS' -> Respuesta: '3'\n",
            "   ❔ Pregunta: 'FP' -> Respuesta: 'FP 003'\n",
            "   ❔ Pregunta: 'LIBRE' -> Respuesta: 'LIBRE 00 2'\n",
            "   ❔ Pregunta: 'LYP ADN' -> Respuesta: 'LYP ADN 00'\n",
            "   ❔ Pregunta: 'MAS-IPSP' -> Respuesta: 'MAS-IPSP 300'\n",
            "   ❔ Pregunta: 'MESA' -> Respuesta: '5'\n",
            "   ❔ Pregunta: 'MORENA' -> Respuesta: 'MORENA 796'\n",
            "   ❔ Pregunta: 'PAPELETAS EN ÁNFORA' -> Respuesta: '94'\n",
            "   ❔ Pregunta: 'PAPELETAS NO UTILIZADAS' -> Respuesta: '94'\n",
            "   ❔ Pregunta: 'PDC' -> Respuesta: 'PDC 014'\n",
            "   ❔ Pregunta: 'UNIDAD' -> Respuesta: 'UNIDAD 001'\n",
            "   ❔ Pregunta: 'VOTOS BLANCOS' -> Respuesta: '900'\n",
            "   ❔ Pregunta: 'VOTOS NULOS' -> Respuesta: '460'\n"
          ]
        },
        {
          "name": "stderr",
          "output_type": "stream",
          "text": [
            "\n",
            "Procesando Actas con Donut:  48%|████▊     | 264/545 [1:57:25<2:05:03, 26.70s/it]\u001b[A"
          ]
        },
        {
          "name": "stdout",
          "output_type": "stream",
          "text": [
            "   ❔ Pregunta: 'VOTOS VÁLIDOS' -> Respuesta: '46'\n",
            "\n",
            "--- Interrogando al acta: mesa_8_103404.jpg ---\n",
            "   ❔ Pregunta: 'AP' -> Respuesta: 'AP 012'\n",
            "   ❔ Pregunta: 'APB SÚMATE' -> Respuesta: 'APB SÚMATE 0.9'\n",
            "   ❔ Pregunta: 'CODIGO MESA' -> Respuesta: '8'\n",
            "   ❔ Pregunta: 'ELECTORES HABILITADOS' -> Respuesta: '3'\n",
            "   ❔ Pregunta: 'FP' -> Respuesta: 'FP 008'\n",
            "   ❔ Pregunta: 'LIBRE' -> Respuesta: 'LIBRE 004'\n",
            "   ❔ Pregunta: 'LYP ADN' -> Respuesta: 'LYP ADN 004'\n",
            "   ❔ Pregunta: 'MAS-IPSP' -> Respuesta: 'MAS-IPSP 003'\n",
            "   ❔ Pregunta: 'MESA' -> Respuesta: '8'\n",
            "   ❔ Pregunta: 'MORENA' -> Respuesta: 'MORENA 0 9'\n",
            "   ❔ Pregunta: 'PAPELETAS EN ÁNFORA' -> Respuesta: '99'\n",
            "   ❔ Pregunta: 'PAPELETAS NO UTILIZADAS' -> Respuesta: '9'\n",
            "   ❔ Pregunta: 'PDC' -> Respuesta: 'PDC 049'\n",
            "   ❔ Pregunta: 'UNIDAD' -> Respuesta: 'UNIDAD 007'\n",
            "   ❔ Pregunta: 'VOTOS BLANCOS' -> Respuesta: '1'\n",
            "   ❔ Pregunta: 'VOTOS NULOS' -> Respuesta: '53'\n"
          ]
        },
        {
          "name": "stderr",
          "output_type": "stream",
          "text": [
            "\n",
            "Procesando Actas con Donut:  49%|████▊     | 265/545 [1:57:52<2:04:29, 26.68s/it]\u001b[A"
          ]
        },
        {
          "name": "stdout",
          "output_type": "stream",
          "text": [
            "   ❔ Pregunta: 'VOTOS VÁLIDOS' -> Respuesta: '55'\n",
            "\n",
            "--- Interrogando al acta: mesa_8_101894.jpg ---\n",
            "   ❔ Pregunta: 'AP' -> Respuesta: 'AP 021'\n",
            "   ❔ Pregunta: 'APB SÚMATE' -> Respuesta: 'APB SÚMATE 002'\n",
            "   ❔ Pregunta: 'CODIGO MESA' -> Respuesta: '8'\n",
            "   ❔ Pregunta: 'ELECTORES HABILITADOS' -> Respuesta: 'None'\n",
            "   ❔ Pregunta: 'FP' -> Respuesta: 'FP 004'\n",
            "   ❔ Pregunta: 'LIBRE' -> Respuesta: 'LIBRE 021'\n",
            "   ❔ Pregunta: 'LYP ADN' -> Respuesta: 'LYP ADN 001'\n",
            "   ❔ Pregunta: 'MAS-IPSP' -> Respuesta: 'MAS-IPSP 003'\n",
            "   ❔ Pregunta: 'MESA' -> Respuesta: '8'\n",
            "   ❔ Pregunta: 'MORENA' -> Respuesta: 'MORENA 021'\n",
            "   ❔ Pregunta: 'PAPELETAS EN ÁNFORA' -> Respuesta: '36'\n",
            "   ❔ Pregunta: 'PAPELETAS NO UTILIZADAS' -> Respuesta: '800'\n",
            "   ❔ Pregunta: 'PDC' -> Respuesta: 'PDC 014'\n",
            "   ❔ Pregunta: 'UNIDAD' -> Respuesta: 'UNIDAD 014'\n",
            "   ❔ Pregunta: 'VOTOS BLANCOS' -> Respuesta: '3'\n",
            "   ❔ Pregunta: 'VOTOS NULOS' -> Respuesta: '36'\n"
          ]
        },
        {
          "name": "stderr",
          "output_type": "stream",
          "text": [
            "\n",
            "Procesando Actas con Donut:  49%|████▉     | 266/545 [1:58:18<2:03:47, 26.62s/it]\u001b[A"
          ]
        },
        {
          "name": "stdout",
          "output_type": "stream",
          "text": [
            "   ❔ Pregunta: 'VOTOS VÁLIDOS' -> Respuesta: '100'\n",
            "\n",
            "--- Interrogando al acta: mesa_1_101904.jpg ---\n",
            "   ❔ Pregunta: 'AP' -> Respuesta: 'AP 024'\n",
            "   ❔ Pregunta: 'APB SÚMATE' -> Respuesta: 'APB SÚMATE 024'\n",
            "   ❔ Pregunta: 'CODIGO MESA' -> Respuesta: '1'\n",
            "   ❔ Pregunta: 'ELECTORES HABILITADOS' -> Respuesta: '3'\n",
            "   ❔ Pregunta: 'FP' -> Respuesta: 'FP 005'\n",
            "   ❔ Pregunta: 'LIBRE' -> Respuesta: 'LIBRE 024'\n",
            "   ❔ Pregunta: 'LYP ADN' -> Respuesta: 'LYP ADN APB SOMATE'\n",
            "   ❔ Pregunta: 'MAS-IPSP' -> Respuesta: 'MAS-IPSP 002'\n",
            "   ❔ Pregunta: 'MESA' -> Respuesta: '1'\n",
            "   ❔ Pregunta: 'MORENA' -> Respuesta: 'MORENA 014'\n",
            "   ❔ Pregunta: 'PAPELETAS EN ÁNFORA' -> Respuesta: '24'\n",
            "   ❔ Pregunta: 'PAPELETAS NO UTILIZADAS' -> Respuesta: '14'\n",
            "   ❔ Pregunta: 'PDC' -> Respuesta: 'PDC 040'\n",
            "   ❔ Pregunta: 'UNIDAD' -> Respuesta: 'UNIDAD 007'\n",
            "   ❔ Pregunta: 'VOTOS BLANCOS' -> Respuesta: '4'\n",
            "   ❔ Pregunta: 'VOTOS NULOS' -> Respuesta: '40'\n"
          ]
        },
        {
          "name": "stderr",
          "output_type": "stream",
          "text": [
            "\n",
            "Procesando Actas con Donut:  49%|████▉     | 267/545 [1:58:45<2:03:34, 26.67s/it]\u001b[A"
          ]
        },
        {
          "name": "stdout",
          "output_type": "stream",
          "text": [
            "   ❔ Pregunta: 'VOTOS VÁLIDOS' -> Respuesta: '65'\n",
            "\n",
            "--- Interrogando al acta: mesa_5_101944.jpg ---\n",
            "   ❔ Pregunta: 'AP' -> Respuesta: 'AP 0.75'\n",
            "   ❔ Pregunta: 'APB SÚMATE' -> Respuesta: 'APB SÚMATE 0.75'\n",
            "   ❔ Pregunta: 'CODIGO MESA' -> Respuesta: '5'\n",
            "   ❔ Pregunta: 'ELECTORES HABILITADOS' -> Respuesta: '3'\n",
            "   ❔ Pregunta: 'FP' -> Respuesta: 'FP 003'\n",
            "   ❔ Pregunta: 'LIBRE' -> Respuesta: 'LIBRE 003'\n",
            "   ❔ Pregunta: 'LYP ADN' -> Respuesta: 'LYP ADN MESA: 5'\n",
            "   ❔ Pregunta: 'MAS-IPSP' -> Respuesta: 'MAS-IPSP 006'\n",
            "   ❔ Pregunta: 'MESA' -> Respuesta: '5'\n",
            "   ❔ Pregunta: 'MORENA' -> Respuesta: 'MORENA 0.75'\n",
            "   ❔ Pregunta: 'PAPELETAS EN ÁNFORA' -> Respuesta: '75'\n",
            "   ❔ Pregunta: 'PAPELETAS NO UTILIZADAS' -> Respuesta: '15'\n",
            "   ❔ Pregunta: 'PDC' -> Respuesta: 'PDC 0.19'\n",
            "   ❔ Pregunta: 'UNIDAD' -> Respuesta: 'UNIDAD 006'\n",
            "   ❔ Pregunta: 'VOTOS BLANCOS' -> Respuesta: '3'\n",
            "   ❔ Pregunta: 'VOTOS NULOS' -> Respuesta: '67'\n"
          ]
        },
        {
          "name": "stderr",
          "output_type": "stream",
          "text": [
            "\n",
            "Procesando Actas con Donut:  49%|████▉     | 268/545 [1:59:12<2:03:35, 26.77s/it]\u001b[A"
          ]
        },
        {
          "name": "stdout",
          "output_type": "stream",
          "text": [
            "   ❔ Pregunta: 'VOTOS VÁLIDOS' -> Respuesta: '63'\n",
            "\n",
            "--- Interrogando al acta: mesa_2_101914.jpg ---\n",
            "   ❔ Pregunta: 'AP' -> Respuesta: 'AP 009'\n",
            "   ❔ Pregunta: 'APB SÚMATE' -> Respuesta: 'APB SÚMATE 001'\n",
            "   ❔ Pregunta: 'CODIGO MESA' -> Respuesta: '2'\n",
            "   ❔ Pregunta: 'ELECTORES HABILITADOS' -> Respuesta: '3'\n",
            "   ❔ Pregunta: 'FP' -> Respuesta: 'FP 005'\n",
            "   ❔ Pregunta: 'LIBRE' -> Respuesta: 'LIBRE 005'\n",
            "   ❔ Pregunta: 'LYP ADN' -> Respuesta: 'LYP ADN 001'\n",
            "   ❔ Pregunta: 'MAS-IPSP' -> Respuesta: 'MAS-IPSP 004'\n",
            "   ❔ Pregunta: 'MESA' -> Respuesta: '2'\n",
            "   ❔ Pregunta: 'MORENA' -> Respuesta: 'MORENA 0 9 3'\n",
            "   ❔ Pregunta: 'PAPELETAS EN ÁNFORA' -> Respuesta: '93'\n",
            "   ❔ Pregunta: 'PAPELETAS NO UTILIZADAS' -> Respuesta: '93'\n",
            "   ❔ Pregunta: 'PDC' -> Respuesta: 'PDC 073'\n",
            "   ❔ Pregunta: 'UNIDAD' -> Respuesta: 'UNIDAD 007'\n",
            "   ❔ Pregunta: 'VOTOS BLANCOS' -> Respuesta: '5'\n",
            "   ❔ Pregunta: 'VOTOS NULOS' -> Respuesta: '42'\n"
          ]
        },
        {
          "name": "stderr",
          "output_type": "stream",
          "text": [
            "\n",
            "Procesando Actas con Donut:  49%|████▉     | 269/545 [1:59:39<2:03:19, 26.81s/it]\u001b[A"
          ]
        },
        {
          "name": "stdout",
          "output_type": "stream",
          "text": [
            "   ❔ Pregunta: 'VOTOS VÁLIDOS' -> Respuesta: '47'\n",
            "\n",
            "--- Interrogando al acta: mesa_7_101884.jpg ---\n",
            "   ❔ Pregunta: 'AP' -> Respuesta: 'AP 020'\n",
            "   ❔ Pregunta: 'APB SÚMATE' -> Respuesta: 'APB SÚMATE 003'\n",
            "   ❔ Pregunta: 'CODIGO MESA' -> Respuesta: '7'\n",
            "   ❔ Pregunta: 'ELECTORES HABILITADOS' -> Respuesta: '3'\n",
            "   ❔ Pregunta: 'FP' -> Respuesta: 'FP 003'\n",
            "   ❔ Pregunta: 'LIBRE' -> Respuesta: 'LIBRE 0.9'\n",
            "   ❔ Pregunta: 'LYP ADN' -> Respuesta: 'LYP ADN MESA: 7'\n",
            "   ❔ Pregunta: 'MAS-IPSP' -> Respuesta: 'MAS-IPSP 003'\n",
            "   ❔ Pregunta: 'MESA' -> Respuesta: '7'\n",
            "   ❔ Pregunta: 'MORENA' -> Respuesta: 'MORENA 840'\n",
            "   ❔ Pregunta: 'PAPELETAS EN ÁNFORA' -> Respuesta: '15'\n",
            "   ❔ Pregunta: 'PAPELETAS NO UTILIZADAS' -> Respuesta: '45'\n",
            "   ❔ Pregunta: 'PDC' -> Respuesta: 'PDC 0.19'\n",
            "   ❔ Pregunta: 'UNIDAD' -> Respuesta: 'UNIDAD 004'\n",
            "   ❔ Pregunta: 'VOTOS BLANCOS' -> Respuesta: '4'\n",
            "   ❔ Pregunta: 'VOTOS NULOS' -> Respuesta: '35'\n"
          ]
        },
        {
          "name": "stderr",
          "output_type": "stream",
          "text": [
            "\n",
            "Procesando Actas con Donut:  50%|████▉     | 270/545 [2:00:05<2:02:33, 26.74s/it]\u001b[A"
          ]
        },
        {
          "name": "stdout",
          "output_type": "stream",
          "text": [
            "   ❔ Pregunta: 'VOTOS VÁLIDOS' -> Respuesta: '64'\n",
            "\n",
            "--- Interrogando al acta: mesa_3_101924.jpg ---\n",
            "   ❔ Pregunta: 'AP' -> Respuesta: 'AP 0 45'\n",
            "   ❔ Pregunta: 'APB SÚMATE' -> Respuesta: 'APB SÚMATE 006'\n",
            "   ❔ Pregunta: 'CODIGO MESA' -> Respuesta: '3'\n",
            "   ❔ Pregunta: 'ELECTORES HABILITADOS' -> Respuesta: '3'\n",
            "   ❔ Pregunta: 'FP' -> Respuesta: 'FP 003'\n",
            "   ❔ Pregunta: 'LIBRE' -> Respuesta: 'LIBRE 0 4'\n",
            "   ❔ Pregunta: 'LYP ADN' -> Respuesta: 'LYP ADN AP'\n",
            "   ❔ Pregunta: 'MAS-IPSP' -> Respuesta: 'MAS-IPSP 0 0 4'\n",
            "   ❔ Pregunta: 'MESA' -> Respuesta: '3'\n",
            "   ❔ Pregunta: 'MORENA' -> Respuesta: 'MORENA 0.45'\n",
            "   ❔ Pregunta: 'PAPELETAS EN ÁNFORA' -> Respuesta: '99'\n",
            "   ❔ Pregunta: 'PAPELETAS NO UTILIZADAS' -> Respuesta: '99'\n",
            "   ❔ Pregunta: 'PDC' -> Respuesta: 'PDC 016'\n",
            "   ❔ Pregunta: 'UNIDAD' -> Respuesta: 'UNIDAD 011'\n",
            "   ❔ Pregunta: 'VOTOS BLANCOS' -> Respuesta: '2'\n",
            "   ❔ Pregunta: 'VOTOS NULOS' -> Respuesta: '33'\n"
          ]
        },
        {
          "name": "stderr",
          "output_type": "stream",
          "text": [
            "\n",
            "Procesando Actas con Donut:  50%|████▉     | 271/545 [2:00:32<2:02:20, 26.79s/it]\u001b[A"
          ]
        },
        {
          "name": "stdout",
          "output_type": "stream",
          "text": [
            "   ❔ Pregunta: 'VOTOS VÁLIDOS' -> Respuesta: '64'\n",
            "\n",
            "--- Interrogando al acta: mesa_4_101934.jpg ---\n",
            "   ❔ Pregunta: 'AP' -> Respuesta: 'AP 016'\n",
            "   ❔ Pregunta: 'APB SÚMATE' -> Respuesta: 'APB SÚMATE 004'\n",
            "   ❔ Pregunta: 'CODIGO MESA' -> Respuesta: '4'\n",
            "   ❔ Pregunta: 'ELECTORES HABILITADOS' -> Respuesta: '3'\n",
            "   ❔ Pregunta: 'FP' -> Respuesta: 'FP 004'\n",
            "   ❔ Pregunta: 'LIBRE' -> Respuesta: 'LIBRE 006'\n",
            "   ❔ Pregunta: 'LYP ADN' -> Respuesta: 'LYP ADN AP'\n",
            "   ❔ Pregunta: 'MAS-IPSP' -> Respuesta: 'MAS-IPSP 00 2'\n",
            "   ❔ Pregunta: 'MESA' -> Respuesta: '4'\n",
            "   ❔ Pregunta: 'MORENA' -> Respuesta: 'MORENA 0.93%'\n",
            "   ❔ Pregunta: 'PAPELETAS EN ÁNFORA' -> Respuesta: '93'\n",
            "   ❔ Pregunta: 'PAPELETAS NO UTILIZADAS' -> Respuesta: '93'\n",
            "   ❔ Pregunta: 'PDC' -> Respuesta: 'PDC 008'\n",
            "   ❔ Pregunta: 'UNIDAD' -> Respuesta: 'UNIDAD 005'\n",
            "   ❔ Pregunta: 'VOTOS BLANCOS' -> Respuesta: '0'\n",
            "   ❔ Pregunta: 'VOTOS NULOS' -> Respuesta: '45'\n"
          ]
        },
        {
          "name": "stderr",
          "output_type": "stream",
          "text": [
            "\n",
            "Procesando Actas con Donut:  50%|████▉     | 272/545 [2:00:59<2:01:45, 26.76s/it]\u001b[A"
          ]
        },
        {
          "name": "stdout",
          "output_type": "stream",
          "text": [
            "   ❔ Pregunta: 'VOTOS VÁLIDOS' -> Respuesta: '48'\n",
            "\n",
            "--- Interrogando al acta: mesa_6_101874.jpg ---\n",
            "   ❔ Pregunta: 'AP' -> Respuesta: 'AP 990'\n",
            "   ❔ Pregunta: 'APB SÚMATE' -> Respuesta: 'APB SÚMATE NOV DART'\n",
            "   ❔ Pregunta: 'CODIGO MESA' -> Respuesta: '2010'\n",
            "   ❔ Pregunta: 'ELECTORES HABILITADOS' -> Respuesta: 'None'\n",
            "   ❔ Pregunta: 'FP' -> Respuesta: 'FP 990'\n",
            "   ❔ Pregunta: 'LIBRE' -> Respuesta: 'LIBRE 990'\n",
            "   ❔ Pregunta: 'LYP ADN' -> Respuesta: 'LYP ADN 00'\n",
            "   ❔ Pregunta: 'MAS-IPSP' -> Respuesta: 'MAS-IPSP WWW.GOV'\n",
            "   ❔ Pregunta: 'MESA' -> Respuesta: '28'\n",
            "   ❔ Pregunta: 'MORENA' -> Respuesta: 'MORENA 200'\n",
            "   ❔ Pregunta: 'PAPELETAS EN ÁNFORA' -> Respuesta: '28'\n",
            "   ❔ Pregunta: 'PAPELETAS NO UTILIZADAS' -> Respuesta: '220'\n",
            "   ❔ Pregunta: 'PDC' -> Respuesta: 'PDC WWW.GOV'\n",
            "   ❔ Pregunta: 'UNIDAD' -> Respuesta: 'UNIDAD 990'\n",
            "   ❔ Pregunta: 'VOTOS BLANCOS' -> Respuesta: '2020'\n",
            "   ❔ Pregunta: 'VOTOS NULOS' -> Respuesta: '990'\n"
          ]
        },
        {
          "name": "stderr",
          "output_type": "stream",
          "text": [
            "\n",
            "Procesando Actas con Donut:  50%|█████     | 273/545 [2:01:26<2:01:24, 26.78s/it]\u001b[A"
          ]
        },
        {
          "name": "stdout",
          "output_type": "stream",
          "text": [
            "   ❔ Pregunta: 'VOTOS VÁLIDOS' -> Respuesta: 'None'\n",
            "\n",
            "--- Interrogando al acta: mesa_2_101614.jpg ---\n",
            "   ❔ Pregunta: 'AP' -> Respuesta: 'AP APB SOMATE'\n",
            "   ❔ Pregunta: 'APB SÚMATE' -> Respuesta: 'APB SÚMATE 08 06'\n",
            "   ❔ Pregunta: 'CODIGO MESA' -> Respuesta: '101614'\n",
            "   ❔ Pregunta: 'ELECTORES HABILITADOS' -> Respuesta: '3'\n",
            "   ❔ Pregunta: 'FP' -> Respuesta: 'FP 001'\n",
            "   ❔ Pregunta: 'LIBRE' -> Respuesta: 'LIBRE 004'\n",
            "   ❔ Pregunta: 'LYP ADN' -> Respuesta: 'LYP ADN APB SOMATE'\n",
            "   ❔ Pregunta: 'MAS-IPSP' -> Respuesta: 'MAS-IPSP 004'\n",
            "   ❔ Pregunta: 'MESA' -> Respuesta: '2'\n",
            "   ❔ Pregunta: 'MORENA' -> Respuesta: 'MORENA 08 06'\n",
            "   ❔ Pregunta: 'PAPELETAS EN ÁNFORA' -> Respuesta: '5'\n",
            "   ❔ Pregunta: 'PAPELETAS NO UTILIZADAS' -> Respuesta: '205'\n",
            "   ❔ Pregunta: 'PDC' -> Respuesta: 'PDC 0.26'\n",
            "   ❔ Pregunta: 'UNIDAD' -> Respuesta: 'UNIDAD 000'\n",
            "   ❔ Pregunta: 'VOTOS BLANCOS' -> Respuesta: '2'\n",
            "   ❔ Pregunta: 'VOTOS NULOS' -> Respuesta: '37'\n"
          ]
        },
        {
          "name": "stderr",
          "output_type": "stream",
          "text": [
            "\n",
            "Procesando Actas con Donut:  50%|█████     | 274/545 [2:01:53<2:01:03, 26.80s/it]\u001b[A"
          ]
        },
        {
          "name": "stdout",
          "output_type": "stream",
          "text": [
            "   ❔ Pregunta: 'VOTOS VÁLIDOS' -> Respuesta: '66'\n",
            "\n",
            "--- Interrogando al acta: mesa_4_101634.jpg ---\n",
            "   ❔ Pregunta: 'AP' -> Respuesta: 'AP 0.98'\n",
            "   ❔ Pregunta: 'APB SÚMATE' -> Respuesta: 'APB SÚMATE 002'\n",
            "   ❔ Pregunta: 'CODIGO MESA' -> Respuesta: '4'\n",
            "   ❔ Pregunta: 'ELECTORES HABILITADOS' -> Respuesta: '3'\n",
            "   ❔ Pregunta: 'FP' -> Respuesta: 'FP 08 05'\n",
            "   ❔ Pregunta: 'LIBRE' -> Respuesta: 'LIBRE 004'\n",
            "   ❔ Pregunta: 'LYP ADN' -> Respuesta: 'LYP ADN 001'\n",
            "   ❔ Pregunta: 'MAS-IPSP' -> Respuesta: 'MAS-IPSP 002'\n",
            "   ❔ Pregunta: 'MESA' -> Respuesta: '4'\n",
            "   ❔ Pregunta: 'MORENA' -> Respuesta: 'MORENA 0.99'\n",
            "   ❔ Pregunta: 'PAPELETAS EN ÁNFORA' -> Respuesta: '99'\n",
            "   ❔ Pregunta: 'PAPELETAS NO UTILIZADAS' -> Respuesta: '99'\n",
            "   ❔ Pregunta: 'PDC' -> Respuesta: 'PDC 019'\n",
            "   ❔ Pregunta: 'UNIDAD' -> Respuesta: 'UNIDAD 004'\n",
            "   ❔ Pregunta: 'VOTOS BLANCOS' -> Respuesta: '0'\n",
            "   ❔ Pregunta: 'VOTOS NULOS' -> Respuesta: '48'\n"
          ]
        },
        {
          "name": "stderr",
          "output_type": "stream",
          "text": [
            "\n",
            "Procesando Actas con Donut:  50%|█████     | 275/545 [2:02:20<2:01:04, 26.91s/it]\u001b[A"
          ]
        },
        {
          "name": "stdout",
          "output_type": "stream",
          "text": [
            "   ❔ Pregunta: 'VOTOS VÁLIDOS' -> Respuesta: '99'\n",
            "\n",
            "--- Interrogando al acta: mesa_5_101644.jpg ---\n",
            "   ❔ Pregunta: 'AP' -> Respuesta: 'AP 015'\n",
            "   ❔ Pregunta: 'APB SÚMATE' -> Respuesta: 'APB SÚMATE 0.8'\n",
            "   ❔ Pregunta: 'CODIGO MESA' -> Respuesta: '5'\n",
            "   ❔ Pregunta: 'ELECTORES HABILITADOS' -> Respuesta: '6'\n",
            "   ❔ Pregunta: 'FP' -> Respuesta: 'FP 001'\n",
            "   ❔ Pregunta: 'LIBRE' -> Respuesta: 'LIBRE 080'\n",
            "   ❔ Pregunta: 'LYP ADN' -> Respuesta: 'LYP ADN 080'\n",
            "   ❔ Pregunta: 'MAS-IPSP' -> Respuesta: 'MAS-IPSP 080'\n",
            "   ❔ Pregunta: 'MESA' -> Respuesta: '5'\n",
            "   ❔ Pregunta: 'MORENA' -> Respuesta: 'MORENA 080'\n",
            "   ❔ Pregunta: 'PAPELETAS EN ÁNFORA' -> Respuesta: '80'\n",
            "   ❔ Pregunta: 'PAPELETAS NO UTILIZADAS' -> Respuesta: '88'\n",
            "   ❔ Pregunta: 'PDC' -> Respuesta: 'PDC 025'\n",
            "   ❔ Pregunta: 'UNIDAD' -> Respuesta: 'UNIDAD 003'\n",
            "   ❔ Pregunta: 'VOTOS BLANCOS' -> Respuesta: '29'\n",
            "   ❔ Pregunta: 'VOTOS NULOS' -> Respuesta: '29'\n"
          ]
        },
        {
          "name": "stderr",
          "output_type": "stream",
          "text": [
            "\n",
            "Procesando Actas con Donut:  51%|█████     | 276/545 [2:02:47<2:01:00, 26.99s/it]\u001b[A"
          ]
        },
        {
          "name": "stdout",
          "output_type": "stream",
          "text": [
            "   ❔ Pregunta: 'VOTOS VÁLIDOS' -> Respuesta: '88'\n",
            "\n",
            "--- Interrogando al acta: mesa_3_101624.jpg ---\n",
            "   ❔ Pregunta: 'AP' -> Respuesta: 'AP 0.18'\n",
            "   ❔ Pregunta: 'APB SÚMATE' -> Respuesta: 'APB SÚMATE 0 8'\n",
            "   ❔ Pregunta: 'CODIGO MESA' -> Respuesta: '3'\n",
            "   ❔ Pregunta: 'ELECTORES HABILITADOS' -> Respuesta: '3'\n",
            "   ❔ Pregunta: 'FP' -> Respuesta: 'FP 08.00'\n",
            "   ❔ Pregunta: 'LIBRE' -> Respuesta: 'LIBRE 0.18'\n",
            "   ❔ Pregunta: 'LYP ADN' -> Respuesta: 'LYP ADN 018'\n",
            "   ❔ Pregunta: 'MAS-IPSP' -> Respuesta: 'MAS-IPSP 003'\n",
            "   ❔ Pregunta: 'MESA' -> Respuesta: '3'\n",
            "   ❔ Pregunta: 'MORENA' -> Respuesta: 'MORENA 0.18'\n",
            "   ❔ Pregunta: 'PAPELETAS EN ÁNFORA' -> Respuesta: '28'\n",
            "   ❔ Pregunta: 'PAPELETAS NO UTILIZADAS' -> Respuesta: '28'\n",
            "   ❔ Pregunta: 'PDC' -> Respuesta: 'PDC 0.27'\n",
            "   ❔ Pregunta: 'UNIDAD' -> Respuesta: 'UNIDAD 0.26'\n",
            "   ❔ Pregunta: 'VOTOS BLANCOS' -> Respuesta: '48'\n",
            "   ❔ Pregunta: 'VOTOS NULOS' -> Respuesta: '48'\n"
          ]
        },
        {
          "name": "stderr",
          "output_type": "stream",
          "text": [
            "\n",
            "Procesando Actas con Donut:  51%|█████     | 277/545 [2:03:14<2:00:30, 26.98s/it]\u001b[A"
          ]
        },
        {
          "name": "stdout",
          "output_type": "stream",
          "text": [
            "   ❔ Pregunta: 'VOTOS VÁLIDOS' -> Respuesta: '64'\n",
            "\n",
            "--- Interrogando al acta: mesa_1_101604.jpg ---\n",
            "   ❔ Pregunta: 'AP' -> Respuesta: 'AP 020'\n",
            "   ❔ Pregunta: 'APB SÚMATE' -> Respuesta: 'APB SÚMATE MOSA:1'\n",
            "   ❔ Pregunta: 'CODIGO MESA' -> Respuesta: '1'\n",
            "   ❔ Pregunta: 'ELECTORES HABILITADOS' -> Respuesta: '3'\n",
            "   ❔ Pregunta: 'FP' -> Respuesta: 'FP 006'\n",
            "   ❔ Pregunta: 'LIBRE' -> Respuesta: 'LIBRE 020'\n",
            "   ❔ Pregunta: 'LYP ADN' -> Respuesta: 'LYP ADN MESA'\n",
            "   ❔ Pregunta: 'MAS-IPSP' -> Respuesta: 'MAS-IPSP 001'\n",
            "   ❔ Pregunta: 'MESA' -> Respuesta: '1'\n",
            "   ❔ Pregunta: 'MORENA' -> Respuesta: 'MORENA 020'\n",
            "   ❔ Pregunta: 'PAPELETAS EN ÁNFORA' -> Respuesta: '168'\n",
            "   ❔ Pregunta: 'PAPELETAS NO UTILIZADAS' -> Respuesta: '208'\n",
            "   ❔ Pregunta: 'PDC' -> Respuesta: 'PDC 026'\n",
            "   ❔ Pregunta: 'UNIDAD' -> Respuesta: 'UNIDAD 00 7'\n",
            "   ❔ Pregunta: 'VOTOS BLANCOS' -> Respuesta: '2'\n",
            "   ❔ Pregunta: 'VOTOS NULOS' -> Respuesta: '38'\n"
          ]
        },
        {
          "name": "stderr",
          "output_type": "stream",
          "text": [
            "\n",
            "Procesando Actas con Donut:  51%|█████     | 278/545 [2:03:41<2:00:09, 27.00s/it]\u001b[A"
          ]
        },
        {
          "name": "stdout",
          "output_type": "stream",
          "text": [
            "   ❔ Pregunta: 'VOTOS VÁLIDOS' -> Respuesta: '72'\n",
            "\n",
            "--- Interrogando al acta: mesa_2_100364.jpg ---\n",
            "   ❔ Pregunta: 'AP' -> Respuesta: 'AP 0 26'\n",
            "   ❔ Pregunta: 'APB SÚMATE' -> Respuesta: 'APB SÚMATE 0.26'\n",
            "   ❔ Pregunta: 'CODIGO MESA' -> Respuesta: 'None'\n",
            "   ❔ Pregunta: 'ELECTORES HABILITADOS' -> Respuesta: '6'\n",
            "   ❔ Pregunta: 'FP' -> Respuesta: 'FP 006'\n",
            "   ❔ Pregunta: 'LIBRE' -> Respuesta: 'LIBRE 0.26'\n",
            "   ❔ Pregunta: 'LYP ADN' -> Respuesta: 'LYP ADN 002'\n",
            "   ❔ Pregunta: 'MAS-IPSP' -> Respuesta: 'MAS-IPSP 002'\n",
            "   ❔ Pregunta: 'MESA' -> Respuesta: '2'\n",
            "   ❔ Pregunta: 'MORENA' -> Respuesta: 'MORENA 740'\n",
            "   ❔ Pregunta: 'PAPELETAS EN ÁNFORA' -> Respuesta: '740'\n",
            "   ❔ Pregunta: 'PAPELETAS NO UTILIZADAS' -> Respuesta: '740'\n",
            "   ❔ Pregunta: 'PDC' -> Respuesta: 'PDC 036'\n",
            "   ❔ Pregunta: 'UNIDAD' -> Respuesta: 'UNIDAD 006'\n",
            "   ❔ Pregunta: 'VOTOS BLANCOS' -> Respuesta: '2'\n",
            "   ❔ Pregunta: 'VOTOS NULOS' -> Respuesta: '42'\n"
          ]
        },
        {
          "name": "stderr",
          "output_type": "stream",
          "text": [
            "\n",
            "Procesando Actas con Donut:  51%|█████     | 279/545 [2:04:08<1:59:33, 26.97s/it]\u001b[A"
          ]
        },
        {
          "name": "stdout",
          "output_type": "stream",
          "text": [
            "   ❔ Pregunta: 'VOTOS VÁLIDOS' -> Respuesta: '96'\n",
            "\n",
            "--- Interrogando al acta: mesa_4_100384.jpg ---\n",
            "   ❔ Pregunta: 'AP' -> Respuesta: 'AP 800'\n",
            "   ❔ Pregunta: 'APB SÚMATE' -> Respuesta: 'APB SÚMATE NOV 4'\n",
            "   ❔ Pregunta: 'CODIGO MESA' -> Respuesta: '890'\n",
            "   ❔ Pregunta: 'ELECTORES HABILITADOS' -> Respuesta: 'None'\n",
            "   ❔ Pregunta: 'FP' -> Respuesta: 'FP APRIL 2004, 1999'\n",
            "   ❔ Pregunta: 'LIBRE' -> Respuesta: 'LIBRE A'\n",
            "   ❔ Pregunta: 'LYP ADN' -> Respuesta: 'LYP ADN TV8E001'\n",
            "   ❔ Pregunta: 'MAS-IPSP' -> Respuesta: 'MAS-IPSP WWW.GOV'\n",
            "   ❔ Pregunta: 'MESA' -> Respuesta: '890'\n",
            "   ❔ Pregunta: 'MORENA' -> Respuesta: 'MORENA 500'\n",
            "   ❔ Pregunta: 'PAPELETAS EN ÁNFORA' -> Respuesta: '0'\n",
            "   ❔ Pregunta: 'PAPELETAS NO UTILIZADAS' -> Respuesta: '86'\n",
            "   ❔ Pregunta: 'PDC' -> Respuesta: 'PDC 00'\n",
            "   ❔ Pregunta: 'UNIDAD' -> Respuesta: 'UNIDAD DAVIS'\n",
            "   ❔ Pregunta: 'VOTOS BLANCOS' -> Respuesta: 'None'\n",
            "   ❔ Pregunta: 'VOTOS NULOS' -> Respuesta: '890'\n"
          ]
        },
        {
          "name": "stderr",
          "output_type": "stream",
          "text": [
            "\n",
            "Procesando Actas con Donut:  51%|█████▏    | 280/545 [2:04:35<1:59:23, 27.03s/it]\u001b[A"
          ]
        },
        {
          "name": "stdout",
          "output_type": "stream",
          "text": [
            "   ❔ Pregunta: 'VOTOS VÁLIDOS' -> Respuesta: '4'\n",
            "\n",
            "--- Interrogando al acta: mesa_9_100434.jpg ---\n",
            "   ❔ Pregunta: 'AP' -> Respuesta: 'AP 077'\n",
            "   ❔ Pregunta: 'APB SÚMATE' -> Respuesta: 'APB SÚMATE 09 00'\n",
            "   ❔ Pregunta: 'CODIGO MESA' -> Respuesta: '9'\n",
            "   ❔ Pregunta: 'ELECTORES HABILITADOS' -> Respuesta: '3'\n",
            "   ❔ Pregunta: 'FP' -> Respuesta: 'FP 0.2'\n",
            "   ❔ Pregunta: 'LIBRE' -> Respuesta: 'LIBRE 006'\n",
            "   ❔ Pregunta: 'LYP ADN' -> Respuesta: 'LYP ADN APS COMATE'\n",
            "   ❔ Pregunta: 'MAS-IPSP' -> Respuesta: 'MAS-IPSP 002'\n",
            "   ❔ Pregunta: 'MESA' -> Respuesta: '9'\n",
            "   ❔ Pregunta: 'MORENA' -> Respuesta: 'MORENA 774'\n",
            "   ❔ Pregunta: 'PAPELETAS EN ÁNFORA' -> Respuesta: '774'\n",
            "   ❔ Pregunta: 'PAPELETAS NO UTILIZADAS' -> Respuesta: '7769'\n",
            "   ❔ Pregunta: 'PDC' -> Respuesta: 'PDC 020'\n",
            "   ❔ Pregunta: 'UNIDAD' -> Respuesta: 'UNIDAD 008'\n",
            "   ❔ Pregunta: 'VOTOS BLANCOS' -> Respuesta: '6'\n",
            "   ❔ Pregunta: 'VOTOS NULOS' -> Respuesta: '38'\n"
          ]
        },
        {
          "name": "stderr",
          "output_type": "stream",
          "text": [
            "\n",
            "Procesando Actas con Donut:  52%|█████▏    | 281/545 [2:05:02<1:58:41, 26.98s/it]\u001b[A"
          ]
        },
        {
          "name": "stdout",
          "output_type": "stream",
          "text": [
            "   ❔ Pregunta: 'VOTOS VÁLIDOS' -> Respuesta: '70'\n",
            "\n",
            "--- Interrogando al acta: mesa_3_100374.jpg ---\n",
            "   ❔ Pregunta: 'AP' -> Respuesta: 'AP 0 1'\n",
            "   ❔ Pregunta: 'APB SÚMATE' -> Respuesta: 'APB SÚMATE 0820'\n",
            "   ❔ Pregunta: 'CODIGO MESA' -> Respuesta: '3'\n",
            "   ❔ Pregunta: 'ELECTORES HABILITADOS' -> Respuesta: '3'\n",
            "   ❔ Pregunta: 'FP' -> Respuesta: 'FP 0820'\n",
            "   ❔ Pregunta: 'LIBRE' -> Respuesta: 'LIBRE 0 1'\n",
            "   ❔ Pregunta: 'LYP ADN' -> Respuesta: 'LYP ADN 0820'\n",
            "   ❔ Pregunta: 'MAS-IPSP' -> Respuesta: 'MAS-IPSP 001'\n",
            "   ❔ Pregunta: 'MESA' -> Respuesta: '3'\n",
            "   ❔ Pregunta: 'MORENA' -> Respuesta: 'MORENA 17 20'\n",
            "   ❔ Pregunta: 'PAPELETAS EN ÁNFORA' -> Respuesta: '1720'\n",
            "   ❔ Pregunta: 'PAPELETAS NO UTILIZADAS' -> Respuesta: '202'\n",
            "   ❔ Pregunta: 'PDC' -> Respuesta: 'PDC 031'\n",
            "   ❔ Pregunta: 'UNIDAD' -> Respuesta: 'UNIDAD 009'\n",
            "   ❔ Pregunta: 'VOTOS BLANCOS' -> Respuesta: '2'\n",
            "   ❔ Pregunta: 'VOTOS NULOS' -> Respuesta: '37'\n"
          ]
        },
        {
          "name": "stderr",
          "output_type": "stream",
          "text": [
            "\n",
            "Procesando Actas con Donut:  52%|█████▏    | 282/545 [2:05:29<1:58:01, 26.93s/it]\u001b[A"
          ]
        },
        {
          "name": "stdout",
          "output_type": "stream",
          "text": [
            "   ❔ Pregunta: 'VOTOS VÁLIDOS' -> Respuesta: '79'\n",
            "\n",
            "--- Interrogando al acta: mesa_1_100354.jpg ---\n",
            "   ❔ Pregunta: 'AP' -> Respuesta: 'AP 021'\n",
            "   ❔ Pregunta: 'APB SÚMATE' -> Respuesta: 'APB SÚMATE 08.00'\n",
            "   ❔ Pregunta: 'CODIGO MESA' -> Respuesta: 'None'\n",
            "   ❔ Pregunta: 'ELECTORES HABILITADOS' -> Respuesta: '3'\n",
            "   ❔ Pregunta: 'FP' -> Respuesta: 'FP 0.28'\n",
            "   ❔ Pregunta: 'LIBRE' -> Respuesta: 'LIBRE 0.21'\n",
            "   ❔ Pregunta: 'LYP ADN' -> Respuesta: 'LYP ADN APB SOMATE'\n",
            "   ❔ Pregunta: 'MAS-IPSP' -> Respuesta: 'MAS-IPSP 0 8 00'\n",
            "   ❔ Pregunta: 'MESA' -> Respuesta: '1'\n",
            "   ❔ Pregunta: 'MORENA' -> Respuesta: 'MORENA APB SOMATE'\n",
            "   ❔ Pregunta: 'PAPELETAS EN ÁNFORA' -> Respuesta: '83'\n",
            "   ❔ Pregunta: 'PAPELETAS NO UTILIZADAS' -> Respuesta: '195'\n",
            "   ❔ Pregunta: 'PDC' -> Respuesta: 'PDC 0 28'\n",
            "   ❔ Pregunta: 'UNIDAD' -> Respuesta: 'UNIDAD 0.26'\n",
            "   ❔ Pregunta: 'VOTOS BLANCOS' -> Respuesta: '4'\n",
            "   ❔ Pregunta: 'VOTOS NULOS' -> Respuesta: '43'\n"
          ]
        },
        {
          "name": "stderr",
          "output_type": "stream",
          "text": [
            "\n",
            "Procesando Actas con Donut:  52%|█████▏    | 283/545 [2:05:56<1:57:34, 26.93s/it]\u001b[A"
          ]
        },
        {
          "name": "stdout",
          "output_type": "stream",
          "text": [
            "   ❔ Pregunta: 'VOTOS VÁLIDOS' -> Respuesta: '78'\n",
            "\n",
            "--- Interrogando al acta: mesa_8_100424.jpg ---\n",
            "   ❔ Pregunta: 'AP' -> Respuesta: 'AP 0.19'\n",
            "   ❔ Pregunta: 'APB SÚMATE' -> Respuesta: 'APB SÚMATE 002'\n",
            "   ❔ Pregunta: 'CODIGO MESA' -> Respuesta: '800'\n",
            "   ❔ Pregunta: 'ELECTORES HABILITADOS' -> Respuesta: '3'\n",
            "   ❔ Pregunta: 'FP' -> Respuesta: 'FP 002'\n",
            "   ❔ Pregunta: 'LIBRE' -> Respuesta: 'LIBRE 006'\n",
            "   ❔ Pregunta: 'LYP ADN' -> Respuesta: 'LYP ADN 002'\n",
            "   ❔ Pregunta: 'MAS-IPSP' -> Respuesta: 'MAS-IPSP 001'\n",
            "   ❔ Pregunta: 'MESA' -> Respuesta: '8'\n",
            "   ❔ Pregunta: 'MORENA' -> Respuesta: 'MORENA 0.19'\n",
            "   ❔ Pregunta: 'PAPELETAS EN ÁNFORA' -> Respuesta: '109'\n",
            "   ❔ Pregunta: 'PAPELETAS NO UTILIZADAS' -> Respuesta: '21'\n",
            "   ❔ Pregunta: 'PDC' -> Respuesta: 'PDC 028'\n",
            "   ❔ Pregunta: 'UNIDAD' -> Respuesta: 'UNIDAD 040'\n",
            "   ❔ Pregunta: 'VOTOS BLANCOS' -> Respuesta: '2'\n",
            "   ❔ Pregunta: 'VOTOS NULOS' -> Respuesta: '38'\n"
          ]
        },
        {
          "name": "stderr",
          "output_type": "stream",
          "text": [
            "\n",
            "Procesando Actas con Donut:  52%|█████▏    | 284/545 [2:06:23<1:57:05, 26.92s/it]\u001b[A"
          ]
        },
        {
          "name": "stdout",
          "output_type": "stream",
          "text": [
            "   ❔ Pregunta: 'VOTOS VÁLIDOS' -> Respuesta: '69'\n",
            "\n",
            "--- Interrogando al acta: mesa_7_100414.jpg ---\n",
            "   ❔ Pregunta: 'AP' -> Respuesta: 'AP 024'\n",
            "   ❔ Pregunta: 'APB SÚMATE' -> Respuesta: 'APB SÚMATE 0.24'\n",
            "   ❔ Pregunta: 'CODIGO MESA' -> Respuesta: '7'\n",
            "   ❔ Pregunta: 'ELECTORES HABILITADOS' -> Respuesta: '3'\n",
            "   ❔ Pregunta: 'FP' -> Respuesta: 'FP 006'\n",
            "   ❔ Pregunta: 'LIBRE' -> Respuesta: 'LIBRE 005'\n",
            "   ❔ Pregunta: 'LYP ADN' -> Respuesta: 'LYP ADN 002'\n",
            "   ❔ Pregunta: 'MAS-IPSP' -> Respuesta: 'MAS-IPSP 001'\n",
            "   ❔ Pregunta: 'MESA' -> Respuesta: '7'\n",
            "   ❔ Pregunta: 'MORENA' -> Respuesta: 'MORENA 024'\n",
            "   ❔ Pregunta: 'PAPELETAS EN ÁNFORA' -> Respuesta: '415'\n",
            "   ❔ Pregunta: 'PAPELETAS NO UTILIZADAS' -> Respuesta: '205'\n",
            "   ❔ Pregunta: 'PDC' -> Respuesta: 'PDC 034'\n",
            "   ❔ Pregunta: 'UNIDAD' -> Respuesta: 'UNIDAD 010'\n",
            "   ❔ Pregunta: 'VOTOS BLANCOS' -> Respuesta: '2'\n",
            "   ❔ Pregunta: 'VOTOS NULOS' -> Respuesta: '30'\n"
          ]
        },
        {
          "name": "stderr",
          "output_type": "stream",
          "text": [
            "\n",
            "Procesando Actas con Donut:  52%|█████▏    | 285/545 [2:06:49<1:56:24, 26.86s/it]\u001b[A"
          ]
        },
        {
          "name": "stdout",
          "output_type": "stream",
          "text": [
            "   ❔ Pregunta: 'VOTOS VÁLIDOS' -> Respuesta: '83'\n",
            "\n",
            "--- Interrogando al acta: mesa_5_100394.jpg ---\n",
            "   ❔ Pregunta: 'AP' -> Respuesta: 'AP 024'\n",
            "   ❔ Pregunta: 'APB SÚMATE' -> Respuesta: 'APB SÚMATE 0.24'\n",
            "   ❔ Pregunta: 'CODIGO MESA' -> Respuesta: '5'\n",
            "   ❔ Pregunta: 'ELECTORES HABILITADOS' -> Respuesta: '3'\n",
            "   ❔ Pregunta: 'FP' -> Respuesta: 'FP 005'\n",
            "   ❔ Pregunta: 'LIBRE' -> Respuesta: 'LIBRE 0.9'\n",
            "   ❔ Pregunta: 'LYP ADN' -> Respuesta: 'LYP ADN AP'\n",
            "   ❔ Pregunta: 'MAS-IPSP' -> Respuesta: 'MAS-IPSP 00 2'\n",
            "   ❔ Pregunta: 'MESA' -> Respuesta: '5'\n",
            "   ❔ Pregunta: 'MORENA' -> Respuesta: 'MORENA AP'\n",
            "   ❔ Pregunta: 'PAPELETAS EN ÁNFORA' -> Respuesta: '135'\n",
            "   ❔ Pregunta: 'PAPELETAS NO UTILIZADAS' -> Respuesta: '195'\n",
            "   ❔ Pregunta: 'PDC' -> Respuesta: 'PDC 030'\n",
            "   ❔ Pregunta: 'UNIDAD' -> Respuesta: 'UNIDAD 003'\n",
            "   ❔ Pregunta: 'VOTOS BLANCOS' -> Respuesta: '3'\n",
            "   ❔ Pregunta: 'VOTOS NULOS' -> Respuesta: '39'\n"
          ]
        },
        {
          "name": "stderr",
          "output_type": "stream",
          "text": [
            "\n",
            "Procesando Actas con Donut:  52%|█████▏    | 286/545 [2:07:16<1:56:14, 26.93s/it]\u001b[A"
          ]
        },
        {
          "name": "stdout",
          "output_type": "stream",
          "text": [
            "   ❔ Pregunta: 'VOTOS VÁLIDOS' -> Respuesta: '83'\n",
            "\n",
            "--- Interrogando al acta: mesa_6_100404.jpg ---\n",
            "   ❔ Pregunta: 'AP' -> Respuesta: 'AP 026'\n",
            "   ❔ Pregunta: 'APB SÚMATE' -> Respuesta: 'APB SÚMATE 0.26'\n",
            "   ❔ Pregunta: 'CODIGO MESA' -> Respuesta: '6'\n",
            "   ❔ Pregunta: 'ELECTORES HABILITADOS' -> Respuesta: '3'\n",
            "   ❔ Pregunta: 'FP' -> Respuesta: 'FP 004'\n",
            "   ❔ Pregunta: 'LIBRE' -> Respuesta: 'LIBRE 004'\n",
            "   ❔ Pregunta: 'LYP ADN' -> Respuesta: 'LYP ADN 00'\n",
            "   ❔ Pregunta: 'MAS-IPSP' -> Respuesta: 'MAS-IPSP 001'\n",
            "   ❔ Pregunta: 'MESA' -> Respuesta: '6'\n",
            "   ❔ Pregunta: 'MORENA' -> Respuesta: 'MORENA 026'\n",
            "   ❔ Pregunta: 'PAPELETAS EN ÁNFORA' -> Respuesta: '24'\n",
            "   ❔ Pregunta: 'PAPELETAS NO UTILIZADAS' -> Respuesta: '800'\n",
            "   ❔ Pregunta: 'PDC' -> Respuesta: 'PDC 020'\n",
            "   ❔ Pregunta: 'UNIDAD' -> Respuesta: 'UNIDAD 014'\n",
            "   ❔ Pregunta: 'VOTOS BLANCOS' -> Respuesta: '3'\n",
            "   ❔ Pregunta: 'VOTOS NULOS' -> Respuesta: '56'\n"
          ]
        },
        {
          "name": "stderr",
          "output_type": "stream",
          "text": [
            "\n",
            "Procesando Actas con Donut:  53%|█████▎    | 287/545 [2:07:43<1:55:40, 26.90s/it]\u001b[A"
          ]
        },
        {
          "name": "stdout",
          "output_type": "stream",
          "text": [
            "   ❔ Pregunta: 'VOTOS VÁLIDOS' -> Respuesta: '19'\n",
            "\n",
            "--- Interrogando al acta: mesa_4_103014.jpg ---\n",
            "   ❔ Pregunta: 'AP' -> Respuesta: 'AP APB COMATE'\n",
            "   ❔ Pregunta: 'APB SÚMATE' -> Respuesta: 'APB SÚMATE MOSA 4'\n",
            "   ❔ Pregunta: 'CODIGO MESA' -> Respuesta: '4'\n",
            "   ❔ Pregunta: 'ELECTORES HABILITADOS' -> Respuesta: '3'\n",
            "   ❔ Pregunta: 'FP' -> Respuesta: 'FP 00'\n",
            "   ❔ Pregunta: 'LIBRE' -> Respuesta: 'LIBRE 00 00'\n",
            "   ❔ Pregunta: 'LYP ADN' -> Respuesta: 'LYP ADN APB SUMATE'\n",
            "   ❔ Pregunta: 'MAS-IPSP' -> Respuesta: 'MAS-IPSP 0.37'\n",
            "   ❔ Pregunta: 'MESA' -> Respuesta: '4'\n",
            "   ❔ Pregunta: 'MORENA' -> Respuesta: 'MORENA 728'\n",
            "   ❔ Pregunta: 'PAPELETAS EN ÁNFORA' -> Respuesta: '664'\n",
            "   ❔ Pregunta: 'PAPELETAS NO UTILIZADAS' -> Respuesta: '428'\n",
            "   ❔ Pregunta: 'PDC' -> Respuesta: 'PDC 037'\n",
            "   ❔ Pregunta: 'UNIDAD' -> Respuesta: 'UNIDAD 003'\n",
            "   ❔ Pregunta: 'VOTOS BLANCOS' -> Respuesta: '52'\n",
            "   ❔ Pregunta: 'VOTOS NULOS' -> Respuesta: '66'\n"
          ]
        },
        {
          "name": "stderr",
          "output_type": "stream",
          "text": [
            "\n",
            "Procesando Actas con Donut:  53%|█████▎    | 288/545 [2:08:10<1:55:38, 27.00s/it]\u001b[A"
          ]
        },
        {
          "name": "stdout",
          "output_type": "stream",
          "text": [
            "   ❔ Pregunta: 'VOTOS VÁLIDOS' -> Respuesta: '680'\n",
            "\n",
            "--- Interrogando al acta: mesa_6_103034.jpg ---\n",
            "   ❔ Pregunta: 'AP' -> Respuesta: 'AP 0'\n",
            "   ❔ Pregunta: 'APB SÚMATE' -> Respuesta: 'APB SÚMATE 08.00'\n",
            "   ❔ Pregunta: 'CODIGO MESA' -> Respuesta: '6'\n",
            "   ❔ Pregunta: 'ELECTORES HABILITADOS' -> Respuesta: '3'\n",
            "   ❔ Pregunta: 'FP' -> Respuesta: 'FP 08.00'\n",
            "   ❔ Pregunta: 'LIBRE' -> Respuesta: 'LIBRE 08.00'\n",
            "   ❔ Pregunta: 'LYP ADN' -> Respuesta: 'LYP ADN 08.00'\n",
            "   ❔ Pregunta: 'MAS-IPSP' -> Respuesta: 'MAS-IPSP 000'\n",
            "   ❔ Pregunta: 'MESA' -> Respuesta: '6'\n",
            "   ❔ Pregunta: 'MORENA' -> Respuesta: 'MORENA 08.00'\n",
            "   ❔ Pregunta: 'PAPELETAS EN ÁNFORA' -> Respuesta: '728'\n",
            "   ❔ Pregunta: 'PAPELETAS NO UTILIZADAS' -> Respuesta: '192'\n",
            "   ❔ Pregunta: 'PDC' -> Respuesta: 'PDC 017'\n",
            "   ❔ Pregunta: 'UNIDAD' -> Respuesta: 'UNIDAD 001'\n",
            "   ❔ Pregunta: 'VOTOS BLANCOS' -> Respuesta: 'None'\n",
            "   ❔ Pregunta: 'VOTOS NULOS' -> Respuesta: '0'\n"
          ]
        },
        {
          "name": "stderr",
          "output_type": "stream",
          "text": [
            "\n",
            "Procesando Actas con Donut:  53%|█████▎    | 289/545 [2:08:37<1:54:52, 26.92s/it]\u001b[A"
          ]
        },
        {
          "name": "stdout",
          "output_type": "stream",
          "text": [
            "   ❔ Pregunta: 'VOTOS VÁLIDOS' -> Respuesta: 'None'\n",
            "\n",
            "--- Interrogando al acta: mesa_2_102994.jpg ---\n",
            "   ❔ Pregunta: 'AP' -> Respuesta: 'AP 0 1 7'\n",
            "   ❔ Pregunta: 'APB SÚMATE' -> Respuesta: 'APB SÚMATE MESA: 2'\n",
            "   ❔ Pregunta: 'CODIGO MESA' -> Respuesta: '2'\n",
            "   ❔ Pregunta: 'ELECTORES HABILITADOS' -> Respuesta: 'None'\n",
            "   ❔ Pregunta: 'FP' -> Respuesta: 'FP 08.00'\n",
            "   ❔ Pregunta: 'LIBRE' -> Respuesta: 'LIBRE 001'\n",
            "   ❔ Pregunta: 'LYP ADN' -> Respuesta: 'LYP ADN MESA: 2'\n",
            "   ❔ Pregunta: 'MAS-IPSP' -> Respuesta: 'MAS-IPSP 0 0 0 0 0 0 0 0 0 0 0 0 0 0 0 0 0 0 0 0 0 0 0 0 0 0 0 0 0 0 0 0 0 0 0 0 0 0 0 0 0 0 0 0 0 0 0 0 0 0 0 0 0 0 0 0 0 0 0 0 0 0 0 0 0 0 0 0 0 0 0 0 0 0 0 0 0 0 0 0 0 0 0 0 0 0 0 0 0 0 0 0 0 0 0 0 0 0 0 0 0 0 0 0 0 0 0 0 0 0 0 0 0 0 0 0 0 0 0'\n",
            "   ❔ Pregunta: 'MESA' -> Respuesta: '2'\n",
            "   ❔ Pregunta: 'MORENA' -> Respuesta: 'MORENA 1'\n",
            "   ❔ Pregunta: 'PAPELETAS EN ÁNFORA' -> Respuesta: '7'\n",
            "   ❔ Pregunta: 'PAPELETAS NO UTILIZADAS' -> Respuesta: '795'\n",
            "   ❔ Pregunta: 'PDC' -> Respuesta: 'PDC 018'\n",
            "   ❔ Pregunta: 'UNIDAD' -> Respuesta: 'UNIDAD 00 6'\n",
            "   ❔ Pregunta: 'VOTOS BLANCOS' -> Respuesta: '61'\n",
            "   ❔ Pregunta: 'VOTOS NULOS' -> Respuesta: '61'\n"
          ]
        },
        {
          "name": "stderr",
          "output_type": "stream",
          "text": [
            "\n",
            "Procesando Actas con Donut:  53%|█████▎    | 290/545 [2:09:05<1:55:28, 27.17s/it]\u001b[A"
          ]
        },
        {
          "name": "stdout",
          "output_type": "stream",
          "text": [
            "   ❔ Pregunta: 'VOTOS VÁLIDOS' -> Respuesta: '62'\n",
            "\n",
            "--- Interrogando al acta: mesa_3_103004.jpg ---\n",
            "   ❔ Pregunta: 'AP' -> Respuesta: 'AP 0.28'\n",
            "   ❔ Pregunta: 'APB SÚMATE' -> Respuesta: 'APB SÚMATE MOSA: 3'\n",
            "   ❔ Pregunta: 'CODIGO MESA' -> Respuesta: '3'\n",
            "   ❔ Pregunta: 'ELECTORES HABILITADOS' -> Respuesta: '3'\n",
            "   ❔ Pregunta: 'FP' -> Respuesta: 'FP 000'\n",
            "   ❔ Pregunta: 'LIBRE' -> Respuesta: 'LIBRE 0.23'\n",
            "   ❔ Pregunta: 'LYP ADN' -> Respuesta: 'LYP ADN 0.23'\n",
            "   ❔ Pregunta: 'MAS-IPSP' -> Respuesta: 'MAS-IPSP 0.92'\n",
            "   ❔ Pregunta: 'MESA' -> Respuesta: '3'\n",
            "   ❔ Pregunta: 'MORENA' -> Respuesta: 'MORENA 0.23'\n",
            "   ❔ Pregunta: 'PAPELETAS EN ÁNFORA' -> Respuesta: '740'\n",
            "   ❔ Pregunta: 'PAPELETAS NO UTILIZADAS' -> Respuesta: '30'\n",
            "   ❔ Pregunta: 'PDC' -> Respuesta: 'PDC 027'\n",
            "   ❔ Pregunta: 'UNIDAD' -> Respuesta: 'UNIDAD 005'\n",
            "   ❔ Pregunta: 'VOTOS BLANCOS' -> Respuesta: '3'\n",
            "   ❔ Pregunta: 'VOTOS NULOS' -> Respuesta: '987'\n"
          ]
        },
        {
          "name": "stderr",
          "output_type": "stream",
          "text": [
            "\n",
            "Procesando Actas con Donut:  53%|█████▎    | 291/545 [2:09:32<1:54:32, 27.06s/it]\u001b[A"
          ]
        },
        {
          "name": "stdout",
          "output_type": "stream",
          "text": [
            "   ❔ Pregunta: 'VOTOS VÁLIDOS' -> Respuesta: '66'\n",
            "\n",
            "--- Interrogando al acta: mesa_11_103084.jpg ---\n",
            "   ❔ Pregunta: 'AP' -> Respuesta: 'AP 018'\n",
            "   ❔ Pregunta: 'APB SÚMATE' -> Respuesta: 'APB SÚMATE 010'\n",
            "   ❔ Pregunta: 'CODIGO MESA' -> Respuesta: '11'\n",
            "   ❔ Pregunta: 'ELECTORES HABILITADOS' -> Respuesta: '3'\n",
            "   ❔ Pregunta: 'FP' -> Respuesta: 'FP 004'\n",
            "   ❔ Pregunta: 'LIBRE' -> Respuesta: 'LIBRE 005'\n",
            "   ❔ Pregunta: 'LYP ADN' -> Respuesta: 'LYP ADN AP'\n",
            "   ❔ Pregunta: 'MAS-IPSP' -> Respuesta: 'MAS-IPSP 003'\n",
            "   ❔ Pregunta: 'MESA' -> Respuesta: '11'\n",
            "   ❔ Pregunta: 'MORENA' -> Respuesta: 'MORENA 018'\n",
            "   ❔ Pregunta: 'PAPELETAS EN ÁNFORA' -> Respuesta: '129'\n",
            "   ❔ Pregunta: 'PAPELETAS NO UTILIZADAS' -> Respuesta: '19'\n",
            "   ❔ Pregunta: 'PDC' -> Respuesta: 'PDC 016'\n",
            "   ❔ Pregunta: 'UNIDAD' -> Respuesta: 'UNIDAD 004'\n",
            "   ❔ Pregunta: 'VOTOS BLANCOS' -> Respuesta: '2'\n",
            "   ❔ Pregunta: 'VOTOS NULOS' -> Respuesta: '64'\n"
          ]
        },
        {
          "name": "stderr",
          "output_type": "stream",
          "text": [
            "\n",
            "Procesando Actas con Donut:  54%|█████▎    | 292/545 [2:09:58<1:53:38, 26.95s/it]\u001b[A"
          ]
        },
        {
          "name": "stdout",
          "output_type": "stream",
          "text": [
            "   ❔ Pregunta: 'VOTOS VÁLIDOS' -> Respuesta: '129'\n",
            "\n",
            "--- Interrogando al acta: mesa_9_103064.jpg ---\n",
            "   ❔ Pregunta: 'AP' -> Respuesta: 'AP 500'\n",
            "   ❔ Pregunta: 'APB SÚMATE' -> Respuesta: 'APB SÚMATE 770'\n",
            "   ❔ Pregunta: 'CODIGO MESA' -> Respuesta: '770'\n",
            "   ❔ Pregunta: 'ELECTORES HABILITADOS' -> Respuesta: 'None'\n",
            "   ❔ Pregunta: 'FP' -> Respuesta: 'FP 00'\n",
            "   ❔ Pregunta: 'LIBRE' -> Respuesta: 'LIBRE EHB'\n",
            "   ❔ Pregunta: 'LYP ADN' -> Respuesta: 'LYP ADN TV 90EOL'\n",
            "   ❔ Pregunta: 'MAS-IPSP' -> Respuesta: 'MAS-IPSP WWW.GOV'\n",
            "   ❔ Pregunta: 'MESA' -> Respuesta: '700'\n",
            "   ❔ Pregunta: 'MORENA' -> Respuesta: 'MORENA 770'\n",
            "   ❔ Pregunta: 'PAPELETAS EN ÁNFORA' -> Respuesta: '770'\n",
            "   ❔ Pregunta: 'PAPELETAS NO UTILIZADAS' -> Respuesta: '0'\n",
            "   ❔ Pregunta: 'PDC' -> Respuesta: 'PDC 610'\n",
            "   ❔ Pregunta: 'UNIDAD' -> Respuesta: 'UNIDAD 00'\n",
            "   ❔ Pregunta: 'VOTOS BLANCOS' -> Respuesta: 'None'\n",
            "   ❔ Pregunta: 'VOTOS NULOS' -> Respuesta: '770'\n"
          ]
        },
        {
          "name": "stderr",
          "output_type": "stream",
          "text": [
            "\n",
            "Procesando Actas con Donut:  54%|█████▍    | 293/545 [2:10:26<1:53:25, 27.01s/it]\u001b[A"
          ]
        },
        {
          "name": "stdout",
          "output_type": "stream",
          "text": [
            "   ❔ Pregunta: 'VOTOS VÁLIDOS' -> Respuesta: 'None'\n",
            "\n",
            "--- Interrogando al acta: mesa_5_103024.jpg ---\n",
            "   ❔ Pregunta: 'AP' -> Respuesta: 'AP AP'\n",
            "   ❔ Pregunta: 'APB SÚMATE' -> Respuesta: 'APB SÚMATE 006'\n",
            "   ❔ Pregunta: 'CODIGO MESA' -> Respuesta: '5'\n",
            "   ❔ Pregunta: 'ELECTORES HABILITADOS' -> Respuesta: '3'\n",
            "   ❔ Pregunta: 'FP' -> Respuesta: 'FP 004'\n",
            "   ❔ Pregunta: 'LIBRE' -> Respuesta: 'LIBRE 0 9 0'\n",
            "   ❔ Pregunta: 'LYP ADN' -> Respuesta: 'LYP ADN AP'\n",
            "   ❔ Pregunta: 'MAS-IPSP' -> Respuesta: 'MAS-IPSP 000'\n",
            "   ❔ Pregunta: 'MESA' -> Respuesta: '5'\n",
            "   ❔ Pregunta: 'MORENA' -> Respuesta: 'MORENA 0.2'\n",
            "   ❔ Pregunta: 'PAPELETAS EN ÁNFORA' -> Respuesta: '32'\n",
            "   ❔ Pregunta: 'PAPELETAS NO UTILIZADAS' -> Respuesta: '203'\n",
            "   ❔ Pregunta: 'PDC' -> Respuesta: 'PDC 004'\n",
            "   ❔ Pregunta: 'UNIDAD' -> Respuesta: 'UNIDAD 004'\n",
            "   ❔ Pregunta: 'VOTOS BLANCOS' -> Respuesta: '2'\n",
            "   ❔ Pregunta: 'VOTOS NULOS' -> Respuesta: '63'\n"
          ]
        },
        {
          "name": "stderr",
          "output_type": "stream",
          "text": [
            "\n",
            "Procesando Actas con Donut:  54%|█████▍    | 294/545 [2:10:53<1:52:58, 27.01s/it]\u001b[A"
          ]
        },
        {
          "name": "stdout",
          "output_type": "stream",
          "text": [
            "   ❔ Pregunta: 'VOTOS VÁLIDOS' -> Respuesta: '154'\n",
            "\n",
            "--- Interrogando al acta: mesa_1_102984.jpg ---\n",
            "   ❔ Pregunta: 'AP' -> Respuesta: 'AP OEP'\n",
            "   ❔ Pregunta: 'APB SÚMATE' -> Respuesta: 'APB SÚMATE MESA 1'\n",
            "   ❔ Pregunta: 'CODIGO MESA' -> Respuesta: '1'\n",
            "   ❔ Pregunta: 'ELECTORES HABILITADOS' -> Respuesta: '3'\n",
            "   ❔ Pregunta: 'FP' -> Respuesta: 'FP 2'\n",
            "   ❔ Pregunta: 'LIBRE' -> Respuesta: 'LIBRE 0900'\n",
            "   ❔ Pregunta: 'LYP ADN' -> Respuesta: 'LYP ADN MESA'\n",
            "   ❔ Pregunta: 'MAS-IPSP' -> Respuesta: 'MAS-IPSP 4'\n",
            "   ❔ Pregunta: 'MESA' -> Respuesta: '900'\n",
            "   ❔ Pregunta: 'MORENA' -> Respuesta: 'MORENA 486'\n",
            "   ❔ Pregunta: 'PAPELETAS EN ÁNFORA' -> Respuesta: '4630'\n",
            "   ❔ Pregunta: 'PAPELETAS NO UTILIZADAS' -> Respuesta: '4'\n",
            "   ❔ Pregunta: 'PDC' -> Respuesta: 'PDC 20'\n",
            "   ❔ Pregunta: 'UNIDAD' -> Respuesta: 'UNIDAD 4630'\n",
            "   ❔ Pregunta: 'VOTOS BLANCOS' -> Respuesta: '67'\n",
            "   ❔ Pregunta: 'VOTOS NULOS' -> Respuesta: '60'\n"
          ]
        },
        {
          "name": "stderr",
          "output_type": "stream",
          "text": [
            "\n",
            "Procesando Actas con Donut:  54%|█████▍    | 295/545 [2:11:20<1:52:37, 27.03s/it]\u001b[A"
          ]
        },
        {
          "name": "stdout",
          "output_type": "stream",
          "text": [
            "   ❔ Pregunta: 'VOTOS VÁLIDOS' -> Respuesta: '60'\n",
            "\n",
            "--- Interrogando al acta: mesa_7_103044.jpg ---\n",
            "   ❔ Pregunta: 'AP' -> Respuesta: 'AP 018'\n",
            "   ❔ Pregunta: 'APB SÚMATE' -> Respuesta: 'APB SÚMATE 005'\n",
            "   ❔ Pregunta: 'CODIGO MESA' -> Respuesta: '7'\n",
            "   ❔ Pregunta: 'ELECTORES HABILITADOS' -> Respuesta: '3'\n",
            "   ❔ Pregunta: 'FP' -> Respuesta: 'FP 005'\n",
            "   ❔ Pregunta: 'LIBRE' -> Respuesta: 'LIBRE 004'\n",
            "   ❔ Pregunta: 'LYP ADN' -> Respuesta: 'LYP ADN 001'\n",
            "   ❔ Pregunta: 'MAS-IPSP' -> Respuesta: 'MAS-IPSP 00 2'\n",
            "   ❔ Pregunta: 'MESA' -> Respuesta: '7'\n",
            "   ❔ Pregunta: 'MORENA' -> Respuesta: 'MORENA 1 8 6'\n",
            "   ❔ Pregunta: 'PAPELETAS EN ÁNFORA' -> Respuesta: '83'\n",
            "   ❔ Pregunta: 'PAPELETAS NO UTILIZADAS' -> Respuesta: '186'\n",
            "   ❔ Pregunta: 'PDC' -> Respuesta: 'PDC 027'\n",
            "   ❔ Pregunta: 'UNIDAD' -> Respuesta: 'UNIDAD 003'\n",
            "   ❔ Pregunta: 'VOTOS BLANCOS' -> Respuesta: '4'\n",
            "   ❔ Pregunta: 'VOTOS NULOS' -> Respuesta: '69'\n"
          ]
        },
        {
          "name": "stderr",
          "output_type": "stream",
          "text": [
            "\n",
            "Procesando Actas con Donut:  54%|█████▍    | 296/545 [2:11:46<1:51:49, 26.94s/it]\u001b[A"
          ]
        },
        {
          "name": "stdout",
          "output_type": "stream",
          "text": [
            "   ❔ Pregunta: 'VOTOS VÁLIDOS' -> Respuesta: '66'\n",
            "\n",
            "--- Interrogando al acta: mesa_10_103074.jpg ---\n",
            "   ❔ Pregunta: 'AP' -> Respuesta: 'AP 018'\n",
            "   ❔ Pregunta: 'APB SÚMATE' -> Respuesta: 'APB SÚMATE 0 1'\n",
            "   ❔ Pregunta: 'CODIGO MESA' -> Respuesta: 'None'\n",
            "   ❔ Pregunta: 'ELECTORES HABILITADOS' -> Respuesta: '3'\n",
            "   ❔ Pregunta: 'FP' -> Respuesta: 'FP 0 1 1 0'\n",
            "   ❔ Pregunta: 'LIBRE' -> Respuesta: 'LIBRE 004'\n",
            "   ❔ Pregunta: 'LYP ADN' -> Respuesta: 'LYP ADN 018'\n",
            "   ❔ Pregunta: 'MAS-IPSP' -> Respuesta: 'MAS-IPSP 003'\n",
            "   ❔ Pregunta: 'MESA' -> Respuesta: '10'\n",
            "   ❔ Pregunta: 'MORENA' -> Respuesta: 'MORENA 0 1 1'\n",
            "   ❔ Pregunta: 'PAPELETAS EN ÁNFORA' -> Respuesta: '21'\n",
            "   ❔ Pregunta: 'PAPELETAS NO UTILIZADAS' -> Respuesta: '200'\n",
            "   ❔ Pregunta: 'PDC' -> Respuesta: 'PDC 014'\n",
            "   ❔ Pregunta: 'UNIDAD' -> Respuesta: 'UNIDAD 001'\n",
            "   ❔ Pregunta: 'VOTOS BLANCOS' -> Respuesta: '71'\n",
            "   ❔ Pregunta: 'VOTOS NULOS' -> Respuesta: '71'\n"
          ]
        },
        {
          "name": "stderr",
          "output_type": "stream",
          "text": [
            "\n",
            "Procesando Actas con Donut:  54%|█████▍    | 297/545 [2:12:13<1:51:31, 26.98s/it]\u001b[A"
          ]
        },
        {
          "name": "stdout",
          "output_type": "stream",
          "text": [
            "   ❔ Pregunta: 'VOTOS VÁLIDOS' -> Respuesta: '74'\n",
            "\n",
            "--- Interrogando al acta: mesa_8_103054.jpg ---\n",
            "   ❔ Pregunta: 'AP' -> Respuesta: 'AP 012'\n",
            "   ❔ Pregunta: 'APB SÚMATE' -> Respuesta: 'APB SÚMATE 0830'\n",
            "   ❔ Pregunta: 'CODIGO MESA' -> Respuesta: '8'\n",
            "   ❔ Pregunta: 'ELECTORES HABILITADOS' -> Respuesta: '3'\n",
            "   ❔ Pregunta: 'FP' -> Respuesta: 'FP 063'\n",
            "   ❔ Pregunta: 'LIBRE' -> Respuesta: 'LIBRE 004'\n",
            "   ❔ Pregunta: 'LYP ADN' -> Respuesta: 'LYP ADN 003'\n",
            "   ❔ Pregunta: 'MAS-IPSP' -> Respuesta: 'MAS-IPSP 000'\n",
            "   ❔ Pregunta: 'MESA' -> Respuesta: '8'\n",
            "   ❔ Pregunta: 'MORENA' -> Respuesta: 'MORENA 012'\n",
            "   ❔ Pregunta: 'PAPELETAS EN ÁNFORA' -> Respuesta: '25'\n",
            "   ❔ Pregunta: 'PAPELETAS NO UTILIZADAS' -> Respuesta: '83'\n",
            "   ❔ Pregunta: 'PDC' -> Respuesta: 'PDC 022'\n",
            "   ❔ Pregunta: 'UNIDAD' -> Respuesta: 'UNIDAD 008'\n",
            "   ❔ Pregunta: 'VOTOS BLANCOS' -> Respuesta: '6'\n",
            "   ❔ Pregunta: 'VOTOS NULOS' -> Respuesta: '63'\n"
          ]
        },
        {
          "name": "stderr",
          "output_type": "stream",
          "text": [
            "\n",
            "Procesando Actas con Donut:  55%|█████▍    | 298/545 [2:12:41<1:51:15, 27.02s/it]\u001b[A"
          ]
        },
        {
          "name": "stdout",
          "output_type": "stream",
          "text": [
            "   ❔ Pregunta: 'VOTOS VÁLIDOS' -> Respuesta: '58'\n",
            "\n",
            "--- Interrogando al acta: mesa_12_103094.jpg ---\n",
            "   ❔ Pregunta: 'AP' -> Respuesta: 'AP 005'\n",
            "   ❔ Pregunta: 'APB SÚMATE' -> Respuesta: 'APB SÚMATE MOS-LSP'\n",
            "   ❔ Pregunta: 'CODIGO MESA' -> Respuesta: '12'\n",
            "   ❔ Pregunta: 'ELECTORES HABILITADOS' -> Respuesta: '3'\n",
            "   ❔ Pregunta: 'FP' -> Respuesta: 'FP 000'\n",
            "   ❔ Pregunta: 'LIBRE' -> Respuesta: 'LIBRE 005'\n",
            "   ❔ Pregunta: 'LYP ADN' -> Respuesta: 'LYP ADN APB SOMATE'\n",
            "   ❔ Pregunta: 'MAS-IPSP' -> Respuesta: 'MAS-IPSP 005'\n",
            "   ❔ Pregunta: 'MESA' -> Respuesta: '12'\n",
            "   ❔ Pregunta: 'MORENA' -> Respuesta: 'MORENA 0.31'\n",
            "   ❔ Pregunta: 'PAPELETAS EN ÁNFORA' -> Respuesta: '31'\n",
            "   ❔ Pregunta: 'PAPELETAS NO UTILIZADAS' -> Respuesta: '41'\n",
            "   ❔ Pregunta: 'PDC' -> Respuesta: 'PDC 004'\n",
            "   ❔ Pregunta: 'UNIDAD' -> Respuesta: 'UNIDAD 000'\n",
            "   ❔ Pregunta: 'VOTOS BLANCOS' -> Respuesta: '0'\n",
            "   ❔ Pregunta: 'VOTOS NULOS' -> Respuesta: '5'\n"
          ]
        },
        {
          "name": "stderr",
          "output_type": "stream",
          "text": [
            "\n",
            "Procesando Actas con Donut:  55%|█████▍    | 299/545 [2:13:08<1:50:49, 27.03s/it]\u001b[A"
          ]
        },
        {
          "name": "stdout",
          "output_type": "stream",
          "text": [
            "   ❔ Pregunta: 'VOTOS VÁLIDOS' -> Respuesta: '16'\n",
            "\n",
            "--- Interrogando al acta: mesa_7_103694.jpg ---\n",
            "   ❔ Pregunta: 'AP' -> Respuesta: 'AP APB SUMATE'\n",
            "   ❔ Pregunta: 'APB SÚMATE' -> Respuesta: 'APB SÚMATE MOS-IPP'\n",
            "   ❔ Pregunta: 'CODIGO MESA' -> Respuesta: '7'\n",
            "   ❔ Pregunta: 'ELECTORES HABILITADOS' -> Respuesta: '3'\n",
            "   ❔ Pregunta: 'FP' -> Respuesta: 'FP 0.16'\n",
            "   ❔ Pregunta: 'LIBRE' -> Respuesta: 'LIBRE 009'\n",
            "   ❔ Pregunta: 'LYP ADN' -> Respuesta: 'LYP ADN OEP'\n",
            "   ❔ Pregunta: 'MAS-IPSP' -> Respuesta: 'MAS-IPSP 00 2'\n",
            "   ❔ Pregunta: 'MESA' -> Respuesta: '7'\n",
            "   ❔ Pregunta: 'MORENA' -> Respuesta: 'MORENA 7'\n",
            "   ❔ Pregunta: 'PAPELETAS EN ÁNFORA' -> Respuesta: '722'\n",
            "   ❔ Pregunta: 'PAPELETAS NO UTILIZADAS' -> Respuesta: '7'\n",
            "   ❔ Pregunta: 'PDC' -> Respuesta: 'PDC 016'\n",
            "   ❔ Pregunta: 'UNIDAD' -> Respuesta: 'UNIDAD 007'\n",
            "   ❔ Pregunta: 'VOTOS BLANCOS' -> Respuesta: '3'\n",
            "   ❔ Pregunta: 'VOTOS NULOS' -> Respuesta: '43'\n"
          ]
        },
        {
          "name": "stderr",
          "output_type": "stream",
          "text": [
            "\n",
            "Procesando Actas con Donut:  55%|█████▌    | 300/545 [2:13:34<1:50:01, 26.94s/it]\u001b[A"
          ]
        },
        {
          "name": "stdout",
          "output_type": "stream",
          "text": [
            "   ❔ Pregunta: 'VOTOS VÁLIDOS' -> Respuesta: '68'\n",
            "\n",
            "--- Interrogando al acta: mesa_9_103714.jpg ---\n",
            "   ❔ Pregunta: 'AP' -> Respuesta: 'AP 004'\n",
            "   ❔ Pregunta: 'APB SÚMATE' -> Respuesta: 'APB SÚMATE 002'\n",
            "   ❔ Pregunta: 'CODIGO MESA' -> Respuesta: '9'\n",
            "   ❔ Pregunta: 'ELECTORES HABILITADOS' -> Respuesta: '3'\n",
            "   ❔ Pregunta: 'FP' -> Respuesta: 'FP 002'\n",
            "   ❔ Pregunta: 'LIBRE' -> Respuesta: 'LIBRE 007'\n",
            "   ❔ Pregunta: 'LYP ADN' -> Respuesta: 'LYP ADN APB SUMATE'\n",
            "   ❔ Pregunta: 'MAS-IPSP' -> Respuesta: 'MAS-IPSP 000'\n",
            "   ❔ Pregunta: 'MESA' -> Respuesta: '9'\n",
            "   ❔ Pregunta: 'MORENA' -> Respuesta: 'MORENA 09 00'\n",
            "   ❔ Pregunta: 'PAPELETAS EN ÁNFORA' -> Respuesta: '63'\n",
            "   ❔ Pregunta: 'PAPELETAS NO UTILIZADAS' -> Respuesta: '3'\n",
            "   ❔ Pregunta: 'PDC' -> Respuesta: 'PDC 004'\n",
            "   ❔ Pregunta: 'UNIDAD' -> Respuesta: 'UNIDAD 003'\n",
            "   ❔ Pregunta: 'VOTOS BLANCOS' -> Respuesta: '3'\n",
            "   ❔ Pregunta: 'VOTOS NULOS' -> Respuesta: '16'\n"
          ]
        },
        {
          "name": "stderr",
          "output_type": "stream",
          "text": [
            "\n",
            "Procesando Actas con Donut:  55%|█████▌    | 301/545 [2:14:02<1:49:49, 27.00s/it]\u001b[A"
          ]
        },
        {
          "name": "stdout",
          "output_type": "stream",
          "text": [
            "   ❔ Pregunta: 'VOTOS VÁLIDOS' -> Respuesta: '16'\n",
            "\n",
            "--- Interrogando al acta: mesa_5_103674.jpg ---\n",
            "   ❔ Pregunta: 'AP' -> Respuesta: 'AP 22'\n",
            "   ❔ Pregunta: 'APB SÚMATE' -> Respuesta: 'APB SÚMATE MOSA: 5'\n",
            "   ❔ Pregunta: 'CODIGO MESA' -> Respuesta: 'None'\n",
            "   ❔ Pregunta: 'ELECTORES HABILITADOS' -> Respuesta: '3'\n",
            "   ❔ Pregunta: 'FP' -> Respuesta: 'FP 000'\n",
            "   ❔ Pregunta: 'LIBRE' -> Respuesta: 'LIBRE 3'\n",
            "   ❔ Pregunta: 'LYP ADN' -> Respuesta: 'LYP ADN 000'\n",
            "   ❔ Pregunta: 'MAS-IPSP' -> Respuesta: 'MAS-IPSP 3'\n",
            "   ❔ Pregunta: 'MESA' -> Respuesta: '5'\n",
            "   ❔ Pregunta: 'MORENA' -> Respuesta: 'MORENA 209'\n",
            "   ❔ Pregunta: 'PAPELETAS EN ÁNFORA' -> Respuesta: '209'\n",
            "   ❔ Pregunta: 'PAPELETAS NO UTILIZADAS' -> Respuesta: '209'\n",
            "   ❔ Pregunta: 'PDC' -> Respuesta: 'PDC 14'\n",
            "   ❔ Pregunta: 'UNIDAD' -> Respuesta: 'UNIDAD 4'\n",
            "   ❔ Pregunta: 'VOTOS BLANCOS' -> Respuesta: '5'\n",
            "   ❔ Pregunta: 'VOTOS NULOS' -> Respuesta: '50'\n"
          ]
        },
        {
          "name": "stderr",
          "output_type": "stream",
          "text": [
            "\n",
            "Procesando Actas con Donut:  55%|█████▌    | 302/545 [2:14:29<1:49:20, 27.00s/it]\u001b[A"
          ]
        },
        {
          "name": "stdout",
          "output_type": "stream",
          "text": [
            "   ❔ Pregunta: 'VOTOS VÁLIDOS' -> Respuesta: '83'\n",
            "\n",
            "--- Interrogando al acta: mesa_8_103704.jpg ---\n",
            "   ❔ Pregunta: 'AP' -> Respuesta: 'AP 0'\n",
            "   ❔ Pregunta: 'APB SÚMATE' -> Respuesta: 'APB SÚMATE 0.25'\n",
            "   ❔ Pregunta: 'CODIGO MESA' -> Respuesta: '900'\n",
            "   ❔ Pregunta: 'ELECTORES HABILITADOS' -> Respuesta: '3'\n",
            "   ❔ Pregunta: 'FP' -> Respuesta: 'FP 0'\n",
            "   ❔ Pregunta: 'LIBRE' -> Respuesta: 'LIBRE 0'\n",
            "   ❔ Pregunta: 'LYP ADN' -> Respuesta: 'LYP ADN 029'\n",
            "   ❔ Pregunta: 'MAS-IPSP' -> Respuesta: 'MAS-IPSP 0.95'\n",
            "   ❔ Pregunta: 'MESA' -> Respuesta: '8'\n",
            "   ❔ Pregunta: 'MORENA' -> Respuesta: 'MORENA 0.45'\n",
            "   ❔ Pregunta: 'PAPELETAS EN ÁNFORA' -> Respuesta: '45'\n",
            "   ❔ Pregunta: 'PAPELETAS NO UTILIZADAS' -> Respuesta: '25'\n",
            "   ❔ Pregunta: 'PDC' -> Respuesta: 'PDC 0.83'\n",
            "   ❔ Pregunta: 'UNIDAD' -> Respuesta: 'UNIDAD MESA 8'\n",
            "   ❔ Pregunta: 'VOTOS BLANCOS' -> Respuesta: '91'\n",
            "   ❔ Pregunta: 'VOTOS NULOS' -> Respuesta: '91'\n"
          ]
        },
        {
          "name": "stderr",
          "output_type": "stream",
          "text": [
            "\n",
            "Procesando Actas con Donut:  56%|█████▌    | 303/545 [2:14:56<1:49:02, 27.03s/it]\u001b[A"
          ]
        },
        {
          "name": "stdout",
          "output_type": "stream",
          "text": [
            "   ❔ Pregunta: 'VOTOS VÁLIDOS' -> Respuesta: '21'\n",
            "\n",
            "--- Interrogando al acta: mesa_2_103734.jpg ---\n",
            "   ❔ Pregunta: 'AP' -> Respuesta: 'AP 017'\n",
            "   ❔ Pregunta: 'APB SÚMATE' -> Respuesta: 'APB SÚMATE 002'\n",
            "   ❔ Pregunta: 'CODIGO MESA' -> Respuesta: 'None'\n",
            "   ❔ Pregunta: 'ELECTORES HABILITADOS' -> Respuesta: '3'\n",
            "   ❔ Pregunta: 'FP' -> Respuesta: 'FP 006'\n",
            "   ❔ Pregunta: 'LIBRE' -> Respuesta: 'LIBRE 005'\n",
            "   ❔ Pregunta: 'LYP ADN' -> Respuesta: 'LYP ADN APB SOMATE'\n",
            "   ❔ Pregunta: 'MAS-IPSP' -> Respuesta: 'MAS-IPSP 003'\n",
            "   ❔ Pregunta: 'MESA' -> Respuesta: '2'\n",
            "   ❔ Pregunta: 'MORENA' -> Respuesta: 'MORENA 0830'\n",
            "   ❔ Pregunta: 'PAPELETAS EN ÁNFORA' -> Respuesta: 'None'\n",
            "   ❔ Pregunta: 'PAPELETAS NO UTILIZADAS' -> Respuesta: '830'\n",
            "   ❔ Pregunta: 'PDC' -> Respuesta: 'PDC 017'\n",
            "   ❔ Pregunta: 'UNIDAD' -> Respuesta: 'UNIDAD 008'\n",
            "   ❔ Pregunta: 'VOTOS BLANCOS' -> Respuesta: '6'\n",
            "   ❔ Pregunta: 'VOTOS NULOS' -> Respuesta: '13'\n"
          ]
        },
        {
          "name": "stderr",
          "output_type": "stream",
          "text": [
            "\n",
            "Procesando Actas con Donut:  56%|█████▌    | 304/545 [2:15:23<1:48:47, 27.09s/it]\u001b[A"
          ]
        },
        {
          "name": "stdout",
          "output_type": "stream",
          "text": [
            "   ❔ Pregunta: 'VOTOS VÁLIDOS' -> Respuesta: '61'\n",
            "\n",
            "--- Interrogando al acta: mesa_6_103684.jpg ---\n",
            "   ❔ Pregunta: 'AP' -> Respuesta: 'AP 008'\n",
            "   ❔ Pregunta: 'APB SÚMATE' -> Respuesta: 'APB SÚMATE 09.05'\n",
            "   ❔ Pregunta: 'CODIGO MESA' -> Respuesta: '6'\n",
            "   ❔ Pregunta: 'ELECTORES HABILITADOS' -> Respuesta: '3'\n",
            "   ❔ Pregunta: 'FP' -> Respuesta: 'FP 005'\n",
            "   ❔ Pregunta: 'LIBRE' -> Respuesta: 'LIBRE 09.05'\n",
            "   ❔ Pregunta: 'LYP ADN' -> Respuesta: 'LYP ADN 09.05'\n",
            "   ❔ Pregunta: 'MAS-IPSP' -> Respuesta: 'MAS-IPSP 005'\n",
            "   ❔ Pregunta: 'MESA' -> Respuesta: '6'\n",
            "   ❔ Pregunta: 'MORENA' -> Respuesta: 'MORENA 001'\n",
            "   ❔ Pregunta: 'PAPELETAS EN ÁNFORA' -> Respuesta: '45'\n",
            "   ❔ Pregunta: 'PAPELETAS NO UTILIZADAS' -> Respuesta: '50'\n",
            "   ❔ Pregunta: 'PDC' -> Respuesta: 'PDC 014'\n",
            "   ❔ Pregunta: 'UNIDAD' -> Respuesta: 'UNIDAD 004'\n",
            "   ❔ Pregunta: 'VOTOS BLANCOS' -> Respuesta: '8'\n",
            "   ❔ Pregunta: 'VOTOS NULOS' -> Respuesta: '54'\n"
          ]
        },
        {
          "name": "stderr",
          "output_type": "stream",
          "text": [
            "\n",
            "Procesando Actas con Donut:  56%|█████▌    | 305/545 [2:15:50<1:47:51, 26.96s/it]\u001b[A"
          ]
        },
        {
          "name": "stdout",
          "output_type": "stream",
          "text": [
            "   ❔ Pregunta: 'VOTOS VÁLIDOS' -> Respuesta: '50'\n",
            "\n",
            "--- Interrogando al acta: mesa_1_103724.jpg ---\n",
            "   ❔ Pregunta: 'AP' -> Respuesta: 'AP 0.9'\n",
            "   ❔ Pregunta: 'APB SÚMATE' -> Respuesta: 'APB SÚMATE 0.9'\n",
            "   ❔ Pregunta: 'CODIGO MESA' -> Respuesta: '103724'\n",
            "   ❔ Pregunta: 'ELECTORES HABILITADOS' -> Respuesta: '3'\n",
            "   ❔ Pregunta: 'FP' -> Respuesta: 'FP 0.9'\n",
            "   ❔ Pregunta: 'LIBRE' -> Respuesta: 'LIBRE 005'\n",
            "   ❔ Pregunta: 'LYP ADN' -> Respuesta: 'LYP ADN AP'\n",
            "   ❔ Pregunta: 'MAS-IPSP' -> Respuesta: 'MAS-IPSP 0 0'\n",
            "   ❔ Pregunta: 'MESA' -> Respuesta: '1'\n",
            "   ❔ Pregunta: 'MORENA' -> Respuesta: 'MORENA 0.9'\n",
            "   ❔ Pregunta: 'PAPELETAS EN ÁNFORA' -> Respuesta: '703'\n",
            "   ❔ Pregunta: 'PAPELETAS NO UTILIZADAS' -> Respuesta: '217'\n",
            "   ❔ Pregunta: 'PDC' -> Respuesta: 'PDC 014'\n",
            "   ❔ Pregunta: 'UNIDAD' -> Respuesta: 'UNIDAD 009'\n",
            "   ❔ Pregunta: 'VOTOS BLANCOS' -> Respuesta: '5'\n",
            "   ❔ Pregunta: 'VOTOS NULOS' -> Respuesta: '35'\n"
          ]
        },
        {
          "name": "stderr",
          "output_type": "stream",
          "text": [
            "\n",
            "Procesando Actas con Donut:  56%|█████▌    | 306/545 [2:16:16<1:47:19, 26.94s/it]\u001b[A"
          ]
        },
        {
          "name": "stdout",
          "output_type": "stream",
          "text": [
            "   ❔ Pregunta: 'VOTOS VÁLIDOS' -> Respuesta: '63'\n",
            "\n",
            "--- Interrogando al acta: mesa_3_103744.jpg ---\n",
            "   ❔ Pregunta: 'AP' -> Respuesta: 'AP 015'\n",
            "   ❔ Pregunta: 'APB SÚMATE' -> Respuesta: 'APB SÚMATE 005'\n",
            "   ❔ Pregunta: 'CODIGO MESA' -> Respuesta: '103744'\n",
            "   ❔ Pregunta: 'ELECTORES HABILITADOS' -> Respuesta: '3'\n",
            "   ❔ Pregunta: 'FP' -> Respuesta: 'FP 003'\n",
            "   ❔ Pregunta: 'LIBRE' -> Respuesta: 'LIBRE 007'\n",
            "   ❔ Pregunta: 'LYP ADN' -> Respuesta: 'LYP ADN AP'\n",
            "   ❔ Pregunta: 'MAS-IPSP' -> Respuesta: 'MAS-IPSP 0 0 1'\n",
            "   ❔ Pregunta: 'MESA' -> Respuesta: 'None'\n",
            "   ❔ Pregunta: 'MORENA' -> Respuesta: 'MORENA AP'\n",
            "   ❔ Pregunta: 'PAPELETAS EN ÁNFORA' -> Respuesta: '0'\n",
            "   ❔ Pregunta: 'PAPELETAS NO UTILIZADAS' -> Respuesta: '206'\n",
            "   ❔ Pregunta: 'PDC' -> Respuesta: 'PDC 016'\n",
            "   ❔ Pregunta: 'UNIDAD' -> Respuesta: 'UNIDAD 004'\n",
            "   ❔ Pregunta: 'VOTOS BLANCOS' -> Respuesta: '7'\n",
            "   ❔ Pregunta: 'VOTOS NULOS' -> Respuesta: '53'\n"
          ]
        },
        {
          "name": "stderr",
          "output_type": "stream",
          "text": [
            "\n",
            "Procesando Actas con Donut:  56%|█████▋    | 307/545 [2:16:43<1:46:55, 26.96s/it]\u001b[A"
          ]
        },
        {
          "name": "stdout",
          "output_type": "stream",
          "text": [
            "   ❔ Pregunta: 'VOTOS VÁLIDOS' -> Respuesta: '54'\n",
            "\n",
            "--- Interrogando al acta: mesa_4_103754.jpg ---\n",
            "   ❔ Pregunta: 'AP' -> Respuesta: 'AP 04'\n",
            "   ❔ Pregunta: 'APB SÚMATE' -> Respuesta: 'APB SÚMATE 004'\n",
            "   ❔ Pregunta: 'CODIGO MESA' -> Respuesta: '4'\n",
            "   ❔ Pregunta: 'ELECTORES HABILITADOS' -> Respuesta: '3'\n",
            "   ❔ Pregunta: 'FP' -> Respuesta: 'FP 003'\n",
            "   ❔ Pregunta: 'LIBRE' -> Respuesta: 'LIBRE 001'\n",
            "   ❔ Pregunta: 'LYP ADN' -> Respuesta: 'LYP ADN APB SOMATE'\n",
            "   ❔ Pregunta: 'MAS-IPSP' -> Respuesta: 'MAS-IPSP 003'\n",
            "   ❔ Pregunta: 'MESA' -> Respuesta: '4'\n",
            "   ❔ Pregunta: 'MORENA' -> Respuesta: 'MORENA 04'\n",
            "   ❔ Pregunta: 'PAPELETAS EN ÁNFORA' -> Respuesta: '402'\n",
            "   ❔ Pregunta: 'PAPELETAS NO UTILIZADAS' -> Respuesta: '402'\n",
            "   ❔ Pregunta: 'PDC' -> Respuesta: 'PDC 0.10'\n",
            "   ❔ Pregunta: 'UNIDAD' -> Respuesta: 'UNIDAD 005'\n",
            "   ❔ Pregunta: 'VOTOS BLANCOS' -> Respuesta: '15'\n",
            "   ❔ Pregunta: 'VOTOS NULOS' -> Respuesta: '46'\n"
          ]
        },
        {
          "name": "stderr",
          "output_type": "stream",
          "text": [
            "\n",
            "Procesando Actas con Donut:  57%|█████▋    | 308/545 [2:17:10<1:46:34, 26.98s/it]\u001b[A"
          ]
        },
        {
          "name": "stdout",
          "output_type": "stream",
          "text": [
            "   ❔ Pregunta: 'VOTOS VÁLIDOS' -> Respuesta: '41'\n",
            "\n",
            "--- Interrogando al acta: mesa_4_102744.jpg ---\n",
            "   ❔ Pregunta: 'AP' -> Respuesta: 'AP 0 2'\n",
            "   ❔ Pregunta: 'APB SÚMATE' -> Respuesta: 'APB SÚMATE 0940'\n",
            "   ❔ Pregunta: 'CODIGO MESA' -> Respuesta: '940'\n",
            "   ❔ Pregunta: 'ELECTORES HABILITADOS' -> Respuesta: '3'\n",
            "   ❔ Pregunta: 'FP' -> Respuesta: 'FP 0.2'\n",
            "   ❔ Pregunta: 'LIBRE' -> Respuesta: 'LIBRE 0 1'\n",
            "   ❔ Pregunta: 'LYP ADN' -> Respuesta: 'LYP ADN APB SUMATE'\n",
            "   ❔ Pregunta: 'MAS-IPSP' -> Respuesta: 'MAS-IPSP 0 0 2'\n",
            "   ❔ Pregunta: 'MESA' -> Respuesta: '4'\n",
            "   ❔ Pregunta: 'MORENA' -> Respuesta: 'MORENA 227'\n",
            "   ❔ Pregunta: 'PAPELETAS EN ÁNFORA' -> Respuesta: '93'\n",
            "   ❔ Pregunta: 'PAPELETAS NO UTILIZADAS' -> Respuesta: '227'\n",
            "   ❔ Pregunta: 'PDC' -> Respuesta: 'PDC 013'\n",
            "   ❔ Pregunta: 'UNIDAD' -> Respuesta: 'UNIDAD 0 1'\n",
            "   ❔ Pregunta: 'VOTOS BLANCOS' -> Respuesta: '2'\n",
            "   ❔ Pregunta: 'VOTOS NULOS' -> Respuesta: '29'\n"
          ]
        },
        {
          "name": "stderr",
          "output_type": "stream",
          "text": [
            "\n",
            "Procesando Actas con Donut:  57%|█████▋    | 309/545 [2:17:37<1:46:02, 26.96s/it]\u001b[A"
          ]
        },
        {
          "name": "stdout",
          "output_type": "stream",
          "text": [
            "   ❔ Pregunta: 'VOTOS VÁLIDOS' -> Respuesta: '62'\n",
            "\n",
            "--- Interrogando al acta: mesa_3_102734.jpg ---\n",
            "   ❔ Pregunta: 'AP' -> Respuesta: 'AP 0 1 1'\n",
            "   ❔ Pregunta: 'APB SÚMATE' -> Respuesta: 'APB SÚMATE MOSA: 3'\n",
            "   ❔ Pregunta: 'CODIGO MESA' -> Respuesta: 'None'\n",
            "   ❔ Pregunta: 'ELECTORES HABILITADOS' -> Respuesta: '3'\n",
            "   ❔ Pregunta: 'FP' -> Respuesta: 'FP 0 0 4'\n",
            "   ❔ Pregunta: 'LIBRE' -> Respuesta: 'LIBRE 0 1 1'\n",
            "   ❔ Pregunta: 'LYP ADN' -> Respuesta: 'LYP ADN AP'\n",
            "   ❔ Pregunta: 'MAS-IPSP' -> Respuesta: 'MAS-IPSP 0 0'\n",
            "   ❔ Pregunta: 'MESA' -> Respuesta: '3'\n",
            "   ❔ Pregunta: 'MORENA' -> Respuesta: 'MORENA 107'\n",
            "   ❔ Pregunta: 'PAPELETAS EN ÁNFORA' -> Respuesta: 'None'\n",
            "   ❔ Pregunta: 'PAPELETAS NO UTILIZADAS' -> Respuesta: '7'\n",
            "   ❔ Pregunta: 'PDC' -> Respuesta: 'PDC 0 2'\n",
            "   ❔ Pregunta: 'UNIDAD' -> Respuesta: 'UNIDAD 005'\n",
            "   ❔ Pregunta: 'VOTOS BLANCOS' -> Respuesta: '3'\n",
            "   ❔ Pregunta: 'VOTOS NULOS' -> Respuesta: '39'\n"
          ]
        },
        {
          "name": "stderr",
          "output_type": "stream",
          "text": [
            "\n",
            "Procesando Actas con Donut:  57%|█████▋    | 310/545 [2:18:04<1:45:17, 26.88s/it]\u001b[A"
          ]
        },
        {
          "name": "stdout",
          "output_type": "stream",
          "text": [
            "   ❔ Pregunta: 'VOTOS VÁLIDOS' -> Respuesta: '6'\n",
            "\n",
            "--- Interrogando al acta: mesa_2_102724.jpg ---\n",
            "   ❔ Pregunta: 'AP' -> Respuesta: 'AP 0.18'\n",
            "   ❔ Pregunta: 'APB SÚMATE' -> Respuesta: 'APB SÚMATE MOSA: 2'\n",
            "   ❔ Pregunta: 'CODIGO MESA' -> Respuesta: 'None'\n",
            "   ❔ Pregunta: 'ELECTORES HABILITADOS' -> Respuesta: '3'\n",
            "   ❔ Pregunta: 'FP' -> Respuesta: 'FP 0.95'\n",
            "   ❔ Pregunta: 'LIBRE' -> Respuesta: 'LIBRE 0.18'\n",
            "   ❔ Pregunta: 'LYP ADN' -> Respuesta: 'LYP ADN AP'\n",
            "   ❔ Pregunta: 'MAS-IPSP' -> Respuesta: 'MAS-IPSP 0 0'\n",
            "   ❔ Pregunta: 'MESA' -> Respuesta: '9'\n",
            "   ❔ Pregunta: 'MORENA' -> Respuesta: 'MORENA 208'\n",
            "   ❔ Pregunta: 'PAPELETAS EN ÁNFORA' -> Respuesta: '108'\n",
            "   ❔ Pregunta: 'PAPELETAS NO UTILIZADAS' -> Respuesta: '208'\n",
            "   ❔ Pregunta: 'PDC' -> Respuesta: 'PDC 016'\n",
            "   ❔ Pregunta: 'UNIDAD' -> Respuesta: 'UNIDAD 007'\n",
            "   ❔ Pregunta: 'VOTOS BLANCOS' -> Respuesta: '4'\n",
            "   ❔ Pregunta: 'VOTOS NULOS' -> Respuesta: '40'\n"
          ]
        },
        {
          "name": "stderr",
          "output_type": "stream",
          "text": [
            "\n",
            "Procesando Actas con Donut:  57%|█████▋    | 311/545 [2:18:31<1:45:03, 26.94s/it]\u001b[A"
          ]
        },
        {
          "name": "stdout",
          "output_type": "stream",
          "text": [
            "   ❔ Pregunta: 'VOTOS VÁLIDOS' -> Respuesta: '64'\n",
            "\n",
            "--- Interrogando al acta: mesa_7_102774.jpg ---\n",
            "   ❔ Pregunta: 'AP' -> Respuesta: 'AP 017'\n",
            "   ❔ Pregunta: 'APB SÚMATE' -> Respuesta: 'APB SÚMATE 008'\n",
            "   ❔ Pregunta: 'CODIGO MESA' -> Respuesta: 'None'\n",
            "   ❔ Pregunta: 'ELECTORES HABILITADOS' -> Respuesta: '3'\n",
            "   ❔ Pregunta: 'FP' -> Respuesta: 'FP 002'\n",
            "   ❔ Pregunta: 'LIBRE' -> Respuesta: 'LIBRE 007'\n",
            "   ❔ Pregunta: 'LYP ADN' -> Respuesta: 'LYP ADN 001'\n",
            "   ❔ Pregunta: 'MAS-IPSP' -> Respuesta: 'MAS-IPSP 008'\n",
            "   ❔ Pregunta: 'MESA' -> Respuesta: '7'\n",
            "   ❔ Pregunta: 'MORENA' -> Respuesta: 'MORENA 09.34'\n",
            "   ❔ Pregunta: 'PAPELETAS EN ÁNFORA' -> Respuesta: '98'\n",
            "   ❔ Pregunta: 'PAPELETAS NO UTILIZADAS' -> Respuesta: '98'\n",
            "   ❔ Pregunta: 'PDC' -> Respuesta: 'PDC 016'\n",
            "   ❔ Pregunta: 'UNIDAD' -> Respuesta: 'UNIDAD 001'\n",
            "   ❔ Pregunta: 'VOTOS BLANCOS' -> Respuesta: '4'\n",
            "   ❔ Pregunta: 'VOTOS NULOS' -> Respuesta: '39'\n"
          ]
        },
        {
          "name": "stderr",
          "output_type": "stream",
          "text": [
            "\n",
            "Procesando Actas con Donut:  57%|█████▋    | 312/545 [2:18:58<1:44:35, 26.93s/it]\u001b[A"
          ]
        },
        {
          "name": "stdout",
          "output_type": "stream",
          "text": [
            "   ❔ Pregunta: 'VOTOS VÁLIDOS' -> Respuesta: '55'\n",
            "\n",
            "--- Interrogando al acta: mesa_6_102764.jpg ---\n",
            "   ❔ Pregunta: 'AP' -> Respuesta: 'AP 800'\n",
            "   ❔ Pregunta: 'APB SÚMATE' -> Respuesta: 'APB SÚMATE WWW.GOV'\n",
            "   ❔ Pregunta: 'CODIGO MESA' -> Respuesta: '800'\n",
            "   ❔ Pregunta: 'ELECTORES HABILITADOS' -> Respuesta: 'None'\n",
            "   ❔ Pregunta: 'FP' -> Respuesta: 'FP 80'\n",
            "   ❔ Pregunta: 'LIBRE' -> Respuesta: 'LIBRE VADO'\n",
            "   ❔ Pregunta: 'LYP ADN' -> Respuesta: 'LYP ADN TV. 94201'\n",
            "   ❔ Pregunta: 'MAS-IPSP' -> Respuesta: 'MAS-IPSP WWW.GOV'\n",
            "   ❔ Pregunta: 'MESA' -> Respuesta: '800'\n",
            "   ❔ Pregunta: 'MORENA' -> Respuesta: 'MORENA 500'\n",
            "   ❔ Pregunta: 'PAPELETAS EN ÁNFORA' -> Respuesta: 'None'\n",
            "   ❔ Pregunta: 'PAPELETAS NO UTILIZADAS' -> Respuesta: '333'\n",
            "   ❔ Pregunta: 'PDC' -> Respuesta: 'PDC NOV 4'\n",
            "   ❔ Pregunta: 'UNIDAD' -> Respuesta: 'UNIDAD 800'\n",
            "   ❔ Pregunta: 'VOTOS BLANCOS' -> Respuesta: 'None'\n",
            "   ❔ Pregunta: 'VOTOS NULOS' -> Respuesta: 'None'\n"
          ]
        },
        {
          "name": "stderr",
          "output_type": "stream",
          "text": [
            "\n",
            "Procesando Actas con Donut:  57%|█████▋    | 313/545 [2:19:25<1:44:17, 26.97s/it]\u001b[A"
          ]
        },
        {
          "name": "stdout",
          "output_type": "stream",
          "text": [
            "   ❔ Pregunta: 'VOTOS VÁLIDOS' -> Respuesta: '4'\n",
            "\n",
            "--- Interrogando al acta: mesa_8_102784.jpg ---\n",
            "   ❔ Pregunta: 'AP' -> Respuesta: 'AP 013'\n",
            "   ❔ Pregunta: 'APB SÚMATE' -> Respuesta: 'APB SÚMATE 005'\n",
            "   ❔ Pregunta: 'CODIGO MESA' -> Respuesta: '102784'\n",
            "   ❔ Pregunta: 'ELECTORES HABILITADOS' -> Respuesta: '3'\n",
            "   ❔ Pregunta: 'FP' -> Respuesta: 'FP 003'\n",
            "   ❔ Pregunta: 'LIBRE' -> Respuesta: 'LIBRE 009'\n",
            "   ❔ Pregunta: 'LYP ADN' -> Respuesta: 'LYP ADN APB SOMATE'\n",
            "   ❔ Pregunta: 'MAS-IPSP' -> Respuesta: 'MAS-IPSP 002'\n",
            "   ❔ Pregunta: 'MESA' -> Respuesta: '8'\n",
            "   ❔ Pregunta: 'MORENA' -> Respuesta: 'MORENA 0.13'\n",
            "   ❔ Pregunta: 'PAPELETAS EN ÁNFORA' -> Respuesta: '92'\n",
            "   ❔ Pregunta: 'PAPELETAS NO UTILIZADAS' -> Respuesta: '92'\n",
            "   ❔ Pregunta: 'PDC' -> Respuesta: 'PDC 0 13'\n",
            "   ❔ Pregunta: 'UNIDAD' -> Respuesta: 'UNIDAD 007'\n",
            "   ❔ Pregunta: 'VOTOS BLANCOS' -> Respuesta: '0'\n",
            "   ❔ Pregunta: 'VOTOS NULOS' -> Respuesta: '39'\n"
          ]
        },
        {
          "name": "stderr",
          "output_type": "stream",
          "text": [
            "\n",
            "Procesando Actas con Donut:  58%|█████▊    | 314/545 [2:19:52<1:44:02, 27.03s/it]\u001b[A"
          ]
        },
        {
          "name": "stdout",
          "output_type": "stream",
          "text": [
            "   ❔ Pregunta: 'VOTOS VÁLIDOS' -> Respuesta: '53'\n",
            "\n",
            "--- Interrogando al acta: mesa_9_102794.jpg ---\n",
            "   ❔ Pregunta: 'AP' -> Respuesta: 'AP OEP'\n",
            "   ❔ Pregunta: 'APB SÚMATE' -> Respuesta: 'APB SÚMATE 081'\n",
            "   ❔ Pregunta: 'CODIGO MESA' -> Respuesta: '9'\n",
            "   ❔ Pregunta: 'ELECTORES HABILITADOS' -> Respuesta: '3'\n",
            "   ❔ Pregunta: 'FP' -> Respuesta: 'FP 001'\n",
            "   ❔ Pregunta: 'LIBRE' -> Respuesta: 'LIBRE 011'\n",
            "   ❔ Pregunta: 'LYP ADN' -> Respuesta: 'LYP ADN 081'\n",
            "   ❔ Pregunta: 'MAS-IPSP' -> Respuesta: 'MAS-IPSP 003'\n",
            "   ❔ Pregunta: 'MESA' -> Respuesta: '9'\n",
            "   ❔ Pregunta: 'MORENA' -> Respuesta: 'MORENA 0 1 4'\n",
            "   ❔ Pregunta: 'PAPELETAS EN ÁNFORA' -> Respuesta: '1119'\n",
            "   ❔ Pregunta: 'PAPELETAS NO UTILIZADAS' -> Respuesta: '214'\n",
            "   ❔ Pregunta: 'PDC' -> Respuesta: 'PDC 014'\n",
            "   ❔ Pregunta: 'UNIDAD' -> Respuesta: 'UNIDAD 006'\n",
            "   ❔ Pregunta: 'VOTOS BLANCOS' -> Respuesta: '1'\n",
            "   ❔ Pregunta: 'VOTOS NULOS' -> Respuesta: '54'\n"
          ]
        },
        {
          "name": "stderr",
          "output_type": "stream",
          "text": [
            "\n",
            "Procesando Actas con Donut:  58%|█████▊    | 315/545 [2:20:19<1:43:13, 26.93s/it]\u001b[A"
          ]
        },
        {
          "name": "stdout",
          "output_type": "stream",
          "text": [
            "   ❔ Pregunta: 'VOTOS VÁLIDOS' -> Respuesta: '64'\n",
            "\n",
            "--- Interrogando al acta: mesa_5_102754.jpg ---\n",
            "   ❔ Pregunta: 'AP' -> Respuesta: 'AP 0.23'\n",
            "   ❔ Pregunta: 'APB SÚMATE' -> Respuesta: 'APB SÚMATE 0940'\n",
            "   ❔ Pregunta: 'CODIGO MESA' -> Respuesta: '102754'\n",
            "   ❔ Pregunta: 'ELECTORES HABILITADOS' -> Respuesta: '3'\n",
            "   ❔ Pregunta: 'FP' -> Respuesta: 'FP 09 40'\n",
            "   ❔ Pregunta: 'LIBRE' -> Respuesta: 'LIBRE 005'\n",
            "   ❔ Pregunta: 'LYP ADN' -> Respuesta: 'LYP ADN AP'\n",
            "   ❔ Pregunta: 'MAS-IPSP' -> Respuesta: 'MAS-IPSP 003'\n",
            "   ❔ Pregunta: 'MESA' -> Respuesta: '5'\n",
            "   ❔ Pregunta: 'MORENA' -> Respuesta: 'MORENA AP'\n",
            "   ❔ Pregunta: 'PAPELETAS EN ÁNFORA' -> Respuesta: '90'\n",
            "   ❔ Pregunta: 'PAPELETAS NO UTILIZADAS' -> Respuesta: '230'\n",
            "   ❔ Pregunta: 'PDC' -> Respuesta: 'PDC 008'\n",
            "   ❔ Pregunta: 'UNIDAD' -> Respuesta: 'UNIDAD 005'\n",
            "   ❔ Pregunta: 'VOTOS BLANCOS' -> Respuesta: '0'\n",
            "   ❔ Pregunta: 'VOTOS NULOS' -> Respuesta: '41'\n"
          ]
        },
        {
          "name": "stderr",
          "output_type": "stream",
          "text": [
            "\n",
            "Procesando Actas con Donut:  58%|█████▊    | 316/545 [2:20:46<1:42:28, 26.85s/it]\u001b[A"
          ]
        },
        {
          "name": "stdout",
          "output_type": "stream",
          "text": [
            "   ❔ Pregunta: 'VOTOS VÁLIDOS' -> Respuesta: '49'\n",
            "\n",
            "--- Interrogando al acta: mesa_1_102714.jpg ---\n",
            "   ❔ Pregunta: 'AP' -> Respuesta: 'AP 500'\n",
            "   ❔ Pregunta: 'APB SÚMATE' -> Respuesta: 'APB SÚMATE NOV DAR'\n",
            "   ❔ Pregunta: 'CODIGO MESA' -> Respuesta: 'None'\n",
            "   ❔ Pregunta: 'ELECTORES HABILITADOS' -> Respuesta: 'None'\n",
            "   ❔ Pregunta: 'FP' -> Respuesta: 'FP WWW.GOV'\n",
            "   ❔ Pregunta: 'LIBRE' -> Respuesta: 'LIBRE EURO'\n",
            "   ❔ Pregunta: 'LYP ADN' -> Respuesta: 'LYP ADN TVLZGOL'\n",
            "   ❔ Pregunta: 'MAS-IPSP' -> Respuesta: 'MAS-IPSP WWW.GOV'\n",
            "   ❔ Pregunta: 'MESA' -> Respuesta: 'None'\n",
            "   ❔ Pregunta: 'MORENA' -> Respuesta: 'MORENA 850'\n",
            "   ❔ Pregunta: 'PAPELETAS EN ÁNFORA' -> Respuesta: '890'\n",
            "   ❔ Pregunta: 'PAPELETAS NO UTILIZADAS' -> Respuesta: '890'\n",
            "   ❔ Pregunta: 'PDC' -> Respuesta: 'PDC TVLZCOL'\n",
            "   ❔ Pregunta: 'UNIDAD' -> Respuesta: 'UNIDAD DEPARTMENT'\n",
            "   ❔ Pregunta: 'VOTOS BLANCOS' -> Respuesta: 'None'\n",
            "   ❔ Pregunta: 'VOTOS NULOS' -> Respuesta: '80'\n"
          ]
        },
        {
          "name": "stderr",
          "output_type": "stream",
          "text": [
            "\n",
            "Procesando Actas con Donut:  58%|█████▊    | 317/545 [2:21:13<1:42:12, 26.90s/it]\u001b[A"
          ]
        },
        {
          "name": "stdout",
          "output_type": "stream",
          "text": [
            "   ❔ Pregunta: 'VOTOS VÁLIDOS' -> Respuesta: 'None'\n",
            "\n",
            "--- Interrogando al acta: mesa_4_100904.jpg ---\n",
            "   ❔ Pregunta: 'AP' -> Respuesta: 'AP 0 8'\n",
            "   ❔ Pregunta: 'APB SÚMATE' -> Respuesta: 'APB SÚMATE 0.8'\n",
            "   ❔ Pregunta: 'CODIGO MESA' -> Respuesta: '4'\n",
            "   ❔ Pregunta: 'ELECTORES HABILITADOS' -> Respuesta: '3'\n",
            "   ❔ Pregunta: 'FP' -> Respuesta: 'FP 004'\n",
            "   ❔ Pregunta: 'LIBRE' -> Respuesta: 'LIBRE 08.00'\n",
            "   ❔ Pregunta: 'LYP ADN' -> Respuesta: 'LYP ADN APS COMATE'\n",
            "   ❔ Pregunta: 'MAS-IPSP' -> Respuesta: 'MAS-IPSP 081'\n",
            "   ❔ Pregunta: 'MESA' -> Respuesta: '4'\n",
            "   ❔ Pregunta: 'MORENA' -> Respuesta: 'MORENA 10090-4'\n",
            "   ❔ Pregunta: 'PAPELETAS EN ÁNFORA' -> Respuesta: '81'\n",
            "   ❔ Pregunta: 'PAPELETAS NO UTILIZADAS' -> Respuesta: '17'\n",
            "   ❔ Pregunta: 'PDC' -> Respuesta: 'PDC 032'\n",
            "   ❔ Pregunta: 'UNIDAD' -> Respuesta: 'UNIDAD 00'\n",
            "   ❔ Pregunta: 'VOTOS BLANCOS' -> Respuesta: '24'\n",
            "   ❔ Pregunta: 'VOTOS NULOS' -> Respuesta: '94'\n"
          ]
        },
        {
          "name": "stderr",
          "output_type": "stream",
          "text": [
            "\n",
            "Procesando Actas con Donut:  58%|█████▊    | 318/545 [2:21:40<1:42:04, 26.98s/it]\u001b[A"
          ]
        },
        {
          "name": "stdout",
          "output_type": "stream",
          "text": [
            "   ❔ Pregunta: 'VOTOS VÁLIDOS' -> Respuesta: '81'\n",
            "\n",
            "--- Interrogando al acta: mesa_9_100954.jpg ---\n",
            "   ❔ Pregunta: 'AP' -> Respuesta: 'AP 005'\n",
            "   ❔ Pregunta: 'APB SÚMATE' -> Respuesta: 'APB SÚMATE 004'\n",
            "   ❔ Pregunta: 'CODIGO MESA' -> Respuesta: '9'\n",
            "   ❔ Pregunta: 'ELECTORES HABILITADOS' -> Respuesta: '3'\n",
            "   ❔ Pregunta: 'FP' -> Respuesta: 'FP 003'\n",
            "   ❔ Pregunta: 'LIBRE' -> Respuesta: 'LIBRE 0 1 3'\n",
            "   ❔ Pregunta: 'LYP ADN' -> Respuesta: 'LYP ADN AP'\n",
            "   ❔ Pregunta: 'MAS-IPSP' -> Respuesta: 'MAS-IPSP 002'\n",
            "   ❔ Pregunta: 'MESA' -> Respuesta: '9'\n",
            "   ❔ Pregunta: 'MORENA' -> Respuesta: 'MORENA 09.19'\n",
            "   ❔ Pregunta: 'PAPELETAS EN ÁNFORA' -> Respuesta: '59'\n",
            "   ❔ Pregunta: 'PAPELETAS NO UTILIZADAS' -> Respuesta: '104'\n",
            "   ❔ Pregunta: 'PDC' -> Respuesta: 'PDC 010'\n",
            "   ❔ Pregunta: 'UNIDAD' -> Respuesta: 'UNIDAD 007'\n",
            "   ❔ Pregunta: 'VOTOS BLANCOS' -> Respuesta: '0'\n",
            "   ❔ Pregunta: 'VOTOS NULOS' -> Respuesta: '14'\n"
          ]
        },
        {
          "name": "stderr",
          "output_type": "stream",
          "text": [
            "\n",
            "Procesando Actas con Donut:  59%|█████▊    | 319/545 [2:22:07<1:41:40, 26.99s/it]\u001b[A"
          ]
        },
        {
          "name": "stdout",
          "output_type": "stream",
          "text": [
            "   ❔ Pregunta: 'VOTOS VÁLIDOS' -> Respuesta: '45'\n",
            "\n",
            "--- Interrogando al acta: mesa_5_100914.jpg ---\n",
            "   ❔ Pregunta: 'AP' -> Respuesta: 'AP 0 22'\n",
            "   ❔ Pregunta: 'APB SÚMATE' -> Respuesta: 'APB SÚMATE 0.22'\n",
            "   ❔ Pregunta: 'CODIGO MESA' -> Respuesta: '5'\n",
            "   ❔ Pregunta: 'ELECTORES HABILITADOS' -> Respuesta: '3'\n",
            "   ❔ Pregunta: 'FP' -> Respuesta: 'FP 0.34'\n",
            "   ❔ Pregunta: 'LIBRE' -> Respuesta: 'LIBRE 003'\n",
            "   ❔ Pregunta: 'LYP ADN' -> Respuesta: 'LYP ADN 003'\n",
            "   ❔ Pregunta: 'MAS-IPSP' -> Respuesta: 'MAS-IPSP 001'\n",
            "   ❔ Pregunta: 'MESA' -> Respuesta: '5'\n",
            "   ❔ Pregunta: 'MORENA' -> Respuesta: 'MORENA 493'\n",
            "   ❔ Pregunta: 'PAPELETAS EN ÁNFORA' -> Respuesta: '493'\n",
            "   ❔ Pregunta: 'PAPELETAS NO UTILIZADAS' -> Respuesta: '493'\n",
            "   ❔ Pregunta: 'PDC' -> Respuesta: 'PDC 034'\n",
            "   ❔ Pregunta: 'UNIDAD' -> Respuesta: 'UNIDAD 005'\n",
            "   ❔ Pregunta: 'VOTOS BLANCOS' -> Respuesta: '3'\n",
            "   ❔ Pregunta: 'VOTOS NULOS' -> Respuesta: '53'\n"
          ]
        },
        {
          "name": "stderr",
          "output_type": "stream",
          "text": [
            "\n",
            "Procesando Actas con Donut:  59%|█████▊    | 320/545 [2:22:34<1:40:51, 26.90s/it]\u001b[A"
          ]
        },
        {
          "name": "stdout",
          "output_type": "stream",
          "text": [
            "   ❔ Pregunta: 'VOTOS VÁLIDOS' -> Respuesta: '72'\n",
            "\n",
            "--- Interrogando al acta: mesa_6_100924.jpg ---\n",
            "   ❔ Pregunta: 'AP' -> Respuesta: 'AP 0 1 7'\n",
            "   ❔ Pregunta: 'APB SÚMATE' -> Respuesta: 'APB SÚMATE MOSA 6'\n",
            "   ❔ Pregunta: 'CODIGO MESA' -> Respuesta: '6'\n",
            "   ❔ Pregunta: 'ELECTORES HABILITADOS' -> Respuesta: '3'\n",
            "   ❔ Pregunta: 'FP' -> Respuesta: 'FP 001'\n",
            "   ❔ Pregunta: 'LIBRE' -> Respuesta: 'LIBRE 0 1'\n",
            "   ❔ Pregunta: 'LYP ADN' -> Respuesta: 'LYP ADN AP'\n",
            "   ❔ Pregunta: 'MAS-IPSP' -> Respuesta: 'MAS-IPSP 0.2'\n",
            "   ❔ Pregunta: 'MESA' -> Respuesta: '6'\n",
            "   ❔ Pregunta: 'MORENA' -> Respuesta: 'MORENA AP'\n",
            "   ❔ Pregunta: 'PAPELETAS EN ÁNFORA' -> Respuesta: '36'\n",
            "   ❔ Pregunta: 'PAPELETAS NO UTILIZADAS' -> Respuesta: '209'\n",
            "   ❔ Pregunta: 'PDC' -> Respuesta: 'PDC 0.26'\n",
            "   ❔ Pregunta: 'UNIDAD' -> Respuesta: 'UNIDAD 0 6'\n",
            "   ❔ Pregunta: 'VOTOS BLANCOS' -> Respuesta: '0'\n",
            "   ❔ Pregunta: 'VOTOS NULOS' -> Respuesta: '36'\n"
          ]
        },
        {
          "name": "stderr",
          "output_type": "stream",
          "text": [
            "\n",
            "Procesando Actas con Donut:  59%|█████▉    | 321/545 [2:23:01<1:40:33, 26.94s/it]\u001b[A"
          ]
        },
        {
          "name": "stdout",
          "output_type": "stream",
          "text": [
            "   ❔ Pregunta: 'VOTOS VÁLIDOS' -> Respuesta: '75'\n",
            "\n",
            "--- Interrogando al acta: mesa_3_100894.jpg ---\n",
            "   ❔ Pregunta: 'AP' -> Respuesta: 'AP 016'\n",
            "   ❔ Pregunta: 'APB SÚMATE' -> Respuesta: 'APB SÚMATE 0 8'\n",
            "   ❔ Pregunta: 'CODIGO MESA' -> Respuesta: '800'\n",
            "   ❔ Pregunta: 'ELECTORES HABILITADOS' -> Respuesta: '3'\n",
            "   ❔ Pregunta: 'FP' -> Respuesta: 'FP 004'\n",
            "   ❔ Pregunta: 'LIBRE' -> Respuesta: 'LIBRE 08.00'\n",
            "   ❔ Pregunta: 'LYP ADN' -> Respuesta: 'LYP ADN 080'\n",
            "   ❔ Pregunta: 'MAS-IPSP' -> Respuesta: 'MAS-IPSP 004'\n",
            "   ❔ Pregunta: 'MESA' -> Respuesta: '3'\n",
            "   ❔ Pregunta: 'MORENA' -> Respuesta: 'MORENA 0.8'\n",
            "   ❔ Pregunta: 'PAPELETAS EN ÁNFORA' -> Respuesta: '194'\n",
            "   ❔ Pregunta: 'PAPELETAS NO UTILIZADAS' -> Respuesta: '194'\n",
            "   ❔ Pregunta: 'PDC' -> Respuesta: 'PDC 033'\n",
            "   ❔ Pregunta: 'UNIDAD' -> Respuesta: 'UNIDAD 007'\n",
            "   ❔ Pregunta: 'VOTOS BLANCOS' -> Respuesta: '2'\n",
            "   ❔ Pregunta: 'VOTOS NULOS' -> Respuesta: '47'\n"
          ]
        },
        {
          "name": "stderr",
          "output_type": "stream",
          "text": [
            "\n",
            "Procesando Actas con Donut:  59%|█████▉    | 322/545 [2:23:28<1:40:14, 26.97s/it]\u001b[A"
          ]
        },
        {
          "name": "stdout",
          "output_type": "stream",
          "text": [
            "   ❔ Pregunta: 'VOTOS VÁLIDOS' -> Respuesta: '77'\n",
            "\n",
            "--- Interrogando al acta: mesa_1_100874.jpg ---\n",
            "   ❔ Pregunta: 'AP' -> Respuesta: 'AP 0.22'\n",
            "   ❔ Pregunta: 'APB SÚMATE' -> Respuesta: 'APB SÚMATE 004'\n",
            "   ❔ Pregunta: 'CODIGO MESA' -> Respuesta: '100874'\n",
            "   ❔ Pregunta: 'ELECTORES HABILITADOS' -> Respuesta: '3'\n",
            "   ❔ Pregunta: 'FP' -> Respuesta: 'FP 000'\n",
            "   ❔ Pregunta: 'LIBRE' -> Respuesta: 'LIBRE 0.12'\n",
            "   ❔ Pregunta: 'LYP ADN' -> Respuesta: 'LYP ADN 003'\n",
            "   ❔ Pregunta: 'MAS-IPSP' -> Respuesta: 'MAS-IPSP 005'\n",
            "   ❔ Pregunta: 'MESA' -> Respuesta: '1'\n",
            "   ❔ Pregunta: 'MORENA' -> Respuesta: 'MORENA 0.82'\n",
            "   ❔ Pregunta: 'PAPELETAS EN ÁNFORA' -> Respuesta: '132'\n",
            "   ❔ Pregunta: 'PAPELETAS NO UTILIZADAS' -> Respuesta: '188'\n",
            "   ❔ Pregunta: 'PDC' -> Respuesta: 'PDC 024'\n",
            "   ❔ Pregunta: 'UNIDAD' -> Respuesta: 'UNIDAD 0.9'\n",
            "   ❔ Pregunta: 'VOTOS BLANCOS' -> Respuesta: '4'\n",
            "   ❔ Pregunta: 'VOTOS NULOS' -> Respuesta: '46'\n"
          ]
        },
        {
          "name": "stderr",
          "output_type": "stream",
          "text": [
            "\n",
            "Procesando Actas con Donut:  59%|█████▉    | 323/545 [2:23:55<1:39:50, 26.98s/it]\u001b[A"
          ]
        },
        {
          "name": "stdout",
          "output_type": "stream",
          "text": [
            "   ❔ Pregunta: 'VOTOS VÁLIDOS' -> Respuesta: '82'\n",
            "\n",
            "--- Interrogando al acta: mesa_8_100944.jpg ---\n",
            "   ❔ Pregunta: 'AP' -> Respuesta: 'AP 014'\n",
            "   ❔ Pregunta: 'APB SÚMATE' -> Respuesta: 'APB SÚMATE 0938'\n",
            "   ❔ Pregunta: 'CODIGO MESA' -> Respuesta: '100944'\n",
            "   ❔ Pregunta: 'ELECTORES HABILITADOS' -> Respuesta: '3'\n",
            "   ❔ Pregunta: 'FP' -> Respuesta: 'FP 003'\n",
            "   ❔ Pregunta: 'LIBRE' -> Respuesta: 'LIBRE 0.9'\n",
            "   ❔ Pregunta: 'LYP ADN' -> Respuesta: 'LYP ADN AP'\n",
            "   ❔ Pregunta: 'MAS-IPSP' -> Respuesta: 'MAS-IPSP 0.9'\n",
            "   ❔ Pregunta: 'MESA' -> Respuesta: '8'\n",
            "   ❔ Pregunta: 'MORENA' -> Respuesta: 'MORENA 0938'\n",
            "   ❔ Pregunta: 'PAPELETAS EN ÁNFORA' -> Respuesta: '195'\n",
            "   ❔ Pregunta: 'PAPELETAS NO UTILIZADAS' -> Respuesta: '195'\n",
            "   ❔ Pregunta: 'PDC' -> Respuesta: 'PDC 096'\n",
            "   ❔ Pregunta: 'UNIDAD' -> Respuesta: 'UNIDAD 0 06'\n",
            "   ❔ Pregunta: 'VOTOS BLANCOS' -> Respuesta: '1'\n",
            "   ❔ Pregunta: 'VOTOS NULOS' -> Respuesta: '49'\n"
          ]
        },
        {
          "name": "stderr",
          "output_type": "stream",
          "text": [
            "\n",
            "Procesando Actas con Donut:  59%|█████▉    | 324/545 [2:24:21<1:39:09, 26.92s/it]\u001b[A"
          ]
        },
        {
          "name": "stdout",
          "output_type": "stream",
          "text": [
            "   ❔ Pregunta: 'VOTOS VÁLIDOS' -> Respuesta: '75'\n",
            "\n",
            "--- Interrogando al acta: mesa_2_100884.jpg ---\n",
            "   ❔ Pregunta: 'AP' -> Respuesta: 'AP 024'\n",
            "   ❔ Pregunta: 'APB SÚMATE' -> Respuesta: 'APB SÚMATE 024'\n",
            "   ❔ Pregunta: 'CODIGO MESA' -> Respuesta: '9'\n",
            "   ❔ Pregunta: 'ELECTORES HABILITADOS' -> Respuesta: '88'\n",
            "   ❔ Pregunta: 'FP' -> Respuesta: 'FP 002'\n",
            "   ❔ Pregunta: 'LIBRE' -> Respuesta: 'LIBRE 0.8'\n",
            "   ❔ Pregunta: 'LYP ADN' -> Respuesta: 'LYP ADN 00'\n",
            "   ❔ Pregunta: 'MAS-IPSP' -> Respuesta: 'MAS-IPSP 001'\n",
            "   ❔ Pregunta: 'MESA' -> Respuesta: '9'\n",
            "   ❔ Pregunta: 'MORENA' -> Respuesta: 'MORENA 024'\n",
            "   ❔ Pregunta: 'PAPELETAS EN ÁNFORA' -> Respuesta: '88'\n",
            "   ❔ Pregunta: 'PAPELETAS NO UTILIZADAS' -> Respuesta: '8'\n",
            "   ❔ Pregunta: 'PDC' -> Respuesta: 'PDC 038'\n",
            "   ❔ Pregunta: 'UNIDAD' -> Respuesta: 'UNIDAD 006'\n",
            "   ❔ Pregunta: 'VOTOS BLANCOS' -> Respuesta: '2'\n",
            "   ❔ Pregunta: 'VOTOS NULOS' -> Respuesta: '47'\n"
          ]
        },
        {
          "name": "stderr",
          "output_type": "stream",
          "text": [
            "\n",
            "Procesando Actas con Donut:  60%|█████▉    | 325/545 [2:24:49<1:39:03, 27.01s/it]\u001b[A"
          ]
        },
        {
          "name": "stdout",
          "output_type": "stream",
          "text": [
            "   ❔ Pregunta: 'VOTOS VÁLIDOS' -> Respuesta: '88'\n",
            "\n",
            "--- Interrogando al acta: mesa_7_100934.jpg ---\n",
            "   ❔ Pregunta: 'AP' -> Respuesta: 'AP 020'\n",
            "   ❔ Pregunta: 'APB SÚMATE' -> Respuesta: 'APB SÚMATE EMAS: 7'\n",
            "   ❔ Pregunta: 'CODIGO MESA' -> Respuesta: 'None'\n",
            "   ❔ Pregunta: 'ELECTORES HABILITADOS' -> Respuesta: '1'\n",
            "   ❔ Pregunta: 'FP' -> Respuesta: 'FP 002'\n",
            "   ❔ Pregunta: 'LIBRE' -> Respuesta: 'LIBRE 008'\n",
            "   ❔ Pregunta: 'LYP ADN' -> Respuesta: 'LYP ADN AP'\n",
            "   ❔ Pregunta: 'MAS-IPSP' -> Respuesta: 'MAS-IPSP 001'\n",
            "   ❔ Pregunta: 'MESA' -> Respuesta: '7'\n",
            "   ❔ Pregunta: 'MORENA' -> Respuesta: 'MORENA 008'\n",
            "   ❔ Pregunta: 'PAPELETAS EN ÁNFORA' -> Respuesta: '45'\n",
            "   ❔ Pregunta: 'PAPELETAS NO UTILIZADAS' -> Respuesta: '85'\n",
            "   ❔ Pregunta: 'PDC' -> Respuesta: 'PDC 040'\n",
            "   ❔ Pregunta: 'UNIDAD' -> Respuesta: 'UNIDAD 005'\n",
            "   ❔ Pregunta: 'VOTOS BLANCOS' -> Respuesta: '1'\n",
            "   ❔ Pregunta: 'VOTOS NULOS' -> Respuesta: '46'\n"
          ]
        },
        {
          "name": "stderr",
          "output_type": "stream",
          "text": [
            "\n",
            "Procesando Actas con Donut:  60%|█████▉    | 326/545 [2:25:16<1:38:38, 27.03s/it]\u001b[A"
          ]
        },
        {
          "name": "stdout",
          "output_type": "stream",
          "text": [
            "   ❔ Pregunta: 'VOTOS VÁLIDOS' -> Respuesta: '85'\n",
            "\n",
            "--- Interrogando al acta: mesa_9_102184.jpg ---\n",
            "   ❔ Pregunta: 'AP' -> Respuesta: 'AP 0.2'\n",
            "   ❔ Pregunta: 'APB SÚMATE' -> Respuesta: 'APB SÚMATE 007'\n",
            "   ❔ Pregunta: 'CODIGO MESA' -> Respuesta: '9'\n",
            "   ❔ Pregunta: 'ELECTORES HABILITADOS' -> Respuesta: '3'\n",
            "   ❔ Pregunta: 'FP' -> Respuesta: 'FP 0.28'\n",
            "   ❔ Pregunta: 'LIBRE' -> Respuesta: 'LIBRE A3'\n",
            "   ❔ Pregunta: 'LYP ADN' -> Respuesta: 'LYP ADN 027'\n",
            "   ❔ Pregunta: 'MAS-IPSP' -> Respuesta: 'MAS-IPSP 007'\n",
            "   ❔ Pregunta: 'MESA' -> Respuesta: '9'\n",
            "   ❔ Pregunta: 'MORENA' -> Respuesta: 'MORENA 0.27'\n",
            "   ❔ Pregunta: 'PAPELETAS EN ÁNFORA' -> Respuesta: '27'\n",
            "   ❔ Pregunta: 'PAPELETAS NO UTILIZADAS' -> Respuesta: '25'\n",
            "   ❔ Pregunta: 'PDC' -> Respuesta: 'PDC 027'\n",
            "   ❔ Pregunta: 'UNIDAD' -> Respuesta: 'UNIDAD 003'\n",
            "   ❔ Pregunta: 'VOTOS BLANCOS' -> Respuesta: '3'\n",
            "   ❔ Pregunta: 'VOTOS NULOS' -> Respuesta: '66'\n"
          ]
        },
        {
          "name": "stderr",
          "output_type": "stream",
          "text": [
            "\n",
            "Procesando Actas con Donut:  60%|██████    | 327/545 [2:25:43<1:38:11, 27.03s/it]\u001b[A"
          ]
        },
        {
          "name": "stdout",
          "output_type": "stream",
          "text": [
            "   ❔ Pregunta: 'VOTOS VÁLIDOS' -> Respuesta: '59'\n",
            "\n",
            "--- Interrogando al acta: mesa_5_102144.jpg ---\n",
            "   ❔ Pregunta: 'AP' -> Respuesta: 'AP 0.23'\n",
            "   ❔ Pregunta: 'APB SÚMATE' -> Respuesta: 'APB SÚMATE 003'\n",
            "   ❔ Pregunta: 'CODIGO MESA' -> Respuesta: '10244'\n",
            "   ❔ Pregunta: 'ELECTORES HABILITADOS' -> Respuesta: '3'\n",
            "   ❔ Pregunta: 'FP' -> Respuesta: 'FP 001'\n",
            "   ❔ Pregunta: 'LIBRE' -> Respuesta: 'LIBRE 005'\n",
            "   ❔ Pregunta: 'LYP ADN' -> Respuesta: 'LYP ADN 001'\n",
            "   ❔ Pregunta: 'MAS-IPSP' -> Respuesta: 'MAS-IPSP 001'\n",
            "   ❔ Pregunta: 'MESA' -> Respuesta: '5'\n",
            "   ❔ Pregunta: 'MORENA' -> Respuesta: 'MORENA 003'\n",
            "   ❔ Pregunta: 'PAPELETAS EN ÁNFORA' -> Respuesta: '136'\n",
            "   ❔ Pregunta: 'PAPELETAS NO UTILIZADAS' -> Respuesta: '784'\n",
            "   ❔ Pregunta: 'PDC' -> Respuesta: 'PDC 078'\n",
            "   ❔ Pregunta: 'UNIDAD' -> Respuesta: 'UNIDAD 007'\n",
            "   ❔ Pregunta: 'VOTOS BLANCOS' -> Respuesta: '1'\n",
            "   ❔ Pregunta: 'VOTOS NULOS' -> Respuesta: '80'\n"
          ]
        },
        {
          "name": "stderr",
          "output_type": "stream",
          "text": [
            "\n",
            "Procesando Actas con Donut:  60%|██████    | 328/545 [2:26:10<1:37:48, 27.05s/it]\u001b[A"
          ]
        },
        {
          "name": "stdout",
          "output_type": "stream",
          "text": [
            "   ❔ Pregunta: 'VOTOS VÁLIDOS' -> Respuesta: '55'\n",
            "\n",
            "--- Interrogando al acta: mesa_10_102194.jpg ---\n",
            "   ❔ Pregunta: 'AP' -> Respuesta: 'AP 0.65'\n",
            "   ❔ Pregunta: 'APB SÚMATE' -> Respuesta: 'APB SÚMATE 005'\n",
            "   ❔ Pregunta: 'CODIGO MESA' -> Respuesta: '10'\n",
            "   ❔ Pregunta: 'ELECTORES HABILITADOS' -> Respuesta: '3'\n",
            "   ❔ Pregunta: 'FP' -> Respuesta: 'FP 002'\n",
            "   ❔ Pregunta: 'LIBRE' -> Respuesta: 'LIBRE 08 43'\n",
            "   ❔ Pregunta: 'LYP ADN' -> Respuesta: 'LYP ADN 0843'\n",
            "   ❔ Pregunta: 'MAS-IPSP' -> Respuesta: 'MAS-IPSP 002'\n",
            "   ❔ Pregunta: 'MESA' -> Respuesta: '10'\n",
            "   ❔ Pregunta: 'MORENA' -> Respuesta: 'MORENA 08 43'\n",
            "   ❔ Pregunta: 'PAPELETAS EN ÁNFORA' -> Respuesta: '45'\n",
            "   ❔ Pregunta: 'PAPELETAS NO UTILIZADAS' -> Respuesta: '65'\n",
            "   ❔ Pregunta: 'PDC' -> Respuesta: 'PDC 010'\n",
            "   ❔ Pregunta: 'UNIDAD' -> Respuesta: 'UNIDAD 002'\n",
            "   ❔ Pregunta: 'VOTOS BLANCOS' -> Respuesta: '35'\n",
            "   ❔ Pregunta: 'VOTOS NULOS' -> Respuesta: '35'\n"
          ]
        },
        {
          "name": "stderr",
          "output_type": "stream",
          "text": [
            "\n",
            "Procesando Actas con Donut:  60%|██████    | 329/545 [2:26:37<1:37:24, 27.06s/it]\u001b[A"
          ]
        },
        {
          "name": "stdout",
          "output_type": "stream",
          "text": [
            "   ❔ Pregunta: 'VOTOS VÁLIDOS' -> Respuesta: '30'\n",
            "\n",
            "--- Interrogando al acta: mesa_2_102114.jpg ---\n",
            "   ❔ Pregunta: 'AP' -> Respuesta: 'AP 030'\n",
            "   ❔ Pregunta: 'APB SÚMATE' -> Respuesta: 'APB SÚMATE 005'\n",
            "   ❔ Pregunta: 'CODIGO MESA' -> Respuesta: '102114'\n",
            "   ❔ Pregunta: 'ELECTORES HABILITADOS' -> Respuesta: '3'\n",
            "   ❔ Pregunta: 'FP' -> Respuesta: 'FP 004'\n",
            "   ❔ Pregunta: 'LIBRE' -> Respuesta: 'LIBRE 008'\n",
            "   ❔ Pregunta: 'LYP ADN' -> Respuesta: 'LYP ADN 004'\n",
            "   ❔ Pregunta: 'MAS-IPSP' -> Respuesta: 'MAS-IPSP 000'\n",
            "   ❔ Pregunta: 'MESA' -> Respuesta: '930'\n",
            "   ❔ Pregunta: 'MORENA' -> Respuesta: 'MORENA 030'\n",
            "   ❔ Pregunta: 'PAPELETAS EN ÁNFORA' -> Respuesta: '709'\n",
            "   ❔ Pregunta: 'PAPELETAS NO UTILIZADAS' -> Respuesta: '217'\n",
            "   ❔ Pregunta: 'PDC' -> Respuesta: 'PDC 018'\n",
            "   ❔ Pregunta: 'UNIDAD' -> Respuesta: 'UNIDAD 007'\n",
            "   ❔ Pregunta: 'VOTOS BLANCOS' -> Respuesta: '6'\n",
            "   ❔ Pregunta: 'VOTOS NULOS' -> Respuesta: '33'\n"
          ]
        },
        {
          "name": "stderr",
          "output_type": "stream",
          "text": [
            "\n",
            "Procesando Actas con Donut:  61%|██████    | 330/545 [2:27:04<1:37:01, 27.08s/it]\u001b[A"
          ]
        },
        {
          "name": "stdout",
          "output_type": "stream",
          "text": [
            "   ❔ Pregunta: 'VOTOS VÁLIDOS' -> Respuesta: '70'\n",
            "\n",
            "--- Interrogando al acta: mesa_8_102174.jpg ---\n",
            "   ❔ Pregunta: 'AP' -> Respuesta: 'AP 0 15'\n",
            "   ❔ Pregunta: 'APB SÚMATE' -> Respuesta: 'APB SÚMATE 006'\n",
            "   ❔ Pregunta: 'CODIGO MESA' -> Respuesta: '8'\n",
            "   ❔ Pregunta: 'ELECTORES HABILITADOS' -> Respuesta: '3'\n",
            "   ❔ Pregunta: 'FP' -> Respuesta: 'FP 09 05'\n",
            "   ❔ Pregunta: 'LIBRE' -> Respuesta: 'LIBRE 003'\n",
            "   ❔ Pregunta: 'LYP ADN' -> Respuesta: 'LYP ADN APS SOMETE'\n",
            "   ❔ Pregunta: 'MAS-IPSP' -> Respuesta: 'MAS-IPSP 002'\n",
            "   ❔ Pregunta: 'MESA' -> Respuesta: '8'\n",
            "   ❔ Pregunta: 'MORENA' -> Respuesta: 'MORENA 015'\n",
            "   ❔ Pregunta: 'PAPELETAS EN ÁNFORA' -> Respuesta: '15'\n",
            "   ❔ Pregunta: 'PAPELETAS NO UTILIZADAS' -> Respuesta: '25'\n",
            "   ❔ Pregunta: 'PDC' -> Respuesta: 'PDC 029'\n",
            "   ❔ Pregunta: 'UNIDAD' -> Respuesta: 'UNIDAD 002'\n",
            "   ❔ Pregunta: 'VOTOS BLANCOS' -> Respuesta: '2'\n",
            "   ❔ Pregunta: 'VOTOS NULOS' -> Respuesta: '77'\n"
          ]
        },
        {
          "name": "stderr",
          "output_type": "stream",
          "text": [
            "\n",
            "Procesando Actas con Donut:  61%|██████    | 331/545 [2:27:31<1:36:33, 27.07s/it]\u001b[A"
          ]
        },
        {
          "name": "stdout",
          "output_type": "stream",
          "text": [
            "   ❔ Pregunta: 'VOTOS VÁLIDOS' -> Respuesta: '57'\n",
            "\n",
            "--- Interrogando al acta: mesa_4_102134.jpg ---\n",
            "   ❔ Pregunta: 'AP' -> Respuesta: 'AP 028'\n",
            "   ❔ Pregunta: 'APB SÚMATE' -> Respuesta: 'APB SÚMATE 0.28'\n",
            "   ❔ Pregunta: 'CODIGO MESA' -> Respuesta: '806'\n",
            "   ❔ Pregunta: 'ELECTORES HABILITADOS' -> Respuesta: '3'\n",
            "   ❔ Pregunta: 'FP' -> Respuesta: 'FP 003'\n",
            "   ❔ Pregunta: 'LIBRE' -> Respuesta: 'LIBRE 0.28'\n",
            "   ❔ Pregunta: 'LYP ADN' -> Respuesta: 'LYP ADN APB SUMATE'\n",
            "   ❔ Pregunta: 'MAS-IPSP' -> Respuesta: 'MAS-IPSP 0 1'\n",
            "   ❔ Pregunta: 'MESA' -> Respuesta: '4'\n",
            "   ❔ Pregunta: 'MORENA' -> Respuesta: 'MORENA 4'\n",
            "   ❔ Pregunta: 'PAPELETAS EN ÁNFORA' -> Respuesta: '134'\n",
            "   ❔ Pregunta: 'PAPELETAS NO UTILIZADAS' -> Respuesta: '486'\n",
            "   ❔ Pregunta: 'PDC' -> Respuesta: 'PDC 026'\n",
            "   ❔ Pregunta: 'UNIDAD' -> Respuesta: 'UNIDAD 0.06'\n",
            "   ❔ Pregunta: 'VOTOS BLANCOS' -> Respuesta: '5'\n",
            "   ❔ Pregunta: 'VOTOS NULOS' -> Respuesta: '58'\n"
          ]
        },
        {
          "name": "stderr",
          "output_type": "stream",
          "text": [
            "\n",
            "Procesando Actas con Donut:  61%|██████    | 332/545 [2:27:58<1:36:09, 27.09s/it]\u001b[A"
          ]
        },
        {
          "name": "stdout",
          "output_type": "stream",
          "text": [
            "   ❔ Pregunta: 'VOTOS VÁLIDOS' -> Respuesta: '71'\n",
            "\n",
            "--- Interrogando al acta: mesa_3_102124.jpg ---\n",
            "   ❔ Pregunta: 'AP' -> Respuesta: 'AP 020'\n",
            "   ❔ Pregunta: 'APB SÚMATE' -> Respuesta: 'APB SÚMATE 020'\n",
            "   ❔ Pregunta: 'CODIGO MESA' -> Respuesta: '102124'\n",
            "   ❔ Pregunta: 'ELECTORES HABILITADOS' -> Respuesta: '3'\n",
            "   ❔ Pregunta: 'FP' -> Respuesta: 'FP 003'\n",
            "   ❔ Pregunta: 'LIBRE' -> Respuesta: 'LIBRE 020'\n",
            "   ❔ Pregunta: 'LYP ADN' -> Respuesta: 'LYP ADN 08.23'\n",
            "   ❔ Pregunta: 'MAS-IPSP' -> Respuesta: 'MAS-IPSP 00'\n",
            "   ❔ Pregunta: 'MESA' -> Respuesta: '3'\n",
            "   ❔ Pregunta: 'MORENA' -> Respuesta: 'MORENA 795'\n",
            "   ❔ Pregunta: 'PAPELETAS EN ÁNFORA' -> Respuesta: '795'\n",
            "   ❔ Pregunta: 'PAPELETAS NO UTILIZADAS' -> Respuesta: '795'\n",
            "   ❔ Pregunta: 'PDC' -> Respuesta: 'PDC 024'\n",
            "   ❔ Pregunta: 'UNIDAD' -> Respuesta: 'UNIDAD 005'\n",
            "   ❔ Pregunta: 'VOTOS BLANCOS' -> Respuesta: '3'\n",
            "   ❔ Pregunta: 'VOTOS NULOS' -> Respuesta: '55'\n"
          ]
        },
        {
          "name": "stderr",
          "output_type": "stream",
          "text": [
            "\n",
            "Procesando Actas con Donut:  61%|██████    | 333/545 [2:28:25<1:35:42, 27.09s/it]\u001b[A"
          ]
        },
        {
          "name": "stdout",
          "output_type": "stream",
          "text": [
            "   ❔ Pregunta: 'VOTOS VÁLIDOS' -> Respuesta: '67'\n",
            "\n",
            "--- Interrogando al acta: mesa_7_102164.jpg ---\n",
            "   ❔ Pregunta: 'AP' -> Respuesta: 'AP OEP'\n",
            "   ❔ Pregunta: 'APB SÚMATE' -> Respuesta: 'APB SÚMATE 09.10'\n",
            "   ❔ Pregunta: 'CODIGO MESA' -> Respuesta: '7'\n",
            "   ❔ Pregunta: 'ELECTORES HABILITADOS' -> Respuesta: 'None'\n",
            "   ❔ Pregunta: 'FP' -> Respuesta: 'FP 0.18'\n",
            "   ❔ Pregunta: 'LIBRE' -> Respuesta: 'LIBRE 0EP'\n",
            "   ❔ Pregunta: 'LYP ADN' -> Respuesta: 'LYP ADN OEP'\n",
            "   ❔ Pregunta: 'MAS-IPSP' -> Respuesta: 'MAS-IPSP 09.10'\n",
            "   ❔ Pregunta: 'MESA' -> Respuesta: '7'\n",
            "   ❔ Pregunta: 'MORENA' -> Respuesta: 'MORENA 737'\n",
            "   ❔ Pregunta: 'PAPELETAS EN ÁNFORA' -> Respuesta: '18'\n",
            "   ❔ Pregunta: 'PAPELETAS NO UTILIZADAS' -> Respuesta: '68'\n",
            "   ❔ Pregunta: 'PDC' -> Respuesta: 'PDC 018'\n",
            "   ❔ Pregunta: 'UNIDAD' -> Respuesta: 'UNIDAD MESA 7'\n",
            "   ❔ Pregunta: 'VOTOS BLANCOS' -> Respuesta: '61'\n",
            "   ❔ Pregunta: 'VOTOS NULOS' -> Respuesta: '18'\n"
          ]
        },
        {
          "name": "stderr",
          "output_type": "stream",
          "text": [
            "\n",
            "Procesando Actas con Donut:  61%|██████▏   | 334/545 [2:28:52<1:35:15, 27.09s/it]\u001b[A"
          ]
        },
        {
          "name": "stdout",
          "output_type": "stream",
          "text": [
            "   ❔ Pregunta: 'VOTOS VÁLIDOS' -> Respuesta: '61'\n",
            "\n",
            "--- Interrogando al acta: mesa_1_102104.jpg ---\n",
            "   ❔ Pregunta: 'AP' -> Respuesta: 'AP 024'\n",
            "   ❔ Pregunta: 'APB SÚMATE' -> Respuesta: 'APB SÚMATE 0.8'\n",
            "   ❔ Pregunta: 'CODIGO MESA' -> Respuesta: '102104'\n",
            "   ❔ Pregunta: 'ELECTORES HABILITADOS' -> Respuesta: '3'\n",
            "   ❔ Pregunta: 'FP' -> Respuesta: 'FP 0.8'\n",
            "   ❔ Pregunta: 'LIBRE' -> Respuesta: 'LIBRE 0.24'\n",
            "   ❔ Pregunta: 'LYP ADN' -> Respuesta: 'LYP ADN OEP'\n",
            "   ❔ Pregunta: 'MAS-IPSP' -> Respuesta: 'MAS-IPSP 0 0 1'\n",
            "   ❔ Pregunta: 'MESA' -> Respuesta: '826'\n",
            "   ❔ Pregunta: 'MORENA' -> Respuesta: 'MORENA 0.8'\n",
            "   ❔ Pregunta: 'PAPELETAS EN ÁNFORA' -> Respuesta: '191'\n",
            "   ❔ Pregunta: 'PAPELETAS NO UTILIZADAS' -> Respuesta: '379'\n",
            "   ❔ Pregunta: 'PDC' -> Respuesta: 'PDC 030'\n",
            "   ❔ Pregunta: 'UNIDAD' -> Respuesta: 'UNIDAD 0.8'\n",
            "   ❔ Pregunta: 'VOTOS BLANCOS' -> Respuesta: '9'\n",
            "   ❔ Pregunta: 'VOTOS NULOS' -> Respuesta: '52'\n"
          ]
        },
        {
          "name": "stderr",
          "output_type": "stream",
          "text": [
            "\n",
            "Procesando Actas con Donut:  61%|██████▏   | 335/545 [2:29:20<1:34:57, 27.13s/it]\u001b[A"
          ]
        },
        {
          "name": "stdout",
          "output_type": "stream",
          "text": [
            "   ❔ Pregunta: 'VOTOS VÁLIDOS' -> Respuesta: '85'\n",
            "\n",
            "--- Interrogando al acta: mesa_6_102154.jpg ---\n",
            "   ❔ Pregunta: 'AP' -> Respuesta: 'AP 025'\n",
            "   ❔ Pregunta: 'APB SÚMATE' -> Respuesta: 'APB SÚMATE 0.25'\n",
            "   ❔ Pregunta: 'CODIGO MESA' -> Respuesta: '6'\n",
            "   ❔ Pregunta: 'ELECTORES HABILITADOS' -> Respuesta: '3'\n",
            "   ❔ Pregunta: 'FP' -> Respuesta: 'FP 004'\n",
            "   ❔ Pregunta: 'LIBRE' -> Respuesta: 'LIBRE 025'\n",
            "   ❔ Pregunta: 'LYP ADN' -> Respuesta: 'LYP ADN 001'\n",
            "   ❔ Pregunta: 'MAS-IPSP' -> Respuesta: 'MAS-IPSP 001'\n",
            "   ❔ Pregunta: 'MESA' -> Respuesta: '6'\n",
            "   ❔ Pregunta: 'MORENA' -> Respuesta: 'MORENA 0 5'\n",
            "   ❔ Pregunta: 'PAPELETAS EN ÁNFORA' -> Respuesta: '122'\n",
            "   ❔ Pregunta: 'PAPELETAS NO UTILIZADAS' -> Respuesta: '198'\n",
            "   ❔ Pregunta: 'PDC' -> Respuesta: 'PDC 024'\n",
            "   ❔ Pregunta: 'UNIDAD' -> Respuesta: 'UNIDAD 004'\n",
            "   ❔ Pregunta: 'VOTOS BLANCOS' -> Respuesta: '3'\n",
            "   ❔ Pregunta: 'VOTOS NULOS' -> Respuesta: '51'\n"
          ]
        },
        {
          "name": "stderr",
          "output_type": "stream",
          "text": [
            "\n",
            "Procesando Actas con Donut:  62%|██████▏   | 336/545 [2:29:47<1:34:19, 27.08s/it]\u001b[A"
          ]
        },
        {
          "name": "stdout",
          "output_type": "stream",
          "text": [
            "   ❔ Pregunta: 'VOTOS VÁLIDOS' -> Respuesta: '68'\n",
            "\n",
            "--- Interrogando al acta: mesa_2_102884.jpg ---\n",
            "   ❔ Pregunta: 'AP' -> Respuesta: 'AP 0.19'\n",
            "   ❔ Pregunta: 'APB SÚMATE' -> Respuesta: 'APB SÚMATE 0930'\n",
            "   ❔ Pregunta: 'CODIGO MESA' -> Respuesta: '930'\n",
            "   ❔ Pregunta: 'ELECTORES HABILITADOS' -> Respuesta: 'None'\n",
            "   ❔ Pregunta: 'FP' -> Respuesta: 'FP 00'\n",
            "   ❔ Pregunta: 'LIBRE' -> Respuesta: 'LIBRE 002'\n",
            "   ❔ Pregunta: 'LYP ADN' -> Respuesta: 'LYP ADN 0930'\n",
            "   ❔ Pregunta: 'MAS-IPSP' -> Respuesta: 'MAS-IPSP 003'\n",
            "   ❔ Pregunta: 'MESA' -> Respuesta: '2'\n",
            "   ❔ Pregunta: 'MORENA' -> Respuesta: 'MORENA 0930'\n",
            "   ❔ Pregunta: 'PAPELETAS EN ÁNFORA' -> Respuesta: '38'\n",
            "   ❔ Pregunta: 'PAPELETAS NO UTILIZADAS' -> Respuesta: '930'\n",
            "   ❔ Pregunta: 'PDC' -> Respuesta: 'PDC 020'\n",
            "   ❔ Pregunta: 'UNIDAD' -> Respuesta: 'UNIDAD 002'\n",
            "   ❔ Pregunta: 'VOTOS BLANCOS' -> Respuesta: 'None'\n",
            "   ❔ Pregunta: 'VOTOS NULOS' -> Respuesta: '53'\n"
          ]
        },
        {
          "name": "stderr",
          "output_type": "stream",
          "text": [
            "\n",
            "Procesando Actas con Donut:  62%|██████▏   | 337/545 [2:30:14<1:33:47, 27.06s/it]\u001b[A"
          ]
        },
        {
          "name": "stdout",
          "output_type": "stream",
          "text": [
            "   ❔ Pregunta: 'VOTOS VÁLIDOS' -> Respuesta: '53'\n",
            "\n",
            "--- Interrogando al acta: mesa_7_102934.jpg ---\n",
            "   ❔ Pregunta: 'AP' -> Respuesta: 'AP 800'\n",
            "   ❔ Pregunta: 'APB SÚMATE' -> Respuesta: 'APB SÚMATE WWW.GOV'\n",
            "   ❔ Pregunta: 'CODIGO MESA' -> Respuesta: '820'\n",
            "   ❔ Pregunta: 'ELECTORES HABILITADOS' -> Respuesta: 'None'\n",
            "   ❔ Pregunta: 'FP' -> Respuesta: 'FP WWW.GOV'\n",
            "   ❔ Pregunta: 'LIBRE' -> Respuesta: 'LIBRE WWW.GOV'\n",
            "   ❔ Pregunta: 'LYP ADN' -> Respuesta: 'LYP ADN TVEN'\n",
            "   ❔ Pregunta: 'MAS-IPSP' -> Respuesta: 'MAS-IPSP WWW.GOV'\n",
            "   ❔ Pregunta: 'MESA' -> Respuesta: '827'\n",
            "   ❔ Pregunta: 'MORENA' -> Respuesta: 'MORENA 500'\n",
            "   ❔ Pregunta: 'PAPELETAS EN ÁNFORA' -> Respuesta: '0'\n",
            "   ❔ Pregunta: 'PAPELETAS NO UTILIZADAS' -> Respuesta: '0'\n",
            "   ❔ Pregunta: 'PDC' -> Respuesta: 'PDC 00'\n",
            "   ❔ Pregunta: 'UNIDAD' -> Respuesta: 'UNIDAD DEPARTMENT OF PREVENTIVE'\n",
            "   ❔ Pregunta: 'VOTOS BLANCOS' -> Respuesta: 'None'\n",
            "   ❔ Pregunta: 'VOTOS NULOS' -> Respuesta: '0'\n"
          ]
        },
        {
          "name": "stderr",
          "output_type": "stream",
          "text": [
            "\n",
            "Procesando Actas con Donut:  62%|██████▏   | 338/545 [2:30:41<1:33:31, 27.11s/it]\u001b[A"
          ]
        },
        {
          "name": "stdout",
          "output_type": "stream",
          "text": [
            "   ❔ Pregunta: 'VOTOS VÁLIDOS' -> Respuesta: 'None'\n",
            "\n",
            "--- Interrogando al acta: mesa_8_102944.jpg ---\n",
            "   ❔ Pregunta: 'AP' -> Respuesta: 'AP 024'\n",
            "   ❔ Pregunta: 'APB SÚMATE' -> Respuesta: 'APB SÚMATE 09.47'\n",
            "   ❔ Pregunta: 'CODIGO MESA' -> Respuesta: '8'\n",
            "   ❔ Pregunta: 'ELECTORES HABILITADOS' -> Respuesta: '3'\n",
            "   ❔ Pregunta: 'FP' -> Respuesta: 'FP 0.24'\n",
            "   ❔ Pregunta: 'LIBRE' -> Respuesta: 'LIBRE 0.24'\n",
            "   ❔ Pregunta: 'LYP ADN' -> Respuesta: 'LYP ADN 0947'\n",
            "   ❔ Pregunta: 'MAS-IPSP' -> Respuesta: 'MAS-IPSP 0 0 0 0 0 0 0 0 0 0 0 0 0 0 0 0 0 0 0 0 0 0 0 0 0 0 0 0 0 0 0 0 0 0 0 0 0 0 0 0 0 0 0 0 0 0 0 0 0 0 0 0 0 0 0 0 0 0 0 0 0 0 0 0 0 0 0 0 0 0 0 0 0 0 0 0 0 0 0 0 0 0 0 0 0 0 0 0 0 0 0 0 0 0 0 0 0 0 0 0 0 0 0 0 0 0 0 0 0 0 0 0 0 0 0 0 0 0 0'\n",
            "   ❔ Pregunta: 'MESA' -> Respuesta: '8'\n",
            "   ❔ Pregunta: 'MORENA' -> Respuesta: 'MORENA 024'\n",
            "   ❔ Pregunta: 'PAPELETAS EN ÁNFORA' -> Respuesta: '24'\n",
            "   ❔ Pregunta: 'PAPELETAS NO UTILIZADAS' -> Respuesta: '24'\n",
            "   ❔ Pregunta: 'PDC' -> Respuesta: 'PDC 0.9'\n",
            "   ❔ Pregunta: 'UNIDAD' -> Respuesta: 'UNIDAD 005'\n",
            "   ❔ Pregunta: 'VOTOS BLANCOS' -> Respuesta: '7'\n",
            "   ❔ Pregunta: 'VOTOS NULOS' -> Respuesta: '53'\n"
          ]
        },
        {
          "name": "stderr",
          "output_type": "stream",
          "text": [
            "\n",
            "Procesando Actas con Donut:  62%|██████▏   | 339/545 [2:31:09<1:33:57, 27.37s/it]\u001b[A"
          ]
        },
        {
          "name": "stdout",
          "output_type": "stream",
          "text": [
            "   ❔ Pregunta: 'VOTOS VÁLIDOS' -> Respuesta: '59'\n",
            "\n",
            "--- Interrogando al acta: mesa_1_102874.jpg ---\n",
            "   ❔ Pregunta: 'AP' -> Respuesta: 'AP 024'\n",
            "   ❔ Pregunta: 'APB SÚMATE' -> Respuesta: 'APB SÚMATE 007'\n",
            "   ❔ Pregunta: 'CODIGO MESA' -> Respuesta: '102874'\n",
            "   ❔ Pregunta: 'ELECTORES HABILITADOS' -> Respuesta: '3'\n",
            "   ❔ Pregunta: 'FP' -> Respuesta: 'FP 002'\n",
            "   ❔ Pregunta: 'LIBRE' -> Respuesta: 'LIBRE 0.8'\n",
            "   ❔ Pregunta: 'LYP ADN' -> Respuesta: 'LYP ADN AP'\n",
            "   ❔ Pregunta: 'MAS-IPSP' -> Respuesta: 'MAS-IPSP 000'\n",
            "   ❔ Pregunta: 'MESA' -> Respuesta: '1'\n",
            "   ❔ Pregunta: 'MORENA' -> Respuesta: 'MORENA 0830'\n",
            "   ❔ Pregunta: 'PAPELETAS EN ÁNFORA' -> Respuesta: '58'\n",
            "   ❔ Pregunta: 'PAPELETAS NO UTILIZADAS' -> Respuesta: '58'\n",
            "   ❔ Pregunta: 'PDC' -> Respuesta: 'PDC 020'\n",
            "   ❔ Pregunta: 'UNIDAD' -> Respuesta: 'UNIDAD 003'\n",
            "   ❔ Pregunta: 'VOTOS BLANCOS' -> Respuesta: '1'\n",
            "   ❔ Pregunta: 'VOTOS NULOS' -> Respuesta: '58'\n"
          ]
        },
        {
          "name": "stderr",
          "output_type": "stream",
          "text": [
            "\n",
            "Procesando Actas con Donut:  62%|██████▏   | 340/545 [2:31:36<1:33:10, 27.27s/it]\u001b[A"
          ]
        },
        {
          "name": "stdout",
          "output_type": "stream",
          "text": [
            "   ❔ Pregunta: 'VOTOS VÁLIDOS' -> Respuesta: '69'\n",
            "\n",
            "--- Interrogando al acta: mesa_11_102974.jpg ---\n",
            "   ❔ Pregunta: 'AP' -> Respuesta: 'AP 0 1 5'\n",
            "   ❔ Pregunta: 'APB SÚMATE' -> Respuesta: 'APB SÚMATE 0904'\n",
            "   ❔ Pregunta: 'CODIGO MESA' -> Respuesta: '11'\n",
            "   ❔ Pregunta: 'ELECTORES HABILITADOS' -> Respuesta: '7'\n",
            "   ❔ Pregunta: 'FP' -> Respuesta: 'FP 000'\n",
            "   ❔ Pregunta: 'LIBRE' -> Respuesta: 'LIBRE 003'\n",
            "   ❔ Pregunta: 'LYP ADN' -> Respuesta: 'LYP ADN 0904'\n",
            "   ❔ Pregunta: 'MAS-IPSP' -> Respuesta: 'MAS-IPSP 001'\n",
            "   ❔ Pregunta: 'MESA' -> Respuesta: '11'\n",
            "   ❔ Pregunta: 'MORENA' -> Respuesta: 'MORENA 0904'\n",
            "   ❔ Pregunta: 'PAPELETAS EN ÁNFORA' -> Respuesta: '83'\n",
            "   ❔ Pregunta: 'PAPELETAS NO UTILIZADAS' -> Respuesta: '88'\n",
            "   ❔ Pregunta: 'PDC' -> Respuesta: 'PDC 040'\n",
            "   ❔ Pregunta: 'UNIDAD' -> Respuesta: 'UNIDAD 000'\n",
            "   ❔ Pregunta: 'VOTOS BLANCOS' -> Respuesta: '4'\n",
            "   ❔ Pregunta: 'VOTOS NULOS' -> Respuesta: '49'\n"
          ]
        },
        {
          "name": "stderr",
          "output_type": "stream",
          "text": [
            "\n",
            "Procesando Actas con Donut:  63%|██████▎   | 341/545 [2:32:03<1:32:48, 27.30s/it]\u001b[A"
          ]
        },
        {
          "name": "stdout",
          "output_type": "stream",
          "text": [
            "   ❔ Pregunta: 'VOTOS VÁLIDOS' -> Respuesta: '35'\n",
            "\n",
            "--- Interrogando al acta: mesa_3_102894.jpg ---\n",
            "   ❔ Pregunta: 'AP' -> Respuesta: 'AP 018'\n",
            "   ❔ Pregunta: 'APB SÚMATE' -> Respuesta: 'APB SÚMATE 09.71'\n",
            "   ❔ Pregunta: 'CODIGO MESA' -> Respuesta: '3'\n",
            "   ❔ Pregunta: 'ELECTORES HABILITADOS' -> Respuesta: '3'\n",
            "   ❔ Pregunta: 'FP' -> Respuesta: 'FP 602'\n",
            "   ❔ Pregunta: 'LIBRE' -> Respuesta: 'LIBRE 0.18'\n",
            "   ❔ Pregunta: 'LYP ADN' -> Respuesta: 'LYP ADN 09.75'\n",
            "   ❔ Pregunta: 'MAS-IPSP' -> Respuesta: 'MAS-IPSP 0 0 4'\n",
            "   ❔ Pregunta: 'MESA' -> Respuesta: '3'\n",
            "   ❔ Pregunta: 'MORENA' -> Respuesta: 'MORENA 018'\n",
            "   ❔ Pregunta: 'PAPELETAS EN ÁNFORA' -> Respuesta: '7'\n",
            "   ❔ Pregunta: 'PAPELETAS NO UTILIZADAS' -> Respuesta: '7'\n",
            "   ❔ Pregunta: 'PDC' -> Respuesta: 'PDC 018'\n",
            "   ❔ Pregunta: 'UNIDAD' -> Respuesta: 'UNIDAD 003'\n",
            "   ❔ Pregunta: 'VOTOS BLANCOS' -> Respuesta: '1'\n",
            "   ❔ Pregunta: 'VOTOS NULOS' -> Respuesta: '52'\n"
          ]
        },
        {
          "name": "stderr",
          "output_type": "stream",
          "text": [
            "\n",
            "Procesando Actas con Donut:  63%|██████▎   | 342/545 [2:32:30<1:32:05, 27.22s/it]\u001b[A"
          ]
        },
        {
          "name": "stdout",
          "output_type": "stream",
          "text": [
            "   ❔ Pregunta: 'VOTOS VÁLIDOS' -> Respuesta: '59'\n",
            "\n",
            "--- Interrogando al acta: mesa_5_102914.jpg ---\n",
            "   ❔ Pregunta: 'AP' -> Respuesta: 'AP 0 2'\n",
            "   ❔ Pregunta: 'APB SÚMATE' -> Respuesta: 'APB SÚMATE 08.23'\n",
            "   ❔ Pregunta: 'CODIGO MESA' -> Respuesta: '5'\n",
            "   ❔ Pregunta: 'ELECTORES HABILITADOS' -> Respuesta: '7'\n",
            "   ❔ Pregunta: 'FP' -> Respuesta: 'FP 004'\n",
            "   ❔ Pregunta: 'LIBRE' -> Respuesta: 'LIBRE 0 2'\n",
            "   ❔ Pregunta: 'LYP ADN' -> Respuesta: 'LYP ADN 001'\n",
            "   ❔ Pregunta: 'MAS-IPSP' -> Respuesta: 'MAS-IPSP 003'\n",
            "   ❔ Pregunta: 'MESA' -> Respuesta: '5'\n",
            "   ❔ Pregunta: 'MORENA' -> Respuesta: 'MORENA 0 2'\n",
            "   ❔ Pregunta: 'PAPELETAS EN ÁNFORA' -> Respuesta: '13456789'\n",
            "   ❔ Pregunta: 'PAPELETAS NO UTILIZADAS' -> Respuesta: '823'\n",
            "   ❔ Pregunta: 'PDC' -> Respuesta: 'PDC 014'\n",
            "   ❔ Pregunta: 'UNIDAD' -> Respuesta: 'UNIDAD 004'\n",
            "   ❔ Pregunta: 'VOTOS BLANCOS' -> Respuesta: '3'\n",
            "   ❔ Pregunta: 'VOTOS NULOS' -> Respuesta: '65'\n"
          ]
        },
        {
          "name": "stderr",
          "output_type": "stream",
          "text": [
            "\n",
            "Procesando Actas con Donut:  63%|██████▎   | 343/545 [2:32:57<1:31:24, 27.15s/it]\u001b[A"
          ]
        },
        {
          "name": "stdout",
          "output_type": "stream",
          "text": [
            "   ❔ Pregunta: 'VOTOS VÁLIDOS' -> Respuesta: '66'\n",
            "\n",
            "--- Interrogando al acta: mesa_4_102904.jpg ---\n",
            "   ❔ Pregunta: 'AP' -> Respuesta: 'AP 026'\n",
            "   ❔ Pregunta: 'APB SÚMATE' -> Respuesta: 'APB SÚMATE 026'\n",
            "   ❔ Pregunta: 'CODIGO MESA' -> Respuesta: '4'\n",
            "   ❔ Pregunta: 'ELECTORES HABILITADOS' -> Respuesta: '3'\n",
            "   ❔ Pregunta: 'FP' -> Respuesta: 'FP A3'\n",
            "   ❔ Pregunta: 'LIBRE' -> Respuesta: 'LIBRE A3'\n",
            "   ❔ Pregunta: 'LYP ADN' -> Respuesta: 'LYP ADN 005'\n",
            "   ❔ Pregunta: 'MAS-IPSP' -> Respuesta: 'MAS-IPSP 004'\n",
            "   ❔ Pregunta: 'MESA' -> Respuesta: '4'\n",
            "   ❔ Pregunta: 'MORENA' -> Respuesta: 'MORENA 436'\n",
            "   ❔ Pregunta: 'PAPELETAS EN ÁNFORA' -> Respuesta: '7'\n",
            "   ❔ Pregunta: 'PAPELETAS NO UTILIZADAS' -> Respuesta: '60'\n",
            "   ❔ Pregunta: 'PDC' -> Respuesta: 'PDC 0.15'\n",
            "   ❔ Pregunta: 'UNIDAD' -> Respuesta: 'UNIDAD 005'\n",
            "   ❔ Pregunta: 'VOTOS BLANCOS' -> Respuesta: '5'\n",
            "   ❔ Pregunta: 'VOTOS NULOS' -> Respuesta: '60'\n"
          ]
        },
        {
          "name": "stderr",
          "output_type": "stream",
          "text": [
            "\n",
            "Procesando Actas con Donut:  63%|██████▎   | 344/545 [2:33:24<1:30:35, 27.04s/it]\u001b[A"
          ]
        },
        {
          "name": "stdout",
          "output_type": "stream",
          "text": [
            "   ❔ Pregunta: 'VOTOS VÁLIDOS' -> Respuesta: '60'\n",
            "\n",
            "--- Interrogando al acta: mesa_9_102954.jpg ---\n",
            "   ❔ Pregunta: 'AP' -> Respuesta: 'AP APB SUMATE'\n",
            "   ❔ Pregunta: 'APB SÚMATE' -> Respuesta: 'APB SÚMATE MOSA: 9'\n",
            "   ❔ Pregunta: 'CODIGO MESA' -> Respuesta: '102954'\n",
            "   ❔ Pregunta: 'ELECTORES HABILITADOS' -> Respuesta: '3'\n",
            "   ❔ Pregunta: 'FP' -> Respuesta: 'FP 006'\n",
            "   ❔ Pregunta: 'LIBRE' -> Respuesta: 'LIBRE AP'\n",
            "   ❔ Pregunta: 'LYP ADN' -> Respuesta: 'LYP ADN APB SUMATE'\n",
            "   ❔ Pregunta: 'MAS-IPSP' -> Respuesta: 'MAS-IPSP 00 6'\n",
            "   ❔ Pregunta: 'MESA' -> Respuesta: '9'\n",
            "   ❔ Pregunta: 'MORENA' -> Respuesta: 'MORENA AP'\n",
            "   ❔ Pregunta: 'PAPELETAS EN ÁNFORA' -> Respuesta: '50'\n",
            "   ❔ Pregunta: 'PAPELETAS NO UTILIZADAS' -> Respuesta: '189'\n",
            "   ❔ Pregunta: 'PDC' -> Respuesta: 'PDC 949'\n",
            "   ❔ Pregunta: 'UNIDAD' -> Respuesta: 'UNIDAD 005'\n",
            "   ❔ Pregunta: 'VOTOS BLANCOS' -> Respuesta: '5'\n",
            "   ❔ Pregunta: 'VOTOS NULOS' -> Respuesta: '56'\n"
          ]
        },
        {
          "name": "stderr",
          "output_type": "stream",
          "text": [
            "\n",
            "Procesando Actas con Donut:  63%|██████▎   | 345/545 [2:33:51<1:29:55, 26.98s/it]\u001b[A"
          ]
        },
        {
          "name": "stdout",
          "output_type": "stream",
          "text": [
            "   ❔ Pregunta: 'VOTOS VÁLIDOS' -> Respuesta: '1'\n",
            "\n",
            "--- Interrogando al acta: mesa_6_102924.jpg ---\n",
            "   ❔ Pregunta: 'AP' -> Respuesta: 'AP 0 23'\n",
            "   ❔ Pregunta: 'APB SÚMATE' -> Respuesta: 'APB SÚMATE 0945'\n",
            "   ❔ Pregunta: 'CODIGO MESA' -> Respuesta: 'None'\n",
            "   ❔ Pregunta: 'ELECTORES HABILITADOS' -> Respuesta: '3'\n",
            "   ❔ Pregunta: 'FP' -> Respuesta: 'FP 003'\n",
            "   ❔ Pregunta: 'LIBRE' -> Respuesta: 'LIBRE 0.23'\n",
            "   ❔ Pregunta: 'LYP ADN' -> Respuesta: 'LYP ADN 001'\n",
            "   ❔ Pregunta: 'MAS-IPSP' -> Respuesta: 'MAS-IPSP 003'\n",
            "   ❔ Pregunta: 'MESA' -> Respuesta: '6'\n",
            "   ❔ Pregunta: 'MORENA' -> Respuesta: 'MORENA 0945'\n",
            "   ❔ Pregunta: 'PAPELETAS EN ÁNFORA' -> Respuesta: '95'\n",
            "   ❔ Pregunta: 'PAPELETAS NO UTILIZADAS' -> Respuesta: '209'\n",
            "   ❔ Pregunta: 'PDC' -> Respuesta: 'PDC 0.42'\n",
            "   ❔ Pregunta: 'UNIDAD' -> Respuesta: 'UNIDAD 003'\n",
            "   ❔ Pregunta: 'VOTOS BLANCOS' -> Respuesta: '5'\n",
            "   ❔ Pregunta: 'VOTOS NULOS' -> Respuesta: '59'\n"
          ]
        },
        {
          "name": "stderr",
          "output_type": "stream",
          "text": [
            "\n",
            "Procesando Actas con Donut:  63%|██████▎   | 346/545 [2:34:18<1:29:36, 27.02s/it]\u001b[A"
          ]
        },
        {
          "name": "stdout",
          "output_type": "stream",
          "text": [
            "   ❔ Pregunta: 'VOTOS VÁLIDOS' -> Respuesta: '47'\n",
            "\n",
            "--- Interrogando al acta: mesa_10_102964.jpg ---\n",
            "   ❔ Pregunta: 'AP' -> Respuesta: 'AP 0.27'\n",
            "   ❔ Pregunta: 'APB SÚMATE' -> Respuesta: 'APB SÚMATE 08.46'\n",
            "   ❔ Pregunta: 'CODIGO MESA' -> Respuesta: '846'\n",
            "   ❔ Pregunta: 'ELECTORES HABILITADOS' -> Respuesta: '1'\n",
            "   ❔ Pregunta: 'FP' -> Respuesta: 'FP 08.46'\n",
            "   ❔ Pregunta: 'LIBRE' -> Respuesta: 'LIBRE 0EP'\n",
            "   ❔ Pregunta: 'LYP ADN' -> Respuesta: 'LYP ADN 08.46'\n",
            "   ❔ Pregunta: 'MAS-IPSP' -> Respuesta: 'MAS-IPSP 001'\n",
            "   ❔ Pregunta: 'MESA' -> Respuesta: '10'\n",
            "   ❔ Pregunta: 'MORENA' -> Respuesta: 'MORENA 191'\n",
            "   ❔ Pregunta: 'PAPELETAS EN ÁNFORA' -> Respuesta: '28'\n",
            "   ❔ Pregunta: 'PAPELETAS NO UTILIZADAS' -> Respuesta: '848'\n",
            "   ❔ Pregunta: 'PDC' -> Respuesta: 'PDC 020'\n",
            "   ❔ Pregunta: 'UNIDAD' -> Respuesta: 'UNIDAD 0.20'\n",
            "   ❔ Pregunta: 'VOTOS BLANCOS' -> Respuesta: '26'\n",
            "   ❔ Pregunta: 'VOTOS NULOS' -> Respuesta: '64'\n"
          ]
        },
        {
          "name": "stderr",
          "output_type": "stream",
          "text": [
            "\n",
            "Procesando Actas con Donut:  64%|██████▎   | 347/545 [2:34:45<1:29:19, 27.07s/it]\u001b[A"
          ]
        },
        {
          "name": "stdout",
          "output_type": "stream",
          "text": [
            "   ❔ Pregunta: 'VOTOS VÁLIDOS' -> Respuesta: '59'\n",
            "\n",
            "--- Interrogando al acta: mesa_3_102664.jpg ---\n",
            "   ❔ Pregunta: 'AP' -> Respuesta: 'AP 012'\n",
            "   ❔ Pregunta: 'APB SÚMATE' -> Respuesta: 'APB SÚMATE 005'\n",
            "   ❔ Pregunta: 'CODIGO MESA' -> Respuesta: '102664'\n",
            "   ❔ Pregunta: 'ELECTORES HABILITADOS' -> Respuesta: '3'\n",
            "   ❔ Pregunta: 'FP' -> Respuesta: 'FP 00 7'\n",
            "   ❔ Pregunta: 'LIBRE' -> Respuesta: 'LIBRE 004'\n",
            "   ❔ Pregunta: 'LYP ADN' -> Respuesta: 'LYP ADN 001'\n",
            "   ❔ Pregunta: 'MAS-IPSP' -> Respuesta: 'MAS-IPSP 002'\n",
            "   ❔ Pregunta: 'MESA' -> Respuesta: '3'\n",
            "   ❔ Pregunta: 'MORENA' -> Respuesta: 'MORENA 224'\n",
            "   ❔ Pregunta: 'PAPELETAS EN ÁNFORA' -> Respuesta: '96'\n",
            "   ❔ Pregunta: 'PAPELETAS NO UTILIZADAS' -> Respuesta: '224'\n",
            "   ❔ Pregunta: 'PDC' -> Respuesta: 'PDC 011'\n",
            "   ❔ Pregunta: 'UNIDAD' -> Respuesta: 'UNIDAD 001'\n",
            "   ❔ Pregunta: 'VOTOS BLANCOS' -> Respuesta: '4'\n",
            "   ❔ Pregunta: 'VOTOS NULOS' -> Respuesta: '48'\n"
          ]
        },
        {
          "name": "stderr",
          "output_type": "stream",
          "text": [
            "\n",
            "Procesando Actas con Donut:  64%|██████▍   | 348/545 [2:35:12<1:28:45, 27.03s/it]\u001b[A"
          ]
        },
        {
          "name": "stdout",
          "output_type": "stream",
          "text": [
            "   ❔ Pregunta: 'VOTOS VÁLIDOS' -> Respuesta: '44'\n",
            "\n",
            "--- Interrogando al acta: mesa_6_102694.jpg ---\n",
            "   ❔ Pregunta: 'AP' -> Respuesta: 'AP 006'\n",
            "   ❔ Pregunta: 'APB SÚMATE' -> Respuesta: 'APB SÚMATE 006'\n",
            "   ❔ Pregunta: 'CODIGO MESA' -> Respuesta: '102694'\n",
            "   ❔ Pregunta: 'ELECTORES HABILITADOS' -> Respuesta: '3'\n",
            "   ❔ Pregunta: 'FP' -> Respuesta: 'FP 001'\n",
            "   ❔ Pregunta: 'LIBRE' -> Respuesta: 'LIBRE 007'\n",
            "   ❔ Pregunta: 'LYP ADN' -> Respuesta: 'LYP ADN 001'\n",
            "   ❔ Pregunta: 'MAS-IPSP' -> Respuesta: 'MAS-IPSP 0.03.'\n",
            "   ❔ Pregunta: 'MESA' -> Respuesta: '6'\n",
            "   ❔ Pregunta: 'MORENA' -> Respuesta: 'MORENA 0.16'\n",
            "   ❔ Pregunta: 'PAPELETAS EN ÁNFORA' -> Respuesta: '1'\n",
            "   ❔ Pregunta: 'PAPELETAS NO UTILIZADAS' -> Respuesta: '279'\n",
            "   ❔ Pregunta: 'PDC' -> Respuesta: 'PDC 014'\n",
            "   ❔ Pregunta: 'UNIDAD' -> Respuesta: 'UNIDAD 005'\n",
            "   ❔ Pregunta: 'VOTOS BLANCOS' -> Respuesta: '2'\n",
            "   ❔ Pregunta: 'VOTOS NULOS' -> Respuesta: '14'\n"
          ]
        },
        {
          "name": "stderr",
          "output_type": "stream",
          "text": [
            "\n",
            "Procesando Actas con Donut:  64%|██████▍   | 349/545 [2:35:39<1:27:59, 26.94s/it]\u001b[A"
          ]
        },
        {
          "name": "stdout",
          "output_type": "stream",
          "text": [
            "   ❔ Pregunta: 'VOTOS VÁLIDOS' -> Respuesta: '55'\n",
            "\n",
            "--- Interrogando al acta: mesa_2_102654.jpg ---\n",
            "   ❔ Pregunta: 'AP' -> Respuesta: 'AP 0.13'\n",
            "   ❔ Pregunta: 'APB SÚMATE' -> Respuesta: 'APB SÚMATE 006'\n",
            "   ❔ Pregunta: 'CODIGO MESA' -> Respuesta: 'None'\n",
            "   ❔ Pregunta: 'ELECTORES HABILITADOS' -> Respuesta: '3'\n",
            "   ❔ Pregunta: 'FP' -> Respuesta: 'FP 002'\n",
            "   ❔ Pregunta: 'LIBRE' -> Respuesta: 'LIBRE 005'\n",
            "   ❔ Pregunta: 'LYP ADN' -> Respuesta: 'LYP ADN APB SUMATE'\n",
            "   ❔ Pregunta: 'MAS-IPSP' -> Respuesta: 'MAS-IPSP 000'\n",
            "   ❔ Pregunta: 'MESA' -> Respuesta: '2'\n",
            "   ❔ Pregunta: 'MORENA' -> Respuesta: 'MORENA 216'\n",
            "   ❔ Pregunta: 'PAPELETAS EN ÁNFORA' -> Respuesta: '106'\n",
            "   ❔ Pregunta: 'PAPELETAS NO UTILIZADAS' -> Respuesta: '216'\n",
            "   ❔ Pregunta: 'PDC' -> Respuesta: 'PDC 019'\n",
            "   ❔ Pregunta: 'UNIDAD' -> Respuesta: 'UNIDAD 002'\n",
            "   ❔ Pregunta: 'VOTOS BLANCOS' -> Respuesta: '3'\n",
            "   ❔ Pregunta: 'VOTOS NULOS' -> Respuesta: '53'\n"
          ]
        },
        {
          "name": "stderr",
          "output_type": "stream",
          "text": [
            "\n",
            "Procesando Actas con Donut:  64%|██████▍   | 350/545 [2:36:05<1:27:13, 26.84s/it]\u001b[A"
          ]
        },
        {
          "name": "stdout",
          "output_type": "stream",
          "text": [
            "   ❔ Pregunta: 'VOTOS VÁLIDOS' -> Respuesta: '53'\n",
            "\n",
            "--- Interrogando al acta: mesa_4_102674.jpg ---\n",
            "   ❔ Pregunta: 'AP' -> Respuesta: 'AP 0 26'\n",
            "   ❔ Pregunta: 'APB SÚMATE' -> Respuesta: 'APB SÚMATE 0.26'\n",
            "   ❔ Pregunta: 'CODIGO MESA' -> Respuesta: '4'\n",
            "   ❔ Pregunta: 'ELECTORES HABILITADOS' -> Respuesta: '3'\n",
            "   ❔ Pregunta: 'FP' -> Respuesta: 'FP 001'\n",
            "   ❔ Pregunta: 'LIBRE' -> Respuesta: 'LIBRE 006'\n",
            "   ❔ Pregunta: 'LYP ADN' -> Respuesta: 'LYP ADN 001'\n",
            "   ❔ Pregunta: 'MAS-IPSP' -> Respuesta: 'MAS-IPSP 002'\n",
            "   ❔ Pregunta: 'MESA' -> Respuesta: '4'\n",
            "   ❔ Pregunta: 'MORENA' -> Respuesta: 'MORENA 0 26'\n",
            "   ❔ Pregunta: 'PAPELETAS EN ÁNFORA' -> Respuesta: '719'\n",
            "   ❔ Pregunta: 'PAPELETAS NO UTILIZADAS' -> Respuesta: '201'\n",
            "   ❔ Pregunta: 'PDC' -> Respuesta: 'PDC 019'\n",
            "   ❔ Pregunta: 'UNIDAD' -> Respuesta: 'UNIDAD 005'\n",
            "   ❔ Pregunta: 'VOTOS BLANCOS' -> Respuesta: '3'\n",
            "   ❔ Pregunta: 'VOTOS NULOS' -> Respuesta: '52'\n"
          ]
        },
        {
          "name": "stderr",
          "output_type": "stream",
          "text": [
            "\n",
            "Procesando Actas con Donut:  64%|██████▍   | 351/545 [2:36:32<1:27:02, 26.92s/it]\u001b[A"
          ]
        },
        {
          "name": "stdout",
          "output_type": "stream",
          "text": [
            "   ❔ Pregunta: 'VOTOS VÁLIDOS' -> Respuesta: '64'\n",
            "\n",
            "--- Interrogando al acta: mesa_7_102704.jpg ---\n",
            "   ❔ Pregunta: 'AP' -> Respuesta: 'AP 0 75'\n",
            "   ❔ Pregunta: 'APB SÚMATE' -> Respuesta: 'APB SÚMATE 004'\n",
            "   ❔ Pregunta: 'CODIGO MESA' -> Respuesta: '953'\n",
            "   ❔ Pregunta: 'ELECTORES HABILITADOS' -> Respuesta: '3'\n",
            "   ❔ Pregunta: 'FP' -> Respuesta: 'FP 007'\n",
            "   ❔ Pregunta: 'LIBRE' -> Respuesta: 'LIBRE 004'\n",
            "   ❔ Pregunta: 'LYP ADN' -> Respuesta: 'LYP ADN 00'\n",
            "   ❔ Pregunta: 'MAS-IPSP' -> Respuesta: 'MAS-IPSP 007'\n",
            "   ❔ Pregunta: 'MESA' -> Respuesta: '7'\n",
            "   ❔ Pregunta: 'MORENA' -> Respuesta: 'MORENA 7'\n",
            "   ❔ Pregunta: 'PAPELETAS EN ÁNFORA' -> Respuesta: '58'\n",
            "   ❔ Pregunta: 'PAPELETAS NO UTILIZADAS' -> Respuesta: '707'\n",
            "   ❔ Pregunta: 'PDC' -> Respuesta: 'PDC 007'\n",
            "   ❔ Pregunta: 'UNIDAD' -> Respuesta: 'UNIDAD 007'\n",
            "   ❔ Pregunta: 'VOTOS BLANCOS' -> Respuesta: '7'\n",
            "   ❔ Pregunta: 'VOTOS NULOS' -> Respuesta: '27'\n"
          ]
        },
        {
          "name": "stderr",
          "output_type": "stream",
          "text": [
            "\n",
            "Procesando Actas con Donut:  65%|██████▍   | 352/545 [2:36:59<1:26:25, 26.87s/it]\u001b[A"
          ]
        },
        {
          "name": "stdout",
          "output_type": "stream",
          "text": [
            "   ❔ Pregunta: 'VOTOS VÁLIDOS' -> Respuesta: '36'\n",
            "\n",
            "--- Interrogando al acta: mesa_5_102684.jpg ---\n",
            "   ❔ Pregunta: 'AP' -> Respuesta: 'AP 800'\n",
            "   ❔ Pregunta: 'APB SÚMATE' -> Respuesta: 'APB SÚMATE NOV DAR'\n",
            "   ❔ Pregunta: 'CODIGO MESA' -> Respuesta: '800'\n",
            "   ❔ Pregunta: 'ELECTORES HABILITADOS' -> Respuesta: 'None'\n",
            "   ❔ Pregunta: 'FP' -> Respuesta: 'FP 807'\n",
            "   ❔ Pregunta: 'LIBRE' -> Respuesta: 'LIBRE 990'\n",
            "   ❔ Pregunta: 'LYP ADN' -> Respuesta: 'LYP ADN TV8970'\n",
            "   ❔ Pregunta: 'MAS-IPSP' -> Respuesta: 'MAS-IPSP WWW.GOV'\n",
            "   ❔ Pregunta: 'MESA' -> Respuesta: '807'\n",
            "   ❔ Pregunta: 'MORENA' -> Respuesta: 'MORENA 800'\n",
            "   ❔ Pregunta: 'PAPELETAS EN ÁNFORA' -> Respuesta: '7'\n",
            "   ❔ Pregunta: 'PAPELETAS NO UTILIZADAS' -> Respuesta: '20'\n",
            "   ❔ Pregunta: 'PDC' -> Respuesta: 'PDC WWW.GOV'\n",
            "   ❔ Pregunta: 'UNIDAD' -> Respuesta: 'UNIDAD VADO'\n",
            "   ❔ Pregunta: 'VOTOS BLANCOS' -> Respuesta: 'None'\n",
            "   ❔ Pregunta: 'VOTOS NULOS' -> Respuesta: 'None'\n"
          ]
        },
        {
          "name": "stderr",
          "output_type": "stream",
          "text": [
            "\n",
            "Procesando Actas con Donut:  65%|██████▍   | 353/545 [2:37:26<1:26:02, 26.89s/it]\u001b[A"
          ]
        },
        {
          "name": "stdout",
          "output_type": "stream",
          "text": [
            "   ❔ Pregunta: 'VOTOS VÁLIDOS' -> Respuesta: 'None'\n",
            "\n",
            "--- Interrogando al acta: mesa_1_102644.jpg ---\n",
            "   ❔ Pregunta: 'AP' -> Respuesta: 'AP 020'\n",
            "   ❔ Pregunta: 'APB SÚMATE' -> Respuesta: 'APB SÚMATE 0 1'\n",
            "   ❔ Pregunta: 'CODIGO MESA' -> Respuesta: '102644'\n",
            "   ❔ Pregunta: 'ELECTORES HABILITADOS' -> Respuesta: '3'\n",
            "   ❔ Pregunta: 'FP' -> Respuesta: 'FP 002'\n",
            "   ❔ Pregunta: 'LIBRE' -> Respuesta: 'LIBRE 005'\n",
            "   ❔ Pregunta: 'LYP ADN' -> Respuesta: 'LYP ADN APB SUMATE'\n",
            "   ❔ Pregunta: 'MAS-IPSP' -> Respuesta: 'MAS-IPSP 000'\n",
            "   ❔ Pregunta: 'MESA' -> Respuesta: '8'\n",
            "   ❔ Pregunta: 'MORENA' -> Respuesta: 'MORENA 0.21'\n",
            "   ❔ Pregunta: 'PAPELETAS EN ÁNFORA' -> Respuesta: '8'\n",
            "   ❔ Pregunta: 'PAPELETAS NO UTILIZADAS' -> Respuesta: '206'\n",
            "   ❔ Pregunta: 'PDC' -> Respuesta: 'PDC 019'\n",
            "   ❔ Pregunta: 'UNIDAD' -> Respuesta: 'UNIDAD 002'\n",
            "   ❔ Pregunta: 'VOTOS BLANCOS' -> Respuesta: '2'\n",
            "   ❔ Pregunta: 'VOTOS NULOS' -> Respuesta: '51'\n"
          ]
        },
        {
          "name": "stderr",
          "output_type": "stream",
          "text": [
            "\n",
            "Procesando Actas con Donut:  65%|██████▍   | 354/545 [2:37:53<1:25:25, 26.83s/it]\u001b[A"
          ]
        },
        {
          "name": "stdout",
          "output_type": "stream",
          "text": [
            "   ❔ Pregunta: 'VOTOS VÁLIDOS' -> Respuesta: '67'\n",
            "\n",
            "--- Interrogando al acta: mesa_3_100834.jpg ---\n",
            "   ❔ Pregunta: 'AP' -> Respuesta: 'AP 020'\n",
            "   ❔ Pregunta: 'APB SÚMATE' -> Respuesta: 'APB SÚMATE MOSA: 3'\n",
            "   ❔ Pregunta: 'CODIGO MESA' -> Respuesta: '3'\n",
            "   ❔ Pregunta: 'ELECTORES HABILITADOS' -> Respuesta: '3'\n",
            "   ❔ Pregunta: 'FP' -> Respuesta: 'FP 005'\n",
            "   ❔ Pregunta: 'LIBRE' -> Respuesta: 'LIBRE 0 2 4 8'\n",
            "   ❔ Pregunta: 'LYP ADN' -> Respuesta: 'LYP ADN APB SOMATE'\n",
            "   ❔ Pregunta: 'MAS-IPSP' -> Respuesta: 'MAS-IPSP 0 0'\n",
            "   ❔ Pregunta: 'MESA' -> Respuesta: '3'\n",
            "   ❔ Pregunta: 'MORENA' -> Respuesta: 'MORENA 0 2 4 8'\n",
            "   ❔ Pregunta: 'PAPELETAS EN ÁNFORA' -> Respuesta: '28'\n",
            "   ❔ Pregunta: 'PAPELETAS NO UTILIZADAS' -> Respuesta: '248'\n",
            "   ❔ Pregunta: 'PDC' -> Respuesta: 'PDC 026'\n",
            "   ❔ Pregunta: 'UNIDAD' -> Respuesta: 'UNIDAD 003'\n",
            "   ❔ Pregunta: 'VOTOS BLANCOS' -> Respuesta: '3'\n",
            "   ❔ Pregunta: 'VOTOS NULOS' -> Respuesta: '28'\n"
          ]
        },
        {
          "name": "stderr",
          "output_type": "stream",
          "text": [
            "\n",
            "Procesando Actas con Donut:  65%|██████▌   | 355/545 [2:38:20<1:25:12, 26.91s/it]\u001b[A"
          ]
        },
        {
          "name": "stdout",
          "output_type": "stream",
          "text": [
            "   ❔ Pregunta: 'VOTOS VÁLIDOS' -> Respuesta: '71'\n",
            "\n",
            "--- Interrogando al acta: mesa_6_100864.jpg ---\n",
            "   ❔ Pregunta: 'AP' -> Respuesta: 'AP A3'\n",
            "   ❔ Pregunta: 'APB SÚMATE' -> Respuesta: 'APB SÚMATE 7'\n",
            "   ❔ Pregunta: 'CODIGO MESA' -> Respuesta: '6'\n",
            "   ❔ Pregunta: 'ELECTORES HABILITADOS' -> Respuesta: '3'\n",
            "   ❔ Pregunta: 'FP' -> Respuesta: 'FP A3'\n",
            "   ❔ Pregunta: 'LIBRE' -> Respuesta: 'LIBRE A3'\n",
            "   ❔ Pregunta: 'LYP ADN' -> Respuesta: 'LYP ADN OEP'\n",
            "   ❔ Pregunta: 'MAS-IPSP' -> Respuesta: 'MAS-IPSP A3'\n",
            "   ❔ Pregunta: 'MESA' -> Respuesta: '6'\n",
            "   ❔ Pregunta: 'MORENA' -> Respuesta: 'MORENA A3'\n",
            "   ❔ Pregunta: 'PAPELETAS EN ÁNFORA' -> Respuesta: '93'\n",
            "   ❔ Pregunta: 'PAPELETAS NO UTILIZADAS' -> Respuesta: '93'\n",
            "   ❔ Pregunta: 'PDC' -> Respuesta: 'PDC 0.9'\n",
            "   ❔ Pregunta: 'UNIDAD' -> Respuesta: 'UNIDAD 004'\n",
            "   ❔ Pregunta: 'VOTOS BLANCOS' -> Respuesta: '93'\n",
            "   ❔ Pregunta: 'VOTOS NULOS' -> Respuesta: '93'\n"
          ]
        },
        {
          "name": "stderr",
          "output_type": "stream",
          "text": [
            "\n",
            "Procesando Actas con Donut:  65%|██████▌   | 356/545 [2:38:47<1:24:29, 26.82s/it]\u001b[A"
          ]
        },
        {
          "name": "stdout",
          "output_type": "stream",
          "text": [
            "   ❔ Pregunta: 'VOTOS VÁLIDOS' -> Respuesta: '30'\n",
            "\n",
            "--- Interrogando al acta: mesa_1_100814.jpg ---\n",
            "   ❔ Pregunta: 'AP' -> Respuesta: 'AP 00'\n",
            "   ❔ Pregunta: 'APB SÚMATE' -> Respuesta: 'APB SÚMATE 002'\n",
            "   ❔ Pregunta: 'CODIGO MESA' -> Respuesta: '1'\n",
            "   ❔ Pregunta: 'ELECTORES HABILITADOS' -> Respuesta: 'None'\n",
            "   ❔ Pregunta: 'FP' -> Respuesta: 'FP 000'\n",
            "   ❔ Pregunta: 'LIBRE' -> Respuesta: 'LIBRE 0.9'\n",
            "   ❔ Pregunta: 'LYP ADN' -> Respuesta: 'LYP ADN APB SOMATE'\n",
            "   ❔ Pregunta: 'MAS-IPSP' -> Respuesta: 'MAS-IPSP 005'\n",
            "   ❔ Pregunta: 'MESA' -> Respuesta: '1'\n",
            "   ❔ Pregunta: 'MORENA' -> Respuesta: 'MORENA 00'\n",
            "   ❔ Pregunta: 'PAPELETAS EN ÁNFORA' -> Respuesta: '88'\n",
            "   ❔ Pregunta: 'PAPELETAS NO UTILIZADAS' -> Respuesta: '232'\n",
            "   ❔ Pregunta: 'PDC' -> Respuesta: 'PDC 0.23'\n",
            "   ❔ Pregunta: 'UNIDAD' -> Respuesta: 'UNIDAD 003'\n",
            "   ❔ Pregunta: 'VOTOS BLANCOS' -> Respuesta: '2'\n",
            "   ❔ Pregunta: 'VOTOS NULOS' -> Respuesta: '40'\n"
          ]
        },
        {
          "name": "stderr",
          "output_type": "stream",
          "text": [
            "\n",
            "Procesando Actas con Donut:  66%|██████▌   | 357/545 [2:39:13<1:23:48, 26.74s/it]\u001b[A"
          ]
        },
        {
          "name": "stdout",
          "output_type": "stream",
          "text": [
            "   ❔ Pregunta: 'VOTOS VÁLIDOS' -> Respuesta: '46'\n",
            "\n",
            "--- Interrogando al acta: mesa_2_100824.jpg ---\n",
            "   ❔ Pregunta: 'AP' -> Respuesta: 'AP 018'\n",
            "   ❔ Pregunta: 'APB SÚMATE' -> Respuesta: 'APB SÚMATE 004'\n",
            "   ❔ Pregunta: 'CODIGO MESA' -> Respuesta: '2'\n",
            "   ❔ Pregunta: 'ELECTORES HABILITADOS' -> Respuesta: '3'\n",
            "   ❔ Pregunta: 'FP' -> Respuesta: 'FP 0'\n",
            "   ❔ Pregunta: 'LIBRE' -> Respuesta: 'LIBRE 0.98'\n",
            "   ❔ Pregunta: 'LYP ADN' -> Respuesta: 'LYP ADN 004'\n",
            "   ❔ Pregunta: 'MAS-IPSP' -> Respuesta: 'MAS-IPSP 004'\n",
            "   ❔ Pregunta: 'MESA' -> Respuesta: '2'\n",
            "   ❔ Pregunta: 'MORENA' -> Respuesta: 'MORENA 018'\n",
            "   ❔ Pregunta: 'PAPELETAS EN ÁNFORA' -> Respuesta: '98'\n",
            "   ❔ Pregunta: 'PAPELETAS NO UTILIZADAS' -> Respuesta: '98'\n",
            "   ❔ Pregunta: 'PDC' -> Respuesta: 'PDC 001'\n",
            "   ❔ Pregunta: 'UNIDAD' -> Respuesta: 'UNIDAD 0.98'\n",
            "   ❔ Pregunta: 'VOTOS BLANCOS' -> Respuesta: '1'\n",
            "   ❔ Pregunta: 'VOTOS NULOS' -> Respuesta: '32'\n"
          ]
        },
        {
          "name": "stderr",
          "output_type": "stream",
          "text": [
            "\n",
            "Procesando Actas con Donut:  66%|██████▌   | 358/545 [2:39:40<1:23:35, 26.82s/it]\u001b[A"
          ]
        },
        {
          "name": "stdout",
          "output_type": "stream",
          "text": [
            "   ❔ Pregunta: 'VOTOS VÁLIDOS' -> Respuesta: '98'\n",
            "\n",
            "--- Interrogando al acta: mesa_4_100844.jpg ---\n",
            "   ❔ Pregunta: 'AP' -> Respuesta: 'AP APB SUMATE'\n",
            "   ❔ Pregunta: 'APB SÚMATE' -> Respuesta: 'APB SÚMATE 09.38'\n",
            "   ❔ Pregunta: 'CODIGO MESA' -> Respuesta: '4'\n",
            "   ❔ Pregunta: 'ELECTORES HABILITADOS' -> Respuesta: '3'\n",
            "   ❔ Pregunta: 'FP' -> Respuesta: 'FP A3'\n",
            "   ❔ Pregunta: 'LIBRE' -> Respuesta: 'LIBRE 0 1'\n",
            "   ❔ Pregunta: 'LYP ADN' -> Respuesta: 'LYP ADN APB SUMATE'\n",
            "   ❔ Pregunta: 'MAS-IPSP' -> Respuesta: 'MAS-IPSP 003'\n",
            "   ❔ Pregunta: 'MESA' -> Respuesta: '4'\n",
            "   ❔ Pregunta: 'MORENA' -> Respuesta: 'MORENA 09.38'\n",
            "   ❔ Pregunta: 'PAPELETAS EN ÁNFORA' -> Respuesta: '45'\n",
            "   ❔ Pregunta: 'PAPELETAS NO UTILIZADAS' -> Respuesta: '938'\n",
            "   ❔ Pregunta: 'PDC' -> Respuesta: 'PDC 026'\n",
            "   ❔ Pregunta: 'UNIDAD' -> Respuesta: 'UNIDAD 004'\n",
            "   ❔ Pregunta: 'VOTOS BLANCOS' -> Respuesta: '2'\n",
            "   ❔ Pregunta: 'VOTOS NULOS' -> Respuesta: '32'\n"
          ]
        },
        {
          "name": "stderr",
          "output_type": "stream",
          "text": [
            "\n",
            "Procesando Actas con Donut:  66%|██████▌   | 359/545 [2:40:07<1:23:00, 26.78s/it]\u001b[A"
          ]
        },
        {
          "name": "stdout",
          "output_type": "stream",
          "text": [
            "   ❔ Pregunta: 'VOTOS VÁLIDOS' -> Respuesta: '67'\n",
            "\n",
            "--- Interrogando al acta: mesa_5_100854.jpg ---\n",
            "   ❔ Pregunta: 'AP' -> Respuesta: 'AP 0.19'\n",
            "   ❔ Pregunta: 'APB SÚMATE' -> Respuesta: 'APB SÚMATE MOSA 5'\n",
            "   ❔ Pregunta: 'CODIGO MESA' -> Respuesta: '5'\n",
            "   ❔ Pregunta: 'ELECTORES HABILITADOS' -> Respuesta: '3'\n",
            "   ❔ Pregunta: 'FP' -> Respuesta: 'FP 004'\n",
            "   ❔ Pregunta: 'LIBRE' -> Respuesta: 'LIBRE 005'\n",
            "   ❔ Pregunta: 'LYP ADN' -> Respuesta: 'LYP ADN 005'\n",
            "   ❔ Pregunta: 'MAS-IPSP' -> Respuesta: 'MAS-IPSP 00 1'\n",
            "   ❔ Pregunta: 'MESA' -> Respuesta: '5'\n",
            "   ❔ Pregunta: 'MORENA' -> Respuesta: 'MORENA 0.9'\n",
            "   ❔ Pregunta: 'PAPELETAS EN ÁNFORA' -> Respuesta: '1'\n",
            "   ❔ Pregunta: 'PAPELETAS NO UTILIZADAS' -> Respuesta: '94'\n",
            "   ❔ Pregunta: 'PDC' -> Respuesta: 'PDC 004'\n",
            "   ❔ Pregunta: 'UNIDAD' -> Respuesta: 'UNIDAD 00'\n",
            "   ❔ Pregunta: 'VOTOS BLANCOS' -> Respuesta: 'None'\n",
            "   ❔ Pregunta: 'VOTOS NULOS' -> Respuesta: '94'\n"
          ]
        },
        {
          "name": "stderr",
          "output_type": "stream",
          "text": [
            "\n",
            "Procesando Actas con Donut:  66%|██████▌   | 360/545 [2:40:34<1:22:34, 26.78s/it]\u001b[A"
          ]
        },
        {
          "name": "stdout",
          "output_type": "stream",
          "text": [
            "   ❔ Pregunta: 'VOTOS VÁLIDOS' -> Respuesta: '63'\n",
            "\n",
            "--- Interrogando al acta: mesa_4_100994.jpg ---\n",
            "   ❔ Pregunta: 'AP' -> Respuesta: 'AP 500'\n",
            "   ❔ Pregunta: 'APB SÚMATE' -> Respuesta: 'APB SÚMATE NOV 4'\n",
            "   ❔ Pregunta: 'CODIGO MESA' -> Respuesta: '800'\n",
            "   ❔ Pregunta: 'ELECTORES HABILITADOS' -> Respuesta: 'None'\n",
            "   ❔ Pregunta: 'FP' -> Respuesta: 'FP WWW.GOV'\n",
            "   ❔ Pregunta: 'LIBRE' -> Respuesta: 'LIBRE H. VESH.'\n",
            "   ❔ Pregunta: 'LYP ADN' -> Respuesta: 'LYP ADN TVSW'\n",
            "   ❔ Pregunta: 'MAS-IPSP' -> Respuesta: 'MAS-IPSP WWW.GOV'\n",
            "   ❔ Pregunta: 'MESA' -> Respuesta: '0'\n",
            "   ❔ Pregunta: 'MORENA' -> Respuesta: 'MORENA 500'\n",
            "   ❔ Pregunta: 'PAPELETAS EN ÁNFORA' -> Respuesta: '0'\n",
            "   ❔ Pregunta: 'PAPELETAS NO UTILIZADAS' -> Respuesta: '0'\n",
            "   ❔ Pregunta: 'PDC' -> Respuesta: 'PDC WWW.GOV'\n",
            "   ❔ Pregunta: 'UNIDAD' -> Respuesta: 'UNIDAD 00'\n",
            "   ❔ Pregunta: 'VOTOS BLANCOS' -> Respuesta: 'None'\n",
            "   ❔ Pregunta: 'VOTOS NULOS' -> Respuesta: '0'\n"
          ]
        },
        {
          "name": "stderr",
          "output_type": "stream",
          "text": [
            "\n",
            "Procesando Actas con Donut:  66%|██████▌   | 361/545 [2:41:00<1:22:03, 26.76s/it]\u001b[A"
          ]
        },
        {
          "name": "stdout",
          "output_type": "stream",
          "text": [
            "   ❔ Pregunta: 'VOTOS VÁLIDOS' -> Respuesta: '4'\n",
            "\n",
            "--- Interrogando al acta: mesa_2_100974.jpg ---\n",
            "   ❔ Pregunta: 'AP' -> Respuesta: 'AP 019'\n",
            "   ❔ Pregunta: 'APB SÚMATE' -> Respuesta: 'APB SÚMATE 0.8'\n",
            "   ❔ Pregunta: 'CODIGO MESA' -> Respuesta: 'None'\n",
            "   ❔ Pregunta: 'ELECTORES HABILITADOS' -> Respuesta: '3'\n",
            "   ❔ Pregunta: 'FP' -> Respuesta: 'FP 003'\n",
            "   ❔ Pregunta: 'LIBRE' -> Respuesta: 'LIBRE 0.9'\n",
            "   ❔ Pregunta: 'LYP ADN' -> Respuesta: 'LYP ADN 001'\n",
            "   ❔ Pregunta: 'MAS-IPSP' -> Respuesta: 'MAS-IPSP 003'\n",
            "   ❔ Pregunta: 'MESA' -> Respuesta: '2'\n",
            "   ❔ Pregunta: 'MORENA' -> Respuesta: 'MORENA 0.9'\n",
            "   ❔ Pregunta: 'PAPELETAS EN ÁNFORA' -> Respuesta: '120'\n",
            "   ❔ Pregunta: 'PAPELETAS NO UTILIZADAS' -> Respuesta: '200'\n",
            "   ❔ Pregunta: 'PDC' -> Respuesta: 'PDC 033'\n",
            "   ❔ Pregunta: 'UNIDAD' -> Respuesta: 'UNIDAD 002'\n",
            "   ❔ Pregunta: 'VOTOS BLANCOS' -> Respuesta: '1'\n",
            "   ❔ Pregunta: 'VOTOS NULOS' -> Respuesta: '44'\n"
          ]
        },
        {
          "name": "stderr",
          "output_type": "stream",
          "text": [
            "\n",
            "Procesando Actas con Donut:  66%|██████▋   | 362/545 [2:41:27<1:21:25, 26.69s/it]\u001b[A"
          ]
        },
        {
          "name": "stdout",
          "output_type": "stream",
          "text": [
            "   ❔ Pregunta: 'VOTOS VÁLIDOS' -> Respuesta: '75'\n",
            "\n",
            "--- Interrogando al acta: mesa_6_101014.jpg ---\n",
            "   ❔ Pregunta: 'AP' -> Respuesta: 'AP 0 3'\n",
            "   ❔ Pregunta: 'APB SÚMATE' -> Respuesta: 'APB SÚMATE 0 8 7'\n",
            "   ❔ Pregunta: 'CODIGO MESA' -> Respuesta: 'None'\n",
            "   ❔ Pregunta: 'ELECTORES HABILITADOS' -> Respuesta: '3'\n",
            "   ❔ Pregunta: 'FP' -> Respuesta: 'FP 001'\n",
            "   ❔ Pregunta: 'LIBRE' -> Respuesta: 'LIBRE 0 0 6'\n",
            "   ❔ Pregunta: 'LYP ADN' -> Respuesta: 'LYP ADN APB SUMATE'\n",
            "   ❔ Pregunta: 'MAS-IPSP' -> Respuesta: 'MAS-IPSP 0 0'\n",
            "   ❔ Pregunta: 'MESA' -> Respuesta: '6'\n",
            "   ❔ Pregunta: 'MORENA' -> Respuesta: 'MORENA 0 8 7'\n",
            "   ❔ Pregunta: 'PAPELETAS EN ÁNFORA' -> Respuesta: '87'\n",
            "   ❔ Pregunta: 'PAPELETAS NO UTILIZADAS' -> Respuesta: '87'\n",
            "   ❔ Pregunta: 'PDC' -> Respuesta: 'PDC 0 1 9'\n",
            "   ❔ Pregunta: 'UNIDAD' -> Respuesta: 'UNIDAD 001'\n",
            "   ❔ Pregunta: 'VOTOS BLANCOS' -> Respuesta: '2'\n",
            "   ❔ Pregunta: 'VOTOS NULOS' -> Respuesta: '38'\n"
          ]
        },
        {
          "name": "stderr",
          "output_type": "stream",
          "text": [
            "\n",
            "Procesando Actas con Donut:  67%|██████▋   | 363/545 [2:41:54<1:21:16, 26.79s/it]\u001b[A"
          ]
        },
        {
          "name": "stdout",
          "output_type": "stream",
          "text": [
            "   ❔ Pregunta: 'VOTOS VÁLIDOS' -> Respuesta: '47'\n",
            "\n",
            "--- Interrogando al acta: mesa_5_101004.jpg ---\n",
            "   ❔ Pregunta: 'AP' -> Respuesta: 'AP 0.18'\n",
            "   ❔ Pregunta: 'APB SÚMATE' -> Respuesta: 'APB SÚMATE 007'\n",
            "   ❔ Pregunta: 'CODIGO MESA' -> Respuesta: '5'\n",
            "   ❔ Pregunta: 'ELECTORES HABILITADOS' -> Respuesta: '3'\n",
            "   ❔ Pregunta: 'FP' -> Respuesta: 'FP 002'\n",
            "   ❔ Pregunta: 'LIBRE' -> Respuesta: 'LIBRE 0.9'\n",
            "   ❔ Pregunta: 'LYP ADN' -> Respuesta: 'LYP ADN AP'\n",
            "   ❔ Pregunta: 'MAS-IPSP' -> Respuesta: 'MAS-IPSP 005'\n",
            "   ❔ Pregunta: 'MESA' -> Respuesta: '5'\n",
            "   ❔ Pregunta: 'MORENA' -> Respuesta: 'MORENA 0.18'\n",
            "   ❔ Pregunta: 'PAPELETAS EN ÁNFORA' -> Respuesta: '740'\n",
            "   ❔ Pregunta: 'PAPELETAS NO UTILIZADAS' -> Respuesta: '179'\n",
            "   ❔ Pregunta: 'PDC' -> Respuesta: 'PDC 038'\n",
            "   ❔ Pregunta: 'UNIDAD' -> Respuesta: 'UNIDAD 008'\n",
            "   ❔ Pregunta: 'VOTOS BLANCOS' -> Respuesta: '0'\n",
            "   ❔ Pregunta: 'VOTOS NULOS' -> Respuesta: '54'\n"
          ]
        },
        {
          "name": "stderr",
          "output_type": "stream",
          "text": [
            "\n",
            "Procesando Actas con Donut:  67%|██████▋   | 364/545 [2:42:20<1:20:38, 26.73s/it]\u001b[A"
          ]
        },
        {
          "name": "stdout",
          "output_type": "stream",
          "text": [
            "   ❔ Pregunta: 'VOTOS VÁLIDOS' -> Respuesta: '87'\n",
            "\n",
            "--- Interrogando al acta: mesa_1_100964.jpg ---\n",
            "   ❔ Pregunta: 'AP' -> Respuesta: 'AP 020'\n",
            "   ❔ Pregunta: 'APB SÚMATE' -> Respuesta: 'APB SÚMATE 020'\n",
            "   ❔ Pregunta: 'CODIGO MESA' -> Respuesta: '815'\n",
            "   ❔ Pregunta: 'ELECTORES HABILITADOS' -> Respuesta: '3'\n",
            "   ❔ Pregunta: 'FP' -> Respuesta: 'FP 003'\n",
            "   ❔ Pregunta: 'LIBRE' -> Respuesta: 'LIBRE 0.10'\n",
            "   ❔ Pregunta: 'LYP ADN' -> Respuesta: 'LYP ADN APB SUMATE'\n",
            "   ❔ Pregunta: 'MAS-IPSP' -> Respuesta: 'MAS-IPSP 003'\n",
            "   ❔ Pregunta: 'MESA' -> Respuesta: '815'\n",
            "   ❔ Pregunta: 'MORENA' -> Respuesta: 'MORENA 020'\n",
            "   ❔ Pregunta: 'PAPELETAS EN ÁNFORA' -> Respuesta: '428'\n",
            "   ❔ Pregunta: 'PAPELETAS NO UTILIZADAS' -> Respuesta: '192'\n",
            "   ❔ Pregunta: 'PDC' -> Respuesta: 'PDC 036'\n",
            "   ❔ Pregunta: 'UNIDAD' -> Respuesta: 'UNIDAD 0 10'\n",
            "   ❔ Pregunta: 'VOTOS BLANCOS' -> Respuesta: '3'\n",
            "   ❔ Pregunta: 'VOTOS NULOS' -> Respuesta: '39'\n"
          ]
        },
        {
          "name": "stderr",
          "output_type": "stream",
          "text": [
            "\n",
            "Procesando Actas con Donut:  67%|██████▋   | 365/545 [2:42:47<1:20:08, 26.72s/it]\u001b[A"
          ]
        },
        {
          "name": "stdout",
          "output_type": "stream",
          "text": [
            "   ❔ Pregunta: 'VOTOS VÁLIDOS' -> Respuesta: '86'\n",
            "\n",
            "--- Interrogando al acta: mesa_3_100984.jpg ---\n",
            "   ❔ Pregunta: 'AP' -> Respuesta: 'AP 016'\n",
            "   ❔ Pregunta: 'APB SÚMATE' -> Respuesta: 'APB SÚMATE 006'\n",
            "   ❔ Pregunta: 'CODIGO MESA' -> Respuesta: 'None'\n",
            "   ❔ Pregunta: 'ELECTORES HABILITADOS' -> Respuesta: 'None'\n",
            "   ❔ Pregunta: 'FP' -> Respuesta: 'FP 000'\n",
            "   ❔ Pregunta: 'LIBRE' -> Respuesta: 'LIBRE 0 1 5'\n",
            "   ❔ Pregunta: 'LYP ADN' -> Respuesta: 'LYP ADN APB SUMATE'\n",
            "   ❔ Pregunta: 'MAS-IPSP' -> Respuesta: 'MAS-IPSP 0.2'\n",
            "   ❔ Pregunta: 'MESA' -> Respuesta: '3'\n",
            "   ❔ Pregunta: 'MORENA' -> Respuesta: 'MORENA 0 1'\n",
            "   ❔ Pregunta: 'PAPELETAS EN ÁNFORA' -> Respuesta: '20'\n",
            "   ❔ Pregunta: 'PAPELETAS NO UTILIZADAS' -> Respuesta: '207'\n",
            "   ❔ Pregunta: 'PDC' -> Respuesta: 'PDC 0.22'\n",
            "   ❔ Pregunta: 'UNIDAD' -> Respuesta: 'UNIDAD 0 1'\n",
            "   ❔ Pregunta: 'VOTOS BLANCOS' -> Respuesta: '1'\n",
            "   ❔ Pregunta: 'VOTOS NULOS' -> Respuesta: '40'\n"
          ]
        },
        {
          "name": "stderr",
          "output_type": "stream",
          "text": [
            "\n",
            "Procesando Actas con Donut:  67%|██████▋   | 366/545 [2:43:14<1:19:55, 26.79s/it]\u001b[A"
          ]
        },
        {
          "name": "stdout",
          "output_type": "stream",
          "text": [
            "   ❔ Pregunta: 'VOTOS VÁLIDOS' -> Respuesta: '72'\n",
            "\n",
            "--- Interrogando al acta: mesa_4_103874.jpg ---\n",
            "   ❔ Pregunta: 'AP' -> Respuesta: 'AP OEP'\n",
            "   ❔ Pregunta: 'APB SÚMATE' -> Respuesta: 'APB SÚMATE 0.22'\n",
            "   ❔ Pregunta: 'CODIGO MESA' -> Respuesta: '4'\n",
            "   ❔ Pregunta: 'ELECTORES HABILITADOS' -> Respuesta: '3'\n",
            "   ❔ Pregunta: 'FP' -> Respuesta: 'FP 005'\n",
            "   ❔ Pregunta: 'LIBRE' -> Respuesta: 'LIBRE 0.22'\n",
            "   ❔ Pregunta: 'LYP ADN' -> Respuesta: 'LYP ADN AP'\n",
            "   ❔ Pregunta: 'MAS-IPSP' -> Respuesta: 'MAS-IPSP 0.01'\n",
            "   ❔ Pregunta: 'MESA' -> Respuesta: '4'\n",
            "   ❔ Pregunta: 'MORENA' -> Respuesta: 'MORENA AP'\n",
            "   ❔ Pregunta: 'PAPELETAS EN ÁNFORA' -> Respuesta: '25'\n",
            "   ❔ Pregunta: 'PAPELETAS NO UTILIZADAS' -> Respuesta: '50'\n",
            "   ❔ Pregunta: 'PDC' -> Respuesta: 'PDC 041'\n",
            "   ❔ Pregunta: 'UNIDAD' -> Respuesta: 'UNIDAD 00 6'\n",
            "   ❔ Pregunta: 'VOTOS BLANCOS' -> Respuesta: '8'\n",
            "   ❔ Pregunta: 'VOTOS NULOS' -> Respuesta: '59'\n"
          ]
        },
        {
          "name": "stderr",
          "output_type": "stream",
          "text": [
            "\n",
            "Procesando Actas con Donut:  67%|██████▋   | 367/545 [2:43:41<1:19:18, 26.73s/it]\u001b[A"
          ]
        },
        {
          "name": "stdout",
          "output_type": "stream",
          "text": [
            "   ❔ Pregunta: 'VOTOS VÁLIDOS' -> Respuesta: '56'\n",
            "\n",
            "--- Interrogando al acta: mesa_1_103844.jpg ---\n",
            "   ❔ Pregunta: 'AP' -> Respuesta: 'AP 0 5'\n",
            "   ❔ Pregunta: 'APB SÚMATE' -> Respuesta: 'APB SÚMATE 002'\n",
            "   ❔ Pregunta: 'CODIGO MESA' -> Respuesta: '1'\n",
            "   ❔ Pregunta: 'ELECTORES HABILITADOS' -> Respuesta: '3'\n",
            "   ❔ Pregunta: 'FP' -> Respuesta: 'FP 002'\n",
            "   ❔ Pregunta: 'LIBRE' -> Respuesta: 'LIBRE 08.00'\n",
            "   ❔ Pregunta: 'LYP ADN' -> Respuesta: 'LYP ADN AP'\n",
            "   ❔ Pregunta: 'MAS-IPSP' -> Respuesta: 'MAS-IPSP 001'\n",
            "   ❔ Pregunta: 'MESA' -> Respuesta: '1'\n",
            "   ❔ Pregunta: 'MORENA' -> Respuesta: 'MORENA 0800'\n",
            "   ❔ Pregunta: 'PAPELETAS EN ÁNFORA' -> Respuesta: '80'\n",
            "   ❔ Pregunta: 'PAPELETAS NO UTILIZADAS' -> Respuesta: '800'\n",
            "   ❔ Pregunta: 'PDC' -> Respuesta: 'PDC 019'\n",
            "   ❔ Pregunta: 'UNIDAD' -> Respuesta: 'UNIDAD 001'\n",
            "   ❔ Pregunta: 'VOTOS BLANCOS' -> Respuesta: '6'\n",
            "   ❔ Pregunta: 'VOTOS NULOS' -> Respuesta: '56'\n"
          ]
        },
        {
          "name": "stderr",
          "output_type": "stream",
          "text": [
            "\n",
            "Procesando Actas con Donut:  68%|██████▊   | 368/545 [2:44:07<1:18:44, 26.69s/it]\u001b[A"
          ]
        },
        {
          "name": "stdout",
          "output_type": "stream",
          "text": [
            "   ❔ Pregunta: 'VOTOS VÁLIDOS' -> Respuesta: '51'\n",
            "\n",
            "--- Interrogando al acta: mesa_2_103854.jpg ---\n",
            "   ❔ Pregunta: 'AP' -> Respuesta: 'AP 020'\n",
            "   ❔ Pregunta: 'APB SÚMATE' -> Respuesta: 'APB SÚMATE 004'\n",
            "   ❔ Pregunta: 'CODIGO MESA' -> Respuesta: 'None'\n",
            "   ❔ Pregunta: 'ELECTORES HABILITADOS' -> Respuesta: '3'\n",
            "   ❔ Pregunta: 'FP' -> Respuesta: 'FP 006'\n",
            "   ❔ Pregunta: 'LIBRE' -> Respuesta: 'LIBRE 007'\n",
            "   ❔ Pregunta: 'LYP ADN' -> Respuesta: 'LYP ADN APB SUMATE'\n",
            "   ❔ Pregunta: 'MAS-IPSP' -> Respuesta: 'MAS-IPSP 0.9'\n",
            "   ❔ Pregunta: 'MESA' -> Respuesta: '2'\n",
            "   ❔ Pregunta: 'MORENA' -> Respuesta: 'MORENA 446110'\n",
            "   ❔ Pregunta: 'PAPELETAS EN ÁNFORA' -> Respuesta: '430'\n",
            "   ❔ Pregunta: 'PAPELETAS NO UTILIZADAS' -> Respuesta: '430'\n",
            "   ❔ Pregunta: 'PDC' -> Respuesta: 'PDC 018'\n",
            "   ❔ Pregunta: 'UNIDAD' -> Respuesta: 'UNIDAD 001'\n",
            "   ❔ Pregunta: 'VOTOS BLANCOS' -> Respuesta: '8'\n",
            "   ❔ Pregunta: 'VOTOS NULOS' -> Respuesta: '61'\n"
          ]
        },
        {
          "name": "stderr",
          "output_type": "stream",
          "text": [
            "\n",
            "Procesando Actas con Donut:  68%|██████▊   | 369/545 [2:44:34<1:18:38, 26.81s/it]\u001b[A"
          ]
        },
        {
          "name": "stdout",
          "output_type": "stream",
          "text": [
            "   ❔ Pregunta: 'VOTOS VÁLIDOS' -> Respuesta: '61'\n",
            "\n",
            "--- Interrogando al acta: mesa_9_103924.jpg ---\n",
            "   ❔ Pregunta: 'AP' -> Respuesta: 'AP 0.23'\n",
            "   ❔ Pregunta: 'APB SÚMATE' -> Respuesta: 'APB SÚMATE 0.23'\n",
            "   ❔ Pregunta: 'CODIGO MESA' -> Respuesta: '9'\n",
            "   ❔ Pregunta: 'ELECTORES HABILITADOS' -> Respuesta: '3'\n",
            "   ❔ Pregunta: 'FP' -> Respuesta: 'FP 003'\n",
            "   ❔ Pregunta: 'LIBRE' -> Respuesta: 'LIBRE 0.23'\n",
            "   ❔ Pregunta: 'LYP ADN' -> Respuesta: 'LYP ADN 00 1'\n",
            "   ❔ Pregunta: 'MAS-IPSP' -> Respuesta: 'MAS-IPSP 0 0'\n",
            "   ❔ Pregunta: 'MESA' -> Respuesta: '9'\n",
            "   ❔ Pregunta: 'MORENA' -> Respuesta: 'MORENA 0.23'\n",
            "   ❔ Pregunta: 'PAPELETAS EN ÁNFORA' -> Respuesta: '436'\n",
            "   ❔ Pregunta: 'PAPELETAS NO UTILIZADAS' -> Respuesta: '184'\n",
            "   ❔ Pregunta: 'PDC' -> Respuesta: 'PDC 013'\n",
            "   ❔ Pregunta: 'UNIDAD' -> Respuesta: 'UNIDAD 005'\n",
            "   ❔ Pregunta: 'VOTOS BLANCOS' -> Respuesta: '4'\n",
            "   ❔ Pregunta: 'VOTOS NULOS' -> Respuesta: '71'\n"
          ]
        },
        {
          "name": "stderr",
          "output_type": "stream",
          "text": [
            "\n",
            "Procesando Actas con Donut:  68%|██████▊   | 370/545 [2:45:01<1:18:15, 26.83s/it]\u001b[A"
          ]
        },
        {
          "name": "stdout",
          "output_type": "stream",
          "text": [
            "   ❔ Pregunta: 'VOTOS VÁLIDOS' -> Respuesta: '61'\n",
            "\n",
            "--- Interrogando al acta: mesa_3_103864.jpg ---\n",
            "   ❔ Pregunta: 'AP' -> Respuesta: 'AP OEP'\n",
            "   ❔ Pregunta: 'APB SÚMATE' -> Respuesta: 'APB SÚMATE MOSA: 3'\n",
            "   ❔ Pregunta: 'CODIGO MESA' -> Respuesta: 'None'\n",
            "   ❔ Pregunta: 'ELECTORES HABILITADOS' -> Respuesta: '3'\n",
            "   ❔ Pregunta: 'FP' -> Respuesta: 'FP 08.00'\n",
            "   ❔ Pregunta: 'LIBRE' -> Respuesta: 'LIBRE 08.00'\n",
            "   ❔ Pregunta: 'LYP ADN' -> Respuesta: 'LYP ADN OEP'\n",
            "   ❔ Pregunta: 'MAS-IPSP' -> Respuesta: 'MAS-IPSP 002'\n",
            "   ❔ Pregunta: 'MESA' -> Respuesta: '3'\n",
            "   ❔ Pregunta: 'MORENA' -> Respuesta: 'MORENA 0.15'\n",
            "   ❔ Pregunta: 'PAPELETAS EN ÁNFORA' -> Respuesta: '18'\n",
            "   ❔ Pregunta: 'PAPELETAS NO UTILIZADAS' -> Respuesta: '78'\n",
            "   ❔ Pregunta: 'PDC' -> Respuesta: 'PDC 015'\n",
            "   ❔ Pregunta: 'UNIDAD' -> Respuesta: 'UNIDAD 005'\n",
            "   ❔ Pregunta: 'VOTOS BLANCOS' -> Respuesta: '3'\n",
            "   ❔ Pregunta: 'VOTOS NULOS' -> Respuesta: '78'\n"
          ]
        },
        {
          "name": "stderr",
          "output_type": "stream",
          "text": [
            "\n",
            "Procesando Actas con Donut:  68%|██████▊   | 371/545 [2:45:29<1:18:15, 26.98s/it]\u001b[A"
          ]
        },
        {
          "name": "stdout",
          "output_type": "stream",
          "text": [
            "   ❔ Pregunta: 'VOTOS VÁLIDOS' -> Respuesta: '68'\n",
            "\n",
            "--- Interrogando al acta: mesa_6_103894.jpg ---\n",
            "   ❔ Pregunta: 'AP' -> Respuesta: 'AP 080'\n",
            "   ❔ Pregunta: 'APB SÚMATE' -> Respuesta: 'APB SÚMATE 0800'\n",
            "   ❔ Pregunta: 'CODIGO MESA' -> Respuesta: '800'\n",
            "   ❔ Pregunta: 'ELECTORES HABILITADOS' -> Respuesta: '3'\n",
            "   ❔ Pregunta: 'FP' -> Respuesta: 'FP 003'\n",
            "   ❔ Pregunta: 'LIBRE' -> Respuesta: 'LIBRE 08.00'\n",
            "   ❔ Pregunta: 'LYP ADN' -> Respuesta: 'LYP ADN 080'\n",
            "   ❔ Pregunta: 'MAS-IPSP' -> Respuesta: 'MAS-IPSP 004'\n",
            "   ❔ Pregunta: 'MESA' -> Respuesta: '6'\n",
            "   ❔ Pregunta: 'MORENA' -> Respuesta: 'MORENA 08.00'\n",
            "   ❔ Pregunta: 'PAPELETAS EN ÁNFORA' -> Respuesta: '715'\n",
            "   ❔ Pregunta: 'PAPELETAS NO UTILIZADAS' -> Respuesta: '205'\n",
            "   ❔ Pregunta: 'PDC' -> Respuesta: 'PDC 017'\n",
            "   ❔ Pregunta: 'UNIDAD' -> Respuesta: 'UNIDAD 004'\n",
            "   ❔ Pregunta: 'VOTOS BLANCOS' -> Respuesta: '6'\n",
            "   ❔ Pregunta: 'VOTOS NULOS' -> Respuesta: '5'\n"
          ]
        },
        {
          "name": "stderr",
          "output_type": "stream",
          "text": [
            "\n",
            "Procesando Actas con Donut:  68%|██████▊   | 372/545 [2:45:56<1:17:47, 26.98s/it]\u001b[A"
          ]
        },
        {
          "name": "stdout",
          "output_type": "stream",
          "text": [
            "   ❔ Pregunta: 'VOTOS VÁLIDOS' -> Respuesta: '5'\n",
            "\n",
            "--- Interrogando al acta: mesa_8_103914.jpg ---\n",
            "   ❔ Pregunta: 'AP' -> Respuesta: 'AP 047'\n",
            "   ❔ Pregunta: 'APB SÚMATE' -> Respuesta: 'APB SÚMATE 005'\n",
            "   ❔ Pregunta: 'CODIGO MESA' -> Respuesta: '875'\n",
            "   ❔ Pregunta: 'ELECTORES HABILITADOS' -> Respuesta: '3'\n",
            "   ❔ Pregunta: 'FP' -> Respuesta: 'FP 008'\n",
            "   ❔ Pregunta: 'LIBRE' -> Respuesta: 'LIBRE 008'\n",
            "   ❔ Pregunta: 'LYP ADN' -> Respuesta: 'LYP ADN 005'\n",
            "   ❔ Pregunta: 'MAS-IPSP' -> Respuesta: 'MAS-IPSP 005'\n",
            "   ❔ Pregunta: 'MESA' -> Respuesta: '8'\n",
            "   ❔ Pregunta: 'MORENA' -> Respuesta: 'MORENA 7 20'\n",
            "   ❔ Pregunta: 'PAPELETAS EN ÁNFORA' -> Respuesta: '720'\n",
            "   ❔ Pregunta: 'PAPELETAS NO UTILIZADAS' -> Respuesta: '200'\n",
            "   ❔ Pregunta: 'PDC' -> Respuesta: 'PDC 0.13'\n",
            "   ❔ Pregunta: 'UNIDAD' -> Respuesta: 'UNIDAD 004'\n",
            "   ❔ Pregunta: 'VOTOS BLANCOS' -> Respuesta: '0'\n",
            "   ❔ Pregunta: 'VOTOS NULOS' -> Respuesta: '13'\n"
          ]
        },
        {
          "name": "stderr",
          "output_type": "stream",
          "text": [
            "\n",
            "Procesando Actas con Donut:  68%|██████▊   | 373/545 [2:46:22<1:16:59, 26.86s/it]\u001b[A"
          ]
        },
        {
          "name": "stdout",
          "output_type": "stream",
          "text": [
            "   ❔ Pregunta: 'VOTOS VÁLIDOS' -> Respuesta: '5'\n",
            "\n",
            "--- Interrogando al acta: mesa_5_103884.jpg ---\n",
            "   ❔ Pregunta: 'AP' -> Respuesta: 'AP A3'\n",
            "   ❔ Pregunta: 'APB SÚMATE' -> Respuesta: 'APB SÚMATE 0.18'\n",
            "   ❔ Pregunta: 'CODIGO MESA' -> Respuesta: '5'\n",
            "   ❔ Pregunta: 'ELECTORES HABILITADOS' -> Respuesta: '3'\n",
            "   ❔ Pregunta: 'FP' -> Respuesta: 'FP A3'\n",
            "   ❔ Pregunta: 'LIBRE' -> Respuesta: 'LIBRE AUSTRALIA'\n",
            "   ❔ Pregunta: 'LYP ADN' -> Respuesta: 'LYP ADN OEP'\n",
            "   ❔ Pregunta: 'MAS-IPSP' -> Respuesta: 'MAS-IPSP 0.83'\n",
            "   ❔ Pregunta: 'MESA' -> Respuesta: '5'\n",
            "   ❔ Pregunta: 'MORENA' -> Respuesta: 'MORENA 187'\n",
            "   ❔ Pregunta: 'PAPELETAS EN ÁNFORA' -> Respuesta: '18'\n",
            "   ❔ Pregunta: 'PAPELETAS NO UTILIZADAS' -> Respuesta: '76'\n",
            "   ❔ Pregunta: 'PDC' -> Respuesta: 'PDC 015'\n",
            "   ❔ Pregunta: 'UNIDAD' -> Respuesta: 'UNIDAD 000'\n",
            "   ❔ Pregunta: 'VOTOS BLANCOS' -> Respuesta: '3'\n",
            "   ❔ Pregunta: 'VOTOS NULOS' -> Respuesta: '76'\n"
          ]
        },
        {
          "name": "stderr",
          "output_type": "stream",
          "text": [
            "\n",
            "Procesando Actas con Donut:  69%|██████▊   | 374/545 [2:46:49<1:16:25, 26.82s/it]\u001b[A"
          ]
        },
        {
          "name": "stdout",
          "output_type": "stream",
          "text": [
            "   ❔ Pregunta: 'VOTOS VÁLIDOS' -> Respuesta: '59'\n",
            "\n",
            "--- Interrogando al acta: mesa_11_103944.jpg ---\n",
            "   ❔ Pregunta: 'AP' -> Respuesta: 'AP 020'\n",
            "   ❔ Pregunta: 'APB SÚMATE' -> Respuesta: 'APB SÚMATE 006'\n",
            "   ❔ Pregunta: 'CODIGO MESA' -> Respuesta: '11'\n",
            "   ❔ Pregunta: 'ELECTORES HABILITADOS' -> Respuesta: '3'\n",
            "   ❔ Pregunta: 'FP' -> Respuesta: 'FP 0 0 5'\n",
            "   ❔ Pregunta: 'LIBRE' -> Respuesta: 'LIBRE 001'\n",
            "   ❔ Pregunta: 'LYP ADN' -> Respuesta: 'LYP ADN 020'\n",
            "   ❔ Pregunta: 'MAS-IPSP' -> Respuesta: 'MAS-IPSP 002'\n",
            "   ❔ Pregunta: 'MESA' -> Respuesta: '11'\n",
            "   ❔ Pregunta: 'MORENA' -> Respuesta: 'MORENA 796'\n",
            "   ❔ Pregunta: 'PAPELETAS EN ÁNFORA' -> Respuesta: '796'\n",
            "   ❔ Pregunta: 'PAPELETAS NO UTILIZADAS' -> Respuesta: '796'\n",
            "   ❔ Pregunta: 'PDC' -> Respuesta: 'PDC 012'\n",
            "   ❔ Pregunta: 'UNIDAD' -> Respuesta: 'UNIDAD 007'\n",
            "   ❔ Pregunta: 'VOTOS BLANCOS' -> Respuesta: '4'\n",
            "   ❔ Pregunta: 'VOTOS NULOS' -> Respuesta: '67'\n"
          ]
        },
        {
          "name": "stderr",
          "output_type": "stream",
          "text": [
            "\n",
            "Procesando Actas con Donut:  69%|██████▉   | 375/545 [2:47:16<1:16:20, 26.94s/it]\u001b[A"
          ]
        },
        {
          "name": "stdout",
          "output_type": "stream",
          "text": [
            "   ❔ Pregunta: 'VOTOS VÁLIDOS' -> Respuesta: '59'\n",
            "\n",
            "--- Interrogando al acta: mesa_10_103934.jpg ---\n",
            "   ❔ Pregunta: 'AP' -> Respuesta: 'AP 020'\n",
            "   ❔ Pregunta: 'APB SÚMATE' -> Respuesta: 'APB SÚMATE 080'\n",
            "   ❔ Pregunta: 'CODIGO MESA' -> Respuesta: '10'\n",
            "   ❔ Pregunta: 'ELECTORES HABILITADOS' -> Respuesta: '3'\n",
            "   ❔ Pregunta: 'FP' -> Respuesta: 'FP 004'\n",
            "   ❔ Pregunta: 'LIBRE' -> Respuesta: 'LIBRE 0.17'\n",
            "   ❔ Pregunta: 'LYP ADN' -> Respuesta: 'LYP ADN 020'\n",
            "   ❔ Pregunta: 'MAS-IPSP' -> Respuesta: 'MAS-IPSP 080'\n",
            "   ❔ Pregunta: 'MESA' -> Respuesta: '10'\n",
            "   ❔ Pregunta: 'MORENA' -> Respuesta: 'MORENA 796'\n",
            "   ❔ Pregunta: 'PAPELETAS EN ÁNFORA' -> Respuesta: '24'\n",
            "   ❔ Pregunta: 'PAPELETAS NO UTILIZADAS' -> Respuesta: '80'\n",
            "   ❔ Pregunta: 'PDC' -> Respuesta: 'PDC 017'\n",
            "   ❔ Pregunta: 'UNIDAD' -> Respuesta: 'UNIDAD 0.94'\n",
            "   ❔ Pregunta: 'VOTOS BLANCOS' -> Respuesta: '70'\n",
            "   ❔ Pregunta: 'VOTOS NULOS' -> Respuesta: '62'\n"
          ]
        },
        {
          "name": "stderr",
          "output_type": "stream",
          "text": [
            "\n",
            "Procesando Actas con Donut:  69%|██████▉   | 376/545 [2:47:43<1:15:37, 26.85s/it]\u001b[A"
          ]
        },
        {
          "name": "stdout",
          "output_type": "stream",
          "text": [
            "   ❔ Pregunta: 'VOTOS VÁLIDOS' -> Respuesta: '62'\n",
            "\n",
            "--- Interrogando al acta: mesa_7_103904.jpg ---\n",
            "   ❔ Pregunta: 'AP' -> Respuesta: 'AP 0 1 1 1 1 1 1 1 1 1 1 1 1 1 1 1 1 1 1 1 1 1 1 1 1 1 1 1 1 1 1 1 1 1 1 1 1 1 1 1 1 1 1 1 1 1 1 1 1 1 1 1 1 1 1 1 1 1 1 1 1 1 1 1 1 1 1 1 1 1 1 1 1 1 1 1 1 1 1 1 1 1 1 1 1 1 1 1 1 1 1 1 1 1 1 1 1 1 1 1 1 1 1 1 1 1 1 1 1 1 1 1 1 1 1 1 1 1 1 1 1 1'\n",
            "   ❔ Pregunta: 'APB SÚMATE' -> Respuesta: 'APB SÚMATE 003'\n",
            "   ❔ Pregunta: 'CODIGO MESA' -> Respuesta: '7'\n",
            "   ❔ Pregunta: 'ELECTORES HABILITADOS' -> Respuesta: '3'\n",
            "   ❔ Pregunta: 'FP' -> Respuesta: 'FP 007'\n",
            "   ❔ Pregunta: 'LIBRE' -> Respuesta: 'LIBRE 0 1 2'\n",
            "   ❔ Pregunta: 'LYP ADN' -> Respuesta: 'LYP ADN 001'\n",
            "   ❔ Pregunta: 'MAS-IPSP' -> Respuesta: 'MAS-IPSP 0.8'\n",
            "   ❔ Pregunta: 'MESA' -> Respuesta: '7'\n",
            "   ❔ Pregunta: 'MORENA' -> Respuesta: 'MORENA 954564'\n",
            "   ❔ Pregunta: 'PAPELETAS EN ÁNFORA' -> Respuesta: '83'\n",
            "   ❔ Pregunta: 'PAPELETAS NO UTILIZADAS' -> Respuesta: '83'\n",
            "   ❔ Pregunta: 'PDC' -> Respuesta: 'PDC 0.22'\n",
            "   ❔ Pregunta: 'UNIDAD' -> Respuesta: 'UNIDAD 004'\n",
            "   ❔ Pregunta: 'VOTOS BLANCOS' -> Respuesta: '2'\n",
            "   ❔ Pregunta: 'VOTOS NULOS' -> Respuesta: '60'\n"
          ]
        },
        {
          "name": "stderr",
          "output_type": "stream",
          "text": [
            "\n",
            "Procesando Actas con Donut:  69%|██████▉   | 377/545 [2:48:10<1:15:56, 27.12s/it]\u001b[A"
          ]
        },
        {
          "name": "stdout",
          "output_type": "stream",
          "text": [
            "   ❔ Pregunta: 'VOTOS VÁLIDOS' -> Respuesta: '99'\n",
            "\n",
            "--- Interrogando al acta: mesa_12_103954.jpg ---\n",
            "   ❔ Pregunta: 'AP' -> Respuesta: 'AP 003'\n",
            "   ❔ Pregunta: 'APB SÚMATE' -> Respuesta: 'APB SÚMATE 007'\n",
            "   ❔ Pregunta: 'CODIGO MESA' -> Respuesta: 'None'\n",
            "   ❔ Pregunta: 'ELECTORES HABILITADOS' -> Respuesta: '3'\n",
            "   ❔ Pregunta: 'FP' -> Respuesta: 'FP 000'\n",
            "   ❔ Pregunta: 'LIBRE' -> Respuesta: 'LIBRE 08.00'\n",
            "   ❔ Pregunta: 'LYP ADN' -> Respuesta: 'LYP ADN APB SOMATE'\n",
            "   ❔ Pregunta: 'MAS-IPSP' -> Respuesta: 'MAS-IPSP 08.00'\n",
            "   ❔ Pregunta: 'MESA' -> Respuesta: '12'\n",
            "   ❔ Pregunta: 'MORENA' -> Respuesta: 'MORENA 0 3 2'\n",
            "   ❔ Pregunta: 'PAPELETAS EN ÁNFORA' -> Respuesta: '32'\n",
            "   ❔ Pregunta: 'PAPELETAS NO UTILIZADAS' -> Respuesta: '32'\n",
            "   ❔ Pregunta: 'PDC' -> Respuesta: 'PDC 002'\n",
            "   ❔ Pregunta: 'UNIDAD' -> Respuesta: 'UNIDAD 002'\n",
            "   ❔ Pregunta: 'VOTOS BLANCOS' -> Respuesta: '0'\n",
            "   ❔ Pregunta: 'VOTOS NULOS' -> Respuesta: '18'\n"
          ]
        },
        {
          "name": "stderr",
          "output_type": "stream",
          "text": [
            "\n",
            "Procesando Actas con Donut:  69%|██████▉   | 378/545 [2:48:37<1:15:04, 26.98s/it]\u001b[A"
          ]
        },
        {
          "name": "stdout",
          "output_type": "stream",
          "text": [
            "   ❔ Pregunta: 'VOTOS VÁLIDOS' -> Respuesta: '9'\n",
            "\n",
            "--- Interrogando al acta: mesa_7_102864.jpg ---\n",
            "   ❔ Pregunta: 'AP' -> Respuesta: 'AP 003'\n",
            "   ❔ Pregunta: 'APB SÚMATE' -> Respuesta: 'APB SÚMATE 000'\n",
            "   ❔ Pregunta: 'CODIGO MESA' -> Respuesta: '7'\n",
            "   ❔ Pregunta: 'ELECTORES HABILITADOS' -> Respuesta: '3'\n",
            "   ❔ Pregunta: 'FP' -> Respuesta: 'FP 000'\n",
            "   ❔ Pregunta: 'LIBRE' -> Respuesta: 'LIBRE 000'\n",
            "   ❔ Pregunta: 'LYP ADN' -> Respuesta: 'LYP ADN APB SUMATE'\n",
            "   ❔ Pregunta: 'MAS-IPSP' -> Respuesta: 'MAS-IPSP 001'\n",
            "   ❔ Pregunta: 'MESA' -> Respuesta: '7'\n",
            "   ❔ Pregunta: 'MORENA' -> Respuesta: 'MORENA 0.24'\n",
            "   ❔ Pregunta: 'PAPELETAS EN ÁNFORA' -> Respuesta: '24'\n",
            "   ❔ Pregunta: 'PAPELETAS NO UTILIZADAS' -> Respuesta: '25'\n",
            "   ❔ Pregunta: 'PDC' -> Respuesta: 'PDC 003'\n",
            "   ❔ Pregunta: 'UNIDAD' -> Respuesta: 'UNIDAD 001'\n",
            "   ❔ Pregunta: 'VOTOS BLANCOS' -> Respuesta: '1'\n",
            "   ❔ Pregunta: 'VOTOS NULOS' -> Respuesta: '12'\n"
          ]
        },
        {
          "name": "stderr",
          "output_type": "stream",
          "text": [
            "\n",
            "Procesando Actas con Donut:  70%|██████▉   | 379/545 [2:49:04<1:14:27, 26.91s/it]\u001b[A"
          ]
        },
        {
          "name": "stdout",
          "output_type": "stream",
          "text": [
            "   ❔ Pregunta: 'VOTOS VÁLIDOS' -> Respuesta: '28'\n",
            "\n",
            "--- Interrogando al acta: mesa_2_102814.jpg ---\n",
            "   ❔ Pregunta: 'AP' -> Respuesta: 'AP 024'\n",
            "   ❔ Pregunta: 'APB SÚMATE' -> Respuesta: 'APB SÚMATE 004'\n",
            "   ❔ Pregunta: 'CODIGO MESA' -> Respuesta: 'None'\n",
            "   ❔ Pregunta: 'ELECTORES HABILITADOS' -> Respuesta: '3'\n",
            "   ❔ Pregunta: 'FP' -> Respuesta: 'FP 002'\n",
            "   ❔ Pregunta: 'LIBRE' -> Respuesta: 'LIBRE 024'\n",
            "   ❔ Pregunta: 'LYP ADN' -> Respuesta: 'LYP ADN APB SUMATE'\n",
            "   ❔ Pregunta: 'MAS-IPSP' -> Respuesta: 'MAS-IPSP 0'\n",
            "   ❔ Pregunta: 'MESA' -> Respuesta: '2'\n",
            "   ❔ Pregunta: 'MORENA' -> Respuesta: 'MORENA 0.24'\n",
            "   ❔ Pregunta: 'PAPELETAS EN ÁNFORA' -> Respuesta: '153'\n",
            "   ❔ Pregunta: 'PAPELETAS NO UTILIZADAS' -> Respuesta: '81'\n",
            "   ❔ Pregunta: 'PDC' -> Respuesta: 'PDC 029'\n",
            "   ❔ Pregunta: 'UNIDAD' -> Respuesta: 'UNIDAD 00 2'\n",
            "   ❔ Pregunta: 'VOTOS BLANCOS' -> Respuesta: '81'\n",
            "   ❔ Pregunta: 'VOTOS NULOS' -> Respuesta: '81'\n"
          ]
        },
        {
          "name": "stderr",
          "output_type": "stream",
          "text": [
            "\n",
            "Procesando Actas con Donut:  70%|██████▉   | 380/545 [2:49:30<1:13:46, 26.82s/it]\u001b[A"
          ]
        },
        {
          "name": "stdout",
          "output_type": "stream",
          "text": [
            "   ❔ Pregunta: 'VOTOS VÁLIDOS' -> Respuesta: '70'\n",
            "\n",
            "--- Interrogando al acta: mesa_3_102824.jpg ---\n",
            "   ❔ Pregunta: 'AP' -> Respuesta: 'AP 0 2 9'\n",
            "   ❔ Pregunta: 'APB SÚMATE' -> Respuesta: 'APB SÚMATE 007'\n",
            "   ❔ Pregunta: 'CODIGO MESA' -> Respuesta: '930'\n",
            "   ❔ Pregunta: 'ELECTORES HABILITADOS' -> Respuesta: '3'\n",
            "   ❔ Pregunta: 'FP' -> Respuesta: 'FP 003'\n",
            "   ❔ Pregunta: 'LIBRE' -> Respuesta: 'LIBRE 006'\n",
            "   ❔ Pregunta: 'LYP ADN' -> Respuesta: 'LYP ADN AP'\n",
            "   ❔ Pregunta: 'MAS-IPSP' -> Respuesta: 'MAS-IPSP 0 0'\n",
            "   ❔ Pregunta: 'MESA' -> Respuesta: '3'\n",
            "   ❔ Pregunta: 'MORENA' -> Respuesta: 'MORENA 7 4 7'\n",
            "   ❔ Pregunta: 'PAPELETAS EN ÁNFORA' -> Respuesta: '747'\n",
            "   ❔ Pregunta: 'PAPELETAS NO UTILIZADAS' -> Respuesta: '95'\n",
            "   ❔ Pregunta: 'PDC' -> Respuesta: 'PDC 0.19'\n",
            "   ❔ Pregunta: 'UNIDAD' -> Respuesta: 'UNIDAD 003'\n",
            "   ❔ Pregunta: 'VOTOS BLANCOS' -> Respuesta: '5'\n",
            "   ❔ Pregunta: 'VOTOS NULOS' -> Respuesta: '65'\n"
          ]
        },
        {
          "name": "stderr",
          "output_type": "stream",
          "text": [
            "\n",
            "Procesando Actas con Donut:  70%|██████▉   | 381/545 [2:49:57<1:13:14, 26.80s/it]\u001b[A"
          ]
        },
        {
          "name": "stdout",
          "output_type": "stream",
          "text": [
            "   ❔ Pregunta: 'VOTOS VÁLIDOS' -> Respuesta: '97'\n",
            "\n",
            "--- Interrogando al acta: mesa_5_102844.jpg ---\n",
            "   ❔ Pregunta: 'AP' -> Respuesta: 'AP 023'\n",
            "   ❔ Pregunta: 'APB SÚMATE' -> Respuesta: 'APB SÚMATE 0.23'\n",
            "   ❔ Pregunta: 'CODIGO MESA' -> Respuesta: '5'\n",
            "   ❔ Pregunta: 'ELECTORES HABILITADOS' -> Respuesta: 'None'\n",
            "   ❔ Pregunta: 'FP' -> Respuesta: 'FP 002'\n",
            "   ❔ Pregunta: 'LIBRE' -> Respuesta: 'LIBRE 005'\n",
            "   ❔ Pregunta: 'LYP ADN' -> Respuesta: 'LYP ADN AP'\n",
            "   ❔ Pregunta: 'MAS-IPSP' -> Respuesta: 'MAS-IPSP 002'\n",
            "   ❔ Pregunta: 'MESA' -> Respuesta: '5'\n",
            "   ❔ Pregunta: 'MORENA' -> Respuesta: 'MORENA 4567890'\n",
            "   ❔ Pregunta: 'PAPELETAS EN ÁNFORA' -> Respuesta: '61'\n",
            "   ❔ Pregunta: 'PAPELETAS NO UTILIZADAS' -> Respuesta: '173'\n",
            "   ❔ Pregunta: 'PDC' -> Respuesta: 'PDC 0.18'\n",
            "   ❔ Pregunta: 'UNIDAD' -> Respuesta: 'UNIDAD 003'\n",
            "   ❔ Pregunta: 'VOTOS BLANCOS' -> Respuesta: '7'\n",
            "   ❔ Pregunta: 'VOTOS NULOS' -> Respuesta: '79'\n"
          ]
        },
        {
          "name": "stderr",
          "output_type": "stream",
          "text": [
            "\n",
            "Procesando Actas con Donut:  70%|███████   | 382/545 [2:50:24<1:12:39, 26.75s/it]\u001b[A"
          ]
        },
        {
          "name": "stdout",
          "output_type": "stream",
          "text": [
            "   ❔ Pregunta: 'VOTOS VÁLIDOS' -> Respuesta: '61'\n",
            "\n",
            "--- Interrogando al acta: mesa_6_102854.jpg ---\n",
            "   ❔ Pregunta: 'AP' -> Respuesta: 'AP 0 26'\n",
            "   ❔ Pregunta: 'APB SÚMATE' -> Respuesta: 'APB SÚMATE 0.26'\n",
            "   ❔ Pregunta: 'CODIGO MESA' -> Respuesta: '6'\n",
            "   ❔ Pregunta: 'ELECTORES HABILITADOS' -> Respuesta: '3'\n",
            "   ❔ Pregunta: 'FP' -> Respuesta: 'FP 0 0 1'\n",
            "   ❔ Pregunta: 'LIBRE' -> Respuesta: 'LIBRE 0 2'\n",
            "   ❔ Pregunta: 'LYP ADN' -> Respuesta: 'LYP ADN APB SUMATE'\n",
            "   ❔ Pregunta: 'MAS-IPSP' -> Respuesta: 'MAS-IPSP 0 0'\n",
            "   ❔ Pregunta: 'MESA' -> Respuesta: '6'\n",
            "   ❔ Pregunta: 'MORENA' -> Respuesta: 'MORENA 0.26'\n",
            "   ❔ Pregunta: 'PAPELETAS EN ÁNFORA' -> Respuesta: '0'\n",
            "   ❔ Pregunta: 'PAPELETAS NO UTILIZADAS' -> Respuesta: '3'\n",
            "   ❔ Pregunta: 'PDC' -> Respuesta: 'PDC 025'\n",
            "   ❔ Pregunta: 'UNIDAD' -> Respuesta: 'UNIDAD 003'\n",
            "   ❔ Pregunta: 'VOTOS BLANCOS' -> Respuesta: '3'\n",
            "   ❔ Pregunta: 'VOTOS NULOS' -> Respuesta: '54'\n"
          ]
        },
        {
          "name": "stderr",
          "output_type": "stream",
          "text": [
            "\n",
            "Procesando Actas con Donut:  70%|███████   | 383/545 [2:50:50<1:12:07, 26.71s/it]\u001b[A"
          ]
        },
        {
          "name": "stdout",
          "output_type": "stream",
          "text": [
            "   ❔ Pregunta: 'VOTOS VÁLIDOS' -> Respuesta: '30'\n",
            "\n",
            "--- Interrogando al acta: mesa_4_102834.jpg ---\n",
            "   ❔ Pregunta: 'AP' -> Respuesta: 'AP 077'\n",
            "   ❔ Pregunta: 'APB SÚMATE' -> Respuesta: 'APB SÚMATE 077'\n",
            "   ❔ Pregunta: 'CODIGO MESA' -> Respuesta: '4'\n",
            "   ❔ Pregunta: 'ELECTORES HABILITADOS' -> Respuesta: '3'\n",
            "   ❔ Pregunta: 'FP' -> Respuesta: 'FP 00 2'\n",
            "   ❔ Pregunta: 'LIBRE' -> Respuesta: 'LIBRE 007'\n",
            "   ❔ Pregunta: 'LYP ADN' -> Respuesta: 'LYP ADN APB SUMATE'\n",
            "   ❔ Pregunta: 'MAS-IPSP' -> Respuesta: 'MAS-IPSP 0 0'\n",
            "   ❔ Pregunta: 'MESA' -> Respuesta: '4'\n",
            "   ❔ Pregunta: 'MORENA' -> Respuesta: 'MORENA 7 4 7 6'\n",
            "   ❔ Pregunta: 'PAPELETAS EN ÁNFORA' -> Respuesta: '7474'\n",
            "   ❔ Pregunta: 'PAPELETAS NO UTILIZADAS' -> Respuesta: '1234567890'\n",
            "   ❔ Pregunta: 'PDC' -> Respuesta: 'PDC 021'\n",
            "   ❔ Pregunta: 'UNIDAD' -> Respuesta: 'UNIDAD 0 4'\n",
            "   ❔ Pregunta: 'VOTOS BLANCOS' -> Respuesta: '10'\n",
            "   ❔ Pregunta: 'VOTOS NULOS' -> Respuesta: '75'\n"
          ]
        },
        {
          "name": "stderr",
          "output_type": "stream",
          "text": [
            "\n",
            "Procesando Actas con Donut:  70%|███████   | 384/545 [2:51:18<1:11:58, 26.82s/it]\u001b[A"
          ]
        },
        {
          "name": "stdout",
          "output_type": "stream",
          "text": [
            "   ❔ Pregunta: 'VOTOS VÁLIDOS' -> Respuesta: '59'\n",
            "\n",
            "--- Interrogando al acta: mesa_1_102804.jpg ---\n",
            "   ❔ Pregunta: 'AP' -> Respuesta: 'AP 032'\n",
            "   ❔ Pregunta: 'APB SÚMATE' -> Respuesta: 'APB SÚMATE 004'\n",
            "   ❔ Pregunta: 'CODIGO MESA' -> Respuesta: 'None'\n",
            "   ❔ Pregunta: 'ELECTORES HABILITADOS' -> Respuesta: '3'\n",
            "   ❔ Pregunta: 'FP' -> Respuesta: 'FP 004'\n",
            "   ❔ Pregunta: 'LIBRE' -> Respuesta: 'LIBRE 003'\n",
            "   ❔ Pregunta: 'LYP ADN' -> Respuesta: 'LYP ADN AP'\n",
            "   ❔ Pregunta: 'MAS-IPSP' -> Respuesta: 'MAS-IPSP 0 0 0 0 0 0 0 0 0 0 0 0 0 0 0 0 0 0 0 0 0 0 0 0 0 0 0 0 0 0 0 0 0 0 0 0 0 0 0 0 0 0 0 0 0 0 0 0 0 0 0 0 0 0 0 0 0 0 0 0 0 0 0 0 0 0 0 0 0 0 0 0 0 0 0 0 0 0 0 0 0 0 0 0 0 0 0 0 0 0 0 0 0 0 0 0 0 0 0 0 0 0 0 0 0 0 0 0 0 0 0 0 0 0 0 0 0 0 0'\n",
            "   ❔ Pregunta: 'MESA' -> Respuesta: '1'\n",
            "   ❔ Pregunta: 'MORENA' -> Respuesta: 'MORENA 7 43'\n",
            "   ❔ Pregunta: 'PAPELETAS EN ÁNFORA' -> Respuesta: '743'\n",
            "   ❔ Pregunta: 'PAPELETAS NO UTILIZADAS' -> Respuesta: '743'\n",
            "   ❔ Pregunta: 'PDC' -> Respuesta: 'PDC 024'\n",
            "   ❔ Pregunta: 'UNIDAD' -> Respuesta: 'UNIDAD 003'\n",
            "   ❔ Pregunta: 'VOTOS BLANCOS' -> Respuesta: '9'\n",
            "   ❔ Pregunta: 'VOTOS NULOS' -> Respuesta: '56'\n"
          ]
        },
        {
          "name": "stderr",
          "output_type": "stream",
          "text": [
            "\n",
            "Procesando Actas con Donut:  71%|███████   | 385/545 [2:51:45<1:12:04, 27.03s/it]\u001b[A"
          ]
        },
        {
          "name": "stdout",
          "output_type": "stream",
          "text": [
            "   ❔ Pregunta: 'VOTOS VÁLIDOS' -> Respuesta: '78'\n",
            "\n",
            "--- Interrogando al acta: mesa_7_100574.jpg ---\n",
            "   ❔ Pregunta: 'AP' -> Respuesta: 'AP A3'\n",
            "   ❔ Pregunta: 'APB SÚMATE' -> Respuesta: 'APB SÚMATE 001'\n",
            "   ❔ Pregunta: 'CODIGO MESA' -> Respuesta: '7'\n",
            "   ❔ Pregunta: 'ELECTORES HABILITADOS' -> Respuesta: '1'\n",
            "   ❔ Pregunta: 'FP' -> Respuesta: 'FP 0'\n",
            "   ❔ Pregunta: 'LIBRE' -> Respuesta: 'LIBRE 001'\n",
            "   ❔ Pregunta: 'LYP ADN' -> Respuesta: 'LYP ADN 081'\n",
            "   ❔ Pregunta: 'MAS-IPSP' -> Respuesta: 'MAS-IPSP 0.13'\n",
            "   ❔ Pregunta: 'MESA' -> Respuesta: '7'\n",
            "   ❔ Pregunta: 'MORENA' -> Respuesta: 'MORENA 001'\n",
            "   ❔ Pregunta: 'PAPELETAS EN ÁNFORA' -> Respuesta: '1'\n",
            "   ❔ Pregunta: 'PAPELETAS NO UTILIZADAS' -> Respuesta: '1'\n",
            "   ❔ Pregunta: 'PDC' -> Respuesta: 'PDC 007'\n",
            "   ❔ Pregunta: 'UNIDAD' -> Respuesta: 'UNIDAD 001'\n",
            "   ❔ Pregunta: 'VOTOS BLANCOS' -> Respuesta: '1'\n",
            "   ❔ Pregunta: 'VOTOS NULOS' -> Respuesta: '37'\n"
          ]
        },
        {
          "name": "stderr",
          "output_type": "stream",
          "text": [
            "\n",
            "Procesando Actas con Donut:  71%|███████   | 386/545 [2:52:12<1:11:28, 26.97s/it]\u001b[A"
          ]
        },
        {
          "name": "stdout",
          "output_type": "stream",
          "text": [
            "   ❔ Pregunta: 'VOTOS VÁLIDOS' -> Respuesta: '1'\n",
            "\n",
            "--- Interrogando al acta: mesa_6_100564.jpg ---\n",
            "   ❔ Pregunta: 'AP' -> Respuesta: 'AP 020'\n",
            "   ❔ Pregunta: 'APB SÚMATE' -> Respuesta: 'APB SÚMATE MOSA 6'\n",
            "   ❔ Pregunta: 'CODIGO MESA' -> Respuesta: '6'\n",
            "   ❔ Pregunta: 'ELECTORES HABILITADOS' -> Respuesta: '3'\n",
            "   ❔ Pregunta: 'FP' -> Respuesta: 'FP 004'\n",
            "   ❔ Pregunta: 'LIBRE' -> Respuesta: 'LIBRE 0.15'\n",
            "   ❔ Pregunta: 'LYP ADN' -> Respuesta: 'LYP ADN APB SOMATE'\n",
            "   ❔ Pregunta: 'MAS-IPSP' -> Respuesta: 'MAS-IPSP 002'\n",
            "   ❔ Pregunta: 'MESA' -> Respuesta: '6'\n",
            "   ❔ Pregunta: 'MORENA' -> Respuesta: 'MORENA 179'\n",
            "   ❔ Pregunta: 'PAPELETAS EN ÁNFORA' -> Respuesta: '1445'\n",
            "   ❔ Pregunta: 'PAPELETAS NO UTILIZADAS' -> Respuesta: '179'\n",
            "   ❔ Pregunta: 'PDC' -> Respuesta: 'PDC 0.44'\n",
            "   ❔ Pregunta: 'UNIDAD' -> Respuesta: 'UNIDAD 0.45'\n",
            "   ❔ Pregunta: 'VOTOS BLANCOS' -> Respuesta: '3'\n",
            "   ❔ Pregunta: 'VOTOS NULOS' -> Respuesta: '36'\n"
          ]
        },
        {
          "name": "stderr",
          "output_type": "stream",
          "text": [
            "\n",
            "Procesando Actas con Donut:  71%|███████   | 387/545 [2:52:39<1:10:45, 26.87s/it]\u001b[A"
          ]
        },
        {
          "name": "stdout",
          "output_type": "stream",
          "text": [
            "   ❔ Pregunta: 'VOTOS VÁLIDOS' -> Respuesta: '202'\n",
            "\n",
            "--- Interrogando al acta: mesa_8_100584.jpg ---\n",
            "   ❔ Pregunta: 'AP' -> Respuesta: 'AP 020'\n",
            "   ❔ Pregunta: 'APB SÚMATE' -> Respuesta: 'APB SÚMATE 020'\n",
            "   ❔ Pregunta: 'CODIGO MESA' -> Respuesta: '8'\n",
            "   ❔ Pregunta: 'ELECTORES HABILITADOS' -> Respuesta: '3'\n",
            "   ❔ Pregunta: 'FP' -> Respuesta: 'FP 000'\n",
            "   ❔ Pregunta: 'LIBRE' -> Respuesta: 'LIBRE 020'\n",
            "   ❔ Pregunta: 'LYP ADN' -> Respuesta: 'LYP ADN 004'\n",
            "   ❔ Pregunta: 'MAS-IPSP' -> Respuesta: 'MAS-IPSP 004'\n",
            "   ❔ Pregunta: 'MESA' -> Respuesta: '8'\n",
            "   ❔ Pregunta: 'MORENA' -> Respuesta: 'MORENA 7 68'\n",
            "   ❔ Pregunta: 'PAPELETAS EN ÁNFORA' -> Respuesta: '20'\n",
            "   ❔ Pregunta: 'PAPELETAS NO UTILIZADAS' -> Respuesta: '726'\n",
            "   ❔ Pregunta: 'PDC' -> Respuesta: 'PDC 0.26'\n",
            "   ❔ Pregunta: 'UNIDAD' -> Respuesta: 'UNIDAD 009'\n",
            "   ❔ Pregunta: 'VOTOS BLANCOS' -> Respuesta: '3'\n",
            "   ❔ Pregunta: 'VOTOS NULOS' -> Respuesta: '32'\n"
          ]
        },
        {
          "name": "stderr",
          "output_type": "stream",
          "text": [
            "\n",
            "Procesando Actas con Donut:  71%|███████   | 388/545 [2:53:05<1:10:21, 26.89s/it]\u001b[A"
          ]
        },
        {
          "name": "stdout",
          "output_type": "stream",
          "text": [
            "   ❔ Pregunta: 'VOTOS VÁLIDOS' -> Respuesta: '85'\n",
            "\n",
            "--- Interrogando al acta: mesa_4_100544.jpg ---\n",
            "   ❔ Pregunta: 'AP' -> Respuesta: 'AP APB SUMATE'\n",
            "   ❔ Pregunta: 'APB SÚMATE' -> Respuesta: 'APB SÚMATE LLO'\n",
            "   ❔ Pregunta: 'CODIGO MESA' -> Respuesta: '4'\n",
            "   ❔ Pregunta: 'ELECTORES HABILITADOS' -> Respuesta: '3'\n",
            "   ❔ Pregunta: 'FP' -> Respuesta: 'FP 003'\n",
            "   ❔ Pregunta: 'LIBRE' -> Respuesta: 'LIBRE 0.9'\n",
            "   ❔ Pregunta: 'LYP ADN' -> Respuesta: 'LYP ADN APB SUMATE'\n",
            "   ❔ Pregunta: 'MAS-IPSP' -> Respuesta: 'MAS-IPSP 002'\n",
            "   ❔ Pregunta: 'MESA' -> Respuesta: '4'\n",
            "   ❔ Pregunta: 'MORENA' -> Respuesta: 'MORENA 10054-4'\n",
            "   ❔ Pregunta: 'PAPELETAS EN ÁNFORA' -> Respuesta: '140'\n",
            "   ❔ Pregunta: 'PAPELETAS NO UTILIZADAS' -> Respuesta: '180'\n",
            "   ❔ Pregunta: 'PDC' -> Respuesta: 'PDC 038'\n",
            "   ❔ Pregunta: 'UNIDAD' -> Respuesta: 'UNIDAD 0.10'\n",
            "   ❔ Pregunta: 'VOTOS BLANCOS' -> Respuesta: '5'\n",
            "   ❔ Pregunta: 'VOTOS NULOS' -> Respuesta: '84'\n"
          ]
        },
        {
          "name": "stderr",
          "output_type": "stream",
          "text": [
            "\n",
            "Procesando Actas con Donut:  71%|███████▏  | 389/545 [2:53:32<1:09:47, 26.85s/it]\u001b[A"
          ]
        },
        {
          "name": "stdout",
          "output_type": "stream",
          "text": [
            "   ❔ Pregunta: 'VOTOS VÁLIDOS' -> Respuesta: '81'\n",
            "\n",
            "--- Interrogando al acta: mesa_5_100554.jpg ---\n",
            "   ❔ Pregunta: 'AP' -> Respuesta: 'AP 0.26'\n",
            "   ❔ Pregunta: 'APB SÚMATE' -> Respuesta: 'APB SÚMATE 026'\n",
            "   ❔ Pregunta: 'CODIGO MESA' -> Respuesta: '5'\n",
            "   ❔ Pregunta: 'ELECTORES HABILITADOS' -> Respuesta: '3'\n",
            "   ❔ Pregunta: 'FP' -> Respuesta: 'FP 003'\n",
            "   ❔ Pregunta: 'LIBRE' -> Respuesta: 'LIBRE 007'\n",
            "   ❔ Pregunta: 'LYP ADN' -> Respuesta: 'LYP ADN APB SUMATE'\n",
            "   ❔ Pregunta: 'MAS-IPSP' -> Respuesta: 'MAS-IPSP 002'\n",
            "   ❔ Pregunta: 'MESA' -> Respuesta: '5'\n",
            "   ❔ Pregunta: 'MORENA' -> Respuesta: 'MORENA 003'\n",
            "   ❔ Pregunta: 'PAPELETAS EN ÁNFORA' -> Respuesta: '75'\n",
            "   ❔ Pregunta: 'PAPELETAS NO UTILIZADAS' -> Respuesta: '715'\n",
            "   ❔ Pregunta: 'PDC' -> Respuesta: 'PDC 038'\n",
            "   ❔ Pregunta: 'UNIDAD' -> Respuesta: 'UNIDAD 005'\n",
            "   ❔ Pregunta: 'VOTOS BLANCOS' -> Respuesta: '603'\n",
            "   ❔ Pregunta: 'VOTOS NULOS' -> Respuesta: '52'\n"
          ]
        },
        {
          "name": "stderr",
          "output_type": "stream",
          "text": [
            "\n",
            "Procesando Actas con Donut:  72%|███████▏  | 390/545 [2:53:59<1:09:09, 26.77s/it]\u001b[A"
          ]
        },
        {
          "name": "stdout",
          "output_type": "stream",
          "text": [
            "   ❔ Pregunta: 'VOTOS VÁLIDOS' -> Respuesta: '86'\n",
            "\n",
            "--- Interrogando al acta: mesa_3_100534.jpg ---\n",
            "   ❔ Pregunta: 'AP' -> Respuesta: 'AP EMAS: 3'\n",
            "   ❔ Pregunta: 'APB SÚMATE' -> Respuesta: 'APB SÚMATE EMAS:3'\n",
            "   ❔ Pregunta: 'CODIGO MESA' -> Respuesta: '3'\n",
            "   ❔ Pregunta: 'ELECTORES HABILITADOS' -> Respuesta: 'None'\n",
            "   ❔ Pregunta: 'FP' -> Respuesta: 'FP 0'\n",
            "   ❔ Pregunta: 'LIBRE' -> Respuesta: 'LIBRE 0 1 2'\n",
            "   ❔ Pregunta: 'LYP ADN' -> Respuesta: 'LYP ADN MESA: 3'\n",
            "   ❔ Pregunta: 'MAS-IPSP' -> Respuesta: 'MAS-IPSP 0 0 5'\n",
            "   ❔ Pregunta: 'MESA' -> Respuesta: '3'\n",
            "   ❔ Pregunta: 'MORENA' -> Respuesta: 'MORENA 0 1 0'\n",
            "   ❔ Pregunta: 'PAPELETAS EN ÁNFORA' -> Respuesta: '95'\n",
            "   ❔ Pregunta: 'PAPELETAS NO UTILIZADAS' -> Respuesta: '92'\n",
            "   ❔ Pregunta: 'PDC' -> Respuesta: 'PDC 025'\n",
            "   ❔ Pregunta: 'UNIDAD' -> Respuesta: 'UNIDAD 0 1 0'\n",
            "   ❔ Pregunta: 'VOTOS BLANCOS' -> Respuesta: '92'\n",
            "   ❔ Pregunta: 'VOTOS NULOS' -> Respuesta: '92'\n"
          ]
        },
        {
          "name": "stderr",
          "output_type": "stream",
          "text": [
            "\n",
            "Procesando Actas con Donut:  72%|███████▏  | 391/545 [2:54:25<1:08:33, 26.71s/it]\u001b[A"
          ]
        },
        {
          "name": "stdout",
          "output_type": "stream",
          "text": [
            "   ❔ Pregunta: 'VOTOS VÁLIDOS' -> Respuesta: '83'\n",
            "\n",
            "--- Interrogando al acta: mesa_2_100524.jpg ---\n",
            "   ❔ Pregunta: 'AP' -> Respuesta: 'AP 500'\n",
            "   ❔ Pregunta: 'APB SÚMATE' -> Respuesta: 'APB SÚMATE WWW.COM'\n",
            "   ❔ Pregunta: 'CODIGO MESA' -> Respuesta: '800'\n",
            "   ❔ Pregunta: 'ELECTORES HABILITADOS' -> Respuesta: 'None'\n",
            "   ❔ Pregunta: 'FP' -> Respuesta: 'FP APRIL'\n",
            "   ❔ Pregunta: 'LIBRE' -> Respuesta: 'LIBRE VADO'\n",
            "   ❔ Pregunta: 'LYP ADN' -> Respuesta: 'LYP ADN TV500'\n",
            "   ❔ Pregunta: 'MAS-IPSP' -> Respuesta: 'MAS-IPSP WWW.GOV'\n",
            "   ❔ Pregunta: 'MESA' -> Respuesta: '880'\n",
            "   ❔ Pregunta: 'MORENA' -> Respuesta: 'MORENA 860'\n",
            "   ❔ Pregunta: 'PAPELETAS EN ÁNFORA' -> Respuesta: '800'\n",
            "   ❔ Pregunta: 'PAPELETAS NO UTILIZADAS' -> Respuesta: 'None'\n",
            "   ❔ Pregunta: 'PDC' -> Respuesta: 'PDC WWW.GOV'\n",
            "   ❔ Pregunta: 'UNIDAD' -> Respuesta: 'UNIDAD PA'\n",
            "   ❔ Pregunta: 'VOTOS BLANCOS' -> Respuesta: 'None'\n",
            "   ❔ Pregunta: 'VOTOS NULOS' -> Respuesta: '860'\n"
          ]
        },
        {
          "name": "stderr",
          "output_type": "stream",
          "text": [
            "\n",
            "Procesando Actas con Donut:  72%|███████▏  | 392/545 [2:54:52<1:08:16, 26.77s/it]\u001b[A"
          ]
        },
        {
          "name": "stdout",
          "output_type": "stream",
          "text": [
            "   ❔ Pregunta: 'VOTOS VÁLIDOS' -> Respuesta: '4'\n",
            "\n",
            "--- Interrogando al acta: mesa_1_100514.jpg ---\n",
            "   ❔ Pregunta: 'AP' -> Respuesta: 'AP 0 2'\n",
            "   ❔ Pregunta: 'APB SÚMATE' -> Respuesta: 'APB SÚMATE 006'\n",
            "   ❔ Pregunta: 'CODIGO MESA' -> Respuesta: '100514'\n",
            "   ❔ Pregunta: 'ELECTORES HABILITADOS' -> Respuesta: '7'\n",
            "   ❔ Pregunta: 'FP' -> Respuesta: 'FP 003'\n",
            "   ❔ Pregunta: 'LIBRE' -> Respuesta: 'LIBRE 014'\n",
            "   ❔ Pregunta: 'LYP ADN' -> Respuesta: 'LYP ADN 002'\n",
            "   ❔ Pregunta: 'MAS-IPSP' -> Respuesta: 'MAS-IPSP 002'\n",
            "   ❔ Pregunta: 'MESA' -> Respuesta: '1'\n",
            "   ❔ Pregunta: 'MORENA' -> Respuesta: 'MORENA 014'\n",
            "   ❔ Pregunta: 'PAPELETAS EN ÁNFORA' -> Respuesta: '95'\n",
            "   ❔ Pregunta: 'PAPELETAS NO UTILIZADAS' -> Respuesta: '188'\n",
            "   ❔ Pregunta: 'PDC' -> Respuesta: 'PDC 034'\n",
            "   ❔ Pregunta: 'UNIDAD' -> Respuesta: 'UNIDAD 008'\n",
            "   ❔ Pregunta: 'VOTOS BLANCOS' -> Respuesta: '1'\n",
            "   ❔ Pregunta: 'VOTOS NULOS' -> Respuesta: '40'\n"
          ]
        },
        {
          "name": "stderr",
          "output_type": "stream",
          "text": [
            "\n",
            "Procesando Actas con Donut:  72%|███████▏  | 393/545 [2:55:19<1:07:40, 26.71s/it]\u001b[A"
          ]
        },
        {
          "name": "stdout",
          "output_type": "stream",
          "text": [
            "   ❔ Pregunta: 'VOTOS VÁLIDOS' -> Respuesta: '91'\n",
            "\n",
            "--- Interrogando al acta: mesa_8_102334.jpg ---\n",
            "   ❔ Pregunta: 'AP' -> Respuesta: 'AP AP'\n",
            "   ❔ Pregunta: 'APB SÚMATE' -> Respuesta: 'APB SÚMATE 010'\n",
            "   ❔ Pregunta: 'CODIGO MESA' -> Respuesta: '102334'\n",
            "   ❔ Pregunta: 'ELECTORES HABILITADOS' -> Respuesta: '3'\n",
            "   ❔ Pregunta: 'FP' -> Respuesta: 'FP 001'\n",
            "   ❔ Pregunta: 'LIBRE' -> Respuesta: 'LIBRE 0'\n",
            "   ❔ Pregunta: 'LYP ADN' -> Respuesta: 'LYP ADN AP'\n",
            "   ❔ Pregunta: 'MAS-IPSP' -> Respuesta: 'MAS-IPSP 0.06'\n",
            "   ❔ Pregunta: 'MESA' -> Respuesta: '8'\n",
            "   ❔ Pregunta: 'MORENA' -> Respuesta: 'MORENA 10'\n",
            "   ❔ Pregunta: 'PAPELETAS EN ÁNFORA' -> Respuesta: '153'\n",
            "   ❔ Pregunta: 'PAPELETAS NO UTILIZADAS' -> Respuesta: '167'\n",
            "   ❔ Pregunta: 'PDC' -> Respuesta: 'PDC 0.28'\n",
            "   ❔ Pregunta: 'UNIDAD' -> Respuesta: 'UNIDAD 006'\n",
            "   ❔ Pregunta: 'VOTOS BLANCOS' -> Respuesta: '6'\n",
            "   ❔ Pregunta: 'VOTOS NULOS' -> Respuesta: '62'\n"
          ]
        },
        {
          "name": "stderr",
          "output_type": "stream",
          "text": [
            "\n",
            "Procesando Actas con Donut:  72%|███████▏  | 394/545 [2:55:46<1:07:09, 26.69s/it]\u001b[A"
          ]
        },
        {
          "name": "stdout",
          "output_type": "stream",
          "text": [
            "   ❔ Pregunta: 'VOTOS VÁLIDOS' -> Respuesta: '85'\n",
            "\n",
            "--- Interrogando al acta: mesa_17_102214.jpg ---\n",
            "   ❔ Pregunta: 'AP' -> Respuesta: 'AP 025'\n",
            "   ❔ Pregunta: 'APB SÚMATE' -> Respuesta: 'APB SÚMATE 006'\n",
            "   ❔ Pregunta: 'CODIGO MESA' -> Respuesta: '17'\n",
            "   ❔ Pregunta: 'ELECTORES HABILITADOS' -> Respuesta: '3'\n",
            "   ❔ Pregunta: 'FP' -> Respuesta: 'FP 001'\n",
            "   ❔ Pregunta: 'LIBRE' -> Respuesta: 'LIBRE 007'\n",
            "   ❔ Pregunta: 'LYP ADN' -> Respuesta: 'LYP ADN AP'\n",
            "   ❔ Pregunta: 'MAS-IPSP' -> Respuesta: 'MAS-IPSP 004'\n",
            "   ❔ Pregunta: 'MESA' -> Respuesta: '17'\n",
            "   ❔ Pregunta: 'MORENA' -> Respuesta: 'MORENA 17'\n",
            "   ❔ Pregunta: 'PAPELETAS EN ÁNFORA' -> Respuesta: '1'\n",
            "   ❔ Pregunta: 'PAPELETAS NO UTILIZADAS' -> Respuesta: '194'\n",
            "   ❔ Pregunta: 'PDC' -> Respuesta: 'PDC 023'\n",
            "   ❔ Pregunta: 'UNIDAD' -> Respuesta: 'UNIDAD 006'\n",
            "   ❔ Pregunta: 'VOTOS BLANCOS' -> Respuesta: '2'\n",
            "   ❔ Pregunta: 'VOTOS NULOS' -> Respuesta: '51'\n"
          ]
        },
        {
          "name": "stderr",
          "output_type": "stream",
          "text": [
            "\n",
            "Procesando Actas con Donut:  72%|███████▏  | 395/545 [2:56:12<1:06:40, 26.67s/it]\u001b[A"
          ]
        },
        {
          "name": "stdout",
          "output_type": "stream",
          "text": [
            "   ❔ Pregunta: 'VOTOS VÁLIDOS' -> Respuesta: '73'\n",
            "\n",
            "--- Interrogando al acta: mesa_3_102374.jpg ---\n",
            "   ❔ Pregunta: 'AP' -> Respuesta: 'AP 0.2'\n",
            "   ❔ Pregunta: 'APB SÚMATE' -> Respuesta: 'APB SÚMATE 0.21'\n",
            "   ❔ Pregunta: 'CODIGO MESA' -> Respuesta: '3'\n",
            "   ❔ Pregunta: 'ELECTORES HABILITADOS' -> Respuesta: '3'\n",
            "   ❔ Pregunta: 'FP' -> Respuesta: 'FP 003'\n",
            "   ❔ Pregunta: 'LIBRE' -> Respuesta: 'LIBRE 0 1'\n",
            "   ❔ Pregunta: 'LYP ADN' -> Respuesta: 'LYP ADN 001'\n",
            "   ❔ Pregunta: 'MAS-IPSP' -> Respuesta: 'MAS-IPSP 004'\n",
            "   ❔ Pregunta: 'MESA' -> Respuesta: '3'\n",
            "   ❔ Pregunta: 'MORENA' -> Respuesta: 'MORENA 17 10'\n",
            "   ❔ Pregunta: 'PAPELETAS EN ÁNFORA' -> Respuesta: '151'\n",
            "   ❔ Pregunta: 'PAPELETAS NO UTILIZADAS' -> Respuesta: '169'\n",
            "   ❔ Pregunta: 'PDC' -> Respuesta: 'PDC 024'\n",
            "   ❔ Pregunta: 'UNIDAD' -> Respuesta: 'UNIDAD 005'\n",
            "   ❔ Pregunta: 'VOTOS BLANCOS' -> Respuesta: '7'\n",
            "   ❔ Pregunta: 'VOTOS NULOS' -> Respuesta: '65'\n"
          ]
        },
        {
          "name": "stderr",
          "output_type": "stream",
          "text": [
            "\n",
            "Procesando Actas con Donut:  73%|███████▎  | 396/545 [2:56:39<1:06:24, 26.74s/it]\u001b[A"
          ]
        },
        {
          "name": "stdout",
          "output_type": "stream",
          "text": [
            "   ❔ Pregunta: 'VOTOS VÁLIDOS' -> Respuesta: '79'\n",
            "\n",
            "--- Interrogando al acta: mesa_2_102364.jpg ---\n",
            "   ❔ Pregunta: 'AP' -> Respuesta: 'AP 024'\n",
            "   ❔ Pregunta: 'APB SÚMATE' -> Respuesta: 'APB SÚMATE 001'\n",
            "   ❔ Pregunta: 'CODIGO MESA' -> Respuesta: '840'\n",
            "   ❔ Pregunta: 'ELECTORES HABILITADOS' -> Respuesta: '3'\n",
            "   ❔ Pregunta: 'FP' -> Respuesta: 'FP 001'\n",
            "   ❔ Pregunta: 'LIBRE' -> Respuesta: 'LIBRE 006'\n",
            "   ❔ Pregunta: 'LYP ADN' -> Respuesta: 'LYP ADN 001'\n",
            "   ❔ Pregunta: 'MAS-IPSP' -> Respuesta: 'MAS-IPSP 004'\n",
            "   ❔ Pregunta: 'MESA' -> Respuesta: '2'\n",
            "   ❔ Pregunta: 'MORENA' -> Respuesta: 'MORENA 0 1'\n",
            "   ❔ Pregunta: 'PAPELETAS EN ÁNFORA' -> Respuesta: '51'\n",
            "   ❔ Pregunta: 'PAPELETAS NO UTILIZADAS' -> Respuesta: '51'\n",
            "   ❔ Pregunta: 'PDC' -> Respuesta: 'PDC 017'\n",
            "   ❔ Pregunta: 'UNIDAD' -> Respuesta: 'UNIDAD 003'\n",
            "   ❔ Pregunta: 'VOTOS BLANCOS' -> Respuesta: '51'\n",
            "   ❔ Pregunta: 'VOTOS NULOS' -> Respuesta: '51'\n"
          ]
        },
        {
          "name": "stderr",
          "output_type": "stream",
          "text": [
            "\n",
            "Procesando Actas con Donut:  73%|███████▎  | 397/545 [2:57:06<1:05:49, 26.69s/it]\u001b[A"
          ]
        },
        {
          "name": "stdout",
          "output_type": "stream",
          "text": [
            "   ❔ Pregunta: 'VOTOS VÁLIDOS' -> Respuesta: '63'\n",
            "\n",
            "--- Interrogando al acta: mesa_11_102244.jpg ---\n",
            "   ❔ Pregunta: 'AP' -> Respuesta: 'AP 0 2'\n",
            "   ❔ Pregunta: 'APB SÚMATE' -> Respuesta: 'APB SÚMATE MESA: 11'\n",
            "   ❔ Pregunta: 'CODIGO MESA' -> Respuesta: '11'\n",
            "   ❔ Pregunta: 'ELECTORES HABILITADOS' -> Respuesta: '3'\n",
            "   ❔ Pregunta: 'FP' -> Respuesta: 'FP 00 2'\n",
            "   ❔ Pregunta: 'LIBRE' -> Respuesta: 'LIBRE 0 8 40'\n",
            "   ❔ Pregunta: 'LYP ADN' -> Respuesta: 'LYP ADN APSUMATE'\n",
            "   ❔ Pregunta: 'MAS-IPSP' -> Respuesta: 'MAS-IPSP 001'\n",
            "   ❔ Pregunta: 'MESA' -> Respuesta: '11'\n",
            "   ❔ Pregunta: 'MORENA' -> Respuesta: 'MORENA 770'\n",
            "   ❔ Pregunta: 'PAPELETAS EN ÁNFORA' -> Respuesta: '710'\n",
            "   ❔ Pregunta: 'PAPELETAS NO UTILIZADAS' -> Respuesta: '270'\n",
            "   ❔ Pregunta: 'PDC' -> Respuesta: 'PDC 0 31'\n",
            "   ❔ Pregunta: 'UNIDAD' -> Respuesta: 'UNIDAD 001'\n",
            "   ❔ Pregunta: 'VOTOS BLANCOS' -> Respuesta: '3'\n",
            "   ❔ Pregunta: 'VOTOS NULOS' -> Respuesta: '40'\n"
          ]
        },
        {
          "name": "stderr",
          "output_type": "stream",
          "text": [
            "\n",
            "Procesando Actas con Donut:  73%|███████▎  | 398/545 [2:57:32<1:05:20, 26.67s/it]\u001b[A"
          ]
        },
        {
          "name": "stdout",
          "output_type": "stream",
          "text": [
            "   ❔ Pregunta: 'VOTOS VÁLIDOS' -> Respuesta: '67'\n",
            "\n",
            "--- Interrogando al acta: mesa_18_102224.jpg ---\n",
            "   ❔ Pregunta: 'AP' -> Respuesta: 'AP 0.9'\n",
            "   ❔ Pregunta: 'APB SÚMATE' -> Respuesta: 'APB SÚMATE MASSA 18'\n",
            "   ❔ Pregunta: 'CODIGO MESA' -> Respuesta: '18'\n",
            "   ❔ Pregunta: 'ELECTORES HABILITADOS' -> Respuesta: '29'\n",
            "   ❔ Pregunta: 'FP' -> Respuesta: 'FP 001'\n",
            "   ❔ Pregunta: 'LIBRE' -> Respuesta: 'LIBRE 003'\n",
            "   ❔ Pregunta: 'LYP ADN' -> Respuesta: 'LYP ADN 001'\n",
            "   ❔ Pregunta: 'MAS-IPSP' -> Respuesta: 'MAS-IPSP 003'\n",
            "   ❔ Pregunta: 'MESA' -> Respuesta: '18'\n",
            "   ❔ Pregunta: 'MORENA' -> Respuesta: 'MORENA 0.3'\n",
            "   ❔ Pregunta: 'PAPELETAS EN ÁNFORA' -> Respuesta: '36'\n",
            "   ❔ Pregunta: 'PAPELETAS NO UTILIZADAS' -> Respuesta: '29'\n",
            "   ❔ Pregunta: 'PDC' -> Respuesta: 'PDC 009'\n",
            "   ❔ Pregunta: 'UNIDAD' -> Respuesta: 'UNIDAD 003'\n",
            "   ❔ Pregunta: 'VOTOS BLANCOS' -> Respuesta: '3'\n",
            "   ❔ Pregunta: 'VOTOS NULOS' -> Respuesta: '36'\n"
          ]
        },
        {
          "name": "stderr",
          "output_type": "stream",
          "text": [
            "\n",
            "Procesando Actas con Donut:  73%|███████▎  | 399/545 [2:57:59<1:04:52, 26.66s/it]\u001b[A"
          ]
        },
        {
          "name": "stdout",
          "output_type": "stream",
          "text": [
            "   ❔ Pregunta: 'VOTOS VÁLIDOS' -> Respuesta: '29'\n",
            "\n",
            "--- Interrogando al acta: mesa_9_102344.jpg ---\n",
            "   ❔ Pregunta: 'AP' -> Respuesta: 'AP 500'\n",
            "   ❔ Pregunta: 'APB SÚMATE' -> Respuesta: 'APB SÚMATE NOVEMBER'\n",
            "   ❔ Pregunta: 'CODIGO MESA' -> Respuesta: 'None'\n",
            "   ❔ Pregunta: 'ELECTORES HABILITADOS' -> Respuesta: '50'\n",
            "   ❔ Pregunta: 'FP' -> Respuesta: 'FP 00'\n",
            "   ❔ Pregunta: 'LIBRE' -> Respuesta: 'LIBRE G20'\n",
            "   ❔ Pregunta: 'LYP ADN' -> Respuesta: 'LYP ADN GW'\n",
            "   ❔ Pregunta: 'MAS-IPSP' -> Respuesta: 'MAS-IPSP EBB'\n",
            "   ❔ Pregunta: 'MESA' -> Respuesta: 'None'\n",
            "   ❔ Pregunta: 'MORENA' -> Respuesta: 'MORENA 800'\n",
            "   ❔ Pregunta: 'PAPELETAS EN ÁNFORA' -> Respuesta: '800'\n",
            "   ❔ Pregunta: 'PAPELETAS NO UTILIZADAS' -> Respuesta: '800'\n",
            "   ❔ Pregunta: 'PDC' -> Respuesta: 'PDC 00'\n",
            "   ❔ Pregunta: 'UNIDAD' -> Respuesta: 'UNIDAD GODFREY PHILLIPS'\n",
            "   ❔ Pregunta: 'VOTOS BLANCOS' -> Respuesta: 'None'\n",
            "   ❔ Pregunta: 'VOTOS NULOS' -> Respuesta: '90'\n"
          ]
        },
        {
          "name": "stderr",
          "output_type": "stream",
          "text": [
            "\n",
            "Procesando Actas con Donut:  73%|███████▎  | 400/545 [2:58:26<1:04:25, 26.66s/it]\u001b[A"
          ]
        },
        {
          "name": "stdout",
          "output_type": "stream",
          "text": [
            "   ❔ Pregunta: 'VOTOS VÁLIDOS' -> Respuesta: 'None'\n",
            "\n",
            "--- Interrogando al acta: mesa_15_102284.jpg ---\n",
            "   ❔ Pregunta: 'AP' -> Respuesta: 'AP 091'\n",
            "   ❔ Pregunta: 'APB SÚMATE' -> Respuesta: 'APB SÚMATE 09.10'\n",
            "   ❔ Pregunta: 'CODIGO MESA' -> Respuesta: '15'\n",
            "   ❔ Pregunta: 'ELECTORES HABILITADOS' -> Respuesta: '7'\n",
            "   ❔ Pregunta: 'FP' -> Respuesta: 'FP 002'\n",
            "   ❔ Pregunta: 'LIBRE' -> Respuesta: 'LIBRE 007'\n",
            "   ❔ Pregunta: 'LYP ADN' -> Respuesta: 'LYP ADN 007'\n",
            "   ❔ Pregunta: 'MAS-IPSP' -> Respuesta: 'MAS-IPSP 000'\n",
            "   ❔ Pregunta: 'MESA' -> Respuesta: '15'\n",
            "   ❔ Pregunta: 'MORENA' -> Respuesta: 'MORENA 719'\n",
            "   ❔ Pregunta: 'PAPELETAS EN ÁNFORA' -> Respuesta: '207'\n",
            "   ❔ Pregunta: 'PAPELETAS NO UTILIZADAS' -> Respuesta: '207'\n",
            "   ❔ Pregunta: 'PDC' -> Respuesta: 'PDC 0.23'\n",
            "   ❔ Pregunta: 'UNIDAD' -> Respuesta: 'UNIDAD 006'\n",
            "   ❔ Pregunta: 'VOTOS BLANCOS' -> Respuesta: '3'\n",
            "   ❔ Pregunta: 'VOTOS NULOS' -> Respuesta: '56'\n"
          ]
        },
        {
          "name": "stderr",
          "output_type": "stream",
          "text": [
            "\n",
            "Procesando Actas con Donut:  74%|███████▎  | 401/545 [2:58:52<1:04:05, 26.71s/it]\u001b[A"
          ]
        },
        {
          "name": "stdout",
          "output_type": "stream",
          "text": [
            "   ❔ Pregunta: 'VOTOS VÁLIDOS' -> Respuesta: '60'\n",
            "\n",
            "--- Interrogando al acta: mesa_6_102314.jpg ---\n",
            "   ❔ Pregunta: 'AP' -> Respuesta: 'AP 0 18'\n",
            "   ❔ Pregunta: 'APB SÚMATE' -> Respuesta: 'APB SÚMATE 006'\n",
            "   ❔ Pregunta: 'CODIGO MESA' -> Respuesta: 'None'\n",
            "   ❔ Pregunta: 'ELECTORES HABILITADOS' -> Respuesta: '3'\n",
            "   ❔ Pregunta: 'FP' -> Respuesta: 'FP 004'\n",
            "   ❔ Pregunta: 'LIBRE' -> Respuesta: 'LIBRE 0.18'\n",
            "   ❔ Pregunta: 'LYP ADN' -> Respuesta: 'LYP ADN APB SOMATE'\n",
            "   ❔ Pregunta: 'MAS-IPSP' -> Respuesta: 'MAS-IPSP 001'\n",
            "   ❔ Pregunta: 'MESA' -> Respuesta: '6'\n",
            "   ❔ Pregunta: 'MORENA' -> Respuesta: 'MORENA 188'\n",
            "   ❔ Pregunta: 'PAPELETAS EN ÁNFORA' -> Respuesta: '132'\n",
            "   ❔ Pregunta: 'PAPELETAS NO UTILIZADAS' -> Respuesta: '188'\n",
            "   ❔ Pregunta: 'PDC' -> Respuesta: 'PDC 021'\n",
            "   ❔ Pregunta: 'UNIDAD' -> Respuesta: 'UNIDAD 001'\n",
            "   ❔ Pregunta: 'VOTOS BLANCOS' -> Respuesta: '5'\n",
            "   ❔ Pregunta: 'VOTOS NULOS' -> Respuesta: '67'\n"
          ]
        },
        {
          "name": "stderr",
          "output_type": "stream",
          "text": [
            "\n",
            "Procesando Actas con Donut:  74%|███████▍  | 402/545 [2:59:19<1:03:32, 26.66s/it]\u001b[A"
          ]
        },
        {
          "name": "stdout",
          "output_type": "stream",
          "text": [
            "   ❔ Pregunta: 'VOTOS VÁLIDOS' -> Respuesta: '60'\n",
            "\n",
            "--- Interrogando al acta: mesa_12_102254.jpg ---\n",
            "   ❔ Pregunta: 'AP' -> Respuesta: 'AP 025'\n",
            "   ❔ Pregunta: 'APB SÚMATE' -> Respuesta: 'APB SÚMATE 09.10'\n",
            "   ❔ Pregunta: 'CODIGO MESA' -> Respuesta: '12'\n",
            "   ❔ Pregunta: 'ELECTORES HABILITADOS' -> Respuesta: '3'\n",
            "   ❔ Pregunta: 'FP' -> Respuesta: 'FP 002'\n",
            "   ❔ Pregunta: 'LIBRE' -> Respuesta: 'LIBRE 008'\n",
            "   ❔ Pregunta: 'LYP ADN' -> Respuesta: 'LYP ADN AP'\n",
            "   ❔ Pregunta: 'MAS-IPSP' -> Respuesta: 'MAS-IPSP 004'\n",
            "   ❔ Pregunta: 'MESA' -> Respuesta: '12'\n",
            "   ❔ Pregunta: 'MORENA' -> Respuesta: 'MORENA 09.10'\n",
            "   ❔ Pregunta: 'PAPELETAS EN ÁNFORA' -> Respuesta: '748'\n",
            "   ❔ Pregunta: 'PAPELETAS NO UTILIZADAS' -> Respuesta: '778'\n",
            "   ❔ Pregunta: 'PDC' -> Respuesta: 'PDC 026'\n",
            "   ❔ Pregunta: 'UNIDAD' -> Respuesta: 'UNIDAD 006'\n",
            "   ❔ Pregunta: 'VOTOS BLANCOS' -> Respuesta: '3'\n",
            "   ❔ Pregunta: 'VOTOS NULOS' -> Respuesta: '66'\n"
          ]
        },
        {
          "name": "stderr",
          "output_type": "stream",
          "text": [
            "\n",
            "Procesando Actas con Donut:  74%|███████▍  | 403/545 [2:59:46<1:03:17, 26.74s/it]\u001b[A"
          ]
        },
        {
          "name": "stdout",
          "output_type": "stream",
          "text": [
            "   ❔ Pregunta: 'VOTOS VÁLIDOS' -> Respuesta: '73'\n",
            "\n",
            "--- Interrogando al acta: mesa_4_102294.jpg ---\n",
            "   ❔ Pregunta: 'AP' -> Respuesta: 'AP 018'\n",
            "   ❔ Pregunta: 'APB SÚMATE' -> Respuesta: 'APB SÚMATE 0930'\n",
            "   ❔ Pregunta: 'CODIGO MESA' -> Respuesta: '4'\n",
            "   ❔ Pregunta: 'ELECTORES HABILITADOS' -> Respuesta: '3'\n",
            "   ❔ Pregunta: 'FP' -> Respuesta: 'FP 003'\n",
            "   ❔ Pregunta: 'LIBRE' -> Respuesta: 'LIBRE 003'\n",
            "   ❔ Pregunta: 'LYP ADN' -> Respuesta: 'LYP ADN 001'\n",
            "   ❔ Pregunta: 'MAS-IPSP' -> Respuesta: 'MAS-IPSP 000'\n",
            "   ❔ Pregunta: 'MESA' -> Respuesta: '4'\n",
            "   ❔ Pregunta: 'MORENA' -> Respuesta: 'MORENA 0930'\n",
            "   ❔ Pregunta: 'PAPELETAS EN ÁNFORA' -> Respuesta: '129'\n",
            "   ❔ Pregunta: 'PAPELETAS NO UTILIZADAS' -> Respuesta: '930'\n",
            "   ❔ Pregunta: 'PDC' -> Respuesta: 'PDC 020'\n",
            "   ❔ Pregunta: 'UNIDAD' -> Respuesta: 'UNIDAD 000'\n",
            "   ❔ Pregunta: 'VOTOS BLANCOS' -> Respuesta: '4'\n",
            "   ❔ Pregunta: 'VOTOS NULOS' -> Respuesta: '75'\n"
          ]
        },
        {
          "name": "stderr",
          "output_type": "stream",
          "text": [
            "\n",
            "Procesando Actas con Donut:  74%|███████▍  | 404/545 [3:00:13<1:03:07, 26.86s/it]\u001b[A"
          ]
        },
        {
          "name": "stdout",
          "output_type": "stream",
          "text": [
            "   ❔ Pregunta: 'VOTOS VÁLIDOS' -> Respuesta: '5'\n",
            "\n",
            "--- Interrogando al acta: mesa_1_102354.jpg ---\n",
            "   ❔ Pregunta: 'AP' -> Respuesta: 'AP APB SUMATE'\n",
            "   ❔ Pregunta: 'APB SÚMATE' -> Respuesta: 'APB SÚMATE 09.59'\n",
            "   ❔ Pregunta: 'CODIGO MESA' -> Respuesta: '102354'\n",
            "   ❔ Pregunta: 'ELECTORES HABILITADOS' -> Respuesta: '3'\n",
            "   ❔ Pregunta: 'FP' -> Respuesta: 'FP 003'\n",
            "   ❔ Pregunta: 'LIBRE' -> Respuesta: 'LIBRE 005'\n",
            "   ❔ Pregunta: 'LYP ADN' -> Respuesta: 'LYP ADN APB SUMATE'\n",
            "   ❔ Pregunta: 'MAS-IPSP' -> Respuesta: 'MAS-IPSP 002'\n",
            "   ❔ Pregunta: 'MESA' -> Respuesta: '1'\n",
            "   ❔ Pregunta: 'MORENA' -> Respuesta: 'MORENA 17'\n",
            "   ❔ Pregunta: 'PAPELETAS EN ÁNFORA' -> Respuesta: '146'\n",
            "   ❔ Pregunta: 'PAPELETAS NO UTILIZADAS' -> Respuesta: '176'\n",
            "   ❔ Pregunta: 'PDC' -> Respuesta: 'PDC 021'\n",
            "   ❔ Pregunta: 'UNIDAD' -> Respuesta: 'UNIDAD 006'\n",
            "   ❔ Pregunta: 'VOTOS BLANCOS' -> Respuesta: '1'\n",
            "   ❔ Pregunta: 'VOTOS NULOS' -> Respuesta: '74'\n"
          ]
        },
        {
          "name": "stderr",
          "output_type": "stream",
          "text": [
            "\n",
            "Procesando Actas con Donut:  74%|███████▍  | 405/545 [3:00:40<1:02:44, 26.89s/it]\u001b[A"
          ]
        },
        {
          "name": "stdout",
          "output_type": "stream",
          "text": [
            "   ❔ Pregunta: 'VOTOS VÁLIDOS' -> Respuesta: '71'\n",
            "\n",
            "--- Interrogando al acta: mesa_10_102234.jpg ---\n",
            "   ❔ Pregunta: 'AP' -> Respuesta: 'AP 024'\n",
            "   ❔ Pregunta: 'APB SÚMATE' -> Respuesta: 'APB SÚMATE 001'\n",
            "   ❔ Pregunta: 'CODIGO MESA' -> Respuesta: '10'\n",
            "   ❔ Pregunta: 'ELECTORES HABILITADOS' -> Respuesta: '3'\n",
            "   ❔ Pregunta: 'FP' -> Respuesta: 'FP 002'\n",
            "   ❔ Pregunta: 'LIBRE' -> Respuesta: 'LIBRE 006'\n",
            "   ❔ Pregunta: 'LYP ADN' -> Respuesta: 'LYP ADN 001'\n",
            "   ❔ Pregunta: 'MAS-IPSP' -> Respuesta: 'MAS-IPSP 002'\n",
            "   ❔ Pregunta: 'MESA' -> Respuesta: '10'\n",
            "   ❔ Pregunta: 'MORENA' -> Respuesta: 'MORENA 186'\n",
            "   ❔ Pregunta: 'PAPELETAS EN ÁNFORA' -> Respuesta: '135'\n",
            "   ❔ Pregunta: 'PAPELETAS NO UTILIZADAS' -> Respuesta: '186'\n",
            "   ❔ Pregunta: 'PDC' -> Respuesta: 'PDC 024'\n",
            "   ❔ Pregunta: 'UNIDAD' -> Respuesta: 'UNIDAD 003'\n",
            "   ❔ Pregunta: 'VOTOS BLANCOS' -> Respuesta: '2'\n",
            "   ❔ Pregunta: 'VOTOS NULOS' -> Respuesta: '70'\n"
          ]
        },
        {
          "name": "stderr",
          "output_type": "stream",
          "text": [
            "\n",
            "Procesando Actas con Donut:  74%|███████▍  | 406/545 [3:01:07<1:02:06, 26.81s/it]\u001b[A"
          ]
        },
        {
          "name": "stdout",
          "output_type": "stream",
          "text": [
            "   ❔ Pregunta: 'VOTOS VÁLIDOS' -> Respuesta: '63'\n",
            "\n",
            "--- Interrogando al acta: mesa_13_102264.jpg ---\n",
            "   ❔ Pregunta: 'AP' -> Respuesta: 'AP 015'\n",
            "   ❔ Pregunta: 'APB SÚMATE' -> Respuesta: 'APB SÚMATE 0.15'\n",
            "   ❔ Pregunta: 'CODIGO MESA' -> Respuesta: '13'\n",
            "   ❔ Pregunta: 'ELECTORES HABILITADOS' -> Respuesta: '3'\n",
            "   ❔ Pregunta: 'FP' -> Respuesta: 'FP A3'\n",
            "   ❔ Pregunta: 'LIBRE' -> Respuesta: 'LIBRE A3'\n",
            "   ❔ Pregunta: 'LYP ADN' -> Respuesta: 'LYP ADN 102264'\n",
            "   ❔ Pregunta: 'MAS-IPSP' -> Respuesta: 'MAS-IPSP 015'\n",
            "   ❔ Pregunta: 'MESA' -> Respuesta: '13'\n",
            "   ❔ Pregunta: 'MORENA' -> Respuesta: 'MORENA 795'\n",
            "   ❔ Pregunta: 'PAPELETAS EN ÁNFORA' -> Respuesta: '795'\n",
            "   ❔ Pregunta: 'PAPELETAS NO UTILIZADAS' -> Respuesta: '795'\n",
            "   ❔ Pregunta: 'PDC' -> Respuesta: 'PDC 026'\n",
            "   ❔ Pregunta: 'UNIDAD' -> Respuesta: 'UNIDAD 002'\n",
            "   ❔ Pregunta: 'VOTOS BLANCOS' -> Respuesta: '2'\n",
            "   ❔ Pregunta: 'VOTOS NULOS' -> Respuesta: '62'\n"
          ]
        },
        {
          "name": "stderr",
          "output_type": "stream",
          "text": [
            "\n",
            "Procesando Actas con Donut:  75%|███████▍  | 407/545 [3:01:34<1:01:51, 26.90s/it]\u001b[A"
          ]
        },
        {
          "name": "stdout",
          "output_type": "stream",
          "text": [
            "   ❔ Pregunta: 'VOTOS VÁLIDOS' -> Respuesta: '62'\n",
            "\n",
            "--- Interrogando al acta: mesa_7_102324.jpg ---\n",
            "   ❔ Pregunta: 'AP' -> Respuesta: 'AP 029'\n",
            "   ❔ Pregunta: 'APB SÚMATE' -> Respuesta: 'APB SÚMATE MESA: 7'\n",
            "   ❔ Pregunta: 'CODIGO MESA' -> Respuesta: '7'\n",
            "   ❔ Pregunta: 'ELECTORES HABILITADOS' -> Respuesta: 'None'\n",
            "   ❔ Pregunta: 'FP' -> Respuesta: 'FP 002'\n",
            "   ❔ Pregunta: 'LIBRE' -> Respuesta: 'LIBRE 0.29'\n",
            "   ❔ Pregunta: 'LYP ADN' -> Respuesta: 'LYP ADN LP ADN'\n",
            "   ❔ Pregunta: 'MAS-IPSP' -> Respuesta: 'MAS-IPSP 009'\n",
            "   ❔ Pregunta: 'MESA' -> Respuesta: '7'\n",
            "   ❔ Pregunta: 'MORENA' -> Respuesta: 'MORENA 1 97'\n",
            "   ❔ Pregunta: 'PAPELETAS EN ÁNFORA' -> Respuesta: '29'\n",
            "   ❔ Pregunta: 'PAPELETAS NO UTILIZADAS' -> Respuesta: '29'\n",
            "   ❔ Pregunta: 'PDC' -> Respuesta: 'PDC 0.29'\n",
            "   ❔ Pregunta: 'UNIDAD' -> Respuesta: 'UNIDAD 002'\n",
            "   ❔ Pregunta: 'VOTOS BLANCOS' -> Respuesta: '0'\n",
            "   ❔ Pregunta: 'VOTOS NULOS' -> Respuesta: '68'\n"
          ]
        },
        {
          "name": "stderr",
          "output_type": "stream",
          "text": [
            "\n",
            "Procesando Actas con Donut:  75%|███████▍  | 408/545 [3:02:00<1:01:16, 26.83s/it]\u001b[A"
          ]
        },
        {
          "name": "stdout",
          "output_type": "stream",
          "text": [
            "   ❔ Pregunta: 'VOTOS VÁLIDOS' -> Respuesta: '68'\n",
            "\n",
            "--- Interrogando al acta: mesa_14_102274.jpg ---\n",
            "   ❔ Pregunta: 'AP' -> Respuesta: 'AP MASSA 14'\n",
            "   ❔ Pregunta: 'APB SÚMATE' -> Respuesta: 'APB SÚMATE 0.27'\n",
            "   ❔ Pregunta: 'CODIGO MESA' -> Respuesta: '14'\n",
            "   ❔ Pregunta: 'ELECTORES HABILITADOS' -> Respuesta: '3'\n",
            "   ❔ Pregunta: 'FP' -> Respuesta: 'FP 0.15'\n",
            "   ❔ Pregunta: 'LIBRE' -> Respuesta: 'LIBRE 027'\n",
            "   ❔ Pregunta: 'LYP ADN' -> Respuesta: 'LYP ADN 027'\n",
            "   ❔ Pregunta: 'MAS-IPSP' -> Respuesta: 'MAS-IPSP 000'\n",
            "   ❔ Pregunta: 'MESA' -> Respuesta: '14'\n",
            "   ❔ Pregunta: 'MORENA' -> Respuesta: 'MORENA 796'\n",
            "   ❔ Pregunta: 'PAPELETAS EN ÁNFORA' -> Respuesta: '796'\n",
            "   ❔ Pregunta: 'PAPELETAS NO UTILIZADAS' -> Respuesta: '123456789'\n",
            "   ❔ Pregunta: 'PDC' -> Respuesta: 'PDC 015'\n",
            "   ❔ Pregunta: 'UNIDAD' -> Respuesta: 'UNIDAD 48.15'\n",
            "   ❔ Pregunta: 'VOTOS BLANCOS' -> Respuesta: '0'\n",
            "   ❔ Pregunta: 'VOTOS NULOS' -> Respuesta: '54'\n"
          ]
        },
        {
          "name": "stderr",
          "output_type": "stream",
          "text": [
            "\n",
            "Procesando Actas con Donut:  75%|███████▌  | 409/545 [3:02:27<1:00:40, 26.77s/it]\u001b[A"
          ]
        },
        {
          "name": "stdout",
          "output_type": "stream",
          "text": [
            "   ❔ Pregunta: 'VOTOS VÁLIDOS' -> Respuesta: '724'\n",
            "\n",
            "--- Interrogando al acta: mesa_16_102204.jpg ---\n",
            "   ❔ Pregunta: 'AP' -> Respuesta: 'AP 0.28'\n",
            "   ❔ Pregunta: 'APB SÚMATE' -> Respuesta: 'APB SÚMATE MESA: 16'\n",
            "   ❔ Pregunta: 'CODIGO MESA' -> Respuesta: '16'\n",
            "   ❔ Pregunta: 'ELECTORES HABILITADOS' -> Respuesta: 'None'\n",
            "   ❔ Pregunta: 'FP' -> Respuesta: 'FP 002'\n",
            "   ❔ Pregunta: 'LIBRE' -> Respuesta: 'LIBRE 0.28'\n",
            "   ❔ Pregunta: 'LYP ADN' -> Respuesta: 'LYP ADN APB SUMATE'\n",
            "   ❔ Pregunta: 'MAS-IPSP' -> Respuesta: 'MAS-IPSP 001'\n",
            "   ❔ Pregunta: 'MESA' -> Respuesta: '16'\n",
            "   ❔ Pregunta: 'MORENA' -> Respuesta: 'MORENA 181'\n",
            "   ❔ Pregunta: 'PAPELETAS EN ÁNFORA' -> Respuesta: '1'\n",
            "   ❔ Pregunta: 'PAPELETAS NO UTILIZADAS' -> Respuesta: '28'\n",
            "   ❔ Pregunta: 'PDC' -> Respuesta: 'PDC 025'\n",
            "   ❔ Pregunta: 'UNIDAD' -> Respuesta: 'UNIDAD 0.10'\n",
            "   ❔ Pregunta: 'VOTOS BLANCOS' -> Respuesta: '1'\n",
            "   ❔ Pregunta: 'VOTOS NULOS' -> Respuesta: '52'\n"
          ]
        },
        {
          "name": "stderr",
          "output_type": "stream",
          "text": [
            "\n",
            "Procesando Actas con Donut:  75%|███████▌  | 410/545 [3:02:54<1:00:20, 26.82s/it]\u001b[A"
          ]
        },
        {
          "name": "stdout",
          "output_type": "stream",
          "text": [
            "   ❔ Pregunta: 'VOTOS VÁLIDOS' -> Respuesta: '89'\n",
            "\n",
            "--- Interrogando al acta: mesa_5_102304.jpg ---\n",
            "   ❔ Pregunta: 'AP' -> Respuesta: 'AP AP'\n",
            "   ❔ Pregunta: 'APB SÚMATE' -> Respuesta: 'APB SÚMATE 001'\n",
            "   ❔ Pregunta: 'CODIGO MESA' -> Respuesta: '5'\n",
            "   ❔ Pregunta: 'ELECTORES HABILITADOS' -> Respuesta: 'None'\n",
            "   ❔ Pregunta: 'FP' -> Respuesta: 'FP 005'\n",
            "   ❔ Pregunta: 'LIBRE' -> Respuesta: 'LIBRE 005'\n",
            "   ❔ Pregunta: 'LYP ADN' -> Respuesta: 'LYP ADN 001'\n",
            "   ❔ Pregunta: 'MAS-IPSP' -> Respuesta: 'MAS-IPSP 001'\n",
            "   ❔ Pregunta: 'MESA' -> Respuesta: '5'\n",
            "   ❔ Pregunta: 'MORENA' -> Respuesta: 'MORENA 005'\n",
            "   ❔ Pregunta: 'PAPELETAS EN ÁNFORA' -> Respuesta: '0'\n",
            "   ❔ Pregunta: 'PAPELETAS NO UTILIZADAS' -> Respuesta: '83'\n",
            "   ❔ Pregunta: 'PDC' -> Respuesta: 'PDC 034'\n",
            "   ❔ Pregunta: 'UNIDAD' -> Respuesta: 'UNIDAD 001'\n",
            "   ❔ Pregunta: 'VOTOS BLANCOS' -> Respuesta: '3'\n",
            "   ❔ Pregunta: 'VOTOS NULOS' -> Respuesta: '53'\n"
          ]
        },
        {
          "name": "stderr",
          "output_type": "stream",
          "text": [
            "\n",
            "Procesando Actas con Donut:  75%|███████▌  | 411/545 [3:03:21<59:58, 26.85s/it]  \u001b[A"
          ]
        },
        {
          "name": "stdout",
          "output_type": "stream",
          "text": [
            "   ❔ Pregunta: 'VOTOS VÁLIDOS' -> Respuesta: '53'\n",
            "\n",
            "--- Interrogando al acta: mesa_1_104014.jpg ---\n",
            "   ❔ Pregunta: 'AP' -> Respuesta: 'AP 030'\n",
            "   ❔ Pregunta: 'APB SÚMATE' -> Respuesta: 'APB SÚMATE 001'\n",
            "   ❔ Pregunta: 'CODIGO MESA' -> Respuesta: '1'\n",
            "   ❔ Pregunta: 'ELECTORES HABILITADOS' -> Respuesta: '3'\n",
            "   ❔ Pregunta: 'FP' -> Respuesta: 'FP 000'\n",
            "   ❔ Pregunta: 'LIBRE' -> Respuesta: 'LIBRE 002'\n",
            "   ❔ Pregunta: 'LYP ADN' -> Respuesta: 'LYP ADN 002'\n",
            "   ❔ Pregunta: 'MAS-IPSP' -> Respuesta: 'MAS-IPSP 003'\n",
            "   ❔ Pregunta: 'MESA' -> Respuesta: '1'\n",
            "   ❔ Pregunta: 'MORENA' -> Respuesta: 'MORENA 17 05'\n",
            "   ❔ Pregunta: 'PAPELETAS EN ÁNFORA' -> Respuesta: '900'\n",
            "   ❔ Pregunta: 'PAPELETAS NO UTILIZADAS' -> Respuesta: '25'\n",
            "   ❔ Pregunta: 'PDC' -> Respuesta: 'PDC 008'\n",
            "   ❔ Pregunta: 'UNIDAD' -> Respuesta: 'UNIDAD 002'\n",
            "   ❔ Pregunta: 'VOTOS BLANCOS' -> Respuesta: '12'\n",
            "   ❔ Pregunta: 'VOTOS NULOS' -> Respuesta: '55'\n"
          ]
        },
        {
          "name": "stderr",
          "output_type": "stream",
          "text": [
            "\n",
            "Procesando Actas con Donut:  76%|███████▌  | 412/545 [3:03:48<59:32, 26.86s/it]\u001b[A"
          ]
        },
        {
          "name": "stdout",
          "output_type": "stream",
          "text": [
            "   ❔ Pregunta: 'VOTOS VÁLIDOS' -> Respuesta: '51'\n",
            "\n",
            "--- Interrogando al acta: mesa_2_104024.jpg ---\n",
            "   ❔ Pregunta: 'AP' -> Respuesta: 'AP 083'\n",
            "   ❔ Pregunta: 'APB SÚMATE' -> Respuesta: 'APB SÚMATE 0937'\n",
            "   ❔ Pregunta: 'CODIGO MESA' -> Respuesta: '937'\n",
            "   ❔ Pregunta: 'ELECTORES HABILITADOS' -> Respuesta: '3'\n",
            "   ❔ Pregunta: 'FP' -> Respuesta: 'FP 0937'\n",
            "   ❔ Pregunta: 'LIBRE' -> Respuesta: 'LIBRE 003'\n",
            "   ❔ Pregunta: 'LYP ADN' -> Respuesta: 'LYP ADN 0937'\n",
            "   ❔ Pregunta: 'MAS-IPSP' -> Respuesta: 'MAS-IPSP 002'\n",
            "   ❔ Pregunta: 'MESA' -> Respuesta: '2'\n",
            "   ❔ Pregunta: 'MORENA' -> Respuesta: 'MORENA 0937'\n",
            "   ❔ Pregunta: 'PAPELETAS EN ÁNFORA' -> Respuesta: '83'\n",
            "   ❔ Pregunta: 'PAPELETAS NO UTILIZADAS' -> Respuesta: '937'\n",
            "   ❔ Pregunta: 'PDC' -> Respuesta: 'PDC 011'\n",
            "   ❔ Pregunta: 'UNIDAD' -> Respuesta: 'UNIDAD 004'\n",
            "   ❔ Pregunta: 'VOTOS BLANCOS' -> Respuesta: '3'\n",
            "   ❔ Pregunta: 'VOTOS NULOS' -> Respuesta: '38'\n"
          ]
        },
        {
          "name": "stderr",
          "output_type": "stream",
          "text": [
            "\n",
            "Procesando Actas con Donut:  76%|███████▌  | 413/545 [3:04:15<59:05, 26.86s/it]\u001b[A"
          ]
        },
        {
          "name": "stdout",
          "output_type": "stream",
          "text": [
            "   ❔ Pregunta: 'VOTOS VÁLIDOS' -> Respuesta: '32'\n",
            "\n",
            "--- Interrogando al acta: mesa_3_100304.jpg ---\n",
            "   ❔ Pregunta: 'AP' -> Respuesta: 'AP 024'\n",
            "   ❔ Pregunta: 'APB SÚMATE' -> Respuesta: 'APB SÚMATE 024'\n",
            "   ❔ Pregunta: 'CODIGO MESA' -> Respuesta: 'None'\n",
            "   ❔ Pregunta: 'ELECTORES HABILITADOS' -> Respuesta: '3'\n",
            "   ❔ Pregunta: 'FP' -> Respuesta: 'FP 007'\n",
            "   ❔ Pregunta: 'LIBRE' -> Respuesta: 'LIBRE 0.8'\n",
            "   ❔ Pregunta: 'LYP ADN' -> Respuesta: 'LYP ADN 004'\n",
            "   ❔ Pregunta: 'MAS-IPSP' -> Respuesta: 'MAS-IPSP 00 2'\n",
            "   ❔ Pregunta: 'MESA' -> Respuesta: '3'\n",
            "   ❔ Pregunta: 'MORENA' -> Respuesta: 'MORENA 024'\n",
            "   ❔ Pregunta: 'PAPELETAS EN ÁNFORA' -> Respuesta: '147'\n",
            "   ❔ Pregunta: 'PAPELETAS NO UTILIZADAS' -> Respuesta: '173'\n",
            "   ❔ Pregunta: 'PDC' -> Respuesta: 'PDC 026'\n",
            "   ❔ Pregunta: 'UNIDAD' -> Respuesta: 'UNIDAD 00 7'\n",
            "   ❔ Pregunta: 'VOTOS BLANCOS' -> Respuesta: '7'\n",
            "   ❔ Pregunta: 'VOTOS NULOS' -> Respuesta: '58'\n"
          ]
        },
        {
          "name": "stderr",
          "output_type": "stream",
          "text": [
            "\n",
            "Procesando Actas con Donut:  76%|███████▌  | 414/545 [3:04:41<58:41, 26.88s/it]\u001b[A"
          ]
        },
        {
          "name": "stdout",
          "output_type": "stream",
          "text": [
            "   ❔ Pregunta: 'VOTOS VÁLIDOS' -> Respuesta: '82'\n",
            "\n",
            "--- Interrogando al acta: mesa_7_100344.jpg ---\n",
            "   ❔ Pregunta: 'AP' -> Respuesta: 'AP 016'\n",
            "   ❔ Pregunta: 'APB SÚMATE' -> Respuesta: 'APB SÚMATE 012'\n",
            "   ❔ Pregunta: 'CODIGO MESA' -> Respuesta: '100344'\n",
            "   ❔ Pregunta: 'ELECTORES HABILITADOS' -> Respuesta: '3'\n",
            "   ❔ Pregunta: 'FP' -> Respuesta: 'FP 0.9'\n",
            "   ❔ Pregunta: 'LIBRE' -> Respuesta: 'LIBRE 0.9'\n",
            "   ❔ Pregunta: 'LYP ADN' -> Respuesta: 'LYP ADN APB SUMATE'\n",
            "   ❔ Pregunta: 'MAS-IPSP' -> Respuesta: 'MAS-IPSP 00 2'\n",
            "   ❔ Pregunta: 'MESA' -> Respuesta: '7'\n",
            "   ❔ Pregunta: 'MORENA' -> Respuesta: 'MORENA 17'\n",
            "   ❔ Pregunta: 'PAPELETAS EN ÁNFORA' -> Respuesta: '128'\n",
            "   ❔ Pregunta: 'PAPELETAS NO UTILIZADAS' -> Respuesta: '197'\n",
            "   ❔ Pregunta: 'PDC' -> Respuesta: 'PDC 03'\n",
            "   ❔ Pregunta: 'UNIDAD' -> Respuesta: 'UNIDAD 0.6'\n",
            "   ❔ Pregunta: 'VOTOS BLANCOS' -> Respuesta: '6'\n",
            "   ❔ Pregunta: 'VOTOS NULOS' -> Respuesta: '29'\n"
          ]
        },
        {
          "name": "stderr",
          "output_type": "stream",
          "text": [
            "\n",
            "Procesando Actas con Donut:  76%|███████▌  | 415/545 [3:05:08<58:17, 26.90s/it]\u001b[A"
          ]
        },
        {
          "name": "stdout",
          "output_type": "stream",
          "text": [
            "   ❔ Pregunta: 'VOTOS VÁLIDOS' -> Respuesta: '83'\n",
            "\n",
            "--- Interrogando al acta: mesa_4_100314.jpg ---\n",
            "   ❔ Pregunta: 'AP' -> Respuesta: 'AP APB SUMATE'\n",
            "   ❔ Pregunta: 'APB SÚMATE' -> Respuesta: 'APB SÚMATE MESA: 4'\n",
            "   ❔ Pregunta: 'CODIGO MESA' -> Respuesta: '4'\n",
            "   ❔ Pregunta: 'ELECTORES HABILITADOS' -> Respuesta: '0'\n",
            "   ❔ Pregunta: 'FP' -> Respuesta: 'FP 004'\n",
            "   ❔ Pregunta: 'LIBRE' -> Respuesta: 'LIBRE 0.9'\n",
            "   ❔ Pregunta: 'LYP ADN' -> Respuesta: 'LYP ADN 001'\n",
            "   ❔ Pregunta: 'MAS-IPSP' -> Respuesta: 'MAS-IPSP 0.6'\n",
            "   ❔ Pregunta: 'MESA' -> Respuesta: '4'\n",
            "   ❔ Pregunta: 'MORENA' -> Respuesta: 'MORENA 0 8 00'\n",
            "   ❔ Pregunta: 'PAPELETAS EN ÁNFORA' -> Respuesta: '800'\n",
            "   ❔ Pregunta: 'PAPELETAS NO UTILIZADAS' -> Respuesta: '4'\n",
            "   ❔ Pregunta: 'PDC' -> Respuesta: 'PDC 0.19'\n",
            "   ❔ Pregunta: 'UNIDAD' -> Respuesta: 'UNIDAD 003'\n",
            "   ❔ Pregunta: 'VOTOS BLANCOS' -> Respuesta: '1'\n",
            "   ❔ Pregunta: 'VOTOS NULOS' -> Respuesta: '63'\n"
          ]
        },
        {
          "name": "stderr",
          "output_type": "stream",
          "text": [
            "\n",
            "Procesando Actas con Donut:  76%|███████▋  | 416/545 [3:05:35<57:40, 26.83s/it]\u001b[A"
          ]
        },
        {
          "name": "stdout",
          "output_type": "stream",
          "text": [
            "   ❔ Pregunta: 'VOTOS VÁLIDOS' -> Respuesta: '79'\n",
            "\n",
            "--- Interrogando al acta: mesa_1_100284.jpg ---\n",
            "   ❔ Pregunta: 'AP' -> Respuesta: 'AP 0 31'\n",
            "   ❔ Pregunta: 'APB SÚMATE' -> Respuesta: 'APB SÚMATE 0810'\n",
            "   ❔ Pregunta: 'CODIGO MESA' -> Respuesta: '100284'\n",
            "   ❔ Pregunta: 'ELECTORES HABILITADOS' -> Respuesta: '3'\n",
            "   ❔ Pregunta: 'FP' -> Respuesta: 'FP 002'\n",
            "   ❔ Pregunta: 'LIBRE' -> Respuesta: 'LIBRE 0 31'\n",
            "   ❔ Pregunta: 'LYP ADN' -> Respuesta: 'LYP ADN AP'\n",
            "   ❔ Pregunta: 'MAS-IPSP' -> Respuesta: 'MAS-IPSP 0 1 1'\n",
            "   ❔ Pregunta: 'MESA' -> Respuesta: '1'\n",
            "   ❔ Pregunta: 'MORENA' -> Respuesta: 'MORENA 0 31'\n",
            "   ❔ Pregunta: 'PAPELETAS EN ÁNFORA' -> Respuesta: '149'\n",
            "   ❔ Pregunta: 'PAPELETAS NO UTILIZADAS' -> Respuesta: '8'\n",
            "   ❔ Pregunta: 'PDC' -> Respuesta: 'PDC 023'\n",
            "   ❔ Pregunta: 'UNIDAD' -> Respuesta: 'UNIDAD 006'\n",
            "   ❔ Pregunta: 'VOTOS BLANCOS' -> Respuesta: '8'\n",
            "   ❔ Pregunta: 'VOTOS NULOS' -> Respuesta: '52'\n"
          ]
        },
        {
          "name": "stderr",
          "output_type": "stream",
          "text": [
            "\n",
            "Procesando Actas con Donut:  77%|███████▋  | 417/545 [3:06:02<57:16, 26.85s/it]\u001b[A"
          ]
        },
        {
          "name": "stdout",
          "output_type": "stream",
          "text": [
            "   ❔ Pregunta: 'VOTOS VÁLIDOS' -> Respuesta: '89'\n",
            "\n",
            "--- Interrogando al acta: mesa_2_100294.jpg ---\n",
            "   ❔ Pregunta: 'AP' -> Respuesta: 'AP 0.23'\n",
            "   ❔ Pregunta: 'APB SÚMATE' -> Respuesta: 'APB SÚMATE MOSA 2'\n",
            "   ❔ Pregunta: 'CODIGO MESA' -> Respuesta: '294'\n",
            "   ❔ Pregunta: 'ELECTORES HABILITADOS' -> Respuesta: '3'\n",
            "   ❔ Pregunta: 'FP' -> Respuesta: 'FP 006'\n",
            "   ❔ Pregunta: 'LIBRE' -> Respuesta: 'LIBRE 008'\n",
            "   ❔ Pregunta: 'LYP ADN' -> Respuesta: 'LYP ADN 002'\n",
            "   ❔ Pregunta: 'MAS-IPSP' -> Respuesta: 'MAS-IPSP 008'\n",
            "   ❔ Pregunta: 'MESA' -> Respuesta: '800'\n",
            "   ❔ Pregunta: 'MORENA' -> Respuesta: 'MORENA 0.83'\n",
            "   ❔ Pregunta: 'PAPELETAS EN ÁNFORA' -> Respuesta: '752'\n",
            "   ❔ Pregunta: 'PAPELETAS NO UTILIZADAS' -> Respuesta: '758'\n",
            "   ❔ Pregunta: 'PDC' -> Respuesta: 'PDC 024'\n",
            "   ❔ Pregunta: 'UNIDAD' -> Respuesta: 'UNIDAD 007'\n",
            "   ❔ Pregunta: 'VOTOS BLANCOS' -> Respuesta: '9'\n",
            "   ❔ Pregunta: 'VOTOS NULOS' -> Respuesta: '57'\n"
          ]
        },
        {
          "name": "stderr",
          "output_type": "stream",
          "text": [
            "\n",
            "Procesando Actas con Donut:  77%|███████▋  | 418/545 [3:06:29<56:42, 26.79s/it]\u001b[A"
          ]
        },
        {
          "name": "stdout",
          "output_type": "stream",
          "text": [
            "   ❔ Pregunta: 'VOTOS VÁLIDOS' -> Respuesta: '86'\n",
            "\n",
            "--- Interrogando al acta: mesa_6_100334.jpg ---\n",
            "   ❔ Pregunta: 'AP' -> Respuesta: 'AP 25'\n",
            "   ❔ Pregunta: 'APB SÚMATE' -> Respuesta: 'APB SÚMATE 1'\n",
            "   ❔ Pregunta: 'CODIGO MESA' -> Respuesta: '100334'\n",
            "   ❔ Pregunta: 'ELECTORES HABILITADOS' -> Respuesta: '3'\n",
            "   ❔ Pregunta: 'FP' -> Respuesta: 'FP 7'\n",
            "   ❔ Pregunta: 'LIBRE' -> Respuesta: 'LIBRE 8'\n",
            "   ❔ Pregunta: 'LYP ADN' -> Respuesta: 'LYP ADN APB SUMATE'\n",
            "   ❔ Pregunta: 'MAS-IPSP' -> Respuesta: 'MAS-IPSP 1'\n",
            "   ❔ Pregunta: 'MESA' -> Respuesta: '800'\n",
            "   ❔ Pregunta: 'MORENA' -> Respuesta: 'MORENA 475'\n",
            "   ❔ Pregunta: 'PAPELETAS EN ÁNFORA' -> Respuesta: '7'\n",
            "   ❔ Pregunta: 'PAPELETAS NO UTILIZADAS' -> Respuesta: '55'\n",
            "   ❔ Pregunta: 'PDC' -> Respuesta: 'PDC 26'\n",
            "   ❔ Pregunta: 'UNIDAD' -> Respuesta: 'UNIDAD 8'\n",
            "   ❔ Pregunta: 'VOTOS BLANCOS' -> Respuesta: '1'\n",
            "   ❔ Pregunta: 'VOTOS NULOS' -> Respuesta: '55'\n"
          ]
        },
        {
          "name": "stderr",
          "output_type": "stream",
          "text": [
            "\n",
            "Procesando Actas con Donut:  77%|███████▋  | 419/545 [3:06:55<56:03, 26.70s/it]\u001b[A"
          ]
        },
        {
          "name": "stdout",
          "output_type": "stream",
          "text": [
            "   ❔ Pregunta: 'VOTOS VÁLIDOS' -> Respuesta: '89'\n",
            "\n",
            "--- Interrogando al acta: mesa_5_100324.jpg ---\n",
            "   ❔ Pregunta: 'AP' -> Respuesta: 'AP 020'\n",
            "   ❔ Pregunta: 'APB SÚMATE' -> Respuesta: 'APB SÚMATE 0.10'\n",
            "   ❔ Pregunta: 'CODIGO MESA' -> Respuesta: 'None'\n",
            "   ❔ Pregunta: 'ELECTORES HABILITADOS' -> Respuesta: '3'\n",
            "   ❔ Pregunta: 'FP' -> Respuesta: 'FP 006'\n",
            "   ❔ Pregunta: 'LIBRE' -> Respuesta: 'LIBRE 0.12'\n",
            "   ❔ Pregunta: 'LYP ADN' -> Respuesta: 'LYP ADN 003'\n",
            "   ❔ Pregunta: 'MAS-IPSP' -> Respuesta: 'MAS-IPSP 080'\n",
            "   ❔ Pregunta: 'MESA' -> Respuesta: '5'\n",
            "   ❔ Pregunta: 'MORENA' -> Respuesta: 'MORENA 08.00'\n",
            "   ❔ Pregunta: 'PAPELETAS EN ÁNFORA' -> Respuesta: '782'\n",
            "   ❔ Pregunta: 'PAPELETAS NO UTILIZADAS' -> Respuesta: '782'\n",
            "   ❔ Pregunta: 'PDC' -> Respuesta: 'PDC 026'\n",
            "   ❔ Pregunta: 'UNIDAD' -> Respuesta: 'UNIDAD 007'\n",
            "   ❔ Pregunta: 'VOTOS BLANCOS' -> Respuesta: '2'\n",
            "   ❔ Pregunta: 'VOTOS NULOS' -> Respuesta: '47'\n"
          ]
        },
        {
          "name": "stderr",
          "output_type": "stream",
          "text": [
            "\n",
            "Procesando Actas con Donut:  77%|███████▋  | 420/545 [3:07:22<55:43, 26.75s/it]\u001b[A"
          ]
        },
        {
          "name": "stdout",
          "output_type": "stream",
          "text": [
            "   ❔ Pregunta: 'VOTOS VÁLIDOS' -> Respuesta: '89'\n",
            "\n",
            "--- Interrogando al acta: mesa_2_103774.jpg ---\n",
            "   ❔ Pregunta: 'AP' -> Respuesta: 'AP 0 23'\n",
            "   ❔ Pregunta: 'APB SÚMATE' -> Respuesta: 'APB SÚMATE 007'\n",
            "   ❔ Pregunta: 'CODIGO MESA' -> Respuesta: 'None'\n",
            "   ❔ Pregunta: 'ELECTORES HABILITADOS' -> Respuesta: '3'\n",
            "   ❔ Pregunta: 'FP' -> Respuesta: 'FP 00 2'\n",
            "   ❔ Pregunta: 'LIBRE' -> Respuesta: 'LIBRE 002'\n",
            "   ❔ Pregunta: 'LYP ADN' -> Respuesta: 'LYP ADN APB SOMATE'\n",
            "   ❔ Pregunta: 'MAS-IPSP' -> Respuesta: 'MAS-IPSP 003'\n",
            "   ❔ Pregunta: 'MESA' -> Respuesta: '930'\n",
            "   ❔ Pregunta: 'MORENA' -> Respuesta: 'MORENA 784'\n",
            "   ❔ Pregunta: 'PAPELETAS EN ÁNFORA' -> Respuesta: '734'\n",
            "   ❔ Pregunta: 'PAPELETAS NO UTILIZADAS' -> Respuesta: '784'\n",
            "   ❔ Pregunta: 'PDC' -> Respuesta: 'PDC 017'\n",
            "   ❔ Pregunta: 'UNIDAD' -> Respuesta: 'UNIDAD 003'\n",
            "   ❔ Pregunta: 'VOTOS BLANCOS' -> Respuesta: '8'\n",
            "   ❔ Pregunta: 'VOTOS NULOS' -> Respuesta: '64'\n"
          ]
        },
        {
          "name": "stderr",
          "output_type": "stream",
          "text": [
            "\n",
            "Procesando Actas con Donut:  77%|███████▋  | 421/545 [3:07:49<55:20, 26.78s/it]\u001b[A"
          ]
        },
        {
          "name": "stdout",
          "output_type": "stream",
          "text": [
            "   ❔ Pregunta: 'VOTOS VÁLIDOS' -> Respuesta: '64'\n",
            "\n",
            "--- Interrogando al acta: mesa_4_103794.jpg ---\n",
            "   ❔ Pregunta: 'AP' -> Respuesta: 'AP MOSA'\n",
            "   ❔ Pregunta: 'APB SÚMATE' -> Respuesta: 'APB SÚMATE MOSA 4'\n",
            "   ❔ Pregunta: 'CODIGO MESA' -> Respuesta: 'None'\n",
            "   ❔ Pregunta: 'ELECTORES HABILITADOS' -> Respuesta: '3'\n",
            "   ❔ Pregunta: 'FP' -> Respuesta: 'FP 004'\n",
            "   ❔ Pregunta: 'LIBRE' -> Respuesta: 'LIBRE 0 1 1'\n",
            "   ❔ Pregunta: 'LYP ADN' -> Respuesta: 'LYP ADN APB SUMATE'\n",
            "   ❔ Pregunta: 'MAS-IPSP' -> Respuesta: 'MAS-IPSP 004'\n",
            "   ❔ Pregunta: 'MESA' -> Respuesta: '4'\n",
            "   ❔ Pregunta: 'MORENA' -> Respuesta: 'MORENA 4'\n",
            "   ❔ Pregunta: 'PAPELETAS EN ÁNFORA' -> Respuesta: '419'\n",
            "   ❔ Pregunta: 'PAPELETAS NO UTILIZADAS' -> Respuesta: '201'\n",
            "   ❔ Pregunta: 'PDC' -> Respuesta: 'PDC 014'\n",
            "   ❔ Pregunta: 'UNIDAD' -> Respuesta: 'UNIDAD 006'\n",
            "   ❔ Pregunta: 'VOTOS BLANCOS' -> Respuesta: '4'\n",
            "   ❔ Pregunta: 'VOTOS NULOS' -> Respuesta: '54'\n"
          ]
        },
        {
          "name": "stderr",
          "output_type": "stream",
          "text": [
            "\n",
            "Procesando Actas con Donut:  77%|███████▋  | 422/545 [3:08:15<54:46, 26.72s/it]\u001b[A"
          ]
        },
        {
          "name": "stdout",
          "output_type": "stream",
          "text": [
            "   ❔ Pregunta: 'VOTOS VÁLIDOS' -> Respuesta: '61'\n",
            "\n",
            "--- Interrogando al acta: mesa_3_103784.jpg ---\n",
            "   ❔ Pregunta: 'AP' -> Respuesta: 'AP WWW.GOV'\n",
            "   ❔ Pregunta: 'APB SÚMATE' -> Respuesta: 'APB SÚMATE WWW.GOV'\n",
            "   ❔ Pregunta: 'CODIGO MESA' -> Respuesta: '2010'\n",
            "   ❔ Pregunta: 'ELECTORES HABILITADOS' -> Respuesta: 'None'\n",
            "   ❔ Pregunta: 'FP' -> Respuesta: 'FP WWW.GOV'\n",
            "   ❔ Pregunta: 'LIBRE' -> Respuesta: 'LIBRE WWW.GOV'\n",
            "   ❔ Pregunta: 'LYP ADN' -> Respuesta: 'LYP ADN TV. 8 2001'\n",
            "   ❔ Pregunta: 'MAS-IPSP' -> Respuesta: 'MAS-IPSP WWW.GOV'\n",
            "   ❔ Pregunta: 'MESA' -> Respuesta: '220'\n",
            "   ❔ Pregunta: 'MORENA' -> Respuesta: 'MORENA WWW.GOV'\n",
            "   ❔ Pregunta: 'PAPELETAS EN ÁNFORA' -> Respuesta: '0'\n",
            "   ❔ Pregunta: 'PAPELETAS NO UTILIZADAS' -> Respuesta: '8'\n",
            "   ❔ Pregunta: 'PDC' -> Respuesta: 'PDC TV.8EOL'\n",
            "   ❔ Pregunta: 'UNIDAD' -> Respuesta: 'UNIDAD MARGARINE'\n",
            "   ❔ Pregunta: 'VOTOS BLANCOS' -> Respuesta: 'None'\n",
            "   ❔ Pregunta: 'VOTOS NULOS' -> Respuesta: 'None'\n"
          ]
        },
        {
          "name": "stderr",
          "output_type": "stream",
          "text": [
            "\n",
            "Procesando Actas con Donut:  78%|███████▊  | 423/545 [3:08:42<54:25, 26.77s/it]\u001b[A"
          ]
        },
        {
          "name": "stdout",
          "output_type": "stream",
          "text": [
            "   ❔ Pregunta: 'VOTOS VÁLIDOS' -> Respuesta: '1'\n",
            "\n",
            "--- Interrogando al acta: mesa_7_103824.jpg ---\n",
            "   ❔ Pregunta: 'AP' -> Respuesta: 'AP 043'\n",
            "   ❔ Pregunta: 'APB SÚMATE' -> Respuesta: 'APB SÚMATE 08.45'\n",
            "   ❔ Pregunta: 'CODIGO MESA' -> Respuesta: '103824'\n",
            "   ❔ Pregunta: 'ELECTORES HABILITADOS' -> Respuesta: '3'\n",
            "   ❔ Pregunta: 'FP' -> Respuesta: 'FP 004'\n",
            "   ❔ Pregunta: 'LIBRE' -> Respuesta: 'LIBRE 0.11'\n",
            "   ❔ Pregunta: 'LYP ADN' -> Respuesta: 'LYP ADN 00'\n",
            "   ❔ Pregunta: 'MAS-IPSP' -> Respuesta: 'MAS-IPSP 005'\n",
            "   ❔ Pregunta: 'MESA' -> Respuesta: '7'\n",
            "   ❔ Pregunta: 'MORENA' -> Respuesta: 'MORENA 424'\n",
            "   ❔ Pregunta: 'PAPELETAS EN ÁNFORA' -> Respuesta: '424'\n",
            "   ❔ Pregunta: 'PAPELETAS NO UTILIZADAS' -> Respuesta: '496'\n",
            "   ❔ Pregunta: 'PDC' -> Respuesta: 'PDC 0.23'\n",
            "   ❔ Pregunta: 'UNIDAD' -> Respuesta: 'UNIDAD 004'\n",
            "   ❔ Pregunta: 'VOTOS BLANCOS' -> Respuesta: '3'\n",
            "   ❔ Pregunta: 'VOTOS NULOS' -> Respuesta: '56'\n"
          ]
        },
        {
          "name": "stderr",
          "output_type": "stream",
          "text": [
            "\n",
            "Procesando Actas con Donut:  78%|███████▊  | 424/545 [3:09:09<54:07, 26.84s/it]\u001b[A"
          ]
        },
        {
          "name": "stdout",
          "output_type": "stream",
          "text": [
            "   ❔ Pregunta: 'VOTOS VÁLIDOS' -> Respuesta: '65'\n",
            "\n",
            "--- Interrogando al acta: mesa_5_103804.jpg ---\n",
            "   ❔ Pregunta: 'AP' -> Respuesta: 'AP 020'\n",
            "   ❔ Pregunta: 'APB SÚMATE' -> Respuesta: 'APB SÚMATE MOS-IPSP'\n",
            "   ❔ Pregunta: 'CODIGO MESA' -> Respuesta: 'None'\n",
            "   ❔ Pregunta: 'ELECTORES HABILITADOS' -> Respuesta: '3'\n",
            "   ❔ Pregunta: 'FP' -> Respuesta: 'FP 005'\n",
            "   ❔ Pregunta: 'LIBRE' -> Respuesta: 'LIBRE 007'\n",
            "   ❔ Pregunta: 'LYP ADN' -> Respuesta: 'LYP ADN AP'\n",
            "   ❔ Pregunta: 'MAS-IPSP' -> Respuesta: 'MAS-IPSP 508'\n",
            "   ❔ Pregunta: 'MESA' -> Respuesta: '5'\n",
            "   ❔ Pregunta: 'MORENA' -> Respuesta: 'MORENA 7 4 4 8'\n",
            "   ❔ Pregunta: 'PAPELETAS EN ÁNFORA' -> Respuesta: '448'\n",
            "   ❔ Pregunta: 'PAPELETAS NO UTILIZADAS' -> Respuesta: '172'\n",
            "   ❔ Pregunta: 'PDC' -> Respuesta: 'PDC 0-11'\n",
            "   ❔ Pregunta: 'UNIDAD' -> Respuesta: 'UNIDAD 005'\n",
            "   ❔ Pregunta: 'VOTOS BLANCOS' -> Respuesta: '14'\n",
            "   ❔ Pregunta: 'VOTOS NULOS' -> Respuesta: '74'\n"
          ]
        },
        {
          "name": "stderr",
          "output_type": "stream",
          "text": [
            "\n",
            "Procesando Actas con Donut:  78%|███████▊  | 425/545 [3:09:36<53:45, 26.88s/it]\u001b[A"
          ]
        },
        {
          "name": "stdout",
          "output_type": "stream",
          "text": [
            "   ❔ Pregunta: 'VOTOS VÁLIDOS' -> Respuesta: '64'\n",
            "\n",
            "--- Interrogando al acta: mesa_8_103834.jpg ---\n",
            "   ❔ Pregunta: 'AP' -> Respuesta: 'AP 019'\n",
            "   ❔ Pregunta: 'APB SÚMATE' -> Respuesta: 'APB SÚMATE 0.82'\n",
            "   ❔ Pregunta: 'CODIGO MESA' -> Respuesta: 'None'\n",
            "   ❔ Pregunta: 'ELECTORES HABILITADOS' -> Respuesta: '3'\n",
            "   ❔ Pregunta: 'FP' -> Respuesta: 'FP 002'\n",
            "   ❔ Pregunta: 'LIBRE' -> Respuesta: 'LIBRE 0.9'\n",
            "   ❔ Pregunta: 'LYP ADN' -> Respuesta: 'LYP ADN 003'\n",
            "   ❔ Pregunta: 'MAS-IPSP' -> Respuesta: 'MAS-IPSP 003'\n",
            "   ❔ Pregunta: 'MESA' -> Respuesta: '8'\n",
            "   ❔ Pregunta: 'MORENA' -> Respuesta: 'MORENA 094'\n",
            "   ❔ Pregunta: 'PAPELETAS EN ÁNFORA' -> Respuesta: '97'\n",
            "   ❔ Pregunta: 'PAPELETAS NO UTILIZADAS' -> Respuesta: '82'\n",
            "   ❔ Pregunta: 'PDC' -> Respuesta: 'PDC 0 77'\n",
            "   ❔ Pregunta: 'UNIDAD' -> Respuesta: 'UNIDAD 000'\n",
            "   ❔ Pregunta: 'VOTOS BLANCOS' -> Respuesta: '45'\n",
            "   ❔ Pregunta: 'VOTOS NULOS' -> Respuesta: '49'\n"
          ]
        },
        {
          "name": "stderr",
          "output_type": "stream",
          "text": [
            "\n",
            "Procesando Actas con Donut:  78%|███████▊  | 426/545 [3:10:03<53:22, 26.91s/it]\u001b[A"
          ]
        },
        {
          "name": "stdout",
          "output_type": "stream",
          "text": [
            "   ❔ Pregunta: 'VOTOS VÁLIDOS' -> Respuesta: '45'\n",
            "\n",
            "--- Interrogando al acta: mesa_6_103814.jpg ---\n",
            "   ❔ Pregunta: 'AP' -> Respuesta: 'AP 029'\n",
            "   ❔ Pregunta: 'APB SÚMATE' -> Respuesta: 'APB SÚMATE 09 30'\n",
            "   ❔ Pregunta: 'CODIGO MESA' -> Respuesta: '3'\n",
            "   ❔ Pregunta: 'ELECTORES HABILITADOS' -> Respuesta: '3'\n",
            "   ❔ Pregunta: 'FP' -> Respuesta: 'FP 0.9'\n",
            "   ❔ Pregunta: 'LIBRE' -> Respuesta: 'LIBRE 0.29'\n",
            "   ❔ Pregunta: 'LYP ADN' -> Respuesta: 'LYP ADN AP'\n",
            "   ❔ Pregunta: 'MAS-IPSP' -> Respuesta: 'MAS-IPSP 009'\n",
            "   ❔ Pregunta: 'MESA' -> Respuesta: '6'\n",
            "   ❔ Pregunta: 'MORENA' -> Respuesta: 'MORENA 0.29'\n",
            "   ❔ Pregunta: 'PAPELETAS EN ÁNFORA' -> Respuesta: '157'\n",
            "   ❔ Pregunta: 'PAPELETAS NO UTILIZADAS' -> Respuesta: '763'\n",
            "   ❔ Pregunta: 'PDC' -> Respuesta: 'PDC 011'\n",
            "   ❔ Pregunta: 'UNIDAD' -> Respuesta: 'UNIDAD 008'\n",
            "   ❔ Pregunta: 'VOTOS BLANCOS' -> Respuesta: '5'\n",
            "   ❔ Pregunta: 'VOTOS NULOS' -> Respuesta: '67'\n"
          ]
        },
        {
          "name": "stderr",
          "output_type": "stream",
          "text": [
            "\n",
            "Procesando Actas con Donut:  78%|███████▊  | 427/545 [3:10:30<52:44, 26.82s/it]\u001b[A"
          ]
        },
        {
          "name": "stdout",
          "output_type": "stream",
          "text": [
            "   ❔ Pregunta: 'VOTOS VÁLIDOS' -> Respuesta: '85'\n",
            "\n",
            "--- Interrogando al acta: mesa_1_103764.jpg ---\n",
            "   ❔ Pregunta: 'AP' -> Respuesta: 'AP 030'\n",
            "   ❔ Pregunta: 'APB SÚMATE' -> Respuesta: 'APB SÚMATE 030'\n",
            "   ❔ Pregunta: 'CODIGO MESA' -> Respuesta: '1'\n",
            "   ❔ Pregunta: 'ELECTORES HABILITADOS' -> Respuesta: '3'\n",
            "   ❔ Pregunta: 'FP' -> Respuesta: 'FP 002'\n",
            "   ❔ Pregunta: 'LIBRE' -> Respuesta: 'LIBRE 0 1'\n",
            "   ❔ Pregunta: 'LYP ADN' -> Respuesta: 'LYP ADN 001'\n",
            "   ❔ Pregunta: 'MAS-IPSP' -> Respuesta: 'MAS-IPSP 001'\n",
            "   ❔ Pregunta: 'MESA' -> Respuesta: '1'\n",
            "   ❔ Pregunta: 'MORENA' -> Respuesta: 'MORENA 030'\n",
            "   ❔ Pregunta: 'PAPELETAS EN ÁNFORA' -> Respuesta: '45'\n",
            "   ❔ Pregunta: 'PAPELETAS NO UTILIZADAS' -> Respuesta: '45'\n",
            "   ❔ Pregunta: 'PDC' -> Respuesta: 'PDC 017'\n",
            "   ❔ Pregunta: 'UNIDAD' -> Respuesta: 'UNIDAD 005'\n",
            "   ❔ Pregunta: 'VOTOS BLANCOS' -> Respuesta: '13'\n",
            "   ❔ Pregunta: 'VOTOS NULOS' -> Respuesta: '57'\n"
          ]
        },
        {
          "name": "stderr",
          "output_type": "stream",
          "text": [
            "\n",
            "Procesando Actas con Donut:  79%|███████▊  | 428/545 [3:10:56<52:09, 26.75s/it]\u001b[A"
          ]
        },
        {
          "name": "stdout",
          "output_type": "stream",
          "text": [
            "   ❔ Pregunta: 'VOTOS VÁLIDOS' -> Respuesta: '45'\n",
            "\n",
            "--- Interrogando al acta: mesa_5_102424.jpg ---\n",
            "   ❔ Pregunta: 'AP' -> Respuesta: 'AP 0'\n",
            "   ❔ Pregunta: 'APB SÚMATE' -> Respuesta: 'APB SÚMATE 0.95'\n",
            "   ❔ Pregunta: 'CODIGO MESA' -> Respuesta: '5'\n",
            "   ❔ Pregunta: 'ELECTORES HABILITADOS' -> Respuesta: '3'\n",
            "   ❔ Pregunta: 'FP' -> Respuesta: 'FP 004'\n",
            "   ❔ Pregunta: 'LIBRE' -> Respuesta: 'LIBRE 008'\n",
            "   ❔ Pregunta: 'LYP ADN' -> Respuesta: 'LYP ADN APS COMATE'\n",
            "   ❔ Pregunta: 'MAS-IPSP' -> Respuesta: 'MAS-IPSP 002'\n",
            "   ❔ Pregunta: 'MESA' -> Respuesta: '5'\n",
            "   ❔ Pregunta: 'MORENA' -> Respuesta: 'MORENA 0 1'\n",
            "   ❔ Pregunta: 'PAPELETAS EN ÁNFORA' -> Respuesta: '25'\n",
            "   ❔ Pregunta: 'PAPELETAS NO UTILIZADAS' -> Respuesta: '25'\n",
            "   ❔ Pregunta: 'PDC' -> Respuesta: 'PDC 018'\n",
            "   ❔ Pregunta: 'UNIDAD' -> Respuesta: 'UNIDAD 004'\n",
            "   ❔ Pregunta: 'VOTOS BLANCOS' -> Respuesta: '1'\n",
            "   ❔ Pregunta: 'VOTOS NULOS' -> Respuesta: '58'\n"
          ]
        },
        {
          "name": "stderr",
          "output_type": "stream",
          "text": [
            "\n",
            "Procesando Actas con Donut:  79%|███████▊  | 429/545 [3:11:23<51:51, 26.82s/it]\u001b[A"
          ]
        },
        {
          "name": "stdout",
          "output_type": "stream",
          "text": [
            "   ❔ Pregunta: 'VOTOS VÁLIDOS' -> Respuesta: '52'\n",
            "\n",
            "--- Interrogando al acta: mesa_6_102434.jpg ---\n",
            "   ❔ Pregunta: 'AP' -> Respuesta: 'AP 0.8'\n",
            "   ❔ Pregunta: 'APB SÚMATE' -> Respuesta: 'APB SÚMATE 08.00'\n",
            "   ❔ Pregunta: 'CODIGO MESA' -> Respuesta: '6'\n",
            "   ❔ Pregunta: 'ELECTORES HABILITADOS' -> Respuesta: '3'\n",
            "   ❔ Pregunta: 'FP' -> Respuesta: 'FP 08.00'\n",
            "   ❔ Pregunta: 'LIBRE' -> Respuesta: 'LIBRE 0.10'\n",
            "   ❔ Pregunta: 'LYP ADN' -> Respuesta: 'LYP ADN 08.00'\n",
            "   ❔ Pregunta: 'MAS-IPSP' -> Respuesta: 'MAS-IPSP 08.00'\n",
            "   ❔ Pregunta: 'MESA' -> Respuesta: '6'\n",
            "   ❔ Pregunta: 'MORENA' -> Respuesta: 'MORENA 08.00'\n",
            "   ❔ Pregunta: 'PAPELETAS EN ÁNFORA' -> Respuesta: '83'\n",
            "   ❔ Pregunta: 'PAPELETAS NO UTILIZADAS' -> Respuesta: '8'\n",
            "   ❔ Pregunta: 'PDC' -> Respuesta: 'PDC 036'\n",
            "   ❔ Pregunta: 'UNIDAD' -> Respuesta: 'UNIDAD 005'\n",
            "   ❔ Pregunta: 'VOTOS BLANCOS' -> Respuesta: '8'\n",
            "   ❔ Pregunta: 'VOTOS NULOS' -> Respuesta: '47'\n"
          ]
        },
        {
          "name": "stderr",
          "output_type": "stream",
          "text": [
            "\n",
            "Procesando Actas con Donut:  79%|███████▉  | 430/545 [3:11:50<51:17, 26.76s/it]\u001b[A"
          ]
        },
        {
          "name": "stdout",
          "output_type": "stream",
          "text": [
            "   ❔ Pregunta: 'VOTOS VÁLIDOS' -> Respuesta: '65'\n",
            "\n",
            "--- Interrogando al acta: mesa_2_102394.jpg ---\n",
            "   ❔ Pregunta: 'AP' -> Respuesta: 'AP 0.9'\n",
            "   ❔ Pregunta: 'APB SÚMATE' -> Respuesta: 'APB SÚMATE 0830'\n",
            "   ❔ Pregunta: 'CODIGO MESA' -> Respuesta: 'None'\n",
            "   ❔ Pregunta: 'ELECTORES HABILITADOS' -> Respuesta: '3'\n",
            "   ❔ Pregunta: 'FP' -> Respuesta: 'FP 0830'\n",
            "   ❔ Pregunta: 'LIBRE' -> Respuesta: 'LIBRE 0830'\n",
            "   ❔ Pregunta: 'LYP ADN' -> Respuesta: 'LYP ADN 0830'\n",
            "   ❔ Pregunta: 'MAS-IPSP' -> Respuesta: 'MAS-IPSP 0 0 5'\n",
            "   ❔ Pregunta: 'MESA' -> Respuesta: '2'\n",
            "   ❔ Pregunta: 'MORENA' -> Respuesta: 'MORENA 0830'\n",
            "   ❔ Pregunta: 'PAPELETAS EN ÁNFORA' -> Respuesta: '735'\n",
            "   ❔ Pregunta: 'PAPELETAS NO UTILIZADAS' -> Respuesta: '830'\n",
            "   ❔ Pregunta: 'PDC' -> Respuesta: 'PDC 025'\n",
            "   ❔ Pregunta: 'UNIDAD' -> Respuesta: 'UNIDAD 005'\n",
            "   ❔ Pregunta: 'VOTOS BLANCOS' -> Respuesta: '4'\n",
            "   ❔ Pregunta: 'VOTOS NULOS' -> Respuesta: '50'\n"
          ]
        },
        {
          "name": "stderr",
          "output_type": "stream",
          "text": [
            "\n",
            "Procesando Actas con Donut:  79%|███████▉  | 431/545 [3:12:17<50:47, 26.73s/it]\u001b[A"
          ]
        },
        {
          "name": "stdout",
          "output_type": "stream",
          "text": [
            "   ❔ Pregunta: 'VOTOS VÁLIDOS' -> Respuesta: '87'\n",
            "\n",
            "--- Interrogando al acta: mesa_4_102414.jpg ---\n",
            "   ❔ Pregunta: 'AP' -> Respuesta: 'AP 0 2'\n",
            "   ❔ Pregunta: 'APB SÚMATE' -> Respuesta: 'APB SÚMATE 002'\n",
            "   ❔ Pregunta: 'CODIGO MESA' -> Respuesta: '4'\n",
            "   ❔ Pregunta: 'ELECTORES HABILITADOS' -> Respuesta: '3'\n",
            "   ❔ Pregunta: 'FP' -> Respuesta: 'FP 003'\n",
            "   ❔ Pregunta: 'LIBRE' -> Respuesta: 'LIBRE 00 7'\n",
            "   ❔ Pregunta: 'LYP ADN' -> Respuesta: 'LYP ADN 00 2'\n",
            "   ❔ Pregunta: 'MAS-IPSP' -> Respuesta: 'MAS-IPSP 003'\n",
            "   ❔ Pregunta: 'MESA' -> Respuesta: '4'\n",
            "   ❔ Pregunta: 'MORENA' -> Respuesta: 'MORENA 732'\n",
            "   ❔ Pregunta: 'PAPELETAS EN ÁNFORA' -> Respuesta: '75'\n",
            "   ❔ Pregunta: 'PAPELETAS NO UTILIZADAS' -> Respuesta: '732'\n",
            "   ❔ Pregunta: 'PDC' -> Respuesta: 'PDC 020'\n",
            "   ❔ Pregunta: 'UNIDAD' -> Respuesta: 'UNIDAD 005'\n",
            "   ❔ Pregunta: 'VOTOS BLANCOS' -> Respuesta: '4'\n",
            "   ❔ Pregunta: 'VOTOS NULOS' -> Respuesta: '63'\n"
          ]
        },
        {
          "name": "stderr",
          "output_type": "stream",
          "text": [
            "\n",
            "Procesando Actas con Donut:  79%|███████▉  | 432/545 [3:12:44<50:26, 26.78s/it]\u001b[A"
          ]
        },
        {
          "name": "stdout",
          "output_type": "stream",
          "text": [
            "   ❔ Pregunta: 'VOTOS VÁLIDOS' -> Respuesta: '65'\n",
            "\n",
            "--- Interrogando al acta: mesa_3_102404.jpg ---\n",
            "   ❔ Pregunta: 'AP' -> Respuesta: 'AP 027'\n",
            "   ❔ Pregunta: 'APB SÚMATE' -> Respuesta: 'APB SÚMATE 0.27'\n",
            "   ❔ Pregunta: 'CODIGO MESA' -> Respuesta: '3'\n",
            "   ❔ Pregunta: 'ELECTORES HABILITADOS' -> Respuesta: '3'\n",
            "   ❔ Pregunta: 'FP' -> Respuesta: 'FP 001'\n",
            "   ❔ Pregunta: 'LIBRE' -> Respuesta: 'LIBRE 027'\n",
            "   ❔ Pregunta: 'LYP ADN' -> Respuesta: 'LYP ADN 005'\n",
            "   ❔ Pregunta: 'MAS-IPSP' -> Respuesta: 'MAS-IPSP 001'\n",
            "   ❔ Pregunta: 'MESA' -> Respuesta: '3'\n",
            "   ❔ Pregunta: 'MORENA' -> Respuesta: 'MORENA 0.27'\n",
            "   ❔ Pregunta: 'PAPELETAS EN ÁNFORA' -> Respuesta: '31'\n",
            "   ❔ Pregunta: 'PAPELETAS NO UTILIZADAS' -> Respuesta: '30'\n",
            "   ❔ Pregunta: 'PDC' -> Respuesta: 'PDC 030'\n",
            "   ❔ Pregunta: 'UNIDAD' -> Respuesta: 'UNIDAD 0.9'\n",
            "   ❔ Pregunta: 'VOTOS BLANCOS' -> Respuesta: '2'\n",
            "   ❔ Pregunta: 'VOTOS NULOS' -> Respuesta: '5'\n"
          ]
        },
        {
          "name": "stderr",
          "output_type": "stream",
          "text": [
            "\n",
            "Procesando Actas con Donut:  79%|███████▉  | 433/545 [3:13:11<50:09, 26.87s/it]\u001b[A"
          ]
        },
        {
          "name": "stdout",
          "output_type": "stream",
          "text": [
            "   ❔ Pregunta: 'VOTOS VÁLIDOS' -> Respuesta: '79'\n",
            "\n",
            "--- Interrogando al acta: mesa_7_102444.jpg ---\n",
            "   ❔ Pregunta: 'AP' -> Respuesta: 'AP 0 22'\n",
            "   ❔ Pregunta: 'APB SÚMATE' -> Respuesta: 'APB SÚMATE 006'\n",
            "   ❔ Pregunta: 'CODIGO MESA' -> Respuesta: '7'\n",
            "   ❔ Pregunta: 'ELECTORES HABILITADOS' -> Respuesta: '3'\n",
            "   ❔ Pregunta: 'FP' -> Respuesta: 'FP 005'\n",
            "   ❔ Pregunta: 'LIBRE' -> Respuesta: 'LIBRE 006'\n",
            "   ❔ Pregunta: 'LYP ADN' -> Respuesta: 'LYP ADN 00'\n",
            "   ❔ Pregunta: 'MAS-IPSP' -> Respuesta: 'MAS-IPSP 003'\n",
            "   ❔ Pregunta: 'MESA' -> Respuesta: '7'\n",
            "   ❔ Pregunta: 'MORENA' -> Respuesta: 'MORENA 0.22'\n",
            "   ❔ Pregunta: 'PAPELETAS EN ÁNFORA' -> Respuesta: '6'\n",
            "   ❔ Pregunta: 'PAPELETAS NO UTILIZADAS' -> Respuesta: '60'\n",
            "   ❔ Pregunta: 'PDC' -> Respuesta: 'PDC 017'\n",
            "   ❔ Pregunta: 'UNIDAD' -> Respuesta: 'UNIDAD 002'\n",
            "   ❔ Pregunta: 'VOTOS BLANCOS' -> Respuesta: '0'\n",
            "   ❔ Pregunta: 'VOTOS NULOS' -> Respuesta: '60'\n"
          ]
        },
        {
          "name": "stderr",
          "output_type": "stream",
          "text": [
            "\n",
            "Procesando Actas con Donut:  80%|███████▉  | 434/545 [3:13:38<49:48, 26.93s/it]\u001b[A"
          ]
        },
        {
          "name": "stdout",
          "output_type": "stream",
          "text": [
            "   ❔ Pregunta: 'VOTOS VÁLIDOS' -> Respuesta: '61'\n",
            "\n",
            "--- Interrogando al acta: mesa_1_102384.jpg ---\n",
            "   ❔ Pregunta: 'AP' -> Respuesta: 'AP 018'\n",
            "   ❔ Pregunta: 'APB SÚMATE' -> Respuesta: 'APB SÚMATE 006'\n",
            "   ❔ Pregunta: 'CODIGO MESA' -> Respuesta: '1'\n",
            "   ❔ Pregunta: 'ELECTORES HABILITADOS' -> Respuesta: '3'\n",
            "   ❔ Pregunta: 'FP' -> Respuesta: 'FP 08 15'\n",
            "   ❔ Pregunta: 'LIBRE' -> Respuesta: 'LIBRE 018'\n",
            "   ❔ Pregunta: 'LYP ADN' -> Respuesta: 'LYP ADN 00'\n",
            "   ❔ Pregunta: 'MAS-IPSP' -> Respuesta: 'MAS-IPSP 003'\n",
            "   ❔ Pregunta: 'MESA' -> Respuesta: '1'\n",
            "   ❔ Pregunta: 'MORENA' -> Respuesta: 'MORENA 770S'\n",
            "   ❔ Pregunta: 'PAPELETAS EN ÁNFORA' -> Respuesta: '719'\n",
            "   ❔ Pregunta: 'PAPELETAS NO UTILIZADAS' -> Respuesta: '29'\n",
            "   ❔ Pregunta: 'PDC' -> Respuesta: 'PDC 020'\n",
            "   ❔ Pregunta: 'UNIDAD' -> Respuesta: 'UNIDAD 006'\n",
            "   ❔ Pregunta: 'VOTOS BLANCOS' -> Respuesta: '3'\n",
            "   ❔ Pregunta: 'VOTOS NULOS' -> Respuesta: '49'\n"
          ]
        },
        {
          "name": "stderr",
          "output_type": "stream",
          "text": [
            "\n",
            "Procesando Actas con Donut:  80%|███████▉  | 435/545 [3:14:04<49:13, 26.85s/it]\u001b[A"
          ]
        },
        {
          "name": "stdout",
          "output_type": "stream",
          "text": [
            "   ❔ Pregunta: 'VOTOS VÁLIDOS' -> Respuesta: '6'\n",
            "\n",
            "--- Interrogando al acta: mesa_8_102454.jpg ---\n",
            "   ❔ Pregunta: 'AP' -> Respuesta: 'AP 0 2'\n",
            "   ❔ Pregunta: 'APB SÚMATE' -> Respuesta: 'APB SÚMATE 0804'\n",
            "   ❔ Pregunta: 'CODIGO MESA' -> Respuesta: '8'\n",
            "   ❔ Pregunta: 'ELECTORES HABILITADOS' -> Respuesta: '3'\n",
            "   ❔ Pregunta: 'FP' -> Respuesta: 'FP 000'\n",
            "   ❔ Pregunta: 'LIBRE' -> Respuesta: 'LIBRE 001'\n",
            "   ❔ Pregunta: 'LYP ADN' -> Respuesta: 'LYP ADN 004'\n",
            "   ❔ Pregunta: 'MAS-IPSP' -> Respuesta: 'MAS-IPSP 0 00'\n",
            "   ❔ Pregunta: 'MESA' -> Respuesta: '8'\n",
            "   ❔ Pregunta: 'MORENA' -> Respuesta: 'MORENA 0804'\n",
            "   ❔ Pregunta: 'PAPELETAS EN ÁNFORA' -> Respuesta: '76'\n",
            "   ❔ Pregunta: 'PAPELETAS NO UTILIZADAS' -> Respuesta: '50'\n",
            "   ❔ Pregunta: 'PDC' -> Respuesta: 'PDC 005'\n",
            "   ❔ Pregunta: 'UNIDAD' -> Respuesta: 'UNIDAD 002'\n",
            "   ❔ Pregunta: 'VOTOS BLANCOS' -> Respuesta: '1'\n",
            "   ❔ Pregunta: 'VOTOS NULOS' -> Respuesta: '8'\n"
          ]
        },
        {
          "name": "stderr",
          "output_type": "stream",
          "text": [
            "\n",
            "Procesando Actas con Donut:  80%|████████  | 436/545 [3:14:31<48:52, 26.90s/it]\u001b[A"
          ]
        },
        {
          "name": "stdout",
          "output_type": "stream",
          "text": [
            "   ❔ Pregunta: 'VOTOS VÁLIDOS' -> Respuesta: '17'\n",
            "\n",
            "--- Interrogando al acta: mesa_1_103984.jpg ---\n",
            "   ❔ Pregunta: 'AP' -> Respuesta: 'AP 680501'\n",
            "   ❔ Pregunta: 'APB SÚMATE' -> Respuesta: 'APB SÚMATE 001'\n",
            "   ❔ Pregunta: 'CODIGO MESA' -> Respuesta: '1'\n",
            "   ❔ Pregunta: 'ELECTORES HABILITADOS' -> Respuesta: '91'\n",
            "   ❔ Pregunta: 'FP' -> Respuesta: 'FP 0.19'\n",
            "   ❔ Pregunta: 'LIBRE' -> Respuesta: 'LIBRE M.A.'\n",
            "   ❔ Pregunta: 'LYP ADN' -> Respuesta: 'LYP ADN 0.19'\n",
            "   ❔ Pregunta: 'MAS-IPSP' -> Respuesta: 'MAS-IPSP 003'\n",
            "   ❔ Pregunta: 'MESA' -> Respuesta: '1'\n",
            "   ❔ Pregunta: 'MORENA' -> Respuesta: 'MORENA 0.19'\n",
            "   ❔ Pregunta: 'PAPELETAS EN ÁNFORA' -> Respuesta: 'None'\n",
            "   ❔ Pregunta: 'PAPELETAS NO UTILIZADAS' -> Respuesta: '5'\n",
            "   ❔ Pregunta: 'PDC' -> Respuesta: 'PDC 004'\n",
            "   ❔ Pregunta: 'UNIDAD' -> Respuesta: 'UNIDAD 0.9'\n",
            "   ❔ Pregunta: 'VOTOS BLANCOS' -> Respuesta: '9'\n",
            "   ❔ Pregunta: 'VOTOS NULOS' -> Respuesta: '32'\n"
          ]
        },
        {
          "name": "stderr",
          "output_type": "stream",
          "text": [
            "\n",
            "Procesando Actas con Donut:  80%|████████  | 437/545 [3:14:58<48:20, 26.86s/it]\u001b[A"
          ]
        },
        {
          "name": "stdout",
          "output_type": "stream",
          "text": [
            "   ❔ Pregunta: 'VOTOS VÁLIDOS' -> Respuesta: '1'\n",
            "\n",
            "--- Interrogando al acta: mesa_2_103994.jpg ---\n",
            "   ❔ Pregunta: 'AP' -> Respuesta: 'AP 0.81'\n",
            "   ❔ Pregunta: 'APB SÚMATE' -> Respuesta: 'APB SÚMATE 086'\n",
            "   ❔ Pregunta: 'CODIGO MESA' -> Respuesta: '80'\n",
            "   ❔ Pregunta: 'ELECTORES HABILITADOS' -> Respuesta: '3'\n",
            "   ❔ Pregunta: 'FP' -> Respuesta: 'FP 002'\n",
            "   ❔ Pregunta: 'LIBRE' -> Respuesta: 'LIBRE 0.11'\n",
            "   ❔ Pregunta: 'LYP ADN' -> Respuesta: 'LYP ADN 086'\n",
            "   ❔ Pregunta: 'MAS-IPSP' -> Respuesta: 'MAS-IPSP 003'\n",
            "   ❔ Pregunta: 'MESA' -> Respuesta: '86'\n",
            "   ❔ Pregunta: 'MORENA' -> Respuesta: 'MORENA 0.11'\n",
            "   ❔ Pregunta: 'PAPELETAS EN ÁNFORA' -> Respuesta: '15'\n",
            "   ❔ Pregunta: 'PAPELETAS NO UTILIZADAS' -> Respuesta: '8'\n",
            "   ❔ Pregunta: 'PDC' -> Respuesta: 'PDC 015'\n",
            "   ❔ Pregunta: 'UNIDAD' -> Respuesta: 'UNIDAD 004'\n",
            "   ❔ Pregunta: 'VOTOS BLANCOS' -> Respuesta: '6'\n",
            "   ❔ Pregunta: 'VOTOS NULOS' -> Respuesta: '29'\n"
          ]
        },
        {
          "name": "stderr",
          "output_type": "stream",
          "text": [
            "\n",
            "Procesando Actas con Donut:  80%|████████  | 438/545 [3:15:25<47:50, 26.83s/it]\u001b[A"
          ]
        },
        {
          "name": "stdout",
          "output_type": "stream",
          "text": [
            "   ❔ Pregunta: 'VOTOS VÁLIDOS' -> Respuesta: '51'\n",
            "\n",
            "--- Interrogando al acta: mesa_3_104004.jpg ---\n",
            "   ❔ Pregunta: 'AP' -> Respuesta: 'AP 0.76'\n",
            "   ❔ Pregunta: 'APB SÚMATE' -> Respuesta: 'APB SÚMATE 0.36'\n",
            "   ❔ Pregunta: 'CODIGO MESA' -> Respuesta: '3'\n",
            "   ❔ Pregunta: 'ELECTORES HABILITADOS' -> Respuesta: '3'\n",
            "   ❔ Pregunta: 'FP' -> Respuesta: 'FP 08.00'\n",
            "   ❔ Pregunta: 'LIBRE' -> Respuesta: 'LIBRE 08.00'\n",
            "   ❔ Pregunta: 'LYP ADN' -> Respuesta: 'LYP ADN 080'\n",
            "   ❔ Pregunta: 'MAS-IPSP' -> Respuesta: 'MAS-IPSP 001'\n",
            "   ❔ Pregunta: 'MESA' -> Respuesta: '3'\n",
            "   ❔ Pregunta: 'MORENA' -> Respuesta: 'MORENA 1610'\n",
            "   ❔ Pregunta: 'PAPELETAS EN ÁNFORA' -> Respuesta: '76'\n",
            "   ❔ Pregunta: 'PAPELETAS NO UTILIZADAS' -> Respuesta: '76'\n",
            "   ❔ Pregunta: 'PDC' -> Respuesta: 'PDC 014'\n",
            "   ❔ Pregunta: 'UNIDAD' -> Respuesta: 'UNIDAD 06'\n",
            "   ❔ Pregunta: 'VOTOS BLANCOS' -> Respuesta: '26'\n",
            "   ❔ Pregunta: 'VOTOS NULOS' -> Respuesta: '26'\n"
          ]
        },
        {
          "name": "stderr",
          "output_type": "stream",
          "text": [
            "\n",
            "Procesando Actas con Donut:  81%|████████  | 439/545 [3:15:52<47:28, 26.87s/it]\u001b[A"
          ]
        },
        {
          "name": "stdout",
          "output_type": "stream",
          "text": [
            "   ❔ Pregunta: 'VOTOS VÁLIDOS' -> Respuesta: '76'\n",
            "\n",
            "--- Interrogando al acta: mesa_2_101664.jpg ---\n",
            "   ❔ Pregunta: 'AP' -> Respuesta: 'AP 0.20'\n",
            "   ❔ Pregunta: 'APB SÚMATE' -> Respuesta: 'APB SÚMATE 005'\n",
            "   ❔ Pregunta: 'CODIGO MESA' -> Respuesta: 'None'\n",
            "   ❔ Pregunta: 'ELECTORES HABILITADOS' -> Respuesta: '3'\n",
            "   ❔ Pregunta: 'FP' -> Respuesta: 'FP 000'\n",
            "   ❔ Pregunta: 'LIBRE' -> Respuesta: 'LIBRE 0.20'\n",
            "   ❔ Pregunta: 'LYP ADN' -> Respuesta: 'LYP ADN MESA: 2'\n",
            "   ❔ Pregunta: 'MAS-IPSP' -> Respuesta: 'MAS-IPSP 005'\n",
            "   ❔ Pregunta: 'MESA' -> Respuesta: '2'\n",
            "   ❔ Pregunta: 'MORENA' -> Respuesta: 'MORENA 4383.56'\n",
            "   ❔ Pregunta: 'PAPELETAS EN ÁNFORA' -> Respuesta: '203'\n",
            "   ❔ Pregunta: 'PAPELETAS NO UTILIZADAS' -> Respuesta: '207'\n",
            "   ❔ Pregunta: 'PDC' -> Respuesta: 'PDC 0.19'\n",
            "   ❔ Pregunta: 'UNIDAD' -> Respuesta: 'UNIDAD 009'\n",
            "   ❔ Pregunta: 'VOTOS BLANCOS' -> Respuesta: '39'\n",
            "   ❔ Pregunta: 'VOTOS NULOS' -> Respuesta: '39'\n"
          ]
        },
        {
          "name": "stderr",
          "output_type": "stream",
          "text": [
            "\n",
            "Procesando Actas con Donut:  81%|████████  | 440/545 [3:16:19<46:53, 26.79s/it]\u001b[A"
          ]
        },
        {
          "name": "stdout",
          "output_type": "stream",
          "text": [
            "   ❔ Pregunta: 'VOTOS VÁLIDOS' -> Respuesta: '72'\n",
            "\n",
            "--- Interrogando al acta: mesa_4_101684.jpg ---\n",
            "   ❔ Pregunta: 'AP' -> Respuesta: 'AP 021'\n",
            "   ❔ Pregunta: 'APB SÚMATE' -> Respuesta: 'APB SÚMATE 0820'\n",
            "   ❔ Pregunta: 'CODIGO MESA' -> Respuesta: '4'\n",
            "   ❔ Pregunta: 'ELECTORES HABILITADOS' -> Respuesta: '3'\n",
            "   ❔ Pregunta: 'FP' -> Respuesta: 'FP 001'\n",
            "   ❔ Pregunta: 'LIBRE' -> Respuesta: 'LIBRE 007'\n",
            "   ❔ Pregunta: 'LYP ADN' -> Respuesta: 'LYP ADN AP'\n",
            "   ❔ Pregunta: 'MAS-IPSP' -> Respuesta: 'MAS-IPSP 004'\n",
            "   ❔ Pregunta: 'MESA' -> Respuesta: '4'\n",
            "   ❔ Pregunta: 'MORENA' -> Respuesta: 'MORENA 435964'\n",
            "   ❔ Pregunta: 'PAPELETAS EN ÁNFORA' -> Respuesta: '83'\n",
            "   ❔ Pregunta: 'PAPELETAS NO UTILIZADAS' -> Respuesta: '491'\n",
            "   ❔ Pregunta: 'PDC' -> Respuesta: 'PDC 029'\n",
            "   ❔ Pregunta: 'UNIDAD' -> Respuesta: 'UNIDAD 003'\n",
            "   ❔ Pregunta: 'VOTOS BLANCOS' -> Respuesta: '3'\n",
            "   ❔ Pregunta: 'VOTOS NULOS' -> Respuesta: '49'\n"
          ]
        },
        {
          "name": "stderr",
          "output_type": "stream",
          "text": [
            "\n",
            "Procesando Actas con Donut:  81%|████████  | 441/545 [3:16:45<46:29, 26.82s/it]\u001b[A"
          ]
        },
        {
          "name": "stdout",
          "output_type": "stream",
          "text": [
            "   ❔ Pregunta: 'VOTOS VÁLIDOS' -> Respuesta: '7'\n",
            "\n",
            "--- Interrogando al acta: mesa_1_101654.jpg ---\n",
            "   ❔ Pregunta: 'AP' -> Respuesta: 'AP 0 28'\n",
            "   ❔ Pregunta: 'APB SÚMATE' -> Respuesta: 'APB SÚMATE 0 1 4'\n",
            "   ❔ Pregunta: 'CODIGO MESA' -> Respuesta: 'None'\n",
            "   ❔ Pregunta: 'ELECTORES HABILITADOS' -> Respuesta: '3'\n",
            "   ❔ Pregunta: 'FP' -> Respuesta: 'FP 002'\n",
            "   ❔ Pregunta: 'LIBRE' -> Respuesta: 'LIBRE 006'\n",
            "   ❔ Pregunta: 'LYP ADN' -> Respuesta: 'LYP ADN APB SUMATE'\n",
            "   ❔ Pregunta: 'MAS-IPSP' -> Respuesta: 'MAS-IPSP 0 1 4'\n",
            "   ❔ Pregunta: 'MESA' -> Respuesta: '1'\n",
            "   ❔ Pregunta: 'MORENA' -> Respuesta: 'MORENA 028'\n",
            "   ❔ Pregunta: 'PAPELETAS EN ÁNFORA' -> Respuesta: '83'\n",
            "   ❔ Pregunta: 'PAPELETAS NO UTILIZADAS' -> Respuesta: '203'\n",
            "   ❔ Pregunta: 'PDC' -> Respuesta: 'PDC 038'\n",
            "   ❔ Pregunta: 'UNIDAD' -> Respuesta: 'UNIDAD 009'\n",
            "   ❔ Pregunta: 'VOTOS BLANCOS' -> Respuesta: '4'\n",
            "   ❔ Pregunta: 'VOTOS NULOS' -> Respuesta: '35'\n"
          ]
        },
        {
          "name": "stderr",
          "output_type": "stream",
          "text": [
            "\n",
            "Procesando Actas con Donut:  81%|████████  | 442/545 [3:17:12<45:59, 26.79s/it]\u001b[A"
          ]
        },
        {
          "name": "stdout",
          "output_type": "stream",
          "text": [
            "   ❔ Pregunta: 'VOTOS VÁLIDOS' -> Respuesta: '78'\n",
            "\n",
            "--- Interrogando al acta: mesa_3_101674.jpg ---\n",
            "   ❔ Pregunta: 'AP' -> Respuesta: 'AP 026'\n",
            "   ❔ Pregunta: 'APB SÚMATE' -> Respuesta: 'APB SÚMATE 08/15'\n",
            "   ❔ Pregunta: 'CODIGO MESA' -> Respuesta: '101674'\n",
            "   ❔ Pregunta: 'ELECTORES HABILITADOS' -> Respuesta: '3'\n",
            "   ❔ Pregunta: 'FP' -> Respuesta: 'FP 0.25'\n",
            "   ❔ Pregunta: 'LIBRE' -> Respuesta: 'LIBRE 0.8'\n",
            "   ❔ Pregunta: 'LYP ADN' -> Respuesta: 'LYP ADN 08/15'\n",
            "   ❔ Pregunta: 'MAS-IPSP' -> Respuesta: 'MAS-IPSP 003'\n",
            "   ❔ Pregunta: 'MESA' -> Respuesta: '815'\n",
            "   ❔ Pregunta: 'MORENA' -> Respuesta: 'MORENA 08.15'\n",
            "   ❔ Pregunta: 'PAPELETAS EN ÁNFORA' -> Respuesta: '134'\n",
            "   ❔ Pregunta: 'PAPELETAS NO UTILIZADAS' -> Respuesta: '486'\n",
            "   ❔ Pregunta: 'PDC' -> Respuesta: 'PDC 024'\n",
            "   ❔ Pregunta: 'UNIDAD' -> Respuesta: 'UNIDAD 005'\n",
            "   ❔ Pregunta: 'VOTOS BLANCOS' -> Respuesta: '4'\n",
            "   ❔ Pregunta: 'VOTOS NULOS' -> Respuesta: '49'\n"
          ]
        },
        {
          "name": "stderr",
          "output_type": "stream",
          "text": [
            "\n",
            "Procesando Actas con Donut:  81%|████████▏ | 443/545 [3:17:39<45:37, 26.84s/it]\u001b[A"
          ]
        },
        {
          "name": "stdout",
          "output_type": "stream",
          "text": [
            "   ❔ Pregunta: 'VOTOS VÁLIDOS' -> Respuesta: '81'\n",
            "\n",
            "--- Interrogando al acta: mesa_5_101694.jpg ---\n",
            "   ❔ Pregunta: 'AP' -> Respuesta: 'AP 0.12'\n",
            "   ❔ Pregunta: 'APB SÚMATE' -> Respuesta: 'APB SÚMATE 08.29'\n",
            "   ❔ Pregunta: 'CODIGO MESA' -> Respuesta: '101694'\n",
            "   ❔ Pregunta: 'ELECTORES HABILITADOS' -> Respuesta: '3'\n",
            "   ❔ Pregunta: 'FP' -> Respuesta: 'FP 001'\n",
            "   ❔ Pregunta: 'LIBRE' -> Respuesta: 'LIBRE 002'\n",
            "   ❔ Pregunta: 'LYP ADN' -> Respuesta: 'LYP ADN APB SOMATE'\n",
            "   ❔ Pregunta: 'MAS-IPSP' -> Respuesta: 'MAS-IPSP 007'\n",
            "   ❔ Pregunta: 'MESA' -> Respuesta: '5'\n",
            "   ❔ Pregunta: 'MORENA' -> Respuesta: 'MORENA 08.29'\n",
            "   ❔ Pregunta: 'PAPELETAS EN ÁNFORA' -> Respuesta: '64'\n",
            "   ❔ Pregunta: 'PAPELETAS NO UTILIZADAS' -> Respuesta: '82'\n",
            "   ❔ Pregunta: 'PDC' -> Respuesta: 'PDC 074'\n",
            "   ❔ Pregunta: 'UNIDAD' -> Respuesta: 'UNIDAD 003'\n",
            "   ❔ Pregunta: 'VOTOS BLANCOS' -> Respuesta: '3'\n",
            "   ❔ Pregunta: 'VOTOS NULOS' -> Respuesta: '25'\n"
          ]
        },
        {
          "name": "stderr",
          "output_type": "stream",
          "text": [
            "\n",
            "Procesando Actas con Donut:  81%|████████▏ | 444/545 [3:18:06<45:04, 26.78s/it]\u001b[A"
          ]
        },
        {
          "name": "stdout",
          "output_type": "stream",
          "text": [
            "   ❔ Pregunta: 'VOTOS VÁLIDOS' -> Respuesta: '36'\n",
            "\n",
            "--- Interrogando al acta: mesa_3_101124.jpg ---\n",
            "   ❔ Pregunta: 'AP' -> Respuesta: 'AP 0.19'\n",
            "   ❔ Pregunta: 'APB SÚMATE' -> Respuesta: 'APB SÚMATE 0.9'\n",
            "   ❔ Pregunta: 'CODIGO MESA' -> Respuesta: '101124'\n",
            "   ❔ Pregunta: 'ELECTORES HABILITADOS' -> Respuesta: '3'\n",
            "   ❔ Pregunta: 'FP' -> Respuesta: 'FP 006'\n",
            "   ❔ Pregunta: 'LIBRE' -> Respuesta: 'LIBRE 0.49'\n",
            "   ❔ Pregunta: 'LYP ADN' -> Respuesta: 'LYP ADN 001'\n",
            "   ❔ Pregunta: 'MAS-IPSP' -> Respuesta: 'MAS-IPSP 001'\n",
            "   ❔ Pregunta: 'MESA' -> Respuesta: '3'\n",
            "   ❔ Pregunta: 'MORENA' -> Respuesta: 'MORENA 0930'\n",
            "   ❔ Pregunta: 'PAPELETAS EN ÁNFORA' -> Respuesta: '421'\n",
            "   ❔ Pregunta: 'PAPELETAS NO UTILIZADAS' -> Respuesta: '499'\n",
            "   ❔ Pregunta: 'PDC' -> Respuesta: 'PDC 025'\n",
            "   ❔ Pregunta: 'UNIDAD' -> Respuesta: 'UNIDAD 004'\n",
            "   ❔ Pregunta: 'VOTOS BLANCOS' -> Respuesta: '2'\n",
            "   ❔ Pregunta: 'VOTOS NULOS' -> Respuesta: '14'\n"
          ]
        },
        {
          "name": "stderr",
          "output_type": "stream",
          "text": [
            "\n",
            "Procesando Actas con Donut:  82%|████████▏ | 445/545 [3:18:32<44:35, 26.75s/it]\u001b[A"
          ]
        },
        {
          "name": "stdout",
          "output_type": "stream",
          "text": [
            "   ❔ Pregunta: 'VOTOS VÁLIDOS' -> Respuesta: '75'\n",
            "\n",
            "--- Interrogando al acta: mesa_4_101134.jpg ---\n",
            "   ❔ Pregunta: 'AP' -> Respuesta: 'AP 0 1 7'\n",
            "   ❔ Pregunta: 'APB SÚMATE' -> Respuesta: 'APB SÚMATE MESA 4'\n",
            "   ❔ Pregunta: 'CODIGO MESA' -> Respuesta: 'None'\n",
            "   ❔ Pregunta: 'ELECTORES HABILITADOS' -> Respuesta: '3'\n",
            "   ❔ Pregunta: 'FP' -> Respuesta: 'FP 0.2'\n",
            "   ❔ Pregunta: 'LIBRE' -> Respuesta: 'LIBRE 0 1'\n",
            "   ❔ Pregunta: 'LYP ADN' -> Respuesta: 'LYP ADN AP'\n",
            "   ❔ Pregunta: 'MAS-IPSP' -> Respuesta: 'MAS-IPSP 0 0 3'\n",
            "   ❔ Pregunta: 'MESA' -> Respuesta: '4'\n",
            "   ❔ Pregunta: 'MORENA' -> Respuesta: 'MORENA 7 30'\n",
            "   ❔ Pregunta: 'PAPELETAS EN ÁNFORA' -> Respuesta: '86'\n",
            "   ❔ Pregunta: 'PAPELETAS NO UTILIZADAS' -> Respuesta: '234'\n",
            "   ❔ Pregunta: 'PDC' -> Respuesta: 'PDC 015'\n",
            "   ❔ Pregunta: 'UNIDAD' -> Respuesta: 'UNIDAD 004'\n",
            "   ❔ Pregunta: 'VOTOS BLANCOS' -> Respuesta: '2'\n",
            "   ❔ Pregunta: 'VOTOS NULOS' -> Respuesta: '25'\n"
          ]
        },
        {
          "name": "stderr",
          "output_type": "stream",
          "text": [
            "\n",
            "Procesando Actas con Donut:  82%|████████▏ | 446/545 [3:18:59<44:16, 26.84s/it]\u001b[A"
          ]
        },
        {
          "name": "stdout",
          "output_type": "stream",
          "text": [
            "   ❔ Pregunta: 'VOTOS VÁLIDOS' -> Respuesta: '59'\n",
            "\n",
            "--- Interrogando al acta: mesa_1_101104.jpg ---\n",
            "   ❔ Pregunta: 'AP' -> Respuesta: 'AP 017'\n",
            "   ❔ Pregunta: 'APB SÚMATE' -> Respuesta: 'APB SÚMATE 017'\n",
            "   ❔ Pregunta: 'CODIGO MESA' -> Respuesta: 'None'\n",
            "   ❔ Pregunta: 'ELECTORES HABILITADOS' -> Respuesta: '3'\n",
            "   ❔ Pregunta: 'FP' -> Respuesta: 'FP 009'\n",
            "   ❔ Pregunta: 'LIBRE' -> Respuesta: 'LIBRE 014'\n",
            "   ❔ Pregunta: 'LYP ADN' -> Respuesta: 'LYP ADN 001'\n",
            "   ❔ Pregunta: 'MAS-IPSP' -> Respuesta: 'MAS-IPSP 0930'\n",
            "   ❔ Pregunta: 'MESA' -> Respuesta: '930'\n",
            "   ❔ Pregunta: 'MORENA' -> Respuesta: 'MORENA 017'\n",
            "   ❔ Pregunta: 'PAPELETAS EN ÁNFORA' -> Respuesta: '1745'\n",
            "   ❔ Pregunta: 'PAPELETAS NO UTILIZADAS' -> Respuesta: '201'\n",
            "   ❔ Pregunta: 'PDC' -> Respuesta: 'PDC 018'\n",
            "   ❔ Pregunta: 'UNIDAD' -> Respuesta: 'UNIDAD 006'\n",
            "   ❔ Pregunta: 'VOTOS BLANCOS' -> Respuesta: '2'\n",
            "   ❔ Pregunta: 'VOTOS NULOS' -> Respuesta: '5'\n"
          ]
        },
        {
          "name": "stderr",
          "output_type": "stream",
          "text": [
            "\n",
            "Procesando Actas con Donut:  82%|████████▏ | 447/545 [3:19:26<43:51, 26.85s/it]\u001b[A"
          ]
        },
        {
          "name": "stdout",
          "output_type": "stream",
          "text": [
            "   ❔ Pregunta: 'VOTOS VÁLIDOS' -> Respuesta: '67'\n",
            "\n",
            "--- Interrogando al acta: mesa_5_101144.jpg ---\n",
            "   ❔ Pregunta: 'AP' -> Respuesta: 'AP 005'\n",
            "   ❔ Pregunta: 'APB SÚMATE' -> Respuesta: 'APB SÚMATE 0930'\n",
            "   ❔ Pregunta: 'CODIGO MESA' -> Respuesta: '10144'\n",
            "   ❔ Pregunta: 'ELECTORES HABILITADOS' -> Respuesta: '3'\n",
            "   ❔ Pregunta: 'FP' -> Respuesta: 'FP 000'\n",
            "   ❔ Pregunta: 'LIBRE' -> Respuesta: 'LIBRE 003'\n",
            "   ❔ Pregunta: 'LYP ADN' -> Respuesta: 'LYP ADN 007'\n",
            "   ❔ Pregunta: 'MAS-IPSP' -> Respuesta: 'MAS-IPSP 000'\n",
            "   ❔ Pregunta: 'MESA' -> Respuesta: '5'\n",
            "   ❔ Pregunta: 'MORENA' -> Respuesta: 'MORENA 0 67'\n",
            "   ❔ Pregunta: 'PAPELETAS EN ÁNFORA' -> Respuesta: '39'\n",
            "   ❔ Pregunta: 'PAPELETAS NO UTILIZADAS' -> Respuesta: '67'\n",
            "   ❔ Pregunta: 'PDC' -> Respuesta: 'PDC 0.08'\n",
            "   ❔ Pregunta: 'UNIDAD' -> Respuesta: 'UNIDAD 003'\n",
            "   ❔ Pregunta: 'VOTOS BLANCOS' -> Respuesta: '0'\n",
            "   ❔ Pregunta: 'VOTOS NULOS' -> Respuesta: '15'\n"
          ]
        },
        {
          "name": "stderr",
          "output_type": "stream",
          "text": [
            "\n",
            "Procesando Actas con Donut:  82%|████████▏ | 448/545 [3:19:53<43:24, 26.85s/it]\u001b[A"
          ]
        },
        {
          "name": "stdout",
          "output_type": "stream",
          "text": [
            "   ❔ Pregunta: 'VOTOS VÁLIDOS' -> Respuesta: '29'\n",
            "\n",
            "--- Interrogando al acta: mesa_2_101114.jpg ---\n",
            "   ❔ Pregunta: 'AP' -> Respuesta: 'AP 016'\n",
            "   ❔ Pregunta: 'APB SÚMATE' -> Respuesta: 'APB SÚMATE 0 1'\n",
            "   ❔ Pregunta: 'CODIGO MESA' -> Respuesta: '2'\n",
            "   ❔ Pregunta: 'ELECTORES HABILITADOS' -> Respuesta: '10'\n",
            "   ❔ Pregunta: 'FP' -> Respuesta: 'FP 08.00'\n",
            "   ❔ Pregunta: 'LIBRE' -> Respuesta: 'LIBRE 0 1'\n",
            "   ❔ Pregunta: 'LYP ADN' -> Respuesta: 'LYP ADN 002'\n",
            "   ❔ Pregunta: 'MAS-IPSP' -> Respuesta: 'MAS-IPSP 005'\n",
            "   ❔ Pregunta: 'MESA' -> Respuesta: '2'\n",
            "   ❔ Pregunta: 'MORENA' -> Respuesta: 'MORENA 016'\n",
            "   ❔ Pregunta: 'PAPELETAS EN ÁNFORA' -> Respuesta: '104'\n",
            "   ❔ Pregunta: 'PAPELETAS NO UTILIZADAS' -> Respuesta: '0'\n",
            "   ❔ Pregunta: 'PDC' -> Respuesta: 'PDC 021'\n",
            "   ❔ Pregunta: 'UNIDAD' -> Respuesta: 'UNIDAD 005'\n",
            "   ❔ Pregunta: 'VOTOS BLANCOS' -> Respuesta: '2'\n",
            "   ❔ Pregunta: 'VOTOS NULOS' -> Respuesta: '32'\n"
          ]
        },
        {
          "name": "stderr",
          "output_type": "stream",
          "text": [
            "\n",
            "Procesando Actas con Donut:  82%|████████▏ | 449/545 [3:20:20<43:00, 26.88s/it]\u001b[A"
          ]
        },
        {
          "name": "stdout",
          "output_type": "stream",
          "text": [
            "   ❔ Pregunta: 'VOTOS VÁLIDOS' -> Respuesta: '70'\n",
            "\n",
            "--- Interrogando al acta: mesa_11_100594.jpg ---\n",
            "   ❔ Pregunta: 'AP' -> Respuesta: 'AP 049'\n",
            "   ❔ Pregunta: 'APB SÚMATE' -> Respuesta: 'APB SÚMATE 0 10'\n",
            "   ❔ Pregunta: 'CODIGO MESA' -> Respuesta: '11'\n",
            "   ❔ Pregunta: 'ELECTORES HABILITADOS' -> Respuesta: '3'\n",
            "   ❔ Pregunta: 'FP' -> Respuesta: 'FP 001'\n",
            "   ❔ Pregunta: 'LIBRE' -> Respuesta: 'LIBRE 0 1'\n",
            "   ❔ Pregunta: 'LYP ADN' -> Respuesta: 'LYP ADN APB SOMATE'\n",
            "   ❔ Pregunta: 'MAS-IPSP' -> Respuesta: 'MAS-IPSP 003'\n",
            "   ❔ Pregunta: 'MESA' -> Respuesta: '11'\n",
            "   ❔ Pregunta: 'MORENA' -> Respuesta: 'MORENA 08 30'\n",
            "   ❔ Pregunta: 'PAPELETAS EN ÁNFORA' -> Respuesta: '455'\n",
            "   ❔ Pregunta: 'PAPELETAS NO UTILIZADAS' -> Respuesta: '494'\n",
            "   ❔ Pregunta: 'PDC' -> Respuesta: 'PDC 0.22'\n",
            "   ❔ Pregunta: 'UNIDAD' -> Respuesta: 'UNIDAD 005'\n",
            "   ❔ Pregunta: 'VOTOS BLANCOS' -> Respuesta: '1'\n",
            "   ❔ Pregunta: 'VOTOS NULOS' -> Respuesta: '38'\n"
          ]
        },
        {
          "name": "stderr",
          "output_type": "stream",
          "text": [
            "\n",
            "Procesando Actas con Donut:  83%|████████▎ | 450/545 [3:20:47<42:35, 26.90s/it]\u001b[A"
          ]
        },
        {
          "name": "stdout",
          "output_type": "stream",
          "text": [
            "   ❔ Pregunta: 'VOTOS VÁLIDOS' -> Respuesta: '67'\n",
            "\n",
            "--- Interrogando al acta: mesa_7_100624.jpg ---\n",
            "   ❔ Pregunta: 'AP' -> Respuesta: 'AP 0.9'\n",
            "   ❔ Pregunta: 'APB SÚMATE' -> Respuesta: 'APB SÚMATE 006'\n",
            "   ❔ Pregunta: 'CODIGO MESA' -> Respuesta: '7'\n",
            "   ❔ Pregunta: 'ELECTORES HABILITADOS' -> Respuesta: '3'\n",
            "   ❔ Pregunta: 'FP' -> Respuesta: 'FP 00 2'\n",
            "   ❔ Pregunta: 'LIBRE' -> Respuesta: 'LIBRE 012'\n",
            "   ❔ Pregunta: 'LYP ADN' -> Respuesta: 'LYP ADN APB SOMATE'\n",
            "   ❔ Pregunta: 'MAS-IPSP' -> Respuesta: 'MAS-IPSP 0.03'\n",
            "   ❔ Pregunta: 'MESA' -> Respuesta: '7'\n",
            "   ❔ Pregunta: 'MORENA' -> Respuesta: 'MORENA 08 32'\n",
            "   ❔ Pregunta: 'PAPELETAS EN ÁNFORA' -> Respuesta: 'None'\n",
            "   ❔ Pregunta: 'PAPELETAS NO UTILIZADAS' -> Respuesta: '199'\n",
            "   ❔ Pregunta: 'PDC' -> Respuesta: 'PDC 025'\n",
            "   ❔ Pregunta: 'UNIDAD' -> Respuesta: 'UNIDAD 005'\n",
            "   ❔ Pregunta: 'VOTOS BLANCOS' -> Respuesta: '3'\n",
            "   ❔ Pregunta: 'VOTOS NULOS' -> Respuesta: '45'\n"
          ]
        },
        {
          "name": "stderr",
          "output_type": "stream",
          "text": [
            "\n",
            "Procesando Actas con Donut:  83%|████████▎ | 451/545 [3:21:14<42:14, 26.96s/it]\u001b[A"
          ]
        },
        {
          "name": "stdout",
          "output_type": "stream",
          "text": [
            "   ❔ Pregunta: 'VOTOS VÁLIDOS' -> Respuesta: '72'\n",
            "\n",
            "--- Interrogando al acta: mesa_4_100694.jpg ---\n",
            "   ❔ Pregunta: 'AP' -> Respuesta: 'AP 015'\n",
            "   ❔ Pregunta: 'APB SÚMATE' -> Respuesta: 'APB SÚMATE 0920'\n",
            "   ❔ Pregunta: 'CODIGO MESA' -> Respuesta: '4'\n",
            "   ❔ Pregunta: 'ELECTORES HABILITADOS' -> Respuesta: '3'\n",
            "   ❔ Pregunta: 'FP' -> Respuesta: 'FP 005'\n",
            "   ❔ Pregunta: 'LIBRE' -> Respuesta: 'LIBRE 0 1 3'\n",
            "   ❔ Pregunta: 'LYP ADN' -> Respuesta: 'LYP ADN 001'\n",
            "   ❔ Pregunta: 'MAS-IPSP' -> Respuesta: 'MAS-IPSP 003'\n",
            "   ❔ Pregunta: 'MESA' -> Respuesta: '4'\n",
            "   ❔ Pregunta: 'MORENA' -> Respuesta: 'MORENA AP'\n",
            "   ❔ Pregunta: 'PAPELETAS EN ÁNFORA' -> Respuesta: '129'\n",
            "   ❔ Pregunta: 'PAPELETAS NO UTILIZADAS' -> Respuesta: '197'\n",
            "   ❔ Pregunta: 'PDC' -> Respuesta: 'PDC 025'\n",
            "   ❔ Pregunta: 'UNIDAD' -> Respuesta: 'UNIDAD 006'\n",
            "   ❔ Pregunta: 'VOTOS BLANCOS' -> Respuesta: '3'\n",
            "   ❔ Pregunta: 'VOTOS NULOS' -> Respuesta: '49'\n"
          ]
        },
        {
          "name": "stderr",
          "output_type": "stream",
          "text": [
            "\n",
            "Procesando Actas con Donut:  83%|████████▎ | 452/545 [3:21:41<41:37, 26.86s/it]\u001b[A"
          ]
        },
        {
          "name": "stdout",
          "output_type": "stream",
          "text": [
            "   ❔ Pregunta: 'VOTOS VÁLIDOS' -> Respuesta: '7'\n",
            "\n",
            "--- Interrogando al acta: mesa_10_100654.jpg ---\n",
            "   ❔ Pregunta: 'AP' -> Respuesta: 'AP 018'\n",
            "   ❔ Pregunta: 'APB SÚMATE' -> Respuesta: 'APB SÚMATE 007'\n",
            "   ❔ Pregunta: 'CODIGO MESA' -> Respuesta: '10'\n",
            "   ❔ Pregunta: 'ELECTORES HABILITADOS' -> Respuesta: '7'\n",
            "   ❔ Pregunta: 'FP' -> Respuesta: 'FP 001'\n",
            "   ❔ Pregunta: 'LIBRE' -> Respuesta: 'LIBRE 0.06.'\n",
            "   ❔ Pregunta: 'LYP ADN' -> Respuesta: 'LYP ADN AP'\n",
            "   ❔ Pregunta: 'MAS-IPSP' -> Respuesta: 'MAS-IPSP 0 0'\n",
            "   ❔ Pregunta: 'MESA' -> Respuesta: '10'\n",
            "   ❔ Pregunta: 'MORENA' -> Respuesta: 'MORENA 0930'\n",
            "   ❔ Pregunta: 'PAPELETAS EN ÁNFORA' -> Respuesta: '134'\n",
            "   ❔ Pregunta: 'PAPELETAS NO UTILIZADAS' -> Respuesta: '186'\n",
            "   ❔ Pregunta: 'PDC' -> Respuesta: 'PDC 031'\n",
            "   ❔ Pregunta: 'UNIDAD' -> Respuesta: 'UNIDAD 0 1'\n",
            "   ❔ Pregunta: 'VOTOS BLANCOS' -> Respuesta: '7'\n",
            "   ❔ Pregunta: 'VOTOS NULOS' -> Respuesta: '5'\n"
          ]
        },
        {
          "name": "stderr",
          "output_type": "stream",
          "text": [
            "\n",
            "Procesando Actas con Donut:  83%|████████▎ | 453/545 [3:22:07<41:05, 26.79s/it]\u001b[A"
          ]
        },
        {
          "name": "stdout",
          "output_type": "stream",
          "text": [
            "   ❔ Pregunta: 'VOTOS VÁLIDOS' -> Respuesta: '47'\n",
            "\n",
            "--- Interrogando al acta: mesa_8_100634.jpg ---\n",
            "   ❔ Pregunta: 'AP' -> Respuesta: 'AP 01 4'\n",
            "   ❔ Pregunta: 'APB SÚMATE' -> Respuesta: 'APB SÚMATE 0950'\n",
            "   ❔ Pregunta: 'CODIGO MESA' -> Respuesta: 'None'\n",
            "   ❔ Pregunta: 'ELECTORES HABILITADOS' -> Respuesta: '3'\n",
            "   ❔ Pregunta: 'FP' -> Respuesta: 'FP 005'\n",
            "   ❔ Pregunta: 'LIBRE' -> Respuesta: 'LIBRE 016'\n",
            "   ❔ Pregunta: 'LYP ADN' -> Respuesta: 'LYP ADN 001'\n",
            "   ❔ Pregunta: 'MAS-IPSP' -> Respuesta: 'MAS-IPSP 002'\n",
            "   ❔ Pregunta: 'MESA' -> Respuesta: '8'\n",
            "   ❔ Pregunta: 'MORENA' -> Respuesta: 'MORENA 0950'\n",
            "   ❔ Pregunta: 'PAPELETAS EN ÁNFORA' -> Respuesta: '1330'\n",
            "   ❔ Pregunta: 'PAPELETAS NO UTILIZADAS' -> Respuesta: '188'\n",
            "   ❔ Pregunta: 'PDC' -> Respuesta: 'PDC 021'\n",
            "   ❔ Pregunta: 'UNIDAD' -> Respuesta: 'UNIDAD 011'\n",
            "   ❔ Pregunta: 'VOTOS BLANCOS' -> Respuesta: '3'\n",
            "   ❔ Pregunta: 'VOTOS NULOS' -> Respuesta: '52'\n"
          ]
        },
        {
          "name": "stderr",
          "output_type": "stream",
          "text": [
            "\n",
            "Procesando Actas con Donut:  83%|████████▎ | 454/545 [3:22:34<40:40, 26.82s/it]\u001b[A"
          ]
        },
        {
          "name": "stdout",
          "output_type": "stream",
          "text": [
            "   ❔ Pregunta: 'VOTOS VÁLIDOS' -> Respuesta: '78'\n",
            "\n",
            "--- Interrogando al acta: mesa_3_100684.jpg ---\n",
            "   ❔ Pregunta: 'AP' -> Respuesta: 'AP 0.22'\n",
            "   ❔ Pregunta: 'APB SÚMATE' -> Respuesta: 'APB SÚMATE 010'\n",
            "   ❔ Pregunta: 'CODIGO MESA' -> Respuesta: 'None'\n",
            "   ❔ Pregunta: 'ELECTORES HABILITADOS' -> Respuesta: '3'\n",
            "   ❔ Pregunta: 'FP' -> Respuesta: 'FP 003'\n",
            "   ❔ Pregunta: 'LIBRE' -> Respuesta: 'LIBRE 0.28'\n",
            "   ❔ Pregunta: 'LYP ADN' -> Respuesta: 'LYP ADN 001'\n",
            "   ❔ Pregunta: 'MAS-IPSP' -> Respuesta: 'MAS-IPSP 0.10'\n",
            "   ❔ Pregunta: 'MESA' -> Respuesta: '3'\n",
            "   ❔ Pregunta: 'MORENA' -> Respuesta: 'MORENA 181'\n",
            "   ❔ Pregunta: 'PAPELETAS EN ÁNFORA' -> Respuesta: '139'\n",
            "   ❔ Pregunta: 'PAPELETAS NO UTILIZADAS' -> Respuesta: '189'\n",
            "   ❔ Pregunta: 'PDC' -> Respuesta: 'PDC 031'\n",
            "   ❔ Pregunta: 'UNIDAD' -> Respuesta: 'UNIDAD 005'\n",
            "   ❔ Pregunta: 'VOTOS BLANCOS' -> Respuesta: '2'\n",
            "   ❔ Pregunta: 'VOTOS NULOS' -> Respuesta: '49'\n"
          ]
        },
        {
          "name": "stderr",
          "output_type": "stream",
          "text": [
            "\n",
            "Procesando Actas con Donut:  83%|████████▎ | 455/545 [3:23:01<40:07, 26.75s/it]\u001b[A"
          ]
        },
        {
          "name": "stdout",
          "output_type": "stream",
          "text": [
            "   ❔ Pregunta: 'VOTOS VÁLIDOS' -> Respuesta: '88'\n",
            "\n",
            "--- Interrogando al acta: mesa_1_100664.jpg ---\n",
            "   ❔ Pregunta: 'AP' -> Respuesta: 'AP 023'\n",
            "   ❔ Pregunta: 'APB SÚMATE' -> Respuesta: 'APB SÚMATE 0950'\n",
            "   ❔ Pregunta: 'CODIGO MESA' -> Respuesta: '100664'\n",
            "   ❔ Pregunta: 'ELECTORES HABILITADOS' -> Respuesta: '3'\n",
            "   ❔ Pregunta: 'FP' -> Respuesta: 'FP 002'\n",
            "   ❔ Pregunta: 'LIBRE' -> Respuesta: 'LIBRE 0 12'\n",
            "   ❔ Pregunta: 'LYP ADN' -> Respuesta: 'LYP ADN APB SUMATE'\n",
            "   ❔ Pregunta: 'MAS-IPSP' -> Respuesta: 'MAS-IPSP 005'\n",
            "   ❔ Pregunta: 'MESA' -> Respuesta: '950'\n",
            "   ❔ Pregunta: 'MORENA' -> Respuesta: 'MORENA 0950'\n",
            "   ❔ Pregunta: 'PAPELETAS EN ÁNFORA' -> Respuesta: '95'\n",
            "   ❔ Pregunta: 'PAPELETAS NO UTILIZADAS' -> Respuesta: 'None'\n",
            "   ❔ Pregunta: 'PDC' -> Respuesta: 'PDC 032'\n",
            "   ❔ Pregunta: 'UNIDAD' -> Respuesta: 'UNIDAD 0 11'\n",
            "   ❔ Pregunta: 'VOTOS BLANCOS' -> Respuesta: '4'\n",
            "   ❔ Pregunta: 'VOTOS NULOS' -> Respuesta: '98'\n"
          ]
        },
        {
          "name": "stderr",
          "output_type": "stream",
          "text": [
            "\n",
            "Procesando Actas con Donut:  84%|████████▎ | 456/545 [3:23:28<39:36, 26.70s/it]\u001b[A"
          ]
        },
        {
          "name": "stdout",
          "output_type": "stream",
          "text": [
            "   ❔ Pregunta: 'VOTOS VÁLIDOS' -> Respuesta: '96'\n",
            "\n",
            "--- Interrogando al acta: mesa_2_100674.jpg ---\n",
            "   ❔ Pregunta: 'AP' -> Respuesta: 'AP 0 26'\n",
            "   ❔ Pregunta: 'APB SÚMATE' -> Respuesta: 'APB SÚMATE 0.15'\n",
            "   ❔ Pregunta: 'CODIGO MESA' -> Respuesta: '100674'\n",
            "   ❔ Pregunta: 'ELECTORES HABILITADOS' -> Respuesta: '3'\n",
            "   ❔ Pregunta: 'FP' -> Respuesta: 'FP 005'\n",
            "   ❔ Pregunta: 'LIBRE' -> Respuesta: 'LIBRE 0.13'\n",
            "   ❔ Pregunta: 'LYP ADN' -> Respuesta: 'LYP ADN APB SUMATE'\n",
            "   ❔ Pregunta: 'MAS-IPSP' -> Respuesta: 'MAS-IPSP 00 2'\n",
            "   ❔ Pregunta: 'MESA' -> Respuesta: '920'\n",
            "   ❔ Pregunta: 'MORENA' -> Respuesta: 'MORENA 1 3 6'\n",
            "   ❔ Pregunta: 'PAPELETAS EN ÁNFORA' -> Respuesta: '45'\n",
            "   ❔ Pregunta: 'PAPELETAS NO UTILIZADAS' -> Respuesta: '25'\n",
            "   ❔ Pregunta: 'PDC' -> Respuesta: 'PDC 024'\n",
            "   ❔ Pregunta: 'UNIDAD' -> Respuesta: 'UNIDAD 0.24'\n",
            "   ❔ Pregunta: 'VOTOS BLANCOS' -> Respuesta: '25'\n",
            "   ❔ Pregunta: 'VOTOS NULOS' -> Respuesta: '42'\n"
          ]
        },
        {
          "name": "stderr",
          "output_type": "stream",
          "text": [
            "\n",
            "Procesando Actas con Donut:  84%|████████▍ | 457/545 [3:23:54<39:13, 26.75s/it]\u001b[A"
          ]
        },
        {
          "name": "stdout",
          "output_type": "stream",
          "text": [
            "   ❔ Pregunta: 'VOTOS VÁLIDOS' -> Respuesta: '89'\n",
            "\n",
            "--- Interrogando al acta: mesa_6_100614.jpg ---\n",
            "   ❔ Pregunta: 'AP' -> Respuesta: 'AP AP'\n",
            "   ❔ Pregunta: 'APB SÚMATE' -> Respuesta: 'APB SÚMATE MOS-LIPSP'\n",
            "   ❔ Pregunta: 'CODIGO MESA' -> Respuesta: '6'\n",
            "   ❔ Pregunta: 'ELECTORES HABILITADOS' -> Respuesta: '3'\n",
            "   ❔ Pregunta: 'FP' -> Respuesta: 'FP 007'\n",
            "   ❔ Pregunta: 'LIBRE' -> Respuesta: 'LIBRE 008'\n",
            "   ❔ Pregunta: 'LYP ADN' -> Respuesta: 'LYP ADN APB SUMATE'\n",
            "   ❔ Pregunta: 'MAS-IPSP' -> Respuesta: 'MAS-IPSP 005'\n",
            "   ❔ Pregunta: 'MESA' -> Respuesta: '6'\n",
            "   ❔ Pregunta: 'MORENA' -> Respuesta: 'MORENA 795'\n",
            "   ❔ Pregunta: 'PAPELETAS EN ÁNFORA' -> Respuesta: '725'\n",
            "   ❔ Pregunta: 'PAPELETAS NO UTILIZADAS' -> Respuesta: '495'\n",
            "   ❔ Pregunta: 'PDC' -> Respuesta: 'PDC 023'\n",
            "   ❔ Pregunta: 'UNIDAD' -> Respuesta: 'UNIDAD 00 4'\n",
            "   ❔ Pregunta: 'VOTOS BLANCOS' -> Respuesta: '7'\n",
            "   ❔ Pregunta: 'VOTOS NULOS' -> Respuesta: '50'\n"
          ]
        },
        {
          "name": "stderr",
          "output_type": "stream",
          "text": [
            "\n",
            "Procesando Actas con Donut:  84%|████████▍ | 458/545 [3:24:21<38:46, 26.74s/it]\u001b[A"
          ]
        },
        {
          "name": "stdout",
          "output_type": "stream",
          "text": [
            "   ❔ Pregunta: 'VOTOS VÁLIDOS' -> Respuesta: '68'\n",
            "\n",
            "--- Interrogando al acta: mesa_5_100604.jpg ---\n",
            "   ❔ Pregunta: 'AP' -> Respuesta: 'AP 0.19'\n",
            "   ❔ Pregunta: 'APB SÚMATE' -> Respuesta: 'APB SÚMATE 0.19'\n",
            "   ❔ Pregunta: 'CODIGO MESA' -> Respuesta: '100604'\n",
            "   ❔ Pregunta: 'ELECTORES HABILITADOS' -> Respuesta: '3'\n",
            "   ❔ Pregunta: 'FP' -> Respuesta: 'FP 003'\n",
            "   ❔ Pregunta: 'LIBRE' -> Respuesta: 'LIBRE 007'\n",
            "   ❔ Pregunta: 'LYP ADN' -> Respuesta: 'LYP ADN 001'\n",
            "   ❔ Pregunta: 'MAS-IPSP' -> Respuesta: 'MAS-IPSP 0 0 7'\n",
            "   ❔ Pregunta: 'MESA' -> Respuesta: '5'\n",
            "   ❔ Pregunta: 'MORENA' -> Respuesta: 'MORENA 1 3 2'\n",
            "   ❔ Pregunta: 'PAPELETAS EN ÁNFORA' -> Respuesta: '132'\n",
            "   ❔ Pregunta: 'PAPELETAS NO UTILIZADAS' -> Respuesta: '188'\n",
            "   ❔ Pregunta: 'PDC' -> Respuesta: 'PDC 029'\n",
            "   ❔ Pregunta: 'UNIDAD' -> Respuesta: 'UNIDAD 0.2'\n",
            "   ❔ Pregunta: 'VOTOS BLANCOS' -> Respuesta: '3'\n",
            "   ❔ Pregunta: 'VOTOS NULOS' -> Respuesta: '57'\n"
          ]
        },
        {
          "name": "stderr",
          "output_type": "stream",
          "text": [
            "\n",
            "Procesando Actas con Donut:  84%|████████▍ | 459/545 [3:24:48<38:17, 26.71s/it]\u001b[A"
          ]
        },
        {
          "name": "stdout",
          "output_type": "stream",
          "text": [
            "   ❔ Pregunta: 'VOTOS VÁLIDOS' -> Respuesta: '72'\n",
            "\n",
            "--- Interrogando al acta: mesa_9_100644.jpg ---\n",
            "   ❔ Pregunta: 'AP' -> Respuesta: 'AP 012'\n",
            "   ❔ Pregunta: 'APB SÚMATE' -> Respuesta: 'APB SÚMATE 0958'\n",
            "   ❔ Pregunta: 'CODIGO MESA' -> Respuesta: '9'\n",
            "   ❔ Pregunta: 'ELECTORES HABILITADOS' -> Respuesta: 'None'\n",
            "   ❔ Pregunta: 'FP' -> Respuesta: 'FP 008'\n",
            "   ❔ Pregunta: 'LIBRE' -> Respuesta: 'LIBRE 0 1 5'\n",
            "   ❔ Pregunta: 'LYP ADN' -> Respuesta: 'LYP ADN 0958'\n",
            "   ❔ Pregunta: 'MAS-IPSP' -> Respuesta: 'MAS-IPSP 002'\n",
            "   ❔ Pregunta: 'MESA' -> Respuesta: '9'\n",
            "   ❔ Pregunta: 'MORENA' -> Respuesta: 'MORENA 954269'\n",
            "   ❔ Pregunta: 'PAPELETAS EN ÁNFORA' -> Respuesta: '205'\n",
            "   ❔ Pregunta: 'PAPELETAS NO UTILIZADAS' -> Respuesta: '205'\n",
            "   ❔ Pregunta: 'PDC' -> Respuesta: 'PDC 024'\n",
            "   ❔ Pregunta: 'UNIDAD' -> Respuesta: 'UNIDAD 0.24'\n",
            "   ❔ Pregunta: 'VOTOS BLANCOS' -> Respuesta: '1'\n",
            "   ❔ Pregunta: 'VOTOS NULOS' -> Respuesta: '37'\n"
          ]
        },
        {
          "name": "stderr",
          "output_type": "stream",
          "text": [
            "\n",
            "Procesando Actas con Donut:  84%|████████▍ | 460/545 [3:25:14<37:50, 26.71s/it]\u001b[A"
          ]
        },
        {
          "name": "stdout",
          "output_type": "stream",
          "text": [
            "   ❔ Pregunta: 'VOTOS VÁLIDOS' -> Respuesta: '31'\n",
            "\n",
            "--- Interrogando al acta: mesa_3_103534.jpg ---\n",
            "   ❔ Pregunta: 'AP' -> Respuesta: 'AP 016'\n",
            "   ❔ Pregunta: 'APB SÚMATE' -> Respuesta: 'APB SÚMATE 006'\n",
            "   ❔ Pregunta: 'CODIGO MESA' -> Respuesta: '915'\n",
            "   ❔ Pregunta: 'ELECTORES HABILITADOS' -> Respuesta: '3'\n",
            "   ❔ Pregunta: 'FP' -> Respuesta: 'FP 005'\n",
            "   ❔ Pregunta: 'LIBRE' -> Respuesta: 'LIBRE 003'\n",
            "   ❔ Pregunta: 'LYP ADN' -> Respuesta: 'LYP ADN APB SUMATE'\n",
            "   ❔ Pregunta: 'MAS-IPSP' -> Respuesta: 'MAS-IPSP 0 0 4'\n",
            "   ❔ Pregunta: 'MESA' -> Respuesta: '915'\n",
            "   ❔ Pregunta: 'MORENA' -> Respuesta: 'MORENA 218'\n",
            "   ❔ Pregunta: 'PAPELETAS EN ÁNFORA' -> Respuesta: '402'\n",
            "   ❔ Pregunta: 'PAPELETAS NO UTILIZADAS' -> Respuesta: '218'\n",
            "   ❔ Pregunta: 'PDC' -> Respuesta: 'PDC 0 10'\n",
            "   ❔ Pregunta: 'UNIDAD' -> Respuesta: 'UNIDAD 0 1 2'\n",
            "   ❔ Pregunta: 'VOTOS BLANCOS' -> Respuesta: '45'\n",
            "   ❔ Pregunta: 'VOTOS NULOS' -> Respuesta: '41'\n"
          ]
        },
        {
          "name": "stderr",
          "output_type": "stream",
          "text": [
            "\n",
            "Procesando Actas con Donut:  85%|████████▍ | 461/545 [3:25:41<37:24, 26.71s/it]\u001b[A"
          ]
        },
        {
          "name": "stdout",
          "output_type": "stream",
          "text": [
            "   ❔ Pregunta: 'VOTOS VÁLIDOS' -> Respuesta: '56'\n",
            "\n",
            "--- Interrogando al acta: mesa_8_103584.jpg ---\n",
            "   ❔ Pregunta: 'AP' -> Respuesta: 'AP 072'\n",
            "   ❔ Pregunta: 'APB SÚMATE' -> Respuesta: 'APB SÚMATE 09.70'\n",
            "   ❔ Pregunta: 'CODIGO MESA' -> Respuesta: '8'\n",
            "   ❔ Pregunta: 'ELECTORES HABILITADOS' -> Respuesta: '3'\n",
            "   ❔ Pregunta: 'FP' -> Respuesta: 'FP 0.14'\n",
            "   ❔ Pregunta: 'LIBRE' -> Respuesta: 'LIBRE 0.2'\n",
            "   ❔ Pregunta: 'LYP ADN' -> Respuesta: 'LYP ADN APB SUBATE'\n",
            "   ❔ Pregunta: 'MAS-IPSP' -> Respuesta: 'MAS-IPSP 003'\n",
            "   ❔ Pregunta: 'MESA' -> Respuesta: '8'\n",
            "   ❔ Pregunta: 'MORENA' -> Respuesta: 'MORENA 09.70'\n",
            "   ❔ Pregunta: 'PAPELETAS EN ÁNFORA' -> Respuesta: '45'\n",
            "   ❔ Pregunta: 'PAPELETAS NO UTILIZADAS' -> Respuesta: '210'\n",
            "   ❔ Pregunta: 'PDC' -> Respuesta: 'PDC 017'\n",
            "   ❔ Pregunta: 'UNIDAD' -> Respuesta: 'UNIDAD 003'\n",
            "   ❔ Pregunta: 'VOTOS BLANCOS' -> Respuesta: '1'\n",
            "   ❔ Pregunta: 'VOTOS NULOS' -> Respuesta: '44'\n"
          ]
        },
        {
          "name": "stderr",
          "output_type": "stream",
          "text": [
            "\n",
            "Procesando Actas con Donut:  85%|████████▍ | 462/545 [3:26:08<37:08, 26.85s/it]\u001b[A"
          ]
        },
        {
          "name": "stdout",
          "output_type": "stream",
          "text": [
            "   ❔ Pregunta: 'VOTOS VÁLIDOS' -> Respuesta: '65'\n",
            "\n",
            "--- Interrogando al acta: mesa_5_103554.jpg ---\n",
            "   ❔ Pregunta: 'AP' -> Respuesta: 'AP APB SOMATE'\n",
            "   ❔ Pregunta: 'APB SÚMATE' -> Respuesta: 'APB SÚMATE MOS-IPSP'\n",
            "   ❔ Pregunta: 'CODIGO MESA' -> Respuesta: '103554'\n",
            "   ❔ Pregunta: 'ELECTORES HABILITADOS' -> Respuesta: '3'\n",
            "   ❔ Pregunta: 'FP' -> Respuesta: 'FP 0.9'\n",
            "   ❔ Pregunta: 'LIBRE' -> Respuesta: 'LIBRE 003'\n",
            "   ❔ Pregunta: 'LYP ADN' -> Respuesta: 'LYP ADN APB SOMATE'\n",
            "   ❔ Pregunta: 'MAS-IPSP' -> Respuesta: 'MAS-IPSP 003'\n",
            "   ❔ Pregunta: 'MESA' -> Respuesta: '5'\n",
            "   ❔ Pregunta: 'MORENA' -> Respuesta: 'MORENA 719 566'\n",
            "   ❔ Pregunta: 'PAPELETAS EN ÁNFORA' -> Respuesta: '125'\n",
            "   ❔ Pregunta: 'PAPELETAS NO UTILIZADAS' -> Respuesta: '195'\n",
            "   ❔ Pregunta: 'PDC' -> Respuesta: 'PDC 0.15'\n",
            "   ❔ Pregunta: 'UNIDAD' -> Respuesta: 'UNIDAD 0.09'\n",
            "   ❔ Pregunta: 'VOTOS BLANCOS' -> Respuesta: '6'\n",
            "   ❔ Pregunta: 'VOTOS NULOS' -> Respuesta: '61'\n"
          ]
        },
        {
          "name": "stderr",
          "output_type": "stream",
          "text": [
            "\n",
            "Procesando Actas con Donut:  85%|████████▍ | 463/545 [3:26:35<36:37, 26.80s/it]\u001b[A"
          ]
        },
        {
          "name": "stdout",
          "output_type": "stream",
          "text": [
            "   ❔ Pregunta: 'VOTOS VÁLIDOS' -> Respuesta: '58'\n",
            "\n",
            "--- Interrogando al acta: mesa_9_103594.jpg ---\n",
            "   ❔ Pregunta: 'AP' -> Respuesta: 'AP 016'\n",
            "   ❔ Pregunta: 'APB SÚMATE' -> Respuesta: 'APB SÚMATE MOSA: 9'\n",
            "   ❔ Pregunta: 'CODIGO MESA' -> Respuesta: '9'\n",
            "   ❔ Pregunta: 'ELECTORES HABILITADOS' -> Respuesta: '3'\n",
            "   ❔ Pregunta: 'FP' -> Respuesta: 'FP 0.06.'\n",
            "   ❔ Pregunta: 'LIBRE' -> Respuesta: 'LIBRE 006'\n",
            "   ❔ Pregunta: 'LYP ADN' -> Respuesta: 'LYP ADN 006'\n",
            "   ❔ Pregunta: 'MAS-IPSP' -> Respuesta: 'MAS-IPSP 003'\n",
            "   ❔ Pregunta: 'MESA' -> Respuesta: '9'\n",
            "   ❔ Pregunta: 'MORENA' -> Respuesta: 'MORENA 7'\n",
            "   ❔ Pregunta: 'PAPELETAS EN ÁNFORA' -> Respuesta: '9'\n",
            "   ❔ Pregunta: 'PAPELETAS NO UTILIZADAS' -> Respuesta: '205'\n",
            "   ❔ Pregunta: 'PDC' -> Respuesta: 'PDC 006'\n",
            "   ❔ Pregunta: 'UNIDAD' -> Respuesta: 'UNIDAD 00 2'\n",
            "   ❔ Pregunta: 'VOTOS BLANCOS' -> Respuesta: '8'\n",
            "   ❔ Pregunta: 'VOTOS NULOS' -> Respuesta: '5'\n"
          ]
        },
        {
          "name": "stderr",
          "output_type": "stream",
          "text": [
            "\n",
            "Procesando Actas con Donut:  85%|████████▌ | 464/545 [3:27:02<36:16, 26.87s/it]\u001b[A"
          ]
        },
        {
          "name": "stdout",
          "output_type": "stream",
          "text": [
            "   ❔ Pregunta: 'VOTOS VÁLIDOS' -> Respuesta: '8'\n",
            "\n",
            "--- Interrogando al acta: mesa_4_103544.jpg ---\n",
            "   ❔ Pregunta: 'AP' -> Respuesta: 'AP 0 2'\n",
            "   ❔ Pregunta: 'APB SÚMATE' -> Respuesta: 'APB SÚMATE 002'\n",
            "   ❔ Pregunta: 'CODIGO MESA' -> Respuesta: '4'\n",
            "   ❔ Pregunta: 'ELECTORES HABILITADOS' -> Respuesta: '3'\n",
            "   ❔ Pregunta: 'FP' -> Respuesta: 'FP 003'\n",
            "   ❔ Pregunta: 'LIBRE' -> Respuesta: 'LIBRE 0.25'\n",
            "   ❔ Pregunta: 'LYP ADN' -> Respuesta: 'LYP ADN 0000'\n",
            "   ❔ Pregunta: 'MAS-IPSP' -> Respuesta: 'MAS-IPSP 000'\n",
            "   ❔ Pregunta: 'MESA' -> Respuesta: '4'\n",
            "   ❔ Pregunta: 'MORENA' -> Respuesta: 'MORENA 09.15'\n",
            "   ❔ Pregunta: 'PAPELETAS EN ÁNFORA' -> Respuesta: '0'\n",
            "   ❔ Pregunta: 'PAPELETAS NO UTILIZADAS' -> Respuesta: '207'\n",
            "   ❔ Pregunta: 'PDC' -> Respuesta: 'PDC 014'\n",
            "   ❔ Pregunta: 'UNIDAD' -> Respuesta: 'UNIDAD 011'\n",
            "   ❔ Pregunta: 'VOTOS BLANCOS' -> Respuesta: '4'\n",
            "   ❔ Pregunta: 'VOTOS NULOS' -> Respuesta: '14'\n"
          ]
        },
        {
          "name": "stderr",
          "output_type": "stream",
          "text": [
            "\n",
            "Procesando Actas con Donut:  85%|████████▌ | 465/545 [3:27:29<35:45, 26.82s/it]\u001b[A"
          ]
        },
        {
          "name": "stdout",
          "output_type": "stream",
          "text": [
            "   ❔ Pregunta: 'VOTOS VÁLIDOS' -> Respuesta: '67'\n",
            "\n",
            "--- Interrogando al acta: mesa_2_103524.jpg ---\n",
            "   ❔ Pregunta: 'AP' -> Respuesta: 'AP APB SOMATE'\n",
            "   ❔ Pregunta: 'APB SÚMATE' -> Respuesta: 'APB SÚMATE 0915'\n",
            "   ❔ Pregunta: 'CODIGO MESA' -> Respuesta: '915'\n",
            "   ❔ Pregunta: 'ELECTORES HABILITADOS' -> Respuesta: '3'\n",
            "   ❔ Pregunta: 'FP' -> Respuesta: 'FP 002'\n",
            "   ❔ Pregunta: 'LIBRE' -> Respuesta: 'LIBRE 005'\n",
            "   ❔ Pregunta: 'LYP ADN' -> Respuesta: 'LYP ADN 0915'\n",
            "   ❔ Pregunta: 'MAS-IPSP' -> Respuesta: 'MAS-IPSP 005'\n",
            "   ❔ Pregunta: 'MESA' -> Respuesta: '915'\n",
            "   ❔ Pregunta: 'MORENA' -> Respuesta: 'MORENA 0915'\n",
            "   ❔ Pregunta: 'PAPELETAS EN ÁNFORA' -> Respuesta: '42'\n",
            "   ❔ Pregunta: 'PAPELETAS NO UTILIZADAS' -> Respuesta: '216'\n",
            "   ❔ Pregunta: 'PDC' -> Respuesta: 'PDC 008'\n",
            "   ❔ Pregunta: 'UNIDAD' -> Respuesta: 'UNIDAD 005'\n",
            "   ❔ Pregunta: 'VOTOS BLANCOS' -> Respuesta: '9'\n",
            "   ❔ Pregunta: 'VOTOS NULOS' -> Respuesta: '42'\n"
          ]
        },
        {
          "name": "stderr",
          "output_type": "stream",
          "text": [
            "\n",
            "Procesando Actas con Donut:  86%|████████▌ | 466/545 [3:27:56<35:18, 26.82s/it]\u001b[A"
          ]
        },
        {
          "name": "stdout",
          "output_type": "stream",
          "text": [
            "   ❔ Pregunta: 'VOTOS VÁLIDOS' -> Respuesta: '53'\n",
            "\n",
            "--- Interrogando al acta: mesa_1_103514.jpg ---\n",
            "   ❔ Pregunta: 'AP' -> Respuesta: 'AP 0'\n",
            "   ❔ Pregunta: 'APB SÚMATE' -> Respuesta: 'APB SÚMATE MOSA 1'\n",
            "   ❔ Pregunta: 'CODIGO MESA' -> Respuesta: 'None'\n",
            "   ❔ Pregunta: 'ELECTORES HABILITADOS' -> Respuesta: '3'\n",
            "   ❔ Pregunta: 'FP' -> Respuesta: 'FP 004'\n",
            "   ❔ Pregunta: 'LIBRE' -> Respuesta: 'LIBRE 004'\n",
            "   ❔ Pregunta: 'LYP ADN' -> Respuesta: 'LYP ADN APB SOMATE'\n",
            "   ❔ Pregunta: 'MAS-IPSP' -> Respuesta: 'MAS-IPSP 0 0'\n",
            "   ❔ Pregunta: 'MESA' -> Respuesta: '9'\n",
            "   ❔ Pregunta: 'MORENA' -> Respuesta: 'MORENA 334862'\n",
            "   ❔ Pregunta: 'PAPELETAS EN ÁNFORA' -> Respuesta: '102'\n",
            "   ❔ Pregunta: 'PAPELETAS NO UTILIZADAS' -> Respuesta: '218'\n",
            "   ❔ Pregunta: 'PDC' -> Respuesta: 'PDC 011'\n",
            "   ❔ Pregunta: 'UNIDAD' -> Respuesta: 'UNIDAD 008'\n",
            "   ❔ Pregunta: 'VOTOS BLANCOS' -> Respuesta: '12'\n",
            "   ❔ Pregunta: 'VOTOS NULOS' -> Respuesta: '38'\n"
          ]
        },
        {
          "name": "stderr",
          "output_type": "stream",
          "text": [
            "\n",
            "Procesando Actas con Donut:  86%|████████▌ | 467/545 [3:28:23<34:59, 26.92s/it]\u001b[A"
          ]
        },
        {
          "name": "stdout",
          "output_type": "stream",
          "text": [
            "   ❔ Pregunta: 'VOTOS VÁLIDOS' -> Respuesta: '52'\n",
            "\n",
            "--- Interrogando al acta: mesa_7_103574.jpg ---\n",
            "   ❔ Pregunta: 'AP' -> Respuesta: 'AP 026'\n",
            "   ❔ Pregunta: 'APB SÚMATE' -> Respuesta: 'APB SÚMATE 006'\n",
            "   ❔ Pregunta: 'CODIGO MESA' -> Respuesta: '7'\n",
            "   ❔ Pregunta: 'ELECTORES HABILITADOS' -> Respuesta: '3'\n",
            "   ❔ Pregunta: 'FP' -> Respuesta: 'FP 003'\n",
            "   ❔ Pregunta: 'LIBRE' -> Respuesta: 'LIBRE 005'\n",
            "   ❔ Pregunta: 'LYP ADN' -> Respuesta: 'LYP ADN 002'\n",
            "   ❔ Pregunta: 'MAS-IPSP' -> Respuesta: 'MAS-IPSP 002'\n",
            "   ❔ Pregunta: 'MESA' -> Respuesta: '7'\n",
            "   ❔ Pregunta: 'MORENA' -> Respuesta: 'MORENA 09.40'\n",
            "   ❔ Pregunta: 'PAPELETAS EN ÁNFORA' -> Respuesta: '449'\n",
            "   ❔ Pregunta: 'PAPELETAS NO UTILIZADAS' -> Respuesta: '201'\n",
            "   ❔ Pregunta: 'PDC' -> Respuesta: 'PDC 012'\n",
            "   ❔ Pregunta: 'UNIDAD' -> Respuesta: 'UNIDAD 006'\n",
            "   ❔ Pregunta: 'VOTOS BLANCOS' -> Respuesta: '3'\n",
            "   ❔ Pregunta: 'VOTOS NULOS' -> Respuesta: '47'\n"
          ]
        },
        {
          "name": "stderr",
          "output_type": "stream",
          "text": [
            "\n",
            "Procesando Actas con Donut:  86%|████████▌ | 468/545 [3:28:49<34:25, 26.83s/it]\u001b[A"
          ]
        },
        {
          "name": "stdout",
          "output_type": "stream",
          "text": [
            "   ❔ Pregunta: 'VOTOS VÁLIDOS' -> Respuesta: '69'\n",
            "\n",
            "--- Interrogando al acta: mesa_6_103564.jpg ---\n",
            "   ❔ Pregunta: 'AP' -> Respuesta: 'AP 014'\n",
            "   ❔ Pregunta: 'APB SÚMATE' -> Respuesta: 'APB SÚMATE 0.8'\n",
            "   ❔ Pregunta: 'CODIGO MESA' -> Respuesta: '6'\n",
            "   ❔ Pregunta: 'ELECTORES HABILITADOS' -> Respuesta: '3'\n",
            "   ❔ Pregunta: 'FP' -> Respuesta: 'FP 003'\n",
            "   ❔ Pregunta: 'LIBRE' -> Respuesta: 'LIBRE 0.8'\n",
            "   ❔ Pregunta: 'LYP ADN' -> Respuesta: 'LYP ADN AP'\n",
            "   ❔ Pregunta: 'MAS-IPSP' -> Respuesta: 'MAS-IPSP 001'\n",
            "   ❔ Pregunta: 'MESA' -> Respuesta: '6'\n",
            "   ❔ Pregunta: 'MORENA' -> Respuesta: 'MORENA 014'\n",
            "   ❔ Pregunta: 'PAPELETAS EN ÁNFORA' -> Respuesta: '99'\n",
            "   ❔ Pregunta: 'PAPELETAS NO UTILIZADAS' -> Respuesta: '220'\n",
            "   ❔ Pregunta: 'PDC' -> Respuesta: 'PDC 010'\n",
            "   ❔ Pregunta: 'UNIDAD' -> Respuesta: 'UNIDAD 006'\n",
            "   ❔ Pregunta: 'VOTOS BLANCOS' -> Respuesta: '2'\n",
            "   ❔ Pregunta: 'VOTOS NULOS' -> Respuesta: '99'\n"
          ]
        },
        {
          "name": "stderr",
          "output_type": "stream",
          "text": [
            "\n",
            "Procesando Actas con Donut:  86%|████████▌ | 469/545 [3:29:17<34:05, 26.92s/it]\u001b[A"
          ]
        },
        {
          "name": "stdout",
          "output_type": "stream",
          "text": [
            "   ❔ Pregunta: 'VOTOS VÁLIDOS' -> Respuesta: '94'\n",
            "\n",
            "--- Interrogando al acta: mesa_3_100144.jpg ---\n",
            "   ❔ Pregunta: 'AP' -> Respuesta: 'AP 024'\n",
            "   ❔ Pregunta: 'APB SÚMATE' -> Respuesta: 'APB SÚMATE 007'\n",
            "   ❔ Pregunta: 'CODIGO MESA' -> Respuesta: '3'\n",
            "   ❔ Pregunta: 'ELECTORES HABILITADOS' -> Respuesta: '7'\n",
            "   ❔ Pregunta: 'FP' -> Respuesta: 'FP 004'\n",
            "   ❔ Pregunta: 'LIBRE' -> Respuesta: 'LIBRE 0.11'\n",
            "   ❔ Pregunta: 'LYP ADN' -> Respuesta: 'LYP ADN 007'\n",
            "   ❔ Pregunta: 'MAS-IPSP' -> Respuesta: 'MAS-IPSP 003'\n",
            "   ❔ Pregunta: 'MESA' -> Respuesta: '3'\n",
            "   ❔ Pregunta: 'MORENA' -> Respuesta: 'MORENA 0.81'\n",
            "   ❔ Pregunta: 'PAPELETAS EN ÁNFORA' -> Respuesta: '800'\n",
            "   ❔ Pregunta: 'PAPELETAS NO UTILIZADAS' -> Respuesta: '200'\n",
            "   ❔ Pregunta: 'PDC' -> Respuesta: 'PDC 026'\n",
            "   ❔ Pregunta: 'UNIDAD' -> Respuesta: 'UNIDAD 008'\n",
            "   ❔ Pregunta: 'VOTOS BLANCOS' -> Respuesta: '3'\n",
            "   ❔ Pregunta: 'VOTOS NULOS' -> Respuesta: '31'\n"
          ]
        },
        {
          "name": "stderr",
          "output_type": "stream",
          "text": [
            "\n",
            "Procesando Actas con Donut:  86%|████████▌ | 470/545 [3:29:44<33:41, 26.96s/it]\u001b[A"
          ]
        },
        {
          "name": "stdout",
          "output_type": "stream",
          "text": [
            "   ❔ Pregunta: 'VOTOS VÁLIDOS' -> Respuesta: '86'\n",
            "\n",
            "--- Interrogando al acta: mesa_1_100124.jpg ---\n",
            "   ❔ Pregunta: 'AP' -> Respuesta: 'AP 0 22'\n",
            "   ❔ Pregunta: 'APB SÚMATE' -> Respuesta: 'APB SÚMATE 09 20'\n",
            "   ❔ Pregunta: 'CODIGO MESA' -> Respuesta: '920'\n",
            "   ❔ Pregunta: 'ELECTORES HABILITADOS' -> Respuesta: '3'\n",
            "   ❔ Pregunta: 'FP' -> Respuesta: 'FP 001'\n",
            "   ❔ Pregunta: 'LIBRE' -> Respuesta: 'LIBRE 006'\n",
            "   ❔ Pregunta: 'LYP ADN' -> Respuesta: 'LYP ADN APB SONATE'\n",
            "   ❔ Pregunta: 'MAS-IPSP' -> Respuesta: 'MAS-IPSP 001'\n",
            "   ❔ Pregunta: 'MESA' -> Respuesta: '1'\n",
            "   ❔ Pregunta: 'MORENA' -> Respuesta: 'MORENA 722'\n",
            "   ❔ Pregunta: 'PAPELETAS EN ÁNFORA' -> Respuesta: '722'\n",
            "   ❔ Pregunta: 'PAPELETAS NO UTILIZADAS' -> Respuesta: '722'\n",
            "   ❔ Pregunta: 'PDC' -> Respuesta: 'PDC 029'\n",
            "   ❔ Pregunta: 'UNIDAD' -> Respuesta: 'UNIDAD 003'\n",
            "   ❔ Pregunta: 'VOTOS BLANCOS' -> Respuesta: '1'\n",
            "   ❔ Pregunta: 'VOTOS NULOS' -> Respuesta: '50'\n"
          ]
        },
        {
          "name": "stderr",
          "output_type": "stream",
          "text": [
            "\n",
            "Procesando Actas con Donut:  86%|████████▋ | 471/545 [3:30:11<33:15, 26.97s/it]\u001b[A"
          ]
        },
        {
          "name": "stdout",
          "output_type": "stream",
          "text": [
            "   ❔ Pregunta: 'VOTOS VÁLIDOS' -> Respuesta: '71'\n",
            "\n",
            "--- Interrogando al acta: mesa_5_100164.jpg ---\n",
            "   ❔ Pregunta: 'AP' -> Respuesta: 'AP 025'\n",
            "   ❔ Pregunta: 'APB SÚMATE' -> Respuesta: 'APB SÚMATE 0.25'\n",
            "   ❔ Pregunta: 'CODIGO MESA' -> Respuesta: '9'\n",
            "   ❔ Pregunta: 'ELECTORES HABILITADOS' -> Respuesta: '3'\n",
            "   ❔ Pregunta: 'FP' -> Respuesta: 'FP 008'\n",
            "   ❔ Pregunta: 'LIBRE' -> Respuesta: 'LIBRE 004'\n",
            "   ❔ Pregunta: 'LYP ADN' -> Respuesta: 'LYP ADN 000'\n",
            "   ❔ Pregunta: 'MAS-IPSP' -> Respuesta: 'MAS-IPSP 004'\n",
            "   ❔ Pregunta: 'MESA' -> Respuesta: '5'\n",
            "   ❔ Pregunta: 'MORENA' -> Respuesta: 'MORENA 025'\n",
            "   ❔ Pregunta: 'PAPELETAS EN ÁNFORA' -> Respuesta: '99'\n",
            "   ❔ Pregunta: 'PAPELETAS NO UTILIZADAS' -> Respuesta: '20'\n",
            "   ❔ Pregunta: 'PDC' -> Respuesta: 'PDC 027'\n",
            "   ❔ Pregunta: 'UNIDAD' -> Respuesta: 'UNIDAD 004'\n",
            "   ❔ Pregunta: 'VOTOS BLANCOS' -> Respuesta: '2'\n",
            "   ❔ Pregunta: 'VOTOS NULOS' -> Respuesta: '44'\n"
          ]
        },
        {
          "name": "stderr",
          "output_type": "stream",
          "text": [
            "\n",
            "Procesando Actas con Donut:  87%|████████▋ | 472/545 [3:30:37<32:40, 26.86s/it]\u001b[A"
          ]
        },
        {
          "name": "stdout",
          "output_type": "stream",
          "text": [
            "   ❔ Pregunta: 'VOTOS VÁLIDOS' -> Respuesta: '74'\n",
            "\n",
            "--- Interrogando al acta: mesa_4_100154.jpg ---\n",
            "   ❔ Pregunta: 'AP' -> Respuesta: 'AP 0.8'\n",
            "   ❔ Pregunta: 'APB SÚMATE' -> Respuesta: 'APB SÚMATE 004'\n",
            "   ❔ Pregunta: 'CODIGO MESA' -> Respuesta: '4'\n",
            "   ❔ Pregunta: 'ELECTORES HABILITADOS' -> Respuesta: '3'\n",
            "   ❔ Pregunta: 'FP' -> Respuesta: 'FP 003'\n",
            "   ❔ Pregunta: 'LIBRE' -> Respuesta: 'LIBRE 004'\n",
            "   ❔ Pregunta: 'LYP ADN' -> Respuesta: 'LYP ADN AP'\n",
            "   ❔ Pregunta: 'MAS-IPSP' -> Respuesta: 'MAS-IPSP 00 2'\n",
            "   ❔ Pregunta: 'MESA' -> Respuesta: '4'\n",
            "   ❔ Pregunta: 'MORENA' -> Respuesta: 'MORENA 7 9 3'\n",
            "   ❔ Pregunta: 'PAPELETAS EN ÁNFORA' -> Respuesta: '797'\n",
            "   ❔ Pregunta: 'PAPELETAS NO UTILIZADAS' -> Respuesta: '793'\n",
            "   ❔ Pregunta: 'PDC' -> Respuesta: 'PDC 046'\n",
            "   ❔ Pregunta: 'UNIDAD' -> Respuesta: 'UNIDAD 003'\n",
            "   ❔ Pregunta: 'VOTOS BLANCOS' -> Respuesta: '3'\n",
            "   ❔ Pregunta: 'VOTOS NULOS' -> Respuesta: '36'\n"
          ]
        },
        {
          "name": "stderr",
          "output_type": "stream",
          "text": [
            "\n",
            "Procesando Actas con Donut:  87%|████████▋ | 473/545 [3:31:04<32:09, 26.80s/it]\u001b[A"
          ]
        },
        {
          "name": "stdout",
          "output_type": "stream",
          "text": [
            "   ❔ Pregunta: 'VOTOS VÁLIDOS' -> Respuesta: '86'\n",
            "\n",
            "--- Interrogando al acta: mesa_2_100134.jpg ---\n",
            "   ❔ Pregunta: 'AP' -> Respuesta: 'AP 031'\n",
            "   ❔ Pregunta: 'APB SÚMATE' -> Respuesta: 'APB SÚMATE EMAS: 2'\n",
            "   ❔ Pregunta: 'CODIGO MESA' -> Respuesta: '2'\n",
            "   ❔ Pregunta: 'ELECTORES HABILITADOS' -> Respuesta: '3'\n",
            "   ❔ Pregunta: 'FP' -> Respuesta: 'FP 000'\n",
            "   ❔ Pregunta: 'LIBRE' -> Respuesta: 'LIBRE 001'\n",
            "   ❔ Pregunta: 'LYP ADN' -> Respuesta: 'LYP ADN APB SUMATE'\n",
            "   ❔ Pregunta: 'MAS-IPSP' -> Respuesta: 'MAS-IPSP 001'\n",
            "   ❔ Pregunta: 'MESA' -> Respuesta: '2'\n",
            "   ❔ Pregunta: 'MORENA' -> Respuesta: 'MORENA 230097'\n",
            "   ❔ Pregunta: 'PAPELETAS EN ÁNFORA' -> Respuesta: '45'\n",
            "   ❔ Pregunta: 'PAPELETAS NO UTILIZADAS' -> Respuesta: '201'\n",
            "   ❔ Pregunta: 'PDC' -> Respuesta: 'PDC 030'\n",
            "   ❔ Pregunta: 'UNIDAD' -> Respuesta: 'UNIDAD 002'\n",
            "   ❔ Pregunta: 'VOTOS BLANCOS' -> Respuesta: '2'\n",
            "   ❔ Pregunta: 'VOTOS NULOS' -> Respuesta: '45'\n"
          ]
        },
        {
          "name": "stderr",
          "output_type": "stream",
          "text": [
            "\n",
            "Procesando Actas con Donut:  87%|████████▋ | 474/545 [3:31:31<31:40, 26.77s/it]\u001b[A"
          ]
        },
        {
          "name": "stdout",
          "output_type": "stream",
          "text": [
            "   ❔ Pregunta: 'VOTOS VÁLIDOS' -> Respuesta: '71'\n",
            "\n",
            "--- Interrogando al acta: mesa_6_100174.jpg ---\n",
            "   ❔ Pregunta: 'AP' -> Respuesta: 'AP 045'\n",
            "   ❔ Pregunta: 'APB SÚMATE' -> Respuesta: 'APB SÚMATE MOSA 6'\n",
            "   ❔ Pregunta: 'CODIGO MESA' -> Respuesta: 'None'\n",
            "   ❔ Pregunta: 'ELECTORES HABILITADOS' -> Respuesta: '3'\n",
            "   ❔ Pregunta: 'FP' -> Respuesta: 'FP 003'\n",
            "   ❔ Pregunta: 'LIBRE' -> Respuesta: 'LIBRE 0.45'\n",
            "   ❔ Pregunta: 'LYP ADN' -> Respuesta: 'LYP ADN APB SOMATE'\n",
            "   ❔ Pregunta: 'MAS-IPSP' -> Respuesta: 'MAS-IPSP 003'\n",
            "   ❔ Pregunta: 'MESA' -> Respuesta: '6'\n",
            "   ❔ Pregunta: 'MORENA' -> Respuesta: 'MORENA 55.1392'\n",
            "   ❔ Pregunta: 'PAPELETAS EN ÁNFORA' -> Respuesta: '728'\n",
            "   ❔ Pregunta: 'PAPELETAS NO UTILIZADAS' -> Respuesta: '790'\n",
            "   ❔ Pregunta: 'PDC' -> Respuesta: 'PDC 031'\n",
            "   ❔ Pregunta: 'UNIDAD' -> Respuesta: 'UNIDAD 008'\n",
            "   ❔ Pregunta: 'VOTOS BLANCOS' -> Respuesta: '2'\n",
            "   ❔ Pregunta: 'VOTOS NULOS' -> Respuesta: '42'\n"
          ]
        },
        {
          "name": "stderr",
          "output_type": "stream",
          "text": [
            "\n",
            "Procesando Actas con Donut:  87%|████████▋ | 475/545 [3:31:57<31:14, 26.78s/it]\u001b[A"
          ]
        },
        {
          "name": "stdout",
          "output_type": "stream",
          "text": [
            "   ❔ Pregunta: 'VOTOS VÁLIDOS' -> Respuesta: '84'\n",
            "\n",
            "--- Interrogando al acta: mesa_7_100184.jpg ---\n",
            "   ❔ Pregunta: 'AP' -> Respuesta: 'AP 015'\n",
            "   ❔ Pregunta: 'APB SÚMATE' -> Respuesta: 'APB SÚMATE MESA: 7'\n",
            "   ❔ Pregunta: 'CODIGO MESA' -> Respuesta: '736'\n",
            "   ❔ Pregunta: 'ELECTORES HABILITADOS' -> Respuesta: '3'\n",
            "   ❔ Pregunta: 'FP' -> Respuesta: 'FP 002'\n",
            "   ❔ Pregunta: 'LIBRE' -> Respuesta: 'LIBRE 003'\n",
            "   ❔ Pregunta: 'LYP ADN' -> Respuesta: 'LYP ADN AP'\n",
            "   ❔ Pregunta: 'MAS-IPSP' -> Respuesta: 'MAS-IPSP 007'\n",
            "   ❔ Pregunta: 'MESA' -> Respuesta: '7'\n",
            "   ❔ Pregunta: 'MORENA' -> Respuesta: 'MORENA 736'\n",
            "   ❔ Pregunta: 'PAPELETAS EN ÁNFORA' -> Respuesta: '670'\n",
            "   ❔ Pregunta: 'PAPELETAS NO UTILIZADAS' -> Respuesta: '736'\n",
            "   ❔ Pregunta: 'PDC' -> Respuesta: 'PDC 019'\n",
            "   ❔ Pregunta: 'UNIDAD' -> Respuesta: 'UNIDAD 00 2'\n",
            "   ❔ Pregunta: 'VOTOS BLANCOS' -> Respuesta: '0'\n",
            "   ❔ Pregunta: 'VOTOS NULOS' -> Respuesta: '23'\n"
          ]
        },
        {
          "name": "stderr",
          "output_type": "stream",
          "text": [
            "\n",
            "Procesando Actas con Donut:  87%|████████▋ | 476/545 [3:32:24<30:51, 26.83s/it]\u001b[A"
          ]
        },
        {
          "name": "stdout",
          "output_type": "stream",
          "text": [
            "   ❔ Pregunta: 'VOTOS VÁLIDOS' -> Respuesta: '44'\n",
            "\n",
            "--- Interrogando al acta: mesa_1_105264.jpg ---\n",
            "   ❔ Pregunta: 'AP' -> Respuesta: 'AP A3'\n",
            "   ❔ Pregunta: 'APB SÚMATE' -> Respuesta: 'APB SÚMATE MESA 1'\n",
            "   ❔ Pregunta: 'CODIGO MESA' -> Respuesta: '1'\n",
            "   ❔ Pregunta: 'ELECTORES HABILITADOS' -> Respuesta: '3'\n",
            "   ❔ Pregunta: 'FP' -> Respuesta: 'FP A3'\n",
            "   ❔ Pregunta: 'LIBRE' -> Respuesta: 'LIBRE A3'\n",
            "   ❔ Pregunta: 'LYP ADN' -> Respuesta: 'LYP ADN OEP'\n",
            "   ❔ Pregunta: 'MAS-IPSP' -> Respuesta: 'MAS-IPSP 0.2'\n",
            "   ❔ Pregunta: 'MESA' -> Respuesta: '1'\n",
            "   ❔ Pregunta: 'MORENA' -> Respuesta: 'MORENA 105264'\n",
            "   ❔ Pregunta: 'PAPELETAS EN ÁNFORA' -> Respuesta: '5264'\n",
            "   ❔ Pregunta: 'PAPELETAS NO UTILIZADAS' -> Respuesta: '6'\n",
            "   ❔ Pregunta: 'PDC' -> Respuesta: 'PDC MCDO'\n",
            "   ❔ Pregunta: 'UNIDAD' -> Respuesta: 'UNIDAD MESA 1'\n",
            "   ❔ Pregunta: 'VOTOS BLANCOS' -> Respuesta: '7'\n",
            "   ❔ Pregunta: 'VOTOS NULOS' -> Respuesta: '25'\n"
          ]
        },
        {
          "name": "stderr",
          "output_type": "stream",
          "text": [
            "\n",
            "Procesando Actas con Donut:  88%|████████▊ | 477/545 [3:32:51<30:22, 26.80s/it]\u001b[A"
          ]
        },
        {
          "name": "stdout",
          "output_type": "stream",
          "text": [
            "   ❔ Pregunta: 'VOTOS VÁLIDOS' -> Respuesta: '6'\n",
            "\n",
            "--- Interrogando al acta: mesa_2_105274.jpg ---\n",
            "   ❔ Pregunta: 'AP' -> Respuesta: 'AP MOSA'\n",
            "   ❔ Pregunta: 'APB SÚMATE' -> Respuesta: 'APB SÚMATE MESA 2'\n",
            "   ❔ Pregunta: 'CODIGO MESA' -> Respuesta: '800'\n",
            "   ❔ Pregunta: 'ELECTORES HABILITADOS' -> Respuesta: '3'\n",
            "   ❔ Pregunta: 'FP' -> Respuesta: 'FP MOSA'\n",
            "   ❔ Pregunta: 'LIBRE' -> Respuesta: 'LIBRE MESA'\n",
            "   ❔ Pregunta: 'LYP ADN' -> Respuesta: 'LYP ADN MESA 2'\n",
            "   ❔ Pregunta: 'MAS-IPSP' -> Respuesta: 'MAS-IPSP WWW.GOV'\n",
            "   ❔ Pregunta: 'MESA' -> Respuesta: '2'\n",
            "   ❔ Pregunta: 'MORENA' -> Respuesta: 'MORENA MOSP'\n",
            "   ❔ Pregunta: 'PAPELETAS EN ÁNFORA' -> Respuesta: '1'\n",
            "   ❔ Pregunta: 'PAPELETAS NO UTILIZADAS' -> Respuesta: '333'\n",
            "   ❔ Pregunta: 'PDC' -> Respuesta: 'PDC 001'\n",
            "   ❔ Pregunta: 'UNIDAD' -> Respuesta: 'UNIDAD 8.00'\n",
            "   ❔ Pregunta: 'VOTOS BLANCOS' -> Respuesta: '6'\n",
            "   ❔ Pregunta: 'VOTOS NULOS' -> Respuesta: '33'\n"
          ]
        },
        {
          "name": "stderr",
          "output_type": "stream",
          "text": [
            "\n",
            "Procesando Actas con Donut:  88%|████████▊ | 478/545 [3:33:18<30:00, 26.87s/it]\u001b[A"
          ]
        },
        {
          "name": "stdout",
          "output_type": "stream",
          "text": [
            "   ❔ Pregunta: 'VOTOS VÁLIDOS' -> Respuesta: '6'\n",
            "\n",
            "--- Interrogando al acta: mesa_2_105354.jpg ---\n",
            "   ❔ Pregunta: 'AP' -> Respuesta: 'AP MOSA'\n",
            "   ❔ Pregunta: 'APB SÚMATE' -> Respuesta: 'APB SÚMATE 002'\n",
            "   ❔ Pregunta: 'CODIGO MESA' -> Respuesta: '2'\n",
            "   ❔ Pregunta: 'ELECTORES HABILITADOS' -> Respuesta: '3'\n",
            "   ❔ Pregunta: 'FP' -> Respuesta: 'FP 000'\n",
            "   ❔ Pregunta: 'LIBRE' -> Respuesta: 'LIBRE 003'\n",
            "   ❔ Pregunta: 'LYP ADN' -> Respuesta: 'LYP ADN AP'\n",
            "   ❔ Pregunta: 'MAS-IPSP' -> Respuesta: 'MAS-IPSP 081'\n",
            "   ❔ Pregunta: 'MESA' -> Respuesta: '2'\n",
            "   ❔ Pregunta: 'MORENA' -> Respuesta: 'MORENA A3'\n",
            "   ❔ Pregunta: 'PAPELETAS EN ÁNFORA' -> Respuesta: '24'\n",
            "   ❔ Pregunta: 'PAPELETAS NO UTILIZADAS' -> Respuesta: '29'\n",
            "   ❔ Pregunta: 'PDC' -> Respuesta: 'PDC 002'\n",
            "   ❔ Pregunta: 'UNIDAD' -> Respuesta: 'UNIDAD 001'\n",
            "   ❔ Pregunta: 'VOTOS BLANCOS' -> Respuesta: '2'\n",
            "   ❔ Pregunta: 'VOTOS NULOS' -> Respuesta: '6'\n"
          ]
        },
        {
          "name": "stderr",
          "output_type": "stream",
          "text": [
            "\n",
            "Procesando Actas con Donut:  88%|████████▊ | 479/545 [3:33:45<29:34, 26.89s/it]\u001b[A"
          ]
        },
        {
          "name": "stdout",
          "output_type": "stream",
          "text": [
            "   ❔ Pregunta: 'VOTOS VÁLIDOS' -> Respuesta: '16'\n",
            "\n",
            "--- Interrogando al acta: mesa_1_105344.jpg ---\n",
            "   ❔ Pregunta: 'AP' -> Respuesta: 'AP LYN ADN'\n",
            "   ❔ Pregunta: 'APB SÚMATE' -> Respuesta: 'APB SÚMATE 001'\n",
            "   ❔ Pregunta: 'CODIGO MESA' -> Respuesta: 'None'\n",
            "   ❔ Pregunta: 'ELECTORES HABILITADOS' -> Respuesta: '3'\n",
            "   ❔ Pregunta: 'FP' -> Respuesta: 'FP 004'\n",
            "   ❔ Pregunta: 'LIBRE' -> Respuesta: 'LIBRE 005'\n",
            "   ❔ Pregunta: 'LYP ADN' -> Respuesta: 'LYP ADN AP'\n",
            "   ❔ Pregunta: 'MAS-IPSP' -> Respuesta: 'MAS-IPSP 001'\n",
            "   ❔ Pregunta: 'MESA' -> Respuesta: '1'\n",
            "   ❔ Pregunta: 'MORENA' -> Respuesta: 'MORENA AP'\n",
            "   ❔ Pregunta: 'PAPELETAS EN ÁNFORA' -> Respuesta: '103'\n",
            "   ❔ Pregunta: 'PAPELETAS NO UTILIZADAS' -> Respuesta: '217'\n",
            "   ❔ Pregunta: 'PDC' -> Respuesta: 'PDC 022'\n",
            "   ❔ Pregunta: 'UNIDAD' -> Respuesta: 'UNIDAD 005'\n",
            "   ❔ Pregunta: 'VOTOS BLANCOS' -> Respuesta: '5'\n",
            "   ❔ Pregunta: 'VOTOS NULOS' -> Respuesta: '42'\n"
          ]
        },
        {
          "name": "stderr",
          "output_type": "stream",
          "text": [
            "\n",
            "Procesando Actas con Donut:  88%|████████▊ | 480/545 [3:34:12<29:06, 26.86s/it]\u001b[A"
          ]
        },
        {
          "name": "stdout",
          "output_type": "stream",
          "text": [
            "   ❔ Pregunta: 'VOTOS VÁLIDOS' -> Respuesta: '56'\n",
            "\n",
            "--- Interrogando al acta: mesa_1_105324.jpg ---\n",
            "   ❔ Pregunta: 'AP' -> Respuesta: 'AP OEP'\n",
            "   ❔ Pregunta: 'APB SÚMATE' -> Respuesta: 'APB SÚMATE 08.22'\n",
            "   ❔ Pregunta: 'CODIGO MESA' -> Respuesta: '1'\n",
            "   ❔ Pregunta: 'ELECTORES HABILITADOS' -> Respuesta: '3'\n",
            "   ❔ Pregunta: 'FP' -> Respuesta: 'FP 0EP'\n",
            "   ❔ Pregunta: 'LIBRE' -> Respuesta: 'LIBRE MSA:1'\n",
            "   ❔ Pregunta: 'LYP ADN' -> Respuesta: 'LYP ADN 052'\n",
            "   ❔ Pregunta: 'MAS-IPSP' -> Respuesta: 'MAS-IPSP 0.2'\n",
            "   ❔ Pregunta: 'MESA' -> Respuesta: '1'\n",
            "   ❔ Pregunta: 'MORENA' -> Respuesta: 'MORENA 1 95'\n",
            "   ❔ Pregunta: 'PAPELETAS EN ÁNFORA' -> Respuesta: '26'\n",
            "   ❔ Pregunta: 'PAPELETAS NO UTILIZADAS' -> Respuesta: '26'\n",
            "   ❔ Pregunta: 'PDC' -> Respuesta: 'PDC 0 26'\n",
            "   ❔ Pregunta: 'UNIDAD' -> Respuesta: 'UNIDAD 0.26'\n",
            "   ❔ Pregunta: 'VOTOS BLANCOS' -> Respuesta: '26'\n",
            "   ❔ Pregunta: 'VOTOS NULOS' -> Respuesta: '52'\n"
          ]
        },
        {
          "name": "stderr",
          "output_type": "stream",
          "text": [
            "\n",
            "Procesando Actas con Donut:  88%|████████▊ | 481/545 [3:34:39<28:39, 26.86s/it]\u001b[A"
          ]
        },
        {
          "name": "stdout",
          "output_type": "stream",
          "text": [
            "   ❔ Pregunta: 'VOTOS VÁLIDOS' -> Respuesta: '26'\n",
            "\n",
            "--- Interrogando al acta: mesa_2_105334.jpg ---\n",
            "   ❔ Pregunta: 'AP' -> Respuesta: 'AP 0.11'\n",
            "   ❔ Pregunta: 'APB SÚMATE' -> Respuesta: 'APB SÚMATE 08.23'\n",
            "   ❔ Pregunta: 'CODIGO MESA' -> Respuesta: '2'\n",
            "   ❔ Pregunta: 'ELECTORES HABILITADOS' -> Respuesta: '7'\n",
            "   ❔ Pregunta: 'FP' -> Respuesta: 'FP 08.23'\n",
            "   ❔ Pregunta: 'LIBRE' -> Respuesta: 'LIBRE 002'\n",
            "   ❔ Pregunta: 'LYP ADN' -> Respuesta: 'LYP ADN 08.23'\n",
            "   ❔ Pregunta: 'MAS-IPSP' -> Respuesta: 'MAS-IPSP 0.65'\n",
            "   ❔ Pregunta: 'MESA' -> Respuesta: '2'\n",
            "   ❔ Pregunta: 'MORENA' -> Respuesta: 'MORENA 08.23'\n",
            "   ❔ Pregunta: 'PAPELETAS EN ÁNFORA' -> Respuesta: '99'\n",
            "   ❔ Pregunta: 'PAPELETAS NO UTILIZADAS' -> Respuesta: '99'\n",
            "   ❔ Pregunta: 'PDC' -> Respuesta: 'PDC 009'\n",
            "   ❔ Pregunta: 'UNIDAD' -> Respuesta: 'UNIDAD 003'\n",
            "   ❔ Pregunta: 'VOTOS BLANCOS' -> Respuesta: '13'\n",
            "   ❔ Pregunta: 'VOTOS NULOS' -> Respuesta: '49'\n"
          ]
        },
        {
          "name": "stderr",
          "output_type": "stream",
          "text": [
            "\n",
            "Procesando Actas con Donut:  88%|████████▊ | 482/545 [3:35:05<28:10, 26.84s/it]\u001b[A"
          ]
        },
        {
          "name": "stdout",
          "output_type": "stream",
          "text": [
            "   ❔ Pregunta: 'VOTOS VÁLIDOS' -> Respuesta: '31'\n",
            "\n",
            "--- Interrogando al acta: mesa_3_105394.jpg ---\n",
            "   ❔ Pregunta: 'AP' -> Respuesta: 'AP 005'\n",
            "   ❔ Pregunta: 'APB SÚMATE' -> Respuesta: 'APB SÚMATE APB SMATE'\n",
            "   ❔ Pregunta: 'CODIGO MESA' -> Respuesta: 'None'\n",
            "   ❔ Pregunta: 'ELECTORES HABILITADOS' -> Respuesta: '3'\n",
            "   ❔ Pregunta: 'FP' -> Respuesta: 'FP 000'\n",
            "   ❔ Pregunta: 'LIBRE' -> Respuesta: 'LIBRE 001'\n",
            "   ❔ Pregunta: 'LYP ADN' -> Respuesta: 'LYP ADN APB SOMATE'\n",
            "   ❔ Pregunta: 'MAS-IPSP' -> Respuesta: 'MAS-IPSP 0'\n",
            "   ❔ Pregunta: 'MESA' -> Respuesta: '3'\n",
            "   ❔ Pregunta: 'MORENA' -> Respuesta: 'MORENA 65 7491'\n",
            "   ❔ Pregunta: 'PAPELETAS EN ÁNFORA' -> Respuesta: '18'\n",
            "   ❔ Pregunta: 'PAPELETAS NO UTILIZADAS' -> Respuesta: '93'\n",
            "   ❔ Pregunta: 'PDC' -> Respuesta: 'PDC 004'\n",
            "   ❔ Pregunta: 'UNIDAD' -> Respuesta: 'UNIDAD 000'\n",
            "   ❔ Pregunta: 'VOTOS BLANCOS' -> Respuesta: '0'\n",
            "   ❔ Pregunta: 'VOTOS NULOS' -> Respuesta: '5'\n"
          ]
        },
        {
          "name": "stderr",
          "output_type": "stream",
          "text": [
            "\n",
            "Procesando Actas con Donut:  89%|████████▊ | 483/545 [3:35:32<27:46, 26.88s/it]\u001b[A"
          ]
        },
        {
          "name": "stdout",
          "output_type": "stream",
          "text": [
            "   ❔ Pregunta: 'VOTOS VÁLIDOS' -> Respuesta: '13'\n",
            "\n",
            "--- Interrogando al acta: mesa_2_105384.jpg ---\n",
            "   ❔ Pregunta: 'AP' -> Respuesta: 'AP 0.31'\n",
            "   ❔ Pregunta: 'APB SÚMATE' -> Respuesta: 'APB SÚMATE MOS-ISP'\n",
            "   ❔ Pregunta: 'CODIGO MESA' -> Respuesta: 'None'\n",
            "   ❔ Pregunta: 'ELECTORES HABILITADOS' -> Respuesta: '3'\n",
            "   ❔ Pregunta: 'FP' -> Respuesta: 'FP 001'\n",
            "   ❔ Pregunta: 'LIBRE' -> Respuesta: 'LIBRE 0.31'\n",
            "   ❔ Pregunta: 'LYP ADN' -> Respuesta: 'LYP ADN AP'\n",
            "   ❔ Pregunta: 'MAS-IPSP' -> Respuesta: 'MAS-IPSP 001'\n",
            "   ❔ Pregunta: 'MESA' -> Respuesta: 'None'\n",
            "   ❔ Pregunta: 'MORENA' -> Respuesta: 'MORENA 0 31'\n",
            "   ❔ Pregunta: 'PAPELETAS EN ÁNFORA' -> Respuesta: '31'\n",
            "   ❔ Pregunta: 'PAPELETAS NO UTILIZADAS' -> Respuesta: '31'\n",
            "   ❔ Pregunta: 'PDC' -> Respuesta: 'PDC 002'\n",
            "   ❔ Pregunta: 'UNIDAD' -> Respuesta: 'UNIDAD 001'\n",
            "   ❔ Pregunta: 'VOTOS BLANCOS' -> Respuesta: '1'\n",
            "   ❔ Pregunta: 'VOTOS NULOS' -> Respuesta: '31'\n"
          ]
        },
        {
          "name": "stderr",
          "output_type": "stream",
          "text": [
            "\n",
            "Procesando Actas con Donut:  89%|████████▉ | 484/545 [3:35:59<27:16, 26.84s/it]\u001b[A"
          ]
        },
        {
          "name": "stdout",
          "output_type": "stream",
          "text": [
            "   ❔ Pregunta: 'VOTOS VÁLIDOS' -> Respuesta: '18'\n",
            "\n",
            "--- Interrogando al acta: mesa_1_105374.jpg ---\n",
            "   ❔ Pregunta: 'AP' -> Respuesta: 'AP 004'\n",
            "   ❔ Pregunta: 'APB SÚMATE' -> Respuesta: 'APB SÚMATE MOSA:1'\n",
            "   ❔ Pregunta: 'CODIGO MESA' -> Respuesta: '1'\n",
            "   ❔ Pregunta: 'ELECTORES HABILITADOS' -> Respuesta: 'None'\n",
            "   ❔ Pregunta: 'FP' -> Respuesta: 'FP 000'\n",
            "   ❔ Pregunta: 'LIBRE' -> Respuesta: 'LIBRE 001'\n",
            "   ❔ Pregunta: 'LYP ADN' -> Respuesta: 'LYP ADN 004'\n",
            "   ❔ Pregunta: 'MAS-IPSP' -> Respuesta: 'MAS-IPSP 0 0'\n",
            "   ❔ Pregunta: 'MESA' -> Respuesta: '1'\n",
            "   ❔ Pregunta: 'MORENA' -> Respuesta: 'MORENA 0.9'\n",
            "   ❔ Pregunta: 'PAPELETAS EN ÁNFORA' -> Respuesta: '50'\n",
            "   ❔ Pregunta: 'PAPELETAS NO UTILIZADAS' -> Respuesta: '30'\n",
            "   ❔ Pregunta: 'PDC' -> Respuesta: 'PDC 006'\n",
            "   ❔ Pregunta: 'UNIDAD' -> Respuesta: 'UNIDAD 001'\n",
            "   ❔ Pregunta: 'VOTOS BLANCOS' -> Respuesta: '7'\n",
            "   ❔ Pregunta: 'VOTOS NULOS' -> Respuesta: '15'\n"
          ]
        },
        {
          "name": "stderr",
          "output_type": "stream",
          "text": [
            "\n",
            "Procesando Actas con Donut:  89%|████████▉ | 485/545 [3:36:26<26:56, 26.94s/it]\u001b[A"
          ]
        },
        {
          "name": "stdout",
          "output_type": "stream",
          "text": [
            "   ❔ Pregunta: 'VOTOS VÁLIDOS' -> Respuesta: '14'\n",
            "\n",
            "--- Interrogando al acta: mesa_1_105364.jpg ---\n",
            "   ❔ Pregunta: 'AP' -> Respuesta: 'AP 0 15'\n",
            "   ❔ Pregunta: 'APB SÚMATE' -> Respuesta: 'APB SÚMATE 0.15'\n",
            "   ❔ Pregunta: 'CODIGO MESA' -> Respuesta: '1'\n",
            "   ❔ Pregunta: 'ELECTORES HABILITADOS' -> Respuesta: 'None'\n",
            "   ❔ Pregunta: 'FP' -> Respuesta: 'FP 003'\n",
            "   ❔ Pregunta: 'LIBRE' -> Respuesta: 'LIBRE 004'\n",
            "   ❔ Pregunta: 'LYP ADN' -> Respuesta: 'LYP ADN 001'\n",
            "   ❔ Pregunta: 'MAS-IPSP' -> Respuesta: 'MAS-IPSP 001'\n",
            "   ❔ Pregunta: 'MESA' -> Respuesta: '1'\n",
            "   ❔ Pregunta: 'MORENA' -> Respuesta: 'MORENA 05'\n",
            "   ❔ Pregunta: 'PAPELETAS EN ÁNFORA' -> Respuesta: '45'\n",
            "   ❔ Pregunta: 'PAPELETAS NO UTILIZADAS' -> Respuesta: '5'\n",
            "   ❔ Pregunta: 'PDC' -> Respuesta: 'PDC 008'\n",
            "   ❔ Pregunta: 'UNIDAD' -> Respuesta: 'UNIDAD 001'\n",
            "   ❔ Pregunta: 'VOTOS BLANCOS' -> Respuesta: '5'\n",
            "   ❔ Pregunta: 'VOTOS NULOS' -> Respuesta: '66'\n"
          ]
        },
        {
          "name": "stderr",
          "output_type": "stream",
          "text": [
            "\n",
            "Procesando Actas con Donut:  89%|████████▉ | 486/545 [3:36:53<26:23, 26.84s/it]\u001b[A"
          ]
        },
        {
          "name": "stdout",
          "output_type": "stream",
          "text": [
            "   ❔ Pregunta: 'VOTOS VÁLIDOS' -> Respuesta: '43'\n",
            "\n",
            "--- Interrogando al acta: mesa_3_104794.jpg ---\n",
            "   ❔ Pregunta: 'AP' -> Respuesta: 'AP 0.83'\n",
            "   ❔ Pregunta: 'APB SÚMATE' -> Respuesta: 'APB SÚMATE 08.05'\n",
            "   ❔ Pregunta: 'CODIGO MESA' -> Respuesta: '3'\n",
            "   ❔ Pregunta: 'ELECTORES HABILITADOS' -> Respuesta: '3'\n",
            "   ❔ Pregunta: 'FP' -> Respuesta: 'FP 08.05'\n",
            "   ❔ Pregunta: 'LIBRE' -> Respuesta: 'LIBRE 0.83'\n",
            "   ❔ Pregunta: 'LYP ADN' -> Respuesta: 'LYP ADN 08 05'\n",
            "   ❔ Pregunta: 'MAS-IPSP' -> Respuesta: 'MAS-IPSP 001'\n",
            "   ❔ Pregunta: 'MESA' -> Respuesta: '3'\n",
            "   ❔ Pregunta: 'MORENA' -> Respuesta: 'MORENA 08.05'\n",
            "   ❔ Pregunta: 'PAPELETAS EN ÁNFORA' -> Respuesta: '83'\n",
            "   ❔ Pregunta: 'PAPELETAS NO UTILIZADAS' -> Respuesta: '83'\n",
            "   ❔ Pregunta: 'PDC' -> Respuesta: 'PDC 08.05'\n",
            "   ❔ Pregunta: 'UNIDAD' -> Respuesta: 'UNIDAD 008'\n",
            "   ❔ Pregunta: 'VOTOS BLANCOS' -> Respuesta: '1'\n",
            "   ❔ Pregunta: 'VOTOS NULOS' -> Respuesta: '83'\n"
          ]
        },
        {
          "name": "stderr",
          "output_type": "stream",
          "text": [
            "\n",
            "Procesando Actas con Donut:  89%|████████▉ | 487/545 [3:37:20<25:56, 26.83s/it]\u001b[A"
          ]
        },
        {
          "name": "stdout",
          "output_type": "stream",
          "text": [
            "   ❔ Pregunta: 'VOTOS VÁLIDOS' -> Respuesta: '40'\n",
            "\n",
            "--- Interrogando al acta: mesa_4_104804.jpg ---\n",
            "   ❔ Pregunta: 'AP' -> Respuesta: 'AP A3'\n",
            "   ❔ Pregunta: 'APB SÚMATE' -> Respuesta: 'APB SÚMATE 0.80'\n",
            "   ❔ Pregunta: 'CODIGO MESA' -> Respuesta: '800'\n",
            "   ❔ Pregunta: 'ELECTORES HABILITADOS' -> Respuesta: '3'\n",
            "   ❔ Pregunta: 'FP' -> Respuesta: 'FP 0'\n",
            "   ❔ Pregunta: 'LIBRE' -> Respuesta: 'LIBRE MESA 4'\n",
            "   ❔ Pregunta: 'LYP ADN' -> Respuesta: 'LYP ADN OEP'\n",
            "   ❔ Pregunta: 'MAS-IPSP' -> Respuesta: 'MAS-IPSP 030'\n",
            "   ❔ Pregunta: 'MESA' -> Respuesta: '4'\n",
            "   ❔ Pregunta: 'MORENA' -> Respuesta: 'MORENA 10480-4'\n",
            "   ❔ Pregunta: 'PAPELETAS EN ÁNFORA' -> Respuesta: '30'\n",
            "   ❔ Pregunta: 'PAPELETAS NO UTILIZADAS' -> Respuesta: '30'\n",
            "   ❔ Pregunta: 'PDC' -> Respuesta: 'PDC 003'\n",
            "   ❔ Pregunta: 'UNIDAD' -> Respuesta: 'UNIDAD 080'\n",
            "   ❔ Pregunta: 'VOTOS BLANCOS' -> Respuesta: '1'\n",
            "   ❔ Pregunta: 'VOTOS NULOS' -> Respuesta: '26'\n"
          ]
        },
        {
          "name": "stderr",
          "output_type": "stream",
          "text": [
            "\n",
            "Procesando Actas con Donut:  90%|████████▉ | 488/545 [3:37:46<25:27, 26.80s/it]\u001b[A"
          ]
        },
        {
          "name": "stdout",
          "output_type": "stream",
          "text": [
            "   ❔ Pregunta: 'VOTOS VÁLIDOS' -> Respuesta: '26'\n",
            "\n",
            "--- Interrogando al acta: mesa_1_104774.jpg ---\n",
            "   ❔ Pregunta: 'AP' -> Respuesta: 'AP 800'\n",
            "   ❔ Pregunta: 'APB SÚMATE' -> Respuesta: 'APB SÚMATE EASTER'\n",
            "   ❔ Pregunta: 'CODIGO MESA' -> Respuesta: '847'\n",
            "   ❔ Pregunta: 'ELECTORES HABILITADOS' -> Respuesta: '700'\n",
            "   ❔ Pregunta: 'FP' -> Respuesta: 'FP WWW.GOV'\n",
            "   ❔ Pregunta: 'LIBRE' -> Respuesta: 'LIBRE EURO'\n",
            "   ❔ Pregunta: 'LYP ADN' -> Respuesta: 'LYP ADN TVO'\n",
            "   ❔ Pregunta: 'MAS-IPSP' -> Respuesta: 'MAS-IPSP WWW.GOV'\n",
            "   ❔ Pregunta: 'MESA' -> Respuesta: '847'\n",
            "   ❔ Pregunta: 'MORENA' -> Respuesta: 'MORENA EVER'\n",
            "   ❔ Pregunta: 'PAPELETAS EN ÁNFORA' -> Respuesta: 'None'\n",
            "   ❔ Pregunta: 'PAPELETAS NO UTILIZADAS' -> Respuesta: '0'\n",
            "   ❔ Pregunta: 'PDC' -> Respuesta: 'PDC 00'\n",
            "   ❔ Pregunta: 'UNIDAD' -> Respuesta: 'UNIDAD 00'\n",
            "   ❔ Pregunta: 'VOTOS BLANCOS' -> Respuesta: 'None'\n",
            "   ❔ Pregunta: 'VOTOS NULOS' -> Respuesta: '90'\n"
          ]
        },
        {
          "name": "stderr",
          "output_type": "stream",
          "text": [
            "\n",
            "Procesando Actas con Donut:  90%|████████▉ | 489/545 [3:38:13<24:58, 26.76s/it]\u001b[A"
          ]
        },
        {
          "name": "stdout",
          "output_type": "stream",
          "text": [
            "   ❔ Pregunta: 'VOTOS VÁLIDOS' -> Respuesta: '90'\n",
            "\n",
            "--- Interrogando al acta: mesa_2_104784.jpg ---\n",
            "   ❔ Pregunta: 'AP' -> Respuesta: 'AP 0.13'\n",
            "   ❔ Pregunta: 'APB SÚMATE' -> Respuesta: 'APB SÚMATE 09 05'\n",
            "   ❔ Pregunta: 'CODIGO MESA' -> Respuesta: '905'\n",
            "   ❔ Pregunta: 'ELECTORES HABILITADOS' -> Respuesta: '3'\n",
            "   ❔ Pregunta: 'FP' -> Respuesta: 'FP 0'\n",
            "   ❔ Pregunta: 'LIBRE' -> Respuesta: 'LIBRE 0.13'\n",
            "   ❔ Pregunta: 'LYP ADN' -> Respuesta: 'LYP ADN 043'\n",
            "   ❔ Pregunta: 'MAS-IPSP' -> Respuesta: 'MAS-IPSP 0.13'\n",
            "   ❔ Pregunta: 'MESA' -> Respuesta: '905'\n",
            "   ❔ Pregunta: 'MORENA' -> Respuesta: 'MORENA 043'\n",
            "   ❔ Pregunta: 'PAPELETAS EN ÁNFORA' -> Respuesta: '28'\n",
            "   ❔ Pregunta: 'PAPELETAS NO UTILIZADAS' -> Respuesta: '28'\n",
            "   ❔ Pregunta: 'PDC' -> Respuesta: 'PDC 0.28'\n",
            "   ❔ Pregunta: 'UNIDAD' -> Respuesta: 'UNIDAD MESA 2'\n",
            "   ❔ Pregunta: 'VOTOS BLANCOS' -> Respuesta: '28'\n",
            "   ❔ Pregunta: 'VOTOS NULOS' -> Respuesta: '28'\n"
          ]
        },
        {
          "name": "stderr",
          "output_type": "stream",
          "text": [
            "\n",
            "Procesando Actas con Donut:  90%|████████▉ | 490/545 [3:38:40<24:38, 26.89s/it]\u001b[A"
          ]
        },
        {
          "name": "stdout",
          "output_type": "stream",
          "text": [
            "   ❔ Pregunta: 'VOTOS VÁLIDOS' -> Respuesta: '28'\n",
            "\n",
            "--- Interrogando al acta: mesa_1_105424.jpg ---\n",
            "   ❔ Pregunta: 'AP' -> Respuesta: 'AP 0.75'\n",
            "   ❔ Pregunta: 'APB SÚMATE' -> Respuesta: 'APB SÚMATE 0.95'\n",
            "   ❔ Pregunta: 'CODIGO MESA' -> Respuesta: '900'\n",
            "   ❔ Pregunta: 'ELECTORES HABILITADOS' -> Respuesta: '3'\n",
            "   ❔ Pregunta: 'FP' -> Respuesta: 'FP 0.75'\n",
            "   ❔ Pregunta: 'LIBRE' -> Respuesta: 'LIBRE 0.75'\n",
            "   ❔ Pregunta: 'LYP ADN' -> Respuesta: 'LYP ADN 0900'\n",
            "   ❔ Pregunta: 'MAS-IPSP' -> Respuesta: 'MAS-IPSP 0900'\n",
            "   ❔ Pregunta: 'MESA' -> Respuesta: '900'\n",
            "   ❔ Pregunta: 'MORENA' -> Respuesta: 'MORENA 0.75'\n",
            "   ❔ Pregunta: 'PAPELETAS EN ÁNFORA' -> Respuesta: '74'\n",
            "   ❔ Pregunta: 'PAPELETAS NO UTILIZADAS' -> Respuesta: '74'\n",
            "   ❔ Pregunta: 'PDC' -> Respuesta: 'PDC 070'\n",
            "   ❔ Pregunta: 'UNIDAD' -> Respuesta: 'UNIDAD 0.70'\n",
            "   ❔ Pregunta: 'VOTOS BLANCOS' -> Respuesta: '74'\n",
            "   ❔ Pregunta: 'VOTOS NULOS' -> Respuesta: '74'\n"
          ]
        },
        {
          "name": "stderr",
          "output_type": "stream",
          "text": [
            "\n",
            "Procesando Actas con Donut:  90%|█████████ | 491/545 [3:39:07<24:10, 26.86s/it]\u001b[A"
          ]
        },
        {
          "name": "stdout",
          "output_type": "stream",
          "text": [
            "   ❔ Pregunta: 'VOTOS VÁLIDOS' -> Respuesta: '26'\n",
            "\n",
            "--- Interrogando al acta: mesa_3_105454.jpg ---\n",
            "   ❔ Pregunta: 'AP' -> Respuesta: 'AP 0545-4'\n",
            "   ❔ Pregunta: 'APB SÚMATE' -> Respuesta: 'APB SÚMATE MOSA: 3'\n",
            "   ❔ Pregunta: 'CODIGO MESA' -> Respuesta: 'None'\n",
            "   ❔ Pregunta: 'ELECTORES HABILITADOS' -> Respuesta: '3'\n",
            "   ❔ Pregunta: 'FP' -> Respuesta: 'FP 0.0'\n",
            "   ❔ Pregunta: 'LIBRE' -> Respuesta: 'LIBRE 0.26'\n",
            "   ❔ Pregunta: 'LYP ADN' -> Respuesta: 'LYP ADN APB SOMATE'\n",
            "   ❔ Pregunta: 'MAS-IPSP' -> Respuesta: 'MAS-IPSP 0 0'\n",
            "   ❔ Pregunta: 'MESA' -> Respuesta: '3'\n",
            "   ❔ Pregunta: 'MORENA' -> Respuesta: 'MORENA AP'\n",
            "   ❔ Pregunta: 'PAPELETAS EN ÁNFORA' -> Respuesta: '16'\n",
            "   ❔ Pregunta: 'PAPELETAS NO UTILIZADAS' -> Respuesta: '16'\n",
            "   ❔ Pregunta: 'PDC' -> Respuesta: 'PDC 016'\n",
            "   ❔ Pregunta: 'UNIDAD' -> Respuesta: 'UNIDAD 003'\n",
            "   ❔ Pregunta: 'VOTOS BLANCOS' -> Respuesta: '16'\n",
            "   ❔ Pregunta: 'VOTOS NULOS' -> Respuesta: '81'\n"
          ]
        },
        {
          "name": "stderr",
          "output_type": "stream",
          "text": [
            "\n",
            "Procesando Actas con Donut:  90%|█████████ | 492/545 [3:39:34<23:44, 26.88s/it]\u001b[A"
          ]
        },
        {
          "name": "stdout",
          "output_type": "stream",
          "text": [
            "   ❔ Pregunta: 'VOTOS VÁLIDOS' -> Respuesta: '63'\n",
            "\n",
            "--- Interrogando al acta: mesa_4_105464.jpg ---\n",
            "   ❔ Pregunta: 'AP' -> Respuesta: 'AP 0 1'\n",
            "   ❔ Pregunta: 'APB SÚMATE' -> Respuesta: 'APB SÚMATE 001'\n",
            "   ❔ Pregunta: 'CODIGO MESA' -> Respuesta: '105464'\n",
            "   ❔ Pregunta: 'ELECTORES HABILITADOS' -> Respuesta: '3'\n",
            "   ❔ Pregunta: 'FP' -> Respuesta: 'FP 00 2'\n",
            "   ❔ Pregunta: 'LIBRE' -> Respuesta: 'LIBRE 003'\n",
            "   ❔ Pregunta: 'LYP ADN' -> Respuesta: 'LYP ADN APB SOMATE'\n",
            "   ❔ Pregunta: 'MAS-IPSP' -> Respuesta: 'MAS-IPSP 0 0 2'\n",
            "   ❔ Pregunta: 'MESA' -> Respuesta: '4'\n",
            "   ❔ Pregunta: 'MORENA' -> Respuesta: 'MORENA AP'\n",
            "   ❔ Pregunta: 'PAPELETAS EN ÁNFORA' -> Respuesta: '104'\n",
            "   ❔ Pregunta: 'PAPELETAS NO UTILIZADAS' -> Respuesta: '113'\n",
            "   ❔ Pregunta: 'PDC' -> Respuesta: 'PDC 006'\n",
            "   ❔ Pregunta: 'UNIDAD' -> Respuesta: 'UNIDAD 004'\n",
            "   ❔ Pregunta: 'VOTOS BLANCOS' -> Respuesta: '6'\n",
            "   ❔ Pregunta: 'VOTOS NULOS' -> Respuesta: '61'\n"
          ]
        },
        {
          "name": "stderr",
          "output_type": "stream",
          "text": [
            "\n",
            "Procesando Actas con Donut:  90%|█████████ | 493/545 [3:40:01<23:16, 26.85s/it]\u001b[A"
          ]
        },
        {
          "name": "stdout",
          "output_type": "stream",
          "text": [
            "   ❔ Pregunta: 'VOTOS VÁLIDOS' -> Respuesta: '37'\n",
            "\n",
            "--- Interrogando al acta: mesa_1_105434.jpg ---\n",
            "   ❔ Pregunta: 'AP' -> Respuesta: 'AP 025'\n",
            "   ❔ Pregunta: 'APB SÚMATE' -> Respuesta: 'APB SÚMATE 0.8'\n",
            "   ❔ Pregunta: 'CODIGO MESA' -> Respuesta: '105434'\n",
            "   ❔ Pregunta: 'ELECTORES HABILITADOS' -> Respuesta: '3'\n",
            "   ❔ Pregunta: 'FP' -> Respuesta: 'FP 00 2'\n",
            "   ❔ Pregunta: 'LIBRE' -> Respuesta: 'LIBRE 00 2'\n",
            "   ❔ Pregunta: 'LYP ADN' -> Respuesta: 'LYP ADN 001'\n",
            "   ❔ Pregunta: 'MAS-IPSP' -> Respuesta: 'MAS-IPSP 00 2'\n",
            "   ❔ Pregunta: 'MESA' -> Respuesta: '1'\n",
            "   ❔ Pregunta: 'MORENA' -> Respuesta: 'MORENA 1 6'\n",
            "   ❔ Pregunta: 'PAPELETAS EN ÁNFORA' -> Respuesta: '159'\n",
            "   ❔ Pregunta: 'PAPELETAS NO UTILIZADAS' -> Respuesta: '16'\n",
            "   ❔ Pregunta: 'PDC' -> Respuesta: 'PDC 016'\n",
            "   ❔ Pregunta: 'UNIDAD' -> Respuesta: 'UNIDAD 00 2'\n",
            "   ❔ Pregunta: 'VOTOS BLANCOS' -> Respuesta: '10'\n",
            "   ❔ Pregunta: 'VOTOS NULOS' -> Respuesta: '90'\n"
          ]
        },
        {
          "name": "stderr",
          "output_type": "stream",
          "text": [
            "\n",
            "Procesando Actas con Donut:  91%|█████████ | 494/545 [3:40:28<22:50, 26.88s/it]\u001b[A"
          ]
        },
        {
          "name": "stdout",
          "output_type": "stream",
          "text": [
            "   ❔ Pregunta: 'VOTOS VÁLIDOS' -> Respuesta: '59'\n",
            "\n",
            "--- Interrogando al acta: mesa_2_105444.jpg ---\n",
            "   ❔ Pregunta: 'AP' -> Respuesta: 'AP 030'\n",
            "   ❔ Pregunta: 'APB SÚMATE' -> Respuesta: 'APB SÚMATE 007'\n",
            "   ❔ Pregunta: 'CODIGO MESA' -> Respuesta: 'None'\n",
            "   ❔ Pregunta: 'ELECTORES HABILITADOS' -> Respuesta: '3'\n",
            "   ❔ Pregunta: 'FP' -> Respuesta: 'FP 004'\n",
            "   ❔ Pregunta: 'LIBRE' -> Respuesta: 'LIBRE 004'\n",
            "   ❔ Pregunta: 'LYP ADN' -> Respuesta: 'LYP ADN AP'\n",
            "   ❔ Pregunta: 'MAS-IPSP' -> Respuesta: 'MAS-IPSP 005'\n",
            "   ❔ Pregunta: 'MESA' -> Respuesta: '2'\n",
            "   ❔ Pregunta: 'MORENA' -> Respuesta: 'MORENA 78.00'\n",
            "   ❔ Pregunta: 'PAPELETAS EN ÁNFORA' -> Respuesta: 'None'\n",
            "   ❔ Pregunta: 'PAPELETAS NO UTILIZADAS' -> Respuesta: '95'\n",
            "   ❔ Pregunta: 'PDC' -> Respuesta: 'PDC 071'\n",
            "   ❔ Pregunta: 'UNIDAD' -> Respuesta: 'UNIDAD 0 0 2'\n",
            "   ❔ Pregunta: 'VOTOS BLANCOS' -> Respuesta: '5'\n",
            "   ❔ Pregunta: 'VOTOS NULOS' -> Respuesta: '96'\n"
          ]
        },
        {
          "name": "stderr",
          "output_type": "stream",
          "text": [
            "\n",
            "Procesando Actas con Donut:  91%|█████████ | 495/545 [3:40:54<22:20, 26.81s/it]\u001b[A"
          ]
        },
        {
          "name": "stdout",
          "output_type": "stream",
          "text": [
            "   ❔ Pregunta: 'VOTOS VÁLIDOS' -> Respuesta: '65'\n",
            "\n",
            "--- Interrogando al acta: mesa_3_105204.jpg ---\n",
            "   ❔ Pregunta: 'AP' -> Respuesta: 'AP 0.15'\n",
            "   ❔ Pregunta: 'APB SÚMATE' -> Respuesta: 'APB SÚMATE 007'\n",
            "   ❔ Pregunta: 'CODIGO MESA' -> Respuesta: '3'\n",
            "   ❔ Pregunta: 'ELECTORES HABILITADOS' -> Respuesta: '3'\n",
            "   ❔ Pregunta: 'FP' -> Respuesta: 'FP 0'\n",
            "   ❔ Pregunta: 'LIBRE' -> Respuesta: 'LIBRE 0.15'\n",
            "   ❔ Pregunta: 'LYP ADN' -> Respuesta: 'LYP ADN 0520-4'\n",
            "   ❔ Pregunta: 'MAS-IPSP' -> Respuesta: 'MAS-IPSP 003'\n",
            "   ❔ Pregunta: 'MESA' -> Respuesta: '3'\n",
            "   ❔ Pregunta: 'MORENA' -> Respuesta: 'MORENA 1 4 6'\n",
            "   ❔ Pregunta: 'PAPELETAS EN ÁNFORA' -> Respuesta: '15'\n",
            "   ❔ Pregunta: 'PAPELETAS NO UTILIZADAS' -> Respuesta: '99'\n",
            "   ❔ Pregunta: 'PDC' -> Respuesta: 'PDC 018'\n",
            "   ❔ Pregunta: 'UNIDAD' -> Respuesta: 'UNIDAD 004'\n",
            "   ❔ Pregunta: 'VOTOS BLANCOS' -> Respuesta: '12'\n",
            "   ❔ Pregunta: 'VOTOS NULOS' -> Respuesta: '79'\n"
          ]
        },
        {
          "name": "stderr",
          "output_type": "stream",
          "text": [
            "\n",
            "Procesando Actas con Donut:  91%|█████████ | 496/545 [3:41:21<21:50, 26.75s/it]\u001b[A"
          ]
        },
        {
          "name": "stdout",
          "output_type": "stream",
          "text": [
            "   ❔ Pregunta: 'VOTOS VÁLIDOS' -> Respuesta: '55'\n",
            "\n",
            "--- Interrogando al acta: mesa_1_105184.jpg ---\n",
            "   ❔ Pregunta: 'AP' -> Respuesta: 'AP 017'\n",
            "   ❔ Pregunta: 'APB SÚMATE' -> Respuesta: 'APB SÚMATE 08 07'\n",
            "   ❔ Pregunta: 'CODIGO MESA' -> Respuesta: '807'\n",
            "   ❔ Pregunta: 'ELECTORES HABILITADOS' -> Respuesta: '3'\n",
            "   ❔ Pregunta: 'FP' -> Respuesta: 'FP 001'\n",
            "   ❔ Pregunta: 'LIBRE' -> Respuesta: 'LIBRE 007'\n",
            "   ❔ Pregunta: 'LYP ADN' -> Respuesta: 'LYP ADN AP SUMATE'\n",
            "   ❔ Pregunta: 'MAS-IPSP' -> Respuesta: 'MAS-IPSP 003'\n",
            "   ❔ Pregunta: 'MESA' -> Respuesta: '1'\n",
            "   ❔ Pregunta: 'MORENA' -> Respuesta: 'MORENA 08 07'\n",
            "   ❔ Pregunta: 'PAPELETAS EN ÁNFORA' -> Respuesta: '2'\n",
            "   ❔ Pregunta: 'PAPELETAS NO UTILIZADAS' -> Respuesta: '2'\n",
            "   ❔ Pregunta: 'PDC' -> Respuesta: 'PDC 009'\n",
            "   ❔ Pregunta: 'UNIDAD' -> Respuesta: 'UNIDAD 00 2'\n",
            "   ❔ Pregunta: 'VOTOS BLANCOS' -> Respuesta: '2'\n",
            "   ❔ Pregunta: 'VOTOS NULOS' -> Respuesta: '57'\n"
          ]
        },
        {
          "name": "stderr",
          "output_type": "stream",
          "text": [
            "\n",
            "Procesando Actas con Donut:  91%|█████████ | 497/545 [3:41:48<21:24, 26.76s/it]\u001b[A"
          ]
        },
        {
          "name": "stdout",
          "output_type": "stream",
          "text": [
            "   ❔ Pregunta: 'VOTOS VÁLIDOS' -> Respuesta: '43'\n",
            "\n",
            "--- Interrogando al acta: mesa_5_105224.jpg ---\n",
            "   ❔ Pregunta: 'AP' -> Respuesta: 'AP 018'\n",
            "   ❔ Pregunta: 'APB SÚMATE' -> Respuesta: 'APB SÚMATE 003'\n",
            "   ❔ Pregunta: 'CODIGO MESA' -> Respuesta: '5'\n",
            "   ❔ Pregunta: 'ELECTORES HABILITADOS' -> Respuesta: '3'\n",
            "   ❔ Pregunta: 'FP' -> Respuesta: 'FP 007'\n",
            "   ❔ Pregunta: 'LIBRE' -> Respuesta: 'LIBRE 004'\n",
            "   ❔ Pregunta: 'LYP ADN' -> Respuesta: 'LYP ADN 001'\n",
            "   ❔ Pregunta: 'MAS-IPSP' -> Respuesta: 'MAS-IPSP 000'\n",
            "   ❔ Pregunta: 'MESA' -> Respuesta: '5'\n",
            "   ❔ Pregunta: 'MORENA' -> Respuesta: 'MORENA 209'\n",
            "   ❔ Pregunta: 'PAPELETAS EN ÁNFORA' -> Respuesta: '204'\n",
            "   ❔ Pregunta: 'PAPELETAS NO UTILIZADAS' -> Respuesta: '204'\n",
            "   ❔ Pregunta: 'PDC' -> Respuesta: 'PDC 009'\n",
            "   ❔ Pregunta: 'UNIDAD' -> Respuesta: 'UNIDAD 005'\n",
            "   ❔ Pregunta: 'VOTOS BLANCOS' -> Respuesta: '7'\n",
            "   ❔ Pregunta: 'VOTOS NULOS' -> Respuesta: '70'\n"
          ]
        },
        {
          "name": "stderr",
          "output_type": "stream",
          "text": [
            "\n",
            "Procesando Actas con Donut:  91%|█████████▏| 498/545 [3:42:14<20:56, 26.74s/it]\u001b[A"
          ]
        },
        {
          "name": "stdout",
          "output_type": "stream",
          "text": [
            "   ❔ Pregunta: 'VOTOS VÁLIDOS' -> Respuesta: '2'\n",
            "\n",
            "--- Interrogando al acta: mesa_2_105194.jpg ---\n",
            "   ❔ Pregunta: 'AP' -> Respuesta: 'AP 017'\n",
            "   ❔ Pregunta: 'APB SÚMATE' -> Respuesta: 'APB SÚMATE 004'\n",
            "   ❔ Pregunta: 'CODIGO MESA' -> Respuesta: 'None'\n",
            "   ❔ Pregunta: 'ELECTORES HABILITADOS' -> Respuesta: '7'\n",
            "   ❔ Pregunta: 'FP' -> Respuesta: 'FP 005'\n",
            "   ❔ Pregunta: 'LIBRE' -> Respuesta: 'LIBRE 004'\n",
            "   ❔ Pregunta: 'LYP ADN' -> Respuesta: 'LYP ADN APB SOMATE'\n",
            "   ❔ Pregunta: 'MAS-IPSP' -> Respuesta: 'MAS-IPSP 00 1'\n",
            "   ❔ Pregunta: 'MESA' -> Respuesta: '628'\n",
            "   ❔ Pregunta: 'MORENA' -> Respuesta: 'MORENA 7 8 3'\n",
            "   ❔ Pregunta: 'PAPELETAS EN ÁNFORA' -> Respuesta: '732'\n",
            "   ❔ Pregunta: 'PAPELETAS NO UTILIZADAS' -> Respuesta: '82'\n",
            "   ❔ Pregunta: 'PDC' -> Respuesta: 'PDC 022'\n",
            "   ❔ Pregunta: 'UNIDAD' -> Respuesta: 'UNIDAD 001'\n",
            "   ❔ Pregunta: 'VOTOS BLANCOS' -> Respuesta: '5'\n",
            "   ❔ Pregunta: 'VOTOS NULOS' -> Respuesta: '82'\n"
          ]
        },
        {
          "name": "stderr",
          "output_type": "stream",
          "text": [
            "\n",
            "Procesando Actas con Donut:  92%|█████████▏| 499/545 [3:42:41<20:31, 26.76s/it]\u001b[A"
          ]
        },
        {
          "name": "stdout",
          "output_type": "stream",
          "text": [
            "   ❔ Pregunta: 'VOTOS VÁLIDOS' -> Respuesta: '5'\n",
            "\n",
            "--- Interrogando al acta: mesa_4_105214.jpg ---\n",
            "   ❔ Pregunta: 'AP' -> Respuesta: 'AP 0'\n",
            "   ❔ Pregunta: 'APB SÚMATE' -> Respuesta: 'APB SÚMATE 0.27'\n",
            "   ❔ Pregunta: 'CODIGO MESA' -> Respuesta: '4'\n",
            "   ❔ Pregunta: 'ELECTORES HABILITADOS' -> Respuesta: '3'\n",
            "   ❔ Pregunta: 'FP' -> Respuesta: 'FP 001'\n",
            "   ❔ Pregunta: 'LIBRE' -> Respuesta: 'LIBRE 008'\n",
            "   ❔ Pregunta: 'LYP ADN' -> Respuesta: 'LYP ADN 080'\n",
            "   ❔ Pregunta: 'MAS-IPSP' -> Respuesta: 'MAS-IPSP 001'\n",
            "   ❔ Pregunta: 'MESA' -> Respuesta: '4'\n",
            "   ❔ Pregunta: 'MORENA' -> Respuesta: 'MORENA 73.00'\n",
            "   ❔ Pregunta: 'PAPELETAS EN ÁNFORA' -> Respuesta: '75'\n",
            "   ❔ Pregunta: 'PAPELETAS NO UTILIZADAS' -> Respuesta: '75'\n",
            "   ❔ Pregunta: 'PDC' -> Respuesta: 'PDC 016'\n",
            "   ❔ Pregunta: 'UNIDAD' -> Respuesta: 'UNIDAD 006'\n",
            "   ❔ Pregunta: 'VOTOS BLANCOS' -> Respuesta: '3'\n",
            "   ❔ Pregunta: 'VOTOS NULOS' -> Respuesta: '75'\n"
          ]
        },
        {
          "name": "stderr",
          "output_type": "stream",
          "text": [
            "\n",
            "Procesando Actas con Donut:  92%|█████████▏| 500/545 [3:43:08<20:09, 26.88s/it]\u001b[A"
          ]
        },
        {
          "name": "stdout",
          "output_type": "stream",
          "text": [
            "   ❔ Pregunta: 'VOTOS VÁLIDOS' -> Respuesta: '60'\n",
            "\n",
            "--- Interrogando al acta: mesa_6_105234.jpg ---\n"
          ]
        }
      ],
      "source": [
        "\n",
        "\n",
        "# ===================================================================\n",
        "# 3. FUNCIÓN PRINCIPAL DE PROCESAMIENTO\n",
        "# ===================================================================\n",
        "def run_processing():\n",
        "    print(\"\\n\" + \"=\"*60); print(\"✨ INICIANDO PROCESO CON IA DE COMPRENSIÓN DE DOCUMENTOS (DONUT)\"); print(\"=\"*60)\n",
        "    try:\n",
        "        coordenadas_df = pd.read_csv(CONFIG['coordenadas_csv_path'])\n",
        "        coordenadas_df.columns = coordenadas_df.columns.str.strip()\n",
        "        # AHORA SOLO LO USAMOS PARA SACAR LA LISTA DE PREGUNTAS\n",
        "        campos_a_preguntar = sorted(coordenadas_df['label_name'].unique().tolist())\n",
        "        print(f\"✅ Lista de {len(campos_a_preguntar)} preguntas cargada desde: {CONFIG['coordenadas_csv_path']}\")\n",
        "    except FileNotFoundError:\n",
        "        print(f\"❌ ERROR: No se encontró tu archivo de coordenadas en '{CONFIG['coordenadas_csv_path']}'.\"); return\n",
        "\n",
        "    carpeta_objetivo = CONFIG[\"carpeta_a_procesar\"]\n",
        "    if not os.path.isdir(carpeta_objetivo): print(f\"❌ ERROR: La carpeta a procesar '{carpeta_objetivo}' no existe.\"); return\n",
        "\n",
        "    actas_a_procesar = [os.path.join(dirpath, f) for dirpath, _, fnames in os.walk(carpeta_objetivo) for f in fnames if f.lower().endswith(('.png', '.jpg', '.jpeg'))]\n",
        "    if not actas_a_procesar: print(f\"❌ No se encontró NINGUNA imagen en la carpeta '{carpeta_objetivo}'.\"); return\n",
        "    print(f\"✅ Se encontraron {len(actas_a_procesar)} actas para procesar.\")\n",
        "\n",
        "    headers = ['imagen_path', 'departamento', 'fecha_procesamiento'] + campos_a_preguntar\n",
        "    crear_csv_salida(headers)\n",
        "\n",
        "    procesador = ProcesadorActasDonut(campos_a_preguntar)\n",
        "    for path in tqdm(actas_a_procesar, desc=\"Procesando Actas con Donut\"):\n",
        "        procesador.procesar_acta_completa(path)\n",
        "\n",
        "    print(\"\\n🎉 PROCESAMIENTO COMPLETADO!\")\n",
        "    print(\"\\n\" + \"=\"*60); print(f\"📊 ANÁLISIS DE RESULTADOS EN '{CONFIG['output_csv_path']}':\"); print(\"=\"*60)\n",
        "    try:\n",
        "        df_resultados = pd.read_csv(CONFIG['output_csv_path'])\n",
        "        print(\"--- Información General y Valores Nulos ---\"); df_resultados.info()\n",
        "        print(\"\\n--- Vista Previa de la Tabla de Resultados ---\"); display(df_resultados)\n",
        "    except Exception as e: print(f\"No se pudo leer o analizar el archivo CSV de resultados. Error: {e}\")\n",
        "\n",
        "# ===================================================================\n",
        "# 4. EJECUTAR TODO\n",
        "# ===================================================================\n",
        "run_processing()"
      ]
    },
    {
      "cell_type": "code",
      "execution_count": null,
      "metadata": {
        "id": "x_yY17flrvuL"
      },
      "outputs": [],
      "source": []
    }
  ],
  "metadata": {
    "accelerator": "GPU",
    "colab": {
      "gpuType": "T4",
      "provenance": []
    },
    "kernelspec": {
      "display_name": "Python 3",
      "name": "python3"
    },
    "widgets": {
      "application/vnd.jupyter.widget-state+json": {
        "00697fde30aa45b9bc45397e5175da6e": {
          "model_module": "@jupyter-widgets/controls",
          "model_module_version": "1.5.0",
          "model_name": "FloatProgressModel",
          "state": {
            "_dom_classes": [],
            "_model_module": "@jupyter-widgets/controls",
            "_model_module_version": "1.5.0",
            "_model_name": "FloatProgressModel",
            "_view_count": null,
            "_view_module": "@jupyter-widgets/controls",
            "_view_module_version": "1.5.0",
            "_view_name": "ProgressView",
            "bar_style": "success",
            "description": "",
            "description_tooltip": null,
            "layout": "IPY_MODEL_48ee479218884546b2771311dd538556",
            "max": 535,
            "min": 0,
            "orientation": "horizontal",
            "style": "IPY_MODEL_eaf86d65632f4e8e83c142252512b67e",
            "value": 535
          }
        },
        "05776d902b16490981d381bc2cb346d8": {
          "model_module": "@jupyter-widgets/controls",
          "model_module_version": "1.5.0",
          "model_name": "HTMLModel",
          "state": {
            "_dom_classes": [],
            "_model_module": "@jupyter-widgets/controls",
            "_model_module_version": "1.5.0",
            "_model_name": "HTMLModel",
            "_view_count": null,
            "_view_module": "@jupyter-widgets/controls",
            "_view_module_version": "1.5.0",
            "_view_name": "HTMLView",
            "description": "",
            "description_tooltip": null,
            "layout": "IPY_MODEL_92beb8964da448d396fc9fe637036891",
            "placeholder": "​",
            "style": "IPY_MODEL_152af621742d41c8931ea62db6429017",
            "value": " 478/478 [00:00&lt;00:00, 43.2kB/s]"
          }
        },
        "0581f3c2c1b3413aa91966b791b79257": {
          "model_module": "@jupyter-widgets/controls",
          "model_module_version": "1.5.0",
          "model_name": "HTMLModel",
          "state": {
            "_dom_classes": [],
            "_model_module": "@jupyter-widgets/controls",
            "_model_module_version": "1.5.0",
            "_model_name": "HTMLModel",
            "_view_count": null,
            "_view_module": "@jupyter-widgets/controls",
            "_view_module_version": "1.5.0",
            "_view_name": "HTMLView",
            "description": "",
            "description_tooltip": null,
            "layout": "IPY_MODEL_214cb86429a54adbaaa663f1b170008b",
            "placeholder": "​",
            "style": "IPY_MODEL_6e4367fd86364ce184a6bcd26ce566f4",
            "value": "added_tokens.json: 100%"
          }
        },
        "0710c12b4e2d4e59a0de8569872525b1": {
          "model_module": "@jupyter-widgets/controls",
          "model_module_version": "1.5.0",
          "model_name": "ProgressStyleModel",
          "state": {
            "_model_module": "@jupyter-widgets/controls",
            "_model_module_version": "1.5.0",
            "_model_name": "ProgressStyleModel",
            "_view_count": null,
            "_view_module": "@jupyter-widgets/base",
            "_view_module_version": "1.2.0",
            "_view_name": "StyleView",
            "bar_color": null,
            "description_width": ""
          }
        },
        "152af621742d41c8931ea62db6429017": {
          "model_module": "@jupyter-widgets/controls",
          "model_module_version": "1.5.0",
          "model_name": "DescriptionStyleModel",
          "state": {
            "_model_module": "@jupyter-widgets/controls",
            "_model_module_version": "1.5.0",
            "_model_name": "DescriptionStyleModel",
            "_view_count": null,
            "_view_module": "@jupyter-widgets/base",
            "_view_module_version": "1.2.0",
            "_view_name": "StyleView",
            "description_width": ""
          }
        },
        "17e3218ed803446688c06f5705133c52": {
          "model_module": "@jupyter-widgets/controls",
          "model_module_version": "1.5.0",
          "model_name": "HBoxModel",
          "state": {
            "_dom_classes": [],
            "_model_module": "@jupyter-widgets/controls",
            "_model_module_version": "1.5.0",
            "_model_name": "HBoxModel",
            "_view_count": null,
            "_view_module": "@jupyter-widgets/controls",
            "_view_module_version": "1.5.0",
            "_view_name": "HBoxView",
            "box_style": "",
            "children": [
              "IPY_MODEL_cce501bdefff450495d1f3aa84ec41e6",
              "IPY_MODEL_1b78b2064174474d88b12ce9a59f486b",
              "IPY_MODEL_d7ee02c42dec4a328fe04879a5518ce9"
            ],
            "layout": "IPY_MODEL_e4bc1728e7864c5fbdf4f6e535cea24c"
          }
        },
        "1ac788f0f88446b193d29562703a4f99": {
          "model_module": "@jupyter-widgets/controls",
          "model_module_version": "1.5.0",
          "model_name": "HBoxModel",
          "state": {
            "_dom_classes": [],
            "_model_module": "@jupyter-widgets/controls",
            "_model_module_version": "1.5.0",
            "_model_name": "HBoxModel",
            "_view_count": null,
            "_view_module": "@jupyter-widgets/controls",
            "_view_module_version": "1.5.0",
            "_view_name": "HBoxView",
            "box_style": "",
            "children": [
              "IPY_MODEL_c2651cabc51748beb51e8e7645b49b17",
              "IPY_MODEL_e08894588f0c45ba8d0baacf46564153",
              "IPY_MODEL_28e3034f7326473e88e82e3576992892"
            ],
            "layout": "IPY_MODEL_4458d8a18a4c46b3b1f54180caf4e687"
          }
        },
        "1b78b2064174474d88b12ce9a59f486b": {
          "model_module": "@jupyter-widgets/controls",
          "model_module_version": "1.5.0",
          "model_name": "FloatProgressModel",
          "state": {
            "_dom_classes": [],
            "_model_module": "@jupyter-widgets/controls",
            "_model_module_version": "1.5.0",
            "_model_name": "FloatProgressModel",
            "_view_count": null,
            "_view_module": "@jupyter-widgets/controls",
            "_view_module_version": "1.5.0",
            "_view_name": "ProgressView",
            "bar_style": "success",
            "description": "",
            "description_tooltip": null,
            "layout": "IPY_MODEL_20efe0af3e24490e9ff3a6067cc21f72",
            "max": 1,
            "min": 0,
            "orientation": "horizontal",
            "style": "IPY_MODEL_96281af440fa4ff888d6a7eb78181cd3",
            "value": 1
          }
        },
        "208edfff541944cb9dff9e5e1dda3ad8": {
          "model_module": "@jupyter-widgets/controls",
          "model_module_version": "1.5.0",
          "model_name": "DescriptionStyleModel",
          "state": {
            "_model_module": "@jupyter-widgets/controls",
            "_model_module_version": "1.5.0",
            "_model_name": "DescriptionStyleModel",
            "_view_count": null,
            "_view_module": "@jupyter-widgets/base",
            "_view_module_version": "1.2.0",
            "_view_name": "StyleView",
            "description_width": ""
          }
        },
        "20d11363c19f40fa8edf0a3e2a7d1b66": {
          "model_module": "@jupyter-widgets/controls",
          "model_module_version": "1.5.0",
          "model_name": "HTMLModel",
          "state": {
            "_dom_classes": [],
            "_model_module": "@jupyter-widgets/controls",
            "_model_module_version": "1.5.0",
            "_model_name": "HTMLModel",
            "_view_count": null,
            "_view_module": "@jupyter-widgets/controls",
            "_view_module_version": "1.5.0",
            "_view_name": "HTMLView",
            "description": "",
            "description_tooltip": null,
            "layout": "IPY_MODEL_618ebce5ea2848a0a277020cdb8313fe",
            "placeholder": "​",
            "style": "IPY_MODEL_710b63857c2e4381a975ba08f2f02a40",
            "value": "model.safetensors: 100%"
          }
        },
        "20efe0af3e24490e9ff3a6067cc21f72": {
          "model_module": "@jupyter-widgets/base",
          "model_module_version": "1.2.0",
          "model_name": "LayoutModel",
          "state": {
            "_model_module": "@jupyter-widgets/base",
            "_model_module_version": "1.2.0",
            "_model_name": "LayoutModel",
            "_view_count": null,
            "_view_module": "@jupyter-widgets/base",
            "_view_module_version": "1.2.0",
            "_view_name": "LayoutView",
            "align_content": null,
            "align_items": null,
            "align_self": null,
            "border": null,
            "bottom": null,
            "display": null,
            "flex": null,
            "flex_flow": null,
            "grid_area": null,
            "grid_auto_columns": null,
            "grid_auto_flow": null,
            "grid_auto_rows": null,
            "grid_column": null,
            "grid_gap": null,
            "grid_row": null,
            "grid_template_areas": null,
            "grid_template_columns": null,
            "grid_template_rows": null,
            "height": null,
            "justify_content": null,
            "justify_items": null,
            "left": null,
            "margin": null,
            "max_height": null,
            "max_width": null,
            "min_height": null,
            "min_width": null,
            "object_fit": null,
            "object_position": null,
            "order": null,
            "overflow": null,
            "overflow_x": null,
            "overflow_y": null,
            "padding": null,
            "right": null,
            "top": null,
            "visibility": null,
            "width": "20px"
          }
        },
        "214cb86429a54adbaaa663f1b170008b": {
          "model_module": "@jupyter-widgets/base",
          "model_module_version": "1.2.0",
          "model_name": "LayoutModel",
          "state": {
            "_model_module": "@jupyter-widgets/base",
            "_model_module_version": "1.2.0",
            "_model_name": "LayoutModel",
            "_view_count": null,
            "_view_module": "@jupyter-widgets/base",
            "_view_module_version": "1.2.0",
            "_view_name": "LayoutView",
            "align_content": null,
            "align_items": null,
            "align_self": null,
            "border": null,
            "bottom": null,
            "display": null,
            "flex": null,
            "flex_flow": null,
            "grid_area": null,
            "grid_auto_columns": null,
            "grid_auto_flow": null,
            "grid_auto_rows": null,
            "grid_column": null,
            "grid_gap": null,
            "grid_row": null,
            "grid_template_areas": null,
            "grid_template_columns": null,
            "grid_template_rows": null,
            "height": null,
            "justify_content": null,
            "justify_items": null,
            "left": null,
            "margin": null,
            "max_height": null,
            "max_width": null,
            "min_height": null,
            "min_width": null,
            "object_fit": null,
            "object_position": null,
            "order": null,
            "overflow": null,
            "overflow_x": null,
            "overflow_y": null,
            "padding": null,
            "right": null,
            "top": null,
            "visibility": null,
            "width": null
          }
        },
        "28e3034f7326473e88e82e3576992892": {
          "model_module": "@jupyter-widgets/controls",
          "model_module_version": "1.5.0",
          "model_name": "HTMLModel",
          "state": {
            "_dom_classes": [],
            "_model_module": "@jupyter-widgets/controls",
            "_model_module_version": "1.5.0",
            "_model_name": "HTMLModel",
            "_view_count": null,
            "_view_module": "@jupyter-widgets/controls",
            "_view_module_version": "1.5.0",
            "_view_name": "HTMLView",
            "description": "",
            "description_tooltip": null,
            "layout": "IPY_MODEL_be10f1ebc21e47988accc376e23c7fd9",
            "placeholder": "​",
            "style": "IPY_MODEL_8a4737a8b9b74c0996174ce419212579",
            "value": " 359/359 [00:00&lt;00:00, 35.6kB/s]"
          }
        },
        "2deec5ba97f940528fed58d09562baf6": {
          "model_module": "@jupyter-widgets/controls",
          "model_module_version": "1.5.0",
          "model_name": "FloatProgressModel",
          "state": {
            "_dom_classes": [],
            "_model_module": "@jupyter-widgets/controls",
            "_model_module_version": "1.5.0",
            "_model_name": "FloatProgressModel",
            "_view_count": null,
            "_view_module": "@jupyter-widgets/controls",
            "_view_module_version": "1.5.0",
            "_view_name": "ProgressView",
            "bar_style": "success",
            "description": "",
            "description_tooltip": null,
            "layout": "IPY_MODEL_9bab741ce096488897dc0d8433818cb6",
            "max": 229,
            "min": 0,
            "orientation": "horizontal",
            "style": "IPY_MODEL_80f053a0df4840848b0c25c23cda4805",
            "value": 229
          }
        },
        "2e483278248b43fcabb75ade6e288579": {
          "model_module": "@jupyter-widgets/controls",
          "model_module_version": "1.5.0",
          "model_name": "DescriptionStyleModel",
          "state": {
            "_model_module": "@jupyter-widgets/controls",
            "_model_module_version": "1.5.0",
            "_model_name": "DescriptionStyleModel",
            "_view_count": null,
            "_view_module": "@jupyter-widgets/base",
            "_view_module_version": "1.2.0",
            "_view_name": "StyleView",
            "description_width": ""
          }
        },
        "340f374b60e8437ea6b8fbd330a1d519": {
          "model_module": "@jupyter-widgets/base",
          "model_module_version": "1.2.0",
          "model_name": "LayoutModel",
          "state": {
            "_model_module": "@jupyter-widgets/base",
            "_model_module_version": "1.2.0",
            "_model_name": "LayoutModel",
            "_view_count": null,
            "_view_module": "@jupyter-widgets/base",
            "_view_module_version": "1.2.0",
            "_view_name": "LayoutView",
            "align_content": null,
            "align_items": null,
            "align_self": null,
            "border": null,
            "bottom": null,
            "display": null,
            "flex": null,
            "flex_flow": null,
            "grid_area": null,
            "grid_auto_columns": null,
            "grid_auto_flow": null,
            "grid_auto_rows": null,
            "grid_column": null,
            "grid_gap": null,
            "grid_row": null,
            "grid_template_areas": null,
            "grid_template_columns": null,
            "grid_template_rows": null,
            "height": null,
            "justify_content": null,
            "justify_items": null,
            "left": null,
            "margin": null,
            "max_height": null,
            "max_width": null,
            "min_height": null,
            "min_width": null,
            "object_fit": null,
            "object_position": null,
            "order": null,
            "overflow": null,
            "overflow_x": null,
            "overflow_y": null,
            "padding": null,
            "right": null,
            "top": null,
            "visibility": null,
            "width": null
          }
        },
        "379c994cc2a941a1b90aa64195a47b6d": {
          "model_module": "@jupyter-widgets/controls",
          "model_module_version": "1.5.0",
          "model_name": "DescriptionStyleModel",
          "state": {
            "_model_module": "@jupyter-widgets/controls",
            "_model_module_version": "1.5.0",
            "_model_name": "DescriptionStyleModel",
            "_view_count": null,
            "_view_module": "@jupyter-widgets/base",
            "_view_module_version": "1.2.0",
            "_view_name": "StyleView",
            "description_width": ""
          }
        },
        "3dc1eb510a6b4491a7d837829f27a390": {
          "model_module": "@jupyter-widgets/base",
          "model_module_version": "1.2.0",
          "model_name": "LayoutModel",
          "state": {
            "_model_module": "@jupyter-widgets/base",
            "_model_module_version": "1.2.0",
            "_model_name": "LayoutModel",
            "_view_count": null,
            "_view_module": "@jupyter-widgets/base",
            "_view_module_version": "1.2.0",
            "_view_name": "LayoutView",
            "align_content": null,
            "align_items": null,
            "align_self": null,
            "border": null,
            "bottom": null,
            "display": null,
            "flex": null,
            "flex_flow": null,
            "grid_area": null,
            "grid_auto_columns": null,
            "grid_auto_flow": null,
            "grid_auto_rows": null,
            "grid_column": null,
            "grid_gap": null,
            "grid_row": null,
            "grid_template_areas": null,
            "grid_template_columns": null,
            "grid_template_rows": null,
            "height": null,
            "justify_content": null,
            "justify_items": null,
            "left": null,
            "margin": null,
            "max_height": null,
            "max_width": null,
            "min_height": null,
            "min_width": null,
            "object_fit": null,
            "object_position": null,
            "order": null,
            "overflow": null,
            "overflow_x": null,
            "overflow_y": null,
            "padding": null,
            "right": null,
            "top": null,
            "visibility": null,
            "width": null
          }
        },
        "3e8602162e3f4a0ba7e7dc7a537ea267": {
          "model_module": "@jupyter-widgets/controls",
          "model_module_version": "1.5.0",
          "model_name": "DescriptionStyleModel",
          "state": {
            "_model_module": "@jupyter-widgets/controls",
            "_model_module_version": "1.5.0",
            "_model_name": "DescriptionStyleModel",
            "_view_count": null,
            "_view_module": "@jupyter-widgets/base",
            "_view_module_version": "1.2.0",
            "_view_name": "StyleView",
            "description_width": ""
          }
        },
        "4458d8a18a4c46b3b1f54180caf4e687": {
          "model_module": "@jupyter-widgets/base",
          "model_module_version": "1.2.0",
          "model_name": "LayoutModel",
          "state": {
            "_model_module": "@jupyter-widgets/base",
            "_model_module_version": "1.2.0",
            "_model_name": "LayoutModel",
            "_view_count": null,
            "_view_module": "@jupyter-widgets/base",
            "_view_module_version": "1.2.0",
            "_view_name": "LayoutView",
            "align_content": null,
            "align_items": null,
            "align_self": null,
            "border": null,
            "bottom": null,
            "display": null,
            "flex": null,
            "flex_flow": null,
            "grid_area": null,
            "grid_auto_columns": null,
            "grid_auto_flow": null,
            "grid_auto_rows": null,
            "grid_column": null,
            "grid_gap": null,
            "grid_row": null,
            "grid_template_areas": null,
            "grid_template_columns": null,
            "grid_template_rows": null,
            "height": null,
            "justify_content": null,
            "justify_items": null,
            "left": null,
            "margin": null,
            "max_height": null,
            "max_width": null,
            "min_height": null,
            "min_width": null,
            "object_fit": null,
            "object_position": null,
            "order": null,
            "overflow": null,
            "overflow_x": null,
            "overflow_y": null,
            "padding": null,
            "right": null,
            "top": null,
            "visibility": null,
            "width": null
          }
        },
        "474a9f81c5be4116b55c37bcd55fa8d6": {
          "model_module": "@jupyter-widgets/base",
          "model_module_version": "1.2.0",
          "model_name": "LayoutModel",
          "state": {
            "_model_module": "@jupyter-widgets/base",
            "_model_module_version": "1.2.0",
            "_model_name": "LayoutModel",
            "_view_count": null,
            "_view_module": "@jupyter-widgets/base",
            "_view_module_version": "1.2.0",
            "_view_name": "LayoutView",
            "align_content": null,
            "align_items": null,
            "align_self": null,
            "border": null,
            "bottom": null,
            "display": null,
            "flex": null,
            "flex_flow": null,
            "grid_area": null,
            "grid_auto_columns": null,
            "grid_auto_flow": null,
            "grid_auto_rows": null,
            "grid_column": null,
            "grid_gap": null,
            "grid_row": null,
            "grid_template_areas": null,
            "grid_template_columns": null,
            "grid_template_rows": null,
            "height": null,
            "justify_content": null,
            "justify_items": null,
            "left": null,
            "margin": null,
            "max_height": null,
            "max_width": null,
            "min_height": null,
            "min_width": null,
            "object_fit": null,
            "object_position": null,
            "order": null,
            "overflow": null,
            "overflow_x": null,
            "overflow_y": null,
            "padding": null,
            "right": null,
            "top": null,
            "visibility": null,
            "width": null
          }
        },
        "48ee479218884546b2771311dd538556": {
          "model_module": "@jupyter-widgets/base",
          "model_module_version": "1.2.0",
          "model_name": "LayoutModel",
          "state": {
            "_model_module": "@jupyter-widgets/base",
            "_model_module_version": "1.2.0",
            "_model_name": "LayoutModel",
            "_view_count": null,
            "_view_module": "@jupyter-widgets/base",
            "_view_module_version": "1.2.0",
            "_view_name": "LayoutView",
            "align_content": null,
            "align_items": null,
            "align_self": null,
            "border": null,
            "bottom": null,
            "display": null,
            "flex": null,
            "flex_flow": null,
            "grid_area": null,
            "grid_auto_columns": null,
            "grid_auto_flow": null,
            "grid_auto_rows": null,
            "grid_column": null,
            "grid_gap": null,
            "grid_row": null,
            "grid_template_areas": null,
            "grid_template_columns": null,
            "grid_template_rows": null,
            "height": null,
            "justify_content": null,
            "justify_items": null,
            "left": null,
            "margin": null,
            "max_height": null,
            "max_width": null,
            "min_height": null,
            "min_width": null,
            "object_fit": null,
            "object_position": null,
            "order": null,
            "overflow": null,
            "overflow_x": null,
            "overflow_y": null,
            "padding": null,
            "right": null,
            "top": null,
            "visibility": null,
            "width": null
          }
        },
        "49c03efbc51c48d4935a4fb2ba8ff1d0": {
          "model_module": "@jupyter-widgets/controls",
          "model_module_version": "1.5.0",
          "model_name": "ProgressStyleModel",
          "state": {
            "_model_module": "@jupyter-widgets/controls",
            "_model_module_version": "1.5.0",
            "_model_name": "ProgressStyleModel",
            "_view_count": null,
            "_view_module": "@jupyter-widgets/base",
            "_view_module_version": "1.2.0",
            "_view_name": "StyleView",
            "bar_color": null,
            "description_width": ""
          }
        },
        "4a323ffb27c2496297094efabb8dfee9": {
          "model_module": "@jupyter-widgets/base",
          "model_module_version": "1.2.0",
          "model_name": "LayoutModel",
          "state": {
            "_model_module": "@jupyter-widgets/base",
            "_model_module_version": "1.2.0",
            "_model_name": "LayoutModel",
            "_view_count": null,
            "_view_module": "@jupyter-widgets/base",
            "_view_module_version": "1.2.0",
            "_view_name": "LayoutView",
            "align_content": null,
            "align_items": null,
            "align_self": null,
            "border": null,
            "bottom": null,
            "display": null,
            "flex": null,
            "flex_flow": null,
            "grid_area": null,
            "grid_auto_columns": null,
            "grid_auto_flow": null,
            "grid_auto_rows": null,
            "grid_column": null,
            "grid_gap": null,
            "grid_row": null,
            "grid_template_areas": null,
            "grid_template_columns": null,
            "grid_template_rows": null,
            "height": null,
            "justify_content": null,
            "justify_items": null,
            "left": null,
            "margin": null,
            "max_height": null,
            "max_width": null,
            "min_height": null,
            "min_width": null,
            "object_fit": null,
            "object_position": null,
            "order": null,
            "overflow": null,
            "overflow_x": null,
            "overflow_y": null,
            "padding": null,
            "right": null,
            "top": null,
            "visibility": null,
            "width": null
          }
        },
        "5209db353c0b4af9a237ffa2f6518729": {
          "model_module": "@jupyter-widgets/controls",
          "model_module_version": "1.5.0",
          "model_name": "DescriptionStyleModel",
          "state": {
            "_model_module": "@jupyter-widgets/controls",
            "_model_module_version": "1.5.0",
            "_model_name": "DescriptionStyleModel",
            "_view_count": null,
            "_view_module": "@jupyter-widgets/base",
            "_view_module_version": "1.2.0",
            "_view_name": "StyleView",
            "description_width": ""
          }
        },
        "56af389f4bd2415db3ed51c2b2b7d90f": {
          "model_module": "@jupyter-widgets/base",
          "model_module_version": "1.2.0",
          "model_name": "LayoutModel",
          "state": {
            "_model_module": "@jupyter-widgets/base",
            "_model_module_version": "1.2.0",
            "_model_name": "LayoutModel",
            "_view_count": null,
            "_view_module": "@jupyter-widgets/base",
            "_view_module_version": "1.2.0",
            "_view_name": "LayoutView",
            "align_content": null,
            "align_items": null,
            "align_self": null,
            "border": null,
            "bottom": null,
            "display": null,
            "flex": null,
            "flex_flow": null,
            "grid_area": null,
            "grid_auto_columns": null,
            "grid_auto_flow": null,
            "grid_auto_rows": null,
            "grid_column": null,
            "grid_gap": null,
            "grid_row": null,
            "grid_template_areas": null,
            "grid_template_columns": null,
            "grid_template_rows": null,
            "height": null,
            "justify_content": null,
            "justify_items": null,
            "left": null,
            "margin": null,
            "max_height": null,
            "max_width": null,
            "min_height": null,
            "min_width": null,
            "object_fit": null,
            "object_position": null,
            "order": null,
            "overflow": null,
            "overflow_x": null,
            "overflow_y": null,
            "padding": null,
            "right": null,
            "top": null,
            "visibility": null,
            "width": null
          }
        },
        "5aa84a96d6d14fd59baa555e863835a0": {
          "model_module": "@jupyter-widgets/base",
          "model_module_version": "1.2.0",
          "model_name": "LayoutModel",
          "state": {
            "_model_module": "@jupyter-widgets/base",
            "_model_module_version": "1.2.0",
            "_model_name": "LayoutModel",
            "_view_count": null,
            "_view_module": "@jupyter-widgets/base",
            "_view_module_version": "1.2.0",
            "_view_name": "LayoutView",
            "align_content": null,
            "align_items": null,
            "align_self": null,
            "border": null,
            "bottom": null,
            "display": null,
            "flex": null,
            "flex_flow": null,
            "grid_area": null,
            "grid_auto_columns": null,
            "grid_auto_flow": null,
            "grid_auto_rows": null,
            "grid_column": null,
            "grid_gap": null,
            "grid_row": null,
            "grid_template_areas": null,
            "grid_template_columns": null,
            "grid_template_rows": null,
            "height": null,
            "justify_content": null,
            "justify_items": null,
            "left": null,
            "margin": null,
            "max_height": null,
            "max_width": null,
            "min_height": null,
            "min_width": null,
            "object_fit": null,
            "object_position": null,
            "order": null,
            "overflow": null,
            "overflow_x": null,
            "overflow_y": null,
            "padding": null,
            "right": null,
            "top": null,
            "visibility": null,
            "width": null
          }
        },
        "5c08d052de1246bc8935755a940bc637": {
          "model_module": "@jupyter-widgets/base",
          "model_module_version": "1.2.0",
          "model_name": "LayoutModel",
          "state": {
            "_model_module": "@jupyter-widgets/base",
            "_model_module_version": "1.2.0",
            "_model_name": "LayoutModel",
            "_view_count": null,
            "_view_module": "@jupyter-widgets/base",
            "_view_module_version": "1.2.0",
            "_view_name": "LayoutView",
            "align_content": null,
            "align_items": null,
            "align_self": null,
            "border": null,
            "bottom": null,
            "display": null,
            "flex": null,
            "flex_flow": null,
            "grid_area": null,
            "grid_auto_columns": null,
            "grid_auto_flow": null,
            "grid_auto_rows": null,
            "grid_column": null,
            "grid_gap": null,
            "grid_row": null,
            "grid_template_areas": null,
            "grid_template_columns": null,
            "grid_template_rows": null,
            "height": null,
            "justify_content": null,
            "justify_items": null,
            "left": null,
            "margin": null,
            "max_height": null,
            "max_width": null,
            "min_height": null,
            "min_width": null,
            "object_fit": null,
            "object_position": null,
            "order": null,
            "overflow": null,
            "overflow_x": null,
            "overflow_y": null,
            "padding": null,
            "right": null,
            "top": null,
            "visibility": null,
            "width": null
          }
        },
        "604bbd95527748c58f0e5d3dfffc03bc": {
          "model_module": "@jupyter-widgets/controls",
          "model_module_version": "1.5.0",
          "model_name": "ProgressStyleModel",
          "state": {
            "_model_module": "@jupyter-widgets/controls",
            "_model_module_version": "1.5.0",
            "_model_name": "ProgressStyleModel",
            "_view_count": null,
            "_view_module": "@jupyter-widgets/base",
            "_view_module_version": "1.2.0",
            "_view_name": "StyleView",
            "bar_color": null,
            "description_width": ""
          }
        },
        "618ebce5ea2848a0a277020cdb8313fe": {
          "model_module": "@jupyter-widgets/base",
          "model_module_version": "1.2.0",
          "model_name": "LayoutModel",
          "state": {
            "_model_module": "@jupyter-widgets/base",
            "_model_module_version": "1.2.0",
            "_model_name": "LayoutModel",
            "_view_count": null,
            "_view_module": "@jupyter-widgets/base",
            "_view_module_version": "1.2.0",
            "_view_name": "LayoutView",
            "align_content": null,
            "align_items": null,
            "align_self": null,
            "border": null,
            "bottom": null,
            "display": null,
            "flex": null,
            "flex_flow": null,
            "grid_area": null,
            "grid_auto_columns": null,
            "grid_auto_flow": null,
            "grid_auto_rows": null,
            "grid_column": null,
            "grid_gap": null,
            "grid_row": null,
            "grid_template_areas": null,
            "grid_template_columns": null,
            "grid_template_rows": null,
            "height": null,
            "justify_content": null,
            "justify_items": null,
            "left": null,
            "margin": null,
            "max_height": null,
            "max_width": null,
            "min_height": null,
            "min_width": null,
            "object_fit": null,
            "object_position": null,
            "order": null,
            "overflow": null,
            "overflow_x": null,
            "overflow_y": null,
            "padding": null,
            "right": null,
            "top": null,
            "visibility": null,
            "width": null
          }
        },
        "61e5b38c784f4ad981420580a4d7c3bc": {
          "model_module": "@jupyter-widgets/base",
          "model_module_version": "1.2.0",
          "model_name": "LayoutModel",
          "state": {
            "_model_module": "@jupyter-widgets/base",
            "_model_module_version": "1.2.0",
            "_model_name": "LayoutModel",
            "_view_count": null,
            "_view_module": "@jupyter-widgets/base",
            "_view_module_version": "1.2.0",
            "_view_name": "LayoutView",
            "align_content": null,
            "align_items": null,
            "align_self": null,
            "border": null,
            "bottom": null,
            "display": null,
            "flex": null,
            "flex_flow": null,
            "grid_area": null,
            "grid_auto_columns": null,
            "grid_auto_flow": null,
            "grid_auto_rows": null,
            "grid_column": null,
            "grid_gap": null,
            "grid_row": null,
            "grid_template_areas": null,
            "grid_template_columns": null,
            "grid_template_rows": null,
            "height": null,
            "justify_content": null,
            "justify_items": null,
            "left": null,
            "margin": null,
            "max_height": null,
            "max_width": null,
            "min_height": null,
            "min_width": null,
            "object_fit": null,
            "object_position": null,
            "order": null,
            "overflow": null,
            "overflow_x": null,
            "overflow_y": null,
            "padding": null,
            "right": null,
            "top": null,
            "visibility": null,
            "width": null
          }
        },
        "64a08baec9ec4238b1bce8621f4287bd": {
          "model_module": "@jupyter-widgets/controls",
          "model_module_version": "1.5.0",
          "model_name": "HTMLModel",
          "state": {
            "_dom_classes": [],
            "_model_module": "@jupyter-widgets/controls",
            "_model_module_version": "1.5.0",
            "_model_name": "HTMLModel",
            "_view_count": null,
            "_view_module": "@jupyter-widgets/controls",
            "_view_module_version": "1.5.0",
            "_view_name": "HTMLView",
            "description": "",
            "description_tooltip": null,
            "layout": "IPY_MODEL_f40681779c864355943605cb49f227b1",
            "placeholder": "​",
            "style": "IPY_MODEL_660ff25f845543f2a644bc4c778eab52",
            "value": "special_tokens_map.json: 100%"
          }
        },
        "6548df6e7a2047dc8e0f355a6a54afa2": {
          "model_module": "@jupyter-widgets/controls",
          "model_module_version": "1.5.0",
          "model_name": "HBoxModel",
          "state": {
            "_dom_classes": [],
            "_model_module": "@jupyter-widgets/controls",
            "_model_module_version": "1.5.0",
            "_model_name": "HBoxModel",
            "_view_count": null,
            "_view_module": "@jupyter-widgets/controls",
            "_view_module_version": "1.5.0",
            "_view_name": "HBoxView",
            "box_style": "",
            "children": [
              "IPY_MODEL_c54e7e541fbc408fb6bc00533a09b703",
              "IPY_MODEL_87f038adb12b462c8e4e1a25152d83d7",
              "IPY_MODEL_ab978b541a964e38a635ff56379e0220"
            ],
            "layout": "IPY_MODEL_8c2a30187b7a48ea98924ab2f9f9ad11"
          }
        },
        "660ff25f845543f2a644bc4c778eab52": {
          "model_module": "@jupyter-widgets/controls",
          "model_module_version": "1.5.0",
          "model_name": "DescriptionStyleModel",
          "state": {
            "_model_module": "@jupyter-widgets/controls",
            "_model_module_version": "1.5.0",
            "_model_name": "DescriptionStyleModel",
            "_view_count": null,
            "_view_module": "@jupyter-widgets/base",
            "_view_module_version": "1.2.0",
            "_view_name": "StyleView",
            "description_width": ""
          }
        },
        "667b966b03b842fab3693abc4161e884": {
          "model_module": "@jupyter-widgets/controls",
          "model_module_version": "1.5.0",
          "model_name": "HTMLModel",
          "state": {
            "_dom_classes": [],
            "_model_module": "@jupyter-widgets/controls",
            "_model_module_version": "1.5.0",
            "_model_name": "HTMLModel",
            "_view_count": null,
            "_view_module": "@jupyter-widgets/controls",
            "_view_module_version": "1.5.0",
            "_view_name": "HTMLView",
            "description": "",
            "description_tooltip": null,
            "layout": "IPY_MODEL_e47430e8dd79466db5eb61b06ac3f35f",
            "placeholder": "​",
            "style": "IPY_MODEL_dd28c9c5319647b5b1e2efe1ca79f41b",
            "value": "tokenizer.json: "
          }
        },
        "6c0bca2d6f9344aaa25961d89bf2916c": {
          "model_module": "@jupyter-widgets/controls",
          "model_module_version": "1.5.0",
          "model_name": "DescriptionStyleModel",
          "state": {
            "_model_module": "@jupyter-widgets/controls",
            "_model_module_version": "1.5.0",
            "_model_name": "DescriptionStyleModel",
            "_view_count": null,
            "_view_module": "@jupyter-widgets/base",
            "_view_module_version": "1.2.0",
            "_view_name": "StyleView",
            "description_width": ""
          }
        },
        "6cda3030c89b42e0a71e4271ceb1ec0b": {
          "model_module": "@jupyter-widgets/controls",
          "model_module_version": "1.5.0",
          "model_name": "FloatProgressModel",
          "state": {
            "_dom_classes": [],
            "_model_module": "@jupyter-widgets/controls",
            "_model_module_version": "1.5.0",
            "_model_name": "FloatProgressModel",
            "_view_count": null,
            "_view_module": "@jupyter-widgets/controls",
            "_view_module_version": "1.5.0",
            "_view_name": "ProgressView",
            "bar_style": "success",
            "description": "",
            "description_tooltip": null,
            "layout": "IPY_MODEL_99524e58c9024095b527898480bacddf",
            "max": 803332304,
            "min": 0,
            "orientation": "horizontal",
            "style": "IPY_MODEL_604bbd95527748c58f0e5d3dfffc03bc",
            "value": 803332304
          }
        },
        "6d298eeed7c149938faa48888661af68": {
          "model_module": "@jupyter-widgets/controls",
          "model_module_version": "1.5.0",
          "model_name": "ProgressStyleModel",
          "state": {
            "_model_module": "@jupyter-widgets/controls",
            "_model_module_version": "1.5.0",
            "_model_name": "ProgressStyleModel",
            "_view_count": null,
            "_view_module": "@jupyter-widgets/base",
            "_view_module_version": "1.2.0",
            "_view_name": "StyleView",
            "bar_color": null,
            "description_width": ""
          }
        },
        "6e4367fd86364ce184a6bcd26ce566f4": {
          "model_module": "@jupyter-widgets/controls",
          "model_module_version": "1.5.0",
          "model_name": "DescriptionStyleModel",
          "state": {
            "_model_module": "@jupyter-widgets/controls",
            "_model_module_version": "1.5.0",
            "_model_name": "DescriptionStyleModel",
            "_view_count": null,
            "_view_module": "@jupyter-widgets/base",
            "_view_module_version": "1.2.0",
            "_view_name": "StyleView",
            "description_width": ""
          }
        },
        "710b63857c2e4381a975ba08f2f02a40": {
          "model_module": "@jupyter-widgets/controls",
          "model_module_version": "1.5.0",
          "model_name": "DescriptionStyleModel",
          "state": {
            "_model_module": "@jupyter-widgets/controls",
            "_model_module_version": "1.5.0",
            "_model_name": "DescriptionStyleModel",
            "_view_count": null,
            "_view_module": "@jupyter-widgets/base",
            "_view_module_version": "1.2.0",
            "_view_name": "StyleView",
            "description_width": ""
          }
        },
        "789dca0374f341299154fad164b233e7": {
          "model_module": "@jupyter-widgets/base",
          "model_module_version": "1.2.0",
          "model_name": "LayoutModel",
          "state": {
            "_model_module": "@jupyter-widgets/base",
            "_model_module_version": "1.2.0",
            "_model_name": "LayoutModel",
            "_view_count": null,
            "_view_module": "@jupyter-widgets/base",
            "_view_module_version": "1.2.0",
            "_view_name": "LayoutView",
            "align_content": null,
            "align_items": null,
            "align_self": null,
            "border": null,
            "bottom": null,
            "display": null,
            "flex": null,
            "flex_flow": null,
            "grid_area": null,
            "grid_auto_columns": null,
            "grid_auto_flow": null,
            "grid_auto_rows": null,
            "grid_column": null,
            "grid_gap": null,
            "grid_row": null,
            "grid_template_areas": null,
            "grid_template_columns": null,
            "grid_template_rows": null,
            "height": null,
            "justify_content": null,
            "justify_items": null,
            "left": null,
            "margin": null,
            "max_height": null,
            "max_width": null,
            "min_height": null,
            "min_width": null,
            "object_fit": null,
            "object_position": null,
            "order": null,
            "overflow": null,
            "overflow_x": null,
            "overflow_y": null,
            "padding": null,
            "right": null,
            "top": null,
            "visibility": null,
            "width": null
          }
        },
        "7d740f85048d4879a5823ac6a162acc6": {
          "model_module": "@jupyter-widgets/base",
          "model_module_version": "1.2.0",
          "model_name": "LayoutModel",
          "state": {
            "_model_module": "@jupyter-widgets/base",
            "_model_module_version": "1.2.0",
            "_model_name": "LayoutModel",
            "_view_count": null,
            "_view_module": "@jupyter-widgets/base",
            "_view_module_version": "1.2.0",
            "_view_name": "LayoutView",
            "align_content": null,
            "align_items": null,
            "align_self": null,
            "border": null,
            "bottom": null,
            "display": null,
            "flex": null,
            "flex_flow": null,
            "grid_area": null,
            "grid_auto_columns": null,
            "grid_auto_flow": null,
            "grid_auto_rows": null,
            "grid_column": null,
            "grid_gap": null,
            "grid_row": null,
            "grid_template_areas": null,
            "grid_template_columns": null,
            "grid_template_rows": null,
            "height": null,
            "justify_content": null,
            "justify_items": null,
            "left": null,
            "margin": null,
            "max_height": null,
            "max_width": null,
            "min_height": null,
            "min_width": null,
            "object_fit": null,
            "object_position": null,
            "order": null,
            "overflow": null,
            "overflow_x": null,
            "overflow_y": null,
            "padding": null,
            "right": null,
            "top": null,
            "visibility": null,
            "width": "20px"
          }
        },
        "80f053a0df4840848b0c25c23cda4805": {
          "model_module": "@jupyter-widgets/controls",
          "model_module_version": "1.5.0",
          "model_name": "ProgressStyleModel",
          "state": {
            "_model_module": "@jupyter-widgets/controls",
            "_model_module_version": "1.5.0",
            "_model_name": "ProgressStyleModel",
            "_view_count": null,
            "_view_module": "@jupyter-widgets/base",
            "_view_module_version": "1.2.0",
            "_view_name": "StyleView",
            "bar_color": null,
            "description_width": ""
          }
        },
        "8151f80145c44d93adc506cab36056f8": {
          "model_module": "@jupyter-widgets/controls",
          "model_module_version": "1.5.0",
          "model_name": "HTMLModel",
          "state": {
            "_dom_classes": [],
            "_model_module": "@jupyter-widgets/controls",
            "_model_module_version": "1.5.0",
            "_model_name": "HTMLModel",
            "_view_count": null,
            "_view_module": "@jupyter-widgets/controls",
            "_view_module_version": "1.5.0",
            "_view_name": "HTMLView",
            "description": "",
            "description_tooltip": null,
            "layout": "IPY_MODEL_5c08d052de1246bc8935755a940bc637",
            "placeholder": "​",
            "style": "IPY_MODEL_c09fd56163d24fc8b3f474014d9e88e7",
            "value": " 803M/803M [00:11&lt;00:00, 76.5MB/s]"
          }
        },
        "86bab223e7144d75aa8c75bde057c854": {
          "model_module": "@jupyter-widgets/base",
          "model_module_version": "1.2.0",
          "model_name": "LayoutModel",
          "state": {
            "_model_module": "@jupyter-widgets/base",
            "_model_module_version": "1.2.0",
            "_model_name": "LayoutModel",
            "_view_count": null,
            "_view_module": "@jupyter-widgets/base",
            "_view_module_version": "1.2.0",
            "_view_name": "LayoutView",
            "align_content": null,
            "align_items": null,
            "align_self": null,
            "border": null,
            "bottom": null,
            "display": null,
            "flex": null,
            "flex_flow": null,
            "grid_area": null,
            "grid_auto_columns": null,
            "grid_auto_flow": null,
            "grid_auto_rows": null,
            "grid_column": null,
            "grid_gap": null,
            "grid_row": null,
            "grid_template_areas": null,
            "grid_template_columns": null,
            "grid_template_rows": null,
            "height": null,
            "justify_content": null,
            "justify_items": null,
            "left": null,
            "margin": null,
            "max_height": null,
            "max_width": null,
            "min_height": null,
            "min_width": null,
            "object_fit": null,
            "object_position": null,
            "order": null,
            "overflow": null,
            "overflow_x": null,
            "overflow_y": null,
            "padding": null,
            "right": null,
            "top": null,
            "visibility": null,
            "width": null
          }
        },
        "87f038adb12b462c8e4e1a25152d83d7": {
          "model_module": "@jupyter-widgets/controls",
          "model_module_version": "1.5.0",
          "model_name": "FloatProgressModel",
          "state": {
            "_dom_classes": [],
            "_model_module": "@jupyter-widgets/controls",
            "_model_module_version": "1.5.0",
            "_model_name": "FloatProgressModel",
            "_view_count": null,
            "_view_module": "@jupyter-widgets/controls",
            "_view_module_version": "1.5.0",
            "_view_name": "ProgressView",
            "bar_style": "success",
            "description": "",
            "description_tooltip": null,
            "layout": "IPY_MODEL_789dca0374f341299154fad164b233e7",
            "max": 1296245,
            "min": 0,
            "orientation": "horizontal",
            "style": "IPY_MODEL_0710c12b4e2d4e59a0de8569872525b1",
            "value": 1296245
          }
        },
        "89a1e015e53f40f2902d7b0b7bf27db0": {
          "model_module": "@jupyter-widgets/base",
          "model_module_version": "1.2.0",
          "model_name": "LayoutModel",
          "state": {
            "_model_module": "@jupyter-widgets/base",
            "_model_module_version": "1.2.0",
            "_model_name": "LayoutModel",
            "_view_count": null,
            "_view_module": "@jupyter-widgets/base",
            "_view_module_version": "1.2.0",
            "_view_name": "LayoutView",
            "align_content": null,
            "align_items": null,
            "align_self": null,
            "border": null,
            "bottom": null,
            "display": null,
            "flex": null,
            "flex_flow": null,
            "grid_area": null,
            "grid_auto_columns": null,
            "grid_auto_flow": null,
            "grid_auto_rows": null,
            "grid_column": null,
            "grid_gap": null,
            "grid_row": null,
            "grid_template_areas": null,
            "grid_template_columns": null,
            "grid_template_rows": null,
            "height": null,
            "justify_content": null,
            "justify_items": null,
            "left": null,
            "margin": null,
            "max_height": null,
            "max_width": null,
            "min_height": null,
            "min_width": null,
            "object_fit": null,
            "object_position": null,
            "order": null,
            "overflow": null,
            "overflow_x": null,
            "overflow_y": null,
            "padding": null,
            "right": null,
            "top": null,
            "visibility": null,
            "width": null
          }
        },
        "8a4737a8b9b74c0996174ce419212579": {
          "model_module": "@jupyter-widgets/controls",
          "model_module_version": "1.5.0",
          "model_name": "DescriptionStyleModel",
          "state": {
            "_model_module": "@jupyter-widgets/controls",
            "_model_module_version": "1.5.0",
            "_model_name": "DescriptionStyleModel",
            "_view_count": null,
            "_view_module": "@jupyter-widgets/base",
            "_view_module_version": "1.2.0",
            "_view_name": "StyleView",
            "description_width": ""
          }
        },
        "8c2a30187b7a48ea98924ab2f9f9ad11": {
          "model_module": "@jupyter-widgets/base",
          "model_module_version": "1.2.0",
          "model_name": "LayoutModel",
          "state": {
            "_model_module": "@jupyter-widgets/base",
            "_model_module_version": "1.2.0",
            "_model_name": "LayoutModel",
            "_view_count": null,
            "_view_module": "@jupyter-widgets/base",
            "_view_module_version": "1.2.0",
            "_view_name": "LayoutView",
            "align_content": null,
            "align_items": null,
            "align_self": null,
            "border": null,
            "bottom": null,
            "display": null,
            "flex": null,
            "flex_flow": null,
            "grid_area": null,
            "grid_auto_columns": null,
            "grid_auto_flow": null,
            "grid_auto_rows": null,
            "grid_column": null,
            "grid_gap": null,
            "grid_row": null,
            "grid_template_areas": null,
            "grid_template_columns": null,
            "grid_template_rows": null,
            "height": null,
            "justify_content": null,
            "justify_items": null,
            "left": null,
            "margin": null,
            "max_height": null,
            "max_width": null,
            "min_height": null,
            "min_width": null,
            "object_fit": null,
            "object_position": null,
            "order": null,
            "overflow": null,
            "overflow_x": null,
            "overflow_y": null,
            "padding": null,
            "right": null,
            "top": null,
            "visibility": null,
            "width": null
          }
        },
        "8de2be3cd9b148baa3c88ca30cc62714": {
          "model_module": "@jupyter-widgets/controls",
          "model_module_version": "1.5.0",
          "model_name": "HTMLModel",
          "state": {
            "_dom_classes": [],
            "_model_module": "@jupyter-widgets/controls",
            "_model_module_version": "1.5.0",
            "_model_name": "HTMLModel",
            "_view_count": null,
            "_view_module": "@jupyter-widgets/controls",
            "_view_module_version": "1.5.0",
            "_view_name": "HTMLView",
            "description": "",
            "description_tooltip": null,
            "layout": "IPY_MODEL_a23778b55b654540aa7ee9933cd7d1e7",
            "placeholder": "​",
            "style": "IPY_MODEL_a65b4448d9c64f35bf23ed13bc664ff9",
            "value": " 535/535 [00:00&lt;00:00, 55.8kB/s]"
          }
        },
        "918c83cf0b794495b6a874ef6f73f236": {
          "model_module": "@jupyter-widgets/controls",
          "model_module_version": "1.5.0",
          "model_name": "HTMLModel",
          "state": {
            "_dom_classes": [],
            "_model_module": "@jupyter-widgets/controls",
            "_model_module_version": "1.5.0",
            "_model_name": "HTMLModel",
            "_view_count": null,
            "_view_module": "@jupyter-widgets/controls",
            "_view_module_version": "1.5.0",
            "_view_name": "HTMLView",
            "description": "",
            "description_tooltip": null,
            "layout": "IPY_MODEL_86bab223e7144d75aa8c75bde057c854",
            "placeholder": "​",
            "style": "IPY_MODEL_5209db353c0b4af9a237ffa2f6518729",
            "value": " 803M/803M [00:18&lt;00:00, 28.1MB/s]"
          }
        },
        "92beb8964da448d396fc9fe637036891": {
          "model_module": "@jupyter-widgets/base",
          "model_module_version": "1.2.0",
          "model_name": "LayoutModel",
          "state": {
            "_model_module": "@jupyter-widgets/base",
            "_model_module_version": "1.2.0",
            "_model_name": "LayoutModel",
            "_view_count": null,
            "_view_module": "@jupyter-widgets/base",
            "_view_module_version": "1.2.0",
            "_view_name": "LayoutView",
            "align_content": null,
            "align_items": null,
            "align_self": null,
            "border": null,
            "bottom": null,
            "display": null,
            "flex": null,
            "flex_flow": null,
            "grid_area": null,
            "grid_auto_columns": null,
            "grid_auto_flow": null,
            "grid_auto_rows": null,
            "grid_column": null,
            "grid_gap": null,
            "grid_row": null,
            "grid_template_areas": null,
            "grid_template_columns": null,
            "grid_template_rows": null,
            "height": null,
            "justify_content": null,
            "justify_items": null,
            "left": null,
            "margin": null,
            "max_height": null,
            "max_width": null,
            "min_height": null,
            "min_width": null,
            "object_fit": null,
            "object_position": null,
            "order": null,
            "overflow": null,
            "overflow_x": null,
            "overflow_y": null,
            "padding": null,
            "right": null,
            "top": null,
            "visibility": null,
            "width": null
          }
        },
        "93d8d10b5b5f4b159186670aeb4f2783": {
          "model_module": "@jupyter-widgets/controls",
          "model_module_version": "1.5.0",
          "model_name": "FloatProgressModel",
          "state": {
            "_dom_classes": [],
            "_model_module": "@jupyter-widgets/controls",
            "_model_module_version": "1.5.0",
            "_model_name": "FloatProgressModel",
            "_view_count": null,
            "_view_module": "@jupyter-widgets/controls",
            "_view_module_version": "1.5.0",
            "_view_name": "ProgressView",
            "bar_style": "success",
            "description": "",
            "description_tooltip": null,
            "layout": "IPY_MODEL_cba66a5b5b5747aab9c274ca3f61b4f8",
            "max": 478,
            "min": 0,
            "orientation": "horizontal",
            "style": "IPY_MODEL_49c03efbc51c48d4935a4fb2ba8ff1d0",
            "value": 478
          }
        },
        "96281af440fa4ff888d6a7eb78181cd3": {
          "model_module": "@jupyter-widgets/controls",
          "model_module_version": "1.5.0",
          "model_name": "ProgressStyleModel",
          "state": {
            "_model_module": "@jupyter-widgets/controls",
            "_model_module_version": "1.5.0",
            "_model_name": "ProgressStyleModel",
            "_view_count": null,
            "_view_module": "@jupyter-widgets/base",
            "_view_module_version": "1.2.0",
            "_view_name": "StyleView",
            "bar_color": null,
            "description_width": ""
          }
        },
        "96ac8458490f4baeb4a375b77a530b2a": {
          "model_module": "@jupyter-widgets/controls",
          "model_module_version": "1.5.0",
          "model_name": "DescriptionStyleModel",
          "state": {
            "_model_module": "@jupyter-widgets/controls",
            "_model_module_version": "1.5.0",
            "_model_name": "DescriptionStyleModel",
            "_view_count": null,
            "_view_module": "@jupyter-widgets/base",
            "_view_module_version": "1.2.0",
            "_view_name": "StyleView",
            "description_width": ""
          }
        },
        "99524e58c9024095b527898480bacddf": {
          "model_module": "@jupyter-widgets/base",
          "model_module_version": "1.2.0",
          "model_name": "LayoutModel",
          "state": {
            "_model_module": "@jupyter-widgets/base",
            "_model_module_version": "1.2.0",
            "_model_name": "LayoutModel",
            "_view_count": null,
            "_view_module": "@jupyter-widgets/base",
            "_view_module_version": "1.2.0",
            "_view_name": "LayoutView",
            "align_content": null,
            "align_items": null,
            "align_self": null,
            "border": null,
            "bottom": null,
            "display": null,
            "flex": null,
            "flex_flow": null,
            "grid_area": null,
            "grid_auto_columns": null,
            "grid_auto_flow": null,
            "grid_auto_rows": null,
            "grid_column": null,
            "grid_gap": null,
            "grid_row": null,
            "grid_template_areas": null,
            "grid_template_columns": null,
            "grid_template_rows": null,
            "height": null,
            "justify_content": null,
            "justify_items": null,
            "left": null,
            "margin": null,
            "max_height": null,
            "max_width": null,
            "min_height": null,
            "min_width": null,
            "object_fit": null,
            "object_position": null,
            "order": null,
            "overflow": null,
            "overflow_x": null,
            "overflow_y": null,
            "padding": null,
            "right": null,
            "top": null,
            "visibility": null,
            "width": null
          }
        },
        "9bab741ce096488897dc0d8433818cb6": {
          "model_module": "@jupyter-widgets/base",
          "model_module_version": "1.2.0",
          "model_name": "LayoutModel",
          "state": {
            "_model_module": "@jupyter-widgets/base",
            "_model_module_version": "1.2.0",
            "_model_name": "LayoutModel",
            "_view_count": null,
            "_view_module": "@jupyter-widgets/base",
            "_view_module_version": "1.2.0",
            "_view_name": "LayoutView",
            "align_content": null,
            "align_items": null,
            "align_self": null,
            "border": null,
            "bottom": null,
            "display": null,
            "flex": null,
            "flex_flow": null,
            "grid_area": null,
            "grid_auto_columns": null,
            "grid_auto_flow": null,
            "grid_auto_rows": null,
            "grid_column": null,
            "grid_gap": null,
            "grid_row": null,
            "grid_template_areas": null,
            "grid_template_columns": null,
            "grid_template_rows": null,
            "height": null,
            "justify_content": null,
            "justify_items": null,
            "left": null,
            "margin": null,
            "max_height": null,
            "max_width": null,
            "min_height": null,
            "min_width": null,
            "object_fit": null,
            "object_position": null,
            "order": null,
            "overflow": null,
            "overflow_x": null,
            "overflow_y": null,
            "padding": null,
            "right": null,
            "top": null,
            "visibility": null,
            "width": null
          }
        },
        "a23778b55b654540aa7ee9933cd7d1e7": {
          "model_module": "@jupyter-widgets/base",
          "model_module_version": "1.2.0",
          "model_name": "LayoutModel",
          "state": {
            "_model_module": "@jupyter-widgets/base",
            "_model_module_version": "1.2.0",
            "_model_name": "LayoutModel",
            "_view_count": null,
            "_view_module": "@jupyter-widgets/base",
            "_view_module_version": "1.2.0",
            "_view_name": "LayoutView",
            "align_content": null,
            "align_items": null,
            "align_self": null,
            "border": null,
            "bottom": null,
            "display": null,
            "flex": null,
            "flex_flow": null,
            "grid_area": null,
            "grid_auto_columns": null,
            "grid_auto_flow": null,
            "grid_auto_rows": null,
            "grid_column": null,
            "grid_gap": null,
            "grid_row": null,
            "grid_template_areas": null,
            "grid_template_columns": null,
            "grid_template_rows": null,
            "height": null,
            "justify_content": null,
            "justify_items": null,
            "left": null,
            "margin": null,
            "max_height": null,
            "max_width": null,
            "min_height": null,
            "min_width": null,
            "object_fit": null,
            "object_position": null,
            "order": null,
            "overflow": null,
            "overflow_x": null,
            "overflow_y": null,
            "padding": null,
            "right": null,
            "top": null,
            "visibility": null,
            "width": null
          }
        },
        "a2bf550d94d94eb9bdb0d03362c68a94": {
          "model_module": "@jupyter-widgets/controls",
          "model_module_version": "1.5.0",
          "model_name": "HBoxModel",
          "state": {
            "_dom_classes": [],
            "_model_module": "@jupyter-widgets/controls",
            "_model_module_version": "1.5.0",
            "_model_name": "HBoxModel",
            "_view_count": null,
            "_view_module": "@jupyter-widgets/controls",
            "_view_module_version": "1.5.0",
            "_view_name": "HBoxView",
            "box_style": "",
            "children": [
              "IPY_MODEL_0581f3c2c1b3413aa91966b791b79257",
              "IPY_MODEL_2deec5ba97f940528fed58d09562baf6",
              "IPY_MODEL_afea3db593a84950b35bdbd72b900a21"
            ],
            "layout": "IPY_MODEL_ba91db2a1381471e8bdececfbe69d375"
          }
        },
        "a65b4448d9c64f35bf23ed13bc664ff9": {
          "model_module": "@jupyter-widgets/controls",
          "model_module_version": "1.5.0",
          "model_name": "DescriptionStyleModel",
          "state": {
            "_model_module": "@jupyter-widgets/controls",
            "_model_module_version": "1.5.0",
            "_model_name": "DescriptionStyleModel",
            "_view_count": null,
            "_view_module": "@jupyter-widgets/base",
            "_view_module_version": "1.2.0",
            "_view_name": "StyleView",
            "description_width": ""
          }
        },
        "ab978b541a964e38a635ff56379e0220": {
          "model_module": "@jupyter-widgets/controls",
          "model_module_version": "1.5.0",
          "model_name": "HTMLModel",
          "state": {
            "_dom_classes": [],
            "_model_module": "@jupyter-widgets/controls",
            "_model_module_version": "1.5.0",
            "_model_name": "HTMLModel",
            "_view_count": null,
            "_view_module": "@jupyter-widgets/controls",
            "_view_module_version": "1.5.0",
            "_view_name": "HTMLView",
            "description": "",
            "description_tooltip": null,
            "layout": "IPY_MODEL_61e5b38c784f4ad981420580a4d7c3bc",
            "placeholder": "​",
            "style": "IPY_MODEL_fcef34dfda1d4982b7a4ac8435f590bb",
            "value": " 1.30M/1.30M [00:00&lt;00:00, 2.08MB/s]"
          }
        },
        "ae5830553ceb4ad58748fe61bb8b7c8a": {
          "model_module": "@jupyter-widgets/base",
          "model_module_version": "1.2.0",
          "model_name": "LayoutModel",
          "state": {
            "_model_module": "@jupyter-widgets/base",
            "_model_module_version": "1.2.0",
            "_model_name": "LayoutModel",
            "_view_count": null,
            "_view_module": "@jupyter-widgets/base",
            "_view_module_version": "1.2.0",
            "_view_name": "LayoutView",
            "align_content": null,
            "align_items": null,
            "align_self": null,
            "border": null,
            "bottom": null,
            "display": null,
            "flex": null,
            "flex_flow": null,
            "grid_area": null,
            "grid_auto_columns": null,
            "grid_auto_flow": null,
            "grid_auto_rows": null,
            "grid_column": null,
            "grid_gap": null,
            "grid_row": null,
            "grid_template_areas": null,
            "grid_template_columns": null,
            "grid_template_rows": null,
            "height": null,
            "justify_content": null,
            "justify_items": null,
            "left": null,
            "margin": null,
            "max_height": null,
            "max_width": null,
            "min_height": null,
            "min_width": null,
            "object_fit": null,
            "object_position": null,
            "order": null,
            "overflow": null,
            "overflow_x": null,
            "overflow_y": null,
            "padding": null,
            "right": null,
            "top": null,
            "visibility": null,
            "width": null
          }
        },
        "afea3db593a84950b35bdbd72b900a21": {
          "model_module": "@jupyter-widgets/controls",
          "model_module_version": "1.5.0",
          "model_name": "HTMLModel",
          "state": {
            "_dom_classes": [],
            "_model_module": "@jupyter-widgets/controls",
            "_model_module_version": "1.5.0",
            "_model_name": "HTMLModel",
            "_view_count": null,
            "_view_module": "@jupyter-widgets/controls",
            "_view_module_version": "1.5.0",
            "_view_name": "HTMLView",
            "description": "",
            "description_tooltip": null,
            "layout": "IPY_MODEL_89a1e015e53f40f2902d7b0b7bf27db0",
            "placeholder": "​",
            "style": "IPY_MODEL_df25ab72c4894ca7ac41b3efd88fdf01",
            "value": " 229/229 [00:00&lt;00:00, 24.3kB/s]"
          }
        },
        "b14dc98d79824755960b13aa37feae82": {
          "model_module": "@jupyter-widgets/base",
          "model_module_version": "1.2.0",
          "model_name": "LayoutModel",
          "state": {
            "_model_module": "@jupyter-widgets/base",
            "_model_module_version": "1.2.0",
            "_model_name": "LayoutModel",
            "_view_count": null,
            "_view_module": "@jupyter-widgets/base",
            "_view_module_version": "1.2.0",
            "_view_name": "LayoutView",
            "align_content": null,
            "align_items": null,
            "align_self": null,
            "border": null,
            "bottom": null,
            "display": null,
            "flex": null,
            "flex_flow": null,
            "grid_area": null,
            "grid_auto_columns": null,
            "grid_auto_flow": null,
            "grid_auto_rows": null,
            "grid_column": null,
            "grid_gap": null,
            "grid_row": null,
            "grid_template_areas": null,
            "grid_template_columns": null,
            "grid_template_rows": null,
            "height": null,
            "justify_content": null,
            "justify_items": null,
            "left": null,
            "margin": null,
            "max_height": null,
            "max_width": null,
            "min_height": null,
            "min_width": null,
            "object_fit": null,
            "object_position": null,
            "order": null,
            "overflow": null,
            "overflow_x": null,
            "overflow_y": null,
            "padding": null,
            "right": null,
            "top": null,
            "visibility": null,
            "width": null
          }
        },
        "ba8802cd64e04ec3bbec1895a4147b1d": {
          "model_module": "@jupyter-widgets/controls",
          "model_module_version": "1.5.0",
          "model_name": "HBoxModel",
          "state": {
            "_dom_classes": [],
            "_model_module": "@jupyter-widgets/controls",
            "_model_module_version": "1.5.0",
            "_model_name": "HBoxModel",
            "_view_count": null,
            "_view_module": "@jupyter-widgets/controls",
            "_view_module_version": "1.5.0",
            "_view_name": "HBoxView",
            "box_style": "",
            "children": [
              "IPY_MODEL_20d11363c19f40fa8edf0a3e2a7d1b66",
              "IPY_MODEL_6cda3030c89b42e0a71e4271ceb1ec0b",
              "IPY_MODEL_8151f80145c44d93adc506cab36056f8"
            ],
            "layout": "IPY_MODEL_b14dc98d79824755960b13aa37feae82"
          }
        },
        "ba91db2a1381471e8bdececfbe69d375": {
          "model_module": "@jupyter-widgets/base",
          "model_module_version": "1.2.0",
          "model_name": "LayoutModel",
          "state": {
            "_model_module": "@jupyter-widgets/base",
            "_model_module_version": "1.2.0",
            "_model_name": "LayoutModel",
            "_view_count": null,
            "_view_module": "@jupyter-widgets/base",
            "_view_module_version": "1.2.0",
            "_view_name": "LayoutView",
            "align_content": null,
            "align_items": null,
            "align_self": null,
            "border": null,
            "bottom": null,
            "display": null,
            "flex": null,
            "flex_flow": null,
            "grid_area": null,
            "grid_auto_columns": null,
            "grid_auto_flow": null,
            "grid_auto_rows": null,
            "grid_column": null,
            "grid_gap": null,
            "grid_row": null,
            "grid_template_areas": null,
            "grid_template_columns": null,
            "grid_template_rows": null,
            "height": null,
            "justify_content": null,
            "justify_items": null,
            "left": null,
            "margin": null,
            "max_height": null,
            "max_width": null,
            "min_height": null,
            "min_width": null,
            "object_fit": null,
            "object_position": null,
            "order": null,
            "overflow": null,
            "overflow_x": null,
            "overflow_y": null,
            "padding": null,
            "right": null,
            "top": null,
            "visibility": null,
            "width": null
          }
        },
        "be10f1ebc21e47988accc376e23c7fd9": {
          "model_module": "@jupyter-widgets/base",
          "model_module_version": "1.2.0",
          "model_name": "LayoutModel",
          "state": {
            "_model_module": "@jupyter-widgets/base",
            "_model_module_version": "1.2.0",
            "_model_name": "LayoutModel",
            "_view_count": null,
            "_view_module": "@jupyter-widgets/base",
            "_view_module_version": "1.2.0",
            "_view_name": "LayoutView",
            "align_content": null,
            "align_items": null,
            "align_self": null,
            "border": null,
            "bottom": null,
            "display": null,
            "flex": null,
            "flex_flow": null,
            "grid_area": null,
            "grid_auto_columns": null,
            "grid_auto_flow": null,
            "grid_auto_rows": null,
            "grid_column": null,
            "grid_gap": null,
            "grid_row": null,
            "grid_template_areas": null,
            "grid_template_columns": null,
            "grid_template_rows": null,
            "height": null,
            "justify_content": null,
            "justify_items": null,
            "left": null,
            "margin": null,
            "max_height": null,
            "max_width": null,
            "min_height": null,
            "min_width": null,
            "object_fit": null,
            "object_position": null,
            "order": null,
            "overflow": null,
            "overflow_x": null,
            "overflow_y": null,
            "padding": null,
            "right": null,
            "top": null,
            "visibility": null,
            "width": null
          }
        },
        "c09fd56163d24fc8b3f474014d9e88e7": {
          "model_module": "@jupyter-widgets/controls",
          "model_module_version": "1.5.0",
          "model_name": "DescriptionStyleModel",
          "state": {
            "_model_module": "@jupyter-widgets/controls",
            "_model_module_version": "1.5.0",
            "_model_name": "DescriptionStyleModel",
            "_view_count": null,
            "_view_module": "@jupyter-widgets/base",
            "_view_module_version": "1.2.0",
            "_view_name": "StyleView",
            "description_width": ""
          }
        },
        "c2651cabc51748beb51e8e7645b49b17": {
          "model_module": "@jupyter-widgets/controls",
          "model_module_version": "1.5.0",
          "model_name": "HTMLModel",
          "state": {
            "_dom_classes": [],
            "_model_module": "@jupyter-widgets/controls",
            "_model_module_version": "1.5.0",
            "_model_name": "HTMLModel",
            "_view_count": null,
            "_view_module": "@jupyter-widgets/controls",
            "_view_module_version": "1.5.0",
            "_view_name": "HTMLView",
            "description": "",
            "description_tooltip": null,
            "layout": "IPY_MODEL_3dc1eb510a6b4491a7d837829f27a390",
            "placeholder": "​",
            "style": "IPY_MODEL_379c994cc2a941a1b90aa64195a47b6d",
            "value": "preprocessor_config.json: 100%"
          }
        },
        "c54e7e541fbc408fb6bc00533a09b703": {
          "model_module": "@jupyter-widgets/controls",
          "model_module_version": "1.5.0",
          "model_name": "HTMLModel",
          "state": {
            "_dom_classes": [],
            "_model_module": "@jupyter-widgets/controls",
            "_model_module_version": "1.5.0",
            "_model_name": "HTMLModel",
            "_view_count": null,
            "_view_module": "@jupyter-widgets/controls",
            "_view_module_version": "1.5.0",
            "_view_name": "HTMLView",
            "description": "",
            "description_tooltip": null,
            "layout": "IPY_MODEL_e9fe1f3b400744e7a6a1b8c03e085243",
            "placeholder": "​",
            "style": "IPY_MODEL_96ac8458490f4baeb4a375b77a530b2a",
            "value": "sentencepiece.bpe.model: 100%"
          }
        },
        "c62f0362c3594f6e80b422994b919dee": {
          "model_module": "@jupyter-widgets/controls",
          "model_module_version": "1.5.0",
          "model_name": "HBoxModel",
          "state": {
            "_dom_classes": [],
            "_model_module": "@jupyter-widgets/controls",
            "_model_module_version": "1.5.0",
            "_model_name": "HBoxModel",
            "_view_count": null,
            "_view_module": "@jupyter-widgets/controls",
            "_view_module_version": "1.5.0",
            "_view_name": "HBoxView",
            "box_style": "",
            "children": [
              "IPY_MODEL_db53429a80d946c7b23ed19767b4762c",
              "IPY_MODEL_00697fde30aa45b9bc45397e5175da6e",
              "IPY_MODEL_8de2be3cd9b148baa3c88ca30cc62714"
            ],
            "layout": "IPY_MODEL_ec78d4f63aee4e7ca3db0a28314b417c"
          }
        },
        "c972b00471b7476eb4f8b6ae1853e39c": {
          "model_module": "@jupyter-widgets/controls",
          "model_module_version": "1.5.0",
          "model_name": "HTMLModel",
          "state": {
            "_dom_classes": [],
            "_model_module": "@jupyter-widgets/controls",
            "_model_module_version": "1.5.0",
            "_model_name": "HTMLModel",
            "_view_count": null,
            "_view_module": "@jupyter-widgets/controls",
            "_view_module_version": "1.5.0",
            "_view_name": "HTMLView",
            "description": "",
            "description_tooltip": null,
            "layout": "IPY_MODEL_340f374b60e8437ea6b8fbd330a1d519",
            "placeholder": "​",
            "style": "IPY_MODEL_208edfff541944cb9dff9e5e1dda3ad8",
            "value": " 4.01M/? [00:00&lt;00:00, 40.8MB/s]"
          }
        },
        "cba66a5b5b5747aab9c274ca3f61b4f8": {
          "model_module": "@jupyter-widgets/base",
          "model_module_version": "1.2.0",
          "model_name": "LayoutModel",
          "state": {
            "_model_module": "@jupyter-widgets/base",
            "_model_module_version": "1.2.0",
            "_model_name": "LayoutModel",
            "_view_count": null,
            "_view_module": "@jupyter-widgets/base",
            "_view_module_version": "1.2.0",
            "_view_name": "LayoutView",
            "align_content": null,
            "align_items": null,
            "align_self": null,
            "border": null,
            "bottom": null,
            "display": null,
            "flex": null,
            "flex_flow": null,
            "grid_area": null,
            "grid_auto_columns": null,
            "grid_auto_flow": null,
            "grid_auto_rows": null,
            "grid_column": null,
            "grid_gap": null,
            "grid_row": null,
            "grid_template_areas": null,
            "grid_template_columns": null,
            "grid_template_rows": null,
            "height": null,
            "justify_content": null,
            "justify_items": null,
            "left": null,
            "margin": null,
            "max_height": null,
            "max_width": null,
            "min_height": null,
            "min_width": null,
            "object_fit": null,
            "object_position": null,
            "order": null,
            "overflow": null,
            "overflow_x": null,
            "overflow_y": null,
            "padding": null,
            "right": null,
            "top": null,
            "visibility": null,
            "width": null
          }
        },
        "cce501bdefff450495d1f3aa84ec41e6": {
          "model_module": "@jupyter-widgets/controls",
          "model_module_version": "1.5.0",
          "model_name": "HTMLModel",
          "state": {
            "_dom_classes": [],
            "_model_module": "@jupyter-widgets/controls",
            "_model_module_version": "1.5.0",
            "_model_name": "HTMLModel",
            "_view_count": null,
            "_view_module": "@jupyter-widgets/controls",
            "_view_module_version": "1.5.0",
            "_view_name": "HTMLView",
            "description": "",
            "description_tooltip": null,
            "layout": "IPY_MODEL_dbb3151e04f941879fc770e3632fdafe",
            "placeholder": "​",
            "style": "IPY_MODEL_ebf00e4d4ad748cbb58bc047952dbb58",
            "value": "config.json: "
          }
        },
        "cdbb15f092b64b64bcbec28318098070": {
          "model_module": "@jupyter-widgets/controls",
          "model_module_version": "1.5.0",
          "model_name": "HBoxModel",
          "state": {
            "_dom_classes": [],
            "_model_module": "@jupyter-widgets/controls",
            "_model_module_version": "1.5.0",
            "_model_name": "HBoxModel",
            "_view_count": null,
            "_view_module": "@jupyter-widgets/controls",
            "_view_module_version": "1.5.0",
            "_view_name": "HBoxView",
            "box_style": "",
            "children": [
              "IPY_MODEL_64a08baec9ec4238b1bce8621f4287bd",
              "IPY_MODEL_93d8d10b5b5f4b159186670aeb4f2783",
              "IPY_MODEL_05776d902b16490981d381bc2cb346d8"
            ],
            "layout": "IPY_MODEL_ae5830553ceb4ad58748fe61bb8b7c8a"
          }
        },
        "d7ee02c42dec4a328fe04879a5518ce9": {
          "model_module": "@jupyter-widgets/controls",
          "model_module_version": "1.5.0",
          "model_name": "HTMLModel",
          "state": {
            "_dom_classes": [],
            "_model_module": "@jupyter-widgets/controls",
            "_model_module_version": "1.5.0",
            "_model_name": "HTMLModel",
            "_view_count": null,
            "_view_module": "@jupyter-widgets/controls",
            "_view_module_version": "1.5.0",
            "_view_name": "HTMLView",
            "description": "",
            "description_tooltip": null,
            "layout": "IPY_MODEL_56af389f4bd2415db3ed51c2b2b7d90f",
            "placeholder": "​",
            "style": "IPY_MODEL_3e8602162e3f4a0ba7e7dc7a537ea267",
            "value": " 4.74k/? [00:00&lt;00:00, 456kB/s]"
          }
        },
        "d88d56a2232f4466bc747d76487e2099": {
          "model_module": "@jupyter-widgets/controls",
          "model_module_version": "1.5.0",
          "model_name": "ProgressStyleModel",
          "state": {
            "_model_module": "@jupyter-widgets/controls",
            "_model_module_version": "1.5.0",
            "_model_name": "ProgressStyleModel",
            "_view_count": null,
            "_view_module": "@jupyter-widgets/base",
            "_view_module_version": "1.2.0",
            "_view_name": "StyleView",
            "bar_color": null,
            "description_width": ""
          }
        },
        "d9702620e9cb4bc58e5785807a2cf5d5": {
          "model_module": "@jupyter-widgets/controls",
          "model_module_version": "1.5.0",
          "model_name": "ProgressStyleModel",
          "state": {
            "_model_module": "@jupyter-widgets/controls",
            "_model_module_version": "1.5.0",
            "_model_name": "ProgressStyleModel",
            "_view_count": null,
            "_view_module": "@jupyter-widgets/base",
            "_view_module_version": "1.2.0",
            "_view_name": "StyleView",
            "bar_color": null,
            "description_width": ""
          }
        },
        "db53429a80d946c7b23ed19767b4762c": {
          "model_module": "@jupyter-widgets/controls",
          "model_module_version": "1.5.0",
          "model_name": "HTMLModel",
          "state": {
            "_dom_classes": [],
            "_model_module": "@jupyter-widgets/controls",
            "_model_module_version": "1.5.0",
            "_model_name": "HTMLModel",
            "_view_count": null,
            "_view_module": "@jupyter-widgets/controls",
            "_view_module_version": "1.5.0",
            "_view_name": "HTMLView",
            "description": "",
            "description_tooltip": null,
            "layout": "IPY_MODEL_fc22a30ba9d44e5bb283cbd3ec382b4f",
            "placeholder": "​",
            "style": "IPY_MODEL_6c0bca2d6f9344aaa25961d89bf2916c",
            "value": "tokenizer_config.json: 100%"
          }
        },
        "dbb3151e04f941879fc770e3632fdafe": {
          "model_module": "@jupyter-widgets/base",
          "model_module_version": "1.2.0",
          "model_name": "LayoutModel",
          "state": {
            "_model_module": "@jupyter-widgets/base",
            "_model_module_version": "1.2.0",
            "_model_name": "LayoutModel",
            "_view_count": null,
            "_view_module": "@jupyter-widgets/base",
            "_view_module_version": "1.2.0",
            "_view_name": "LayoutView",
            "align_content": null,
            "align_items": null,
            "align_self": null,
            "border": null,
            "bottom": null,
            "display": null,
            "flex": null,
            "flex_flow": null,
            "grid_area": null,
            "grid_auto_columns": null,
            "grid_auto_flow": null,
            "grid_auto_rows": null,
            "grid_column": null,
            "grid_gap": null,
            "grid_row": null,
            "grid_template_areas": null,
            "grid_template_columns": null,
            "grid_template_rows": null,
            "height": null,
            "justify_content": null,
            "justify_items": null,
            "left": null,
            "margin": null,
            "max_height": null,
            "max_width": null,
            "min_height": null,
            "min_width": null,
            "object_fit": null,
            "object_position": null,
            "order": null,
            "overflow": null,
            "overflow_x": null,
            "overflow_y": null,
            "padding": null,
            "right": null,
            "top": null,
            "visibility": null,
            "width": null
          }
        },
        "dc8e90fe551248e39ecaa3c64b1355b3": {
          "model_module": "@jupyter-widgets/controls",
          "model_module_version": "1.5.0",
          "model_name": "HBoxModel",
          "state": {
            "_dom_classes": [],
            "_model_module": "@jupyter-widgets/controls",
            "_model_module_version": "1.5.0",
            "_model_name": "HBoxModel",
            "_view_count": null,
            "_view_module": "@jupyter-widgets/controls",
            "_view_module_version": "1.5.0",
            "_view_name": "HBoxView",
            "box_style": "",
            "children": [
              "IPY_MODEL_fdeab30f654640b0adbccc86f9f7c291",
              "IPY_MODEL_e95a616f0c63446ebfc1789293fda293",
              "IPY_MODEL_918c83cf0b794495b6a874ef6f73f236"
            ],
            "layout": "IPY_MODEL_f6ebc7de6e0a412d95189f4b8df0641f"
          }
        },
        "dd28c9c5319647b5b1e2efe1ca79f41b": {
          "model_module": "@jupyter-widgets/controls",
          "model_module_version": "1.5.0",
          "model_name": "DescriptionStyleModel",
          "state": {
            "_model_module": "@jupyter-widgets/controls",
            "_model_module_version": "1.5.0",
            "_model_name": "DescriptionStyleModel",
            "_view_count": null,
            "_view_module": "@jupyter-widgets/base",
            "_view_module_version": "1.2.0",
            "_view_name": "StyleView",
            "description_width": ""
          }
        },
        "df25ab72c4894ca7ac41b3efd88fdf01": {
          "model_module": "@jupyter-widgets/controls",
          "model_module_version": "1.5.0",
          "model_name": "DescriptionStyleModel",
          "state": {
            "_model_module": "@jupyter-widgets/controls",
            "_model_module_version": "1.5.0",
            "_model_name": "DescriptionStyleModel",
            "_view_count": null,
            "_view_module": "@jupyter-widgets/base",
            "_view_module_version": "1.2.0",
            "_view_name": "StyleView",
            "description_width": ""
          }
        },
        "e08894588f0c45ba8d0baacf46564153": {
          "model_module": "@jupyter-widgets/controls",
          "model_module_version": "1.5.0",
          "model_name": "FloatProgressModel",
          "state": {
            "_dom_classes": [],
            "_model_module": "@jupyter-widgets/controls",
            "_model_module_version": "1.5.0",
            "_model_name": "FloatProgressModel",
            "_view_count": null,
            "_view_module": "@jupyter-widgets/controls",
            "_view_module_version": "1.5.0",
            "_view_name": "ProgressView",
            "bar_style": "success",
            "description": "",
            "description_tooltip": null,
            "layout": "IPY_MODEL_fb76c397462f4091836c2887c66d6e1e",
            "max": 359,
            "min": 0,
            "orientation": "horizontal",
            "style": "IPY_MODEL_6d298eeed7c149938faa48888661af68",
            "value": 359
          }
        },
        "e47430e8dd79466db5eb61b06ac3f35f": {
          "model_module": "@jupyter-widgets/base",
          "model_module_version": "1.2.0",
          "model_name": "LayoutModel",
          "state": {
            "_model_module": "@jupyter-widgets/base",
            "_model_module_version": "1.2.0",
            "_model_name": "LayoutModel",
            "_view_count": null,
            "_view_module": "@jupyter-widgets/base",
            "_view_module_version": "1.2.0",
            "_view_name": "LayoutView",
            "align_content": null,
            "align_items": null,
            "align_self": null,
            "border": null,
            "bottom": null,
            "display": null,
            "flex": null,
            "flex_flow": null,
            "grid_area": null,
            "grid_auto_columns": null,
            "grid_auto_flow": null,
            "grid_auto_rows": null,
            "grid_column": null,
            "grid_gap": null,
            "grid_row": null,
            "grid_template_areas": null,
            "grid_template_columns": null,
            "grid_template_rows": null,
            "height": null,
            "justify_content": null,
            "justify_items": null,
            "left": null,
            "margin": null,
            "max_height": null,
            "max_width": null,
            "min_height": null,
            "min_width": null,
            "object_fit": null,
            "object_position": null,
            "order": null,
            "overflow": null,
            "overflow_x": null,
            "overflow_y": null,
            "padding": null,
            "right": null,
            "top": null,
            "visibility": null,
            "width": null
          }
        },
        "e4bc1728e7864c5fbdf4f6e535cea24c": {
          "model_module": "@jupyter-widgets/base",
          "model_module_version": "1.2.0",
          "model_name": "LayoutModel",
          "state": {
            "_model_module": "@jupyter-widgets/base",
            "_model_module_version": "1.2.0",
            "_model_name": "LayoutModel",
            "_view_count": null,
            "_view_module": "@jupyter-widgets/base",
            "_view_module_version": "1.2.0",
            "_view_name": "LayoutView",
            "align_content": null,
            "align_items": null,
            "align_self": null,
            "border": null,
            "bottom": null,
            "display": null,
            "flex": null,
            "flex_flow": null,
            "grid_area": null,
            "grid_auto_columns": null,
            "grid_auto_flow": null,
            "grid_auto_rows": null,
            "grid_column": null,
            "grid_gap": null,
            "grid_row": null,
            "grid_template_areas": null,
            "grid_template_columns": null,
            "grid_template_rows": null,
            "height": null,
            "justify_content": null,
            "justify_items": null,
            "left": null,
            "margin": null,
            "max_height": null,
            "max_width": null,
            "min_height": null,
            "min_width": null,
            "object_fit": null,
            "object_position": null,
            "order": null,
            "overflow": null,
            "overflow_x": null,
            "overflow_y": null,
            "padding": null,
            "right": null,
            "top": null,
            "visibility": null,
            "width": null
          }
        },
        "e95a616f0c63446ebfc1789293fda293": {
          "model_module": "@jupyter-widgets/controls",
          "model_module_version": "1.5.0",
          "model_name": "FloatProgressModel",
          "state": {
            "_dom_classes": [],
            "_model_module": "@jupyter-widgets/controls",
            "_model_module_version": "1.5.0",
            "_model_name": "FloatProgressModel",
            "_view_count": null,
            "_view_module": "@jupyter-widgets/controls",
            "_view_module_version": "1.5.0",
            "_view_name": "ProgressView",
            "bar_style": "success",
            "description": "",
            "description_tooltip": null,
            "layout": "IPY_MODEL_4a323ffb27c2496297094efabb8dfee9",
            "max": 803430203,
            "min": 0,
            "orientation": "horizontal",
            "style": "IPY_MODEL_d88d56a2232f4466bc747d76487e2099",
            "value": 803430203
          }
        },
        "e9fe1f3b400744e7a6a1b8c03e085243": {
          "model_module": "@jupyter-widgets/base",
          "model_module_version": "1.2.0",
          "model_name": "LayoutModel",
          "state": {
            "_model_module": "@jupyter-widgets/base",
            "_model_module_version": "1.2.0",
            "_model_name": "LayoutModel",
            "_view_count": null,
            "_view_module": "@jupyter-widgets/base",
            "_view_module_version": "1.2.0",
            "_view_name": "LayoutView",
            "align_content": null,
            "align_items": null,
            "align_self": null,
            "border": null,
            "bottom": null,
            "display": null,
            "flex": null,
            "flex_flow": null,
            "grid_area": null,
            "grid_auto_columns": null,
            "grid_auto_flow": null,
            "grid_auto_rows": null,
            "grid_column": null,
            "grid_gap": null,
            "grid_row": null,
            "grid_template_areas": null,
            "grid_template_columns": null,
            "grid_template_rows": null,
            "height": null,
            "justify_content": null,
            "justify_items": null,
            "left": null,
            "margin": null,
            "max_height": null,
            "max_width": null,
            "min_height": null,
            "min_width": null,
            "object_fit": null,
            "object_position": null,
            "order": null,
            "overflow": null,
            "overflow_x": null,
            "overflow_y": null,
            "padding": null,
            "right": null,
            "top": null,
            "visibility": null,
            "width": null
          }
        },
        "eaf86d65632f4e8e83c142252512b67e": {
          "model_module": "@jupyter-widgets/controls",
          "model_module_version": "1.5.0",
          "model_name": "ProgressStyleModel",
          "state": {
            "_model_module": "@jupyter-widgets/controls",
            "_model_module_version": "1.5.0",
            "_model_name": "ProgressStyleModel",
            "_view_count": null,
            "_view_module": "@jupyter-widgets/base",
            "_view_module_version": "1.2.0",
            "_view_name": "StyleView",
            "bar_color": null,
            "description_width": ""
          }
        },
        "eb0cba8ec2164787856e85c140449b40": {
          "model_module": "@jupyter-widgets/controls",
          "model_module_version": "1.5.0",
          "model_name": "HBoxModel",
          "state": {
            "_dom_classes": [],
            "_model_module": "@jupyter-widgets/controls",
            "_model_module_version": "1.5.0",
            "_model_name": "HBoxModel",
            "_view_count": null,
            "_view_module": "@jupyter-widgets/controls",
            "_view_module_version": "1.5.0",
            "_view_name": "HBoxView",
            "box_style": "",
            "children": [
              "IPY_MODEL_667b966b03b842fab3693abc4161e884",
              "IPY_MODEL_f5d0ac4631344b039b2a56e57baf87d9",
              "IPY_MODEL_c972b00471b7476eb4f8b6ae1853e39c"
            ],
            "layout": "IPY_MODEL_5aa84a96d6d14fd59baa555e863835a0"
          }
        },
        "ebf00e4d4ad748cbb58bc047952dbb58": {
          "model_module": "@jupyter-widgets/controls",
          "model_module_version": "1.5.0",
          "model_name": "DescriptionStyleModel",
          "state": {
            "_model_module": "@jupyter-widgets/controls",
            "_model_module_version": "1.5.0",
            "_model_name": "DescriptionStyleModel",
            "_view_count": null,
            "_view_module": "@jupyter-widgets/base",
            "_view_module_version": "1.2.0",
            "_view_name": "StyleView",
            "description_width": ""
          }
        },
        "ec78d4f63aee4e7ca3db0a28314b417c": {
          "model_module": "@jupyter-widgets/base",
          "model_module_version": "1.2.0",
          "model_name": "LayoutModel",
          "state": {
            "_model_module": "@jupyter-widgets/base",
            "_model_module_version": "1.2.0",
            "_model_name": "LayoutModel",
            "_view_count": null,
            "_view_module": "@jupyter-widgets/base",
            "_view_module_version": "1.2.0",
            "_view_name": "LayoutView",
            "align_content": null,
            "align_items": null,
            "align_self": null,
            "border": null,
            "bottom": null,
            "display": null,
            "flex": null,
            "flex_flow": null,
            "grid_area": null,
            "grid_auto_columns": null,
            "grid_auto_flow": null,
            "grid_auto_rows": null,
            "grid_column": null,
            "grid_gap": null,
            "grid_row": null,
            "grid_template_areas": null,
            "grid_template_columns": null,
            "grid_template_rows": null,
            "height": null,
            "justify_content": null,
            "justify_items": null,
            "left": null,
            "margin": null,
            "max_height": null,
            "max_width": null,
            "min_height": null,
            "min_width": null,
            "object_fit": null,
            "object_position": null,
            "order": null,
            "overflow": null,
            "overflow_x": null,
            "overflow_y": null,
            "padding": null,
            "right": null,
            "top": null,
            "visibility": null,
            "width": null
          }
        },
        "f40681779c864355943605cb49f227b1": {
          "model_module": "@jupyter-widgets/base",
          "model_module_version": "1.2.0",
          "model_name": "LayoutModel",
          "state": {
            "_model_module": "@jupyter-widgets/base",
            "_model_module_version": "1.2.0",
            "_model_name": "LayoutModel",
            "_view_count": null,
            "_view_module": "@jupyter-widgets/base",
            "_view_module_version": "1.2.0",
            "_view_name": "LayoutView",
            "align_content": null,
            "align_items": null,
            "align_self": null,
            "border": null,
            "bottom": null,
            "display": null,
            "flex": null,
            "flex_flow": null,
            "grid_area": null,
            "grid_auto_columns": null,
            "grid_auto_flow": null,
            "grid_auto_rows": null,
            "grid_column": null,
            "grid_gap": null,
            "grid_row": null,
            "grid_template_areas": null,
            "grid_template_columns": null,
            "grid_template_rows": null,
            "height": null,
            "justify_content": null,
            "justify_items": null,
            "left": null,
            "margin": null,
            "max_height": null,
            "max_width": null,
            "min_height": null,
            "min_width": null,
            "object_fit": null,
            "object_position": null,
            "order": null,
            "overflow": null,
            "overflow_x": null,
            "overflow_y": null,
            "padding": null,
            "right": null,
            "top": null,
            "visibility": null,
            "width": null
          }
        },
        "f5d0ac4631344b039b2a56e57baf87d9": {
          "model_module": "@jupyter-widgets/controls",
          "model_module_version": "1.5.0",
          "model_name": "FloatProgressModel",
          "state": {
            "_dom_classes": [],
            "_model_module": "@jupyter-widgets/controls",
            "_model_module_version": "1.5.0",
            "_model_name": "FloatProgressModel",
            "_view_count": null,
            "_view_module": "@jupyter-widgets/controls",
            "_view_module_version": "1.5.0",
            "_view_name": "ProgressView",
            "bar_style": "success",
            "description": "",
            "description_tooltip": null,
            "layout": "IPY_MODEL_7d740f85048d4879a5823ac6a162acc6",
            "max": 1,
            "min": 0,
            "orientation": "horizontal",
            "style": "IPY_MODEL_d9702620e9cb4bc58e5785807a2cf5d5",
            "value": 1
          }
        },
        "f6ebc7de6e0a412d95189f4b8df0641f": {
          "model_module": "@jupyter-widgets/base",
          "model_module_version": "1.2.0",
          "model_name": "LayoutModel",
          "state": {
            "_model_module": "@jupyter-widgets/base",
            "_model_module_version": "1.2.0",
            "_model_name": "LayoutModel",
            "_view_count": null,
            "_view_module": "@jupyter-widgets/base",
            "_view_module_version": "1.2.0",
            "_view_name": "LayoutView",
            "align_content": null,
            "align_items": null,
            "align_self": null,
            "border": null,
            "bottom": null,
            "display": null,
            "flex": null,
            "flex_flow": null,
            "grid_area": null,
            "grid_auto_columns": null,
            "grid_auto_flow": null,
            "grid_auto_rows": null,
            "grid_column": null,
            "grid_gap": null,
            "grid_row": null,
            "grid_template_areas": null,
            "grid_template_columns": null,
            "grid_template_rows": null,
            "height": null,
            "justify_content": null,
            "justify_items": null,
            "left": null,
            "margin": null,
            "max_height": null,
            "max_width": null,
            "min_height": null,
            "min_width": null,
            "object_fit": null,
            "object_position": null,
            "order": null,
            "overflow": null,
            "overflow_x": null,
            "overflow_y": null,
            "padding": null,
            "right": null,
            "top": null,
            "visibility": null,
            "width": null
          }
        },
        "fb76c397462f4091836c2887c66d6e1e": {
          "model_module": "@jupyter-widgets/base",
          "model_module_version": "1.2.0",
          "model_name": "LayoutModel",
          "state": {
            "_model_module": "@jupyter-widgets/base",
            "_model_module_version": "1.2.0",
            "_model_name": "LayoutModel",
            "_view_count": null,
            "_view_module": "@jupyter-widgets/base",
            "_view_module_version": "1.2.0",
            "_view_name": "LayoutView",
            "align_content": null,
            "align_items": null,
            "align_self": null,
            "border": null,
            "bottom": null,
            "display": null,
            "flex": null,
            "flex_flow": null,
            "grid_area": null,
            "grid_auto_columns": null,
            "grid_auto_flow": null,
            "grid_auto_rows": null,
            "grid_column": null,
            "grid_gap": null,
            "grid_row": null,
            "grid_template_areas": null,
            "grid_template_columns": null,
            "grid_template_rows": null,
            "height": null,
            "justify_content": null,
            "justify_items": null,
            "left": null,
            "margin": null,
            "max_height": null,
            "max_width": null,
            "min_height": null,
            "min_width": null,
            "object_fit": null,
            "object_position": null,
            "order": null,
            "overflow": null,
            "overflow_x": null,
            "overflow_y": null,
            "padding": null,
            "right": null,
            "top": null,
            "visibility": null,
            "width": null
          }
        },
        "fc22a30ba9d44e5bb283cbd3ec382b4f": {
          "model_module": "@jupyter-widgets/base",
          "model_module_version": "1.2.0",
          "model_name": "LayoutModel",
          "state": {
            "_model_module": "@jupyter-widgets/base",
            "_model_module_version": "1.2.0",
            "_model_name": "LayoutModel",
            "_view_count": null,
            "_view_module": "@jupyter-widgets/base",
            "_view_module_version": "1.2.0",
            "_view_name": "LayoutView",
            "align_content": null,
            "align_items": null,
            "align_self": null,
            "border": null,
            "bottom": null,
            "display": null,
            "flex": null,
            "flex_flow": null,
            "grid_area": null,
            "grid_auto_columns": null,
            "grid_auto_flow": null,
            "grid_auto_rows": null,
            "grid_column": null,
            "grid_gap": null,
            "grid_row": null,
            "grid_template_areas": null,
            "grid_template_columns": null,
            "grid_template_rows": null,
            "height": null,
            "justify_content": null,
            "justify_items": null,
            "left": null,
            "margin": null,
            "max_height": null,
            "max_width": null,
            "min_height": null,
            "min_width": null,
            "object_fit": null,
            "object_position": null,
            "order": null,
            "overflow": null,
            "overflow_x": null,
            "overflow_y": null,
            "padding": null,
            "right": null,
            "top": null,
            "visibility": null,
            "width": null
          }
        },
        "fcef34dfda1d4982b7a4ac8435f590bb": {
          "model_module": "@jupyter-widgets/controls",
          "model_module_version": "1.5.0",
          "model_name": "DescriptionStyleModel",
          "state": {
            "_model_module": "@jupyter-widgets/controls",
            "_model_module_version": "1.5.0",
            "_model_name": "DescriptionStyleModel",
            "_view_count": null,
            "_view_module": "@jupyter-widgets/base",
            "_view_module_version": "1.2.0",
            "_view_name": "StyleView",
            "description_width": ""
          }
        },
        "fdeab30f654640b0adbccc86f9f7c291": {
          "model_module": "@jupyter-widgets/controls",
          "model_module_version": "1.5.0",
          "model_name": "HTMLModel",
          "state": {
            "_dom_classes": [],
            "_model_module": "@jupyter-widgets/controls",
            "_model_module_version": "1.5.0",
            "_model_name": "HTMLModel",
            "_view_count": null,
            "_view_module": "@jupyter-widgets/controls",
            "_view_module_version": "1.5.0",
            "_view_name": "HTMLView",
            "description": "",
            "description_tooltip": null,
            "layout": "IPY_MODEL_474a9f81c5be4116b55c37bcd55fa8d6",
            "placeholder": "​",
            "style": "IPY_MODEL_2e483278248b43fcabb75ade6e288579",
            "value": "pytorch_model.bin: 100%"
          }
        }
      }
    }
  },
  "nbformat": 4,
  "nbformat_minor": 0
}
