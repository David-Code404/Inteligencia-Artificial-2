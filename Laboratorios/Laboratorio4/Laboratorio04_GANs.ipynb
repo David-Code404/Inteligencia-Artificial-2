{
  "cells": [
    {
      "cell_type": "markdown",
      "metadata": {
        "id": "d40anh2Y3Q_H"
      },
      "source": [
        "# **Laboratorio 04  SIS421**\n",
        "\n",
        "### Nombre: Quispe Sucullani Jose David\n",
        "\n",
        "### C.U. 111-376\n",
        "\n",
        "### Link github:"
      ]
    },
    {
      "cell_type": "markdown",
      "metadata": {
        "id": "oIJnb63G3kwF"
      },
      "source": [
        "##Contexto del Laboratorio\n"
      ]
    },
    {
      "cell_type": "code",
      "execution_count": 21,
      "metadata": {
        "id": "sCaNiEq7J_CP",
        "colab": {
          "base_uri": "https://localhost:8080/",
          "height": 35
        },
        "outputId": "b1271a70-6110-4434-bf1c-a63581701f8b"
      },
      "outputs": [
        {
          "output_type": "execute_result",
          "data": {
            "text/plain": [
              "'cuda'"
            ],
            "application/vnd.google.colaboratory.intrinsic+json": {
              "type": "string"
            }
          },
          "metadata": {},
          "execution_count": 21
        }
      ],
      "source": [
        "import torch\n",
        "import torchvision\n",
        "import os\n",
        "from torch.utils.data import Dataset\n",
        "from torchvision import datasets, transforms\n",
        "import random\n",
        "import matplotlib.pyplot as plt\n",
        "from collections import Counter\n",
        "\n",
        "import torch.nn as nn\n",
        "import torch.optim as optim\n",
        "import numpy as np\n",
        "import matplotlib.pyplot as plt\n",
        "\n",
        "device = \"cuda\" if torch.cuda.is_available() else \"cpu\"\n",
        "device"
      ]
    },
    {
      "cell_type": "markdown",
      "metadata": {
        "id": "HmhQ7-wuHuyh"
      },
      "source": [
        "##1: Lectura del Dataset"
      ]
    },
    {
      "cell_type": "code",
      "execution_count": 22,
      "metadata": {
        "colab": {
          "base_uri": "https://localhost:8080/"
        },
        "id": "DvQ35sjHHsHo",
        "outputId": "5bdce159-bdd9-450b-e9a0-87dd1e8ee3ca"
      },
      "outputs": [
        {
          "output_type": "stream",
          "name": "stdout",
          "text": [
            "Número de imágenes de entrenamiento: 60000\n",
            "Número de imágenes de prueba: 10000\n"
          ]
        }
      ],
      "source": [
        "# Definir las transformaciones para las imágenes\n",
        "from torchvision import datasets, transforms\n",
        "import torch.utils.data\n",
        "\n",
        "# Definir las transformaciones para el conjunto de datos FashionMNIST\n",
        "transform = transforms.Compose([\n",
        "    transforms.Resize((28, 28)),  # Redimensionar las imágenes a 28x28 píxeles para FashionMNIST\n",
        "    transforms.ToTensor(),  # Convertir las imágenes a tensores\n",
        "    transforms.Normalize([0.5], [0.5])  # Normalizar entre [-1, 1] para las imágenes en escala de grises\n",
        "])\n",
        "\n",
        "# Cargar el conjunto de datos de entrenamiento y prueba de FashionMNIST con las transformaciones\n",
        "train_data = datasets.FashionMNIST(root='./data', train=True, download=True, transform=transform)\n",
        "test_data = datasets.FashionMNIST(root='./data', train=False, download=True, transform=transform)\n",
        "\n",
        "# Mostrar la cantidad de imágenes de entrenamiento y prueba\n",
        "print(f\"Número de imágenes de entrenamiento: {len(train_data)}\")\n",
        "print(f\"Número de imágenes de prueba: {len(test_data)}\")"
      ]
    },
    {
      "cell_type": "code",
      "execution_count": 23,
      "metadata": {
        "id": "-qkHfbG1H2TB"
      },
      "outputs": [],
      "source": [
        "# Function to handle dataset limiting (not needed for FashionMNIST, so keeping it as is but it won't be used directly)\n",
        "def limit_dataset_size(root_dir, max_per_class=6000):\n",
        "    # Dictionary to store paths of selected images by class\n",
        "    limited_dataset = []\n",
        "\n",
        "    # Iterate through subfolders in root_dir (each subfolder is a class)\n",
        "    for class_name in os.listdir(root_dir):\n",
        "        class_dir = os.path.join(root_dir, class_name)\n",
        "        if os.path.isdir(class_dir):\n",
        "            # Get all images in the subfolder\n",
        "            all_images = os.listdir(class_dir)\n",
        "            # Filter to get only images, excluding other file types\n",
        "            all_images = [os.path.join(class_name, img) for img in all_images if img.endswith(('.png', '.jpg', '.jpeg'))]\n",
        "            # Randomly select 6000 images\n",
        "            selected_images = random.sample(all_images, min(len(all_images), max_per_class))\n",
        "            limited_dataset.extend(selected_images)\n",
        "\n",
        "    return limited_dataset"
      ]
    },
    {
      "cell_type": "code",
      "execution_count": 24,
      "metadata": {
        "colab": {
          "base_uri": "https://localhost:8080/"
        },
        "id": "H3Dd71InH5Ty",
        "outputId": "a64e9d7d-4adc-4fdf-c329-cdab8a188c5b"
      },
      "outputs": [
        {
          "output_type": "stream",
          "name": "stdout",
          "text": [
            "Número total de imágenes en el nuevo conjunto de entrenamiento: 60000\n",
            "Distribución de imágenes por clase: Counter({9: 6000, 0: 6000, 3: 6000, 2: 6000, 7: 6000, 5: 6000, 1: 6000, 6: 6000, 4: 6000, 8: 6000})\n"
          ]
        }
      ],
      "source": [
        "# For FashionMNIST, we don't need a custom dataset class to limit size.\n",
        "# The train_data loaded in the previous cell is already the full dataset.\n",
        "\n",
        "# Verify the number of images in the training set (already done in the previous cell)\n",
        "print(f\"Número total de imágenes en el nuevo conjunto de entrenamiento: {len(train_data)}\")\n",
        "\n",
        "# Verify the number of images per class (FashionMNIST is balanced)\n",
        "from collections import Counter\n",
        "# Get the targets from the train_data object\n",
        "class_distribution = Counter(train_data.targets.tolist())\n",
        "print(\"Distribución de imágenes por clase:\", class_distribution)"
      ]
    },
    {
      "cell_type": "code",
      "execution_count": 25,
      "metadata": {
        "colab": {
          "base_uri": "https://localhost:8080/"
        },
        "id": "HWDkI2v7H9S5",
        "outputId": "ecdaa28e-f0de-498b-eea3-b65005cb96fb"
      },
      "outputs": [
        {
          "output_type": "stream",
          "name": "stdout",
          "text": [
            "Clases en el conjunto de entrenamiento: ['T-shirt/top', 'Trouser', 'Pullover', 'Dress', 'Coat', 'Sandal', 'Shirt', 'Sneaker', 'Bag', 'Ankle boot']\n",
            "Cantidad de clases: 10\n"
          ]
        }
      ],
      "source": [
        "# 1. Ver las etiquetas del dataset (clases):\n",
        "# Ver las classes del dataset (etiquetas) for FashionMNIST\n",
        "print(f\"Clases en el conjunto de entrenamiento: {train_data.classes}\")\n",
        "print(f\"Cantidad de clases: {len(train_data.classes)}\")"
      ]
    },
    {
      "cell_type": "code",
      "execution_count": 26,
      "metadata": {
        "colab": {
          "base_uri": "https://localhost:8080/"
        },
        "id": "CPcWQPvjIF3Q",
        "outputId": "485884f0-7057-40e5-8c64-eda9b811f450"
      },
      "outputs": [
        {
          "output_type": "stream",
          "name": "stdout",
          "text": [
            "Número total de imágenes en el conjunto de entrenamiento: 60000\n",
            "Número de clases: 10\n",
            "Clase 'Ankle boot' tiene 6000 imágenes\n",
            "Clase 'T-shirt/top' tiene 6000 imágenes\n",
            "Clase 'Dress' tiene 6000 imágenes\n",
            "Clase 'Pullover' tiene 6000 imágenes\n",
            "Clase 'Sneaker' tiene 6000 imágenes\n",
            "Clase 'Sandal' tiene 6000 imágenes\n",
            "Clase 'Trouser' tiene 6000 imágenes\n",
            "Clase 'Shirt' tiene 6000 imágenes\n",
            "Clase 'Coat' tiene 6000 imágenes\n",
            "Clase 'Bag' tiene 6000 imágenes\n"
          ]
        }
      ],
      "source": [
        "import torch\n",
        "from collections import Counter\n",
        "\n",
        "# Verify the total number of images in the training set\n",
        "num_total_images = len(train_data)\n",
        "print(f\"Número total de imágenes en el conjunto de entrenamiento: {num_total_images}\")\n",
        "\n",
        "# Verify the number of classes (labels) for FashionMNIST\n",
        "num_classes = len(train_data.classes)\n",
        "print(f\"Número de clases: {num_classes}\")\n",
        "\n",
        "# Get the labels of all images (train_data.targets has the labels for each image)\n",
        "class_distribution = Counter(train_data.targets.tolist())\n",
        "\n",
        "# Show how many images are in each class\n",
        "for class_idx, count in class_distribution.items():\n",
        "    print(f\"Clase '{train_data.classes[class_idx]}' tiene {count} imágenes\")"
      ]
    },
    {
      "cell_type": "code",
      "execution_count": 27,
      "metadata": {
        "colab": {
          "base_uri": "https://localhost:8080/",
          "height": 402
        },
        "id": "5lp4KxDpL0xD",
        "outputId": "6ccdf57b-b90a-4b01-a27d-27b12a55ea78"
      },
      "outputs": [
        {
          "output_type": "display_data",
          "data": {
            "text/plain": [
              "<Figure size 1000x500 with 10 Axes>"
            ],
            "image/png": "[encoded data removed]"
          },
          "metadata": {}
        }
      ],
      "source": [
        "import random\n",
        "import matplotlib.pyplot as plt\n",
        "import numpy as np\n",
        "\n",
        "# Get the classes from the dataset\n",
        "classes = train_data.classes\n",
        "\n",
        "# Convert images and labels to numpy arrays for easier processing\n",
        "def imshow(img):\n",
        "    img = img / 2 + 0.5     # Desnormalize\n",
        "    npimg = img.numpy()\n",
        "    # FashionMNIST is grayscale, so we handle it differently\n",
        "    if npimg.shape[0] == 1:\n",
        "        npimg = np.transpose(npimg, (1, 2, 0))[:, :, 0] # Remove the single channel dimension\n",
        "    else:\n",
        "        npimg = np.transpose(npimg, (1, 2, 0))\n",
        "    return npimg\n",
        "\n",
        "# Show 10 random images\n",
        "plt.figure(figsize=(10, 5))\n",
        "for i in range(10):\n",
        "    plt.subplot(2, 5, i + 1)\n",
        "    index = random.randint(0, len(train_data) - 1)\n",
        "    img, label = train_data[index]\n",
        "    plt.imshow(imshow(img), cmap='gray') # Use gray colormap for grayscale images\n",
        "    plt.title(classes[label])\n",
        "    plt.axis('off')\n",
        "\n",
        "plt.show()"
      ]
    },
    {
      "cell_type": "markdown",
      "metadata": {
        "id": "_aspzm1KmttH"
      },
      "source": [
        "El dataset está formado por 6000 imágenes de baja resolución (50 x 50 píxeles, con tres canales de colores) y contiene 10 tipos prentas"
      ]
    },
    {
      "cell_type": "code",
      "execution_count": 28,
      "metadata": {
        "id": "mQbp3CFL1Hst"
      },
      "outputs": [],
      "source": [
        "# Define a custom class for the dataset that normalizes to [-1, 1] (already handled by transform)\n",
        "# We can just use the loaded train_data directly with the DataLoader\n",
        "class Prendas(torch.utils.data.Dataset):\n",
        "    def __init__(self, dataset):\n",
        "        self.imgs = torch.stack([img[0] for img in dataset])  # Load images as tensors\n",
        "        # Normalization to [-1, 1] is done in the transform\n",
        "        self.labels = torch.tensor([img[1] for img in dataset], dtype=torch.long)  # Image labels\n",
        "\n",
        "    def __len__(self):\n",
        "        return len(self.imgs)\n",
        "\n",
        "    def __getitem__(self, idx):\n",
        "        return self.imgs[idx], self.labels[idx]"
      ]
    },
    {
      "cell_type": "code",
      "execution_count": 29,
      "metadata": {
        "id": "IxG0WzM81KA2"
      },
      "outputs": [],
      "source": [
        "# We don't need to create a separate normalized dataset class for FashionMNIST\n",
        "# The normalization is done in the transform when loading the data.\n",
        "# We will use the original 'train_data' with the DataLoader.\n",
        "train_dataset = train_data"
      ]
    },
    {
      "cell_type": "code",
      "execution_count": 30,
      "metadata": {
        "id": "bfM3xlPT1XLY"
      },
      "outputs": [],
      "source": [
        "# Split images into batches\n",
        "dataloader = torch.utils.data.DataLoader(train_dataset, batch_size=32, shuffle=True)"
      ]
    },
    {
      "cell_type": "markdown",
      "metadata": {
        "id": "bH_Cv5e90qek"
      },
      "source": [
        "#**MODELO DCGANs**"
      ]
    },
    {
      "cell_type": "markdown",
      "metadata": {
        "id": "up0WzC2nuost"
      },
      "source": [
        "2. Definir el Generador (Generator)\n",
        "Ahora, ajustamos el generador para manejar imágenes a color (3 canales) de tamaño 50x50"
      ]
    },
    {
      "cell_type": "code",
      "execution_count": 31,
      "metadata": {
        "id": "GYhXoOGuus1M"
      },
      "outputs": [],
      "source": [
        "import torch.nn as nn\n",
        "\n",
        "class Generator(nn.Module):\n",
        "    def __init__(self):\n",
        "        super().__init__()\n",
        "        self.input_size = 100  # Size of the random input vector (latent vector)\n",
        "\n",
        "        self.inp = nn.Sequential(\n",
        "            nn.Linear(self.input_size, 7*7*256),  # Transform the input vector to a 7x7x256 feature map for 28x28 output\n",
        "            nn.BatchNorm1d(7*7*256),  # Batch normalization for stable training\n",
        "            nn.ReLU(True)\n",
        "        )\n",
        "\n",
        "        self.main = nn.Sequential(\n",
        "            # First deconvolutional layer: 7x7x256 -> 14x14x128\n",
        "            nn.ConvTranspose2d(256, 128, 4, stride=2, padding=1, bias=False),\n",
        "            nn.BatchNorm2d(128),\n",
        "            nn.ReLU(True),\n",
        "\n",
        "            # Second deconvolutional layer: 14x14x128 -> 28x28x64\n",
        "            nn.ConvTranspose2d(128, 64, 4, stride=2, padding=1, bias=False),\n",
        "            nn.BatchNorm2d(64),\n",
        "            nn.ReLU(True),\n",
        "\n",
        "            # Third deconvolutional layer: 28x28x64 -> 28x28x1 (Grayscale)\n",
        "            nn.ConvTranspose2d(64, 1, 3, stride=1, padding=1, bias=False), # Adjusted kernel size and stride for 28x28 output\n",
        "            nn.Tanh()  # Normalize the output to a [-1, 1] range\n",
        "        )\n",
        "\n",
        "    def forward(self, x):\n",
        "        x = self.inp(x)\n",
        "        x = x.view(-1, 256, 7, 7)  # Reshape for 7x7 input with 256 channels\n",
        "        x = self.main(x)\n",
        "        return x"
      ]
    },
    {
      "cell_type": "code",
      "execution_count": 32,
      "metadata": {
        "colab": {
          "base_uri": "https://localhost:8080/"
        },
        "id": "LR2UaGBF2N8l",
        "outputId": "8c2c765d-e614-4293-ffd9-5fb1095c8815"
      },
      "outputs": [
        {
          "output_type": "stream",
          "name": "stdout",
          "text": [
            "torch.Size([64, 1, 28, 28])\n"
          ]
        }
      ],
      "source": [
        "# Verify the output size\n",
        "generator = Generator()\n",
        "output = generator(torch.randn(64, 100))\n",
        "print(output.shape)"
      ]
    },
    {
      "cell_type": "markdown",
      "metadata": {
        "id": "1G3VfjtAu6p9"
      },
      "source": [
        "###3. Definir el Discriminador (Discriminator)\n",
        "Modificamos el discriminador para aceptar imágenes a color de tamaño 50x50:"
      ]
    },
    {
      "cell_type": "code",
      "execution_count": 33,
      "metadata": {
        "id": "OYEn586UvCXV"
      },
      "outputs": [],
      "source": [
        "import torch\n",
        "import torch.nn as nn\n",
        "\n",
        "class Discriminator(nn.Module):\n",
        "    def __init__(self):\n",
        "        super().__init__()\n",
        "        self.main = nn.Sequential(\n",
        "            # First convolutional layer: 28x28x1 -> 14x14x64\n",
        "            nn.Conv2d(1, 64, 4, stride=2, padding=1, bias=False), # Input channels changed to 1\n",
        "            nn.LeakyReLU(0.2, inplace=True),\n",
        "\n",
        "            # Second convolutional layer: 14x14x64 -> 7x7x128\n",
        "            nn.Conv2d(64, 128, 4, stride=2, padding=1, bias=False),\n",
        "            nn.BatchNorm2d(128),\n",
        "            nn.LeakyReLU(0.2, inplace=True),\n",
        "\n",
        "            # Third convolutional layer: 7x7x128 -> 4x4x256\n",
        "            nn.Conv2d(128, 256, 3, stride=2, padding=1, bias=False), # Adjusted kernel size\n",
        "            nn.BatchNorm2d(256),\n",
        "            nn.LeakyReLU(0.2, inplace=True),\n",
        "\n",
        "            # Fourth convolutional layer: 4x4x256 -> 2x2x512 (or similar depending on padding/stride)\n",
        "            # Let's adjust the last conv layer for 4x4 to 1x1 output\n",
        "            nn.Conv2d(256, 512, 4, stride=1, padding=0, bias=False), # Adjusted kernel size and padding for 1x1 output\n",
        "            nn.BatchNorm2d(512),\n",
        "            nn.LeakyReLU(0.2, inplace=True)\n",
        "        )\n",
        "\n",
        "        self.out = nn.Sequential(\n",
        "            # Linear layer for classification\n",
        "            nn.Linear(512*1*1, 1),  # Flatten the output tensor from the convolutional layer (now 1x1x512)\n",
        "            nn.Sigmoid()  # Output between 0 and 1\n",
        "        )\n",
        "\n",
        "    def forward(self, x):\n",
        "        x = self.main(x)  # Pass the input through the convolutional layers\n",
        "        x = x.view(x.size(0), -1)  # Flatten the tensor\n",
        "        x = self.out(x)  # Pass through the final linear layer\n",
        "        return x"
      ]
    },
    {
      "cell_type": "code",
      "execution_count": 34,
      "metadata": {
        "colab": {
          "base_uri": "https://localhost:8080/"
        },
        "id": "_wu73_hh2wr0",
        "outputId": "35f95869-79bf-4022-a59d-ff6383f52ac6"
      },
      "outputs": [
        {
          "output_type": "stream",
          "name": "stdout",
          "text": [
            "torch.Size([64, 1])\n"
          ]
        }
      ],
      "source": [
        "discriminator = Discriminator()\n",
        "# Adjust the input size to match FashionMNIST images (grayscale 28x28)\n",
        "output = discriminator(torch.randn(64, 1, 28, 28))\n",
        "print(output.shape)"
      ]
    },
    {
      "cell_type": "markdown",
      "metadata": {
        "id": "l5StKBi1vG81"
      },
      "source": [
        "###4. Definimos el Proceso de Entrenamiento\n",
        "Configuramos el bucle de entrenamiento, la función de pérdida y los optimizadores:"
      ]
    },
    {
      "cell_type": "code",
      "execution_count": 35,
      "metadata": {
        "id": "IJeF8KtLvKmU"
      },
      "outputs": [],
      "source": [
        "from fastprogress import master_bar, progress_bar\n",
        "import numpy as np\n",
        "import os\n",
        "\n",
        "def fit(g, d, dataloader, epochs=25, crit=None, checkpoint_dir='/content/drive/MyDrive/SIS421-IA2/Laboratorios/LAB-04/', save_interval=5):\n",
        "    g.to(device)\n",
        "    d.to(device)\n",
        "\n",
        "    g_optimizer = torch.optim.Adam(g.parameters(), lr=3e-4)\n",
        "    d_optimizer = torch.optim.Adam(d.parameters(), lr=3e-4)\n",
        "\n",
        "    crit = nn.BCEWithLogitsLoss() if crit is None else crit\n",
        "\n",
        "    g_loss, d_loss = [], []\n",
        "    mb = master_bar(range(1, epochs+1))\n",
        "    hist = {'g_loss': [], 'd_loss': []}\n",
        "\n",
        "    # Create the checkpoint directory if it doesn't exist\n",
        "    if not os.path.exists(checkpoint_dir):\n",
        "        os.makedirs(checkpoint_dir)\n",
        "\n",
        "    for epoch in mb:\n",
        "        for X, _ in progress_bar(dataloader, parent=mb):\n",
        "            X = X.to(device)  # Ensure real images go to the device\n",
        "\n",
        "            # Train the discriminator\n",
        "            g.eval()\n",
        "            d.train()\n",
        "\n",
        "            # Generate a batch of fake images\n",
        "            noise = torch.randn((X.size(0), g.input_size)).to(device)  # Noise vector\n",
        "            generated_images = g(noise)  # Generate fake images\n",
        "\n",
        "            # Concatenate real and generated images for the discriminator\n",
        "            d_input = torch.cat([generated_images, X], dim=0)\n",
        "            # Create labels: 0 for fake images and 1 for real images\n",
        "            d_gt = torch.cat([torch.zeros(X.size(0)), torch.ones(X.size(0))]).view(-1, 1).to(device)\n",
        "\n",
        "            # Optimize the discriminator\n",
        "            d_optimizer.zero_grad()\n",
        "            d_output = d(d_input)\n",
        "            d_l = crit(d_output, d_gt)\n",
        "            d_l.backward()\n",
        "            d_optimizer.step()\n",
        "            d_loss.append(d_l.item())\n",
        "\n",
        "            # Train the generator\n",
        "            g.train()\n",
        "            d.eval()\n",
        "\n",
        "            # Generate a new batch of fake images\n",
        "            noise = torch.randn((X.size(0), g.input_size)).to(device)\n",
        "            generated_images = g(noise)\n",
        "\n",
        "            # Pass the fake images through the discriminator\n",
        "            d_output = d(generated_images)\n",
        "            # Generator's goal: fool the discriminator, so we use \"real\" labels (1)\n",
        "            g_gt = torch.ones(X.size(0)).view(-1, 1).to(device)\n",
        "\n",
        "            # Optimize the generator\n",
        "            g_optimizer.zero_grad()\n",
        "            g_l = crit(d_output, g_gt)\n",
        "            g_l.backward()\n",
        "            g_optimizer.step()\n",
        "            g_loss.append(g_l.item())\n",
        "\n",
        "            # Progress logs\n",
        "            mb.child.comment = f'g_loss {np.mean(g_loss):.5f} d_loss {np.mean(d_loss):.5f}'\n",
        "        mb.write(f'Epoch {epoch}/{epochs} g_loss {np.mean(g_loss):.5f} d_loss {np.mean(d_loss):.5f}')\n",
        "        hist['g_loss'].append(np.mean(g_loss))\n",
        "        hist['d_loss'].append(np.mean(d_loss))\n",
        "\n",
        "\n",
        "        # Save a checkpoint every 'save_interval' epochs\n",
        "        if epoch % save_interval == 0:\n",
        "            torch.save({\n",
        "                'epoch': epoch,\n",
        "                'generator_state_dict': g.state_dict(),\n",
        "                'discriminator_state_dict': d.state_dict(),\n",
        "                'g_optimizer_state_dict': g_optimizer.state_dict(),\n",
        "                'd_optimizer_state_dict': d_loss\n",
        "            }, os.path.join(checkpoint_dir, f'GANs_modelo_{epoch}.pth'))\n",
        "\n",
        "    return hist"
      ]
    },
    {
      "cell_type": "code",
      "execution_count": 36,
      "metadata": {
        "colab": {
          "base_uri": "https://localhost:8080/",
          "height": 601
        },
        "id": "IVntp3UGFnZc",
        "outputId": "db8e8d18-d97e-4b4c-bbc5-bd9b732324f3"
      },
      "outputs": [
        {
          "output_type": "display_data",
          "data": {
            "text/plain": [
              "<IPython.core.display.HTML object>"
            ],
            "text/html": [
              "\n",
              "<style>\n",
              "    /* Turns off some styling */\n",
              "    progress {\n",
              "        /* gets rid of default border in Firefox and Opera. */\n",
              "        border: none;\n",
              "        /* Needs to be in here for Safari polyfill so background images work as expected. */\n",
              "        background-size: auto;\n",
              "    }\n",
              "    progress:not([value]), progress:not([value])::-webkit-progress-bar {\n",
              "        background: repeating-linear-gradient(45deg, #7e7e7e, #7e7e7e 10px, #5c5c5c 10px, #5c5c5c 20px);\n",
              "    }\n",
              "    .progress-bar-interrupted, .progress-bar-interrupted::-webkit-progress-bar {\n",
              "        background: #F44336;\n",
              "    }\n",
              "</style>\n"
            ]
          },
          "metadata": {}
        },
        {
          "output_type": "display_data",
          "data": {
            "text/plain": [
              "<IPython.core.display.HTML object>"
            ],
            "text/html": [
              "Epoch 1/25 g_loss 9.61136 d_loss 0.00484<p>Epoch 2/25 g_loss 10.58206 d_loss 0.00296<p>Epoch 3/25 g_loss 10.19094 d_loss 0.00921<p>Epoch 4/25 g_loss 8.81633 d_loss 0.02119<p>Epoch 5/25 g_loss 8.08889 d_loss 0.02868<p>Epoch 6/25 g_loss 7.60731 d_loss 0.03233<p>Epoch 7/25 g_loss 7.24990 d_loss 0.03681<p>Epoch 8/25 g_loss 6.94185 d_loss 0.04215<p>Epoch 9/25 g_loss 6.66288 d_loss 0.04816<p>Epoch 10/25 g_loss 6.39597 d_loss 0.05602<p>Epoch 11/25 g_loss 6.14682 d_loss 0.06416<p>Epoch 12/25 g_loss 5.91866 d_loss 0.07263<p>Epoch 13/25 g_loss 5.71953 d_loss 0.08078<p>Epoch 14/25 g_loss 5.54060 d_loss 0.08810<p>Epoch 15/25 g_loss 5.37934 d_loss 0.09479<p>Epoch 16/25 g_loss 5.23425 d_loss 0.10066<p>Epoch 17/25 g_loss 5.10628 d_loss 0.10590<p>Epoch 18/25 g_loss 4.99274 d_loss 0.11070<p>Epoch 19/25 g_loss 4.88708 d_loss 0.11520<p>Epoch 20/25 g_loss 4.79370 d_loss 0.11897<p>Epoch 21/25 g_loss 4.70925 d_loss 0.12246<p>Epoch 22/25 g_loss 4.63215 d_loss 0.12561<p>Epoch 23/25 g_loss 4.56173 d_loss 0.12841<p>Epoch 24/25 g_loss 4.49712 d_loss 0.13109<p>Epoch 25/25 g_loss 4.43697 d_loss 0.13362"
            ]
          },
          "metadata": {}
        }
      ],
      "source": [
        "# Ejecuta el entrenamiento\n",
        "device = torch.device('cuda' if torch.cuda.is_available() else 'cpu')\n",
        "hist = fit(generator, discriminator, dataloader, crit=torch.nn.BCELoss())"
      ]
    },
    {
      "cell_type": "markdown",
      "metadata": {
        "id": "ZCWeC1UDcNLt"
      },
      "source": [
        "## CONTINUANDO CON EL ENTRENAMIENTO"
      ]
    },
    {
      "cell_type": "code",
      "execution_count": 37,
      "metadata": {
        "id": "ykN766VRcZvF"
      },
      "outputs": [],
      "source": [
        "from fastprogress import master_bar, progress_bar\n",
        "\n",
        "def load_checkpoint(checkpoint_path, g, d, g_optimizer, d_optimizer):\n",
        "    checkpoint = torch.load(checkpoint_path)\n",
        "    g.load_state_dict(checkpoint['generator_state_dict'])\n",
        "    d.load_state_dict(checkpoint['discriminator_state_dict'])\n",
        "    g_optimizer.load_state_dict(checkpoint['g_optimizer_state_dict'])\n",
        "    d_optimizer.load_state_dict(checkpoint['d_optimizer_state_dict'])\n",
        "    start_epoch = checkpoint['epoch'] + 1  # Reanudar desde el siguiente epoch\n",
        "    g_loss = checkpoint['g_loss']\n",
        "    d_loss = checkpoint['d_loss']\n",
        "    return start_epoch, g_loss, d_loss\n"
      ]
    },
    {
      "cell_type": "code",
      "source": [
        "# Celda 3: Definición de la función fit (incluye load_checkpoint)\n",
        "# Reemplaza la definición existente de fit con este código\n",
        "def fit(g, d, dataloader, epochs=25, crit=None, checkpoint_dir='/content/drive/MyDrive/SIS421-IA2/Laboratorios/LAB-04/', save_interval=5, resume_from_checkpoint=None):\n",
        "    g.to(device)\n",
        "    d.to(device)\n",
        "\n",
        "    g_optimizer = torch.optim.Adam(g.parameters(), lr=3e-4)\n",
        "    d_optimizer = torch.optim.Adam(d.parameters(), lr=3e-4)\n",
        "\n",
        "    crit = nn.BCEWithLogitsLoss() if crit is None else crit\n",
        "\n",
        "    # Helper function to load checkpoint (defined inside fit to ensure correct version is used)\n",
        "    def load_checkpoint(checkpoint_path, g, d, g_optimizer, d_optimizer):\n",
        "        checkpoint = torch.load(checkpoint_path)\n",
        "        g.load_state_dict(checkpoint['generator_state_dict'])\n",
        "        d.load_state_dict(checkpoint['discriminator_state_dict'])\n",
        "        g_optimizer.load_state_dict(checkpoint['g_optimizer_state_dict'])\n",
        "        d_optimizer.load_state_dict(checkpoint['d_optimizer_state_dict'])\n",
        "        start_epoch = checkpoint['epoch'] + 1\n",
        "        g_loss = checkpoint.get('g_loss', [])\n",
        "        d_loss = checkpoint.get('d_loss', [])\n",
        "        print(f\"Checkpoint loaded from epoch {checkpoint.get('epoch', 'N/A')}\")\n",
        "        return start_epoch, g_loss, d_loss\n",
        "\n",
        "\n",
        "    if resume_from_checkpoint:\n",
        "        try:\n",
        "            start_epoch, g_loss, d_loss = load_checkpoint(resume_from_checkpoint, g, d, g_optimizer, d_optimizer)\n",
        "            print(f\"Resuming training from epoch {start_epoch}\")\n",
        "        except Exception as e:\n",
        "            print(f\"Error loading checkpoint: {e}\")\n",
        "            print(\"Starting training from scratch instead.\")\n",
        "            start_epoch = 1\n",
        "            g_loss, d_loss = [], []\n",
        "    else:\n",
        "        start_epoch = 1\n",
        "        g_loss, d_loss = [], []\n",
        "\n",
        "    mb = master_bar(range(start_epoch, epochs+1))\n",
        "    hist = {'g_loss': g_loss, 'd_loss': d_loss}\n",
        "\n",
        "\n",
        "    if not os.path.exists(checkpoint_dir):\n",
        "        os.makedirs(checkpoint_dir)\n",
        "\n",
        "    for epoch in mb:\n",
        "        current_epoch_g_loss = []\n",
        "        current_epoch_d_loss = []\n",
        "\n",
        "        for X, _ in progress_bar(dataloader, parent=mb):\n",
        "            X = X.to(device)\n",
        "\n",
        "            g.eval()\n",
        "            d.train()\n",
        "\n",
        "            noise = torch.randn((X.size(0), g.input_size)).to(device)\n",
        "            generated_images = g(noise)\n",
        "\n",
        "            d_input = torch.cat([generated_images, X], dim=0)\n",
        "            d_gt = torch.cat([torch.zeros(X.size(0)), torch.ones(X.size(0))]).view(-1, 1).to(device)\n",
        "\n",
        "            d_optimizer.zero_grad()\n",
        "            d_output = d(d_input)\n",
        "            d_l = crit(d_output, d_gt)\n",
        "            d_l.backward()\n",
        "            d_optimizer.step()\n",
        "            current_epoch_d_loss.append(d_l.item())\n",
        "\n",
        "\n",
        "            g.train()\n",
        "            d.eval()\n",
        "\n",
        "            noise = torch.randn((X.size(0), g.input_size)).to(device)\n",
        "            generated_images = g(noise)\n",
        "\n",
        "            d_output = d(generated_images)\n",
        "            g_gt = torch.ones(X.size(0)).view(-1, 1).to(device)\n",
        "\n",
        "            g_optimizer.zero_grad()\n",
        "            g_l = crit(d_output, g_gt)\n",
        "            g_l.backward()\n",
        "            g_optimizer.step()\n",
        "            current_epoch_g_loss.append(g_l.item())\n",
        "\n",
        "            mb.child.comment = f'g_loss {np.mean(current_epoch_g_loss):.5f} d_loss {np.mean(current_epoch_d_loss):.5f}'\n",
        "\n",
        "        hist['g_loss'].append(np.mean(current_epoch_g_loss))\n",
        "        hist['d_loss'].append(np.mean(current_epoch_d_loss))\n",
        "\n",
        "        mb.write(f'Epoch {epoch}/{epochs} g_loss {hist[\"g_loss\"][-1]:.5f} d_loss {hist[\"d_loss\"][-1]:.5f}')\n",
        "\n",
        "\n",
        "        if epoch % save_interval == 0:\n",
        "            torch.save({\n",
        "                'epoch': epoch,\n",
        "                'generator_state_dict': g.state_dict(),\n",
        "                'discriminator_state_dict': d.state_dict(),\n",
        "                'g_optimizer_state_dict': g_optimizer.state_dict(),\n",
        "                'd_optimizer_state_dict': d_optimizer.state_dict(),\n",
        "                'g_loss': hist['g_loss'],\n",
        "                'd_loss': hist['d_loss']\n",
        "            }, os.path.join(checkpoint_dir, f'GANs_modelo_{epoch}.pth'))\n",
        "\n",
        "    return hist"
      ],
      "metadata": {
        "id": "ppcsoXNfcg50"
      },
      "execution_count": 42,
      "outputs": []
    },
    {
      "cell_type": "code",
      "source": [
        "# Ejecutar el entrenamiento desde el último checkpoint\n",
        "checkpoint_path = '/content/drive/MyDrive/SIS421-IA2/Laboratorios/LAB-04/GANs_modelo_25.pth'  # Cambia esto por tu último checkpoint guardado\n",
        "hist = fit(generator, discriminator, dataloader, crit=torch.nn.BCELoss(), resume_from_checkpoint=checkpoint_path)"
      ],
      "metadata": {
        "colab": {
          "base_uri": "https://localhost:8080/",
          "height": 899
        },
        "id": "KNKs747McnTI",
        "outputId": "49623a8d-2214-452d-c0d8-6e10702f9d25"
      },
      "execution_count": 43,
      "outputs": [
        {
          "metadata": {
            "tags": null
          },
          "name": "stdout",
          "output_type": "stream",
          "text": [
            "Error loading checkpoint: Weights only load failed. This file can still be loaded, to do so you have two options, \u001b[1mdo those steps only if you trust the source of the checkpoint\u001b[0m. \n",
            "\t(1) In PyTorch 2.6, we changed the default value of the `weights_only` argument in `torch.load` from `False` to `True`. Re-running `torch.load` with `weights_only` set to `False` will likely succeed, but it can result in arbitrary code execution. Do it only if you got the file from a trusted source.\n",
            "\t(2) Alternatively, to load with `weights_only=True` please check the recommended steps in the following error message.\n",
            "\tWeightsUnpickler error: Unsupported global: GLOBAL numpy._core.multiarray.scalar was not an allowed global by default. Please use `torch.serialization.add_safe_globals([numpy._core.multiarray.scalar])` or the `torch.serialization.safe_globals([numpy._core.multiarray.scalar])` context manager to allowlist this global if you trust this class/function.\n",
            "\n",
            "Check the documentation of torch.load to learn more about types accepted by default with weights_only https://pytorch.org/docs/stable/generated/torch.load.html.\n",
            "Starting training from scratch instead.\n"
          ]
        },
        {
          "data": {
            "text/html": [
              "\n",
              "<style>\n",
              "    /* Turns off some styling */\n",
              "    progress {\n",
              "        /* gets rid of default border in Firefox and Opera. */\n",
              "        border: none;\n",
              "        /* Needs to be in here for Safari polyfill so background images work as expected. */\n",
              "        background-size: auto;\n",
              "    }\n",
              "    progress:not([value]), progress:not([value])::-webkit-progress-bar {\n",
              "        background: repeating-linear-gradient(45deg, #7e7e7e, #7e7e7e 10px, #5c5c5c 10px, #5c5c5c 20px);\n",
              "    }\n",
              "    .progress-bar-interrupted, .progress-bar-interrupted::-webkit-progress-bar {\n",
              "        background: #F44336;\n",
              "    }\n",
              "</style>\n"
            ],
            "text/plain": [
              "<IPython.core.display.HTML object>"
            ]
          },
          "metadata": {},
          "output_type": "display_data"
        },
        {
          "data": {
            "text/html": [
              "\n",
              "    <div>\n",
              "      <progress value='5' class='' max='25' style='width:300px; height:20px; vertical-align: middle;'></progress>\n",
              "      20.00% [5/25 04:16&lt;17:07]\n",
              "    </div>\n",
              "    \n",
              "Epoch 1/25 g_loss 4.47735 d_loss 0.13702<p>Epoch 2/25 g_loss 4.54421 d_loss 0.13446<p>Epoch 3/25 g_loss 4.57432 d_loss 0.13481<p>Epoch 4/25 g_loss 4.61532 d_loss 0.13093<p>Epoch 5/25 g_loss 4.67805 d_loss 0.12920<p>\n",
              "\n",
              "    <div>\n",
              "      <progress value='1376' class='' max='1875' style='width:300px; height:20px; vertical-align: middle;'></progress>\n",
              "      73.39% [1376/1875 00:37&lt;00:13 g_loss 4.67553 d_loss 0.12949]\n",
              "    </div>\n",
              "    "
            ],
            "text/plain": [
              "<IPython.core.display.HTML object>"
            ]
          },
          "metadata": {},
          "output_type": "display_data"
        },
        {
          "output_type": "display_data",
          "data": {
            "text/plain": [
              "<IPython.core.display.HTML object>"
            ],
            "text/html": [
              "Epoch 1/25 g_loss 4.47735 d_loss 0.13702<p>Epoch 2/25 g_loss 4.54421 d_loss 0.13446<p>Epoch 3/25 g_loss 4.57432 d_loss 0.13481<p>Epoch 4/25 g_loss 4.61532 d_loss 0.13093<p>Epoch 5/25 g_loss 4.67805 d_loss 0.12920<p>Epoch 6/25 g_loss 4.67005 d_loss 0.12921<p>Epoch 7/25 g_loss 4.71853 d_loss 0.12899<p>Epoch 8/25 g_loss 4.74937 d_loss 0.12570<p>Epoch 9/25 g_loss 4.78119 d_loss 0.12790<p>Epoch 10/25 g_loss 4.82394 d_loss 0.12449<p>Epoch 11/25 g_loss 4.86703 d_loss 0.12295<p>Epoch 12/25 g_loss 4.91472 d_loss 0.12325<p>Epoch 13/25 g_loss 4.93450 d_loss 0.12062<p>Epoch 14/25 g_loss 4.93534 d_loss 0.11807<p>Epoch 15/25 g_loss 4.94948 d_loss 0.12093<p>Epoch 16/25 g_loss 4.99455 d_loss 0.11870<p>Epoch 17/25 g_loss 5.05382 d_loss 0.11748<p>Epoch 18/25 g_loss 5.06726 d_loss 0.11447<p>Epoch 19/25 g_loss 5.12736 d_loss 0.11558<p>Epoch 20/25 g_loss 5.11087 d_loss 0.11405<p>Epoch 21/25 g_loss 5.18130 d_loss 0.11442<p>Epoch 22/25 g_loss 5.21416 d_loss 0.11139<p>Epoch 23/25 g_loss 5.22793 d_loss 0.11459<p>Epoch 24/25 g_loss 5.25169 d_loss 0.10880<p>Epoch 25/25 g_loss 5.30231 d_loss 0.10877"
            ]
          },
          "metadata": {}
        }
      ]
    },
    {
      "cell_type": "code",
      "execution_count": 44,
      "metadata": {
        "id": "cSKQXY9wcf3B"
      },
      "outputs": [],
      "source": [
        " from fastprogress import master_bar, progress_bar\n",
        "import numpy as np\n",
        "import os\n",
        "\n",
        "def load_checkpoint(checkpoint_path, g, d, g_optimizer, d_optimizer):\n",
        "    checkpoint = torch.load(checkpoint_path)\n",
        "    g.load_state_dict(checkpoint['generator_state_dict'])\n",
        "    d.load_state_dict(checkpoint['discriminator_state_dict'])\n",
        "    g_optimizer.load_state_dict(checkpoint['g_optimizer_state_dict'])\n",
        "    # Corrected: Load the discriminator optimizer state dictionary\n",
        "    d_optimizer.load_state_dict(checkpoint['d_optimizer_state_dict'])\n",
        "    start_epoch = checkpoint['epoch'] + 1  # Resume from the next epoch\n",
        "    g_loss = checkpoint['g_loss']\n",
        "    d_loss = checkpoint['d_loss']\n",
        "    return start_epoch, g_loss, d_loss\n",
        "\n",
        "def fit(g, d, dataloader, epochs=25, crit=None, checkpoint_dir='/content/drive/MyDrive/SIS421-IA2/Laboratorios/LAB-04/', save_interval=5, resume_from_checkpoint=None):\n",
        "    g.to(device)\n",
        "    d.to(device)\n",
        "\n",
        "    g_optimizer = torch.optim.Adam(g.parameters(), lr=3e-4)\n",
        "    d_optimizer = torch.optim.Adam(d.parameters(), lr=3e-4)\n",
        "\n",
        "    crit = nn.BCEWithLitLoss() if crit is None else crit\n",
        "\n",
        "    # If resuming from a checkpoint, load the model, optimizers, and losses\n",
        "    if resume_from_checkpoint:\n",
        "        start_epoch, g_loss, d_loss = load_checkpoint(resume_from_checkpoint, g, d, g_optimizer, d_optimizer)\n",
        "    else:\n",
        "        start_epoch = 1\n",
        "        g_loss, d_loss = [], []\n",
        "\n",
        "    mb = master_bar(range(start_epoch, epochs+1))\n",
        "    hist = {'g_loss': [], 'd_loss': []}\n",
        "\n",
        "    # Create the checkpoint directory if it doesn't exist\n",
        "    if not os.path.exists(checkpoint_dir):\n",
        "        os.makedirs(checkpoint_dir)\n",
        "\n",
        "    for epoch in mb:\n",
        "        for X, _ in progress_bar(dataloader, parent=mb):\n",
        "            X = X.to(device)  # Ensure real images go to the device\n",
        "\n",
        "            # Train the discriminator\n",
        "            g.eval()\n",
        "            d.train()\n",
        "\n",
        "            # Generate a batch of fake images\n",
        "            noise = torch.randn((X.size(0), g.input_size)).to(device)  # Noise vector\n",
        "            generated_images = g(noise)  # Generate fake images\n",
        "\n",
        "            # Concatenate real and generated images for the discriminator\n",
        "            d_input = torch.cat([generated_images, X], dim=0)\n",
        "            # Create labels: 0 for fake images and 1 for real images\n",
        "            d_gt = torch.cat([torch.zeros(X.size(0)), torch.ones(X.size(0))]).view(-1, 1).to(device)\n",
        "\n",
        "            # Optimize the discriminator\n",
        "            d_optimizer.zero_grad()\n",
        "            d_output = d(d_input)\n",
        "            d_l = crit(d_output, d_gt)\n",
        "            d_l.backward()\n",
        "            d_optimizer.step()\n",
        "            d_loss.append(d_l.item())\n",
        "\n",
        "            # Train the generator\n",
        "            g.train()\n",
        "            d.eval()\n",
        "\n",
        "            # Generate a new batch of fake images\n",
        "            noise = torch.randn((X.size(0), g.input_size)).to(device)\n",
        "            generated_images = g(noise)\n",
        "\n",
        "            # Pass the fake images through the discriminator\n",
        "            d_output = d(generated_images)\n",
        "            # Generator's goal: fool the discriminator, so we use \"real\" labels (1)\n",
        "            g_gt = torch.ones(X.size(0)).view(-1, 1).to(device)\n",
        "\n",
        "            # Optimize the generator\n",
        "            g_optimizer.zero_grad()\n",
        "            g_l = crit(d_output, g_gt)\n",
        "            g_l.backward()\n",
        "            g_optimizer.step()\n",
        "            g_loss.append(g_l.item())\n",
        "\n",
        "            # Progress logs\n",
        "            mb.child.comment = f'g_loss {np.mean(g_loss):.5f} d_loss {np.mean(d_loss):.5f}'\n",
        "        mb.write(f'Epoch {epoch}/{epochs} g_loss {np.mean(g_loss):.5f} d_loss {np.mean(d_loss):.5f}')\n",
        "        hist['g_loss'].append(np.mean(g_loss))\n",
        "        hist['d_loss'].append(np.mean(d_loss))\n",
        "\n",
        "        # Save a checkpoint every 'save_interval' epochs\n",
        "        if epoch % save_interval == 0:\n",
        "            torch.save({\n",
        "                'epoch': epoch,\n",
        "                'generator_state_dict': g.state_dict(),\n",
        "                'discriminator_state_dict': d.state_dict(),\n",
        "                'g_optimizer_state_dict': g_optimizer.state_dict(),\n",
        "                'd_optimizer_state_dict': d_optimizer.state_dict(), # Corrected: Save the discriminator optimizer state dict\n",
        "                'g_loss': g_loss,\n",
        "                'd_loss': d_loss\n",
        "            }, os.path.join(checkpoint_dir, f'GANs_modelo_{epoch}.pth'))\n",
        "\n",
        "    return hist"
      ]
    },
    {
      "cell_type": "code",
      "execution_count": 45,
      "metadata": {
        "id": "cIZI_aFRENWt"
      },
      "outputs": [],
      "source": [
        "def fit(g, d, dataloader, epochs=25, crit=None, checkpoint_dir='/content/drive/MyDrive/SIS421-IA2/Laboratorios/LAB-04', save_interval=5, resume_from_checkpoint=None):\n",
        "    g.to(device)\n",
        "    d.to(device)\n",
        "\n",
        "    g_optimizer = torch.optim.Adam(g.parameters(), lr=3e-4)\n",
        "    d_optimizer = torch.optim.Adam(d.parameters(), lr=3e-4)\n",
        "\n",
        "    crit = nn.BCEWithLogitsLoss() if crit is None else crit\n",
        "\n",
        "    # Si se retoma desde un checkpoint, cargar el modelo, optimizadores y pérdidas\n",
        "    if resume_from_checkpoint:\n",
        "        start_epoch, g_loss, d_loss = load_checkpoint(resume_from_checkpoint, g, d, g_optimizer, d_optimizer)\n",
        "    else:\n",
        "        start_epoch = 1\n",
        "        g_loss, d_loss = [], []\n",
        "\n",
        "    mb = master_bar(range(start_epoch, epochs+1))\n",
        "    hist = {'g_loss': [], 'd_loss': []}\n",
        "\n",
        "    # Crear el directorio de checkpoints si no existe\n",
        "    if not os.path.exists(checkpoint_dir):\n",
        "        os.makedirs(checkpoint_dir)\n",
        "\n",
        "    for epoch in mb:\n",
        "        for X, _ in progress_bar(dataloader, parent=mb):\n",
        "            X = X.to(device)  # Aseguramos que las imágenes reales vayan al dispositivo\n",
        "\n",
        "            # Entrenamos el discriminador\n",
        "            g.eval()\n",
        "            d.train()\n",
        "\n",
        "            # Generamos un batch de imágenes falsas\n",
        "            noise = torch.randn((X.size(0), g.input_size)).to(device)  # Vector de ruido\n",
        "            generated_images = g(noise)  # Generamos imágenes falsas\n",
        "\n",
        "            # Concatenamos imágenes reales y generadas para el discriminador\n",
        "            d_input = torch.cat([generated_images, X], dim=0)\n",
        "            # Creamos etiquetas: 0 para imágenes falsas y 1 para reales\n",
        "            d_gt = torch.cat([torch.zeros(X.size(0)), torch.ones(X.size(0))]).view(-1, 1).to(device)\n",
        "\n",
        "            # Optimizamos el discriminador\n",
        "            d_optimizer.zero_grad()\n",
        "            d_output = d(d_input)\n",
        "            d_l = crit(d_output, d_gt)\n",
        "            d_l.backward()\n",
        "            d_optimizer.step()\n",
        "            d_loss.append(d_l.item())\n",
        "\n",
        "            # Entrenamos el generador\n",
        "            g.train()\n",
        "            d.eval()\n",
        "\n",
        "            # Generamos un nuevo batch de imágenes falsas\n",
        "            noise = torch.randn((X.size(0), g.input_size)).to(device)\n",
        "            generated_images = g(noise)\n",
        "\n",
        "            # Pasamos las imágenes falsas por el discriminador\n",
        "            d_output = d(generated_images)\n",
        "            # Objetivo del generador: engañar al discriminador, por eso usamos etiquetas de \"reales\" (1)\n",
        "            g_gt = torch.ones(X.size(0)).view(-1, 1).to(device)\n",
        "\n",
        "            # Optimizamos el generador\n",
        "            g_optimizer.zero_grad()\n",
        "            g_l = crit(d_output, g_gt)\n",
        "            g_l.backward()\n",
        "            g_optimizer.step()\n",
        "            g_loss.append(g_l.item())\n",
        "\n",
        "            # Logs de progreso\n",
        "            mb.child.comment = f'g_loss {np.mean(g_loss):.5f} d_loss {np.mean(d_loss):.5f}'\n",
        "        mb.write(f'Epoch {epoch}/{epochs} g_loss {np.mean(g_loss):.5f} d_loss {np.mean(d_loss):.5f}')\n",
        "        hist['g_loss'].append(np.mean(g_loss))\n",
        "        hist['d_loss'].append(np.mean(d_loss))\n",
        "\n",
        "        # Guardar un checkpoint cada 'save_interval' épocas\n",
        "        if epoch % save_interval == 0:\n",
        "            torch.save({\n",
        "                'epoch': epoch,\n",
        "                'generator_state_dict': g.state_dict(),\n",
        "                'discriminator_state_dict': d.state_dict(),\n",
        "                'g_optimizer_state_dict': g_optimizer.state_dict(),\n",
        "                'd_optimizer_state_dict': d_optimizer.state_dict(),\n",
        "                'g_loss': g_loss,\n",
        "                'd_loss': d_loss\n",
        "            }, os.path.join(checkpoint_dir, f'GANs_modelo_{epoch}.pth'))\n",
        "\n",
        "    return hist"
      ]
    },
    {
      "cell_type": "markdown",
      "metadata": {
        "id": "JES54RrJU8Vx"
      },
      "source": [
        "##EVALUACIÓN DE LOS MODELOS\n",
        "\n",
        "###Cargamos los modelos guardados para verificar el mejor medelo."
      ]
    },
    {
      "cell_type": "code",
      "execution_count": 46,
      "metadata": {
        "id": "Wtz7GKT9U7J7"
      },
      "outputs": [],
      "source": [
        "import torch\n",
        "\n",
        "# Cargar un model dado\n",
        "def load_model(checkpoint_path, g, d, g_optimizer, d_optimizer):\n",
        "    # Added weights_only=False to allow loading of the checkpoint\n",
        "    model = torch.load(checkpoint_path, weights_only=False)\n",
        "    g.load_state_dict(model['generator_state_dict'])\n",
        "    d.load_state_dict(model['discriminator_state_dict'])\n",
        "    g_optimizer.load_state_dict(model['g_optimizer_state_dict'])\n",
        "    d_optimizer.load_state_dict(model['d_optimizer_state_dict'])\n",
        "    epoch = model['epoch']\n",
        "    g_loss = model['g_loss']\n",
        "    d_loss = model['d_loss']\n",
        "    print(f\"Checkpoint loaded from epoch {epoch}\")\n",
        "    return epoch, g_loss, d_loss"
      ]
    },
    {
      "cell_type": "code",
      "execution_count": 47,
      "metadata": {
        "id": "gWleQc0AVfMT"
      },
      "outputs": [],
      "source": [
        "import matplotlib.pyplot as plt\n",
        "import torch\n",
        "\n",
        "def generate_and_plot_images(g, num_images=5):\n",
        "    g.eval()  # Evaluation mode\n",
        "    noise = torch.randn(num_images, g.input_size).to(device)\n",
        "    with torch.no_grad():\n",
        "        generated_images = g(noise).cpu()\n",
        "\n",
        "    # Show the generated images\n",
        "    fig, axs = plt.subplots(1, num_images, figsize=(num_images * 3, 3))\n",
        "    for i in range(num_images):\n",
        "        img = generated_images[i].squeeze().permute(1, 0)  # Remove channel dimension for grayscale\n",
        "        img = (img + 1) / 2  # Desnormalize if using [-1, 1]\n",
        "        axs[i].imshow(img, cmap='gray') # Use gray colormap\n",
        "        axs[i].axis('off')\n",
        "    plt.show()"
      ]
    },
    {
      "cell_type": "markdown",
      "metadata": {
        "id": "ZSvdKX6D4thB"
      },
      "source": [
        "Cargamos los modelos para ver los mejores valores resultados"
      ]
    },
    {
      "cell_type": "code",
      "execution_count": 49,
      "metadata": {
        "id": "BCgfm8y_Vaea",
        "colab": {
          "base_uri": "https://localhost:8080/",
          "height": 350
        },
        "outputId": "6567d121-c775-4564-f5d5-8fb3b87f6d29"
      },
      "outputs": [
        {
          "output_type": "stream",
          "name": "stdout",
          "text": [
            "\n",
            "Cargando y evaluando: /content/drive/MyDrive/SIS421-IA2/Laboratorios/LAB-04/GANs_modelo_20.pth\n",
            "Checkpoint loaded from epoch 20\n",
            "Evaluando el checkpoint del epoch 20: Último g_loss = 5.11087, Último d_loss = 0.11405\n"
          ]
        },
        {
          "output_type": "display_data",
          "data": {
            "text/plain": [
              "<Figure size 1500x300 with 5 Axes>"
            ],
            "image/png": "[encoded data removed]"
          },
          "metadata": {}
        },
        {
          "output_type": "stream",
          "name": "stdout",
          "text": [
            "\n",
            "Cargando y evaluando: /content/drive/MyDrive/SIS421-IA2/Laboratorios/LAB-04/GANs_modelo_22.pth\n",
            "Error: El archivo /content/drive/MyDrive/SIS421-IA2/Laboratorios/LAB-04/GANs_modelo_22.pth no fue encontrado.\n",
            "\n",
            "Cargando y evaluando: /content/drive/MyDrive/SIS421-IA2/Laboratorios/LAB-04/GANs_modelo_24.pth\n",
            "Error: El archivo /content/drive/MyDrive/SIS421-IA2/Laboratorios/LAB-04/GANs_modelo_24.pth no fue encontrado.\n"
          ]
        }
      ],
      "source": [
        "import torch\n",
        "import torch.nn as nn\n",
        "import torch.optim as optim\n",
        "import os # Import the os module\n",
        "\n",
        "# Asegúrate de que las definiciones de las clases Generator y Discriminator (en tus celdas anteriores)\n",
        "# se hayan ejecutado ANTES de esta celda.\n",
        "# Por ejemplo:\n",
        "# class Generator(nn.Module):\n",
        "#     ... # Tu definición aquí\n",
        "# class Discriminator(nn.Module):\n",
        "#     ... # Tu definición aquí\n",
        "\n",
        "# Inicializar el generador y discriminador\n",
        "generator = Generator().to(device) # Asegúrate de enviarlos al dispositivo\n",
        "discriminator = Discriminator().to(device) # Asegúrate de enviarlos al dispositivo\n",
        "\n",
        "# Inicializar los optimizadores\n",
        "# Aunque fit los inicializa internamente, load_model espera optimizadores ya creados\n",
        "g_optimizer = optim.Adam(generator.parameters(), lr=3e-4)\n",
        "d_optimizer = optim.Adam(discriminator.parameters(), lr=3e-4)\n",
        "\n",
        "models = [\n",
        "    '/content/drive/MyDrive/SIS421-IA2/Laboratorios/LAB-04/GANs_modelo_20.pth',\n",
        "    '/content/drive/MyDrive/SIS421-IA2/Laboratorios/LAB-04/GANs_modelo_22.pth',\n",
        "    '/content/drive/MyDrive/SIS421-IA2/Laboratorios/LAB-04/GANs_modelo_24.pth'\n",
        "]\n",
        "\n",
        "# Asegúrate de que la función load_model (celda Wtz7GKT9U7J7)\n",
        "# y generate_and_plot_images (celda gWleQc0AVfMT)\n",
        "# se hayan ejecutado ANTES de este bucle.\n",
        "\n",
        "for model in models:\n",
        "    print(f\"\\nCargando y evaluando: {model}\")\n",
        "    # Check if the model file exists before attempting to load\n",
        "    if os.path.exists(model):\n",
        "        # Asegúrate de que la función load_model esté definida y ejecutada\n",
        "        # La función load_model debe cargar el estado de los optimizadores también\n",
        "        epoch, g_loss_hist, d_loss_hist = load_model(model, generator, discriminator, g_optimizer, d_optimizer)\n",
        "\n",
        "        # Usamos las últimas pérdidas guardadas en el historial\n",
        "        print(f\"Evaluando el checkpoint del epoch {epoch}: Último g_loss = {g_loss_hist[-1]:.5f}, Último d_loss = {d_loss_hist[-1]:.5f}\")\n",
        "\n",
        "        # Asegúrate de que la función generate_and_plot_images esté definida y ejecutada\n",
        "        generate_and_plot_images(generator, num_images=5)\n",
        "    else:\n",
        "        print(f\"Error: El archivo {model} no fue encontrado.\")"
      ]
    },
    {
      "cell_type": "code",
      "execution_count": 51,
      "metadata": {
        "id": "Gj0oKS20ZKsP",
        "colab": {
          "base_uri": "https://localhost:8080/"
        },
        "outputId": "67bafb5c-c3ea-4bd9-d45a-bacddb1fb8bd"
      },
      "outputs": [
        {
          "output_type": "stream",
          "name": "stdout",
          "text": [
            "Checkpoint loaded from epoch 20\n",
            "Warning: El archivo /content/drive/MyDrive/SIS421-IA2/Laboratorios/LAB-04/GANs_modelo_22.pth no fue encontrado. Saltando este checkpoint.\n",
            "Warning: El archivo /content/drive/MyDrive/SIS421-IA2/Laboratorios/LAB-04/GANs_modelo_24.pth no fue encontrado. Saltando este checkpoint.\n"
          ]
        }
      ],
      "source": [
        "g_loss_total = []\n",
        "d_loss_total = []\n",
        "\n",
        "for model in models:\n",
        "    # Check if the model file exists before attempting to load\n",
        "    if os.path.exists(model):\n",
        "        epoch, g_loss, d_loss = load_model(model, generator, discriminator, g_optimizer, d_optimizer)\n",
        "        g_loss_total.extend(g_loss)  # Agregar las pérdidas del generador\n",
        "        d_loss_total.extend(d_loss)  # Agregar las pérdidas del discriminador\n",
        "    else:\n",
        "        print(f\"Warning: El archivo {model} no fue encontrado. Saltando este checkpoint.\")"
      ]
    },
    {
      "cell_type": "markdown",
      "metadata": {
        "id": "E9mPlYplvaIE"
      },
      "source": [
        "###5. Visualización de los Resultados\n",
        "Al finalizar el entrenamiento, visualizamos las imágenes generadas:"
      ]
    },
    {
      "cell_type": "code",
      "execution_count": 53,
      "metadata": {
        "id": "ZGsExU7Nd6cm",
        "colab": {
          "base_uri": "https://localhost:8080/"
        },
        "outputId": "bbafffe6-c1f6-42da-c81d-081ad5640ce1"
      },
      "outputs": [
        {
          "output_type": "stream",
          "name": "stdout",
          "text": [
            "Checkpoint loaded from epoch 25\n",
            "Checkpoint del epoch 25 cargado: g_loss = 5.302313361740112, d_loss = 0.10877061065832774\n"
          ]
        }
      ],
      "source": [
        "# Ruta del modelo que deseas cargar\n",
        "model_ = '/content/drive/MyDrive/SIS421-IA2/Laboratorios/LAB-04/GANs_modelo_25.pth'\n",
        "\n",
        "# Función para cargar el modelo\n",
        "epoch, g_loss, d_loss = load_model(model_, generator, discriminator, g_optimizer, d_optimizer)\n",
        "\n",
        "# Imprimir información del modelo cargado\n",
        "print(f\"Checkpoint del epoch {epoch} cargado: g_loss = {g_loss[-1]}, d_loss = {d_loss[-1]}\")\n"
      ]
    },
    {
      "cell_type": "code",
      "execution_count": 54,
      "metadata": {
        "id": "JiWBC5_nvUMU",
        "colab": {
          "base_uri": "https://localhost:8080/",
          "height": 316
        },
        "outputId": "f721e486-0a7f-4a55-b06e-e9b52378c273"
      },
      "outputs": [
        {
          "output_type": "display_data",
          "data": {
            "text/plain": [
              "<Figure size 1500x500 with 10 Axes>"
            ],
            "image/png": "[encoded data removed]"
          },
          "metadata": {}
        }
      ],
      "source": [
        "import matplotlib.pyplot as plt\n",
        "import torch\n",
        "\n",
        "# Put the generator in evaluation mode\n",
        "generator.eval()\n",
        "\n",
        "# Generate images without calculating gradients\n",
        "with torch.no_grad():\n",
        "    # Create random noise to generate 10 images\n",
        "    noise = torch.randn((10, generator.input_size)).to(device)\n",
        "\n",
        "    # Generate images from the noise\n",
        "    generated_images = generator(noise)\n",
        "\n",
        "    # Configure the figure to display the images\n",
        "    fig, axs = plt.subplots(2, 5, figsize=(15, 5))\n",
        "    i = 0\n",
        "\n",
        "    # Iterate through each axis and display the images\n",
        "    for ax_row in axs:\n",
        "        for ax in ax_row:\n",
        "            # Reorganize image channels for visualization (from [C, H, W] to [H, W, C] - not needed for grayscale)\n",
        "            # Squeeze to remove the single channel dimension for grayscale images\n",
        "            img = generated_images[i].squeeze().cpu()\n",
        "\n",
        "            # Rescale image values from [-1, 1] to [0, 1] for visualization\n",
        "            ax.imshow((img + 1) / 2, cmap='gray')  # Use gray colormap\n",
        "            ax.axis('off')  # Hide axes\n",
        "            i += 1\n",
        "\n",
        "    # Show the generated images\n",
        "    plt.show()"
      ]
    },
    {
      "cell_type": "markdown",
      "metadata": {
        "id": "l7xwSJISfyhw"
      },
      "source": [
        "En este caso las imágenes generadas son un poco mejores que las que obteníamos con la GAN simple, aunque todavía hay márgen de mejora."
      ]
    },
    {
      "cell_type": "code",
      "metadata": {
        "id": "fe130526"
      },
      "source": [
        "from fastprogress import master_bar, progress_bar\n",
        "import numpy as np\n",
        "import os\n",
        "import torch\n",
        "import torch.nn as nn\n",
        "\n",
        "def load_checkpoint(checkpoint_path, g, d, g_optimizer, d_optimizer):\n",
        "    # Added weights_only=False to allow loading of the checkpoint\n",
        "    checkpoint = torch.load(checkpoint_path, weights_only=False)\n",
        "    g.load_state_dict(checkpoint['generator_state_dict'])\n",
        "    d.load_state_dict(checkpoint['discriminator_state_dict'])\n",
        "    g_optimizer.load_state_dict(checkpoint['g_optimizer_state_dict'])\n",
        "    d_optimizer.load_state_dict(checkpoint['d_optimizer_state_dict'])\n",
        "    start_epoch = checkpoint['epoch'] + 1  # Resume from the next epoch\n",
        "    g_loss = checkpoint['g_loss']\n",
        "    d_loss = checkpoint['d_loss']\n",
        "    return start_epoch, g_loss, d_loss\n",
        "\n",
        "def fit(g, d, dataloader, epochs=25, crit=None, checkpoint_dir='/content/drive/MyDrive/SIS421-IA2/Laboratorios/LAB-04/', save_interval=5, resume_from_checkpoint=None):\n",
        "    g.to(device)\n",
        "    d.to(device)\n",
        "\n",
        "    g_optimizer = torch.optim.Adam(g.parameters(), lr=3e-4)\n",
        "    d_optimizer = torch.optim.Adam(d.parameters(), lr=3e-4)\n",
        "\n",
        "    crit = nn.BCEWithLogitsLoss() if crit is None else crit\n",
        "\n",
        "    # If resuming from a checkpoint, load the model, optimizers, and losses\n",
        "    if resume_from_checkpoint:\n",
        "        # Modified: Call the updated load_checkpoint function\n",
        "        start_epoch, g_loss, d_loss = load_checkpoint(resume_from_checkpoint, g, d, g_optimizer, d_optimizer)\n",
        "    else:\n",
        "        start_epoch = 1\n",
        "        g_loss, d_loss = [], []\n",
        "\n",
        "    mb = master_bar(range(start_epoch, epochs+1))\n",
        "    hist = {'g_loss': [], 'd_loss': []}\n",
        "\n",
        "    # Create the checkpoint directory if it doesn't exist\n",
        "    if not os.path.exists(checkpoint_dir):\n",
        "        os.makedirs(checkpoint_dir)\n",
        "\n",
        "    for epoch in mb:\n",
        "        for X, _ in progress_bar(dataloader, parent=mb):\n",
        "            X = X.to(device)  # Ensure real images go to the device\n",
        "\n",
        "            # Train the discriminator\n",
        "            g.eval()\n",
        "            d.train()\n",
        "\n",
        "            # Generate a batch of fake images\n",
        "            noise = torch.randn((X.size(0), g.input_size)).to(device)  # Noise vector\n",
        "            generated_images = g(noise)  # Generate fake images\n",
        "\n",
        "            # Concatenate real and generated images for the discriminator\n",
        "            d_input = torch.cat([generated_images, X], dim=0)\n",
        "            # Create labels: 0 for fake images and 1 for real images\n",
        "            d_gt = torch.cat([torch.zeros(X.size(0)), torch.ones(X.size(0))]).view(-1, 1).to(device)\n",
        "\n",
        "            # Optimize the discriminator\n",
        "            d_optimizer.zero_grad()\n",
        "            d_output = d(d_input)\n",
        "            d_l = crit(d_output, d_gt)\n",
        "            d_l.backward()\n",
        "            d_optimizer.step()\n",
        "            d_loss.append(d_l.item())\n",
        "\n",
        "            # Train the generator\n",
        "            g.train()\n",
        "            d.eval()\n",
        "\n",
        "            # Generate a new batch of fake images\n",
        "            noise = torch.randn((X.size(0), g.input_size)).to(device)\n",
        "            generated_images = g(noise)\n",
        "\n",
        "            # Pass the fake images through the discriminator\n",
        "            d_output = d(generated_images)\n",
        "            # Generator's goal: fool the discriminator, so we use \"real\" labels (1)\n",
        "            g_gt = torch.ones(X.size(0)).view(-1, 1).to(device)\n",
        "\n",
        "            # Optimize the generator\n",
        "            g_optimizer.zero_grad()\n",
        "            g_l = crit(d_output, g_gt)\n",
        "            g_l.backward()\n",
        "            g_optimizer.step()\n",
        "            g_loss.append(g_l.item())\n",
        "\n",
        "            # Progress logs\n",
        "            mb.child.comment = f'g_loss {np.mean(g_loss):.5f} d_loss {np.mean(d_loss):.5f}'\n",
        "        mb.write(f'Epoch {epoch}/{epochs} g_loss {np.mean(g_loss):.5f} d_loss {np.mean(d_loss):.5f}')\n",
        "        hist['g_loss'].append(np.mean(g_loss))\n",
        "        hist['d_loss'].append(np.mean(d_loss))\n",
        "\n",
        "        # Save a checkpoint every 'save_interval' epochs\n",
        "        if epoch % save_interval == 0:\n",
        "            torch.save({\n",
        "                'epoch': epoch,\n",
        "                'generator_state_dict': g.state_dict(),\n",
        "                'discriminator_state_dict': d.state_dict(),\n",
        "                'g_optimizer_state_dict': g_optimizer.state_dict(),\n",
        "                'd_optimizer_state_dict': d_optimizer.state_dict(),\n",
        "                'g_loss': g_loss,\n",
        "                'd_loss': d_loss\n",
        "            }, os.path.join(checkpoint_dir, f'GANs_modelo_{epoch}.pth'))\n",
        "\n",
        "    return hist"
      ],
      "execution_count": 57,
      "outputs": []
    },
    {
      "cell_type": "code",
      "metadata": {
        "id": "b8e84212"
      },
      "source": [
        "# Ejecutar el entrenamiento desde el último checkpoint\n",
        "device = torch.device('cuda' if torch.cuda.is_available() else 'cpu')\n",
        "checkpoint_path = '/content/drive/MyDrive/SIS421-IA2/Laboratorios/LAB-04/GANs_modelo_25.pth'  # Cambia esto por tu último checkpoint guardado\n",
        "hist = fit(generator, discriminator, dataloader, crit=torch.nn.BCELoss(), resume_from_checkpoint=checkpoint_path)"
      ],
      "execution_count": 58,
      "outputs": []
    },
    {
      "cell_type": "code",
      "metadata": {
        "id": "40582094"
      },
      "source": [
        "from fastprogress import master_bar, progress_bar\n",
        "import numpy as np\n",
        "import os\n",
        "import torch\n",
        "import torch.nn as nn\n",
        "\n",
        "def fit(g, d, dataloader, epochs=25, crit=None, checkpoint_dir='/content/drive/MyDrive/SIS421-IA2/Laboratorios/LAB-04/', save_interval=5, resume_from_checkpoint=None):\n",
        "    g.to(device)\n",
        "    d.to(device)\n",
        "\n",
        "    g_optimizer = torch.optim.Adam(g.parameters(), lr=3e-4)\n",
        "    d_optimizer = torch.optim.Adam(d.parameters(), lr=3e-4)\n",
        "\n",
        "    crit = nn.BCEWithLogitsLoss() if crit is None else crit\n",
        "\n",
        "    # Helper function to load checkpoint (defined inside fit to ensure correct version is used)\n",
        "    def load_checkpoint(checkpoint_path, g, d, g_optimizer, d_optimizer):\n",
        "        checkpoint = torch.load(checkpoint_path)\n",
        "        g.load_state_dict(checkpoint['generator_state_dict'])\n",
        "        d.load_state_dict(checkpoint['discriminator_state_dict'])\n",
        "        g_optimizer.load_state_dict(checkpoint['g_optimizer_state_dict'])\n",
        "        d_optimizer.load_state_dict(checkpoint['d_optimizer_state_dict'])\n",
        "        start_epoch = checkpoint['epoch'] + 1  # Resume from the next epoch\n",
        "        g_loss = checkpoint['g_loss']\n",
        "        d_loss = checkpoint['d_loss']\n",
        "        return start_epoch, g_loss, d_loss\n",
        "\n",
        "    # If resuming from a checkpoint, load the model, optimizers, and losses\n",
        "    if resume_from_checkpoint:\n",
        "        start_epoch, g_loss, d_loss = load_checkpoint(resume_from_checkpoint, g, d, g_optimizer, d_optimizer)\n",
        "    else:\n",
        "        start_epoch = 1\n",
        "        g_loss, d_loss = [], []\n",
        "\n",
        "    mb = master_bar(range(start_epoch, epochs+1))\n",
        "    hist = {'g_loss': [], 'd_loss': []}\n",
        "\n",
        "    # Create the checkpoint directory if it doesn't exist\n",
        "    if not os.path.exists(checkpoint_dir):\n",
        "        os.makedirs(checkpoint_dir)\n",
        "\n",
        "    for epoch in mb:\n",
        "        for X, _ in progress_bar(dataloader, parent=mb):\n",
        "            X = X.to(device)  # Ensure real images go to the device\n",
        "\n",
        "            # Train the discriminator\n",
        "            g.eval()\n",
        "            d.train()\n",
        "\n",
        "            # Generate a batch of fake images\n",
        "            noise = torch.randn((X.size(0), g.input_size)).to(device)  # Noise vector\n",
        "            generated_images = g(noise)  # Generate fake images\n",
        "\n",
        "            # Concatenate real and generated images for the discriminator\n",
        "            d_input = torch.cat([generated_images, X], dim=0)\n",
        "            # Create labels: 0 for fake images and 1 for real images\n",
        "            d_gt = torch.cat([torch.zeros(X.size(0)), torch.ones(X.size(0))]).view(-1, 1).to(device)\n",
        "\n",
        "            # Optimize the discriminator\n",
        "            d_optimizer.zero_grad()\n",
        "            d_output = d(d_input)\n",
        "            d_l = crit(d_output, d_gt)\n",
        "            d_l.backward()\n",
        "            d_optimizer.step()\n",
        "            d_loss.append(d_l.item())\n",
        "\n",
        "            # Train the generator\n",
        "            g.train()\n",
        "            d.eval()\n",
        "\n",
        "            # Generate a new batch of fake images\n",
        "            noise = torch.randn((X.size(0), g.input_size)).to(device)\n",
        "            generated_images = g(noise)\n",
        "\n",
        "            # Pass the fake images through the discriminator\n",
        "            d_output = d(generated_images)\n",
        "            # Generator's goal: fool the discriminator, so we use \"real\" labels (1)\n",
        "            g_gt = torch.ones(X.size(0)).view(-1, 1).to(device)\n",
        "\n",
        "            # Optimizamos el generador\n",
        "            g_optimizer.zero_grad()\n",
        "            g_l = crit(d_output, g_gt)\n",
        "            g_l.backward()\n",
        "            g_optimizer.step()\n",
        "            g_loss.append(g_l.item())\n",
        "\n",
        "            # Progress logs\n",
        "            mb.child.comment = f'g_loss {np.mean(g_loss):.5f} d_loss {np.mean(d_loss):.5f}'\n",
        "        mb.write(f'Epoch {epoch}/{epochs} g_loss {np.mean(g_loss):.5f} d_loss {np.mean(d_loss):.5f}')\n",
        "        hist['g_loss'].append(np.mean(g_loss))\n",
        "        hist['d_loss'].append(np.mean(d_loss))\n",
        "\n",
        "        # Save a checkpoint every 'save_interval' epochs\n",
        "        if epoch % save_interval == 0:\n",
        "            torch.save({\n",
        "                'epoch': epoch,\n",
        "                'generator_state_dict': g.state_dict(),\n",
        "                'discriminator_state_dict': d.state_dict(),\n",
        "                'g_optimizer_state_dict': g_optimizer.state_dict(),\n",
        "                'd_optimizer_state_dict': d_optimizer.state_dict(),\n",
        "                'g_loss': g_loss,\n",
        "                'd_loss': d_loss\n",
        "            }, os.path.join(checkpoint_dir, f'GANs_modelo_{epoch}.pth'))\n",
        "\n",
        "    return hist"
      ],
      "execution_count": 59,
      "outputs": []
    },
    {
      "cell_type": "code",
      "metadata": {
        "id": "123bd914"
      },
      "source": [
        "# Asegúrate de tener las importaciones necesarias si no están ya en tu notebook\n",
        "import torch\n",
        "import torch.nn as nn\n",
        "import torch.optim as optim\n",
        "import numpy as np\n",
        "import os\n",
        "from fastprogress import master_bar, progress_bar\n",
        "import matplotlib.pyplot as plt # Para visualizar resultados si es necesario\n",
        "\n",
        "# Definición del Generador (asegúrate de que esta clase ya está definida arriba en tu notebook)\n",
        "# class Generator(nn.Module):\n",
        "#     def __init__(self):\n",
        "#         super().__init__()\n",
        "#         self.input_size = 25\n",
        "#         ... # Resto de la definición del generador\n",
        "\n",
        "# Definición del Discriminador (asegúrate de que esta clase ya está definida arriba en tu notebook)\n",
        "# class Discriminator(nn.Module):\n",
        "#     def __init__(self):\n",
        "#         super().__init__()\n",
        "#         ... # Resto de la definición del discriminador\n",
        "\n",
        "# Asegúrate de tener las instancias del generador y discriminador inicializadas\n",
        "# generator = Generator()\n",
        "# discriminator = Discriminator()\n",
        "\n",
        "# Asegúrate de tener el dataloader listo\n",
        "# dataloader = torch.utils.data.DataLoader(...)\n",
        "\n",
        "# Define el dispositivo\n",
        "device = torch.device('cuda' if torch.cuda.is_available() else 'cpu')\n",
        "\n",
        "def fit(g, d, dataloader, epochs=25, crit=None, checkpoint_dir='/content/drive/MyDrive/SIS421-IA2/Laboratorios/LAB-04/', save_interval=5, resume_from_checkpoint=None):\n",
        "    g.to(device)\n",
        "    d.to(device)\n",
        "\n",
        "    g_optimizer = torch.optim.Adam(g.parameters(), lr=3e-4)\n",
        "    d_optimizer = torch.optim.Adam(d.parameters(), lr=3e-4)\n",
        "\n",
        "    crit = nn.BCEWithLogitsLoss() if crit is None else crit\n",
        "\n",
        "    # Helper function to load checkpoint (defined inside fit to ensure correct version is used)\n",
        "    def load_checkpoint(checkpoint_path, g, d, g_optimizer, d_optimizer):\n",
        "        checkpoint = torch.load(checkpoint_path)\n",
        "        g.load_state_dict(checkpoint['generator_state_dict'])\n",
        "        d.load_state_dict(checkpoint['discriminator_state_dict'])\n",
        "        g_optimizer.load_state_dict(checkpoint['g_optimizer_state_dict'])\n",
        "        d_optimizer.load_state_dict(checkpoint['d_optimizer_state_dict'])\n",
        "        start_epoch = checkpoint['epoch'] + 1  # Resume from the next epoch\n",
        "        # Asegúrate de que g_loss y d_loss existan en el checkpoint antes de intentar acceder a ellos\n",
        "        g_loss = checkpoint.get('g_loss', []) # Usa .get para evitar errores si no existe\n",
        "        d_loss = checkpoint.get('d_loss', []) # Usa .get para evitar errores si no existe\n",
        "        print(f\"Checkpoint loaded from epoch {checkpoint.get('epoch', 'N/A')}\")\n",
        "        return start_epoch, g_loss, d_loss\n",
        "\n",
        "\n",
        "    # If resuming from a checkpoint, load the model, optimizers, and losses\n",
        "    if resume_from_checkpoint:\n",
        "        try:\n",
        "            start_epoch, g_loss, d_loss = load_checkpoint(resume_from_checkpoint, g, d, g_optimizer, d_optimizer)\n",
        "            print(f\"Resuming training from epoch {start_epoch}\")\n",
        "        except Exception as e:\n",
        "            print(f\"Error loading checkpoint: {e}\")\n",
        "            print(\"Starting training from scratch instead.\")\n",
        "            start_epoch = 1\n",
        "            g_loss, d_loss = [], []\n",
        "    else:\n",
        "        start_epoch = 1\n",
        "        g_loss, d_loss = [], []\n",
        "\n",
        "    mb = master_bar(range(start_epoch, epochs+1))\n",
        "    # Inicializa hist con las pérdidas cargadas si existen, o vacías si se inicia desde cero\n",
        "    hist = {'g_loss': g_loss, 'd_loss': d_loss}\n",
        "\n",
        "\n",
        "    # Create the checkpoint directory if it doesn't exist\n",
        "    if not os.path.exists(checkpoint_dir):\n",
        "        os.makedirs(checkpoint_dir)\n",
        "\n",
        "    for epoch in mb:\n",
        "        # Variables temporales para las pérdidas de la época actual\n",
        "        current_epoch_g_loss = []\n",
        "        current_epoch_d_loss = []\n",
        "\n",
        "        for X, _ in progress_bar(dataloader, parent=mb):\n",
        "            X = X.to(device)  # Ensure real images go to the device\n",
        "\n",
        "            # Train the discriminator\n",
        "            g.eval()\n",
        "            d.train()\n",
        "\n",
        "            # Generate a batch of fake images\n",
        "            noise = torch.randn((X.size(0), g.input_size)).to(device)  # Noise vector\n",
        "            generated_images = g(noise)  # Generate fake images\n",
        "\n",
        "            # Concatenate real and generated images for the discriminator\n",
        "            d_input = torch.cat([generated_images, X], dim=0)\n",
        "            # Create labels: 0 for fake images and 1 for real images\n",
        "            d_gt = torch.cat([torch.zeros(X.size(0)), torch.ones(X.size(0))]).view(-1, 1).to(device)\n",
        "\n",
        "            # Optimize the discriminator\n",
        "            d_optimizer.zero_grad()\n",
        "            d_output = d(d_input)\n",
        "            d_l = crit(d_output, d_gt)\n",
        "            d_l.backward()\n",
        "            d_optimizer.step()\n",
        "            current_epoch_d_loss.append(d_l.item())\n",
        "\n",
        "\n",
        "            # Train the generator\n",
        "            g.train()\n",
        "            d.eval()\n",
        "\n",
        "            # Generate a new batch of fake images\n",
        "            noise = torch.randn((X.size(0), g.input_size)).to(device)\n",
        "            generated_images = g(noise)\n",
        "\n",
        "            # Pass the fake images through the discriminator\n",
        "            d_output = d(generated_images)\n",
        "            # Generator's goal: fool the discriminator, so we use \"real\" labels (1)\n",
        "            g_gt = torch.ones(X.size(0)).view(-1, 1).to(device)\n",
        "\n",
        "            # Optimize the generator\n",
        "            g_optimizer.zero_grad()\n",
        "            g_l = crit(d_output, g_gt)\n",
        "            g_l.backward()\n",
        "            g_optimizer.step()\n",
        "            current_epoch_g_loss.append(g_l.item())\n",
        "\n",
        "\n",
        "            # Progress logs - use mean of current epoch losses\n",
        "            mb.child.comment = f'g_loss {np.mean(current_epoch_g_loss):.5f} d_loss {np.mean(current_epoch_d_loss):.5f}'\n",
        "\n",
        "        # Append the mean loss of the epoch to the historical losses\n",
        "        hist['g_loss'].append(np.mean(current_epoch_g_loss))\n",
        "        hist['d_loss'].append(np.mean(current_epoch_d_loss))\n",
        "\n",
        "        mb.write(f'Epoch {epoch}/{epochs} g_loss {hist[\"g_loss\"][-1]:.5f} d_loss {hist[\"d_loss\"][-1]:.5f}')\n",
        "\n",
        "\n",
        "        # Save a checkpoint every 'save_interval' epochs\n",
        "        if epoch % save_interval == 0:\n",
        "            torch.save({\n",
        "                'epoch': epoch,\n",
        "                'generator_state_dict': g.state_dict(),\n",
        "                'discriminator_state_dict': d.state_dict(),\n",
        "                'g_optimizer_state_dict': g_optimizer.state_dict(),\n",
        "                'd_optimizer_state_dict': d_optimizer.state_dict(),\n",
        "                'g_loss': hist['g_loss'],  # Save the full history\n",
        "                'd_loss': hist['d_loss']   # Save the full history\n",
        "            }, os.path.join(checkpoint_dir, f'GANs_modelo_{epoch}.pth'))\n",
        "\n",
        "    return hist"
      ],
      "execution_count": 60,
      "outputs": []
    },
    {
      "cell_type": "code",
      "metadata": {
        "id": "c39400f6",
        "colab": {
          "base_uri": "https://localhost:8080/",
          "height": 618
        },
        "outputId": "5142ebbd-3446-4d26-c9eb-2175c374c42c"
      },
      "source": [
        "# --- Opción 1: Iniciar entrenamiento desde cero ---\n",
        "# Esta es la opción recomendada si sospechas que tu checkpoint está corrupto\n",
        "\n",
        "# Asegúrate de que generator y discriminator estén inicializados\n",
        "# generator = Generator() # Descomenta si necesitas inicializar\n",
        "# discriminator = Discriminator() # Descomenta si necesitas inicializar\n",
        "\n",
        "# Ejecutar el entrenamiento desde el principio\n",
        "device = torch.device('cuda' if torch.cuda.is_available() else 'cpu')\n",
        "print(f\"Using device: {device}\")\n",
        "hist = fit(generator, discriminator, dataloader, crit=torch.nn.BCELoss(), epochs=25) # Elimina resume_from_checkpoint"
      ],
      "execution_count": 61,
      "outputs": [
        {
          "output_type": "stream",
          "name": "stdout",
          "text": [
            "Using device: cuda\n"
          ]
        },
        {
          "output_type": "display_data",
          "data": {
            "text/plain": [
              "<IPython.core.display.HTML object>"
            ],
            "text/html": [
              "\n",
              "<style>\n",
              "    /* Turns off some styling */\n",
              "    progress {\n",
              "        /* gets rid of default border in Firefox and Opera. */\n",
              "        border: none;\n",
              "        /* Needs to be in here for Safari polyfill so background images work as expected. */\n",
              "        background-size: auto;\n",
              "    }\n",
              "    progress:not([value]), progress:not([value])::-webkit-progress-bar {\n",
              "        background: repeating-linear-gradient(45deg, #7e7e7e, #7e7e7e 10px, #5c5c5c 10px, #5c5c5c 20px);\n",
              "    }\n",
              "    .progress-bar-interrupted, .progress-bar-interrupted::-webkit-progress-bar {\n",
              "        background: #F44336;\n",
              "    }\n",
              "</style>\n"
            ]
          },
          "metadata": {}
        },
        {
          "output_type": "display_data",
          "data": {
            "text/plain": [
              "<IPython.core.display.HTML object>"
            ],
            "text/html": [
              "Epoch 1/25 g_loss 5.36479 d_loss 0.10875<p>Epoch 2/25 g_loss 5.37167 d_loss 0.10767<p>Epoch 3/25 g_loss 5.41140 d_loss 0.10487<p>Epoch 4/25 g_loss 5.46479 d_loss 0.10643<p>Epoch 5/25 g_loss 5.45419 d_loss 0.10505<p>Epoch 6/25 g_loss 5.47620 d_loss 0.10272<p>Epoch 7/25 g_loss 5.51773 d_loss 0.10178<p>Epoch 8/25 g_loss 5.54190 d_loss 0.10046<p>Epoch 9/25 g_loss 5.63470 d_loss 0.09964<p>Epoch 10/25 g_loss 5.63612 d_loss 0.09978<p>Epoch 11/25 g_loss 5.64757 d_loss 0.09773<p>Epoch 12/25 g_loss 5.69045 d_loss 0.09952<p>Epoch 13/25 g_loss 5.72273 d_loss 0.09611<p>Epoch 14/25 g_loss 5.70425 d_loss 0.09938<p>Epoch 15/25 g_loss 5.77381 d_loss 0.09682<p>Epoch 16/25 g_loss 5.77832 d_loss 0.09477<p>Epoch 17/25 g_loss 5.78631 d_loss 0.09486<p>Epoch 18/25 g_loss 5.85510 d_loss 0.09385<p>Epoch 19/25 g_loss 5.84485 d_loss 0.09417<p>Epoch 20/25 g_loss 5.84515 d_loss 0.09534<p>Epoch 21/25 g_loss 5.91019 d_loss 0.09339<p>Epoch 22/25 g_loss 5.88599 d_loss 0.09267<p>Epoch 23/25 g_loss 5.93758 d_loss 0.09196<p>Epoch 24/25 g_loss 5.92540 d_loss 0.08978<p>Epoch 25/25 g_loss 5.97262 d_loss 0.09217"
            ]
          },
          "metadata": {}
        }
      ]
    }
  ],
  "metadata": {
    "accelerator": "GPU",
    "colab": {
      "gpuType": "T4",
      "provenance": []
    },
    "kernelspec": {
      "display_name": "Python 3",
      "name": "python3"
    },
    "language_info": {
      "name": "python"
    }
  },
  "nbformat": 4,
  "nbformat_minor": 0
}