{
  "cells": [
    {
      "cell_type": "markdown",
      "metadata": {
        "id": "d40anh2Y3Q_H"
      },
      "source": [
        "# **Laboratorio 04  SIS421**\n",
        "\n",
        "### Nombre: Quispe Sucullani Jose David\n",
        "\n",
        "### C.U. 111-376\n",
        "\n",
        "### Link github:"
      ]
    },
    {
      "cell_type": "markdown",
      "metadata": {
        "id": "oIJnb63G3kwF"
      },
      "source": [
        "##Contexto del Laboratorio\n"
      ]
    },
    {
      "cell_type": "code",
      "execution_count": 37,
      "metadata": {
        "colab": {
          "base_uri": "https://localhost:8080/",
          "height": 35
        },
        "id": "sCaNiEq7J_CP",
        "outputId": "99e77fd6-3e98-4a19-f79a-e29f113dd075"
      },
      "outputs": [
        {
          "output_type": "execute_result",
          "data": {
            "text/plain": [
              "'cuda'"
            ],
            "application/vnd.google.colaboratory.intrinsic+json": {
              "type": "string"
            }
          },
          "metadata": {},
          "execution_count": 37
        }
      ],
      "source": [
        "import torch\n",
        "import torchvision\n",
        "import os\n",
        "from torch.utils.data import Dataset\n",
        "from torchvision import datasets, transforms\n",
        "import random\n",
        "import matplotlib.pyplot as plt\n",
        "from collections import Counter\n",
        "\n",
        "import torch.nn as nn\n",
        "import torch.optim as optim\n",
        "import numpy as np\n",
        "import matplotlib.pyplot as plt\n",
        "\n",
        "device = \"cuda\" if torch.cuda.is_available() else \"cpu\"\n",
        "device"
      ]
    },
    {
      "cell_type": "markdown",
      "metadata": {
        "id": "HmhQ7-wuHuyh"
      },
      "source": [
        "##1: Lectura del Dataset"
      ]
    },
    {
      "cell_type": "code",
      "execution_count": 38,
      "metadata": {
        "colab": {
          "base_uri": "https://localhost:8080/"
        },
        "id": "DvQ35sjHHsHo",
        "outputId": "70c121e7-4af9-4927-949b-84b77bfdbe9e"
      },
      "outputs": [
        {
          "output_type": "stream",
          "name": "stdout",
          "text": [
            "Número de imágenes de entrenamiento: 60000\n",
            "Número de imágenes de prueba: 10000\n"
          ]
        }
      ],
      "source": [
        "# Definir las transformaciones para las imágenes\n",
        "from torchvision import datasets, transforms\n",
        "import torch.utils.data\n",
        "\n",
        "# Definir las transformaciones para el conjunto de datos FashionMNIST\n",
        "transform = transforms.Compose([\n",
        "    transforms.Resize((28, 28)),  # Redimensionar las imágenes a 28x28 píxeles para FashionMNIST\n",
        "    transforms.ToTensor(),  # Convertir las imágenes a tensores\n",
        "    transforms.Normalize([0.5], [0.5])  # Normalizar entre [-1, 1] para las imágenes en escala de grises\n",
        "])\n",
        "\n",
        "# Cargar el conjunto de datos de entrenamiento y prueba de FashionMNIST con las transformaciones\n",
        "train_data = datasets.FashionMNIST(root='./data', train=True, download=True, transform=transform)\n",
        "test_data = datasets.FashionMNIST(root='./data', train=False, download=True, transform=transform)\n",
        "\n",
        "# Mostrar la cantidad de imágenes de entrenamiento y prueba\n",
        "print(f\"Número de imágenes de entrenamiento: {len(train_data)}\")\n",
        "print(f\"Número de imágenes de prueba: {len(test_data)}\")"
      ]
    },
    {
      "cell_type": "code",
      "execution_count": 39,
      "metadata": {
        "id": "-qkHfbG1H2TB"
      },
      "outputs": [],
      "source": [
        "# Function to handle dataset limiting (not needed for FashionMNIST, so keeping it as is but it won't be used directly)\n",
        "def limit_dataset_size(root_dir, max_per_class=6000):\n",
        "    # Dictionary to store paths of selected images by class\n",
        "    limited_dataset = []\n",
        "\n",
        "    # Iterate through subfolders in root_dir (each subfolder is a class)\n",
        "    for class_name in os.listdir(root_dir):\n",
        "        class_dir = os.path.join(root_dir, class_name)\n",
        "        if os.path.isdir(class_dir):\n",
        "            # Get all images in the subfolder\n",
        "            all_images = os.listdir(class_dir)\n",
        "            # Filter to get only images, excluding other file types\n",
        "            all_images = [os.path.join(class_name, img) for img in all_images if img.endswith(('.png', '.jpg', '.jpeg'))]\n",
        "            # Randomly select 6000 images\n",
        "            selected_images = random.sample(all_images, min(len(all_images), max_per_class))\n",
        "            limited_dataset.extend(selected_images)\n",
        "\n",
        "    return limited_dataset"
      ]
    },
    {
      "cell_type": "code",
      "execution_count": 40,
      "metadata": {
        "colab": {
          "base_uri": "https://localhost:8080/"
        },
        "id": "H3Dd71InH5Ty",
        "outputId": "e6d8a7f3-3fe5-4710-a78c-169ae74e7b4e"
      },
      "outputs": [
        {
          "output_type": "stream",
          "name": "stdout",
          "text": [
            "Número total de imágenes en el nuevo conjunto de entrenamiento: 60000\n",
            "Distribución de imágenes por clase: Counter({9: 6000, 0: 6000, 3: 6000, 2: 6000, 7: 6000, 5: 6000, 1: 6000, 6: 6000, 4: 6000, 8: 6000})\n"
          ]
        }
      ],
      "source": [
        "# For FashionMNIST, we don't need a custom dataset class to limit size.\n",
        "# The train_data loaded in the previous cell is already the full dataset.\n",
        "\n",
        "# Verify the number of images in the training set (already done in the previous cell)\n",
        "print(f\"Número total de imágenes en el nuevo conjunto de entrenamiento: {len(train_data)}\")\n",
        "\n",
        "# Verify the number of images per class (FashionMNIST is balanced)\n",
        "from collections import Counter\n",
        "# Get the targets from the train_data object\n",
        "class_distribution = Counter(train_data.targets.tolist())\n",
        "print(\"Distribución de imágenes por clase:\", class_distribution)"
      ]
    },
    {
      "cell_type": "code",
      "execution_count": 41,
      "metadata": {
        "colab": {
          "base_uri": "https://localhost:8080/"
        },
        "id": "HWDkI2v7H9S5",
        "outputId": "beae5547-93e1-4c66-8571-8235adb9eed6"
      },
      "outputs": [
        {
          "output_type": "stream",
          "name": "stdout",
          "text": [
            "Clases en el conjunto de entrenamiento: ['T-shirt/top', 'Trouser', 'Pullover', 'Dress', 'Coat', 'Sandal', 'Shirt', 'Sneaker', 'Bag', 'Ankle boot']\n",
            "Cantidad de clases: 10\n"
          ]
        }
      ],
      "source": [
        "# 1. Ver las etiquetas del dataset (clases):\n",
        "# Ver las classes del dataset (etiquetas) for FashionMNIST\n",
        "print(f\"Clases en el conjunto de entrenamiento: {train_data.classes}\")\n",
        "print(f\"Cantidad de clases: {len(train_data.classes)}\")"
      ]
    },
    {
      "cell_type": "code",
      "execution_count": 42,
      "metadata": {
        "colab": {
          "base_uri": "https://localhost:8080/"
        },
        "id": "CPcWQPvjIF3Q",
        "outputId": "ae09b740-2a77-4dc4-dd7c-bf100f1b312b"
      },
      "outputs": [
        {
          "output_type": "stream",
          "name": "stdout",
          "text": [
            "Número total de imágenes en el conjunto de entrenamiento: 60000\n",
            "Número de clases: 10\n",
            "Clase 'Ankle boot' tiene 6000 imágenes\n",
            "Clase 'T-shirt/top' tiene 6000 imágenes\n",
            "Clase 'Dress' tiene 6000 imágenes\n",
            "Clase 'Pullover' tiene 6000 imágenes\n",
            "Clase 'Sneaker' tiene 6000 imágenes\n",
            "Clase 'Sandal' tiene 6000 imágenes\n",
            "Clase 'Trouser' tiene 6000 imágenes\n",
            "Clase 'Shirt' tiene 6000 imágenes\n",
            "Clase 'Coat' tiene 6000 imágenes\n",
            "Clase 'Bag' tiene 6000 imágenes\n"
          ]
        }
      ],
      "source": [
        "import torch\n",
        "from collections import Counter\n",
        "\n",
        "# Verify the total number of images in the training set\n",
        "num_total_images = len(train_data)\n",
        "print(f\"Número total de imágenes en el conjunto de entrenamiento: {num_total_images}\")\n",
        "\n",
        "# Verify the number of classes (labels) for FashionMNIST\n",
        "num_classes = len(train_data.classes)\n",
        "print(f\"Número de clases: {num_classes}\")\n",
        "\n",
        "# Get the labels of all images (train_data.targets has the labels for each image)\n",
        "class_distribution = Counter(train_data.targets.tolist())\n",
        "\n",
        "# Show how many images are in each class\n",
        "for class_idx, count in class_distribution.items():\n",
        "    print(f\"Clase '{train_data.classes[class_idx]}' tiene {count} imágenes\")"
      ]
    },
    {
      "cell_type": "code",
      "execution_count": 43,
      "metadata": {
        "colab": {
          "base_uri": "https://localhost:8080/",
          "height": 402
        },
        "id": "5lp4KxDpL0xD",
        "outputId": "0898278d-ff37-40bd-e1e5-9c07cccdf74d"
      },
      "outputs": [
        {
          "output_type": "display_data",
          "data": {
            "text/plain": [
              "<Figure size 1000x500 with 10 Axes>"
            ],
            "image/png": "[encoded data removed]"
          },
          "metadata": {}
        }
      ],
      "source": [
        "import random\n",
        "import matplotlib.pyplot as plt\n",
        "import numpy as np\n",
        "\n",
        "# Get the classes from the dataset\n",
        "classes = train_data.classes\n",
        "\n",
        "# Convert images and labels to numpy arrays for easier processing\n",
        "def imshow(img):\n",
        "    img = img / 2 + 0.5     # Desnormalize\n",
        "    npimg = img.numpy()\n",
        "    # FashionMNIST is grayscale, so we handle it differently\n",
        "    if npimg.shape[0] == 1:\n",
        "        npimg = np.transpose(npimg, (1, 2, 0))[:, :, 0] # Remove the single channel dimension\n",
        "    else:\n",
        "        npimg = np.transpose(npimg, (1, 2, 0))\n",
        "    return npimg\n",
        "\n",
        "# Show 10 random images\n",
        "plt.figure(figsize=(10, 5))\n",
        "for i in range(10):\n",
        "    plt.subplot(2, 5, i + 1)\n",
        "    index = random.randint(0, len(train_data) - 1)\n",
        "    img, label = train_data[index]\n",
        "    plt.imshow(imshow(img), cmap='gray') # Use gray colormap for grayscale images\n",
        "    plt.title(classes[label])\n",
        "    plt.axis('off')\n",
        "\n",
        "plt.show()"
      ]
    },
    {
      "cell_type": "markdown",
      "metadata": {
        "id": "_aspzm1KmttH"
      },
      "source": [
        "El dataset está formado por 6000 imágenes de baja resolución (50 x 50 píxeles, con tres canales de colores) y contiene 10 tipos prentas"
      ]
    },
    {
      "cell_type": "code",
      "execution_count": 44,
      "metadata": {
        "id": "mQbp3CFL1Hst"
      },
      "outputs": [],
      "source": [
        "# Define a custom class for the dataset that normalizes to [-1, 1] (already handled by transform)\n",
        "# We can just use the loaded train_data directly with the DataLoader\n",
        "class Prendas(torch.utils.data.Dataset):\n",
        "    def __init__(self, dataset):\n",
        "        self.imgs = torch.stack([img[0] for img in dataset])  # Load images as tensors\n",
        "        # Normalization to [-1, 1] is done in the transform\n",
        "        self.labels = torch.tensor([img[1] for img in dataset], dtype=torch.long)  # Image labels\n",
        "\n",
        "    def __len__(self):\n",
        "        return len(self.imgs)\n",
        "\n",
        "    def __getitem__(self, idx):\n",
        "        return self.imgs[idx], self.labels[idx]"
      ]
    },
    {
      "cell_type": "code",
      "execution_count": 45,
      "metadata": {
        "id": "IxG0WzM81KA2"
      },
      "outputs": [],
      "source": [
        "# We don't need to create a separate normalized dataset class for FashionMNIST\n",
        "# The normalization is done in the transform when loading the data.\n",
        "# We will use the original 'train_data' with the DataLoader.\n",
        "train_dataset = train_data"
      ]
    },
    {
      "cell_type": "code",
      "execution_count": 46,
      "metadata": {
        "id": "bfM3xlPT1XLY"
      },
      "outputs": [],
      "source": [
        "# Split images into batches\n",
        "dataloader = torch.utils.data.DataLoader(train_dataset, batch_size=32, shuffle=True)"
      ]
    },
    {
      "cell_type": "markdown",
      "metadata": {
        "id": "bH_Cv5e90qek"
      },
      "source": [
        "#**MODELO DCGANs**"
      ]
    },
    {
      "cell_type": "markdown",
      "metadata": {
        "id": "up0WzC2nuost"
      },
      "source": [
        "2. Definir el Generador (Generator)\n",
        "Ahora, ajustamos el generador para manejar imágenes a color (3 canales) de tamaño 50x50"
      ]
    },
    {
      "cell_type": "code",
      "execution_count": 47,
      "metadata": {
        "id": "GYhXoOGuus1M"
      },
      "outputs": [],
      "source": [
        "import torch.nn as nn\n",
        "\n",
        "class Generator(nn.Module):\n",
        "    def __init__(self):\n",
        "        super().__init__()\n",
        "        self.input_size = 100  # Size of the random input vector (latent vector)\n",
        "\n",
        "        self.inp = nn.Sequential(\n",
        "            nn.Linear(self.input_size, 7*7*256),  # Transform the input vector to a 7x7x256 feature map for 28x28 output\n",
        "            nn.BatchNorm1d(7*7*256),  # Batch normalization for stable training\n",
        "            nn.ReLU(True)\n",
        "        )\n",
        "\n",
        "        self.main = nn.Sequential(\n",
        "            # First deconvolutional layer: 7x7x256 -> 14x14x128\n",
        "            nn.ConvTranspose2d(256, 128, 4, stride=2, padding=1, bias=False),\n",
        "            nn.BatchNorm2d(128),\n",
        "            nn.ReLU(True),\n",
        "\n",
        "            # Second deconvolutional layer: 14x14x128 -> 28x28x64\n",
        "            nn.ConvTranspose2d(128, 64, 4, stride=2, padding=1, bias=False),\n",
        "            nn.BatchNorm2d(64),\n",
        "            nn.ReLU(True),\n",
        "\n",
        "            # Third deconvolutional layer: 28x28x64 -> 28x28x1 (Grayscale)\n",
        "            nn.ConvTranspose2d(64, 1, 3, stride=1, padding=1, bias=False), # Adjusted kernel size and stride for 28x28 output\n",
        "            nn.Tanh()  # Normalize the output to a [-1, 1] range\n",
        "        )\n",
        "\n",
        "    def forward(self, x):\n",
        "        x = self.inp(x)\n",
        "        x = x.view(-1, 256, 7, 7)  # Reshape for 7x7 input with 256 channels\n",
        "        x = self.main(x)\n",
        "        return x"
      ]
    },
    {
      "cell_type": "code",
      "execution_count": 48,
      "metadata": {
        "colab": {
          "base_uri": "https://localhost:8080/"
        },
        "id": "LR2UaGBF2N8l",
        "outputId": "438fdaa5-eacb-450e-8cdf-c9cd09731e83"
      },
      "outputs": [
        {
          "output_type": "stream",
          "name": "stdout",
          "text": [
            "torch.Size([64, 1, 28, 28])\n"
          ]
        }
      ],
      "source": [
        "# Verify the output size\n",
        "generator = Generator()\n",
        "output = generator(torch.randn(64, 100))\n",
        "print(output.shape)"
      ]
    },
    {
      "cell_type": "markdown",
      "metadata": {
        "id": "1G3VfjtAu6p9"
      },
      "source": [
        "###3. Definir el Discriminador (Discriminator)\n",
        "Modificamos el discriminador para aceptar imágenes a color de tamaño 50x50:"
      ]
    },
    {
      "cell_type": "code",
      "execution_count": 49,
      "metadata": {
        "id": "OYEn586UvCXV"
      },
      "outputs": [],
      "source": [
        "import torch\n",
        "import torch.nn as nn\n",
        "\n",
        "class Discriminator(nn.Module):\n",
        "    def __init__(self):\n",
        "        super().__init__()\n",
        "        self.main = nn.Sequential(\n",
        "            # First convolutional layer: 28x28x1 -> 14x14x64\n",
        "            nn.Conv2d(1, 64, 4, stride=2, padding=1, bias=False), # Input channels changed to 1\n",
        "            nn.LeakyReLU(0.2, inplace=True),\n",
        "\n",
        "            # Second convolutional layer: 14x14x64 -> 7x7x128\n",
        "            nn.Conv2d(64, 128, 4, stride=2, padding=1, bias=False),\n",
        "            nn.BatchNorm2d(128),\n",
        "            nn.LeakyReLU(0.2, inplace=True),\n",
        "\n",
        "            # Third convolutional layer: 7x7x128 -> 4x4x256\n",
        "            nn.Conv2d(128, 256, 3, stride=2, padding=1, bias=False), # Adjusted kernel size\n",
        "            nn.BatchNorm2d(256),\n",
        "            nn.LeakyReLU(0.2, inplace=True),\n",
        "\n",
        "            # Fourth convolutional layer: 4x4x256 -> 2x2x512 (or similar depending on padding/stride)\n",
        "            # Let's adjust the last conv layer for 4x4 to 1x1 output\n",
        "            nn.Conv2d(256, 512, 4, stride=1, padding=0, bias=False), # Adjusted kernel size and padding for 1x1 output\n",
        "            nn.BatchNorm2d(512),\n",
        "            nn.LeakyReLU(0.2, inplace=True)\n",
        "        )\n",
        "\n",
        "        self.out = nn.Sequential(\n",
        "            # Linear layer for classification\n",
        "            nn.Linear(512*1*1, 1),  # Flatten the output tensor from the convolutional layer (now 1x1x512)\n",
        "            nn.Sigmoid()  # Output between 0 and 1\n",
        "        )\n",
        "\n",
        "    def forward(self, x):\n",
        "        x = self.main(x)  # Pass the input through the convolutional layers\n",
        "        x = x.view(x.size(0), -1)  # Flatten the tensor\n",
        "        x = self.out(x)  # Pass through the final linear layer\n",
        "        return x"
      ]
    },
    {
      "cell_type": "code",
      "execution_count": 50,
      "metadata": {
        "colab": {
          "base_uri": "https://localhost:8080/"
        },
        "id": "_wu73_hh2wr0",
        "outputId": "a6450a50-74aa-4d3a-b5c3-a1c71abef09a"
      },
      "outputs": [
        {
          "output_type": "stream",
          "name": "stdout",
          "text": [
            "torch.Size([64, 1])\n"
          ]
        }
      ],
      "source": [
        "discriminator = Discriminator()\n",
        "# Adjust the input size to match FashionMNIST images (grayscale 28x28)\n",
        "output = discriminator(torch.randn(64, 1, 28, 28))\n",
        "print(output.shape)"
      ]
    },
    {
      "cell_type": "markdown",
      "metadata": {
        "id": "l5StKBi1vG81"
      },
      "source": [
        "###4. Definimos el Proceso de Entrenamiento\n",
        "Configuramos el bucle de entrenamiento, la función de pérdida y los optimizadores:"
      ]
    },
    {
      "cell_type": "code",
      "execution_count": 51,
      "metadata": {
        "id": "IJeF8KtLvKmU"
      },
      "outputs": [],
      "source": [
        "from fastprogress import master_bar, progress_bar\n",
        "import numpy as np\n",
        "import os\n",
        "\n",
        "def fit(g, d, dataloader, epochs=100, crit=None, checkpoint_dir='/content/drive/MyDrive/SIS421-IA2/Laboratorios/LAB-04/', save_interval=5):\n",
        "    g.to(device)\n",
        "    d.to(device)\n",
        "\n",
        "    g_optimizer = torch.optim.Adam(g.parameters(), lr=3e-4)\n",
        "    d_optimizer = torch.optim.Adam(d.parameters(), lr=3e-4)\n",
        "\n",
        "    crit = nn.BCEWithLogitsLoss() if crit is None else crit\n",
        "\n",
        "    g_loss, d_loss = [], []\n",
        "    mb = master_bar(range(1, epochs+1))\n",
        "    hist = {'g_loss': [], 'd_loss': []}\n",
        "\n",
        "    # Create the checkpoint directory if it doesn't exist\n",
        "    if not os.path.exists(checkpoint_dir):\n",
        "        os.makedirs(checkpoint_dir)\n",
        "\n",
        "    for epoch in mb:\n",
        "        for X, _ in progress_bar(dataloader, parent=mb):\n",
        "            X = X.to(device)  # Ensure real images go to the device\n",
        "\n",
        "            # Train the discriminator\n",
        "            g.eval()\n",
        "            d.train()\n",
        "\n",
        "            # Generate a batch of fake images\n",
        "            noise = torch.randn((X.size(0), g.input_size)).to(device)  # Noise vector\n",
        "            generated_images = g(noise)  # Generate fake images\n",
        "\n",
        "            # Concatenate real and generated images for the discriminator\n",
        "            d_input = torch.cat([generated_images, X], dim=0)\n",
        "            # Create labels: 0 for fake images and 1 for real images\n",
        "            d_gt = torch.cat([torch.zeros(X.size(0)), torch.ones(X.size(0))]).view(-1, 1).to(device)\n",
        "\n",
        "            # Optimize the discriminator\n",
        "            d_optimizer.zero_grad()\n",
        "            d_output = d(d_input)\n",
        "            d_l = crit(d_output, d_gt)\n",
        "            d_l.backward()\n",
        "            d_optimizer.step()\n",
        "            d_loss.append(d_l.item())\n",
        "\n",
        "            # Train the generator\n",
        "            g.train()\n",
        "            d.eval()\n",
        "\n",
        "            # Generate a new batch of fake images\n",
        "            noise = torch.randn((X.size(0), g.input_size)).to(device)\n",
        "            generated_images = g(noise)\n",
        "\n",
        "            # Pass the fake images through the discriminator\n",
        "            d_output = d(generated_images)\n",
        "            # Generator's goal: fool the discriminator, so we use \"real\" labels (1)\n",
        "            g_gt = torch.ones(X.size(0)).view(-1, 1).to(device)\n",
        "\n",
        "            # Optimize the generator\n",
        "            g_optimizer.zero_grad()\n",
        "            g_l = crit(d_output, g_gt)\n",
        "            g_l.backward()\n",
        "            g_optimizer.step()\n",
        "            g_loss.append(g_l.item())\n",
        "\n",
        "            # Progress logs\n",
        "            mb.child.comment = f'g_loss {np.mean(g_loss):.5f} d_loss {np.mean(d_loss):.5f}'\n",
        "        mb.write(f'Epoch {epoch}/{epochs} g_loss {np.mean(g_loss):.5f} d_loss {np.mean(d_loss):.5f}')\n",
        "        hist['g_loss'].append(np.mean(g_loss))\n",
        "        hist['d_loss'].append(np.mean(d_loss))\n",
        "\n",
        "\n",
        "        # Save a checkpoint every 'save_interval' epochs\n",
        "        if epoch % save_interval == 0:\n",
        "            torch.save({\n",
        "                'epoch': epoch,\n",
        "                'generator_state_dict': g.state_dict(),\n",
        "                'discriminator_state_dict': d.state_dict(),\n",
        "                'g_optimizer_state_dict': g_optimizer.state_dict(),\n",
        "                'd_optimizer_state_dict': d_loss\n",
        "            }, os.path.join(checkpoint_dir, f'GANs_modelo_{epoch}.pth'))\n",
        "\n",
        "    return hist"
      ]
    },
    {
      "cell_type": "code",
      "execution_count": null,
      "metadata": {
        "colab": {
          "base_uri": "https://localhost:8080/",
          "height": 478
        },
        "id": "IVntp3UGFnZc",
        "outputId": "db56796d-2c17-448d-c0ac-15303762f605"
      },
      "outputs": [
        {
          "output_type": "display_data",
          "data": {
            "text/plain": [
              "<IPython.core.display.HTML object>"
            ],
            "text/html": [
              "\n",
              "<style>\n",
              "    /* Turns off some styling */\n",
              "    progress {\n",
              "        /* gets rid of default border in Firefox and Opera. */\n",
              "        border: none;\n",
              "        /* Needs to be in here for Safari polyfill so background images work as expected. */\n",
              "        background-size: auto;\n",
              "    }\n",
              "    progress:not([value]), progress:not([value])::-webkit-progress-bar {\n",
              "        background: repeating-linear-gradient(45deg, #7e7e7e, #7e7e7e 10px, #5c5c5c 10px, #5c5c5c 20px);\n",
              "    }\n",
              "    .progress-bar-interrupted, .progress-bar-interrupted::-webkit-progress-bar {\n",
              "        background: #F44336;\n",
              "    }\n",
              "</style>\n"
            ]
          },
          "metadata": {}
        },
        {
          "output_type": "display_data",
          "data": {
            "text/plain": [
              "<IPython.core.display.HTML object>"
            ],
            "text/html": [
              "\n",
              "    <div>\n",
              "      <progress value='18' class='' max='100' style='width:300px; height:20px; vertical-align: middle;'></progress>\n",
              "      18.00% [18/100 17:20&lt;1:18:59]\n",
              "    </div>\n",
              "    \n",
              "Epoch 1/100 g_loss 9.59467 d_loss 0.00453<p>Epoch 2/100 g_loss 10.04815 d_loss 0.00271<p>Epoch 3/100 g_loss 10.62942 d_loss 0.00181<p>Epoch 4/100 g_loss 11.17569 d_loss 0.00136<p>Epoch 5/100 g_loss 11.46531 d_loss 0.00114<p>Epoch 6/100 g_loss 11.80786 d_loss 0.00095<p>Epoch 7/100 g_loss 12.18877 d_loss 0.00081<p>Epoch 8/100 g_loss 12.61874 d_loss 0.00071<p>Epoch 9/100 g_loss 13.05142 d_loss 0.00063<p>Epoch 10/100 g_loss 12.86121 d_loss 0.00088<p>Epoch 11/100 g_loss 12.75723 d_loss 0.00080<p>Epoch 12/100 g_loss 12.79532 d_loss 0.00073<p>Epoch 13/100 g_loss 12.88538 d_loss 0.00068<p>Epoch 14/100 g_loss 13.01057 d_loss 0.00063<p>Epoch 15/100 g_loss 13.20014 d_loss 0.00059<p>Epoch 16/100 g_loss 13.41866 d_loss 0.00055<p>Epoch 17/100 g_loss 13.66555 d_loss 0.00052<p>Epoch 18/100 g_loss 13.61193 d_loss 0.00093<p>\n",
              "\n",
              "    <div>\n",
              "      <progress value='1492' class='' max='1875' style='width:300px; height:20px; vertical-align: middle;'></progress>\n",
              "      79.57% [1492/1875 00:50&lt;00:12 g_loss 13.44068 d_loss 0.00089]\n",
              "    </div>\n",
              "    "
            ]
          },
          "metadata": {}
        }
      ],
      "source": [
        "# Ejecuta el entrenamiento\n",
        "device = torch.device('cuda' if torch.cuda.is_available() else 'cpu')\n",
        "hist = fit(generator, discriminator, dataloader, crit=torch.nn.BCELoss())"
      ]
    },
    {
      "cell_type": "markdown",
      "metadata": {
        "id": "ZCWeC1UDcNLt"
      },
      "source": [
        "## CONTINUANDO CON EL ENTRENAMIENTO"
      ]
    },
    {
      "cell_type": "code",
      "execution_count": null,
      "metadata": {
        "id": "ykN766VRcZvF"
      },
      "outputs": [],
      "source": [
        "from fastprogress import master_bar, progress_bar\n",
        "\n",
        "def load_checkpoint(checkpoint_path, g, d, g_optimizer, d_optimizer):\n",
        "    checkpoint = torch.load(checkpoint_path)\n",
        "    g.load_state_dict(checkpoint['generator_state_dict'])\n",
        "    d.load_state_dict(checkpoint['discriminator_state_dict'])\n",
        "    g_optimizer.load_state_dict(checkpoint['g_optimizer_state_dict'])\n",
        "    d_optimizer.load_state_dict(checkpoint['d_optimizer_state_dict'])\n",
        "    start_epoch = checkpoint['epoch'] + 1  # Reanudar desde el siguiente epoch\n",
        "    g_loss = checkpoint['g_loss']\n",
        "    d_loss = checkpoint['d_loss']\n",
        "    return start_epoch, g_loss, d_loss\n"
      ]
    },
    {
      "cell_type": "code",
      "execution_count": null,
      "metadata": {
        "id": "cSKQXY9wcf3B"
      },
      "outputs": [],
      "source": [
        "from fastprogress import master_bar, progress_bar\n",
        "import numpy as np\n",
        "import os\n",
        "\n",
        "def load_checkpoint(checkpoint_path, g, d, g_optimizer, d_optimizer):\n",
        "    checkpoint = torch.load(checkpoint_path)\n",
        "    g.load_state_dict(checkpoint['generator_state_dict'])\n",
        "    d.load_state_dict(checkpoint['discriminator_state_dict'])\n",
        "    g_optimizer.load_state_dict(checkpoint['g_optimizer_state_dict'])\n",
        "    d_optimizer.load_state_dict(checkpoint['d_optimizer_state_dict'])\n",
        "    start_epoch = checkpoint['epoch'] + 1  # Resume from the next epoch\n",
        "    g_loss = checkpoint['g_loss']\n",
        "    d_loss = checkpoint['d_loss']\n",
        "    return start_epoch, g_loss, d_loss\n",
        "\n",
        "def fit(g, d, dataloader, epochs=100, crit=None, checkpoint_dir='/content/drive/MyDrive/SIS421-IA2/Laboratorios/LAB-04/', save_interval=5, resume_from_checkpoint=None):\n",
        "    g.to(device)\n",
        "    d.to(device)\n",
        "\n",
        "    g_optimizer = torch.optim.Adam(g.parameters(), lr=3e-4)\n",
        "    d_optimizer = torch.optim.Adam(d.parameters(), lr=3e-4)\n",
        "\n",
        "    crit = nn.BCEWithLogitsLoss() if crit is None else crit\n",
        "\n",
        "    # If resuming from a checkpoint, load the model, optimizers, and losses\n",
        "    if resume_from_checkpoint:\n",
        "        start_epoch, g_loss, d_loss = load_checkpoint(resume_from_checkpoint, g, d, g_optimizer, d_optimizer)\n",
        "    else:\n",
        "        start_epoch = 1\n",
        "        g_loss, d_loss = [], []\n",
        "\n",
        "    mb = master_bar(range(start_epoch, epochs+1))\n",
        "    hist = {'g_loss': [], 'd_loss': []}\n",
        "\n",
        "    # Create the checkpoint directory if it doesn't exist\n",
        "    if not os.path.exists(checkpoint_dir):\n",
        "        os.makedirs(checkpoint_dir)\n",
        "\n",
        "    for epoch in mb:\n",
        "        for X, _ in progress_bar(dataloader, parent=mb):\n",
        "            X = X.to(device)  # Ensure real images go to the device\n",
        "\n",
        "            # Train the discriminator\n",
        "            g.eval()\n",
        "            d.train()\n",
        "\n",
        "            # Generate a batch of fake images\n",
        "            noise = torch.randn((X.size(0), g.input_size)).to(device)  # Noise vector\n",
        "            generated_images = g(noise)  # Generate fake images\n",
        "\n",
        "            # Concatenate real and generated images for the discriminator\n",
        "            d_input = torch.cat([generated_images, X], dim=0)\n",
        "            # Create labels: 0 for fake images and 1 for real images\n",
        "            d_gt = torch.cat([torch.zeros(X.size(0)), torch.ones(X.size(0))]).view(-1, 1).to(device)\n",
        "\n",
        "            # Optimize the discriminator\n",
        "            d_optimizer.zero_grad()\n",
        "            d_output = d(d_input)\n",
        "            d_l = crit(d_output, d_gt)\n",
        "            d_l.backward()\n",
        "            d_optimizer.step()\n",
        "            d_loss.append(d_l.item())\n",
        "\n",
        "            # Train the generator\n",
        "            g.train()\n",
        "            d.eval()\n",
        "\n",
        "            # Generate a new batch of fake images\n",
        "            noise = torch.randn((X.size(0), g.input_size)).to(device)\n",
        "            generated_images = g(noise)\n",
        "\n",
        "            # Pass the fake images through the discriminator\n",
        "            d_output = d(generated_images)\n",
        "            # Generator's goal: fool the discriminator, so we use \"real\" labels (1)\n",
        "            g_gt = torch.ones(X.size(0)).view(-1, 1).to(device)\n",
        "\n",
        "            # Optimize the generator\n",
        "            g_optimizer.zero_grad()\n",
        "            g_l = crit(d_output, g_gt)\n",
        "            g_l.backward()\n",
        "            g_optimizer.step()\n",
        "            g_loss.append(g_l.item())\n",
        "\n",
        "            # Progress logs\n",
        "            mb.child.comment = f'g_loss {np.mean(g_loss):.5f} d_loss {np.mean(d_loss):.5f}'\n",
        "        mb.write(f'Epoch {epoch}/{epochs} g_loss {np.mean(g_loss):.5f} d_loss {np.mean(d_loss):.5f}')\n",
        "        hist['g_loss'].append(np.mean(g_loss))\n",
        "        hist['d_loss'].append(np.mean(d_loss))\n",
        "\n",
        "        # Save a checkpoint every 'save_interval' epochs\n",
        "        if epoch % save_interval == 0:\n",
        "            torch.save({\n",
        "                'epoch': epoch,\n",
        "                'generator_state_dict': g.state_dict(),\n",
        "                'discriminator_state_dict': d.state_dict(),\n",
        "                'g_optimizer_state_dict': g_optimizer.state_dict(),\n",
        "                'd_optimizer_state_dict': d_optimizer.state_dict(),\n",
        "                'g_loss': g_loss,\n",
        "                'd_loss': d_loss\n",
        "            }, os.path.join(checkpoint_dir, f'GANs_modelo_{epoch}.pth'))\n",
        "\n",
        "    return hist"
      ]
    },
    {
      "cell_type": "code",
      "execution_count": null,
      "metadata": {
        "id": "8K2ljZZpckpV"
      },
      "outputs": [],
      "source": [
        "# Ejecutar el entrenamiento desde el último checkpoint\n",
        "device = torch.device('cuda' if torch.cuda.is_available() else 'cpu')\n",
        "checkpoint_path = '/content/drive/MyDrive/SIS421-IA2/Laboratorios/LAB-04/GANs_modelo_40.pth'  # Cambia esto por tu último checkpoint guardado\n",
        "hist = fit(generator, discriminator, dataloader, crit=torch.nn.BCELoss(), resume_from_checkpoint=checkpoint_path)"
      ]
    },
    {
      "cell_type": "code",
      "execution_count": null,
      "metadata": {
        "id": "cIZI_aFRENWt"
      },
      "outputs": [],
      "source": [
        "def fit(g, d, dataloader, epochs=100, crit=None, checkpoint_dir='/content/drive/MyDrive/SIS421-IA2/Laboratorios/LAB-04', save_interval=5, resume_from_checkpoint=None):\n",
        "    g.to(device)\n",
        "    d.to(device)\n",
        "\n",
        "    g_optimizer = torch.optim.Adam(g.parameters(), lr=3e-4)\n",
        "    d_optimizer = torch.optim.Adam(d.parameters(), lr=3e-4)\n",
        "\n",
        "    crit = nn.BCEWithLogitsLoss() if crit is None else crit\n",
        "\n",
        "    # Si se retoma desde un checkpoint, cargar el modelo, optimizadores y pérdidas\n",
        "    if resume_from_checkpoint:\n",
        "        start_epoch, g_loss, d_loss = load_checkpoint(resume_from_checkpoint, g, d, g_optimizer, d_optimizer)\n",
        "    else:\n",
        "        start_epoch = 1\n",
        "        g_loss, d_loss = [], []\n",
        "\n",
        "    mb = master_bar(range(start_epoch, epochs+1))\n",
        "    hist = {'g_loss': [], 'd_loss': []}\n",
        "\n",
        "    # Crear el directorio de checkpoints si no existe\n",
        "    if not os.path.exists(checkpoint_dir):\n",
        "        os.makedirs(checkpoint_dir)\n",
        "\n",
        "    for epoch in mb:\n",
        "        for X, _ in progress_bar(dataloader, parent=mb):\n",
        "            X = X.to(device)  # Aseguramos que las imágenes reales vayan al dispositivo\n",
        "\n",
        "            # Entrenamos el discriminador\n",
        "            g.eval()\n",
        "            d.train()\n",
        "\n",
        "            # Generamos un batch de imágenes falsas\n",
        "            noise = torch.randn((X.size(0), g.input_size)).to(device)  # Vector de ruido\n",
        "            generated_images = g(noise)  # Generamos imágenes falsas\n",
        "\n",
        "            # Concatenamos imágenes reales y generadas para el discriminador\n",
        "            d_input = torch.cat([generated_images, X], dim=0)\n",
        "            # Creamos etiquetas: 0 para imágenes falsas y 1 para reales\n",
        "            d_gt = torch.cat([torch.zeros(X.size(0)), torch.ones(X.size(0))]).view(-1, 1).to(device)\n",
        "\n",
        "            # Optimizamos el discriminador\n",
        "            d_optimizer.zero_grad()\n",
        "            d_output = d(d_input)\n",
        "            d_l = crit(d_output, d_gt)\n",
        "            d_l.backward()\n",
        "            d_optimizer.step()\n",
        "            d_loss.append(d_l.item())\n",
        "\n",
        "            # Entrenamos el generador\n",
        "            g.train()\n",
        "            d.eval()\n",
        "\n",
        "            # Generamos un nuevo batch de imágenes falsas\n",
        "            noise = torch.randn((X.size(0), g.input_size)).to(device)\n",
        "            generated_images = g(noise)\n",
        "\n",
        "            # Pasamos las imágenes falsas por el discriminador\n",
        "            d_output = d(generated_images)\n",
        "            # Objetivo del generador: engañar al discriminador, por eso usamos etiquetas de \"reales\" (1)\n",
        "            g_gt = torch.ones(X.size(0)).view(-1, 1).to(device)\n",
        "\n",
        "            # Optimizamos el generador\n",
        "            g_optimizer.zero_grad()\n",
        "            g_l = crit(d_output, g_gt)\n",
        "            g_l.backward()\n",
        "            g_optimizer.step()\n",
        "            g_loss.append(g_l.item())\n",
        "\n",
        "            # Logs de progreso\n",
        "            mb.child.comment = f'g_loss {np.mean(g_loss):.5f} d_loss {np.mean(d_loss):.5f}'\n",
        "        mb.write(f'Epoch {epoch}/{epochs} g_loss {np.mean(g_loss):.5f} d_loss {np.mean(d_loss):.5f}')\n",
        "        hist['g_loss'].append(np.mean(g_loss))\n",
        "        hist['d_loss'].append(np.mean(d_loss))\n",
        "\n",
        "        # Guardar un checkpoint cada 'save_interval' épocas\n",
        "        if epoch % save_interval == 0:\n",
        "            torch.save({\n",
        "                'epoch': epoch,\n",
        "                'generator_state_dict': g.state_dict(),\n",
        "                'discriminator_state_dict': d.state_dict(),\n",
        "                'g_optimizer_state_dict': g_optimizer.state_dict(),\n",
        "                'd_optimizer_state_dict': d_optimizer.state_dict(),\n",
        "                'g_loss': g_loss,\n",
        "                'd_loss': d_loss\n",
        "            }, os.path.join(checkpoint_dir, f'GANs_modelo_{epoch}.pth'))\n",
        "\n",
        "    return hist"
      ]
    },
    {
      "cell_type": "code",
      "execution_count": null,
      "metadata": {
        "id": "DYedGHsNEQkH"
      },
      "outputs": [],
      "source": [
        "# Ejecutar el entrenamiento desde el último checkpoint\n",
        "device = torch.device('cuda' if torch.cuda.is_available() else 'cpu')\n",
        "checkpoint_path = '/content/drive/MyDrive/SIS421-IA2/Laboratorios/LAB-04/GANs_modelo_40.pth'  # Cambia esto por tu último checkpoint guardado\n",
        "hist = fit(generator, discriminator, dataloader, crit=torch.nn.BCELoss(), resume_from_checkpoint=checkpoint_path)"
      ]
    },
    {
      "cell_type": "markdown",
      "metadata": {
        "id": "JES54RrJU8Vx"
      },
      "source": [
        "##EVALUACIÓN DE LOS MODELOS\n",
        "\n",
        "###Cargamos los modelos guardados para verificar el mejor medelo."
      ]
    },
    {
      "cell_type": "code",
      "execution_count": null,
      "metadata": {
        "id": "Wtz7GKT9U7J7"
      },
      "outputs": [],
      "source": [
        "\n",
        "import torch\n",
        "\n",
        "# Cargar un model dado\n",
        "def load_model(checkpoint_path, g, d, g_optimizer, d_optimizer):\n",
        "    mo1del = torch.load(checkpoint_path)\n",
        "    g.load_state_dict(mo1del['generator_state_dict'])\n",
        "    d.load_state_dict(mo1del['discriminator_state_dict'])\n",
        "    g_optimizer.load_state_dict(mo1del['g_optimizer_state_dict'])\n",
        "    d_optimizer.load_state_dict(mo1del['d_optimizer_state_dict'])\n",
        "    epoch = mo1del['epoch']\n",
        "    g_loss = mo1del['g_loss']\n",
        "    d_loss = mo1del['d_loss']\n",
        "    print(f\"Checkpoint loaded from epoch {epoch}\")\n",
        "    return epoch, g_loss, d_loss"
      ]
    },
    {
      "cell_type": "code",
      "execution_count": null,
      "metadata": {
        "id": "gWleQc0AVfMT"
      },
      "outputs": [],
      "source": [
        "import matplotlib.pyplot as plt\n",
        "import torch\n",
        "\n",
        "def generate_and_plot_images(g, num_images=5):\n",
        "    g.eval()  # Evaluation mode\n",
        "    noise = torch.randn(num_images, g.input_size).to(device)\n",
        "    with torch.no_grad():\n",
        "        generated_images = g(noise).cpu()\n",
        "\n",
        "    # Show the generated images\n",
        "    fig, axs = plt.subplots(1, num_images, figsize=(num_images * 3, 3))\n",
        "    for i in range(num_images):\n",
        "        img = generated_images[i].squeeze().permute(1, 0)  # Remove channel dimension for grayscale\n",
        "        img = (img + 1) / 2  # Desnormalize if using [-1, 1]\n",
        "        axs[i].imshow(img, cmap='gray') # Use gray colormap\n",
        "        axs[i].axis('off')\n",
        "    plt.show()"
      ]
    },
    {
      "cell_type": "code",
      "execution_count": null,
      "metadata": {
        "id": "XcFdqX3lW5zi"
      },
      "outputs": [],
      "source": [
        "import torch\n",
        "import torch.optim as optim\n",
        "\n",
        "# Definir el generador y discriminador\n",
        "generator = Generator()\n",
        "discriminator = Discriminator()\n",
        "\n",
        "# Definir los optimizadores\n",
        "g_optimizer = optim.Adam(generator.parameters(), lr=3e-4, weight_decay=1e-4)\n",
        "d_optimizer = optim.Adam(discriminator.parameters(), lr=3e-4, weight_decay=1e-4)"
      ]
    },
    {
      "cell_type": "markdown",
      "metadata": {
        "id": "ZSvdKX6D4thB"
      },
      "source": [
        "Cargamos los modelos para ver los mejores valores resultados"
      ]
    },
    {
      "cell_type": "code",
      "execution_count": null,
      "metadata": {
        "id": "BCgfm8y_Vaea"
      },
      "outputs": [],
      "source": [
        "models = [\n",
        "    '/content/drive/MyDrive/SIS421-IA2/Laboratorios/LAB-04/GANs_modelo_30.pth',\n",
        "    '/content/drive/MyDrive/SIS421-IA2/Laboratorios/LAB-04/GANs_modelo_35.pth',\n",
        "    '/content/drive/MyDrive/SIS421-IA2/Laboratorios/LAB-04/GANs_modelo_40.pth'\n",
        "]\n",
        "\n",
        "for model in models:\n",
        "    epoch, g_loss, d_loss = load_model(model, generator, discriminator, g_optimizer, d_optimizer)\n",
        "    print(f\"Evaluando el checkpoint del epoch {epoch}: g_loss = {g_loss[-1]}, d_loss = {d_loss[-1]}\")\n",
        "    generate_and_plot_images(generator, num_images=5)\n"
      ]
    },
    {
      "cell_type": "code",
      "execution_count": null,
      "metadata": {
        "id": "Gj0oKS20ZKsP"
      },
      "outputs": [],
      "source": [
        "g_loss_total = []\n",
        "d_loss_total = []\n",
        "\n",
        "for model in models:\n",
        "    epoch, g_loss, d_loss = load_model(model, generator, discriminator, g_optimizer, d_optimizer)\n",
        "    g_loss_total.extend(g_loss)  # Agregar las pérdidas del generador\n",
        "    d_loss_total.extend(d_loss)  # Agregar las pérdidas del discriminador"
      ]
    },
    {
      "cell_type": "markdown",
      "metadata": {
        "id": "qVK7_eRL453U"
      },
      "source": [
        "Graficamos los Loss tanto para Generador y Discriminador."
      ]
    },
    {
      "cell_type": "code",
      "execution_count": null,
      "metadata": {
        "id": "tHIXC7dlaW1h"
      },
      "outputs": [],
      "source": [
        "import matplotlib.pyplot as plt\n",
        "import pandas as pd\n",
        "\n",
        "# Crear un DataFrame con las pérdidas totales\n",
        "df = pd.DataFrame({\n",
        "    'g_loss': g_loss_total,\n",
        "    'd_loss': d_loss_total\n",
        "})\n",
        "\n",
        "# Graficar los `loss` del generador y discriminador\n",
        "plt.figure(figsize=(10,6))\n",
        "plt.plot(df['g_loss'], label='Generador Loss', color='blue')\n",
        "plt.plot(df['d_loss'], label='Discriminador Loss', color='red')\n",
        "plt.title('Evolución del Generador y Discriminador Loss')\n",
        "plt.xlabel('Iteraciones')\n",
        "plt.ylabel('Loss')\n",
        "plt.grid(True)\n",
        "plt.legend()\n",
        "plt.show()\n"
      ]
    },
    {
      "cell_type": "markdown",
      "metadata": {
        "id": "E9mPlYplvaIE"
      },
      "source": [
        "###5. Visualización de los Resultados\n",
        "Al finalizar el entrenamiento, visualizamos las imágenes generadas:"
      ]
    },
    {
      "cell_type": "code",
      "execution_count": null,
      "metadata": {
        "id": "ZGsExU7Nd6cm"
      },
      "outputs": [],
      "source": [
        "# Ruta del modelo que deseas cargar\n",
        "model_ = '/content/drive/MyDrive/SIS421-IA2/Laboratorios/LAB-04/GANs_modelo_35.pth'\n",
        "\n",
        "# Función para cargar el modelo\n",
        "epoch, g_loss, d_loss = load_model(model_, generator, discriminator, g_optimizer, d_optimizer)\n",
        "\n",
        "# Imprimir información del modelo cargado\n",
        "print(f\"Checkpoint del epoch {epoch} cargado: g_loss = {g_loss[-1]}, d_loss = {d_loss[-1]}\")\n"
      ]
    },
    {
      "cell_type": "code",
      "execution_count": null,
      "metadata": {
        "id": "JiWBC5_nvUMU"
      },
      "outputs": [],
      "source": [
        "import matplotlib.pyplot as plt\n",
        "import torch\n",
        "\n",
        "# Put the generator in evaluation mode\n",
        "generator.eval()\n",
        "\n",
        "# Generate images without calculating gradients\n",
        "with torch.no_grad():\n",
        "    # Create random noise to generate 10 images\n",
        "    noise = torch.randn((10, generator.input_size)).to(device)\n",
        "\n",
        "    # Generate images from the noise\n",
        "    generated_images = generator(noise)\n",
        "\n",
        "    # Configure the figure to display the images\n",
        "    fig, axs = plt.subplots(2, 5, figsize=(15, 5))\n",
        "    i = 0\n",
        "\n",
        "    # Iterate through each axis and display the images\n",
        "    for ax_row in axs:\n",
        "        for ax in ax_row:\n",
        "            # Reorganize image channels for visualization (from [C, H, W] to [H, W, C] - not needed for grayscale)\n",
        "            # Squeeze to remove the single channel dimension for grayscale images\n",
        "            img = generated_images[i].squeeze().cpu()\n",
        "\n",
        "            # Rescale image values from [-1, 1] to [0, 1] for visualization\n",
        "            ax.imshow((img + 1) / 2, cmap='gray')  # Use gray colormap\n",
        "            ax.axis('off')  # Hide axes\n",
        "            i += 1\n",
        "\n",
        "    # Show the generated images\n",
        "    plt.show()"
      ]
    },
    {
      "cell_type": "markdown",
      "metadata": {
        "id": "l7xwSJISfyhw"
      },
      "source": [
        "En este caso las imágenes generadas son un poco mejores que las que obteníamos con la GAN simple, aunque todavía hay márgen de mejora."
      ]
    }
  ],
  "metadata": {
    "accelerator": "GPU",
    "colab": {
      "gpuType": "T4",
      "provenance": []
    },
    "kernelspec": {
      "display_name": "Python 3",
      "name": "python3"
    },
    "language_info": {
      "name": "python"
    }
  },
  "nbformat": 4,
  "nbformat_minor": 0
}